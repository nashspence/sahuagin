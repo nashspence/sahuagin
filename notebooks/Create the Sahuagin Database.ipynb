{
 "cells": [
  {
   "cell_type": "markdown",
   "id": "454d1927",
   "metadata": {},
   "source": [
    "# Install Dependencies\n",
    "Install additional packages needed to run SQL command in Jupyter cells and send them to a Postgres database server."
   ]
  },
  {
   "cell_type": "markdown",
   "id": "0600e19b",
   "metadata": {},
   "source": [
    "## PostgreSQL\n",
    "Allows for a self-contained instance of PostresSQL for this notebook."
   ]
  },
  {
   "cell_type": "code",
   "execution_count": null,
   "id": "42a03f56",
   "metadata": {},
   "outputs": [],
   "source": [
    "%mamba install -y -c conda-forge postgresql=17 --quiet\n",
    "!psql --version"
   ]
  },
  {
   "cell_type": "markdown",
   "id": "eca10b5f",
   "metadata": {},
   "source": [
    "## PostgreSQL Python Extension"
   ]
  },
  {
   "cell_type": "code",
   "execution_count": null,
   "id": "950ae5bf",
   "metadata": {},
   "outputs": [],
   "source": [
    "%mamba install -y -c conda-forge postgresql-plpython=17 --quiet"
   ]
  },
  {
   "cell_type": "markdown",
   "id": "2e9b79f9",
   "metadata": {},
   "source": [
    "## PostgreSQL Adapter for Python\n",
    "Essential for connecting and interacting with PostgreSQL databases from Python code in Jupyter notebooks."
   ]
  },
  {
   "cell_type": "code",
   "execution_count": null,
   "id": "00a39a5a",
   "metadata": {
    "jupyter": {
     "source_hidden": true
    }
   },
   "outputs": [],
   "source": [
    "%mamba install -c conda-forge psycopg2 -y --quiet\n",
    "!python -c \"import psycopg2; print(psycopg2.__version__)\""
   ]
  },
  {
   "cell_type": "markdown",
   "id": "3dd205f8",
   "metadata": {},
   "source": [
    "## Language Server Protocol for Jupyter\n",
    "Enables code completion, hover documentation, and real-time syntax checking for multiple languages in Jupyter notebooks, including SQL."
   ]
  },
  {
   "cell_type": "code",
   "execution_count": null,
   "id": "d8695fc9",
   "metadata": {},
   "outputs": [],
   "source": [
    "%mamba install -c conda-forge jupyterlab-lsp -y --quiet\n",
    "!jupyter labextension list\n",
    "!jupyter server extension list"
   ]
  },
  {
   "cell_type": "markdown",
   "id": "9d51630c",
   "metadata": {},
   "source": [
    "## Language Server for Python\n",
    "Provides real-time linting, code suggestions, and auto-completion in Jupyter notebooks for Python code."
   ]
  },
  {
   "cell_type": "code",
   "execution_count": null,
   "id": "54f524e2",
   "metadata": {},
   "outputs": [],
   "source": [
    "%mamba install -c conda-forge python-lsp-server -y --quiet\n",
    "!pylsp --version"
   ]
  },
  {
   "cell_type": "markdown",
   "id": "25a1410c",
   "metadata": {},
   "source": [
    "## SQL Magic Extension for Jupyter\n",
    "Allows running SQL queries directly in Jupyter notebooks using SQL magic (%%sql). Enables seamless execution of SQL queries inside a Jupyter Notebook without switching to a database client."
   ]
  },
  {
   "cell_type": "code",
   "execution_count": null,
   "id": "9975a9cb",
   "metadata": {},
   "outputs": [],
   "source": [
    "%mamba install -c conda-forge jupysql -y --quiet\n",
    "!python -c \"import sql; print(sql.__version__)\"\n",
    "!jupyter labextension list"
   ]
  },
  {
   "cell_type": "markdown",
   "id": "43b047d9",
   "metadata": {},
   "source": [
    "## SQL Editor Extension\n",
    "Enables SQL-specific features in Jupyter notebooks, such as:\n",
    "* Syntax highlighting\n",
    "* Query auto-completion\n",
    "* Error checking"
   ]
  },
  {
   "cell_type": "code",
   "execution_count": null,
   "id": "16d489df",
   "metadata": {},
   "outputs": [],
   "source": [
    "%pip install jupyterlab_sql_editor --quiet\n",
    "!jupyter labextension list"
   ]
  },
  {
   "cell_type": "markdown",
   "id": "617aed9a",
   "metadata": {
    "jp-MarkdownHeadingCollapsed": true
   },
   "source": [
    "# Start PostgreSQL"
   ]
  },
  {
   "cell_type": "markdown",
   "id": "03c3464e",
   "metadata": {},
   "source": [
    "## Define paths and logfile"
   ]
  },
  {
   "cell_type": "code",
   "execution_count": null,
   "id": "e8d57513",
   "metadata": {},
   "outputs": [],
   "source": [
    "import os\n",
    "\n",
    "DB_DIR = \"mylocal_db\"\n",
    "LOGFILE = \"postgres_log.txt\"\n",
    "PG_HBA_PATH = os.path.join(DB_DIR, \"pg_hba.conf\")"
   ]
  },
  {
   "cell_type": "markdown",
   "id": "b9a57066",
   "metadata": {},
   "source": [
    "## Check PostgreSQL status"
   ]
  },
  {
   "cell_type": "code",
   "execution_count": null,
   "id": "9492f395",
   "metadata": {},
   "outputs": [],
   "source": [
    "!pg_ctl -D $DB_DIR status"
   ]
  },
  {
   "cell_type": "markdown",
   "id": "de7284f6",
   "metadata": {},
   "source": [
    "## Stop any existing PostgreSQL process"
   ]
  },
  {
   "cell_type": "code",
   "execution_count": null,
   "id": "0556ea23",
   "metadata": {},
   "outputs": [],
   "source": [
    "!pg_ctl stop -D $DB_DIR -m fast || echo \"Nothing to stop.\""
   ]
  },
  {
   "cell_type": "markdown",
   "id": "18242e19",
   "metadata": {},
   "source": [
    "## Initialize the database if necessary"
   ]
  },
  {
   "cell_type": "code",
   "execution_count": null,
   "id": "00979310",
   "metadata": {},
   "outputs": [],
   "source": [
    "import os\n",
    "\n",
    "if not os.path.exists(DB_DIR) or not os.path.exists(os.path.join(DB_DIR, \"PG_VERSION\")):\n",
    "    os.makedirs(DB_DIR, exist_ok=True)\n",
    "    !initdb -D $DB_DIR"
   ]
  },
  {
   "cell_type": "markdown",
   "id": "26cab865",
   "metadata": {},
   "source": [
    "## Modify pg_hba.conf to allow trust authentication for user \"notebook\""
   ]
  },
  {
   "cell_type": "code",
   "execution_count": null,
   "id": "bccaaf4a",
   "metadata": {},
   "outputs": [],
   "source": [
    "with open(PG_HBA_PATH, \"a\") as pg_hba:\n",
    "    pg_hba.write(\"\\nlocal   all             notebook                                trust\\n\")\n",
    "    pg_hba.write(\"host    all             notebook        127.0.0.1/32          trust\\n\")\n",
    "    pg_hba.write(\"host    all             notebook        ::1/128               trust\\n\")"
   ]
  },
  {
   "cell_type": "markdown",
   "id": "57b39d1a",
   "metadata": {},
   "source": [
    "## Start PostgreSQL server"
   ]
  },
  {
   "cell_type": "code",
   "execution_count": null,
   "id": "a9ebdbaf",
   "metadata": {},
   "outputs": [],
   "source": [
    "import subprocess\n",
    "import time\n",
    "import atexit\n",
    "import sys\n",
    "import os\n",
    "\n",
    "# Define paths\n",
    "conda_prefix = sys.prefix\n",
    "pg_ctl_path = os.path.join(conda_prefix, 'bin', 'pg_ctl')\n",
    "\n",
    "def stop_postgres():\n",
    "    subprocess.run([pg_ctl_path, \"-D\", DB_DIR, \"stop\"])\n",
    "\n",
    "atexit.register(stop_postgres)\n",
    "\n",
    "with open(LOGFILE, \"a\") as logfile:\n",
    "    subprocess.Popen([pg_ctl_path, \"-D\", DB_DIR, \"-l\", LOGFILE, \"start\"],\n",
    "                     stdout=logfile, stderr=logfile)\n",
    "\n",
    "time.sleep(5)"
   ]
  },
  {
   "cell_type": "markdown",
   "id": "2c905567",
   "metadata": {},
   "source": [
    "## Create the \"notebook\" user with full permissions"
   ]
  },
  {
   "cell_type": "code",
   "execution_count": null,
   "id": "1a0fa416",
   "metadata": {
    "vscode": {
     "languageId": "shellscript"
    }
   },
   "outputs": [],
   "source": [
    "!psql -d postgres -c \"CREATE USER notebook WITH SUPERUSER;\" || echo \"User already exists.\"\n",
    "!psql -d postgres -c \"ALTER USER notebook WITH PASSWORD NULL;\""
   ]
  },
  {
   "cell_type": "markdown",
   "id": "44fcff62",
   "metadata": {
    "jp-MarkdownHeadingCollapsed": true
   },
   "source": [
    "# Connect"
   ]
  },
  {
   "cell_type": "markdown",
   "id": "d6825d93",
   "metadata": {},
   "source": [
    "## Load & Configure SQLMagic"
   ]
  },
  {
   "cell_type": "code",
   "execution_count": null,
   "id": "6e8dcd5b",
   "metadata": {},
   "outputs": [],
   "source": [
    "%load_ext sql\n",
    "%config SqlMagic.displaylimit = None"
   ]
  },
  {
   "cell_type": "markdown",
   "id": "10c250dd",
   "metadata": {},
   "source": [
    "## Create Fresh sahuagin Database"
   ]
  },
  {
   "cell_type": "code",
   "execution_count": null,
   "id": "0e68c179",
   "metadata": {},
   "outputs": [],
   "source": [
    "!psql -U notebook -d postgres -c \"SELECT pg_terminate_backend(pid) FROM pg_stat_activity WHERE datname = 'sahuagin';\"\n",
    "!psql -U notebook -d postgres -c \"DROP DATABASE IF EXISTS sahuagin;\"\n",
    "!psql -U notebook -d postgres -c \"CREATE DATABASE sahuagin;\""
   ]
  },
  {
   "cell_type": "markdown",
   "id": "26cf3d20",
   "metadata": {},
   "source": [
    "## Connect to sahuagin Database"
   ]
  },
  {
   "cell_type": "code",
   "execution_count": null,
   "id": "4199fc7c-d1ca-4342-8f5f-b731790c7bcd",
   "metadata": {},
   "outputs": [],
   "source": [
    "%sql postgresql://notebook@localhost:5432/sahuagin"
   ]
  },
  {
   "cell_type": "markdown",
   "id": "30435a1a",
   "metadata": {
    "jp-MarkdownHeadingCollapsed": true
   },
   "source": [
    "# Create Tables & Types"
   ]
  },
  {
   "cell_type": "code",
   "execution_count": null,
   "id": "2758aabb",
   "metadata": {
    "vscode": {
     "languageId": "sql"
    }
   },
   "outputs": [],
   "source": [
    "%%sql\n",
    "\n",
    "CREATE EXTENSION IF NOT EXISTS plpython3u;\n",
    "CREATE EXTENSION IF NOT EXISTS citext;\n",
    "\n",
    "-- Mechanism table replaces activable, variant, variable, and space.\n",
    "-- A mechanism is defined by its programming language and serialized code.\n",
    "-- It must have a unique (non-null) name.\n",
    "DROP TABLE IF EXISTS mechanism CASCADE;\n",
    "CREATE TABLE mechanism (\n",
    "  id integer GENERATED ALWAYS AS IDENTITY PRIMARY KEY,\n",
    "  name citext NOT NULL UNIQUE,\n",
    "  serialized text NOT NULL\n",
    ");\n",
    "\n",
    "-- Activation table now links mechanisms.\n",
    "-- \"from_mechanism\" continues through an activation (by name) to the \"to_mechanism\",\n",
    "-- and the activation is defined in the context of a \"root_mechanism\".\n",
    "-- The unique constraint ensures that (from_mechanism, root_mechanism, name) is unique.\n",
    "DROP TABLE IF EXISTS activation CASCADE;\n",
    "CREATE TABLE activation (\n",
    "  id integer GENERATED ALWAYS AS IDENTITY PRIMARY KEY,\n",
    "  name citext NOT NULL,\n",
    "  from_mechanism integer NOT NULL,\n",
    "  root_mechanism integer NOT NULL,\n",
    "  to_mechanism integer NOT NULL,\n",
    "  CONSTRAINT uq_activation UNIQUE (from_mechanism, root_mechanism, name),\n",
    "  CONSTRAINT fk_activation_from FOREIGN KEY (from_mechanism)\n",
    "    REFERENCES mechanism(id) ON DELETE CASCADE,\n",
    "  CONSTRAINT fk_activation_root FOREIGN KEY (root_mechanism)\n",
    "    REFERENCES mechanism(id) ON DELETE CASCADE,\n",
    "  CONSTRAINT fk_activation_to FOREIGN KEY (to_mechanism)\n",
    "    REFERENCES mechanism(id) ON DELETE CASCADE\n",
    ");\n",
    "\n",
    "-- New table \"unmasking\"\n",
    "-- This table provides a reference between a root mechanism, an activation,\n",
    "-- and a mechanism that is being unmasked (unmasked_to_mechanism).\n",
    "DROP TABLE IF EXISTS unmasking CASCADE;\n",
    "CREATE TABLE unmasking (\n",
    "  id integer GENERATED ALWAYS AS IDENTITY PRIMARY KEY,\n",
    "  root_mechanism integer NOT NULL,\n",
    "  activation integer NOT NULL,\n",
    "  unmasked_to_mechanism integer NOT NULL,\n",
    "  CONSTRAINT fk_unmasking_root FOREIGN KEY (root_mechanism)\n",
    "    REFERENCES mechanism(id) ON DELETE CASCADE,\n",
    "  CONSTRAINT fk_unmasking_activation FOREIGN KEY (activation)\n",
    "    REFERENCES activation(id) ON DELETE CASCADE,\n",
    "  CONSTRAINT fk_unmasking_unmasked FOREIGN KEY (unmasked_to_mechanism)\n",
    "    REFERENCES mechanism(id) ON DELETE CASCADE\n",
    ");\n",
    "\n",
    "-- The entity table now associates an entity with a mechanism.\n",
    "DROP TABLE IF EXISTS entity CASCADE;\n",
    "CREATE TABLE entity (\n",
    "  id integer GENERATED ALWAYS AS IDENTITY PRIMARY KEY,\n",
    "  name citext NOT NULL,\n",
    "  mechanism integer NOT NULL,\n",
    "  CONSTRAINT fk_entity_mechanism FOREIGN KEY (mechanism)\n",
    "    REFERENCES mechanism(id) ON DELETE CASCADE\n",
    ");\n",
    "\n",
    "-- Snapshot (state) of an entity at a moment in time.\n",
    "DROP TABLE IF EXISTS state CASCADE;\n",
    "CREATE TABLE state (\n",
    "  id integer GENERATED ALWAYS AS IDENTITY PRIMARY KEY,\n",
    "  entity integer NOT NULL,\n",
    "  time double precision NOT NULL,\n",
    "  CONSTRAINT uq_state UNIQUE (entity, time),\n",
    "  CONSTRAINT fk_state_entity FOREIGN KEY (entity)\n",
    "    REFERENCES entity(id) ON DELETE CASCADE\n",
    ");\n",
    "\n",
    "-- Locked relationships between state and activation for partial re-generation.\n",
    "DROP TABLE IF EXISTS locked_activation CASCADE;\n",
    "CREATE TABLE locked_activation (\n",
    "  id integer GENERATED ALWAYS AS IDENTITY PRIMARY KEY,\n",
    "  state integer NOT NULL,\n",
    "  activation integer NOT NULL,\n",
    "  CONSTRAINT fk_locked_activation_state FOREIGN KEY (state)\n",
    "    REFERENCES state(id) ON DELETE CASCADE,\n",
    "  CONSTRAINT fk_locked_activation_activation FOREIGN KEY (activation)\n",
    "    REFERENCES activation(id) ON DELETE CASCADE\n",
    ");\n",
    "\n",
    "-- Enum indicating the type of value stored.\n",
    "DROP TYPE IF EXISTS value_type CASCADE;\n",
    "CREATE TYPE value_type AS ENUM ('string', 'number');\n",
    "\n",
    "-- Abstract value representing mechanism states.\n",
    "DROP TABLE IF EXISTS value CASCADE;\n",
    "CREATE TABLE value (\n",
    "  id integer GENERATED ALWAYS AS IDENTITY PRIMARY KEY,\n",
    "  state integer NOT NULL,\n",
    "  activation integer NOT NULL,\n",
    "  name citext NOT NULL,\n",
    "  type value_type NOT NULL,\n",
    "  CONSTRAINT fk_value_state FOREIGN KEY (state)\n",
    "    REFERENCES state(id) ON DELETE CASCADE,\n",
    "  CONSTRAINT fk_value_activation FOREIGN KEY (activation)\n",
    "    REFERENCES activation(id) ON DELETE CASCADE\n",
    ");\n",
    "\n",
    "-- Numeric value.\n",
    "DROP TABLE IF EXISTS number_value CASCADE;\n",
    "CREATE TABLE number_value (\n",
    "  value integer PRIMARY KEY,\n",
    "  serialized double precision NOT NULL,\n",
    "  CONSTRAINT fk_number_value FOREIGN KEY (value)\n",
    "    REFERENCES value(id) ON DELETE CASCADE\n",
    ");\n",
    "\n",
    "-- String value.\n",
    "DROP TABLE IF EXISTS string_value CASCADE;\n",
    "CREATE TABLE string_value (\n",
    "  value integer PRIMARY KEY,\n",
    "  serialized text NOT NULL,\n",
    "  CONSTRAINT fk_string_value FOREIGN KEY (value)\n",
    "    REFERENCES value(id) ON DELETE CASCADE\n",
    ");\n",
    "\n",
    "DROP TABLE IF EXISTS value_antecedent CASCADE;\n",
    "CREATE TABLE value_antecedent (\n",
    "    id integer GENERATED ALWAYS AS IDENTITY PRIMARY KEY,\n",
    "    value integer NOT NULL,\n",
    "    child integer NOT NULL,\n",
    "    antecedent integer NOT NULL,\n",
    "    CONSTRAINT fk_value_antecedent_value FOREIGN KEY (value)\n",
    "        REFERENCES value(id) ON DELETE CASCADE,\n",
    "    CONSTRAINT fk_value_antecedent_child FOREIGN KEY (child)\n",
    "        REFERENCES activation(id) ON DELETE CASCADE,\n",
    "    CONSTRAINT fk_value_antecedent_antecedent FOREIGN KEY (antecedent)\n",
    "        REFERENCES activation(id) ON DELETE CASCADE,\n",
    "    UNIQUE (value, child, antecedent)\n",
    ");\n",
    "\n",
    "DROP TABLE IF EXISTS locked_dependency CASCADE;\n",
    "CREATE TABLE locked_dependency (\n",
    "    id integer GENERATED ALWAYS AS IDENTITY PRIMARY KEY,\n",
    "    state integer NOT NULL,\n",
    "    value integer NOT NULL,\n",
    "    activation integer NOT NULL,\n",
    "    CONSTRAINT fk_locked_dependency_state FOREIGN KEY (state)\n",
    "        REFERENCES state(id) ON DELETE CASCADE,\n",
    "    CONSTRAINT fk_locked_dependency_value FOREIGN KEY (value)\n",
    "        REFERENCES value(id) ON DELETE CASCADE,\n",
    "    CONSTRAINT fk_locked_dependency_activation FOREIGN KEY (activation)\n",
    "        REFERENCES activation(id) ON DELETE CASCADE,\n",
    "    UNIQUE (state, value, activation)\n",
    ");\n",
    "\n",
    "-- grouping of entity states.\n",
    "DROP TABLE IF EXISTS grouping CASCADE;\n",
    "CREATE TABLE grouping (\n",
    "  id integer GENERATED ALWAYS AS IDENTITY PRIMARY KEY,\n",
    "  name citext NOT NULL UNIQUE\n",
    ");\n",
    "\n",
    "-- Entity observed in a grouping.\n",
    "DROP TABLE IF EXISTS grouping_entity CASCADE;\n",
    "CREATE TABLE grouping_entity (\n",
    "  entity integer PRIMARY KEY,\n",
    "  grouping integer NOT NULL,\n",
    "  CONSTRAINT fk_grouping_entity_entity FOREIGN KEY (entity)\n",
    "    REFERENCES entity(id) ON DELETE CASCADE,\n",
    "  CONSTRAINT fk_grouping_entity_grouping FOREIGN KEY (grouping)\n",
    "    REFERENCES grouping(id) ON DELETE CASCADE\n",
    ");"
   ]
  },
  {
   "cell_type": "markdown",
   "id": "432a53b9-0984-45fa-8eba-3dde6bb6075a",
   "metadata": {
    "jp-MarkdownHeadingCollapsed": true
   },
   "source": [
    "# Debug"
   ]
  },
  {
   "cell_type": "markdown",
   "id": "3be4f202",
   "metadata": {},
   "source": [
    "## Create Log Table"
   ]
  },
  {
   "cell_type": "code",
   "execution_count": null,
   "id": "a4214ab5",
   "metadata": {
    "vscode": {
     "languageId": "sql"
    }
   },
   "outputs": [],
   "source": [
    "%%sql\n",
    "\n",
    "DROP TABLE IF EXISTS debug_log CASCADE;\n",
    "CREATE TABLE debug_log (\n",
    "    id integer GENERATED ALWAYS AS IDENTITY PRIMARY KEY,\n",
    "    log_time timestamp DEFAULT CURRENT_TIMESTAMP,\n",
    "    procedure_name varchar(255),\n",
    "    log_message text\n",
    ");"
   ]
  },
  {
   "cell_type": "markdown",
   "id": "92275a5c",
   "metadata": {},
   "source": [
    "## Create Log Function"
   ]
  },
  {
   "cell_type": "code",
   "execution_count": null,
   "id": "dbb634b6",
   "metadata": {
    "vscode": {
     "languageId": "sql"
    }
   },
   "outputs": [],
   "source": [
    "%%sql\n",
    "\n",
    "CREATE OR REPLACE FUNCTION debug_log(\n",
    "    p_procedure_name varchar,\n",
    "    p_log_message text\n",
    ") RETURNS void\n",
    "LANGUAGE plpgsql\n",
    "AS $$\n",
    "BEGIN\n",
    "    INSERT INTO debug_log (procedure_name, log_message, log_time)\n",
    "    VALUES (p_procedure_name, p_log_message, now());\n",
    "END;\n",
    "$$;"
   ]
  },
  {
   "cell_type": "markdown",
   "id": "618a813c-05d4-4abf-848b-3cb8f779014c",
   "metadata": {},
   "source": [
    "## Clear Log Table"
   ]
  },
  {
   "cell_type": "code",
   "execution_count": null,
   "id": "66ffd6b9-93cb-49ca-947c-c61b866ccf45",
   "metadata": {
    "vscode": {
     "languageId": "sql"
    }
   },
   "outputs": [],
   "source": [
    "%%sql\n",
    "\n",
    "TRUNCATE TABLE debug_log RESTART IDENTITY CASCADE;"
   ]
  },
  {
   "cell_type": "code",
   "execution_count": null,
   "id": "3d5e605b",
   "metadata": {
    "vscode": {
     "languageId": "sql"
    }
   },
   "outputs": [],
   "source": [
    "%%sql\n",
    "\n",
    "SELECT * FROM debug_log;"
   ]
  },
  {
   "cell_type": "markdown",
   "id": "fb86721f",
   "metadata": {},
   "source": [
    "# Functions/Procedures"
   ]
  },
  {
   "cell_type": "markdown",
   "id": "2080c7fc",
   "metadata": {},
   "source": [
    "## Get Activation Full Path"
   ]
  },
  {
   "cell_type": "code",
   "execution_count": null,
   "id": "6086e21f",
   "metadata": {
    "vscode": {
     "languageId": "sql"
    }
   },
   "outputs": [],
   "source": [
    "%%sql\n",
    "\n",
    "CREATE OR REPLACE FUNCTION get_activation_full_path(activation_id integer)\n",
    "RETURNS text\n",
    "LANGUAGE plpgsql\n",
    "STABLE\n",
    "AS $$\n",
    "DECLARE\n",
    "    full_path text;\n",
    "BEGIN\n",
    "    WITH RECURSIVE act_path AS (\n",
    "        -- Start with the given activation.\n",
    "        SELECT \n",
    "            id,\n",
    "            name,\n",
    "            from_mechanism,\n",
    "            root_mechanism,\n",
    "            to_mechanism,\n",
    "            name AS full_path\n",
    "        FROM activation\n",
    "        WHERE id = activation_id\n",
    "\n",
    "        UNION ALL\n",
    "\n",
    "        -- Recursively join parent's activation where parent's to_mechanism\n",
    "        -- matches the child's from_mechanism and they share the same root.\n",
    "        SELECT \n",
    "            p.id,\n",
    "            p.name,\n",
    "            p.from_mechanism,\n",
    "            p.root_mechanism,\n",
    "            p.to_mechanism,\n",
    "            p.name || '/' || ap.full_path AS full_path\n",
    "        FROM activation p\n",
    "        JOIN act_path ap \n",
    "          ON p.to_mechanism = ap.from_mechanism \n",
    "         AND p.root_mechanism = ap.root_mechanism\n",
    "    )\n",
    "    -- The root activation in the chain will have no parent – i.e. no activation\n",
    "    -- exists such that its to_mechanism equals this activation's from_mechanism.\n",
    "    SELECT full_path INTO full_path\n",
    "    FROM act_path\n",
    "    WHERE NOT EXISTS (\n",
    "        SELECT 1 \n",
    "        FROM activation p2\n",
    "        WHERE p2.to_mechanism = act_path.from_mechanism \n",
    "          AND p2.root_mechanism = act_path.root_mechanism\n",
    "    )\n",
    "    LIMIT 1;\n",
    "    \n",
    "    RETURN full_path;\n",
    "END;\n",
    "$$;"
   ]
  },
  {
   "cell_type": "markdown",
   "id": "68a9e408",
   "metadata": {},
   "source": [
    "## Check Unmasking"
   ]
  },
  {
   "cell_type": "code",
   "execution_count": null,
   "id": "cd2f20b2",
   "metadata": {
    "vscode": {
     "languageId": "sql"
    }
   },
   "outputs": [],
   "source": [
    "%%sql\n",
    "\n",
    "CREATE OR REPLACE FUNCTION check_unmasking(\n",
    "    p_root_mechanism INTEGER,\n",
    "    p_parent_activation_path TEXT,\n",
    "    p_local_activation_name TEXT\n",
    ") RETURNS INTEGER AS $$\n",
    "DECLARE\n",
    "    effective_key TEXT;\n",
    "    candidate RECORD;\n",
    "BEGIN\n",
    "    -- Compute the full activation path for the new activation.\n",
    "    IF p_parent_activation_path IS NULL OR p_parent_activation_path = '' THEN\n",
    "        effective_key := p_local_activation_name;\n",
    "    ELSE\n",
    "        effective_key := p_parent_activation_path || '/' || p_local_activation_name;\n",
    "    END IF;\n",
    "\n",
    "    /*\n",
    "      For each unmasking record for the given root mechanism,\n",
    "      compute a candidate effective key by calling the helper\n",
    "      get_activation_full_path on the stored activation and then:\n",
    "         candidate_key = (p_parent_activation_path || '/' || get_activation_full_path(u.activation))\n",
    "         (or just get_activation_full_path(u.activation) if no parent exists)\n",
    "      Then select the record whose candidate key exactly matches the effective_key.\n",
    "      If multiple match, pick the one with the deepest relative path.\n",
    "    */\n",
    "    SELECT u.unmasked_to_mechanism,\n",
    "           get_activation_full_path(u.activation) AS rel_path,\n",
    "           array_length(string_to_array(get_activation_full_path(u.activation), '/'), 1) AS depth\n",
    "    INTO candidate\n",
    "    FROM unmasking u\n",
    "    WHERE u.root_mechanism = p_root_mechanism\n",
    "      AND (\n",
    "           CASE \n",
    "             WHEN p_parent_activation_path IS NULL OR p_parent_activation_path = '' \n",
    "             THEN get_activation_full_path(u.activation)\n",
    "             ELSE p_parent_activation_path || '/' || get_activation_full_path(u.activation)\n",
    "           END\n",
    "         ) = effective_key\n",
    "    ORDER BY array_length(string_to_array(get_activation_full_path(u.activation), '/'), 1) DESC\n",
    "    LIMIT 1;\n",
    "\n",
    "    IF candidate IS NULL THEN\n",
    "       RETURN NULL;\n",
    "    ELSE\n",
    "       RETURN candidate.unmasked_to_mechanism;\n",
    "    END IF;\n",
    "END;\n",
    "$$ LANGUAGE plpgsql;"
   ]
  },
  {
   "cell_type": "markdown",
   "id": "60390c75",
   "metadata": {},
   "source": [
    "## Create Mechanism"
   ]
  },
  {
   "cell_type": "code",
   "execution_count": null,
   "id": "99c099c9",
   "metadata": {
    "vscode": {
     "languageId": "sql"
    }
   },
   "outputs": [],
   "source": [
    "%%sql\n",
    "\n",
    "CREATE OR REPLACE PROCEDURE create_mechanism(\n",
    "    p_mechanism_name CITEXT,\n",
    "    p_serialized_code TEXT\n",
    ")\n",
    "LANGUAGE plpgsql\n",
    "AS $$\n",
    "DECLARE\n",
    "    v_mech_id INTEGER;\n",
    "BEGIN\n",
    "    INSERT INTO mechanism (name, serialized)\n",
    "    VALUES (p_mechanism_name, p_serialized_code)\n",
    "    RETURNING id INTO v_mech_id;\n",
    "    \n",
    "    RAISE NOTICE 'Mechanism \"%\" created with id %.', p_mechanism_name, v_mech_id;\n",
    "EXCEPTION \n",
    "    WHEN unique_violation THEN\n",
    "        RAISE EXCEPTION 'A mechanism with name \"%\" already exists.', p_mechanism_name;\n",
    "END;\n",
    "$$;\n"
   ]
  },
  {
   "cell_type": "markdown",
   "id": "6fc0a009",
   "metadata": {},
   "source": [
    "## Create Unmasking"
   ]
  },
  {
   "cell_type": "code",
   "execution_count": null,
   "id": "091c3921",
   "metadata": {
    "vscode": {
     "languageId": "sql"
    }
   },
   "outputs": [],
   "source": [
    "%%sql\n",
    "\n",
    "CREATE OR REPLACE PROCEDURE create_unmasking(\n",
    "    p_root_mechanism_name CITEXT,\n",
    "    p_activation_path TEXT,\n",
    "    p_unmasked_to_mechanism_name CITEXT\n",
    ")\n",
    "LANGUAGE plpgsql\n",
    "AS $$\n",
    "DECLARE\n",
    "    v_root_mech_id         INTEGER;\n",
    "    v_unmasked_to_mech_id  INTEGER;\n",
    "    v_activation_id        INTEGER;\n",
    "BEGIN\n",
    "    -- Lookup the root mechanism by its human-readable name.\n",
    "    SELECT id INTO v_root_mech_id\n",
    "      FROM mechanism\n",
    "     WHERE name = p_root_mechanism_name;\n",
    "    IF v_root_mech_id IS NULL THEN\n",
    "        RAISE EXCEPTION 'No mechanism found with name \"%\" for root mechanism.', p_root_mechanism_name;\n",
    "    END IF;\n",
    "\n",
    "    -- Lookup the unmasked-to mechanism by its name.\n",
    "    SELECT id INTO v_unmasked_to_mech_id\n",
    "      FROM mechanism\n",
    "     WHERE name = p_unmasked_to_mechanism_name;\n",
    "    IF v_unmasked_to_mech_id IS NULL THEN\n",
    "        RAISE EXCEPTION 'No mechanism found with name \"%\" for unmasked mechanism.', p_unmasked_to_mechanism_name;\n",
    "    END IF;\n",
    "\n",
    "    -- Retrieve the activation record using the helper function.\n",
    "    SELECT a.id INTO v_activation_id\n",
    "      FROM activation a\n",
    "     WHERE get_activation_full_path(a.id) = p_activation_path\n",
    "       AND a.root_mechanism = v_root_mech_id;\n",
    "    IF v_activation_id IS NULL THEN\n",
    "        RAISE EXCEPTION 'No activation found with path \"%\" under root mechanism \"%\".', p_activation_path, v_root_mech_id;\n",
    "    END IF;\n",
    "\n",
    "    -- Insert the unmasking record.\n",
    "    INSERT INTO unmasking (root_mechanism, activation, unmasked_to_mechanism)\n",
    "    VALUES (v_root_mech_id, v_activation_id, v_unmasked_to_mech_id);\n",
    "\n",
    "    RAISE NOTICE 'Unmasking record created: root mechanism \"%\" | activation path \"%\" | unmasked to mechanism \"%\".',\n",
    "      p_root_mechanism_name, p_activation_path, p_unmasked_to_mechanism_name;\n",
    "\n",
    "    ----------------------------------------------------------------------------\n",
    "    -- Delete entire state records for any entity whose state includes an activation\n",
    "    -- (or descendant activations) that ever depended on the specified root mechanism.\n",
    "    -- This avoids partial regeneration entirely.\n",
    "    ----------------------------------------------------------------------------\n",
    "    DELETE FROM state\n",
    "    WHERE id IN (\n",
    "        SELECT DISTINCT s.id\n",
    "        FROM state s\n",
    "        JOIN value v ON v.state = s.id\n",
    "        JOIN activation a ON a.id = v.activation\n",
    "        WHERE check_unmasking(\n",
    "                  v_root_mech_id,\n",
    "                  CASE \n",
    "                    WHEN strpos(get_activation_full_path(a.id), '/') > 0 \n",
    "                      THEN substring(get_activation_full_path(a.id) from '^(.*)/')\n",
    "                    ELSE ''\n",
    "                  END,\n",
    "                  a.name\n",
    "              ) = v_unmasked_to_mech_id\n",
    "    );\n",
    "END;\n",
    "$$;"
   ]
  },
  {
   "cell_type": "markdown",
   "id": "c6b3bf87",
   "metadata": {},
   "source": [
    "## Lock Value"
   ]
  },
  {
   "cell_type": "code",
   "execution_count": null,
   "id": "6bf6489f",
   "metadata": {
    "vscode": {
     "languageId": "sql"
    }
   },
   "outputs": [],
   "source": [
    "%%sql\n",
    "\n",
    "CREATE OR REPLACE PROCEDURE lock_value(\n",
    "    p_entity_name VARCHAR,\n",
    "    p_time DOUBLE PRECISION,\n",
    "    p_activation_path VARCHAR,  -- Full activation path where the target value was produced.\n",
    "    p_value_name VARCHAR        -- Name of the target value.\n",
    ")\n",
    "LANGUAGE plpgsql\n",
    "AS $$\n",
    "DECLARE\n",
    "    v_entity_id INTEGER;\n",
    "    v_state_id INTEGER;\n",
    "    v_value_id INTEGER;\n",
    "BEGIN\n",
    "    -- Look up the entity.\n",
    "    SELECT id INTO v_entity_id FROM entity WHERE name = p_entity_name;\n",
    "    IF v_entity_id IS NULL THEN\n",
    "        RAISE EXCEPTION 'Entity \"%\" not found', p_entity_name;\n",
    "    END IF;\n",
    "\n",
    "    -- Look up the state.\n",
    "    SELECT id INTO v_state_id FROM state WHERE entity = v_entity_id AND time = p_time;\n",
    "    IF v_state_id IS NULL THEN\n",
    "        RAISE EXCEPTION 'State for entity \"%\" at time % not found', p_entity_name, p_time;\n",
    "    END IF;\n",
    "\n",
    "    -- Find the target value (its id) produced by the given activation.\n",
    "    SELECT v.id INTO v_value_id\n",
    "    FROM value v\n",
    "    JOIN activation a ON a.id = v.activation\n",
    "    WHERE v.state = v_state_id\n",
    "      AND v.name = p_value_name\n",
    "      AND get_activation_full_path(a.id) = p_activation_path\n",
    "    LIMIT 1;\n",
    "    IF v_value_id IS NULL THEN\n",
    "        RAISE EXCEPTION 'Value \"%\" not found in state with activation path %', p_value_name, p_activation_path;\n",
    "    END IF;\n",
    "\n",
    "    -- Compute full dependency closure for the target value.\n",
    "    WITH RECURSIVE lock_chain(act) AS (\n",
    "       -- Start with the activation that produced the target value.\n",
    "       SELECT v.activation\n",
    "       FROM value v\n",
    "       WHERE v.state = v_state_id\n",
    "         AND v.id = v_value_id\n",
    "       UNION\n",
    "       -- Walk upward: any activation that produced an input used by an activation in the chain.\n",
    "       SELECT va.antecedent\n",
    "       FROM value_antecedent va\n",
    "       JOIN lock_chain lc ON va.child = lc.act\n",
    "       UNION\n",
    "       -- Walk downward: any activation that used an output from an activation in the chain.\n",
    "       SELECT va.child\n",
    "       FROM value_antecedent va\n",
    "       JOIN lock_chain lc ON va.antecedent = lc.act\n",
    "    )\n",
    "    -- Record for each activation in the dependency closure that it is locked by this value.\n",
    "    INSERT INTO locked_dependency(state, value, activation)\n",
    "    SELECT v_state_id, v_value_id, act FROM lock_chain\n",
    "    ON CONFLICT DO NOTHING;\n",
    "\n",
    "    -- Ensure each activation in the closure is in locked_activation.\n",
    "    INSERT INTO locked_activation(state, activation)\n",
    "    SELECT v_state_id, act FROM lock_chain\n",
    "    ON CONFLICT DO NOTHING;\n",
    "END;\n",
    "$$;"
   ]
  },
  {
   "cell_type": "markdown",
   "id": "41bd8a92",
   "metadata": {},
   "source": [
    "## Unlock Value"
   ]
  },
  {
   "cell_type": "code",
   "execution_count": null,
   "id": "84f1b810",
   "metadata": {
    "vscode": {
     "languageId": "sql"
    }
   },
   "outputs": [],
   "source": [
    "CREATE OR REPLACE PROCEDURE unlock_value(\n",
    "    p_entity_name VARCHAR,\n",
    "    p_time DOUBLE PRECISION,\n",
    "    p_activation_path VARCHAR,  -- Full activation path where the target value was produced.\n",
    "    p_value_name VARCHAR        -- Name of the target value.\n",
    ")\n",
    "LANGUAGE plpgsql\n",
    "AS $$\n",
    "DECLARE\n",
    "    v_entity_id INTEGER;\n",
    "    v_state_id INTEGER;\n",
    "    v_value_id INTEGER;\n",
    "BEGIN\n",
    "    -- Look up the entity.\n",
    "    SELECT id INTO v_entity_id FROM entity WHERE name = p_entity_name;\n",
    "    IF v_entity_id IS NULL THEN\n",
    "        RAISE EXCEPTION 'Entity \"%\" not found', p_entity_name;\n",
    "    END IF;\n",
    "\n",
    "    -- Look up the state.\n",
    "    SELECT id INTO v_state_id FROM state WHERE entity = v_entity_id AND time = p_time;\n",
    "    IF v_state_id IS NULL THEN\n",
    "        RAISE EXCEPTION 'State for entity \"%\" at time % not found', p_entity_name, p_time;\n",
    "    END IF;\n",
    "\n",
    "    -- Find the target value (its id) produced by the given activation.\n",
    "    SELECT v.id INTO v_value_id\n",
    "    FROM value v\n",
    "    JOIN activation a ON a.id = v.activation\n",
    "    WHERE v.state = v_state_id\n",
    "      AND v.name = p_value_name\n",
    "      AND get_activation_full_path(a.id) = p_activation_path\n",
    "    LIMIT 1;\n",
    "    IF v_value_id IS NULL THEN\n",
    "        RAISE EXCEPTION 'Value \"%\" not found in state with activation path %', p_value_name, p_activation_path;\n",
    "    END IF;\n",
    "\n",
    "    -- Compute full dependency closure for the target value.\n",
    "    WITH RECURSIVE unlock_chain(act) AS (\n",
    "       SELECT v.activation\n",
    "       FROM value v\n",
    "       WHERE v.state = v_state_id\n",
    "         AND v.id = v_value_id\n",
    "       UNION\n",
    "       SELECT va.antecedent\n",
    "       FROM value_antecedent va\n",
    "       JOIN unlock_chain uc ON va.child = uc.act\n",
    "       UNION\n",
    "       SELECT va.child\n",
    "       FROM value_antecedent va\n",
    "       JOIN unlock_chain uc ON va.antecedent = uc.act\n",
    "    )\n",
    "    -- Delete the locked_dependency rows for this target value.\n",
    "    DELETE FROM locked_dependency\n",
    "    WHERE state = v_state_id\n",
    "      AND value = v_value_id\n",
    "      AND activation IN (SELECT act FROM unlock_chain);\n",
    "\n",
    "    -- Now, for each activation in the closure, remove its lock if it’s no longer referenced.\n",
    "    WITH dependency_set AS (\n",
    "        SELECT act FROM (\n",
    "            SELECT DISTINCT act FROM unlock_chain\n",
    "        ) t\n",
    "    )\n",
    "    DELETE FROM locked_activation\n",
    "    WHERE state = v_state_id\n",
    "      AND activation IN (\n",
    "         SELECT act FROM dependency_set\n",
    "         EXCEPT\n",
    "         SELECT activation FROM locked_dependency WHERE state = v_state_id\n",
    "      );\n",
    "END;\n",
    "$$;"
   ]
  },
  {
   "cell_type": "markdown",
   "id": "0230309e",
   "metadata": {},
   "source": [
    "## Generate State"
   ]
  },
  {
   "cell_type": "code",
   "execution_count": null,
   "id": "b62ccc5d",
   "metadata": {
    "vscode": {
     "languageId": "sql"
    }
   },
   "outputs": [],
   "source": [
    "%%sql\n",
    "\n",
    "CREATE OR REPLACE PROCEDURE generate_state(\n",
    "    p_entity_name VARCHAR,\n",
    "    p_time        DOUBLE PRECISION\n",
    ")\n",
    "LANGUAGE plpython3u\n",
    "AS $$\n",
    "#\n",
    "# This implementation uses a generator–based trampoline to preserve immediate child activation\n",
    "# execution while supporting unmasking (using the stored function check_unmasking) and regeneration.\n",
    "# All lookups are performed via on–demand SQL queries without in–memory caches.\n",
    "#\n",
    "\n",
    "def run_activation(context):\n",
    "    \"\"\"\n",
    "    Run one activation using the context (a dict with keys):\n",
    "      - mech_id:         mechanism id to run,\n",
    "      - activation_name: local activation name (None for root),\n",
    "      - activation_id:   activation id (if already created),\n",
    "      - root_mech_id:    id of the entity's root mechanism,\n",
    "      - state_id:        state id,\n",
    "      - activation_path: full (slash–separated) activation path so far,\n",
    "      - is_regeneration: boolean flag.\n",
    "    \n",
    "    Returns the generator produced by executing the mechanism's main() code.\n",
    "    \"\"\"\n",
    "    current_activation_path = context.get('activation_path', \"\")\n",
    "\n",
    "    # --- On–demand regeneration check.\n",
    "    if context.get('is_regeneration'):\n",
    "        sql_locked_check = \"\"\"\n",
    "            SELECT la.activation \n",
    "            FROM locked_activation la \n",
    "            WHERE la.state = $1 \n",
    "              AND get_activation_full_path(la.activation) = $2\n",
    "            LIMIT 1\n",
    "        \"\"\"\n",
    "        res_locked = plpy.execute(sql_locked_check, [context['state_id'], current_activation_path])\n",
    "        if res_locked.nrows() > 0:\n",
    "            # Activation is locked; skip re–execution.\n",
    "            def empty_gen():\n",
    "                return\n",
    "                yield\n",
    "            return empty_gen()\n",
    "        # For non–locked activations in regeneration mode, delete previous output rows.\n",
    "        if context.get('activation_id'):\n",
    "            plpy.execute(\n",
    "                \"DELETE FROM value WHERE state = $1 AND activation = $2\",\n",
    "                [context['state_id'], context['activation_id']]\n",
    "            )\n",
    "    \n",
    "    # --- On–demand unmasking check for the current activation.\n",
    "    # For non–root activations, compute parent's activation path and the local name.\n",
    "    if current_activation_path:\n",
    "        parent_path, sep, local_name = current_activation_path.rpartition('/')\n",
    "        if sep == '':\n",
    "            parent_path = ''\n",
    "            local_name = current_activation_path\n",
    "        res_unmask = plpy.execute(\n",
    "            \"SELECT check_unmasking($1, $2, $3) AS unmasked\",\n",
    "            [context['root_mech_id'], parent_path, local_name]\n",
    "        )\n",
    "        if res_unmask.nrows() > 0 and res_unmask[0]['unmasked'] is not None:\n",
    "            context['mech_id'] = res_unmask[0]['unmasked']\n",
    "\n",
    "    # --- Look up the mechanism record.\n",
    "    sql = \"SELECT id, name, serialized FROM mechanism WHERE id = $1\"\n",
    "    res = plpy.execute(sql, [context['mech_id']])\n",
    "    if res.nrows() == 0:\n",
    "        plpy.error(\"Mechanism with id %s not found\" % context['mech_id'])\n",
    "    mech = res[0]\n",
    "\n",
    "    # Helper: resolve paths relative to the current activation.\n",
    "    def resolve_path(input_path, base_path):\n",
    "        if input_path.startswith(\"/\"):\n",
    "            return input_path.lstrip(\"/\")\n",
    "        elif input_path.startswith(\"./\") or input_path.startswith(\"..\"):\n",
    "            base_components = base_path.split(\"/\") if base_path else []\n",
    "            resolved_components = list(base_components)\n",
    "            for part in input_path.split(\"/\"):\n",
    "                if part in (\".\", \"\"):\n",
    "                    continue\n",
    "                elif part == \"..\":\n",
    "                    if resolved_components:\n",
    "                        resolved_components.pop()\n",
    "                    else:\n",
    "                        plpy.error(\"Path resolution error: cannot go above the root activation\")\n",
    "                else:\n",
    "                    resolved_components.append(part)\n",
    "            return \"/\".join(resolved_components)\n",
    "        else:\n",
    "            return base_path + \"/\" + input_path if base_path else input_path\n",
    "\n",
    "    # Inject helper functions for the mechanism code.\n",
    "    def use_input(path):\n",
    "        resolved = resolve_path(path, current_activation_path)\n",
    "        parts = resolved.rsplit(\"/\", 1)\n",
    "        parent_path = parts[0] if len(parts) > 1 else \"\"\n",
    "        output_name = parts[-1]\n",
    "        sql_val = \"\"\"\n",
    "            SELECT v.id AS value_id, v.activation AS antecedent,\n",
    "                CASE WHEN v.type = 'number'\n",
    "                        THEN (SELECT serialized FROM number_value WHERE value = v.id)\n",
    "                        ELSE (SELECT serialized FROM string_value WHERE value = v.id)\n",
    "                END AS value\n",
    "            FROM value v\n",
    "            JOIN activation a ON a.id = v.activation\n",
    "            WHERE get_activation_full_path(a.id) = $1\n",
    "            AND v.name = $2\n",
    "            AND v.state = $3\n",
    "            LIMIT 1\n",
    "        \"\"\"\n",
    "        res_val = plpy.execute(sql_val, [parent_path, output_name, context['state_id']])\n",
    "        if res_val.nrows() == 0:\n",
    "            plpy.error(\"No output found for resolved path: \" + resolved)\n",
    "        # Record the dependency: current (child) activation used the parent's output.\n",
    "        plpy.execute(\n",
    "            \"INSERT INTO value_antecedent(value, child, antecedent) VALUES ($1, $2, $3) ON CONFLICT DO NOTHING\",\n",
    "            [res_val[0]['value_id'], context['activation_id'], res_val[0]['antecedent']]\n",
    "        )\n",
    "        return res_val[0]['value']\n",
    "\n",
    "    def add_output(name, value):\n",
    "        full_output_path = resolve_path(name, current_activation_path)\n",
    "        sql_dup = \"\"\"\n",
    "            SELECT 1 FROM value \n",
    "            WHERE state = $1 AND activation = $2 AND name = $3 \n",
    "            LIMIT 1\n",
    "        \"\"\"\n",
    "        res_dup = plpy.execute(sql_dup, [context['state_id'], context['activation_id'], name])\n",
    "        if res_dup.nrows() > 0:\n",
    "            plpy.error(\"Output with name '%s' already exists in the current activation\" % name)\n",
    "        value_type_val = 'number' if isinstance(value, (int, float)) else 'string'\n",
    "        sql_ins = \"\"\"\n",
    "            INSERT INTO value(state, activation, name, type)\n",
    "            VALUES ($1, $2, $3, $4)\n",
    "            RETURNING id\n",
    "        \"\"\"\n",
    "        res_ins = plpy.execute(sql_ins, [context['state_id'], context['activation_id'], name, value_type_val])\n",
    "        value_id = res_ins[0]['id']\n",
    "        if value_type_val == 'number':\n",
    "            plpy.execute(\"INSERT INTO number_value(value, serialized) VALUES ($1, $2)\", [value_id, float(value)])\n",
    "        else:\n",
    "            plpy.execute(\"INSERT INTO string_value(value, serialized) VALUES ($1, $2)\", [value_id, str(value)])\n",
    "        return value\n",
    "\n",
    "    def activate(mechanism_name, local_activation_name=None):\n",
    "        if local_activation_name is None:\n",
    "            local_activation_name = mechanism_name\n",
    "        new_activation_path = current_activation_path + \"/\" + local_activation_name if current_activation_path else local_activation_name\n",
    "        # Check for duplicate activation on–demand.\n",
    "        sql_check = \"SELECT 1 FROM activation WHERE get_activation_full_path(id) = $1 LIMIT 1\"\n",
    "        res_check = plpy.execute(sql_check, [new_activation_path])\n",
    "        if res_check.nrows() > 0:\n",
    "            plpy.error(\"Activation with name '%s' already exists in the current activation\" % local_activation_name)\n",
    "        # Look up the mechanism id for the requested mechanism.\n",
    "        sql_lookup = \"SELECT id FROM mechanism WHERE name = $1 LIMIT 1\"\n",
    "        res_lookup = plpy.execute(sql_lookup, [mechanism_name])\n",
    "        if res_lookup.nrows() == 0:\n",
    "            plpy.error(\"Mechanism with name %s not found\" % mechanism_name)\n",
    "        new_mech_id = res_lookup[0]['id']\n",
    "\n",
    "        # Insert a new activation record.\n",
    "        sql_act = \"\"\"\n",
    "            INSERT INTO activation(name, from_mechanism, root_mechanism, to_mechanism)\n",
    "            VALUES ($1, $2, $3, $4)\n",
    "            RETURNING id\n",
    "        \"\"\"\n",
    "        res_act = plpy.execute(sql_act, [local_activation_name, context['mech_id'], context['root_mech_id'], new_mech_id])\n",
    "        new_activation_id = res_act[0]['id']\n",
    "        # Prepare the child context.\n",
    "        child_context = {\n",
    "            'mech_id': new_mech_id,\n",
    "            'activation_name': local_activation_name,\n",
    "            'activation_id': new_activation_id,\n",
    "            'root_mech_id': context['root_mech_id'],\n",
    "            'state_id': context['state_id'],\n",
    "            'activation_path': new_activation_path,\n",
    "            'is_regeneration': context.get('is_regeneration', False)\n",
    "        }\n",
    "\n",
    "        # On–demand unmasking for the child activation using the stored function.\n",
    "        res_child_unmask = plpy.execute(\n",
    "            \"SELECT check_unmasking($1, $2, $3) AS unmasked\",\n",
    "            [context['root_mech_id'], current_activation_path, local_activation_name]\n",
    "        )\n",
    "        if res_child_unmask.nrows() > 0 and res_child_unmask[0]['unmasked'] is not None:\n",
    "            child_context['mech_id'] = res_child_unmask[0]['unmasked']\n",
    "        yield (\"activate\", child_context)\n",
    "\n",
    "    def reject(local_activation_name):\n",
    "        # Compute the full activation path for the activation to be rejected.\n",
    "        full_path = current_activation_path + \"/\" + local_activation_name if current_activation_path else local_activation_name\n",
    "\n",
    "        # Confirm that the activation exists.\n",
    "        sql_get = \"SELECT id FROM activation WHERE get_activation_full_path(id) = $1 LIMIT 1\"\n",
    "        res_get = plpy.execute(sql_get, [full_path])\n",
    "        if res_get.nrows() == 0:\n",
    "            plpy.error(\"Activation with resolved path %s not found\" % full_path)\n",
    "        \n",
    "        # Build a pattern to match the rejected activation and any descendant activations.\n",
    "        pattern = full_path + '%'\n",
    "        \n",
    "        # Delete only the values (not the activations) for the current state that belong to the activation chain.\n",
    "        sql_reject = \"\"\"\n",
    "            DELETE FROM value\n",
    "            WHERE state = $1\n",
    "            AND activation IN (\n",
    "                    SELECT a.id FROM activation a\n",
    "                    WHERE get_activation_full_path(a.id) LIKE $2\n",
    "            )\n",
    "        \"\"\"\n",
    "        plpy.execute(sql_reject, [context['state_id'], pattern])\n",
    "    \n",
    "    # Prepare a namespace for the mechanism code.\n",
    "    local_ns = {\n",
    "        'use_input': use_input,\n",
    "        'add_output': add_output,\n",
    "        'activate': activate,\n",
    "        'reject': reject,\n",
    "    }\n",
    "    exec(mech['serialized'], local_ns)\n",
    "    if 'main' not in local_ns:\n",
    "        plpy.error(\"Mechanism code does not define a main() generator\")\n",
    "    return local_ns['main']()\n",
    "\n",
    "def trampoline(root_context):\n",
    "    \"\"\"\n",
    "    The trampoline runs activations with immediate semantics by maintaining an explicit\n",
    "    stack of (context, generator) pairs. When an activation yields an \"activate\" instruction,\n",
    "    the child is executed immediately and control returns to the parent when it completes.\n",
    "    \"\"\"\n",
    "    stack = []\n",
    "    current_gen = run_activation(root_context)\n",
    "    stack.append((root_context, current_gen))\n",
    "    while stack:\n",
    "        current_context, current_gen = stack[-1]\n",
    "        try:\n",
    "            instr = next(current_gen)\n",
    "        except StopIteration:\n",
    "            stack.pop()\n",
    "            continue\n",
    "        if instr[0] == \"activate\":\n",
    "            child_context = instr[1]\n",
    "            child_gen = run_activation(child_context)\n",
    "            stack.append((child_context, child_gen))\n",
    "        else:\n",
    "            plpy.error(\"Unknown instruction: \" + str(instr))\n",
    "\n",
    "# --- Main Body of generate_state ---\n",
    "\n",
    "# 1. Look up the entity and its root mechanism.\n",
    "sql_entity = \"SELECT id, mechanism FROM entity WHERE name = $1 LIMIT 1\"\n",
    "res_entity = plpy.execute(sql_entity, [p_entity_name])\n",
    "if res_entity.nrows() == 0:\n",
    "    plpy.error(\"Entity with name '%s' not found\" % p_entity_name)\n",
    "entity_rec = res_entity[0]\n",
    "entity_id = entity_rec['id']\n",
    "root_mech_id = entity_rec['mechanism']\n",
    "\n",
    "# 2. Look up or create the state for the entity at the given time.\n",
    "sql_state = \"SELECT id FROM state WHERE entity = $1 AND time = $2 LIMIT 1\"\n",
    "res_state = plpy.execute(sql_state, [entity_id, p_time])\n",
    "if res_state.nrows() == 0:\n",
    "    res_insert = plpy.execute(\n",
    "        \"INSERT INTO state(entity, time) VALUES ($1, $2) RETURNING id\", \n",
    "        [entity_id, p_time]\n",
    "    )\n",
    "    state_id = res_insert[0]['id']\n",
    "    is_regeneration = False\n",
    "else:\n",
    "    state_id = res_state[0]['id']\n",
    "    is_regeneration = True\n",
    "\n",
    "# 3. Prepare the root context.\n",
    "root_context = {\n",
    "    'mech_id': root_mech_id,\n",
    "    'activation_name': None,\n",
    "    'activation_id': None,\n",
    "    'root_mech_id': root_mech_id,\n",
    "    'state_id': state_id,\n",
    "    'activation_path': \"\",  # The root activation path is empty.\n",
    "    'is_regeneration': is_regeneration\n",
    "}\n",
    "\n",
    "# 4. Run the trampoline to process all activations synchronously.\n",
    "trampoline(root_context)\n",
    "\n",
    "$$;"
   ]
  },
  {
   "cell_type": "markdown",
   "id": "a4071507",
   "metadata": {},
   "source": [
    "## Get State"
   ]
  },
  {
   "cell_type": "code",
   "execution_count": null,
   "id": "4b2ac892",
   "metadata": {
    "vscode": {
     "languageId": "sql"
    }
   },
   "outputs": [],
   "source": [
    "%%sql\n",
    "\n",
    "CREATE OR REPLACE FUNCTION get_state(\n",
    "    p_entity_name VARCHAR,\n",
    "    p_time DOUBLE PRECISION\n",
    ")\n",
    "RETURNS TABLE (\n",
    "    \"index\" BIGINT,\n",
    "    address VARCHAR,\n",
    "    value_type value_type,\n",
    "    value TEXT,\n",
    "    locked BOOLEAN\n",
    ")\n",
    "LANGUAGE sql\n",
    "AS $$\n",
    "WITH state_info AS (\n",
    "  SELECT s.id AS state_id, e.mechanism AS root_mech_id, e.name AS entity_name\n",
    "  FROM state s\n",
    "  JOIN entity e ON e.id = s.entity\n",
    "  WHERE e.name = p_entity_name AND s.time = p_time\n",
    "),\n",
    "all_values AS (\n",
    "  SELECT v.*, \n",
    "         a.name AS local_activation,\n",
    "         get_activation_full_path(a.id) AS activation_path\n",
    "  FROM value v\n",
    "  JOIN activation a ON a.id = v.activation\n",
    "  JOIN state_info si ON si.state_id = v.state\n",
    ")\n",
    "SELECT \n",
    "  row_number() OVER (ORDER BY activation_path) AS \"index\",\n",
    "  activation_path || '/' || v.name AS address,\n",
    "  v.type AS value_type,\n",
    "  CASE \n",
    "    WHEN v.type = 'number' THEN (\n",
    "         SELECT nv.serialized::text \n",
    "         FROM number_value nv \n",
    "         WHERE nv.value = v.id\n",
    "    )\n",
    "    ELSE (\n",
    "         SELECT sv.serialized \n",
    "         FROM string_value sv \n",
    "         WHERE sv.value = v.id\n",
    "    )\n",
    "  END AS value,\n",
    "  EXISTS (\n",
    "     SELECT 1 \n",
    "     FROM locked_activation la \n",
    "     WHERE la.activation = v.activation AND la.state = v.state\n",
    "  ) AS locked\n",
    "FROM all_values v\n",
    "ORDER BY activation_path;\n",
    "$$;"
   ]
  },
  {
   "cell_type": "markdown",
   "id": "97932825",
   "metadata": {},
   "source": [
    "## Generate Grouping"
   ]
  },
  {
   "cell_type": "code",
   "execution_count": null,
   "id": "c0f3a6af",
   "metadata": {
    "vscode": {
     "languageId": "sql"
    }
   },
   "outputs": [],
   "source": [
    "%%sql\n",
    "\n",
    "CREATE OR REPLACE PROCEDURE generate_grouping(\n",
    "    p_mechanism_name         VARCHAR,\n",
    "    p_grouping_name          VARCHAR,\n",
    "    p_entity_name_template   VARCHAR,\n",
    "    p_num_entities           INTEGER\n",
    ")\n",
    "LANGUAGE plpgsql\n",
    "AS $$\n",
    "DECLARE\n",
    "    v_mech_id      INTEGER;\n",
    "    v_grouping_id  INTEGER;\n",
    "    v_entity_id    INTEGER;\n",
    "    v_idx          INTEGER;\n",
    "    v_entity_name  VARCHAR;\n",
    "BEGIN\n",
    "    -- Look up the mechanism id using the mechanism name.\n",
    "    SELECT id INTO v_mech_id FROM mechanism WHERE name = p_mechanism_name;\n",
    "    IF v_mech_id IS NULL THEN\n",
    "        RAISE EXCEPTION 'No mechanism found with name=%', p_mechanism_name;\n",
    "    END IF;\n",
    "    \n",
    "    -- Create a new grouping.\n",
    "    INSERT INTO grouping (name)\n",
    "    VALUES (p_grouping_name)\n",
    "    RETURNING id INTO v_grouping_id;\n",
    "    \n",
    "    FOR v_idx IN 1..p_num_entities LOOP\n",
    "        v_entity_name := format(p_entity_name_template, v_idx);\n",
    "        \n",
    "        -- Create a new entity using the looked-up mechanism id.\n",
    "        INSERT INTO entity (mechanism, name)\n",
    "        VALUES (v_mech_id, v_entity_name)\n",
    "        RETURNING id INTO v_entity_id;\n",
    "        \n",
    "        INSERT INTO grouping_entity (entity, grouping)\n",
    "        VALUES (v_entity_id, v_grouping_id);\n",
    "        \n",
    "        -- Call generate_state for the new entity at time 0.\n",
    "        CALL generate_state(v_entity_name, 0);\n",
    "    END LOOP;\n",
    "END;\n",
    "$$;"
   ]
  },
  {
   "cell_type": "markdown",
   "id": "72f064af",
   "metadata": {},
   "source": [
    "## Get Grouping at Time"
   ]
  },
  {
   "cell_type": "code",
   "execution_count": null,
   "id": "1b354858",
   "metadata": {
    "vscode": {
     "languageId": "sql"
    }
   },
   "outputs": [],
   "source": [
    "%%sql\n",
    "\n",
    "CREATE OR REPLACE FUNCTION get_grouping_at_time(\n",
    "    p_grouping_name VARCHAR,\n",
    "    p_time DOUBLE PRECISION\n",
    ")\n",
    "RETURNS TABLE (\n",
    "    entity_name VARCHAR,\n",
    "    state_id INTEGER,\n",
    "    address VARCHAR,\n",
    "    value_type value_type,\n",
    "    value TEXT,\n",
    "    locked BOOLEAN\n",
    ")\n",
    "LANGUAGE sql\n",
    "AS $$\n",
    "WITH grp AS (\n",
    "  SELECT id FROM grouping WHERE name = p_grouping_name\n",
    "),\n",
    "ent AS (\n",
    "  SELECT e.id, e.name\n",
    "  FROM entity e\n",
    "  JOIN grouping_entity ge ON e.id = ge.entity\n",
    "  WHERE ge.grouping = (SELECT id FROM grp)\n",
    "),\n",
    "st AS (\n",
    "  SELECT e.id AS entity_id, e.name AS entity_name, s.id AS state_id\n",
    "  FROM ent e\n",
    "  JOIN state s ON s.entity = e.id\n",
    "  WHERE s.time = p_time\n",
    ")\n",
    "SELECT \n",
    "  st.entity_name,\n",
    "  st.state_id,\n",
    "  es.address,\n",
    "  es.value_type,\n",
    "  es.value,\n",
    "  es.locked\n",
    "FROM st\n",
    "CROSS JOIN LATERAL (\n",
    "    SELECT *\n",
    "    FROM get_state(st.entity_name, p_time)\n",
    ") es\n",
    "ORDER BY st.entity_name, es.\"index\";\n",
    "$$;"
   ]
  },
  {
   "cell_type": "markdown",
   "id": "58191248-9e13-40e6-8942-7914c89c99a0",
   "metadata": {
    "jp-MarkdownHeadingCollapsed": true
   },
   "source": [
    "# Inspect Schema"
   ]
  },
  {
   "cell_type": "markdown",
   "id": "f21806f2-88ed-46b4-aa46-763733989735",
   "metadata": {},
   "source": [
    "## List Tables"
   ]
  },
  {
   "cell_type": "code",
   "execution_count": null,
   "id": "073e64ae-9d52-4ad0-ac5b-836d98f60deb",
   "metadata": {},
   "outputs": [],
   "source": [
    "%%sql\n",
    "\n",
    "SELECT tablename AS name\n",
    "FROM pg_catalog.pg_tables\n",
    "WHERE schemaname NOT IN ('pg_catalog', 'information_schema')\n",
    "ORDER BY schemaname, tablename;"
   ]
  },
  {
   "cell_type": "markdown",
   "id": "616e5ce1",
   "metadata": {},
   "source": [
    "## List Procedures"
   ]
  },
  {
   "cell_type": "code",
   "execution_count": null,
   "id": "c42ce3b8",
   "metadata": {
    "vscode": {
     "languageId": "sql"
    }
   },
   "outputs": [],
   "source": [
    "%%sql\n",
    "\n",
    "SELECT proname AS name, pg_catalog.pg_get_function_arguments(p.oid) AS arguments\n",
    "FROM pg_catalog.pg_proc p\n",
    "JOIN pg_catalog.pg_namespace n ON n.oid = p.pronamespace\n",
    "WHERE p.prokind = 'p' AND n.nspname = 'public'\n",
    "ORDER BY n.nspname, proname;"
   ]
  },
  {
   "cell_type": "markdown",
   "id": "957f44b0-fe34-4820-8b89-296ee8526be0",
   "metadata": {},
   "source": [
    "## List Functions"
   ]
  },
  {
   "cell_type": "code",
   "execution_count": null,
   "id": "b1f77168-da9a-4198-80ea-2eaf89a5ef2b",
   "metadata": {},
   "outputs": [],
   "source": [
    "%%sql\n",
    "\n",
    "SELECT proname AS name,\n",
    "       pg_catalog.pg_get_function_arguments(p.oid) AS arguments,\n",
    "       pg_catalog.pg_get_function_result(p.oid) AS return_type\n",
    "FROM pg_catalog.pg_proc p\n",
    "JOIN pg_catalog.pg_namespace n ON n.oid = p.pronamespace\n",
    "WHERE p.prokind = 'f' AND n.nspname = 'public'\n",
    "ORDER BY n.nspname, proname;"
   ]
  },
  {
   "cell_type": "markdown",
   "id": "4e6a623f-dc54-4e65-92db-f4d8293e4d8e",
   "metadata": {},
   "source": [
    "## List Indices"
   ]
  },
  {
   "cell_type": "code",
   "execution_count": null,
   "id": "d96079b6-f4e1-40c5-849d-d258592de5f8",
   "metadata": {},
   "outputs": [],
   "source": [
    "%%sql\n",
    "\n",
    "SELECT i.relname AS index_name, t.relname AS table_name\n",
    "FROM pg_catalog.pg_index ix\n",
    "JOIN pg_catalog.pg_class i ON i.oid = ix.indexrelid\n",
    "JOIN pg_catalog.pg_class t ON t.oid = ix.indrelid\n",
    "JOIN pg_catalog.pg_namespace n ON n.oid = t.relnamespace\n",
    "WHERE n.nspname = 'public'\n",
    "ORDER BY n.nspname, t.relname, i.relname;"
   ]
  },
  {
   "cell_type": "markdown",
   "id": "c38e15f5",
   "metadata": {},
   "source": [
    "# Testing"
   ]
  },
  {
   "cell_type": "markdown",
   "id": "8b9887ef",
   "metadata": {},
   "source": [
    "## Gender Attribute"
   ]
  },
  {
   "cell_type": "markdown",
   "id": "2559e307",
   "metadata": {},
   "source": [
    "### Delete Gender Attribute"
   ]
  },
  {
   "cell_type": "code",
   "execution_count": null,
   "id": "688e5c5b",
   "metadata": {
    "vscode": {
     "languageId": "sql"
    }
   },
   "outputs": [],
   "source": [
    "%%sql\n",
    "\n",
    "CALL delete_discrete_attribute('Gender');"
   ]
  },
  {
   "cell_type": "markdown",
   "id": "5882d3db",
   "metadata": {},
   "source": [
    "### Add Gender Attribute"
   ]
  },
  {
   "cell_type": "code",
   "execution_count": null,
   "id": "f3113cde",
   "metadata": {
    "vscode": {
     "languageId": "sql"
    }
   },
   "outputs": [],
   "source": [
    "%%sql\n",
    "\n",
    "call add_discrete_attribute('Gender', '[\n",
    "    [\"Male\", 1], \n",
    "    [\"Female\", 1]\n",
    "]');"
   ]
  },
  {
   "cell_type": "markdown",
   "id": "9e927fa0",
   "metadata": {},
   "source": [
    "### View Gender Attribute"
   ]
  },
  {
   "cell_type": "code",
   "execution_count": null,
   "id": "a782ec68",
   "metadata": {
    "vscode": {
     "languageId": "sql"
    }
   },
   "outputs": [],
   "source": [
    "%%sql\n",
    "\n",
    "SELECT * FROM get_discrete_attribute('Gender');"
   ]
  },
  {
   "cell_type": "markdown",
   "id": "2616528f",
   "metadata": {},
   "source": [
    "## Hair Color Attribute"
   ]
  },
  {
   "cell_type": "markdown",
   "id": "ac18b266",
   "metadata": {},
   "source": [
    "### Delete Hair Color Attribute"
   ]
  },
  {
   "cell_type": "code",
   "execution_count": null,
   "id": "95097f16",
   "metadata": {
    "vscode": {
     "languageId": "sql"
    }
   },
   "outputs": [],
   "source": [
    "%%sql\n",
    "\n",
    "CALL delete_discrete_attribute('Hair Color');"
   ]
  },
  {
   "cell_type": "markdown",
   "id": "6eee412e",
   "metadata": {},
   "source": [
    "### Add Hair Color Attribute"
   ]
  },
  {
   "cell_type": "code",
   "execution_count": null,
   "id": "807f7ba9",
   "metadata": {
    "vscode": {
     "languageId": "sql"
    }
   },
   "outputs": [],
   "source": [
    "%%sql\n",
    "\n",
    "call add_discrete_attribute('Hair Color', '[\n",
    "    [\"Blonde\", 2], \n",
    "    [\"Brown\", 3],\n",
    "    [\"Golden\", 2],\n",
    "    [\"Auburn\", 2],\n",
    "    [\"Ginger\", 1],\n",
    "    [\"Sandy\", 2],\n",
    "    [\"Black\", 3],\n",
    "    [\"Gray\", 2]\n",
    "]');"
   ]
  },
  {
   "cell_type": "markdown",
   "id": "b85287e4",
   "metadata": {},
   "source": [
    "### View Hair Color Attribute"
   ]
  },
  {
   "cell_type": "code",
   "execution_count": null,
   "id": "21472e0f",
   "metadata": {
    "vscode": {
     "languageId": "sql"
    }
   },
   "outputs": [],
   "source": [
    "%%sql\n",
    "\n",
    "SELECT * FROM get_discrete_attribute('Hair Color');"
   ]
  },
  {
   "cell_type": "markdown",
   "id": "476196ce",
   "metadata": {},
   "source": [
    "## Height Attribute"
   ]
  },
  {
   "cell_type": "markdown",
   "id": "c6367071",
   "metadata": {},
   "source": [
    "### Delete Height Attribute"
   ]
  },
  {
   "cell_type": "code",
   "execution_count": null,
   "id": "4af06210",
   "metadata": {
    "vscode": {
     "languageId": "sql"
    }
   },
   "outputs": [],
   "source": [
    "%%sql\n",
    "\n",
    "CALL delete_continuous_attribute('Height');"
   ]
  },
  {
   "cell_type": "markdown",
   "id": "65d4a41f",
   "metadata": {},
   "source": [
    "### Add Height Attribute"
   ]
  },
  {
   "cell_type": "code",
   "execution_count": null,
   "id": "cde61298",
   "metadata": {
    "vscode": {
     "languageId": "sql"
    }
   },
   "outputs": [],
   "source": [
    "%%sql\n",
    "\n",
    "call add_continuous_attribute('Height', 0, 68, 96, 32, 0, 4, 'in.', '[\n",
    "    [\"Short\", 60],\n",
    "    [\"Average\", 74],\n",
    "    [\"Tall\", 96]\n",
    "]');"
   ]
  },
  {
   "cell_type": "markdown",
   "id": "d18023fd",
   "metadata": {},
   "source": [
    "### View Height Attribute"
   ]
  },
  {
   "cell_type": "code",
   "execution_count": null,
   "id": "2430bc78",
   "metadata": {
    "vscode": {
     "languageId": "sql"
    }
   },
   "outputs": [],
   "source": [
    "%%sql\n",
    "\n",
    "SELECT * FROM get_continuous_attribute('Height');"
   ]
  },
  {
   "cell_type": "markdown",
   "id": "78191931",
   "metadata": {},
   "source": [
    "## Human Variant"
   ]
  },
  {
   "cell_type": "markdown",
   "id": "ac4ef6c8",
   "metadata": {},
   "source": [
    "### Delete"
   ]
  },
  {
   "cell_type": "code",
   "execution_count": null,
   "id": "8b1380ff",
   "metadata": {
    "vscode": {
     "languageId": "sql"
    }
   },
   "outputs": [],
   "source": [
    "%%sql\n",
    "\n",
    "CALL delete_variant('Human');"
   ]
  },
  {
   "cell_type": "markdown",
   "id": "43916031",
   "metadata": {},
   "source": [
    "### Add"
   ]
  },
  {
   "cell_type": "code",
   "execution_count": null,
   "id": "e1b00701",
   "metadata": {
    "vscode": {
     "languageId": "sql"
    }
   },
   "outputs": [],
   "source": [
    "%%sql\n",
    "\n",
    "CALL add_variant('Human', '[\n",
    "    [\"a\", \"Gender\"],\n",
    "    [\"a\", \"Hair Color\"],\n",
    "    [\"a\", \"Height\"]\n",
    "]');"
   ]
  },
  {
   "cell_type": "markdown",
   "id": "e6ba73cb",
   "metadata": {},
   "source": [
    "### Get"
   ]
  },
  {
   "cell_type": "code",
   "execution_count": null,
   "id": "a16f7288",
   "metadata": {
    "vscode": {
     "languageId": "sql"
    }
   },
   "outputs": [],
   "source": [
    "%%sql\n",
    "\n",
    "SELECT * FROM get_variant('Human', 5);"
   ]
  },
  {
   "cell_type": "markdown",
   "id": "0413b0f5",
   "metadata": {},
   "source": [
    "## Generate a Group of Humans"
   ]
  },
  {
   "cell_type": "markdown",
   "id": "760da486",
   "metadata": {},
   "source": [
    "### Delete"
   ]
  },
  {
   "cell_type": "code",
   "execution_count": null,
   "id": "16b7250b",
   "metadata": {
    "vscode": {
     "languageId": "sql"
    }
   },
   "outputs": [],
   "source": [
    "%%sql\n",
    "\n",
    "CALL delete_entity_group('Test Humans 1', true);"
   ]
  },
  {
   "cell_type": "markdown",
   "id": "d534ce0b",
   "metadata": {},
   "source": [
    "### Create"
   ]
  },
  {
   "cell_type": "code",
   "execution_count": null,
   "id": "cc9d3115",
   "metadata": {
    "vscode": {
     "languageId": "sql"
    }
   },
   "outputs": [],
   "source": [
    "%%sql\n",
    "\n",
    "CALL generate_entity_group('Human', 'Test Humans 1', 'Test Human %s', 10);"
   ]
  },
  {
   "cell_type": "markdown",
   "id": "924e9781",
   "metadata": {},
   "source": [
    "### View"
   ]
  },
  {
   "cell_type": "code",
   "execution_count": null,
   "id": "2d557637",
   "metadata": {
    "vscode": {
     "languageId": "sql"
    }
   },
   "outputs": [],
   "source": [
    "%%sql\n",
    "\n",
    "SELECT * FROM get_entity_group_at_time('Test Humans 1', 0);"
   ]
  },
  {
   "cell_type": "markdown",
   "id": "d2120c32",
   "metadata": {},
   "source": [
    "# The Robot Test"
   ]
  },
  {
   "cell_type": "markdown",
   "id": "6dcb4992",
   "metadata": {},
   "source": [
    "## Paint Attribute"
   ]
  },
  {
   "cell_type": "code",
   "execution_count": null,
   "id": "a6ac9310",
   "metadata": {
    "vscode": {
     "languageId": "sql"
    }
   },
   "outputs": [],
   "source": [
    "%%sql\n",
    "\n",
    "CALL add_discrete_attribute('Color', '[\n",
    "        [\"None\", 3],\n",
    "        [\"Red\", 2],\n",
    "        [\"Yellow\", 2],\n",
    "        [\"Green\", 2],\n",
    "        [\"Blue\", 2],\n",
    "        [\"Orange\", 2],\n",
    "        [\"White\", 2],\n",
    "        [\"Black\", 2],\n",
    "        [\"Purple\", 2],\n",
    "        [\"Custom\", 1, \"Custom Pigment\"]\n",
    "]');"
   ]
  },
  {
   "cell_type": "code",
   "execution_count": null,
   "id": "2ba18db3",
   "metadata": {
    "vscode": {
     "languageId": "sql"
    }
   },
   "outputs": [],
   "source": [
    "%%sql\n",
    "\n",
    "CALL add_continuous_attribute('R', 0, 127, 255, 0, 0, 0, NULL, NULL);"
   ]
  },
  {
   "cell_type": "code",
   "execution_count": null,
   "id": "6b1470fa",
   "metadata": {
    "vscode": {
     "languageId": "sql"
    }
   },
   "outputs": [],
   "source": [
    "%%sql\n",
    "\n",
    "CALL add_continuous_attribute('G', 0, 127, 255, 0, 0, 0, NULL, NULL);"
   ]
  },
  {
   "cell_type": "code",
   "execution_count": null,
   "id": "08aba5fb",
   "metadata": {
    "vscode": {
     "languageId": "sql"
    }
   },
   "outputs": [],
   "source": [
    "%%sql\n",
    "\n",
    "CALL add_continuous_attribute('B', 0, 127, 255, 0, 0, 0, NULL, NULL);"
   ]
  },
  {
   "cell_type": "code",
   "execution_count": null,
   "id": "4497375a",
   "metadata": {
    "vscode": {
     "languageId": "sql"
    }
   },
   "outputs": [],
   "source": [
    "%%sql\n",
    "\n",
    "CALL add_variant('Custom Pigment', '[\n",
    "    [\"a\", \"R\"], \n",
    "    [\"a\", \"G\"], \n",
    "    [\"a\", \"B\"]\n",
    "]');"
   ]
  },
  {
   "cell_type": "code",
   "execution_count": null,
   "id": "acd23eb4",
   "metadata": {
    "vscode": {
     "languageId": "sql"
    }
   },
   "outputs": [],
   "source": [
    "%%sql\n",
    "\n",
    "CALL add_discrete_attribute(\n",
    "    'Sheen', '[\n",
    "        [\"Glossy\", 3],\n",
    "        [\"Egg-Shell\", 1],\n",
    "        [\"Matte\", 2],\n",
    "        [\"Semi-Gloss\", 2]\n",
    "]');"
   ]
  },
  {
   "cell_type": "code",
   "execution_count": null,
   "id": "144693cc",
   "metadata": {
    "vscode": {
     "languageId": "sql"
    }
   },
   "outputs": [],
   "source": [
    "%%sql\n",
    "\n",
    "CALL add_variant('Paint', '[\n",
    "    [\"a\", \"Color\"], \n",
    "    [\"a\", \"Sheen\"]\n",
    "]');"
   ]
  },
  {
   "cell_type": "markdown",
   "id": "faf98c18",
   "metadata": {},
   "source": [
    "## Material Attribute"
   ]
  },
  {
   "cell_type": "code",
   "execution_count": null,
   "id": "7da34d32",
   "metadata": {
    "vscode": {
     "languageId": "sql"
    }
   },
   "outputs": [],
   "source": [
    "%%sql\n",
    "\n",
    "CALL add_discrete_attribute(\n",
    "    'Material', '[\n",
    "        [\"Steel\", 4],\n",
    "        [\"Aluminum\", 6],\n",
    "        [\"Bronze\", 2],\n",
    "        [\"Iron\", 2],\n",
    "        [\"Carbon-Fiber\", 6],\n",
    "        [\"PVC\", 4],\n",
    "        [\"Animal Bone\", 1],\n",
    "        [\"Wood\", 2]\n",
    "    ]'\n",
    ");"
   ]
  },
  {
   "cell_type": "markdown",
   "id": "2f9f48ad",
   "metadata": {},
   "source": [
    "## Power-Level Attribute"
   ]
  },
  {
   "cell_type": "code",
   "execution_count": null,
   "id": "896a3eb2",
   "metadata": {
    "vscode": {
     "languageId": "sql"
    }
   },
   "outputs": [],
   "source": [
    "%%sql\n",
    "\n",
    "CALL add_continuous_attribute('Power-Level', 0, 50, 100, 24, 0, 2, NULL, '[\n",
    "    [\"Very Weak\", 20],\n",
    "    [\"Weak\", 40],\n",
    "    [\"Normal\", 60],\n",
    "    [\"Strong\", 80],\n",
    "    [\"Ultra\", 100]\n",
    "]');"
   ]
  },
  {
   "cell_type": "markdown",
   "id": "20b1f8dc",
   "metadata": {},
   "source": [
    "## Length Attribute"
   ]
  },
  {
   "cell_type": "code",
   "execution_count": null,
   "id": "0575c93e",
   "metadata": {
    "vscode": {
     "languageId": "sql"
    }
   },
   "outputs": [],
   "source": [
    "%%sql\n",
    "\n",
    "CALL add_continuous_attribute('Length', .01, 36, 120, 36, 0, 2, 'in.', NULL);"
   ]
  },
  {
   "cell_type": "markdown",
   "id": "b8ffc601",
   "metadata": {},
   "source": [
    "## Diameter Attribute"
   ]
  },
  {
   "cell_type": "code",
   "execution_count": null,
   "id": "f21d79a2",
   "metadata": {
    "vscode": {
     "languageId": "sql"
    }
   },
   "outputs": [],
   "source": [
    "%%sql\n",
    "\n",
    "CALL add_continuous_attribute('Diameter', .01, 1, 4, 12, 0, 2, 'in.', NULL);"
   ]
  },
  {
   "cell_type": "markdown",
   "id": "26ea17c7",
   "metadata": {},
   "source": [
    "## Sub-Arm Attribute"
   ]
  },
  {
   "cell_type": "code",
   "execution_count": null,
   "id": "5dfd0248",
   "metadata": {
    "vscode": {
     "languageId": "sql"
    }
   },
   "outputs": [],
   "source": [
    "%%sql\n",
    "\n",
    "CALL add_discrete_attribute('Sub-Arm', '[[\"No\", 4], [\"Yes\", 1, \"Arm\"]]');"
   ]
  },
  {
   "cell_type": "markdown",
   "id": "d0effc29",
   "metadata": {},
   "source": [
    "## Attachment Attribute"
   ]
  },
  {
   "cell_type": "code",
   "execution_count": null,
   "id": "e985ea1d",
   "metadata": {
    "vscode": {
     "languageId": "sql"
    }
   },
   "outputs": [],
   "source": [
    "%%sql\n",
    "\n",
    "CALL add_discrete_attribute(\n",
    "    'Attachment', '[\n",
    "        [\"Cutter\", 3],\n",
    "        [\"Welder\", 2],\n",
    "        [\"Pincher\", 3],\n",
    "        [\"Grabber\", 3],\n",
    "        [\"Laser\", 1],\n",
    "        [\"Cannon\", 1],\n",
    "        [\"Hammer\", 2],\n",
    "        [\"Grappler\", 1],\n",
    "        [\"Vacuum\", 2]\n",
    "    ]'\n",
    ");"
   ]
  },
  {
   "cell_type": "markdown",
   "id": "008e9602",
   "metadata": {},
   "source": [
    "## Input Attribute"
   ]
  },
  {
   "cell_type": "code",
   "execution_count": null,
   "id": "5c80107a",
   "metadata": {
    "vscode": {
     "languageId": "sql"
    }
   },
   "outputs": [],
   "source": [
    "%%sql\n",
    "\n",
    "CALL add_discrete_attribute(\n",
    "    'Input', '[\n",
    "        [\"Camera\", 5],\n",
    "        [\"Microphone\", 5],\n",
    "        [\"Smell-O-Sense\", 2],\n",
    "        [\"Infra-Red\", 3],\n",
    "        [\"X-Ray\", 3],\n",
    "        [\"GPS\", 4],\n",
    "        [\"Temporal\", 1]\n",
    "    ]'\n",
    ");"
   ]
  },
  {
   "cell_type": "markdown",
   "id": "fae0da45",
   "metadata": {},
   "source": [
    "## Output Attribute"
   ]
  },
  {
   "cell_type": "code",
   "execution_count": null,
   "id": "d52b8be4",
   "metadata": {
    "vscode": {
     "languageId": "sql"
    }
   },
   "outputs": [],
   "source": [
    "%%sql\n",
    "\n",
    "CALL add_discrete_attribute(\n",
    "    'Output', '[\n",
    "        [\"MIDI Tone\", 5],\n",
    "        [\"Text Screen\", 7],\n",
    "        [\"Clicker\", 4],\n",
    "        [\"Recorded Phrases\", 7],\n",
    "        [\"X-Ray\", 5],\n",
    "        [\"Light Array\", 5],\n",
    "        [\"Party Blower\", 1],\n",
    "        [\"Kazoo\", 1]\n",
    "    ]'\n",
    ");"
   ]
  },
  {
   "cell_type": "markdown",
   "id": "e0d4518a",
   "metadata": {},
   "source": [
    "## Foot Attribute"
   ]
  },
  {
   "cell_type": "code",
   "execution_count": null,
   "id": "a9c6875b",
   "metadata": {
    "vscode": {
     "languageId": "sql"
    }
   },
   "outputs": [],
   "source": [
    "%%sql\n",
    "\n",
    "CALL add_discrete_attribute(\n",
    "    'Foot', '[\n",
    "        [\"Roller Skate\", 5],\n",
    "        [\"Stomper\", 7],\n",
    "        [\"Tread\", 4],\n",
    "        [\"Pogo\", 7],\n",
    "        [\"Thruster\", 5],\n",
    "        [\"Suction\", 5]\n",
    "    ]'\n",
    ");"
   ]
  },
  {
   "cell_type": "markdown",
   "id": "1e8a47aa",
   "metadata": {},
   "source": [
    "## Shape Attribute"
   ]
  },
  {
   "cell_type": "code",
   "execution_count": null,
   "id": "8d367abf",
   "metadata": {
    "vscode": {
     "languageId": "sql"
    }
   },
   "outputs": [],
   "source": [
    "%%sql\n",
    "\n",
    "CALL add_discrete_attribute(\n",
    "    'Shape', '[\n",
    "        [\"Spherical\", 5],\n",
    "        [\"Blocky\", 7],\n",
    "        [\"Sculpted\", 4],\n",
    "        [\"Spiky\", 2],\n",
    "        [\"Segmented\", 5],\n",
    "        [\"Donut\", 1]\n",
    "    ]'\n",
    ");"
   ]
  },
  {
   "cell_type": "markdown",
   "id": "162adde8",
   "metadata": {},
   "source": [
    "## Power Source Attribute"
   ]
  },
  {
   "cell_type": "code",
   "execution_count": null,
   "id": "c10ce502",
   "metadata": {
    "vscode": {
     "languageId": "sql"
    }
   },
   "outputs": [],
   "source": [
    "%%sql\n",
    "\n",
    "CALL add_discrete_attribute(\n",
    "    'Power Source', '[\n",
    "        [\"Battery\", 15],\n",
    "        [\"Solar\", 10],\n",
    "        [\"Diesel\", 10],\n",
    "        [\"Wired\", 12],\n",
    "        [\"Wind\", 4],\n",
    "        [\"Nuclear Core\", 4]\n",
    "    ]'\n",
    ");"
   ]
  },
  {
   "cell_type": "markdown",
   "id": "02777e10",
   "metadata": {},
   "source": [
    "## Neck Width Attribute"
   ]
  },
  {
   "cell_type": "code",
   "execution_count": null,
   "id": "f759a015",
   "metadata": {
    "vscode": {
     "languageId": "sql"
    }
   },
   "outputs": [],
   "source": [
    "%%sql\n",
    "\n",
    "CALL add_continuous_attribute('Neck Width', 1, 10, 2, 2, 0, 1, 'in.', NULL);"
   ]
  },
  {
   "cell_type": "markdown",
   "id": "bd74f1a5",
   "metadata": {},
   "source": [
    "## Weight Attribute"
   ]
  },
  {
   "cell_type": "code",
   "execution_count": null,
   "id": "52a23cdc",
   "metadata": {
    "vscode": {
     "languageId": "sql"
    }
   },
   "outputs": [],
   "source": [
    "%%sql\n",
    "\n",
    "CALL add_continuous_attribute('Weight', .01, 20, 5000, 2, 0, 1, 'lbs.', NULL);"
   ]
  },
  {
   "cell_type": "markdown",
   "id": "39aef87f",
   "metadata": {},
   "source": [
    "## Torso Variant"
   ]
  },
  {
   "cell_type": "code",
   "execution_count": null,
   "id": "175882ef",
   "metadata": {
    "vscode": {
     "languageId": "sql"
    }
   },
   "outputs": [],
   "source": [
    "%%sql\n",
    "\n",
    "CALL add_variant('Torso', '[\n",
    "    [\"a\", \"Shape\"], \n",
    "    [\"a\", \"Material\"], \n",
    "    [\"a\", \"Power-Level\"], \n",
    "    [\"v\", \"Paint\"]\n",
    "]');"
   ]
  },
  {
   "cell_type": "markdown",
   "id": "d6d38110",
   "metadata": {},
   "source": [
    "## Head Variant"
   ]
  },
  {
   "cell_type": "code",
   "execution_count": null,
   "id": "7fb6020b",
   "metadata": {
    "vscode": {
     "languageId": "sql"
    }
   },
   "outputs": [],
   "source": [
    "%%sql\n",
    "\n",
    "CALL add_variant('Head', '[\n",
    "    [\"a\", \"Input\"], \n",
    "    [\"a\", \"Output\"], \n",
    "    [\"a\", \"Material\"], \n",
    "    [\"a\", \"Power-Level\"], \n",
    "    [\"v\", \"Paint\"]\n",
    "]');"
   ]
  },
  {
   "cell_type": "markdown",
   "id": "6e60a03a",
   "metadata": {},
   "source": [
    "## Leg Variant"
   ]
  },
  {
   "cell_type": "code",
   "execution_count": null,
   "id": "d8c4c607",
   "metadata": {
    "vscode": {
     "languageId": "sql"
    }
   },
   "outputs": [],
   "source": [
    "%%sql\n",
    "\n",
    "CALL add_variant('Leg', '[\n",
    "    [\"a\", \"Foot\"], \n",
    "    [\"a\", \"Material\"], \n",
    "    [\"a\", \"Power-Level\"], \n",
    "    [\"a\", \"Length\"],\n",
    "    [\"a\", \"Diameter\"],\n",
    "    [\"v\", \"Paint\"]\n",
    "]');"
   ]
  },
  {
   "cell_type": "markdown",
   "id": "67cc750f",
   "metadata": {},
   "source": [
    "## Hand Variant"
   ]
  },
  {
   "cell_type": "code",
   "execution_count": null,
   "id": "7b5f0af3",
   "metadata": {
    "vscode": {
     "languageId": "sql"
    }
   },
   "outputs": [],
   "source": [
    "%%sql\n",
    "\n",
    "-- Create the variant groupings\n",
    "CALL add_variant('Hand', '[\n",
    "    [\"a\", \"Attachment\"], \n",
    "    [\"a\", \"Material\"],  \n",
    "    [\"a\", \"Power-Level\"], \n",
    "    [\"v\", \"Paint\"]\n",
    "]');"
   ]
  },
  {
   "cell_type": "markdown",
   "id": "1550d51c",
   "metadata": {},
   "source": [
    "## Arm Variant"
   ]
  },
  {
   "cell_type": "code",
   "execution_count": null,
   "id": "3d27fdeb",
   "metadata": {
    "vscode": {
     "languageId": "sql"
    }
   },
   "outputs": [],
   "source": [
    "%%sql\n",
    "\n",
    "CALL add_variant('Arm', '[\n",
    "    [\"v\", \"Hand\"], \n",
    "    [\"a\", \"Material\"], \n",
    "    [\"v\", \"Paint\"], \n",
    "    [\"a\", \"Length\"], \n",
    "    [\"a\", \"Diameter\"], \n",
    "    [\"a\", \"Sub-Arm\"]\n",
    "]');"
   ]
  },
  {
   "cell_type": "markdown",
   "id": "41cad782",
   "metadata": {},
   "source": [
    "## Robot Variant"
   ]
  },
  {
   "cell_type": "code",
   "execution_count": null,
   "id": "4690bb51",
   "metadata": {
    "vscode": {
     "languageId": "sql"
    }
   },
   "outputs": [],
   "source": [
    "%%sql\n",
    "\n",
    "CALL add_variant('Robot', '[\n",
    "    [\"a\", \"Power Source\"],\n",
    "    [\"v\", \"Head\"],\n",
    "    [\"a\", \"Neck Width\"],\n",
    "    [\"v\", \"Torso\"],\n",
    "    [\"v\", \"Arm\", \"Left Arm\"], \n",
    "    [\"v\", \"Arm\", \"Right Arm\"], \n",
    "    [\"v\", \"Leg\", \"Left Leg\"], \n",
    "    [\"v\", \"Leg\", \"Right Leg\"],\n",
    "    [\"a\", \"Weight\"]\n",
    "]');"
   ]
  },
  {
   "cell_type": "markdown",
   "id": "e4b50fdf",
   "metadata": {},
   "source": [
    "## Effects"
   ]
  },
  {
   "cell_type": "markdown",
   "id": "63b6624c",
   "metadata": {},
   "source": [
    "### Welder hands cannot be made of wood'"
   ]
  },
  {
   "cell_type": "code",
   "execution_count": null,
   "id": "73a8a10f",
   "metadata": {
    "vscode": {
     "languageId": "sql"
    }
   },
   "outputs": [],
   "source": [
    "%%sql\n",
    "\n",
    "-- Add effects\n",
    "\n",
    "-- Test: discrete effect on same variant level, disable span\n",
    "CALL add_discrete_effect(\n",
    "    'Welder hands cannot be made of wood',\n",
    "    'Hand',\n",
    "    '[[\"Attachment\", \"Welder\"]]',\n",
    "    '[\"Material\"]',\n",
    "    '[[\"Wood\", 0]]'\n",
    ");"
   ]
  },
  {
   "cell_type": "markdown",
   "id": "434b2646",
   "metadata": {},
   "source": [
    "### Wooden hands have lower power level"
   ]
  },
  {
   "cell_type": "code",
   "execution_count": null,
   "id": "ab002bd5",
   "metadata": {
    "vscode": {
     "languageId": "sql"
    }
   },
   "outputs": [],
   "source": [
    "%%sql\n",
    "\n",
    "-- Test: continous effect on same variant level\n",
    "CALL add_continuous_effect(\n",
    "    'Wooden hands have lower power level',\n",
    "    'Hand',\n",
    "    '[[\"Material\", \"Wood\"]]',\n",
    "    '[\"Power-Level\"]',\n",
    "    -20, 0, 0\n",
    ");"
   ]
  },
  {
   "cell_type": "markdown",
   "id": "ab12b706",
   "metadata": {},
   "source": [
    "### Spherical torsos are more likely to be painted white or blue"
   ]
  },
  {
   "cell_type": "code",
   "execution_count": null,
   "id": "531f44f2",
   "metadata": {
    "vscode": {
     "languageId": "sql"
    }
   },
   "outputs": [],
   "source": [
    "%%sql\n",
    "\n",
    "-- Test: stacked discrete effect on an attribute one level down\n",
    "CALL add_discrete_effect(\n",
    "    'Spherical torsos are more likely to be painted white or blue',\n",
    "    'Torso',\n",
    "    '[[\"Shape\", \"Spherical\"]]',\n",
    "    '[\"Paint\", \"Color\"]',\n",
    "    '[[\"White\", 10], [\"Blue\", 5]]'\n",
    ");"
   ]
  },
  {
   "cell_type": "markdown",
   "id": "f879b5d7",
   "metadata": {},
   "source": [
    "### Animal bone torsos are more likely to be painted white or green"
   ]
  },
  {
   "cell_type": "code",
   "execution_count": null,
   "id": "a3df9133",
   "metadata": {
    "vscode": {
     "languageId": "sql"
    }
   },
   "outputs": [],
   "source": [
    "%%sql\n",
    "\n",
    "CALL add_discrete_effect(\n",
    "    'Animal bone torsos are more likely to be painted white or green',\n",
    "    'Torso',\n",
    "    '[[\"Material\", \"Animal Bone\"]]',\n",
    "    '[\"Paint\", \"Color\"]',\n",
    "    '[[\"White\", 10], [\"Green\", 5]]'\n",
    ");"
   ]
  },
  {
   "cell_type": "markdown",
   "id": "2e832236",
   "metadata": {},
   "source": [
    "### Wooden torsos have lower power level"
   ]
  },
  {
   "cell_type": "code",
   "execution_count": null,
   "id": "5e762abb",
   "metadata": {
    "vscode": {
     "languageId": "sql"
    }
   },
   "outputs": [],
   "source": [
    "%%sql\n",
    "\n",
    "-- Test: stacked continuous effect on same variant level\n",
    "CALL add_continuous_effect(\n",
    "    'Wooden torsos have lower power level',\n",
    "    'Torso',\n",
    "    '[[\"Material\", \"Wood\"]]',\n",
    "    '[\"Power-Level\"]',\n",
    "    -20, 0, 0\n",
    ");"
   ]
  },
  {
   "cell_type": "markdown",
   "id": "1f489da6",
   "metadata": {},
   "source": [
    "### Blocky torsos have higher power level"
   ]
  },
  {
   "cell_type": "code",
   "execution_count": null,
   "id": "0185bc5d",
   "metadata": {
    "vscode": {
     "languageId": "sql"
    }
   },
   "outputs": [],
   "source": [
    "%%sql\n",
    "\n",
    "CALL add_continuous_effect(\n",
    "    'Blocky torsos have higher power level',\n",
    "    'Torso',\n",
    "    '[[\"Shape\", \"Blocky\"]]',\n",
    "    '[\"Power-Level\"]',\n",
    "    15, 0, 0\n",
    ");"
   ]
  },
  {
   "cell_type": "markdown",
   "id": "a93c61d4",
   "metadata": {},
   "source": [
    "### All diesel-powered robots have a roller skate on their left foot"
   ]
  },
  {
   "cell_type": "code",
   "execution_count": null,
   "id": "b65b9f83",
   "metadata": {
    "vscode": {
     "languageId": "sql"
    }
   },
   "outputs": [],
   "source": [
    "%%sql\n",
    "\n",
    "-- Test: discrete effect on an attribute one level down, restricting options\n",
    "CALL add_discrete_effect(\n",
    "    'All diesel-powered robots have a roller skate on their left foot',\n",
    "    'Robot',\n",
    "    '[[\"Power Source\", \"Diesel\"]]',\n",
    "    '[\"Left Leg\", \"Foot\"]',\t\n",
    "    '[[\"Roller Skate\", 1]]',\n",
    "    true\n",
    ");"
   ]
  },
  {
   "cell_type": "markdown",
   "id": "5543c29a",
   "metadata": {},
   "source": [
    "### Robot with wired power are less likely to have heads with camera input"
   ]
  },
  {
   "cell_type": "code",
   "execution_count": null,
   "id": "83fe08ba",
   "metadata": {
    "vscode": {
     "languageId": "sql"
    }
   },
   "outputs": [],
   "source": [
    "%%sql\n",
    "\n",
    "-- Test: one level down\n",
    "CALL add_discrete_effect(\n",
    "    'Wired-powered robots are less likely to have camera-input heads',\n",
    "    'Robot',\n",
    "    '[[\"Power Source\", \"Wired\"]]',\n",
    "    '[\"Head\", \"Input\"]',\t\n",
    "    '[[\"Camera\", -3]]',\n",
    "    true\n",
    ");"
   ]
  },
  {
   "cell_type": "markdown",
   "id": "32ccf6f3",
   "metadata": {},
   "source": [
    "### Robots with camera input heads are more likely to have wider necks"
   ]
  },
  {
   "cell_type": "code",
   "execution_count": null,
   "id": "7d1859bd",
   "metadata": {
    "vscode": {
     "languageId": "sql"
    }
   },
   "outputs": [],
   "source": [
    "%%sql\n",
    "\n",
    "-- Test: continuous effect on an attribute multiple levels down (including recursive)\n",
    "CALL add_continuous_effect(\n",
    "    'Robots with camera input heads are more likely to have wider necks',\n",
    "    'Robot',\n",
    "    '[\"Head\", [\"Input\", \"Camera\"]]',\n",
    "    '[\"Neck Width\"]',\n",
    "    5, 0, 0\n",
    ");"
   ]
  },
  {
   "cell_type": "markdown",
   "id": "04526bf1",
   "metadata": {},
   "source": [
    "### Robots with nuclear cores have high-powered heads"
   ]
  },
  {
   "cell_type": "code",
   "execution_count": null,
   "id": "fb15067a",
   "metadata": {
    "vscode": {
     "languageId": "sql"
    }
   },
   "outputs": [],
   "source": [
    "%%sql\n",
    "\n",
    "-- Test: continuous effect on an attribute multiple levels down (including recursive)\n",
    "CALL add_continuous_effect(\n",
    "    'Robots with nuclear cores have high-powered heads',\n",
    "    'Robot',\n",
    "    '[[\"Power Source\", \"Nuclear Core\"]]',\n",
    "    '[\"Head\", \"Power-Level\"]',\n",
    "    90, 6, 4\n",
    ");"
   ]
  },
  {
   "cell_type": "markdown",
   "id": "4bc5db4e",
   "metadata": {},
   "source": [
    "### Robots with nuclear cores have high-powered torsos"
   ]
  },
  {
   "cell_type": "code",
   "execution_count": null,
   "id": "16d32058",
   "metadata": {
    "vscode": {
     "languageId": "sql"
    }
   },
   "outputs": [],
   "source": [
    "%%sql\n",
    "\n",
    "CALL add_continuous_effect(\n",
    "    'Robots with nuclear cores have high-powered torsos',\n",
    "    'Robot',\n",
    "    '[[\"Power Source\", \"Nuclear Core\"]]',\n",
    "    '[\"Torso\", \"Power-Level\"]',\n",
    "    90, 6, 4\n",
    ");"
   ]
  },
  {
   "cell_type": "markdown",
   "id": "dcdf6cfe",
   "metadata": {},
   "source": [
    "### Robots with nuclear cores have high-powered left legs"
   ]
  },
  {
   "cell_type": "code",
   "execution_count": null,
   "id": "97f401ec",
   "metadata": {
    "vscode": {
     "languageId": "sql"
    }
   },
   "outputs": [],
   "source": [
    "%%sql\n",
    "\n",
    "CALL add_continuous_effect(\n",
    "    'Robots with nuclear cores have high-powered left legs',\n",
    "    'Robot',\n",
    "    '[[\"Power Source\", \"Nuclear Core\"]]',\n",
    "    '[\"Left Leg\", \"Power-Level\"]',\n",
    "    90, 6, 4\n",
    ");"
   ]
  },
  {
   "cell_type": "markdown",
   "id": "57ae4259",
   "metadata": {},
   "source": [
    "### Robots with nuclear cores have high-powered right legs"
   ]
  },
  {
   "cell_type": "code",
   "execution_count": null,
   "id": "d0eb2d8c",
   "metadata": {
    "vscode": {
     "languageId": "sql"
    }
   },
   "outputs": [],
   "source": [
    "%%sql\n",
    "\n",
    "CALL add_continuous_effect(\n",
    "    'Robots with nuclear cores have high-powered right legs',\n",
    "    'Robot',\n",
    "    '[[\"Power Source\", \"Nuclear Core\"]]',\n",
    "    '[\"Right Leg\", \"Power-Level\"]',\n",
    "    90, 6, 4\n",
    ");"
   ]
  },
  {
   "cell_type": "markdown",
   "id": "698aaed9",
   "metadata": {},
   "source": [
    "### Robots with nuclear cores have high-powered right hands"
   ]
  },
  {
   "cell_type": "code",
   "execution_count": null,
   "id": "8f85ed1b",
   "metadata": {
    "vscode": {
     "languageId": "sql"
    }
   },
   "outputs": [],
   "source": [
    "%%sql\n",
    "\n",
    "CALL add_continuous_effect(\n",
    "    'Robots with nuclear cores have high-powered right hands',\n",
    "    'Robot',\n",
    "    '[[\"Power Source\", \"Nuclear Core\"]]',\n",
    "    '[\"Right Arm\", \"Hand\", \"Power-Level\"]',\n",
    "    90, 6, 4\n",
    ");"
   ]
  },
  {
   "cell_type": "markdown",
   "id": "d3703dcf",
   "metadata": {},
   "source": [
    "### Robots with nuclear cores have high-powered left hands"
   ]
  },
  {
   "cell_type": "code",
   "execution_count": null,
   "id": "89e33651",
   "metadata": {
    "vscode": {
     "languageId": "sql"
    }
   },
   "outputs": [],
   "source": [
    "%%sql\n",
    "\n",
    "CALL add_continuous_effect(\n",
    "    'Robots with nuclear cores have high-powered left hands',\n",
    "    'Robot',\n",
    "    '[[\"Power Source\", \"Nuclear Core\"]]',\n",
    "    '[\"Left Arm\", \"Hand\", \"Power-Level\"]',\n",
    "    90, 6, 4\n",
    ");"
   ]
  },
  {
   "cell_type": "markdown",
   "id": "794f2689",
   "metadata": {},
   "source": [
    "### Robots with nuclear cores have high-powered right sub-arm hands"
   ]
  },
  {
   "cell_type": "code",
   "execution_count": null,
   "id": "1beb957b",
   "metadata": {
    "vscode": {
     "languageId": "sql"
    }
   },
   "outputs": [],
   "source": [
    "%%sql\n",
    "\n",
    "CALL add_continuous_effect(\n",
    "    'Robots with nuclear cores have high-powered right sub-arm hands',\n",
    "    'Robot',\n",
    "    '[[\"Power Source\", \"Nuclear Core\"]]',\n",
    "    '[\"Right Arm\", [\"Sub-Arm\", \"Yes\"], \"Hand\", \"Power-Level\"]',\n",
    "    90, 6, 4\n",
    ");"
   ]
  },
  {
   "cell_type": "markdown",
   "id": "b1b61b56",
   "metadata": {},
   "source": [
    "### Robots with nuclear cores have high-powered left sub-arm hands"
   ]
  },
  {
   "cell_type": "code",
   "execution_count": null,
   "id": "2e765ef8",
   "metadata": {
    "vscode": {
     "languageId": "sql"
    }
   },
   "outputs": [],
   "source": [
    "%%sql\n",
    "\n",
    "CALL add_continuous_effect(\n",
    "    'Robots with nuclear cores have high-powered left sub-arm hands',\n",
    "    'Robot',\n",
    "    '[[\"Power Source\", \"Nuclear Core\"]]',\n",
    "    '[\"Left Arm\", [\"Sub-Arm\", \"Yes\"], \"Hand\", \"Power-Level\"]',\n",
    "    90, 6, 4\n",
    ");"
   ]
  },
  {
   "cell_type": "markdown",
   "id": "955f377e",
   "metadata": {},
   "source": [
    "### Robots with steel torsos have a higher weight"
   ]
  },
  {
   "cell_type": "code",
   "execution_count": null,
   "id": "194c00f6",
   "metadata": {
    "vscode": {
     "languageId": "sql"
    }
   },
   "outputs": [],
   "source": [
    "%%sql\n",
    "\n",
    "-- Test: continous effect on an attribute one level up\n",
    "CALL add_continuous_effect(\n",
    "    'Robots with steel torsos have a higher weight',\n",
    "    'Robot',\n",
    "    '[\"Torso\", [\"Material\", \"Steel\"]]',\n",
    "    '[\"Weight\"]',\n",
    "    50, 0, 2\n",
    ");"
   ]
  },
  {
   "cell_type": "markdown",
   "id": "998ae115",
   "metadata": {},
   "source": [
    "### Robots with iron torsos have a higher weight"
   ]
  },
  {
   "cell_type": "code",
   "execution_count": null,
   "id": "2ac948c3",
   "metadata": {
    "vscode": {
     "languageId": "sql"
    }
   },
   "outputs": [],
   "source": [
    "%%sql\n",
    "\n",
    "CALL add_continuous_effect(\n",
    "    'Robots with iron torsos have a higher weight',\n",
    "    'Robot',\n",
    "    '[\"Torso\", [\"Material\", \"Iron\"]]',\n",
    "    '[\"Weight\"]',\n",
    "    100, 0, 3\n",
    ");"
   ]
  },
  {
   "cell_type": "markdown",
   "id": "9e34b82b",
   "metadata": {},
   "source": [
    "### Grappler hands are more likely to be on metal arms"
   ]
  },
  {
   "cell_type": "code",
   "execution_count": null,
   "id": "a32cd7ba",
   "metadata": {
    "vscode": {
     "languageId": "sql"
    }
   },
   "outputs": [],
   "source": [
    "%%sql\n",
    "\n",
    "-- Test: discrete effect on an attribute one level up\n",
    "CALL add_discrete_effect(\n",
    "    'Grappler hands are more likely to be on metal arms',\n",
    "    'Arm',\n",
    "    '[\"Hand\", [\"Attachment\", \"Grappler\"]]',\n",
    "    '[\"Material\"]',\n",
    "    '[[\"Steel\", 5],\n",
    "      [\"Aluminum\", 5],\n",
    "      [\"Bronze\", 5],\n",
    "      [\"Iron\", 5],\n",
    "      [\"Carbon-Fiber\", 5]]',\n",
    "    true\n",
    ");"
   ]
  },
  {
   "cell_type": "markdown",
   "id": "b3452781",
   "metadata": {},
   "source": [
    "### Heads with kazoo outputs can be painted rainbow"
   ]
  },
  {
   "cell_type": "code",
   "execution_count": null,
   "id": "b2e217cb",
   "metadata": {
    "vscode": {
     "languageId": "sql"
    }
   },
   "outputs": [],
   "source": [
    "%%sql\n",
    "\n",
    "-- Test: discrete effect that adds new spans\n",
    "CALL add_discrete_effect(\n",
    "    'Heads with kazoo outputs can be painted rainbow',\n",
    "    'Head',\n",
    "    '[[\"Output\", \"Kazoo\"]]',\n",
    "    '[\"Paint\", \"Color\"]',\n",
    "    '[[\"Rainbow\", 100]]'\n",
    ");"
   ]
  },
  {
   "cell_type": "markdown",
   "id": "0399a659",
   "metadata": {},
   "source": [
    "### Get Variant"
   ]
  },
  {
   "cell_type": "code",
   "execution_count": null,
   "id": "506237dd",
   "metadata": {
    "vscode": {
     "languageId": "sql"
    }
   },
   "outputs": [],
   "source": [
    "%%sql\n",
    "\n",
    "SELECT * FROM get_variant('Robot', 4);"
   ]
  },
  {
   "cell_type": "markdown",
   "id": "40f0e3b6",
   "metadata": {},
   "source": [
    "### Generate Robots"
   ]
  },
  {
   "cell_type": "code",
   "execution_count": null,
   "id": "59bd9dc5",
   "metadata": {
    "vscode": {
     "languageId": "sql"
    }
   },
   "outputs": [],
   "source": [
    "%%sql\n",
    "\n",
    "CALL generate_entity_group('Robot', 'Test Robots 1', 'Robot %s', 10);"
   ]
  },
  {
   "cell_type": "markdown",
   "id": "130003bb",
   "metadata": {},
   "source": [
    "### Inspect Output"
   ]
  },
  {
   "cell_type": "code",
   "execution_count": null,
   "id": "606cfb7c",
   "metadata": {
    "vscode": {
     "languageId": "sql"
    }
   },
   "outputs": [],
   "source": [
    "%%sql\n",
    "\n",
    "SELECT * FROM get_entity_group_at_time('Test Robots 1', 0);"
   ]
  }
 ],
 "metadata": {
  "kernelspec": {
   "display_name": "jupyter-env",
   "language": "python",
   "name": "python3"
  },
  "language_info": {
   "codemirror_mode": {
    "name": "ipython",
    "version": 3
   },
   "file_extension": ".py",
   "mimetype": "text/x-python",
   "name": "python",
   "nbconvert_exporter": "python",
   "pygments_lexer": "ipython3",
   "version": "3.11.11"
  }
 },
 "nbformat": 4,
 "nbformat_minor": 5
}
