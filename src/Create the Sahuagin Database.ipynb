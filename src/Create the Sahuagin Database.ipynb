{
 "cells": [
  {
   "cell_type": "markdown",
   "id": "454d1927",
   "metadata": {
    "jp-MarkdownHeadingCollapsed": true
   },
   "source": [
    "# Install Dependencies\n",
    "Install additional packages needed to run SQL command in Jupyter cells and send them to a Postgres database server."
   ]
  },
  {
   "cell_type": "markdown",
   "id": "0600e19b",
   "metadata": {},
   "source": [
    "## PostgreSQL\n",
    "Allows for a self-contained instance of PostresSQL for this notebook."
   ]
  },
  {
   "cell_type": "code",
   "execution_count": null,
   "id": "42a03f56",
   "metadata": {},
   "outputs": [],
   "source": [
    "%mamba install -y -c conda-forge postgresql=17 --quiet\n",
    "!psql --version"
   ]
  },
  {
   "cell_type": "markdown",
   "id": "2e9b79f9",
   "metadata": {},
   "source": [
    "## PostgreSQL Adapter for Python\n",
    "Essential for connecting and interacting with PostgreSQL databases from Python code in Jupyter notebooks."
   ]
  },
  {
   "cell_type": "code",
   "execution_count": null,
   "id": "00a39a5a",
   "metadata": {
    "jupyter": {
     "source_hidden": true
    }
   },
   "outputs": [],
   "source": [
    "%mamba install -c conda-forge psycopg2 -y --quiet\n",
    "!python -c \"import psycopg2; print(psycopg2.__version__)\""
   ]
  },
  {
   "cell_type": "markdown",
   "id": "3dd205f8",
   "metadata": {},
   "source": [
    "## Language Server Protocol for Jupyter\n",
    "Enables code completion, hover documentation, and real-time syntax checking for multiple languages in Jupyter notebooks, including SQL."
   ]
  },
  {
   "cell_type": "code",
   "execution_count": null,
   "id": "d8695fc9",
   "metadata": {},
   "outputs": [],
   "source": [
    "%mamba install -c conda-forge jupyterlab-lsp -y --quiet\n",
    "!jupyter labextension list\n",
    "!jupyter server extension list"
   ]
  },
  {
   "cell_type": "markdown",
   "id": "9d51630c",
   "metadata": {},
   "source": [
    "## Language Server for Python\n",
    "Provides real-time linting, code suggestions, and auto-completion in Jupyter notebooks for Python code."
   ]
  },
  {
   "cell_type": "code",
   "execution_count": null,
   "id": "54f524e2",
   "metadata": {},
   "outputs": [],
   "source": [
    "%mamba install -c conda-forge python-lsp-server -y --quiet\n",
    "!pylsp --version"
   ]
  },
  {
   "cell_type": "markdown",
   "id": "25a1410c",
   "metadata": {},
   "source": [
    "## SQL Magic Extension for Jupyter\n",
    "Allows running SQL queries directly in Jupyter notebooks using SQL magic (%%sql). Enables seamless execution of SQL queries inside a Jupyter Notebook without switching to a database client."
   ]
  },
  {
   "cell_type": "code",
   "execution_count": null,
   "id": "9975a9cb",
   "metadata": {},
   "outputs": [],
   "source": [
    "%mamba install -c conda-forge jupysql -y --quiet\n",
    "!python -c \"import sql; print(sql.__version__)\"\n",
    "!jupyter labextension list"
   ]
  },
  {
   "cell_type": "markdown",
   "id": "43b047d9",
   "metadata": {},
   "source": [
    "## SQL Editor Extension\n",
    "Enables SQL-specific features in Jupyter notebooks, such as:\n",
    "* Syntax highlighting\n",
    "* Query auto-completion\n",
    "* Error checking"
   ]
  },
  {
   "cell_type": "code",
   "execution_count": null,
   "id": "16d489df",
   "metadata": {},
   "outputs": [],
   "source": [
    "%pip install jupyterlab_sql_editor --quiet\n",
    "!jupyter labextension list"
   ]
  },
  {
   "cell_type": "markdown",
   "id": "617aed9a",
   "metadata": {
    "jp-MarkdownHeadingCollapsed": true
   },
   "source": [
    "# Start PostgreSQL"
   ]
  },
  {
   "cell_type": "markdown",
   "id": "03c3464e",
   "metadata": {},
   "source": [
    "## Define paths and logfile"
   ]
  },
  {
   "cell_type": "code",
   "execution_count": null,
   "id": "e8d57513",
   "metadata": {},
   "outputs": [],
   "source": [
    "import os\n",
    "\n",
    "DB_DIR = \"mylocal_db\"\n",
    "LOGFILE = \"postgres_log.txt\"\n",
    "PG_HBA_PATH = os.path.join(DB_DIR, \"pg_hba.conf\")"
   ]
  },
  {
   "cell_type": "markdown",
   "id": "b9a57066",
   "metadata": {},
   "source": [
    "## Check PostgreSQL status"
   ]
  },
  {
   "cell_type": "code",
   "execution_count": null,
   "id": "9492f395",
   "metadata": {},
   "outputs": [],
   "source": [
    "!pg_ctl -D $DB_DIR status"
   ]
  },
  {
   "cell_type": "markdown",
   "id": "de7284f6",
   "metadata": {},
   "source": [
    "## Stop any existing PostgreSQL process"
   ]
  },
  {
   "cell_type": "code",
   "execution_count": null,
   "id": "0556ea23",
   "metadata": {},
   "outputs": [],
   "source": [
    "!pg_ctl stop -D $DB_DIR -m fast || echo \"Nothing to stop.\""
   ]
  },
  {
   "cell_type": "markdown",
   "id": "18242e19",
   "metadata": {},
   "source": [
    "## Initialize the database if necessary"
   ]
  },
  {
   "cell_type": "code",
   "execution_count": null,
   "id": "00979310",
   "metadata": {},
   "outputs": [],
   "source": [
    "import os\n",
    "\n",
    "if not os.path.exists(DB_DIR) or not os.path.exists(os.path.join(DB_DIR, \"PG_VERSION\")):\n",
    "    os.makedirs(DB_DIR, exist_ok=True)\n",
    "    !initdb -D $DB_DIR"
   ]
  },
  {
   "cell_type": "markdown",
   "id": "26cab865",
   "metadata": {},
   "source": [
    "## Modify pg_hba.conf to allow trust authentication for user \"notebook\""
   ]
  },
  {
   "cell_type": "code",
   "execution_count": null,
   "id": "bccaaf4a",
   "metadata": {},
   "outputs": [],
   "source": [
    "with open(PG_HBA_PATH, \"a\") as pg_hba:\n",
    "    pg_hba.write(\"\\nlocal   all             notebook                                trust\\n\")\n",
    "    pg_hba.write(\"host    all             notebook        127.0.0.1/32          trust\\n\")\n",
    "    pg_hba.write(\"host    all             notebook        ::1/128               trust\\n\")"
   ]
  },
  {
   "cell_type": "markdown",
   "id": "57b39d1a",
   "metadata": {},
   "source": [
    "## Start PostgreSQL server"
   ]
  },
  {
   "cell_type": "code",
   "execution_count": null,
   "id": "a9ebdbaf",
   "metadata": {},
   "outputs": [],
   "source": [
    "import subprocess\n",
    "import time\n",
    "import atexit\n",
    "\n",
    "def stop_postgres():\n",
    "    !pg_ctl -D $DB_DIR stop\n",
    "\n",
    "atexit.register(stop_postgres)\n",
    "\n",
    "with open(LOGFILE, \"a\") as logfile:\n",
    "    subprocess.Popen([\"pg_ctl\", \"-D\", DB_DIR, \"-l\", LOGFILE, \"start\"],\n",
    "                     stdout=logfile, stderr=logfile)\n",
    "time.sleep(5)"
   ]
  },
  {
   "cell_type": "markdown",
   "id": "2c905567",
   "metadata": {},
   "source": [
    "## Create the \"notebook\" user with full permissions"
   ]
  },
  {
   "cell_type": "code",
   "execution_count": null,
   "id": "1a0fa416",
   "metadata": {
    "vscode": {
     "languageId": "shellscript"
    }
   },
   "outputs": [],
   "source": [
    "!psql -d postgres -c \"CREATE USER notebook WITH SUPERUSER;\" || echo \"User already exists.\"\n",
    "!psql -d postgres -c \"ALTER USER notebook WITH PASSWORD NULL;\""
   ]
  },
  {
   "cell_type": "markdown",
   "id": "44fcff62",
   "metadata": {
    "jp-MarkdownHeadingCollapsed": true
   },
   "source": [
    "# Connect"
   ]
  },
  {
   "cell_type": "markdown",
   "id": "d6825d93",
   "metadata": {},
   "source": [
    "## Load & Configure SQLMagic"
   ]
  },
  {
   "cell_type": "code",
   "execution_count": null,
   "id": "6e8dcd5b",
   "metadata": {},
   "outputs": [],
   "source": [
    "%load_ext sql\n",
    "%config SqlMagic.displaylimit = None\n",
    "%config SqlMagic.named_parameters = \"enabled\""
   ]
  },
  {
   "cell_type": "markdown",
   "id": "10c250dd",
   "metadata": {},
   "source": [
    "## Create Fresh sahuagin Database"
   ]
  },
  {
   "cell_type": "code",
   "execution_count": null,
   "id": "0e68c179",
   "metadata": {},
   "outputs": [],
   "source": [
    "%sql postgresql://notebook@localhost:5432/postgres\n",
    "%sql SELECT pg_terminate_backend(pg_stat_activity.pid) FROM pg_stat_activity WHERE pg_stat_activity.datname = 'sahuagin';\n",
    "%sql DROP DATABASE IF EXISTS sahuagin;\n",
    "%sql CREATE DATABASE sahuagin;"
   ]
  },
  {
   "cell_type": "markdown",
   "id": "26cf3d20",
   "metadata": {},
   "source": [
    "## Connect to sahuagin Database"
   ]
  },
  {
   "cell_type": "code",
   "execution_count": null,
   "id": "4199fc7c-d1ca-4342-8f5f-b731790c7bcd",
   "metadata": {},
   "outputs": [],
   "source": [
    "%sql postgresql://notebook@localhost:5432/sahuagin"
   ]
  },
  {
   "cell_type": "markdown",
   "id": "30435a1a",
   "metadata": {
    "jp-MarkdownHeadingCollapsed": true
   },
   "source": [
    "# Create Tables & Types"
   ]
  },
  {
   "cell_type": "markdown",
   "id": "f698e65d",
   "metadata": {},
   "source": [
    "## Attribute Type"
   ]
  },
  {
   "cell_type": "code",
   "execution_count": null,
   "id": "681cf2b1-ce90-42f7-bcb5-b254c27d6f18",
   "metadata": {
    "editable": true,
    "slideshow": {
     "slide_type": ""
    },
    "tags": [],
    "vscode": {
     "languageId": "sql"
    }
   },
   "outputs": [],
   "source": [
    "%%sql\n",
    "\n",
    "DROP TYPE IF EXISTS attribute_type CASCADE;\n",
    "CREATE TYPE attribute_type AS ENUM ('discrete','continuous');"
   ]
  },
  {
   "cell_type": "markdown",
   "id": "48c53a4c",
   "metadata": {},
   "source": [
    "## Attribute"
   ]
  },
  {
   "cell_type": "code",
   "execution_count": null,
   "id": "59a3bb70",
   "metadata": {
    "vscode": {
     "languageId": "sql"
    }
   },
   "outputs": [],
   "source": [
    "%%sql\n",
    "\n",
    "DROP TABLE IF EXISTS attribute CASCADE;\n",
    "CREATE TABLE attribute (\n",
    "    id integer GENERATED ALWAYS AS IDENTITY PRIMARY KEY,\n",
    "    name varchar(255) NOT NULL UNIQUE,\n",
    "    type attribute_type NOT NULL,\n",
    "    decimals integer,\n",
    "    has_labels boolean,\n",
    "    has_value boolean,\n",
    "    max_value double precision,\n",
    "    min_value double precision,\n",
    "    mode_value double precision,\n",
    "    concentration double precision,\n",
    "    skew double precision,\n",
    "    units varchar(255),\n",
    "    CHECK (\n",
    "        max_value IS NULL\n",
    "        OR min_value IS NULL\n",
    "        OR max_value >= min_value\n",
    "    ),\n",
    "    CHECK (\n",
    "        (\n",
    "            type = 'discrete'\n",
    "            AND decimals IS NULL\n",
    "            AND has_labels IS NULL\n",
    "            AND has_value IS NULL\n",
    "            AND max_value IS NULL\n",
    "            AND min_value IS NULL\n",
    "            AND mode_value IS NULL\n",
    "            AND concentration IS NULL\n",
    "            AND skew IS NULL\n",
    "            AND units IS NULL\n",
    "        )\n",
    "        OR (\n",
    "            type = 'continuous'\n",
    "            AND decimals IS NOT NULL\n",
    "            AND has_labels IS NOT NULL\n",
    "            AND has_value IS NOT NULL\n",
    "            AND max_value IS NOT NULL\n",
    "            AND min_value IS NOT NULL\n",
    "            AND mode_value IS NOT NULL\n",
    "            AND concentration IS NOT NULL\n",
    "            AND skew IS NOT NULL\n",
    "        )\n",
    "    )\n",
    ");"
   ]
  },
  {
   "cell_type": "markdown",
   "id": "7d9479d0",
   "metadata": {},
   "source": [
    "## Span"
   ]
  },
  {
   "cell_type": "code",
   "execution_count": null,
   "id": "65160534",
   "metadata": {
    "vscode": {
     "languageId": "sql"
    }
   },
   "outputs": [],
   "source": [
    "%%sql\n",
    "\n",
    "DROP TABLE IF EXISTS span CASCADE;\n",
    "CREATE TABLE span (\n",
    "    id integer GENERATED ALWAYS AS IDENTITY PRIMARY KEY,\n",
    "    attribute_id integer NOT NULL,\n",
    "    label varchar(255) NOT NULL,\n",
    "    type attribute_type NOT NULL,\n",
    "    is_percentage_pinned boolean,\n",
    "    weight double precision,\n",
    "    max_value double precision,\n",
    "    min_value double precision,\n",
    "    CONSTRAINT unique_attribute_type_label UNIQUE (attribute_id, type, label),\n",
    "    CONSTRAINT fk_spans_attr FOREIGN KEY (attribute_id) REFERENCES attribute (id) ON DELETE CASCADE,\n",
    "    CHECK (\n",
    "        max_value IS NULL\n",
    "        OR min_value IS NULL\n",
    "        OR max_value >= min_value\n",
    "    ),\n",
    "    CHECK (\n",
    "        (\n",
    "            type = 'discrete'\n",
    "            AND is_percentage_pinned IS NOT NULL\n",
    "            AND weight IS NOT NULL\n",
    "            AND max_value IS NULL\n",
    "            AND min_value IS NULL\n",
    "        )\n",
    "        OR (\n",
    "            type = 'continuous'\n",
    "            AND is_percentage_pinned IS NULL\n",
    "            AND weight IS NULL\n",
    "            AND max_value IS NOT NULL\n",
    "            AND min_value IS NOT NULL\n",
    "        )\n",
    "    )\n",
    ");"
   ]
  },
  {
   "cell_type": "markdown",
   "id": "03ca0f0c",
   "metadata": {},
   "source": [
    "## Variant"
   ]
  },
  {
   "cell_type": "code",
   "execution_count": null,
   "id": "c12fd699",
   "metadata": {
    "vscode": {
     "languageId": "sql"
    }
   },
   "outputs": [],
   "source": [
    "%%sql\n",
    "\n",
    "DROP TABLE IF EXISTS variant CASCADE;\n",
    "CREATE TABLE variant (\n",
    "    id integer GENERATED ALWAYS AS IDENTITY PRIMARY KEY,\n",
    "    name varchar(255) NOT NULL UNIQUE\n",
    ");"
   ]
  },
  {
   "cell_type": "markdown",
   "id": "e89eace0",
   "metadata": {},
   "source": [
    "## Attribute Reference"
   ]
  },
  {
   "cell_type": "code",
   "execution_count": null,
   "id": "ff41d997",
   "metadata": {
    "vscode": {
     "languageId": "sql"
    }
   },
   "outputs": [],
   "source": [
    "%%sql\n",
    "\n",
    "DROP TABLE IF EXISTS variant_attribute CASCADE;\n",
    "CREATE TABLE variant_attribute (\n",
    "    id integer GENERATED ALWAYS AS IDENTITY PRIMARY KEY,\n",
    "    attribute_id integer NOT NULL,\n",
    "    name varchar(255) NOT NULL,\n",
    "    causation_index integer NOT NULL,\n",
    "    variant_id integer NOT NULL,\n",
    "    CONSTRAINT unique_variant_name UNIQUE (variant_id, name),\n",
    "    CONSTRAINT unique_variant_index UNIQUE (variant_id, causation_index),\n",
    "    CONSTRAINT fk_variant_attr_attr FOREIGN KEY (attribute_id) REFERENCES attribute (id) ON DELETE CASCADE,\n",
    "    CONSTRAINT fk_variant_attr_variant FOREIGN KEY (variant_id) REFERENCES variant (id) ON DELETE CASCADE\n",
    ");"
   ]
  },
  {
   "cell_type": "markdown",
   "id": "c55ec04e",
   "metadata": {},
   "source": [
    "## Variant Reference Span"
   ]
  },
  {
   "cell_type": "code",
   "execution_count": null,
   "id": "7be1778e",
   "metadata": {
    "vscode": {
     "languageId": "sql"
    }
   },
   "outputs": [],
   "source": [
    "%%sql\n",
    "\n",
    "DROP TABLE IF EXISTS variant_attr_span CASCADE;\n",
    "CREATE TABLE variant_attr_span (\n",
    "    id integer GENERATED ALWAYS AS IDENTITY PRIMARY KEY,\n",
    "    span_id integer NOT NULL,\n",
    "    variant_attribute_id integer NOT NULL,\n",
    "    variant_id integer NOT NULL,\n",
    "    CONSTRAINT unique_variant_attribute_span UNIQUE (variant_id, variant_attribute_id, span_id),\n",
    "    CONSTRAINT fk_varattr_span_span FOREIGN KEY (span_id) REFERENCES span (id) ON DELETE CASCADE,\n",
    "    CONSTRAINT fk_varattr_span_varattr FOREIGN KEY (variant_attribute_id) REFERENCES variant_attribute (id) ON DELETE CASCADE,\n",
    "    CONSTRAINT fk_varattr_span_variant FOREIGN KEY (variant_id) REFERENCES variant (id) ON DELETE CASCADE\n",
    ");"
   ]
  },
  {
   "cell_type": "markdown",
   "id": "a50b0e7b",
   "metadata": {},
   "source": [
    "## Possible Attribute"
   ]
  },
  {
   "cell_type": "code",
   "execution_count": null,
   "id": "74f337a2",
   "metadata": {
    "vscode": {
     "languageId": "sql"
    }
   },
   "outputs": [],
   "source": [
    "%%sql\n",
    "\n",
    "DROP TABLE IF EXISTS vavspan_attr CASCADE;\n",
    "CREATE TABLE vavspan_attr (\n",
    "    id integer GENERATED ALWAYS AS IDENTITY PRIMARY KEY,\n",
    "    variant_attribute_id integer NOT NULL,\n",
    "    variant_attr_span_id integer,\n",
    "    parent_vavspan_attr_id integer,\n",
    "    CONSTRAINT unique_vavspan_attr UNIQUE (parent_vavspan_attr_id, variant_attr_span_id, variant_attribute_id),\n",
    "    CONSTRAINT fk_vavspan_attr_va FOREIGN KEY (variant_attribute_id) REFERENCES variant_attribute (id) ON DELETE CASCADE,\n",
    "    CONSTRAINT fk_vavspan_attr_vas FOREIGN KEY (variant_attr_span_id) REFERENCES variant_attr_span (id) ON DELETE CASCADE,\n",
    "    CONSTRAINT fk_vavspan_attr_parent FOREIGN KEY (parent_vavspan_attr_id) REFERENCES vavspan_attr (id) ON DELETE CASCADE\n",
    ");"
   ]
  },
  {
   "cell_type": "markdown",
   "id": "5eb8e85f",
   "metadata": {},
   "source": [
    "## Causal Link"
   ]
  },
  {
   "cell_type": "code",
   "execution_count": null,
   "id": "c8c1c9aa",
   "metadata": {
    "vscode": {
     "languageId": "sql"
    }
   },
   "outputs": [],
   "source": [
    "%%sql\n",
    "\n",
    "DROP TABLE IF EXISTS variation CASCADE;\n",
    "CREATE TABLE variation (\n",
    "    id integer GENERATED ALWAYS AS IDENTITY PRIMARY KEY,\n",
    "    to_modify_vavspan_attr_id integer NOT NULL,\n",
    "    activating_vavspan_attr_id integer NOT NULL,\n",
    "    CONSTRAINT unique_span_to_attribute UNIQUE (activating_vavspan_attr_id, to_modify_vavspan_attr_id),\n",
    "    CONSTRAINT fk_variation_vavspan_to_modify FOREIGN KEY (to_modify_vavspan_attr_id) REFERENCES vavspan_attr (id) ON DELETE CASCADE,\n",
    "    CONSTRAINT fk_variation_vavspan_activating FOREIGN KEY (activating_vavspan_attr_id) REFERENCES vavspan_attr (id) ON DELETE CASCADE\n",
    ");"
   ]
  },
  {
   "cell_type": "markdown",
   "id": "8f0119c7",
   "metadata": {},
   "source": [
    "## Effect"
   ]
  },
  {
   "cell_type": "code",
   "execution_count": null,
   "id": "e04bf8d3",
   "metadata": {
    "vscode": {
     "languageId": "sql"
    }
   },
   "outputs": [],
   "source": [
    "%%sql\n",
    "\n",
    "DROP TABLE IF EXISTS effect CASCADE;\n",
    "CREATE TABLE effect (\n",
    "    id integer GENERATED ALWAYS AS IDENTITY PRIMARY KEY,\n",
    "    name varchar(255) NOT NULL,\n",
    "    variant_id integer NOT NULL,\n",
    "    variation_id integer NOT NULL,\n",
    "    CONSTRAINT unique_effect_name_within_variant UNIQUE (name, variant_id),\n",
    "    CONSTRAINT fk_effect_variant FOREIGN KEY (variant_id) REFERENCES variant (id) ON DELETE CASCADE,\n",
    "    CONSTRAINT fk_effect_variation FOREIGN KEY (variation_id) REFERENCES variation (id) ON DELETE CASCADE\n",
    ");"
   ]
  },
  {
   "cell_type": "markdown",
   "id": "639f2865",
   "metadata": {},
   "source": [
    "## Delta Parameter Effect"
   ]
  },
  {
   "cell_type": "code",
   "execution_count": null,
   "id": "56fcea4a",
   "metadata": {
    "vscode": {
     "languageId": "sql"
    }
   },
   "outputs": [],
   "source": [
    "%%sql\n",
    "\n",
    "DROP TABLE IF EXISTS variation_continuous_attr CASCADE;\n",
    "CREATE TABLE variation_continuous_attr (    \n",
    "    id integer GENERATED ALWAYS AS IDENTITY PRIMARY KEY,\n",
    "    effect_id integer NOT NULL UNIQUE,\n",
    "    delta_mode double precision NOT NULL,\n",
    "    delta_conc double precision NOT NULL,\n",
    "    delta_skew double precision NOT NULL,\n",
    "    CONSTRAINT fk_var_continuous_attr_effect FOREIGN KEY (effect_id) REFERENCES effect (id) ON DELETE CASCADE\n",
    ");"
   ]
  },
  {
   "cell_type": "markdown",
   "id": "016948ea",
   "metadata": {},
   "source": [
    "## Additional Possibility Effect"
   ]
  },
  {
   "cell_type": "code",
   "execution_count": null,
   "id": "24a18b28",
   "metadata": {
    "vscode": {
     "languageId": "sql"
    }
   },
   "outputs": [],
   "source": [
    "%%sql\n",
    "\n",
    "DROP TABLE IF EXISTS variation_activated_span CASCADE;\n",
    "CREATE TABLE variation_activated_span (\n",
    "    id integer GENERATED ALWAYS AS IDENTITY PRIMARY KEY,\n",
    "    effect_id integer NOT NULL UNIQUE,\n",
    "    span_id integer NOT NULL,\n",
    "    CONSTRAINT fk_var_activated_span_span FOREIGN KEY (span_id) REFERENCES span (id) ON DELETE CASCADE,\n",
    "    CONSTRAINT fk_var_activated_span_effect FOREIGN KEY (effect_id) REFERENCES effect (id) ON DELETE CASCADE\n",
    ");"
   ]
  },
  {
   "cell_type": "markdown",
   "id": "3decf278",
   "metadata": {},
   "source": [
    "## Delta Weight Effect"
   ]
  },
  {
   "cell_type": "code",
   "execution_count": null,
   "id": "db5aa316",
   "metadata": {
    "vscode": {
     "languageId": "sql"
    }
   },
   "outputs": [],
   "source": [
    "%%sql\n",
    "\n",
    "DROP TABLE IF EXISTS variation_delta_weight CASCADE;\n",
    "CREATE TABLE variation_delta_weight (\n",
    "    id integer GENERATED ALWAYS AS IDENTITY PRIMARY KEY,\n",
    "    effect_id integer NOT NULL UNIQUE,\n",
    "    span_id integer NOT NULL,\n",
    "    delta_weight double precision NOT NULL,\n",
    "    CONSTRAINT fk_var_delta_weight_span FOREIGN KEY (span_id) REFERENCES span (id) ON DELETE CASCADE,\n",
    "    CONSTRAINT fk_var_delta_weight_effect FOREIGN KEY (effect_id) REFERENCES effect (id) ON DELETE CASCADE\n",
    ");"
   ]
  },
  {
   "cell_type": "markdown",
   "id": "d79108e8",
   "metadata": {},
   "source": [
    "## Removed Possibility Effect"
   ]
  },
  {
   "cell_type": "code",
   "execution_count": null,
   "id": "265494cc",
   "metadata": {
    "vscode": {
     "languageId": "sql"
    }
   },
   "outputs": [],
   "source": [
    "%%sql\n",
    "\n",
    "DROP TABLE IF EXISTS variation_inactive_span CASCADE;\n",
    "CREATE TABLE variation_inactive_span (\n",
    "    id integer GENERATED ALWAYS AS IDENTITY PRIMARY KEY,\n",
    "    effect_id integer NOT NULL UNIQUE,\n",
    "    span_id integer NOT NULL,\n",
    "    CONSTRAINT fk_var_inactive_span_span FOREIGN KEY (span_id) REFERENCES span (id) ON DELETE CASCADE,\n",
    "    CONSTRAINT fk_var_inactive_span_effect FOREIGN KEY (effect_id) REFERENCES effect (id) ON DELETE CASCADE\n",
    ");"
   ]
  },
  {
   "cell_type": "markdown",
   "id": "feba2df8",
   "metadata": {},
   "source": [
    "## Entity"
   ]
  },
  {
   "cell_type": "code",
   "execution_count": null,
   "id": "7dc7fcaf",
   "metadata": {
    "vscode": {
     "languageId": "sql"
    }
   },
   "outputs": [],
   "source": [
    "%%sql\n",
    "\n",
    "DROP TABLE IF EXISTS entity CASCADE;\n",
    "CREATE TABLE entity (\n",
    "    id integer GENERATED ALWAYS AS IDENTITY PRIMARY KEY,\n",
    "    variant_id integer NOT NULL,\n",
    "    name varchar(255) NOT NULL UNIQUE,\n",
    "    CONSTRAINT fk_entity_variant FOREIGN KEY (variant_id) REFERENCES variant (id) ON DELETE CASCADE\n",
    ");"
   ]
  },
  {
   "cell_type": "markdown",
   "id": "758ef38b",
   "metadata": {},
   "source": [
    "## Entity Group"
   ]
  },
  {
   "cell_type": "code",
   "execution_count": null,
   "id": "aac08d60",
   "metadata": {
    "vscode": {
     "languageId": "sql"
    }
   },
   "outputs": [],
   "source": [
    "%%sql\n",
    "\n",
    "DROP TABLE IF EXISTS entity_group CASCADE;\n",
    "CREATE TABLE entity_group (\n",
    "    id integer GENERATED ALWAYS AS IDENTITY PRIMARY KEY,\n",
    "    name varchar(255) NOT NULL UNIQUE\n",
    ");"
   ]
  },
  {
   "cell_type": "markdown",
   "id": "5eee51f3",
   "metadata": {},
   "source": [
    "## Entity Group Link"
   ]
  },
  {
   "cell_type": "code",
   "execution_count": null,
   "id": "2a9e663c",
   "metadata": {
    "vscode": {
     "languageId": "sql"
    }
   },
   "outputs": [],
   "source": [
    "%%sql\n",
    "\n",
    "DROP TABLE IF EXISTS entity_group_link CASCADE;\n",
    "CREATE TABLE entity_group_link (\n",
    "    id integer GENERATED ALWAYS AS IDENTITY PRIMARY KEY,\n",
    "    entity_id integer NOT NULL,\n",
    "    entity_group_id integer NOT NULL,\n",
    "    CONSTRAINT unique_link_entity_group UNIQUE (entity_group_id, entity_id),\n",
    "    CONSTRAINT fk_entity FOREIGN KEY (entity_id) REFERENCES entity (id) ON DELETE CASCADE,\n",
    "    CONSTRAINT fk_entity_group FOREIGN KEY (entity_group_id) REFERENCES entity_group (id) ON DELETE CASCADE\n",
    ");"
   ]
  },
  {
   "cell_type": "markdown",
   "id": "7c317c6c",
   "metadata": {},
   "source": [
    "## Entity State"
   ]
  },
  {
   "cell_type": "code",
   "execution_count": null,
   "id": "d811909c",
   "metadata": {
    "vscode": {
     "languageId": "sql"
    }
   },
   "outputs": [],
   "source": [
    "%%sql\n",
    "\n",
    "DROP TABLE IF EXISTS entity_state CASCADE;\n",
    "CREATE TABLE entity_state (\n",
    "    id integer GENERATED ALWAYS AS IDENTITY PRIMARY KEY,\n",
    "    entity_id integer NOT NULL,\n",
    "    time double precision NOT NULL,\n",
    "    CONSTRAINT unique_entity_time UNIQUE (entity_id, time),\n",
    "    CONSTRAINT fk_entity FOREIGN KEY (entity_id) REFERENCES entity (id) ON DELETE CASCADE\n",
    ");"
   ]
  },
  {
   "cell_type": "markdown",
   "id": "f6f9ad4d",
   "metadata": {},
   "source": [
    "## Attribute Value"
   ]
  },
  {
   "cell_type": "code",
   "execution_count": null,
   "id": "785b96c2",
   "metadata": {
    "vscode": {
     "languageId": "sql"
    }
   },
   "outputs": [],
   "source": [
    "%%sql\n",
    "\n",
    "DROP TABLE IF EXISTS entity_varattr_value CASCADE;\n",
    "CREATE TABLE entity_varattr_value (\n",
    "    id integer GENERATED ALWAYS AS IDENTITY PRIMARY KEY,\n",
    "    entity_state_id integer NOT NULL,\n",
    "    numeric_value double precision,\n",
    "    span_id integer,\n",
    "    vavspan_attr_id integer NOT NULL,\n",
    "    CONSTRAINT unique_state_vavspan_attr UNIQUE (entity_state_id, vavspan_attr_id),\n",
    "    CONSTRAINT fk_evav_entity_state FOREIGN KEY (entity_state_id) REFERENCES entity_state (id) ON DELETE CASCADE,\n",
    "    CONSTRAINT fk_evav_span FOREIGN KEY (span_id) REFERENCES span (id) ON DELETE CASCADE,\n",
    "    CONSTRAINT fk_evav_vavspan_attr FOREIGN KEY (vavspan_attr_id) REFERENCES vavspan_attr (id) ON DELETE CASCADE\n",
    ");"
   ]
  },
  {
   "cell_type": "markdown",
   "id": "93eeef51",
   "metadata": {},
   "source": [
    "## Attribute Value Lock"
   ]
  },
  {
   "cell_type": "code",
   "execution_count": null,
   "id": "b2406d91",
   "metadata": {
    "vscode": {
     "languageId": "sql"
    }
   },
   "outputs": [],
   "source": [
    "%%sql\n",
    "\n",
    "DROP TABLE IF EXISTS evav_lock CASCADE;\n",
    "CREATE TABLE evav_lock (\n",
    "    id integer GENERATED ALWAYS AS IDENTITY PRIMARY KEY,\n",
    "    locked_evav_id integer NOT NULL,\n",
    "    locking_evav_id integer,\n",
    "    CONSTRAINT unique_evav_lock UNIQUE (locking_evav_id, locked_evav_id),\n",
    "    CONSTRAINT fk_evav_lock_locked_evav FOREIGN KEY (locked_evav_id) REFERENCES entity_varattr_value (id) ON DELETE CASCADE,\n",
    "    CONSTRAINT fk_evav_lock_locking_evav FOREIGN KEY (locking_evav_id) REFERENCES entity_varattr_value (id) ON DELETE CASCADE\n",
    ");"
   ]
  },
  {
   "cell_type": "markdown",
   "id": "488b2a50",
   "metadata": {
    "jp-MarkdownHeadingCollapsed": true
   },
   "source": [
    "# Create Indexes"
   ]
  },
  {
   "cell_type": "markdown",
   "id": "8d4ca730",
   "metadata": {},
   "source": [
    "## idx_attribute_name"
   ]
  },
  {
   "cell_type": "code",
   "execution_count": 397,
   "id": "dfab96a4",
   "metadata": {
    "vscode": {
     "languageId": "sql"
    }
   },
   "outputs": [
    {
     "data": {
      "text/html": [
       "<span style=\"None\">Running query in &#x27;postgresql://notebook@localhost:5432/sahuagin&#x27;</span>"
      ],
      "text/plain": [
       "Running query in 'postgresql://notebook@localhost:5432/sahuagin'"
      ]
     },
     "metadata": {},
     "output_type": "display_data"
    },
    {
     "data": {
      "text/html": [
       "<table>\n",
       "    <thead>\n",
       "        <tr>\n",
       "        </tr>\n",
       "    </thead>\n",
       "    <tbody>\n",
       "    </tbody>\n",
       "</table>"
      ],
      "text/plain": [
       "++\n",
       "||\n",
       "++\n",
       "++"
      ]
     },
     "execution_count": 397,
     "metadata": {},
     "output_type": "execute_result"
    }
   ],
   "source": [
    "%%sql\n",
    "\n",
    "DROP INDEX IF EXISTS idx_attribute_name;\n",
    "CREATE INDEX idx_attribute_name ON attribute (name);"
   ]
  },
  {
   "cell_type": "markdown",
   "id": "89b87c60",
   "metadata": {},
   "source": [
    "## idx_span_attribute_id"
   ]
  },
  {
   "cell_type": "code",
   "execution_count": 398,
   "id": "cb0c2059",
   "metadata": {
    "vscode": {
     "languageId": "sql"
    }
   },
   "outputs": [
    {
     "data": {
      "text/html": [
       "<span style=\"None\">Running query in &#x27;postgresql://notebook@localhost:5432/sahuagin&#x27;</span>"
      ],
      "text/plain": [
       "Running query in 'postgresql://notebook@localhost:5432/sahuagin'"
      ]
     },
     "metadata": {},
     "output_type": "display_data"
    },
    {
     "data": {
      "text/html": [
       "<table>\n",
       "    <thead>\n",
       "        <tr>\n",
       "        </tr>\n",
       "    </thead>\n",
       "    <tbody>\n",
       "    </tbody>\n",
       "</table>"
      ],
      "text/plain": [
       "++\n",
       "||\n",
       "++\n",
       "++"
      ]
     },
     "execution_count": 398,
     "metadata": {},
     "output_type": "execute_result"
    }
   ],
   "source": [
    "%%sql\n",
    "\n",
    "DROP INDEX IF EXISTS idx_span_attribute_id;\n",
    "CREATE INDEX idx_span_attribute_id ON span (attribute_id);"
   ]
  },
  {
   "cell_type": "markdown",
   "id": "86077903",
   "metadata": {},
   "source": [
    "## idx_span_attribute_type"
   ]
  },
  {
   "cell_type": "code",
   "execution_count": 399,
   "id": "864438fb",
   "metadata": {
    "vscode": {
     "languageId": "sql"
    }
   },
   "outputs": [
    {
     "data": {
      "text/html": [
       "<span style=\"None\">Running query in &#x27;postgresql://notebook@localhost:5432/sahuagin&#x27;</span>"
      ],
      "text/plain": [
       "Running query in 'postgresql://notebook@localhost:5432/sahuagin'"
      ]
     },
     "metadata": {},
     "output_type": "display_data"
    },
    {
     "data": {
      "text/html": [
       "<table>\n",
       "    <thead>\n",
       "        <tr>\n",
       "        </tr>\n",
       "    </thead>\n",
       "    <tbody>\n",
       "    </tbody>\n",
       "</table>"
      ],
      "text/plain": [
       "++\n",
       "||\n",
       "++\n",
       "++"
      ]
     },
     "execution_count": 399,
     "metadata": {},
     "output_type": "execute_result"
    }
   ],
   "source": [
    "%%sql\n",
    "\n",
    "DROP INDEX IF EXISTS idx_span_attribute_type;\n",
    "CREATE INDEX idx_span_attribute_type ON span(attribute_id, type, id);"
   ]
  },
  {
   "cell_type": "markdown",
   "id": "46dddbc2",
   "metadata": {},
   "source": [
    "## idx_span_attr_type"
   ]
  },
  {
   "cell_type": "code",
   "execution_count": 400,
   "id": "4d75bad1",
   "metadata": {
    "vscode": {
     "languageId": "sql"
    }
   },
   "outputs": [
    {
     "data": {
      "text/html": [
       "<span style=\"None\">Running query in &#x27;postgresql://notebook@localhost:5432/sahuagin&#x27;</span>"
      ],
      "text/plain": [
       "Running query in 'postgresql://notebook@localhost:5432/sahuagin'"
      ]
     },
     "metadata": {},
     "output_type": "display_data"
    },
    {
     "data": {
      "text/html": [
       "<table>\n",
       "    <thead>\n",
       "        <tr>\n",
       "        </tr>\n",
       "    </thead>\n",
       "    <tbody>\n",
       "    </tbody>\n",
       "</table>"
      ],
      "text/plain": [
       "++\n",
       "||\n",
       "++\n",
       "++"
      ]
     },
     "execution_count": 400,
     "metadata": {},
     "output_type": "execute_result"
    }
   ],
   "source": [
    "%%sql\n",
    "\n",
    "DROP INDEX IF EXISTS idx_span_attr_type;\n",
    "CREATE INDEX idx_span_attr_type ON span(attribute_id, type, min_value, max_value);"
   ]
  },
  {
   "cell_type": "markdown",
   "id": "8d7b9005",
   "metadata": {},
   "source": [
    "## idx_span_attr_type_pinned"
   ]
  },
  {
   "cell_type": "code",
   "execution_count": 401,
   "id": "20802af5",
   "metadata": {
    "vscode": {
     "languageId": "sql"
    }
   },
   "outputs": [
    {
     "data": {
      "text/html": [
       "<span style=\"None\">Running query in &#x27;postgresql://notebook@localhost:5432/sahuagin&#x27;</span>"
      ],
      "text/plain": [
       "Running query in 'postgresql://notebook@localhost:5432/sahuagin'"
      ]
     },
     "metadata": {},
     "output_type": "display_data"
    },
    {
     "data": {
      "text/html": [
       "<table>\n",
       "    <thead>\n",
       "        <tr>\n",
       "        </tr>\n",
       "    </thead>\n",
       "    <tbody>\n",
       "    </tbody>\n",
       "</table>"
      ],
      "text/plain": [
       "++\n",
       "||\n",
       "++\n",
       "++"
      ]
     },
     "execution_count": 401,
     "metadata": {},
     "output_type": "execute_result"
    }
   ],
   "source": [
    "%%sql\n",
    "\n",
    "DROP INDEX IF EXISTS idx_span_attr_type_pinned;\n",
    "CREATE INDEX idx_span_attr_type_pinned ON span(attribute_id, type, is_percentage_pinned);"
   ]
  },
  {
   "cell_type": "markdown",
   "id": "0cadc3f3",
   "metadata": {},
   "source": [
    "## idx_span_attr_type_pinned_wl"
   ]
  },
  {
   "cell_type": "code",
   "execution_count": 402,
   "id": "a678d4d2",
   "metadata": {
    "vscode": {
     "languageId": "sql"
    }
   },
   "outputs": [
    {
     "data": {
      "text/html": [
       "<span style=\"None\">Running query in &#x27;postgresql://notebook@localhost:5432/sahuagin&#x27;</span>"
      ],
      "text/plain": [
       "Running query in 'postgresql://notebook@localhost:5432/sahuagin'"
      ]
     },
     "metadata": {},
     "output_type": "display_data"
    },
    {
     "data": {
      "text/html": [
       "<table>\n",
       "    <thead>\n",
       "        <tr>\n",
       "        </tr>\n",
       "    </thead>\n",
       "    <tbody>\n",
       "    </tbody>\n",
       "</table>"
      ],
      "text/plain": [
       "++\n",
       "||\n",
       "++\n",
       "++"
      ]
     },
     "execution_count": 402,
     "metadata": {},
     "output_type": "execute_result"
    }
   ],
   "source": [
    "%%sql\n",
    "\n",
    "DROP INDEX IF EXISTS idx_span_attr_type_pinned_wl;\n",
    "CREATE INDEX idx_span_attr_type_pinned_wl ON span(attribute_id, type, is_percentage_pinned, weight, label);"
   ]
  },
  {
   "cell_type": "markdown",
   "id": "67a3329d",
   "metadata": {},
   "source": [
    "## idx_variant_name"
   ]
  },
  {
   "cell_type": "code",
   "execution_count": 403,
   "id": "e1c51655",
   "metadata": {
    "vscode": {
     "languageId": "sql"
    }
   },
   "outputs": [
    {
     "data": {
      "text/html": [
       "<span style=\"None\">Running query in &#x27;postgresql://notebook@localhost:5432/sahuagin&#x27;</span>"
      ],
      "text/plain": [
       "Running query in 'postgresql://notebook@localhost:5432/sahuagin'"
      ]
     },
     "metadata": {},
     "output_type": "display_data"
    },
    {
     "data": {
      "text/html": [
       "<table>\n",
       "    <thead>\n",
       "        <tr>\n",
       "        </tr>\n",
       "    </thead>\n",
       "    <tbody>\n",
       "    </tbody>\n",
       "</table>"
      ],
      "text/plain": [
       "++\n",
       "||\n",
       "++\n",
       "++"
      ]
     },
     "execution_count": 403,
     "metadata": {},
     "output_type": "execute_result"
    }
   ],
   "source": [
    "%%sql\n",
    "\n",
    "DROP INDEX IF EXISTS idx_variant_name;\n",
    "CREATE INDEX idx_variant_name ON variant (name);"
   ]
  },
  {
   "cell_type": "markdown",
   "id": "a979615f",
   "metadata": {},
   "source": [
    "## idx_variant_attribute_attribute"
   ]
  },
  {
   "cell_type": "code",
   "execution_count": 404,
   "id": "b9410268",
   "metadata": {
    "vscode": {
     "languageId": "sql"
    }
   },
   "outputs": [
    {
     "data": {
      "text/html": [
       "<span style=\"None\">Running query in &#x27;postgresql://notebook@localhost:5432/sahuagin&#x27;</span>"
      ],
      "text/plain": [
       "Running query in 'postgresql://notebook@localhost:5432/sahuagin'"
      ]
     },
     "metadata": {},
     "output_type": "display_data"
    },
    {
     "data": {
      "text/html": [
       "<table>\n",
       "    <thead>\n",
       "        <tr>\n",
       "        </tr>\n",
       "    </thead>\n",
       "    <tbody>\n",
       "    </tbody>\n",
       "</table>"
      ],
      "text/plain": [
       "++\n",
       "||\n",
       "++\n",
       "++"
      ]
     },
     "execution_count": 404,
     "metadata": {},
     "output_type": "execute_result"
    }
   ],
   "source": [
    "%%sql\n",
    "\n",
    "DROP INDEX IF EXISTS idx_variant_attribute_attribute;\n",
    "CREATE INDEX idx_variant_attribute_attribute ON variant_attribute (attribute_id);"
   ]
  },
  {
   "cell_type": "markdown",
   "id": "291fb0e1",
   "metadata": {},
   "source": [
    "## idx_variant_attribute_variant"
   ]
  },
  {
   "cell_type": "code",
   "execution_count": 405,
   "id": "1884c6df",
   "metadata": {
    "vscode": {
     "languageId": "sql"
    }
   },
   "outputs": [
    {
     "data": {
      "text/html": [
       "<span style=\"None\">Running query in &#x27;postgresql://notebook@localhost:5432/sahuagin&#x27;</span>"
      ],
      "text/plain": [
       "Running query in 'postgresql://notebook@localhost:5432/sahuagin'"
      ]
     },
     "metadata": {},
     "output_type": "display_data"
    },
    {
     "data": {
      "text/html": [
       "<table>\n",
       "    <thead>\n",
       "        <tr>\n",
       "        </tr>\n",
       "    </thead>\n",
       "    <tbody>\n",
       "    </tbody>\n",
       "</table>"
      ],
      "text/plain": [
       "++\n",
       "||\n",
       "++\n",
       "++"
      ]
     },
     "execution_count": 405,
     "metadata": {},
     "output_type": "execute_result"
    }
   ],
   "source": [
    "%%sql\n",
    "\n",
    "DROP INDEX IF EXISTS idx_variant_attribute_variant;\n",
    "CREATE INDEX idx_variant_attribute_variant ON variant_attribute (variant_id);"
   ]
  },
  {
   "cell_type": "markdown",
   "id": "d4fa6103",
   "metadata": {},
   "source": [
    "## idx_variant_attribute_variant_causation"
   ]
  },
  {
   "cell_type": "code",
   "execution_count": 406,
   "id": "3316a90f",
   "metadata": {
    "vscode": {
     "languageId": "sql"
    }
   },
   "outputs": [
    {
     "data": {
      "text/html": [
       "<span style=\"None\">Running query in &#x27;postgresql://notebook@localhost:5432/sahuagin&#x27;</span>"
      ],
      "text/plain": [
       "Running query in 'postgresql://notebook@localhost:5432/sahuagin'"
      ]
     },
     "metadata": {},
     "output_type": "display_data"
    },
    {
     "data": {
      "text/html": [
       "<table>\n",
       "    <thead>\n",
       "        <tr>\n",
       "        </tr>\n",
       "    </thead>\n",
       "    <tbody>\n",
       "    </tbody>\n",
       "</table>"
      ],
      "text/plain": [
       "++\n",
       "||\n",
       "++\n",
       "++"
      ]
     },
     "execution_count": 406,
     "metadata": {},
     "output_type": "execute_result"
    }
   ],
   "source": [
    "%%sql\n",
    "\n",
    "DROP INDEX IF EXISTS idx_variant_attribute_variant_causation;\n",
    "CREATE INDEX idx_variant_attribute_variant_causation ON variant_attribute (variant_id, causation_index);"
   ]
  },
  {
   "cell_type": "markdown",
   "id": "3e09c8eb",
   "metadata": {},
   "source": [
    "## idx_variant_attr_span_span_id"
   ]
  },
  {
   "cell_type": "code",
   "execution_count": 407,
   "id": "a505619c",
   "metadata": {
    "vscode": {
     "languageId": "sql"
    }
   },
   "outputs": [
    {
     "data": {
      "text/html": [
       "<span style=\"None\">Running query in &#x27;postgresql://notebook@localhost:5432/sahuagin&#x27;</span>"
      ],
      "text/plain": [
       "Running query in 'postgresql://notebook@localhost:5432/sahuagin'"
      ]
     },
     "metadata": {},
     "output_type": "display_data"
    },
    {
     "data": {
      "text/html": [
       "<table>\n",
       "    <thead>\n",
       "        <tr>\n",
       "        </tr>\n",
       "    </thead>\n",
       "    <tbody>\n",
       "    </tbody>\n",
       "</table>"
      ],
      "text/plain": [
       "++\n",
       "||\n",
       "++\n",
       "++"
      ]
     },
     "execution_count": 407,
     "metadata": {},
     "output_type": "execute_result"
    }
   ],
   "source": [
    "%%sql\n",
    "\n",
    "DROP INDEX IF EXISTS idx_variant_attr_span_span_id;\n",
    "CREATE INDEX idx_variant_attr_span_span_id ON variant_attr_span (span_id);"
   ]
  },
  {
   "cell_type": "markdown",
   "id": "67ce18c2",
   "metadata": {},
   "source": [
    "## idx_variant_attr_span_variant_attribute_id"
   ]
  },
  {
   "cell_type": "code",
   "execution_count": 408,
   "id": "8ec8573c",
   "metadata": {
    "vscode": {
     "languageId": "sql"
    }
   },
   "outputs": [
    {
     "data": {
      "text/html": [
       "<span style=\"None\">Running query in &#x27;postgresql://notebook@localhost:5432/sahuagin&#x27;</span>"
      ],
      "text/plain": [
       "Running query in 'postgresql://notebook@localhost:5432/sahuagin'"
      ]
     },
     "metadata": {},
     "output_type": "display_data"
    },
    {
     "data": {
      "text/html": [
       "<table>\n",
       "    <thead>\n",
       "        <tr>\n",
       "        </tr>\n",
       "    </thead>\n",
       "    <tbody>\n",
       "    </tbody>\n",
       "</table>"
      ],
      "text/plain": [
       "++\n",
       "||\n",
       "++\n",
       "++"
      ]
     },
     "execution_count": 408,
     "metadata": {},
     "output_type": "execute_result"
    }
   ],
   "source": [
    "%%sql\n",
    "\n",
    "DROP INDEX IF EXISTS idx_variant_attr_span_variant_attribute_id;\n",
    "CREATE INDEX idx_variant_attr_span_variant_attribute_id ON variant_attr_span (variant_attribute_id);"
   ]
  },
  {
   "cell_type": "markdown",
   "id": "6374e454",
   "metadata": {},
   "source": [
    "## idx_variant_attr_span_variant_attr"
   ]
  },
  {
   "cell_type": "code",
   "execution_count": 409,
   "id": "42b33136",
   "metadata": {
    "vscode": {
     "languageId": "sql"
    }
   },
   "outputs": [
    {
     "data": {
      "text/html": [
       "<span style=\"None\">Running query in &#x27;postgresql://notebook@localhost:5432/sahuagin&#x27;</span>"
      ],
      "text/plain": [
       "Running query in 'postgresql://notebook@localhost:5432/sahuagin'"
      ]
     },
     "metadata": {},
     "output_type": "display_data"
    },
    {
     "data": {
      "text/html": [
       "<table>\n",
       "    <thead>\n",
       "        <tr>\n",
       "        </tr>\n",
       "    </thead>\n",
       "    <tbody>\n",
       "    </tbody>\n",
       "</table>"
      ],
      "text/plain": [
       "++\n",
       "||\n",
       "++\n",
       "++"
      ]
     },
     "execution_count": 409,
     "metadata": {},
     "output_type": "execute_result"
    }
   ],
   "source": [
    "%%sql\n",
    "\n",
    "DROP INDEX IF EXISTS idx_variant_attr_span_variant_attr;\n",
    "CREATE INDEX idx_variant_attr_span_variant_attr ON variant_attr_span (\n",
    "    variant_id,\n",
    "    variant_attribute_id\n",
    ");"
   ]
  },
  {
   "cell_type": "markdown",
   "id": "fa3af380",
   "metadata": {},
   "source": [
    "## idx_variant_attr_span_vaid_spanid"
   ]
  },
  {
   "cell_type": "code",
   "execution_count": 410,
   "id": "3dfa395b",
   "metadata": {
    "vscode": {
     "languageId": "sql"
    }
   },
   "outputs": [
    {
     "data": {
      "text/html": [
       "<span style=\"None\">Running query in &#x27;postgresql://notebook@localhost:5432/sahuagin&#x27;</span>"
      ],
      "text/plain": [
       "Running query in 'postgresql://notebook@localhost:5432/sahuagin'"
      ]
     },
     "metadata": {},
     "output_type": "display_data"
    },
    {
     "data": {
      "text/html": [
       "<table>\n",
       "    <thead>\n",
       "        <tr>\n",
       "        </tr>\n",
       "    </thead>\n",
       "    <tbody>\n",
       "    </tbody>\n",
       "</table>"
      ],
      "text/plain": [
       "++\n",
       "||\n",
       "++\n",
       "++"
      ]
     },
     "execution_count": 410,
     "metadata": {},
     "output_type": "execute_result"
    }
   ],
   "source": [
    "%%sql\n",
    "\n",
    "DROP INDEX IF EXISTS idx_variant_attr_span_vaid_spanid;\n",
    "CREATE INDEX idx_variant_attr_span_vaid_spanid ON variant_attr_span (variant_attribute_id, span_id);"
   ]
  },
  {
   "cell_type": "markdown",
   "id": "ba5e16e9",
   "metadata": {},
   "source": [
    "## idx_variant_attr_span_vaid_variant"
   ]
  },
  {
   "cell_type": "code",
   "execution_count": 411,
   "id": "c24a6b6a",
   "metadata": {
    "vscode": {
     "languageId": "sql"
    }
   },
   "outputs": [
    {
     "data": {
      "text/html": [
       "<span style=\"None\">Running query in &#x27;postgresql://notebook@localhost:5432/sahuagin&#x27;</span>"
      ],
      "text/plain": [
       "Running query in 'postgresql://notebook@localhost:5432/sahuagin'"
      ]
     },
     "metadata": {},
     "output_type": "display_data"
    },
    {
     "data": {
      "text/html": [
       "<table>\n",
       "    <thead>\n",
       "        <tr>\n",
       "        </tr>\n",
       "    </thead>\n",
       "    <tbody>\n",
       "    </tbody>\n",
       "</table>"
      ],
      "text/plain": [
       "++\n",
       "||\n",
       "++\n",
       "++"
      ]
     },
     "execution_count": 411,
     "metadata": {},
     "output_type": "execute_result"
    }
   ],
   "source": [
    "%%sql\n",
    "\n",
    "DROP INDEX IF EXISTS idx_variant_attr_span_vaid_variant;\n",
    "CREATE INDEX idx_variant_attr_span_vaid_variant ON variant_attr_span (\n",
    "    variant_attribute_id,\n",
    "    variant_id\n",
    ");"
   ]
  },
  {
   "cell_type": "markdown",
   "id": "d61bb52c",
   "metadata": {},
   "source": [
    "## idx_vavspan_attr_variant_attribute"
   ]
  },
  {
   "cell_type": "code",
   "execution_count": 412,
   "id": "294e373a",
   "metadata": {
    "vscode": {
     "languageId": "sql"
    }
   },
   "outputs": [
    {
     "data": {
      "text/html": [
       "<span style=\"None\">Running query in &#x27;postgresql://notebook@localhost:5432/sahuagin&#x27;</span>"
      ],
      "text/plain": [
       "Running query in 'postgresql://notebook@localhost:5432/sahuagin'"
      ]
     },
     "metadata": {},
     "output_type": "display_data"
    },
    {
     "data": {
      "text/html": [
       "<table>\n",
       "    <thead>\n",
       "        <tr>\n",
       "        </tr>\n",
       "    </thead>\n",
       "    <tbody>\n",
       "    </tbody>\n",
       "</table>"
      ],
      "text/plain": [
       "++\n",
       "||\n",
       "++\n",
       "++"
      ]
     },
     "execution_count": 412,
     "metadata": {},
     "output_type": "execute_result"
    }
   ],
   "source": [
    "%%sql\n",
    "\n",
    "DROP INDEX IF EXISTS idx_vavspan_attr_variant_attribute;\n",
    "CREATE INDEX idx_vavspan_attr_variant_attribute ON vavspan_attr (variant_attribute_id);"
   ]
  },
  {
   "cell_type": "markdown",
   "id": "a76e2135",
   "metadata": {},
   "source": [
    "## idx_vavspan_attr_vaid"
   ]
  },
  {
   "cell_type": "code",
   "execution_count": 413,
   "id": "8254f2bb",
   "metadata": {
    "vscode": {
     "languageId": "sql"
    }
   },
   "outputs": [
    {
     "data": {
      "text/html": [
       "<span style=\"None\">Running query in &#x27;postgresql://notebook@localhost:5432/sahuagin&#x27;</span>"
      ],
      "text/plain": [
       "Running query in 'postgresql://notebook@localhost:5432/sahuagin'"
      ]
     },
     "metadata": {},
     "output_type": "display_data"
    },
    {
     "data": {
      "text/html": [
       "<table>\n",
       "    <thead>\n",
       "        <tr>\n",
       "        </tr>\n",
       "    </thead>\n",
       "    <tbody>\n",
       "    </tbody>\n",
       "</table>"
      ],
      "text/plain": [
       "++\n",
       "||\n",
       "++\n",
       "++"
      ]
     },
     "execution_count": 413,
     "metadata": {},
     "output_type": "execute_result"
    }
   ],
   "source": [
    "%%sql\n",
    "\n",
    "DROP INDEX IF EXISTS idx_vavspan_attr_vaid;\n",
    "CREATE INDEX idx_vavspan_attr_vaid ON vavspan_attr (variant_attribute_id, id);"
   ]
  },
  {
   "cell_type": "markdown",
   "id": "3dc6126d-4c57-4acd-ba96-e4a024670843",
   "metadata": {},
   "source": [
    "## idx_vavspan_attr_parent"
   ]
  },
  {
   "cell_type": "code",
   "execution_count": 414,
   "id": "6d5b5265-10af-4660-a25d-ec267c59f766",
   "metadata": {
    "vscode": {
     "languageId": "sql"
    }
   },
   "outputs": [
    {
     "data": {
      "text/html": [
       "<span style=\"None\">Running query in &#x27;postgresql://notebook@localhost:5432/sahuagin&#x27;</span>"
      ],
      "text/plain": [
       "Running query in 'postgresql://notebook@localhost:5432/sahuagin'"
      ]
     },
     "metadata": {},
     "output_type": "display_data"
    },
    {
     "data": {
      "text/html": [
       "<table>\n",
       "    <thead>\n",
       "        <tr>\n",
       "        </tr>\n",
       "    </thead>\n",
       "    <tbody>\n",
       "    </tbody>\n",
       "</table>"
      ],
      "text/plain": [
       "++\n",
       "||\n",
       "++\n",
       "++"
      ]
     },
     "execution_count": 414,
     "metadata": {},
     "output_type": "execute_result"
    }
   ],
   "source": [
    "%%sql\n",
    "\n",
    "DROP INDEX IF EXISTS idx_vavspan_attr_parent;\n",
    "CREATE INDEX idx_vavspan_attr_parent ON vavspan_attr(parent_vavspan_attr_id);"
   ]
  },
  {
   "cell_type": "markdown",
   "id": "0843457a",
   "metadata": {},
   "source": [
    "## idx_uq_vavspan_attr"
   ]
  },
  {
   "cell_type": "code",
   "execution_count": 415,
   "id": "e2ed14f3",
   "metadata": {
    "vscode": {
     "languageId": "sql"
    }
   },
   "outputs": [
    {
     "data": {
      "text/html": [
       "<span style=\"None\">Running query in &#x27;postgresql://notebook@localhost:5432/sahuagin&#x27;</span>"
      ],
      "text/plain": [
       "Running query in 'postgresql://notebook@localhost:5432/sahuagin'"
      ]
     },
     "metadata": {},
     "output_type": "display_data"
    },
    {
     "data": {
      "text/html": [
       "<table>\n",
       "    <thead>\n",
       "        <tr>\n",
       "        </tr>\n",
       "    </thead>\n",
       "    <tbody>\n",
       "    </tbody>\n",
       "</table>"
      ],
      "text/plain": [
       "++\n",
       "||\n",
       "++\n",
       "++"
      ]
     },
     "execution_count": 415,
     "metadata": {},
     "output_type": "execute_result"
    }
   ],
   "source": [
    "%%sql\n",
    "\n",
    "DROP INDEX IF EXISTS idx_uq_vavspan_attr;\n",
    "CREATE INDEX idx_uq_vavspan_attr ON vavspan_attr (\n",
    "    variant_attribute_id,\n",
    "    variant_attr_span_id\n",
    ");"
   ]
  },
  {
   "cell_type": "markdown",
   "id": "3fc45d77",
   "metadata": {},
   "source": [
    "## idx_var_cont_variation"
   ]
  },
  {
   "cell_type": "code",
   "execution_count": 416,
   "id": "1c8d8d66",
   "metadata": {
    "vscode": {
     "languageId": "sql"
    }
   },
   "outputs": [
    {
     "data": {
      "text/html": [
       "<span style=\"None\">Running query in &#x27;postgresql://notebook@localhost:5432/sahuagin&#x27;</span>"
      ],
      "text/plain": [
       "Running query in 'postgresql://notebook@localhost:5432/sahuagin'"
      ]
     },
     "metadata": {},
     "output_type": "display_data"
    },
    {
     "data": {
      "text/html": [
       "<table>\n",
       "    <thead>\n",
       "        <tr>\n",
       "        </tr>\n",
       "    </thead>\n",
       "    <tbody>\n",
       "    </tbody>\n",
       "</table>"
      ],
      "text/plain": [
       "++\n",
       "||\n",
       "++\n",
       "++"
      ]
     },
     "execution_count": 416,
     "metadata": {},
     "output_type": "execute_result"
    }
   ],
   "source": [
    "%%sql\n",
    "\n",
    "DROP INDEX IF EXISTS idx_var_cont_variation;\n",
    "CREATE INDEX idx_var_cont_variation ON variation_continuous_attr (effect_id);"
   ]
  },
  {
   "cell_type": "markdown",
   "id": "ba915cda-aab2-4fbb-ba5d-b1b72cdd10ba",
   "metadata": {},
   "source": [
    "## idx_variation_activating_vavspan"
   ]
  },
  {
   "cell_type": "code",
   "execution_count": 417,
   "id": "9662886b-ccc2-4824-8b24-a7f8d2a3c032",
   "metadata": {
    "vscode": {
     "languageId": "sql"
    }
   },
   "outputs": [
    {
     "data": {
      "text/html": [
       "<span style=\"None\">Running query in &#x27;postgresql://notebook@localhost:5432/sahuagin&#x27;</span>"
      ],
      "text/plain": [
       "Running query in 'postgresql://notebook@localhost:5432/sahuagin'"
      ]
     },
     "metadata": {},
     "output_type": "display_data"
    },
    {
     "data": {
      "text/html": [
       "<table>\n",
       "    <thead>\n",
       "        <tr>\n",
       "        </tr>\n",
       "    </thead>\n",
       "    <tbody>\n",
       "    </tbody>\n",
       "</table>"
      ],
      "text/plain": [
       "++\n",
       "||\n",
       "++\n",
       "++"
      ]
     },
     "execution_count": 417,
     "metadata": {},
     "output_type": "execute_result"
    }
   ],
   "source": [
    "%%sql\n",
    "\n",
    "DROP INDEX IF EXISTS idx_variation_activating_vavspan;\n",
    "CREATE INDEX idx_variation_activating_vavspan ON variation(activating_vavspan_attr_id);"
   ]
  },
  {
   "cell_type": "markdown",
   "id": "a7cadce9-1e8b-4f99-9802-5cebfd9b0fa6",
   "metadata": {},
   "source": [
    "## idx_variation_to_modify_vavspan"
   ]
  },
  {
   "cell_type": "code",
   "execution_count": 418,
   "id": "b7fc8e3f-0e02-4aac-a13d-5135369cc621",
   "metadata": {
    "vscode": {
     "languageId": "sql"
    }
   },
   "outputs": [
    {
     "data": {
      "text/html": [
       "<span style=\"None\">Running query in &#x27;postgresql://notebook@localhost:5432/sahuagin&#x27;</span>"
      ],
      "text/plain": [
       "Running query in 'postgresql://notebook@localhost:5432/sahuagin'"
      ]
     },
     "metadata": {},
     "output_type": "display_data"
    },
    {
     "data": {
      "text/html": [
       "<table>\n",
       "    <thead>\n",
       "        <tr>\n",
       "        </tr>\n",
       "    </thead>\n",
       "    <tbody>\n",
       "    </tbody>\n",
       "</table>"
      ],
      "text/plain": [
       "++\n",
       "||\n",
       "++\n",
       "++"
      ]
     },
     "execution_count": 418,
     "metadata": {},
     "output_type": "execute_result"
    }
   ],
   "source": [
    "%%sql\n",
    "\n",
    "DROP INDEX IF EXISTS idx_variation_to_modify_vavspan;\n",
    "CREATE INDEX idx_variation_to_modify_vavspan ON variation(to_modify_vavspan_attr_id);"
   ]
  },
  {
   "cell_type": "markdown",
   "id": "6d10875a",
   "metadata": {},
   "source": [
    "## idx_variation_activated_span_varid_spanid"
   ]
  },
  {
   "cell_type": "code",
   "execution_count": 419,
   "id": "8c02f059",
   "metadata": {
    "vscode": {
     "languageId": "sql"
    }
   },
   "outputs": [
    {
     "data": {
      "text/html": [
       "<span style=\"None\">Running query in &#x27;postgresql://notebook@localhost:5432/sahuagin&#x27;</span>"
      ],
      "text/plain": [
       "Running query in 'postgresql://notebook@localhost:5432/sahuagin'"
      ]
     },
     "metadata": {},
     "output_type": "display_data"
    },
    {
     "data": {
      "text/html": [
       "<table>\n",
       "    <thead>\n",
       "        <tr>\n",
       "        </tr>\n",
       "    </thead>\n",
       "    <tbody>\n",
       "    </tbody>\n",
       "</table>"
      ],
      "text/plain": [
       "++\n",
       "||\n",
       "++\n",
       "++"
      ]
     },
     "execution_count": 419,
     "metadata": {},
     "output_type": "execute_result"
    }
   ],
   "source": [
    "%%sql\n",
    "\n",
    "DROP INDEX IF EXISTS idx_variation_activated_span_effid_spanid;\n",
    "CREATE INDEX idx_variation_activated_span_effid_spanid ON variation_activated_span (effect_id, span_id);"
   ]
  },
  {
   "cell_type": "markdown",
   "id": "e50fcdc3",
   "metadata": {},
   "source": [
    "## idx_variation_inactive"
   ]
  },
  {
   "cell_type": "code",
   "execution_count": 420,
   "id": "126b9925",
   "metadata": {
    "vscode": {
     "languageId": "sql"
    }
   },
   "outputs": [
    {
     "data": {
      "text/html": [
       "<span style=\"None\">Running query in &#x27;postgresql://notebook@localhost:5432/sahuagin&#x27;</span>"
      ],
      "text/plain": [
       "Running query in 'postgresql://notebook@localhost:5432/sahuagin'"
      ]
     },
     "metadata": {},
     "output_type": "display_data"
    },
    {
     "data": {
      "text/html": [
       "<table>\n",
       "    <thead>\n",
       "        <tr>\n",
       "        </tr>\n",
       "    </thead>\n",
       "    <tbody>\n",
       "    </tbody>\n",
       "</table>"
      ],
      "text/plain": [
       "++\n",
       "||\n",
       "++\n",
       "++"
      ]
     },
     "execution_count": 420,
     "metadata": {},
     "output_type": "execute_result"
    }
   ],
   "source": [
    "%%sql\n",
    "\n",
    "DROP INDEX IF EXISTS idx_variation_inactive;\n",
    "CREATE INDEX idx_variation_inactive ON variation_inactive_span (effect_id, span_id);"
   ]
  },
  {
   "cell_type": "markdown",
   "id": "e44c873c",
   "metadata": {},
   "source": [
    "## idx_variation_delta_weight_varid_spanid"
   ]
  },
  {
   "cell_type": "code",
   "execution_count": 421,
   "id": "3c15c086",
   "metadata": {
    "vscode": {
     "languageId": "sql"
    }
   },
   "outputs": [
    {
     "data": {
      "text/html": [
       "<span style=\"None\">Running query in &#x27;postgresql://notebook@localhost:5432/sahuagin&#x27;</span>"
      ],
      "text/plain": [
       "Running query in 'postgresql://notebook@localhost:5432/sahuagin'"
      ]
     },
     "metadata": {},
     "output_type": "display_data"
    },
    {
     "data": {
      "text/html": [
       "<table>\n",
       "    <thead>\n",
       "        <tr>\n",
       "        </tr>\n",
       "    </thead>\n",
       "    <tbody>\n",
       "    </tbody>\n",
       "</table>"
      ],
      "text/plain": [
       "++\n",
       "||\n",
       "++\n",
       "++"
      ]
     },
     "execution_count": 421,
     "metadata": {},
     "output_type": "execute_result"
    }
   ],
   "source": [
    "%%sql\n",
    "\n",
    "DROP INDEX IF EXISTS idx_variation_delta_weight_effid_spanid;\n",
    "CREATE INDEX idx_variation_delta_weight_effid_spanid ON variation_delta_weight (effect_id, span_id);"
   ]
  },
  {
   "cell_type": "markdown",
   "id": "080999f8",
   "metadata": {},
   "source": [
    "## idx_variation_delta"
   ]
  },
  {
   "cell_type": "code",
   "execution_count": 422,
   "id": "5638e2e7",
   "metadata": {
    "vscode": {
     "languageId": "sql"
    }
   },
   "outputs": [
    {
     "data": {
      "text/html": [
       "<span style=\"None\">Running query in &#x27;postgresql://notebook@localhost:5432/sahuagin&#x27;</span>"
      ],
      "text/plain": [
       "Running query in 'postgresql://notebook@localhost:5432/sahuagin'"
      ]
     },
     "metadata": {},
     "output_type": "display_data"
    },
    {
     "data": {
      "text/html": [
       "<table>\n",
       "    <thead>\n",
       "        <tr>\n",
       "        </tr>\n",
       "    </thead>\n",
       "    <tbody>\n",
       "    </tbody>\n",
       "</table>"
      ],
      "text/plain": [
       "++\n",
       "||\n",
       "++\n",
       "++"
      ]
     },
     "execution_count": 422,
     "metadata": {},
     "output_type": "execute_result"
    }
   ],
   "source": [
    "%%sql\n",
    "\n",
    "DROP INDEX IF EXISTS idx_variation_delta;\n",
    "CREATE INDEX idx_variation_delta ON variation_delta_weight (\n",
    "    effect_id,\n",
    "    span_id,\n",
    "    delta_weight\n",
    ");"
   ]
  },
  {
   "cell_type": "markdown",
   "id": "cac677ad",
   "metadata": {},
   "source": [
    "## idx_entity_state_entity_id"
   ]
  },
  {
   "cell_type": "code",
   "execution_count": 423,
   "id": "fe18b12e",
   "metadata": {
    "vscode": {
     "languageId": "sql"
    }
   },
   "outputs": [
    {
     "data": {
      "text/html": [
       "<span style=\"None\">Running query in &#x27;postgresql://notebook@localhost:5432/sahuagin&#x27;</span>"
      ],
      "text/plain": [
       "Running query in 'postgresql://notebook@localhost:5432/sahuagin'"
      ]
     },
     "metadata": {},
     "output_type": "display_data"
    },
    {
     "data": {
      "text/html": [
       "<table>\n",
       "    <thead>\n",
       "        <tr>\n",
       "        </tr>\n",
       "    </thead>\n",
       "    <tbody>\n",
       "    </tbody>\n",
       "</table>"
      ],
      "text/plain": [
       "++\n",
       "||\n",
       "++\n",
       "++"
      ]
     },
     "execution_count": 423,
     "metadata": {},
     "output_type": "execute_result"
    }
   ],
   "source": [
    "%%sql\n",
    "\n",
    "DROP INDEX IF EXISTS idx_entity_state_entity_id;\n",
    "CREATE INDEX idx_entity_state_entity_id ON entity_state (entity_id);"
   ]
  },
  {
   "cell_type": "markdown",
   "id": "3b3e6097",
   "metadata": {},
   "source": [
    "## idx_entity_state_entity_time"
   ]
  },
  {
   "cell_type": "code",
   "execution_count": 424,
   "id": "9169bf37",
   "metadata": {
    "vscode": {
     "languageId": "sql"
    }
   },
   "outputs": [
    {
     "data": {
      "text/html": [
       "<span style=\"None\">Running query in &#x27;postgresql://notebook@localhost:5432/sahuagin&#x27;</span>"
      ],
      "text/plain": [
       "Running query in 'postgresql://notebook@localhost:5432/sahuagin'"
      ]
     },
     "metadata": {},
     "output_type": "display_data"
    },
    {
     "data": {
      "text/html": [
       "<table>\n",
       "    <thead>\n",
       "        <tr>\n",
       "        </tr>\n",
       "    </thead>\n",
       "    <tbody>\n",
       "    </tbody>\n",
       "</table>"
      ],
      "text/plain": [
       "++\n",
       "||\n",
       "++\n",
       "++"
      ]
     },
     "execution_count": 424,
     "metadata": {},
     "output_type": "execute_result"
    }
   ],
   "source": [
    "%%sql\n",
    "\n",
    "DROP INDEX IF EXISTS idx_entity_state_entity_time;\n",
    "CREATE INDEX idx_entity_state_entity_time ON entity_state (entity_id, time);"
   ]
  },
  {
   "cell_type": "markdown",
   "id": "e5c5cb9a",
   "metadata": {},
   "source": [
    "## idx_entity_varattr_value_entity_state_id"
   ]
  },
  {
   "cell_type": "code",
   "execution_count": 425,
   "id": "7eed3089",
   "metadata": {
    "vscode": {
     "languageId": "sql"
    }
   },
   "outputs": [
    {
     "data": {
      "text/html": [
       "<span style=\"None\">Running query in &#x27;postgresql://notebook@localhost:5432/sahuagin&#x27;</span>"
      ],
      "text/plain": [
       "Running query in 'postgresql://notebook@localhost:5432/sahuagin'"
      ]
     },
     "metadata": {},
     "output_type": "display_data"
    },
    {
     "data": {
      "text/html": [
       "<table>\n",
       "    <thead>\n",
       "        <tr>\n",
       "        </tr>\n",
       "    </thead>\n",
       "    <tbody>\n",
       "    </tbody>\n",
       "</table>"
      ],
      "text/plain": [
       "++\n",
       "||\n",
       "++\n",
       "++"
      ]
     },
     "execution_count": 425,
     "metadata": {},
     "output_type": "execute_result"
    }
   ],
   "source": [
    "%%sql\n",
    "\n",
    "DROP INDEX IF EXISTS idx_entity_varattr_value_entity_state_id;\n",
    "CREATE INDEX idx_entity_varattr_value_entity_state_id ON entity_varattr_value (entity_state_id);"
   ]
  },
  {
   "cell_type": "markdown",
   "id": "ec74b8ee",
   "metadata": {},
   "source": [
    "## idx_evav_state_vaid"
   ]
  },
  {
   "cell_type": "code",
   "execution_count": 426,
   "id": "1f96c27e",
   "metadata": {
    "vscode": {
     "languageId": "sql"
    }
   },
   "outputs": [
    {
     "data": {
      "text/html": [
       "<span style=\"None\">Running query in &#x27;postgresql://notebook@localhost:5432/sahuagin&#x27;</span>"
      ],
      "text/plain": [
       "Running query in 'postgresql://notebook@localhost:5432/sahuagin'"
      ]
     },
     "metadata": {},
     "output_type": "display_data"
    },
    {
     "data": {
      "text/html": [
       "<table>\n",
       "    <thead>\n",
       "        <tr>\n",
       "        </tr>\n",
       "    </thead>\n",
       "    <tbody>\n",
       "    </tbody>\n",
       "</table>"
      ],
      "text/plain": [
       "++\n",
       "||\n",
       "++\n",
       "++"
      ]
     },
     "execution_count": 426,
     "metadata": {},
     "output_type": "execute_result"
    }
   ],
   "source": [
    "%%sql\n",
    "\n",
    "DROP INDEX IF EXISTS idx_evav_state_vaid;\n",
    "CREATE INDEX idx_evav_state_vaid ON entity_varattr_value (\n",
    "    entity_state_id,\n",
    "    vavspan_attr_id\n",
    ");"
   ]
  },
  {
   "cell_type": "markdown",
   "id": "77cb7537",
   "metadata": {},
   "source": [
    "## idx_evav_state_attr_span"
   ]
  },
  {
   "cell_type": "code",
   "execution_count": 427,
   "id": "9e140bb5",
   "metadata": {
    "vscode": {
     "languageId": "sql"
    }
   },
   "outputs": [
    {
     "data": {
      "text/html": [
       "<span style=\"None\">Running query in &#x27;postgresql://notebook@localhost:5432/sahuagin&#x27;</span>"
      ],
      "text/plain": [
       "Running query in 'postgresql://notebook@localhost:5432/sahuagin'"
      ]
     },
     "metadata": {},
     "output_type": "display_data"
    },
    {
     "data": {
      "text/html": [
       "<table>\n",
       "    <thead>\n",
       "        <tr>\n",
       "        </tr>\n",
       "    </thead>\n",
       "    <tbody>\n",
       "    </tbody>\n",
       "</table>"
      ],
      "text/plain": [
       "++\n",
       "||\n",
       "++\n",
       "++"
      ]
     },
     "execution_count": 427,
     "metadata": {},
     "output_type": "execute_result"
    }
   ],
   "source": [
    "%%sql\n",
    "\n",
    "DROP INDEX IF EXISTS idx_evav_state_attr_span;\n",
    "CREATE INDEX idx_evav_state_attr_span ON entity_varattr_value (\n",
    "    entity_state_id,\n",
    "    vavspan_attr_id,\n",
    "    span_id\n",
    ");"
   ]
  },
  {
   "cell_type": "markdown",
   "id": "48596a17",
   "metadata": {},
   "source": [
    "## idx_evav_lock_locked"
   ]
  },
  {
   "cell_type": "code",
   "execution_count": 428,
   "id": "5853a7db",
   "metadata": {
    "vscode": {
     "languageId": "sql"
    }
   },
   "outputs": [
    {
     "data": {
      "text/html": [
       "<span style=\"None\">Running query in &#x27;postgresql://notebook@localhost:5432/sahuagin&#x27;</span>"
      ],
      "text/plain": [
       "Running query in 'postgresql://notebook@localhost:5432/sahuagin'"
      ]
     },
     "metadata": {},
     "output_type": "display_data"
    },
    {
     "data": {
      "text/html": [
       "<table>\n",
       "    <thead>\n",
       "        <tr>\n",
       "        </tr>\n",
       "    </thead>\n",
       "    <tbody>\n",
       "    </tbody>\n",
       "</table>"
      ],
      "text/plain": [
       "++\n",
       "||\n",
       "++\n",
       "++"
      ]
     },
     "execution_count": 428,
     "metadata": {},
     "output_type": "execute_result"
    }
   ],
   "source": [
    "%%sql\n",
    "\n",
    "DROP INDEX IF EXISTS idx_evav_lock_locked;\n",
    "CREATE INDEX idx_evav_lock_locked ON evav_lock (locked_evav_id);"
   ]
  },
  {
   "cell_type": "markdown",
   "id": "c118bcf9",
   "metadata": {},
   "source": [
    "## idx_evav_lock_locking"
   ]
  },
  {
   "cell_type": "code",
   "execution_count": 429,
   "id": "e716b14e",
   "metadata": {
    "vscode": {
     "languageId": "sql"
    }
   },
   "outputs": [
    {
     "data": {
      "text/html": [
       "<span style=\"None\">Running query in &#x27;postgresql://notebook@localhost:5432/sahuagin&#x27;</span>"
      ],
      "text/plain": [
       "Running query in 'postgresql://notebook@localhost:5432/sahuagin'"
      ]
     },
     "metadata": {},
     "output_type": "display_data"
    },
    {
     "data": {
      "text/html": [
       "<table>\n",
       "    <thead>\n",
       "        <tr>\n",
       "        </tr>\n",
       "    </thead>\n",
       "    <tbody>\n",
       "    </tbody>\n",
       "</table>"
      ],
      "text/plain": [
       "++\n",
       "||\n",
       "++\n",
       "++"
      ]
     },
     "execution_count": 429,
     "metadata": {},
     "output_type": "execute_result"
    }
   ],
   "source": [
    "%%sql\n",
    "\n",
    "DROP INDEX IF EXISTS idx_evav_lock_locking;\n",
    "CREATE INDEX idx_evav_lock_locking ON evav_lock (locking_evav_id);"
   ]
  },
  {
   "cell_type": "markdown",
   "id": "5b713f9b",
   "metadata": {},
   "source": [
    "## idx_evav_lock_locked_locking"
   ]
  },
  {
   "cell_type": "code",
   "execution_count": 430,
   "id": "c4a43c80",
   "metadata": {
    "vscode": {
     "languageId": "sql"
    }
   },
   "outputs": [
    {
     "data": {
      "text/html": [
       "<span style=\"None\">Running query in &#x27;postgresql://notebook@localhost:5432/sahuagin&#x27;</span>"
      ],
      "text/plain": [
       "Running query in 'postgresql://notebook@localhost:5432/sahuagin'"
      ]
     },
     "metadata": {},
     "output_type": "display_data"
    },
    {
     "data": {
      "text/html": [
       "<table>\n",
       "    <thead>\n",
       "        <tr>\n",
       "        </tr>\n",
       "    </thead>\n",
       "    <tbody>\n",
       "    </tbody>\n",
       "</table>"
      ],
      "text/plain": [
       "++\n",
       "||\n",
       "++\n",
       "++"
      ]
     },
     "execution_count": 430,
     "metadata": {},
     "output_type": "execute_result"
    }
   ],
   "source": [
    "%%sql\n",
    "\n",
    "DROP INDEX IF EXISTS idx_evav_lock_locked_locking;\n",
    "CREATE INDEX idx_evav_lock_locked_locking ON evav_lock (\n",
    "    locked_evav_id,\n",
    "    locking_evav_id\n",
    ");"
   ]
  },
  {
   "cell_type": "markdown",
   "id": "6e64fcaa",
   "metadata": {},
   "source": [
    "## idx_entity_group_link_group_id_entity_id"
   ]
  },
  {
   "cell_type": "code",
   "execution_count": 431,
   "id": "10d2674a",
   "metadata": {
    "vscode": {
     "languageId": "sql"
    }
   },
   "outputs": [
    {
     "data": {
      "text/html": [
       "<span style=\"None\">Running query in &#x27;postgresql://notebook@localhost:5432/sahuagin&#x27;</span>"
      ],
      "text/plain": [
       "Running query in 'postgresql://notebook@localhost:5432/sahuagin'"
      ]
     },
     "metadata": {},
     "output_type": "display_data"
    },
    {
     "data": {
      "text/html": [
       "<table>\n",
       "    <thead>\n",
       "        <tr>\n",
       "        </tr>\n",
       "    </thead>\n",
       "    <tbody>\n",
       "    </tbody>\n",
       "</table>"
      ],
      "text/plain": [
       "++\n",
       "||\n",
       "++\n",
       "++"
      ]
     },
     "execution_count": 431,
     "metadata": {},
     "output_type": "execute_result"
    }
   ],
   "source": [
    "%%sql\n",
    "\n",
    "DROP INDEX IF EXISTS idx_entity_group_link_group_id_entity_id;\n",
    "CREATE INDEX idx_entity_group_link_group_id_entity_id\n",
    "  ON entity_group_link(entity_group_id, entity_id);"
   ]
  },
  {
   "cell_type": "markdown",
   "id": "432a53b9-0984-45fa-8eba-3dde6bb6075a",
   "metadata": {
    "jp-MarkdownHeadingCollapsed": true
   },
   "source": [
    "# Debug"
   ]
  },
  {
   "cell_type": "markdown",
   "id": "3be4f202",
   "metadata": {},
   "source": [
    "## Create Log Table"
   ]
  },
  {
   "cell_type": "code",
   "execution_count": null,
   "id": "a4214ab5",
   "metadata": {
    "vscode": {
     "languageId": "sql"
    }
   },
   "outputs": [],
   "source": [
    "%%sql\n",
    "\n",
    "DROP TABLE IF EXISTS debug_log CASCADE;\n",
    "CREATE TABLE debug_log (\n",
    "    id integer GENERATED ALWAYS AS IDENTITY PRIMARY KEY,\n",
    "    log_time timestamp DEFAULT CURRENT_TIMESTAMP,\n",
    "    procedure_name varchar(255),\n",
    "    log_message text\n",
    ");"
   ]
  },
  {
   "cell_type": "markdown",
   "id": "92275a5c",
   "metadata": {},
   "source": [
    "## Create Log Function"
   ]
  },
  {
   "cell_type": "code",
   "execution_count": null,
   "id": "dbb634b6",
   "metadata": {
    "vscode": {
     "languageId": "sql"
    }
   },
   "outputs": [],
   "source": [
    "%%sql\n",
    "\n",
    "CREATE OR REPLACE FUNCTION debug_log(\n",
    "    p_procedure_name varchar,\n",
    "    p_log_message text\n",
    ") RETURNS void\n",
    "LANGUAGE plpgsql\n",
    "AS $$\n",
    "BEGIN\n",
    "    INSERT INTO debug_log (procedure_name, log_message, log_time)\n",
    "    VALUES (p_procedure_name, p_log_message, now());\n",
    "END;\n",
    "$$;"
   ]
  },
  {
   "cell_type": "markdown",
   "id": "618a813c-05d4-4abf-848b-3cb8f779014c",
   "metadata": {},
   "source": [
    "## Clear Log Table"
   ]
  },
  {
   "cell_type": "code",
   "execution_count": null,
   "id": "66ffd6b9-93cb-49ca-947c-c61b866ccf45",
   "metadata": {},
   "outputs": [],
   "source": [
    "%%sql\n",
    "\n",
    "TRUNCATE TABLE debug_log RESTART IDENTITY CASCADE;"
   ]
  },
  {
   "cell_type": "markdown",
   "id": "591436eb",
   "metadata": {
    "jp-MarkdownHeadingCollapsed": true
   },
   "source": [
    "# Create Functions & Procedures"
   ]
  },
  {
   "cell_type": "markdown",
   "id": "0c864491",
   "metadata": {},
   "source": [
    "## Discreate Attribute"
   ]
  },
  {
   "cell_type": "markdown",
   "id": "f71e45f0",
   "metadata": {},
   "source": [
    "### Add"
   ]
  },
  {
   "cell_type": "code",
   "execution_count": 792,
   "id": "5691d417",
   "metadata": {
    "vscode": {
     "languageId": "sql"
    }
   },
   "outputs": [
    {
     "data": {
      "text/html": [
       "<span style=\"None\">Running query in &#x27;postgresql://notebook@localhost:5432/sahuagin&#x27;</span>"
      ],
      "text/plain": [
       "Running query in 'postgresql://notebook@localhost:5432/sahuagin'"
      ]
     },
     "metadata": {},
     "output_type": "display_data"
    },
    {
     "data": {
      "text/html": [
       "<table>\n",
       "    <thead>\n",
       "        <tr>\n",
       "        </tr>\n",
       "    </thead>\n",
       "    <tbody>\n",
       "    </tbody>\n",
       "</table>"
      ],
      "text/plain": [
       "++\n",
       "||\n",
       "++\n",
       "++"
      ]
     },
     "execution_count": 792,
     "metadata": {},
     "output_type": "execute_result"
    }
   ],
   "source": [
    "%%sql\n",
    "\n",
    "CREATE OR REPLACE PROCEDURE add_discrete_attribute(\n",
    "    in_name       VARCHAR(255),\n",
    "    in_spans      JSON  -- JSON array: either [[\"span1\", 10], [\"span2\", 20]] or [\"span1\", \"span2\"]\n",
    ")\n",
    "LANGUAGE plpgsql\n",
    "AS $$\n",
    "DECLARE\n",
    "    new_attr_id       INTEGER;\n",
    "    span_count        INTEGER;\n",
    "    span_label        VARCHAR(255);\n",
    "    span_weight       DOUBLE PRECISION;\n",
    "    normalized_weight DOUBLE PRECISION;\n",
    "    total_weight      DOUBLE PRECISION := 0;\n",
    "    first_elem_type   TEXT;\n",
    "    spans_json        JSON;\n",
    "    i                 INTEGER;\n",
    "BEGIN\n",
    "    -- Create the new attribute\n",
    "    INSERT INTO attribute (name, type)\n",
    "      VALUES (in_name, 'discrete')\n",
    "      RETURNING id INTO new_attr_id;\n",
    "\n",
    "    IF in_spans IS NOT NULL THEN\n",
    "        spans_json := in_spans::json;\n",
    "        span_count := json_array_length(spans_json);\n",
    "\n",
    "        IF span_count > 0 THEN\n",
    "            first_elem_type := json_typeof(spans_json->0);\n",
    "        ELSE\n",
    "            first_elem_type := '';\n",
    "        END IF;\n",
    "\n",
    "        IF first_elem_type = 'array' THEN\n",
    "            -- First pass: compute the total weight\n",
    "            FOR i IN 0..span_count - 1 LOOP\n",
    "                total_weight := total_weight + (((spans_json->i)->>1)::DOUBLE PRECISION);\n",
    "            END LOOP;\n",
    "\n",
    "            -- Second pass: insert spans with normalized weight\n",
    "            FOR i IN 0..span_count - 1 LOOP\n",
    "                span_label := (spans_json->i)->>0;\n",
    "                span_weight := ((spans_json->i)->>1)::DOUBLE PRECISION;\n",
    "                normalized_weight := span_weight / total_weight;\n",
    "                INSERT INTO span (attribute_id, label, type, is_percentage_pinned, weight)\n",
    "                  VALUES (new_attr_id, span_label, 'discrete', false, normalized_weight);\n",
    "            END LOOP;\n",
    "        ELSE\n",
    "            -- For a JSON array of labels only, call the helper procedure for each span.\n",
    "            FOR i IN 0..span_count - 1 LOOP\n",
    "                span_label := spans_json->>i;\n",
    "                CALL add_discrete_span(new_attr_id, span_label);\n",
    "            END LOOP;\n",
    "        END IF;\n",
    "    END IF;\n",
    "END;\n",
    "$$;"
   ]
  },
  {
   "cell_type": "markdown",
   "id": "3ed792dc",
   "metadata": {
    "vscode": {
     "languageId": "sql"
    }
   },
   "source": [
    "### Get"
   ]
  },
  {
   "cell_type": "code",
   "execution_count": 793,
   "id": "8dcaf845",
   "metadata": {
    "vscode": {
     "languageId": "sql"
    }
   },
   "outputs": [
    {
     "data": {
      "text/html": [
       "<span style=\"None\">Running query in &#x27;postgresql://notebook@localhost:5432/sahuagin&#x27;</span>"
      ],
      "text/plain": [
       "Running query in 'postgresql://notebook@localhost:5432/sahuagin'"
      ]
     },
     "metadata": {},
     "output_type": "display_data"
    },
    {
     "data": {
      "text/html": [
       "<table>\n",
       "    <thead>\n",
       "        <tr>\n",
       "        </tr>\n",
       "    </thead>\n",
       "    <tbody>\n",
       "    </tbody>\n",
       "</table>"
      ],
      "text/plain": [
       "++\n",
       "||\n",
       "++\n",
       "++"
      ]
     },
     "execution_count": 793,
     "metadata": {},
     "output_type": "execute_result"
    }
   ],
   "source": [
    "%%sql\n",
    "\n",
    "CREATE OR REPLACE FUNCTION get_discrete_attribute(p_attribute_name varchar)\n",
    "RETURNS TABLE (\n",
    "    attribute   varchar,\n",
    "    type        attribute_type,\n",
    "    span_label  varchar,\n",
    "    span_weight double precision,\n",
    "    is_pinned      boolean\n",
    ")\n",
    "LANGUAGE plpgsql\n",
    "AS\n",
    "$$\n",
    "BEGIN\n",
    "  RETURN QUERY\n",
    "    SELECT \n",
    "      a.name,\n",
    "      a.type,\n",
    "      s.label,\n",
    "      s.weight,\n",
    "      s.is_percentage_pinned\n",
    "    FROM attribute a\n",
    "    JOIN span s ON s.attribute_id = a.id\n",
    "    WHERE a.name = p_attribute_name\n",
    "      AND NOT EXISTS (\n",
    "          SELECT 1 \n",
    "          FROM variation_activated_span vas \n",
    "          WHERE vas.span_id = s.id\n",
    "      );\n",
    "END;\n",
    "$$;"
   ]
  },
  {
   "cell_type": "markdown",
   "id": "dc83a6d8",
   "metadata": {},
   "source": [
    "### Delete"
   ]
  },
  {
   "cell_type": "code",
   "execution_count": 794,
   "id": "ac021b67",
   "metadata": {
    "vscode": {
     "languageId": "sql"
    }
   },
   "outputs": [
    {
     "data": {
      "text/html": [
       "<span style=\"None\">Running query in &#x27;postgresql://notebook@localhost:5432/sahuagin&#x27;</span>"
      ],
      "text/plain": [
       "Running query in 'postgresql://notebook@localhost:5432/sahuagin'"
      ]
     },
     "metadata": {},
     "output_type": "display_data"
    },
    {
     "data": {
      "text/html": [
       "<table>\n",
       "    <thead>\n",
       "        <tr>\n",
       "        </tr>\n",
       "    </thead>\n",
       "    <tbody>\n",
       "    </tbody>\n",
       "</table>"
      ],
      "text/plain": [
       "++\n",
       "||\n",
       "++\n",
       "++"
      ]
     },
     "execution_count": 794,
     "metadata": {},
     "output_type": "execute_result"
    }
   ],
   "source": [
    "%%sql\n",
    "\n",
    "CREATE OR REPLACE PROCEDURE delete_discrete_attribute(p_attribute_name varchar)\n",
    "LANGUAGE plpgsql\n",
    "AS\n",
    "$$\n",
    "BEGIN\n",
    "  DELETE FROM attribute\n",
    "  WHERE name = p_attribute_name\n",
    "    AND type = 'discrete';\n",
    "END;\n",
    "$$;"
   ]
  },
  {
   "cell_type": "markdown",
   "id": "ce0ad832",
   "metadata": {},
   "source": [
    "## Redistribute Unpinned Spans"
   ]
  },
  {
   "cell_type": "code",
   "execution_count": 795,
   "id": "1b136a4f",
   "metadata": {
    "vscode": {
     "languageId": "sql"
    }
   },
   "outputs": [
    {
     "data": {
      "text/html": [
       "<span style=\"None\">Running query in &#x27;postgresql://notebook@localhost:5432/sahuagin&#x27;</span>"
      ],
      "text/plain": [
       "Running query in 'postgresql://notebook@localhost:5432/sahuagin'"
      ]
     },
     "metadata": {},
     "output_type": "display_data"
    },
    {
     "data": {
      "text/html": [
       "<table>\n",
       "    <thead>\n",
       "        <tr>\n",
       "        </tr>\n",
       "    </thead>\n",
       "    <tbody>\n",
       "    </tbody>\n",
       "</table>"
      ],
      "text/plain": [
       "++\n",
       "||\n",
       "++\n",
       "++"
      ]
     },
     "execution_count": 795,
     "metadata": {},
     "output_type": "execute_result"
    }
   ],
   "source": [
    "%%sql\n",
    "\n",
    "CREATE OR REPLACE FUNCTION redistribute_unpinned_spans(\n",
    "    p_attribute_id INTEGER,\n",
    "    p_modified_span_id INTEGER,\n",
    "    p_new_weight DOUBLE PRECISION,\n",
    "    p_old_weight DOUBLE PRECISION\n",
    ") RETURNS VOID\n",
    "LANGUAGE plpgsql\n",
    "AS $$\n",
    "DECLARE\n",
    "    v_pinned_weight DOUBLE PRECISION;\n",
    "    v_target         DOUBLE PRECISION;\n",
    "BEGIN\n",
    "    -- Compute the total weight of pinned discrete spans.\n",
    "    SELECT COALESCE(SUM(weight), 0)\n",
    "      INTO v_pinned_weight\n",
    "      FROM span\n",
    "     WHERE attribute_id = p_attribute_id\n",
    "       AND type = 'discrete'\n",
    "       AND is_percentage_pinned = true;\n",
    "       \n",
    "    -- The available weight for all unpinned spans.\n",
    "    v_target := 1.0 - v_pinned_weight;\n",
    "    \n",
    "    -- If there’s only one unpinned span (v_target equals p_old_weight), then\n",
    "    -- the new weight must equal the entire target.\n",
    "    IF (v_target - p_old_weight) = 0 THEN\n",
    "       IF p_new_weight <> v_target THEN\n",
    "           RAISE EXCEPTION 'Cannot change weight; only one unpinned span exists and its weight must be %', v_target;\n",
    "       END IF;\n",
    "    END IF;\n",
    "    \n",
    "    -- Update all unpinned discrete spans:\n",
    "    -- • The modified span gets the new weight.\n",
    "    -- • All others are scaled proportionally.\n",
    "    UPDATE span\n",
    "       SET weight = CASE \n",
    "                      WHEN id = p_modified_span_id THEN p_new_weight\n",
    "                      ELSE weight * ((v_target - p_new_weight) / (v_target - p_old_weight))\n",
    "                    END\n",
    "     WHERE attribute_id = p_attribute_id\n",
    "       AND type = 'discrete'\n",
    "       AND is_percentage_pinned = false;\n",
    "END;\n",
    "$$;"
   ]
  },
  {
   "cell_type": "markdown",
   "id": "194413fb",
   "metadata": {},
   "source": [
    "## Add Discrete Span to Attribute"
   ]
  },
  {
   "cell_type": "code",
   "execution_count": 796,
   "id": "a38a9b40",
   "metadata": {
    "vscode": {
     "languageId": "sql"
    }
   },
   "outputs": [
    {
     "data": {
      "text/html": [
       "<span style=\"None\">Running query in &#x27;postgresql://notebook@localhost:5432/sahuagin&#x27;</span>"
      ],
      "text/plain": [
       "Running query in 'postgresql://notebook@localhost:5432/sahuagin'"
      ]
     },
     "metadata": {},
     "output_type": "display_data"
    },
    {
     "data": {
      "text/html": [
       "<table>\n",
       "    <thead>\n",
       "        <tr>\n",
       "        </tr>\n",
       "    </thead>\n",
       "    <tbody>\n",
       "    </tbody>\n",
       "</table>"
      ],
      "text/plain": [
       "++\n",
       "||\n",
       "++\n",
       "++"
      ]
     },
     "execution_count": 796,
     "metadata": {},
     "output_type": "execute_result"
    }
   ],
   "source": [
    "%%sql\n",
    "\n",
    "CREATE OR REPLACE PROCEDURE add_disc_span_to_attr(\n",
    "    p_attribute_id INTEGER,\n",
    "    p_label VARCHAR(255)\n",
    ")\n",
    "LANGUAGE plpgsql\n",
    "AS $$\n",
    "DECLARE\n",
    "    new_span_id     INTEGER;\n",
    "    v_total_weight  DOUBLE PRECISION;\n",
    "    v_pinned_weight DOUBLE PRECISION;\n",
    "    v_target        DOUBLE PRECISION;\n",
    "    v_count_old     INTEGER;\n",
    "    candidate       DOUBLE PRECISION;\n",
    "BEGIN\n",
    "    -- Compute the total weight for all discrete spans for this attribute.\n",
    "    SELECT COALESCE(SUM(weight), 0)\n",
    "      INTO v_total_weight\n",
    "      FROM span\n",
    "     WHERE attribute_id = p_attribute_id\n",
    "       AND type = 'discrete';\n",
    "\n",
    "    -- If no spans exist, simply insert the first span with weight 1.\n",
    "    IF v_total_weight = 0 THEN\n",
    "        INSERT INTO span(attribute_id, label, type, is_percentage_pinned, weight)\n",
    "        VALUES (p_attribute_id, p_label, 'discrete', false, 1.0);\n",
    "        RETURN;\n",
    "    END IF;\n",
    "    \n",
    "    -- Compute the total weight of pinned discrete spans.\n",
    "    SELECT COALESCE(SUM(weight), 0)\n",
    "      INTO v_pinned_weight\n",
    "      FROM span\n",
    "     WHERE attribute_id = p_attribute_id\n",
    "       AND type = 'discrete'\n",
    "       AND is_percentage_pinned = true;\n",
    "    \n",
    "    -- Calculate the available target weight for all unpinned spans.\n",
    "    v_target := 1.0 - v_pinned_weight;\n",
    "    IF v_target <= 0 THEN\n",
    "        RAISE EXCEPTION 'No available weight for unpinned spans (v_target = %)', v_target;\n",
    "    END IF;\n",
    "    \n",
    "    -- Count the existing non-pinned discrete spans.\n",
    "    SELECT COUNT(*)\n",
    "      INTO v_count_old\n",
    "      FROM span\n",
    "     WHERE attribute_id = p_attribute_id\n",
    "       AND type = 'discrete'\n",
    "       AND is_percentage_pinned = false;\n",
    "    \n",
    "    -- Insert the new unpinned span with a temporary weight of 0.\n",
    "    INSERT INTO span(attribute_id, label, type, is_percentage_pinned, weight)\n",
    "    VALUES (p_attribute_id, p_label, 'discrete', false, 0.0)\n",
    "    RETURNING id INTO new_span_id;\n",
    "    \n",
    "    -- Compute the candidate weight for the new span.\n",
    "    candidate := v_target / (v_count_old + 1);\n",
    "    \n",
    "    -- Redistribute the weights among all unpinned spans\n",
    "    PERFORM redistribute_unpinned_spans(p_attribute_id, new_span_id, candidate, 0);\n",
    "END;\n",
    "$$;"
   ]
  },
  {
   "cell_type": "markdown",
   "id": "65d61d58",
   "metadata": {},
   "source": [
    "## Modify Discrete Span Weight"
   ]
  },
  {
   "cell_type": "code",
   "execution_count": 797,
   "id": "57a4a17d",
   "metadata": {
    "vscode": {
     "languageId": "sql"
    }
   },
   "outputs": [
    {
     "data": {
      "text/html": [
       "<span style=\"None\">Running query in &#x27;postgresql://notebook@localhost:5432/sahuagin&#x27;</span>"
      ],
      "text/plain": [
       "Running query in 'postgresql://notebook@localhost:5432/sahuagin'"
      ]
     },
     "metadata": {},
     "output_type": "display_data"
    },
    {
     "data": {
      "text/html": [
       "<table>\n",
       "    <thead>\n",
       "        <tr>\n",
       "        </tr>\n",
       "    </thead>\n",
       "    <tbody>\n",
       "    </tbody>\n",
       "</table>"
      ],
      "text/plain": [
       "++\n",
       "||\n",
       "++\n",
       "++"
      ]
     },
     "execution_count": 797,
     "metadata": {},
     "output_type": "execute_result"
    }
   ],
   "source": [
    "%%sql\n",
    "\n",
    "CREATE OR REPLACE PROCEDURE modify_disc_span_weight(\n",
    "    p_span_id    INTEGER,\n",
    "    p_new_weight DOUBLE PRECISION\n",
    ")\n",
    "LANGUAGE plpgsql\n",
    "AS $$\n",
    "DECLARE\n",
    "    v_attribute_id INTEGER;\n",
    "    v_current_weight DOUBLE PRECISION;\n",
    "    v_is_pinned    BOOLEAN;\n",
    "    v_type         TEXT;\n",
    "    v_pinned_weight DOUBLE PRECISION;\n",
    "    v_target        DOUBLE PRECISION;\n",
    "    v_other_sum     DOUBLE PRECISION;\n",
    "BEGIN\n",
    "    -- Get the current span's details.\n",
    "    SELECT attribute_id, weight, is_percentage_pinned, type\n",
    "      INTO v_attribute_id, v_current_weight, v_is_pinned, v_type\n",
    "      FROM span\n",
    "     WHERE id = p_span_id;\n",
    "     \n",
    "    -- Ensure the span exists, is of type 'discrete' and is not pinned.\n",
    "    IF NOT FOUND OR v_type <> 'discrete' OR v_is_pinned THEN\n",
    "       RAISE EXCEPTION 'Span % not found or not a modifiable discrete span', p_span_id;\n",
    "    END IF;\n",
    "    \n",
    "    -- Compute the total pinned weight for this attribute.\n",
    "    SELECT COALESCE(SUM(weight), 0)\n",
    "      INTO v_pinned_weight\n",
    "      FROM span\n",
    "     WHERE attribute_id = v_attribute_id\n",
    "       AND type = 'discrete'\n",
    "       AND is_percentage_pinned = true;\n",
    "       \n",
    "    v_target := 1.0 - v_pinned_weight;\n",
    "    \n",
    "    -- Validate the new weight is between 0 and the available target.\n",
    "    IF p_new_weight < 0 OR p_new_weight > v_target THEN\n",
    "       RAISE EXCEPTION 'Invalid new weight: % (must be between 0 and %)', p_new_weight, v_target;\n",
    "    END IF;\n",
    "    \n",
    "    -- Compute the total weight for all other unpinned spans.\n",
    "    SELECT COALESCE(SUM(weight), 0)\n",
    "      INTO v_other_sum\n",
    "      FROM span\n",
    "     WHERE attribute_id = v_attribute_id\n",
    "       AND type = 'discrete'\n",
    "       AND is_percentage_pinned = false\n",
    "       AND id <> p_span_id;\n",
    "       \n",
    "    IF v_other_sum = 0 THEN\n",
    "       -- There is only one unpinned span. Its weight must equal the available target.\n",
    "       IF p_new_weight <> v_target THEN\n",
    "         RAISE EXCEPTION 'Only one unpinned span exists. Its weight must be %', v_target;\n",
    "       ELSE\n",
    "         UPDATE span SET weight = p_new_weight WHERE id = p_span_id;\n",
    "       END IF;\n",
    "    ELSE\n",
    "       -- Use the helper function to redistribute weights.\n",
    "       PERFORM redistribute_unpinned_spans(v_attribute_id, p_span_id, p_new_weight, v_current_weight);\n",
    "    END IF;\n",
    "END;\n",
    "$$;"
   ]
  },
  {
   "cell_type": "markdown",
   "id": "396fe76f",
   "metadata": {},
   "source": [
    "## Continuous Attribute"
   ]
  },
  {
   "cell_type": "markdown",
   "id": "132ce1dd",
   "metadata": {},
   "source": [
    "### Add"
   ]
  },
  {
   "cell_type": "code",
   "execution_count": 798,
   "id": "ed3ab0be",
   "metadata": {
    "vscode": {
     "languageId": "sql"
    }
   },
   "outputs": [
    {
     "data": {
      "text/html": [
       "<span style=\"None\">Running query in &#x27;postgresql://notebook@localhost:5432/sahuagin&#x27;</span>"
      ],
      "text/plain": [
       "Running query in 'postgresql://notebook@localhost:5432/sahuagin'"
      ]
     },
     "metadata": {},
     "output_type": "display_data"
    },
    {
     "data": {
      "text/html": [
       "<table>\n",
       "    <thead>\n",
       "        <tr>\n",
       "        </tr>\n",
       "    </thead>\n",
       "    <tbody>\n",
       "    </tbody>\n",
       "</table>"
      ],
      "text/plain": [
       "++\n",
       "||\n",
       "++\n",
       "++"
      ]
     },
     "execution_count": 798,
     "metadata": {},
     "output_type": "execute_result"
    }
   ],
   "source": [
    "%%sql\n",
    "\n",
    "CREATE OR REPLACE PROCEDURE add_continuous_attribute(\n",
    "    p_name           VARCHAR(255),\n",
    "    p_min_value      DOUBLE PRECISION,\n",
    "    p_mode_value     DOUBLE PRECISION,\n",
    "    p_max_value      DOUBLE PRECISION,\n",
    "    p_concentration  DOUBLE PRECISION,\n",
    "    p_skew           DOUBLE PRECISION,\n",
    "    p_decimals       INTEGER,\n",
    "    p_has_labels     BOOLEAN,\n",
    "    p_has_value      BOOLEAN,\n",
    "    p_units          VARCHAR(255),\n",
    "    p_spans          JSON DEFAULT NULL  -- JSON array shortcut for continuous spans\n",
    ")\n",
    "LANGUAGE plpgsql\n",
    "AS $$\n",
    "DECLARE\n",
    "    v_attr_id   INTEGER;\n",
    "    span_count  INTEGER;\n",
    "    i           INTEGER;\n",
    "    current_min DOUBLE PRECISION;\n",
    "    new_max     DOUBLE PRECISION;\n",
    "    span_label  VARCHAR(255);\n",
    "    spans_json  JSON;\n",
    "BEGIN\n",
    "    -- Insert the continuous attribute record.\n",
    "    INSERT INTO attribute\n",
    "      (name, type, decimals, has_labels, has_value, max_value, min_value,\n",
    "       mode_value, concentration, skew, units)\n",
    "    VALUES\n",
    "      (p_name, 'continuous', p_decimals, p_has_labels, p_has_value, p_max_value,\n",
    "       p_min_value, p_mode_value, p_concentration, p_skew, p_units)\n",
    "    RETURNING id INTO v_attr_id;\n",
    "    \n",
    "    IF p_spans IS NOT NULL THEN\n",
    "        spans_json := p_spans::json;\n",
    "        span_count := json_array_length(spans_json);\n",
    "        current_min := p_min_value;\n",
    "        \n",
    "        FOR i IN 0..span_count - 1 LOOP\n",
    "            -- Each JSON tuple is assumed to be [label, new_max_value].\n",
    "            span_label := (spans_json->i)->>0;\n",
    "            new_max := ((spans_json->i)->>1)::DOUBLE PRECISION;\n",
    "            \n",
    "            -- Validate that the new maximum is in the valid interval.\n",
    "            IF new_max <= current_min OR new_max > p_max_value THEN\n",
    "                RAISE EXCEPTION 'Invalid span range: new_max (%) is not in the valid interval (% - %)',\n",
    "                    new_max, current_min, p_max_value;\n",
    "            END IF;\n",
    "            \n",
    "            -- Insert the continuous span.\n",
    "            INSERT INTO span(attribute_id, label, type, min_value, max_value)\n",
    "            VALUES(v_attr_id, span_label, 'continuous', current_min, new_max);\n",
    "            \n",
    "            current_min := new_max;\n",
    "        END LOOP;\n",
    "        \n",
    "        -- If the JSON array does not reach the attribute's overall max, raise an exception.\n",
    "        IF current_min < p_max_value THEN\n",
    "            RAISE EXCEPTION 'Incomplete continuous span definitions: final span max is % which is less than the attribute maximum %', current_min, p_max_value;\n",
    "        END IF;\n",
    "    END IF;\n",
    "END;\n",
    "$$;"
   ]
  },
  {
   "cell_type": "markdown",
   "id": "2462ea04",
   "metadata": {},
   "source": [
    "### Get"
   ]
  },
  {
   "cell_type": "code",
   "execution_count": 799,
   "id": "ae43d201",
   "metadata": {
    "vscode": {
     "languageId": "sql"
    }
   },
   "outputs": [
    {
     "data": {
      "text/html": [
       "<span style=\"None\">Running query in &#x27;postgresql://notebook@localhost:5432/sahuagin&#x27;</span>"
      ],
      "text/plain": [
       "Running query in 'postgresql://notebook@localhost:5432/sahuagin'"
      ]
     },
     "metadata": {},
     "output_type": "display_data"
    },
    {
     "data": {
      "text/html": [
       "<table>\n",
       "    <thead>\n",
       "        <tr>\n",
       "        </tr>\n",
       "    </thead>\n",
       "    <tbody>\n",
       "    </tbody>\n",
       "</table>"
      ],
      "text/plain": [
       "++\n",
       "||\n",
       "++\n",
       "++"
      ]
     },
     "execution_count": 799,
     "metadata": {},
     "output_type": "execute_result"
    }
   ],
   "source": [
    "%%sql\n",
    "\n",
    "CREATE OR REPLACE FUNCTION get_continuous_attribute(p_attribute_name varchar)\n",
    "RETURNS TABLE (\n",
    "    name           varchar,\n",
    "    type           attribute_type,\n",
    "    min            double precision,\n",
    "    mode           double precision,\n",
    "    max            double precision,\n",
    "    concentration  double precision,\n",
    "    skew           double precision,\n",
    "    units          varchar,\n",
    "    decimals       integer,\n",
    "    has_value      boolean,\n",
    "    has_labels     boolean,\n",
    "    span_label     varchar,\n",
    "    span_min       double precision,\n",
    "    span_max       double precision\n",
    ")\n",
    "LANGUAGE plpgsql\n",
    "AS\n",
    "$$\n",
    "BEGIN\n",
    "  RETURN QUERY\n",
    "    SELECT \n",
    "      a.name,\n",
    "      a.type,\n",
    "      a.min_value,\n",
    "      a.mode_value,\n",
    "      a.max_value,\n",
    "      a.concentration,\n",
    "      a.skew,\n",
    "      a.units,\n",
    "      a.decimals,\n",
    "      a.has_value,\n",
    "      a.has_labels,\n",
    "      s.label,\n",
    "      s.min_value,\n",
    "      s.max_value\n",
    "    FROM attribute a\n",
    "    LEFT JOIN span s ON s.attribute_id = a.id\n",
    "    WHERE a.name = p_attribute_name\n",
    "      AND a.type = 'continuous';\n",
    "END;\n",
    "$$;"
   ]
  },
  {
   "cell_type": "markdown",
   "id": "28c0d5a6",
   "metadata": {},
   "source": [
    "### Delete"
   ]
  },
  {
   "cell_type": "code",
   "execution_count": 800,
   "id": "cfa966e1",
   "metadata": {
    "vscode": {
     "languageId": "sql"
    }
   },
   "outputs": [
    {
     "data": {
      "text/html": [
       "<span style=\"None\">Running query in &#x27;postgresql://notebook@localhost:5432/sahuagin&#x27;</span>"
      ],
      "text/plain": [
       "Running query in 'postgresql://notebook@localhost:5432/sahuagin'"
      ]
     },
     "metadata": {},
     "output_type": "display_data"
    },
    {
     "data": {
      "text/html": [
       "<table>\n",
       "    <thead>\n",
       "        <tr>\n",
       "        </tr>\n",
       "    </thead>\n",
       "    <tbody>\n",
       "    </tbody>\n",
       "</table>"
      ],
      "text/plain": [
       "++\n",
       "||\n",
       "++\n",
       "++"
      ]
     },
     "execution_count": 800,
     "metadata": {},
     "output_type": "execute_result"
    }
   ],
   "source": [
    "%%sql\n",
    "\n",
    "CREATE OR REPLACE PROCEDURE delete_continuous_attribute(p_attribute_name varchar)\n",
    "LANGUAGE plpgsql\n",
    "AS\n",
    "$$\n",
    "BEGIN\n",
    "  DELETE FROM attribute\n",
    "  WHERE name = p_attribute_name\n",
    "    AND type = 'continuous';\n",
    "END;\n",
    "$$;"
   ]
  },
  {
   "cell_type": "markdown",
   "id": "7b0b19de",
   "metadata": {},
   "source": [
    "## Add Continuous Span to Attribute"
   ]
  },
  {
   "cell_type": "code",
   "execution_count": 801,
   "id": "3ca45806",
   "metadata": {
    "vscode": {
     "languageId": "sql"
    }
   },
   "outputs": [
    {
     "data": {
      "text/html": [
       "<span style=\"None\">Running query in &#x27;postgresql://notebook@localhost:5432/sahuagin&#x27;</span>"
      ],
      "text/plain": [
       "Running query in 'postgresql://notebook@localhost:5432/sahuagin'"
      ]
     },
     "metadata": {},
     "output_type": "display_data"
    },
    {
     "data": {
      "text/html": [
       "<table>\n",
       "    <thead>\n",
       "        <tr>\n",
       "        </tr>\n",
       "    </thead>\n",
       "    <tbody>\n",
       "    </tbody>\n",
       "</table>"
      ],
      "text/plain": [
       "++\n",
       "||\n",
       "++\n",
       "++"
      ]
     },
     "execution_count": 801,
     "metadata": {},
     "output_type": "execute_result"
    }
   ],
   "source": [
    "%%sql\n",
    "\n",
    "CREATE OR REPLACE PROCEDURE add_cont_span_to_attr(\n",
    "    p_attribute_id integer,\n",
    "    p_label varchar(255),\n",
    "    p_new_min double precision,\n",
    "    p_new_max double precision\n",
    ")\n",
    "LANGUAGE plpgsql\n",
    "AS $$\n",
    "DECLARE\n",
    "    v_attr_min double precision;\n",
    "    v_attr_max double precision;\n",
    "    v_count integer;\n",
    "    v_first_id integer;\n",
    "    v_first_min double precision;\n",
    "    v_first_max double precision;\n",
    "    v_last_id integer;\n",
    "    v_last_min double precision;\n",
    "    v_last_max double precision;\n",
    "BEGIN\n",
    "    -- Get attribute’s overall range (continuous only)\n",
    "    SELECT min_value, max_value\n",
    "      INTO v_attr_min, v_attr_max\n",
    "      FROM attribute\n",
    "     WHERE id = p_attribute_id\n",
    "       AND type = 'continuous'\n",
    "     LIMIT 1;\n",
    "     \n",
    "    IF v_attr_min IS NULL THEN\n",
    "        RAISE EXCEPTION 'Attribute not found or not continuous';\n",
    "    END IF;\n",
    "    \n",
    "    -- Validate requested span\n",
    "    IF p_new_min < v_attr_min OR p_new_max > v_attr_max OR p_new_min >= p_new_max THEN\n",
    "        RAISE EXCEPTION 'Invalid span range';\n",
    "    END IF;\n",
    "    \n",
    "    -- If no continuous spans exist, insert one covering the full range\n",
    "    SELECT COUNT(*) INTO v_count\n",
    "      FROM span\n",
    "     WHERE attribute_id = p_attribute_id\n",
    "       AND type = 'continuous';\n",
    "       \n",
    "    IF v_count = 0 THEN\n",
    "        INSERT INTO span(attribute_id, label, type, min_value, max_value)\n",
    "        VALUES(p_attribute_id, p_label, 'continuous', v_attr_min, v_attr_max);\n",
    "        RETURN;\n",
    "    END IF;\n",
    "    \n",
    "    -- Adjust overlapping spans: first overlapping span (ordered by min_value)\n",
    "    SELECT id, min_value, max_value\n",
    "      INTO v_first_id, v_first_min, v_first_max\n",
    "      FROM span\n",
    "     WHERE attribute_id = p_attribute_id\n",
    "       AND type = 'continuous'\n",
    "       AND max_value > p_new_min\n",
    "       AND min_value < p_new_max\n",
    "     ORDER BY min_value ASC\n",
    "     LIMIT 1;\n",
    "     \n",
    "    IF v_first_min < p_new_min THEN\n",
    "        UPDATE span SET max_value = p_new_min WHERE id = v_first_id;\n",
    "    END IF;\n",
    "    \n",
    "    -- Adjust overlapping spans: last overlapping span (ordered by max_value)\n",
    "    SELECT id, min_value, max_value\n",
    "      INTO v_last_id, v_last_min, v_last_max\n",
    "      FROM span\n",
    "     WHERE attribute_id = p_attribute_id\n",
    "       AND type = 'continuous'\n",
    "       AND max_value > p_new_min\n",
    "       AND min_value < p_new_max\n",
    "     ORDER BY max_value DESC\n",
    "     LIMIT 1;\n",
    "     \n",
    "    IF v_last_max > p_new_max THEN\n",
    "        UPDATE span SET min_value = p_new_max WHERE id = v_last_id;\n",
    "    END IF;\n",
    "    \n",
    "    -- Remove spans fully covered by the new span\n",
    "    DELETE FROM span\n",
    "     WHERE attribute_id = p_attribute_id\n",
    "       AND type = 'continuous'\n",
    "       AND min_value >= p_new_min\n",
    "       AND max_value <= p_new_max;\n",
    "       \n",
    "    INSERT INTO span(attribute_id, label, type, min_value, max_value)\n",
    "    VALUES(p_attribute_id, p_label, 'continuous', p_new_min, p_new_max);\n",
    "END;\n",
    "$$;"
   ]
  },
  {
   "cell_type": "markdown",
   "id": "913574c3",
   "metadata": {},
   "source": [
    "## Link Attribute to Variant"
   ]
  },
  {
   "cell_type": "code",
   "execution_count": 856,
   "id": "28943ab5",
   "metadata": {
    "vscode": {
     "languageId": "sql"
    }
   },
   "outputs": [
    {
     "data": {
      "text/html": [
       "<span style=\"None\">Running query in &#x27;postgresql://notebook@localhost:5432/sahuagin&#x27;</span>"
      ],
      "text/plain": [
       "Running query in 'postgresql://notebook@localhost:5432/sahuagin'"
      ]
     },
     "metadata": {},
     "output_type": "display_data"
    },
    {
     "data": {
      "text/html": [
       "<table>\n",
       "    <thead>\n",
       "        <tr>\n",
       "        </tr>\n",
       "    </thead>\n",
       "    <tbody>\n",
       "    </tbody>\n",
       "</table>"
      ],
      "text/plain": [
       "++\n",
       "||\n",
       "++\n",
       "++"
      ]
     },
     "execution_count": 856,
     "metadata": {},
     "output_type": "execute_result"
    }
   ],
   "source": [
    "%%sql\n",
    "\n",
    "CREATE OR REPLACE PROCEDURE link_attr_to_variant(\n",
    "    p_variant_id   INTEGER,\n",
    "    p_attribute_id INTEGER,\n",
    "    p_name         VARCHAR,\n",
    "    p_position     INTEGER DEFAULT NULL\n",
    ")\n",
    "LANGUAGE plpgsql\n",
    "AS $$\n",
    "DECLARE\n",
    "    v_count    INTEGER;\n",
    "    v_position INTEGER;\n",
    "BEGIN\n",
    "    SELECT COUNT(*) INTO v_count\n",
    "      FROM variant_attribute\n",
    "     WHERE variant_id = p_variant_id;\n",
    "    \n",
    "    IF p_position IS NULL THEN\n",
    "        v_position := v_count;  -- append at end\n",
    "    ELSE\n",
    "        v_position := p_position;\n",
    "        IF v_position < 0 THEN \n",
    "            v_position := 0;\n",
    "        END IF;\n",
    "        IF v_position > v_count THEN\n",
    "            v_position := v_count;\n",
    "        END IF;\n",
    "        UPDATE variant_attribute\n",
    "           SET causation_index = causation_index + 1\n",
    "         WHERE variant_id = p_variant_id\n",
    "           AND causation_index >= v_position;\n",
    "    END IF;\n",
    "\n",
    "    INSERT INTO variant_attribute(attribute_id, name, causation_index, variant_id)\n",
    "    VALUES (p_attribute_id, p_name, v_position, p_variant_id);\n",
    "END;\n",
    "$$;"
   ]
  },
  {
   "cell_type": "markdown",
   "id": "cce1df10",
   "metadata": {},
   "source": [
    "## Variant"
   ]
  },
  {
   "cell_type": "markdown",
   "id": "b6a70feb",
   "metadata": {},
   "source": [
    "### Add"
   ]
  },
  {
   "cell_type": "code",
   "execution_count": 853,
   "id": "71e35337",
   "metadata": {
    "vscode": {
     "languageId": "sql"
    }
   },
   "outputs": [
    {
     "data": {
      "text/html": [
       "<span style=\"None\">Running query in &#x27;postgresql://notebook@localhost:5432/sahuagin&#x27;</span>"
      ],
      "text/plain": [
       "Running query in 'postgresql://notebook@localhost:5432/sahuagin'"
      ]
     },
     "metadata": {},
     "output_type": "display_data"
    },
    {
     "data": {
      "text/html": [
       "<table>\n",
       "    <thead>\n",
       "        <tr>\n",
       "        </tr>\n",
       "    </thead>\n",
       "    <tbody>\n",
       "    </tbody>\n",
       "</table>"
      ],
      "text/plain": [
       "++\n",
       "||\n",
       "++\n",
       "++"
      ]
     },
     "execution_count": 853,
     "metadata": {},
     "output_type": "execute_result"
    }
   ],
   "source": [
    "%%sql\n",
    "\n",
    "CREATE OR REPLACE PROCEDURE add_variant(\n",
    "    in_variant_name VARCHAR,\n",
    "    in_attr_keys    JSON\n",
    ")\n",
    "LANGUAGE plpgsql\n",
    "AS $$\n",
    "DECLARE\n",
    "    new_variant_id INTEGER;\n",
    "    i              INTEGER := 0;\n",
    "    key_count      INTEGER;\n",
    "    attr_id        INTEGER;\n",
    "    attr_name      VARCHAR;\n",
    "BEGIN\n",
    "    INSERT INTO variant (name)\n",
    "    VALUES (in_variant_name)\n",
    "    RETURNING id INTO new_variant_id;\n",
    "\n",
    "    IF in_attr_keys IS NOT NULL THEN\n",
    "        key_count := json_array_length(in_attr_keys::json);\n",
    "        WHILE i < key_count LOOP\n",
    "            -- Get the attribute name from the JSON array at position i.\n",
    "            attr_name := in_attr_keys::json ->> i;\n",
    "\n",
    "            -- Look up the attribute id for the given name.\n",
    "            SELECT id\n",
    "              INTO attr_id\n",
    "              FROM attribute\n",
    "             WHERE name = attr_name\n",
    "             LIMIT 1;\n",
    "\n",
    "            IF attr_id IS NULL THEN\n",
    "                RAISE EXCEPTION 'Attribute with name \"%\" not found', attr_name;\n",
    "            END IF;\n",
    "\n",
    "            -- Call the helper procedure with the looked up attribute id.\n",
    "            CALL link_attr_to_variant(new_variant_id, attr_id, attr_name);\n",
    "            i := i + 1;\n",
    "        END LOOP;\n",
    "    END IF;\n",
    "END;\n",
    "$$;"
   ]
  },
  {
   "cell_type": "markdown",
   "id": "d52c5a1d",
   "metadata": {},
   "source": [
    "### Get"
   ]
  },
  {
   "cell_type": "code",
   "execution_count": null,
   "id": "a04385c7",
   "metadata": {
    "vscode": {
     "languageId": "sql"
    }
   },
   "outputs": [
    {
     "data": {
      "text/html": [
       "<span style=\"None\">Running query in &#x27;postgresql://notebook@localhost:5432/sahuagin&#x27;</span>"
      ],
      "text/plain": [
       "Running query in 'postgresql://notebook@localhost:5432/sahuagin'"
      ]
     },
     "metadata": {},
     "output_type": "display_data"
    },
    {
     "data": {
      "text/html": [
       "<table>\n",
       "    <thead>\n",
       "        <tr>\n",
       "        </tr>\n",
       "    </thead>\n",
       "    <tbody>\n",
       "    </tbody>\n",
       "</table>"
      ],
      "text/plain": [
       "++\n",
       "||\n",
       "++\n",
       "++"
      ]
     },
     "execution_count": 873,
     "metadata": {},
     "output_type": "execute_result"
    }
   ],
   "source": [
    "%%sql\n",
    "\n",
    "CREATE OR REPLACE FUNCTION get_variant_page(\n",
    "    p_variant_name VARCHAR,\n",
    "    p_page INTEGER,\n",
    "    p_page_size INTEGER\n",
    ")\n",
    "RETURNS TABLE (\n",
    "    overall_index     BIGINT,\n",
    "    label             TEXT,\n",
    "    activated_effects JSON,\n",
    "    to_modify_effects JSON\n",
    ")\n",
    "LANGUAGE plpgsql\n",
    "AS $$\n",
    "BEGIN\n",
    "  RETURN QUERY\n",
    "  WITH RECURSIVE variant_id_cte AS (\n",
    "      -- Look up the variant’s id by its unique name.\n",
    "      SELECT id\n",
    "      FROM variant\n",
    "      WHERE name = p_variant_name\n",
    "  ),\n",
    "  recursive_flattened AS (\n",
    "      -- Base step: get all top‑level attributes for the variant.\n",
    "      SELECT \n",
    "          va.id AS variant_attribute_id,\n",
    "          vas.id AS variant_attr_span_id,\n",
    "          va.name AS attribute_name,\n",
    "          va.causation_index,\n",
    "          ARRAY[va.causation_index] AS flattened_path,\n",
    "          (va.name || \n",
    "             CASE \n",
    "               WHEN s.label IS NOT NULL THEN '|' || s.label \n",
    "               ELSE '' \n",
    "             END\n",
    "          ) AS agg_label,\n",
    "          va.variant_id AS current_variant_id,\n",
    "          -- Try to “resolve” this node by picking up an existing vavspan_attr record,\n",
    "          -- using NULL for the parent since this is top‐level.\n",
    "          rva.id AS resolved_id\n",
    "      FROM variant_attribute va\n",
    "      LEFT JOIN variant_attr_span vas \n",
    "          ON vas.variant_attribute_id = va.id\n",
    "      LEFT JOIN span s \n",
    "          ON s.id = vas.span_id\n",
    "      LEFT JOIN vavspan_attr rva \n",
    "          ON rva.variant_attribute_id = va.id\n",
    "             AND rva.variant_attr_span_id = vas.id\n",
    "             AND rva.parent_vavspan_attr_id IS NULL\n",
    "      WHERE va.variant_id = (SELECT id FROM variant_id_cte)\n",
    "      \n",
    "      UNION ALL\n",
    "      \n",
    "      -- Recursive step: for each resolved node that activates a sub-variant, get its children.\n",
    "      SELECT \n",
    "          va_child.id AS variant_attribute_id,\n",
    "          vas_child.id AS variant_attr_span_id,\n",
    "          va_child.name AS attribute_name,\n",
    "          va_child.causation_index,\n",
    "          rf.flattened_path || va_child.causation_index AS flattened_path,\n",
    "          rf.agg_label || '/' || (va_child.name ||\n",
    "             CASE \n",
    "               WHEN s_child.label IS NOT NULL THEN '|' || s_child.label \n",
    "               ELSE '' \n",
    "             END\n",
    "          ) AS agg_label,\n",
    "          va_child.variant_id AS current_variant_id,\n",
    "          rva_child.id AS resolved_id\n",
    "      FROM recursive_flattened rf\n",
    "      -- Use the parent's chosen variant_attr_span (which “activates” a sub-variant)\n",
    "      JOIN variant_attr_span vas_parent \n",
    "          ON vas_parent.variant_attribute_id = rf.variant_attribute_id\n",
    "          AND vas_parent.id = rf.variant_attr_span_id\n",
    "      -- A non-null vas_parent.variant_id indicates the activated sub-variant.\n",
    "      JOIN variant_attribute va_child \n",
    "          ON va_child.variant_id = vas_parent.variant_id\n",
    "      LEFT JOIN variant_attr_span vas_child \n",
    "          ON vas_child.variant_attribute_id = va_child.id\n",
    "      LEFT JOIN span s_child \n",
    "          ON s_child.id = vas_child.span_id\n",
    "      LEFT JOIN vavspan_attr rva_child \n",
    "          ON rva_child.variant_attribute_id = va_child.id\n",
    "             AND rva_child.variant_attr_span_id = vas_child.id\n",
    "             AND rva_child.parent_vavspan_attr_id = rf.resolved_id\n",
    "      WHERE vas_parent.variant_id IS NOT NULL\n",
    "  ),\n",
    "  ordered AS (\n",
    "      SELECT \n",
    "          row_number() OVER (ORDER BY flattened_path) AS overall_index,\n",
    "          agg_label AS label,\n",
    "          resolved_id,\n",
    "          flattened_path\n",
    "      FROM recursive_flattened\n",
    "  ),\n",
    "  paged AS (\n",
    "      SELECT *\n",
    "      FROM ordered\n",
    "      ORDER BY flattened_path\n",
    "      LIMIT p_page_size OFFSET (p_page - 1) * p_page_size\n",
    "  )\n",
    "  SELECT \n",
    "      p.overall_index,\n",
    "      p.label,\n",
    "      (\n",
    "         SELECT COALESCE(json_agg(e.name ORDER BY e.name), '[]'::json)\n",
    "         FROM variation v\n",
    "         JOIN effect e ON e.variation_id = v.id\n",
    "         WHERE v.activating_vavspan_attr_id = p.resolved_id\n",
    "      ) AS activated_effects,\n",
    "      (\n",
    "         SELECT COALESCE(json_agg(e.name ORDER BY e.name), '[]'::json)\n",
    "         FROM variation v\n",
    "         JOIN effect e ON e.variation_id = v.id\n",
    "         WHERE v.to_modify_vavspan_attr_id = p.resolved_id\n",
    "      ) AS to_modify_effects\n",
    "  FROM paged p\n",
    "  ORDER BY p.overall_index;\n",
    "END;\n",
    "$$;"
   ]
  },
  {
   "cell_type": "markdown",
   "id": "39ab5990",
   "metadata": {},
   "source": [
    "### Delete"
   ]
  },
  {
   "cell_type": "code",
   "execution_count": 805,
   "id": "35bde996",
   "metadata": {
    "vscode": {
     "languageId": "sql"
    }
   },
   "outputs": [
    {
     "data": {
      "text/html": [
       "<span style=\"None\">Running query in &#x27;postgresql://notebook@localhost:5432/sahuagin&#x27;</span>"
      ],
      "text/plain": [
       "Running query in 'postgresql://notebook@localhost:5432/sahuagin'"
      ]
     },
     "metadata": {},
     "output_type": "display_data"
    },
    {
     "data": {
      "text/html": [
       "<table>\n",
       "    <thead>\n",
       "        <tr>\n",
       "        </tr>\n",
       "    </thead>\n",
       "    <tbody>\n",
       "    </tbody>\n",
       "</table>"
      ],
      "text/plain": [
       "++\n",
       "||\n",
       "++\n",
       "++"
      ]
     },
     "execution_count": 805,
     "metadata": {},
     "output_type": "execute_result"
    }
   ],
   "source": [
    "%%sql\n",
    "\n",
    "CREATE OR REPLACE PROCEDURE delete_variant(p_variant_name varchar)\n",
    "LANGUAGE plpgsql\n",
    "AS\n",
    "$$\n",
    "BEGIN\n",
    "  DELETE FROM variant WHERE name = p_variant_name;\n",
    "END;\n",
    "$$;"
   ]
  },
  {
   "cell_type": "markdown",
   "id": "064f7c76",
   "metadata": {},
   "source": [
    "## Add Entity"
   ]
  },
  {
   "cell_type": "code",
   "execution_count": 806,
   "id": "55826704",
   "metadata": {
    "vscode": {
     "languageId": "sql"
    }
   },
   "outputs": [
    {
     "data": {
      "text/html": [
       "<span style=\"None\">Running query in &#x27;postgresql://notebook@localhost:5432/sahuagin&#x27;</span>"
      ],
      "text/plain": [
       "Running query in 'postgresql://notebook@localhost:5432/sahuagin'"
      ]
     },
     "metadata": {},
     "output_type": "display_data"
    },
    {
     "data": {
      "text/html": [
       "<table>\n",
       "    <thead>\n",
       "        <tr>\n",
       "        </tr>\n",
       "    </thead>\n",
       "    <tbody>\n",
       "    </tbody>\n",
       "</table>"
      ],
      "text/plain": [
       "++\n",
       "||\n",
       "++\n",
       "++"
      ]
     },
     "execution_count": 806,
     "metadata": {},
     "output_type": "execute_result"
    }
   ],
   "source": [
    "%%sql\n",
    "\n",
    "CREATE OR REPLACE PROCEDURE add_entity(\n",
    "    in_name VARCHAR(255),\n",
    "    in_variant_id INT\n",
    ")\n",
    "LANGUAGE plpgsql\n",
    "AS $$\n",
    "BEGIN\n",
    "    INSERT INTO entity(name, variant_id)\n",
    "    VALUES (in_name, in_variant_id);\n",
    "END;\n",
    "$$;"
   ]
  },
  {
   "cell_type": "markdown",
   "id": "04111890",
   "metadata": {},
   "source": [
    "## Roll Discrete Variant Attribute Value"
   ]
  },
  {
   "cell_type": "code",
   "execution_count": 807,
   "id": "a8600484",
   "metadata": {
    "vscode": {
     "languageId": "sql"
    }
   },
   "outputs": [
    {
     "data": {
      "text/html": [
       "<span style=\"None\">Running query in &#x27;postgresql://notebook@localhost:5432/sahuagin&#x27;</span>"
      ],
      "text/plain": [
       "Running query in 'postgresql://notebook@localhost:5432/sahuagin'"
      ]
     },
     "metadata": {},
     "output_type": "display_data"
    },
    {
     "data": {
      "text/html": [
       "<table>\n",
       "    <thead>\n",
       "        <tr>\n",
       "        </tr>\n",
       "    </thead>\n",
       "    <tbody>\n",
       "    </tbody>\n",
       "</table>"
      ],
      "text/plain": [
       "++\n",
       "||\n",
       "++\n",
       "++"
      ]
     },
     "execution_count": 807,
     "metadata": {},
     "output_type": "execute_result"
    }
   ],
   "source": [
    "%%sql\n",
    "\n",
    "CREATE OR REPLACE FUNCTION roll_discrete_varattr(\n",
    "    p_vavspan_attr_id INTEGER,\n",
    "    p_exclude_span_id INTEGER\n",
    ") \n",
    "RETURNS INTEGER\n",
    "LANGUAGE plpgsql\n",
    "AS $$\n",
    "DECLARE\n",
    "    v_span_id INTEGER;\n",
    "    v_max_double constant double precision := 1e308;\n",
    "    v_variant_attribute_id INTEGER;\n",
    "    v_variant_attr_span_id INTEGER;\n",
    "BEGIN\n",
    "    -- Retrieve the underlying variant attribute and its associated variant_attr_span.\n",
    "    SELECT variant_attribute_id, variant_attr_span_id\n",
    "      INTO v_variant_attribute_id, v_variant_attr_span_id\n",
    "      FROM vavspan_attr\n",
    "     WHERE id = p_vavspan_attr_id;\n",
    "    \n",
    "    WITH\n",
    "    BaseSpans AS (\n",
    "         SELECT s.id AS span_id, \n",
    "                va.id AS variant_attribute_id, \n",
    "                vas.id AS variant_attr_span_id, \n",
    "                s.weight AS base_weight\n",
    "         FROM variant_attribute va\n",
    "         JOIN span s ON s.attribute_id = va.attribute_id\n",
    "         LEFT JOIN variant_attr_span vas \n",
    "           ON vas.variant_attribute_id = va.id \n",
    "          AND vas.span_id = s.id\n",
    "         WHERE va.id = v_variant_attribute_id\n",
    "           AND s.type = 'discrete'\n",
    "           AND (p_exclude_span_id = 0 OR s.id <> p_exclude_span_id)\n",
    "    ), \n",
    "    ActiveVariations AS (\n",
    "         -- Only consider variations that have an effect.\n",
    "         SELECT v.id AS variation_id, \n",
    "                vav.variant_attribute_id,\n",
    "                eff.id AS effect_id\n",
    "         FROM variation v\n",
    "         JOIN effect eff \n",
    "           ON eff.variation_id = v.id\n",
    "         JOIN vavspan_attr vav \n",
    "           ON vav.id = v.to_modify_vavspan_attr_id\n",
    "          AND vav.variant_attribute_id = v_variant_attribute_id\n",
    "         WHERE vav.id = p_vavspan_attr_id\n",
    "    ), \n",
    "    InactiveSpans AS (\n",
    "         SELECT DISTINCT vis.span_id\n",
    "         FROM variation_inactive_span vis\n",
    "         JOIN ActiveVariations av \n",
    "           ON av.effect_id = vis.effect_id\n",
    "    ), \n",
    "    ActivatedSpans AS (\n",
    "         SELECT DISTINCT \n",
    "                vas.span_id, \n",
    "                av.variant_attribute_id, \n",
    "                NULL::INTEGER AS variant_attr_span_id, \n",
    "                0.0 AS base_weight\n",
    "         FROM variation_activated_span vas\n",
    "         JOIN ActiveVariations av \n",
    "           ON av.effect_id = vas.effect_id\n",
    "    ), \n",
    "    DeltaWeights AS (\n",
    "         SELECT vdw.span_id, \n",
    "                SUM(vdw.delta_weight) AS total_delta\n",
    "         FROM variation_delta_weight vdw\n",
    "         JOIN ActiveVariations av \n",
    "           ON av.effect_id = vdw.effect_id\n",
    "         GROUP BY vdw.span_id\n",
    "    ), \n",
    "    AllRelevantSpans AS (\n",
    "         SELECT b.span_id, b.variant_attribute_id, b.variant_attr_span_id, b.base_weight\n",
    "         FROM BaseSpans b\n",
    "         WHERE b.span_id NOT IN (SELECT span_id FROM InactiveSpans)\n",
    "         UNION\n",
    "         SELECT a.span_id, a.variant_attribute_id, a.variant_attr_span_id, a.base_weight\n",
    "         FROM ActivatedSpans a\n",
    "         WHERE a.span_id NOT IN (SELECT span_id FROM InactiveSpans)\n",
    "    ), \n",
    "    FinalSpans AS (\n",
    "         SELECT ars.span_id, \n",
    "                ars.variant_attribute_id, \n",
    "                ars.variant_attr_span_id,\n",
    "                COALESCE(ars.base_weight, 0) + COALESCE(dw.total_delta, 0) AS effective_weight\n",
    "         FROM AllRelevantSpans ars\n",
    "         LEFT JOIN DeltaWeights dw \n",
    "           ON dw.span_id = ars.span_id\n",
    "    ),\n",
    "    SpanCounts AS (\n",
    "         SELECT ns.num_spans, \n",
    "                SUM(fs.effective_weight / ns.num_spans) AS total_weight\n",
    "         FROM FinalSpans fs\n",
    "         CROSS JOIN (\n",
    "             SELECT COUNT(*)::double precision AS num_spans \n",
    "             FROM FinalSpans \n",
    "             WHERE effective_weight > 0\n",
    "         ) ns\n",
    "         WHERE fs.effective_weight > 0\n",
    "         GROUP BY ns.num_spans\n",
    "    ),\n",
    "    AdjustedSpans AS (\n",
    "         SELECT fs.span_id,\n",
    "                fs.variant_attribute_id,\n",
    "                fs.variant_attr_span_id,\n",
    "                fs.effective_weight,\n",
    "                sc.num_spans,\n",
    "                sc.total_weight,\n",
    "                CASE \n",
    "                  WHEN fs.effective_weight < 1 \n",
    "                    THEN ceil((fs.effective_weight * v_max_double) / (sc.total_weight * sc.num_spans))\n",
    "                  ELSE ceil((fs.effective_weight / (sc.total_weight * sc.num_spans)) * v_max_double)\n",
    "                END AS adjusted_weight\n",
    "         FROM FinalSpans fs\n",
    "         CROSS JOIN SpanCounts sc\n",
    "         WHERE fs.effective_weight > 0\n",
    "    ),\n",
    "    Running AS (\n",
    "         SELECT span_id,\n",
    "                variant_attribute_id,\n",
    "                variant_attr_span_id,\n",
    "                adjusted_weight,\n",
    "                SUM(adjusted_weight) OVER (ORDER BY span_id) AS running_total\n",
    "         FROM AdjustedSpans\n",
    "    ),\n",
    "    OrderedSpansCTE AS (\n",
    "         SELECT span_id,\n",
    "                variant_attribute_id,\n",
    "                variant_attr_span_id,\n",
    "                adjusted_weight AS contextual_weight,\n",
    "                running_total,\n",
    "                LAG(running_total, 1, 0) OVER (ORDER BY span_id) AS prev_running_total\n",
    "         FROM Running\n",
    "    ),\n",
    "    TotalAdjusted AS (\n",
    "         SELECT MAX(running_total) AS v_total_weight\n",
    "         FROM OrderedSpansCTE\n",
    "    ),\n",
    "    Rng AS (\n",
    "         SELECT t.v_total_weight,\n",
    "                floor(random() * t.v_total_weight) AS v_random_pick\n",
    "         FROM TotalAdjusted t\n",
    "    )\n",
    "    SELECT o.span_id\n",
    "      INTO v_span_id\n",
    "      FROM OrderedSpansCTE o, Rng\n",
    "      WHERE Rng.v_random_pick >= o.prev_running_total\n",
    "        AND Rng.v_random_pick < o.running_total\n",
    "      LIMIT 1;\n",
    "\n",
    "    RETURN v_span_id;\n",
    "END;\n",
    "$$;"
   ]
  },
  {
   "cell_type": "markdown",
   "id": "1505639a",
   "metadata": {},
   "source": [
    "## Gamma Range"
   ]
  },
  {
   "cell_type": "code",
   "execution_count": 808,
   "id": "34e2d0e4",
   "metadata": {
    "vscode": {
     "languageId": "sql"
    }
   },
   "outputs": [
    {
     "data": {
      "text/html": [
       "<span style=\"None\">Running query in &#x27;postgresql://notebook@localhost:5432/sahuagin&#x27;</span>"
      ],
      "text/plain": [
       "Running query in 'postgresql://notebook@localhost:5432/sahuagin'"
      ]
     },
     "metadata": {},
     "output_type": "display_data"
    },
    {
     "data": {
      "text/html": [
       "<table>\n",
       "    <thead>\n",
       "        <tr>\n",
       "        </tr>\n",
       "    </thead>\n",
       "    <tbody>\n",
       "    </tbody>\n",
       "</table>"
      ],
      "text/plain": [
       "++\n",
       "||\n",
       "++\n",
       "++"
      ]
     },
     "execution_count": 808,
     "metadata": {},
     "output_type": "execute_result"
    }
   ],
   "source": [
    "%%sql\n",
    "\n",
    "CREATE OR REPLACE FUNCTION gamma_rng(shape double precision)\n",
    "RETURNS double precision\n",
    "LANGUAGE plpgsql\n",
    "AS $$\n",
    "DECLARE\n",
    "    d double precision;\n",
    "    c double precision;\n",
    "    x double precision;\n",
    "    v double precision;\n",
    "    u double precision;\n",
    "BEGIN\n",
    "    IF shape < 1 THEN\n",
    "        -- Use the transformation: Gamma(shape) = Gamma(shape+1)*U^(1/shape)\n",
    "        RETURN gamma_rng(shape + 1) * power(random(), 1.0 / shape);\n",
    "    END IF;\n",
    "    d := shape - 1.0/3.0;\n",
    "    c := 1.0 / sqrt(9.0 * d);\n",
    "    LOOP\n",
    "        -- Generate a standard normal via Box–Muller:\n",
    "        x := sqrt(-2 * ln(random())) * cos(2 * 3.141592653589793 * random());\n",
    "        v := 1 + c * x;\n",
    "        IF v <= 0 THEN\n",
    "            CONTINUE;\n",
    "        END IF;\n",
    "        v := v * v * v;\n",
    "        u := random();\n",
    "        IF u < 1 - 0.0331 * x * x * x * x THEN\n",
    "            RETURN d * v;\n",
    "        END IF;\n",
    "        IF ln(u) < 0.5 * x * x + d * (1 - v + ln(v)) THEN\n",
    "            RETURN d * v;\n",
    "        END IF;\n",
    "    END LOOP;\n",
    "END;\n",
    "$$;"
   ]
  },
  {
   "cell_type": "markdown",
   "id": "a9af61b5",
   "metadata": {},
   "source": [
    "## Generate Weighted Random Number"
   ]
  },
  {
   "cell_type": "code",
   "execution_count": 809,
   "id": "637eaa9a",
   "metadata": {
    "vscode": {
     "languageId": "sql"
    }
   },
   "outputs": [
    {
     "data": {
      "text/html": [
       "<span style=\"None\">Running query in &#x27;postgresql://notebook@localhost:5432/sahuagin&#x27;</span>"
      ],
      "text/plain": [
       "Running query in 'postgresql://notebook@localhost:5432/sahuagin'"
      ]
     },
     "metadata": {},
     "output_type": "display_data"
    },
    {
     "data": {
      "text/html": [
       "<table>\n",
       "    <thead>\n",
       "        <tr>\n",
       "        </tr>\n",
       "    </thead>\n",
       "    <tbody>\n",
       "    </tbody>\n",
       "</table>"
      ],
      "text/plain": [
       "++\n",
       "||\n",
       "++\n",
       "++"
      ]
     },
     "execution_count": 809,
     "metadata": {},
     "output_type": "execute_result"
    }
   ],
   "source": [
    "%%sql\n",
    "\n",
    "-- using a fast Marsaglia–Tsang method\n",
    "CREATE OR REPLACE FUNCTION weighted_random(\n",
    "    min_val double precision,                   -- Minimum of desired range.\n",
    "    max_val double precision,                   -- Maximum of desired range (must be > min_val).\n",
    "    mode_val double precision,                  -- Desired mode (peak) in the same units.\n",
    "    skew double precision DEFAULT 0,            -- Skew adjustment; between -1 and 1 only, 0 = no skew.\n",
    "    concentration double precision DEFAULT 4    -- Concentration (k); should be >2 for a proper unimodal shape.\n",
    ") RETURNS double precision\n",
    "LANGUAGE plpgsql\n",
    "AS $$\n",
    "DECLARE\n",
    "    m_norm      double precision;  -- Normalized desired mode in [0,1].\n",
    "    alpha       double precision;\n",
    "    beta        double precision;\n",
    "    x_val       double precision;\n",
    "    y_val       double precision;\n",
    "    beta_sample double precision;\n",
    "BEGIN\n",
    "    IF min_val >= max_val THEN\n",
    "        RAISE EXCEPTION 'min_val must be less than max_val';\n",
    "    END IF;\n",
    "    IF concentration < 0 THEN\n",
    "        RAISE EXCEPTION 'concentration must be non-negative';\n",
    "    END IF;\n",
    "    IF concentration <= 2 THEN\n",
    "        -- When concentration <= 2 the Beta isn't unimodal; fallback to uniform.\n",
    "        RETURN min_val + random() * (max_val - min_val);\n",
    "    END IF;\n",
    "\n",
    "    -- Normalize the desired mode to [0,1].\n",
    "    m_norm := (mode_val - min_val) / (max_val - min_val);\n",
    "\n",
    "    -- Parameterize α and β so that (α-1)/(α+β-2) equals m_norm.\n",
    "    alpha := m_norm * (concentration - 2) + 1;\n",
    "    beta  := (1 - m_norm) * (concentration - 2) + 1;\n",
    "\n",
    "    -- Apply skew correction if desired.\n",
    "    IF skew <> 0 THEN\n",
    "        alpha := alpha * (1 + skew);\n",
    "        beta  := beta  * (1 - skew);\n",
    "    END IF;\n",
    "\n",
    "    -- Generate a Beta(α,β) random variable via the Gamma method.\n",
    "    x_val := gamma_rng(alpha);\n",
    "    y_val := gamma_rng(beta);\n",
    "    beta_sample := x_val / (x_val + y_val);\n",
    "\n",
    "    -- Scale the [0,1] Beta sample to [min_val, max_val].\n",
    "    RETURN min_val + beta_sample * (max_val - min_val);\n",
    "END;\n",
    "$$;"
   ]
  },
  {
   "cell_type": "markdown",
   "id": "6dc053cb",
   "metadata": {},
   "source": [
    "## Roll Continuous Variant Attribute Value"
   ]
  },
  {
   "cell_type": "code",
   "execution_count": 810,
   "id": "b4da7a22",
   "metadata": {
    "vscode": {
     "languageId": "sql"
    }
   },
   "outputs": [
    {
     "data": {
      "text/html": [
       "<span style=\"None\">Running query in &#x27;postgresql://notebook@localhost:5432/sahuagin&#x27;</span>"
      ],
      "text/plain": [
       "Running query in 'postgresql://notebook@localhost:5432/sahuagin'"
      ]
     },
     "metadata": {},
     "output_type": "display_data"
    },
    {
     "data": {
      "text/html": [
       "<table>\n",
       "    <thead>\n",
       "        <tr>\n",
       "        </tr>\n",
       "    </thead>\n",
       "    <tbody>\n",
       "    </tbody>\n",
       "</table>"
      ],
      "text/plain": [
       "++\n",
       "||\n",
       "++\n",
       "++"
      ]
     },
     "execution_count": 810,
     "metadata": {},
     "output_type": "execute_result"
    }
   ],
   "source": [
    "%%sql\n",
    "\n",
    "CREATE OR REPLACE FUNCTION roll_continuous_varattr(\n",
    "    p_vavspan_attr_id INTEGER,\n",
    "    p_exclude_span_id  INTEGER\n",
    ")\n",
    "RETURNS TABLE(chosen_span_id integer, chosen_value double precision)\n",
    "LANGUAGE plpgsql\n",
    "AS $$\n",
    "DECLARE\n",
    "    v_attribute_id         integer;\n",
    "    v_decimals             integer;\n",
    "    v_min                  double precision;\n",
    "    v_max                  double precision;\n",
    "    v_mode                 double precision;\n",
    "    v_concentration        double precision;\n",
    "    v_skew                 double precision;\n",
    "    v_total_delta_mode     double precision := 0;\n",
    "    v_total_delta_conc     double precision := 0;\n",
    "    v_total_delta_skew     double precision := 0;\n",
    "    v_eff_min              double precision;\n",
    "    v_eff_max              double precision;\n",
    "    v_eff_mode             double precision;\n",
    "    v_result               double precision;\n",
    "    v_clamped_result       double precision;\n",
    "    v_chosen_span_id       integer;\n",
    "    dummy_eff_min          double precision;\n",
    "    dummy_eff_max          double precision;\n",
    "    v_variant_attribute_id integer;\n",
    "BEGIN\n",
    "    -- Retrieve attribute details from the vavspan_attr record.\n",
    "    SELECT va.attribute_id, a.decimals, a.min_value, a.max_value, a.mode_value, a.concentration, a.skew, va.id\n",
    "      INTO v_attribute_id, v_decimals, v_min, v_max, v_mode, v_concentration, v_skew, v_variant_attribute_id\n",
    "      FROM vavspan_attr vav\n",
    "      JOIN variant_attribute va ON va.id = vav.variant_attribute_id\n",
    "      JOIN attribute a ON a.id = va.attribute_id\n",
    "     WHERE vav.id = p_vavspan_attr_id\n",
    "     LIMIT 1;\n",
    "\n",
    "    IF v_attribute_id IS NULL THEN\n",
    "        RAISE EXCEPTION 'No matching attribute found';\n",
    "    END IF;\n",
    "\n",
    "    -- Sum variation deltas by joining through the effect table.\n",
    "    SELECT COALESCE(SUM(vca.delta_mode), 0),\n",
    "           COALESCE(SUM(vca.delta_conc), 0),\n",
    "           COALESCE(SUM(vca.delta_skew), 0)\n",
    "      INTO v_total_delta_mode, v_total_delta_conc, v_total_delta_skew\n",
    "      FROM variation_continuous_attr vca\n",
    "      JOIN effect e ON e.id = vca.effect_id\n",
    "      JOIN variation v ON v.id = e.variation_id\n",
    "      JOIN vavspan_attr vav ON vav.id = v.to_modify_vavspan_attr_id\n",
    "     WHERE vav.variant_attribute_id = v_variant_attribute_id\n",
    "       AND vav.id = p_vavspan_attr_id;\n",
    "\n",
    "    -- Compute effective min, max, and mode.\n",
    "    IF (v_total_delta_conc <> 0 OR v_total_delta_skew <> 0) THEN\n",
    "        v_eff_min  := (v_min + v_total_delta_mode) * (1 + v_total_delta_conc + v_total_delta_skew);\n",
    "        v_eff_max  := (v_max + v_total_delta_mode) * (1 + v_total_delta_conc + v_total_delta_skew);\n",
    "        v_eff_mode := (v_mode + v_total_delta_mode) * (1 + v_total_delta_conc + v_total_delta_skew);\n",
    "    ELSE\n",
    "        v_eff_min  := v_min + v_total_delta_mode;\n",
    "        v_eff_max  := v_max + v_total_delta_mode;\n",
    "        v_eff_mode := v_mode + v_total_delta_mode;\n",
    "    END IF;\n",
    "\n",
    "    IF v_eff_max < v_eff_min THEN\n",
    "        -- Swap if needed.\n",
    "        v_result  := v_eff_min;\n",
    "        v_eff_min := v_eff_max;\n",
    "        v_eff_max := v_result;\n",
    "    END IF;\n",
    "\n",
    "    -- Generate a weighted random value.\n",
    "    v_result := weighted_random(\n",
    "                   v_eff_min, \n",
    "                   v_eff_max, \n",
    "                   v_eff_mode, \n",
    "                   COALESCE(v_skew, 0),\n",
    "                   COALESCE(v_concentration, 0)\n",
    "               );\n",
    "    v_result := round(v_result::numeric, v_decimals)::double precision;\n",
    "\n",
    "    -- Clamp the result to the effective range.\n",
    "    IF v_result < v_eff_min THEN\n",
    "        v_clamped_result := v_eff_min;\n",
    "    ELSIF v_result > v_eff_max THEN\n",
    "        v_clamped_result := v_eff_max;\n",
    "    ELSE\n",
    "        v_clamped_result := v_result;\n",
    "    END IF;\n",
    "\n",
    "    -- Select the span matching the computed result.\n",
    "    IF p_exclude_span_id IS NOT NULL AND p_exclude_span_id <> 0 THEN\n",
    "        SELECT s.id,\n",
    "               CASE WHEN (v_total_delta_conc <> 0 OR v_total_delta_skew <> 0)\n",
    "                    THEN (s.min_value + v_total_delta_mode) * (1 + v_total_delta_conc + v_total_delta_skew)\n",
    "                    ELSE (s.min_value + v_total_delta_mode)\n",
    "               END,\n",
    "               CASE WHEN (v_total_delta_conc <> 0 OR v_total_delta_skew <> 0)\n",
    "                    THEN (s.max_value + v_total_delta_mode) * (1 + v_total_delta_conc + v_total_delta_skew)\n",
    "                    ELSE (s.max_value + v_total_delta_mode)\n",
    "               END\n",
    "          INTO v_chosen_span_id, dummy_eff_min, dummy_eff_max\n",
    "          FROM span s\n",
    "          JOIN variant_attr_span vas ON vas.span_id = s.id\n",
    "         WHERE s.attribute_id = v_attribute_id\n",
    "           AND s.type = 'continuous'\n",
    "           AND s.id <> p_exclude_span_id\n",
    "           AND vas.id = p_vavspan_attr_id\n",
    "           AND (CASE WHEN (v_total_delta_conc <> 0 OR v_total_delta_skew <> 0)\n",
    "                     THEN (s.min_value + v_total_delta_mode) * (1 + v_total_delta_conc + v_total_delta_skew)\n",
    "                     ELSE (s.min_value + v_total_delta_mode)\n",
    "                END) <= v_clamped_result\n",
    "           AND (CASE WHEN (v_total_delta_conc <> 0 OR v_total_delta_skew <> 0)\n",
    "                     THEN (s.max_value + v_total_delta_mode) * (1 + v_total_delta_conc + v_total_delta_skew)\n",
    "                     ELSE (s.max_value + v_total_delta_mode)\n",
    "                END) > v_clamped_result\n",
    "         LIMIT 1;\n",
    "    ELSE\n",
    "        SELECT s.id,\n",
    "               CASE WHEN (v_total_delta_conc <> 0 OR v_total_delta_skew <> 0)\n",
    "                    THEN (s.min_value + v_total_delta_mode) * (1 + v_total_delta_conc + v_total_delta_skew)\n",
    "                    ELSE (s.min_value + v_total_delta_mode)\n",
    "               END,\n",
    "               CASE WHEN (v_total_delta_conc <> 0 OR v_total_delta_skew <> 0)\n",
    "                    THEN (s.max_value + v_total_delta_mode) * (1 + v_total_delta_conc + v_total_delta_skew)\n",
    "                    ELSE (s.max_value + v_total_delta_mode)\n",
    "               END\n",
    "          INTO v_chosen_span_id, dummy_eff_min, dummy_eff_max\n",
    "          FROM span s\n",
    "          JOIN variant_attr_span vas ON vas.span_id = s.id\n",
    "         WHERE s.attribute_id = v_attribute_id\n",
    "           AND s.type = 'continuous'\n",
    "           AND vas.id = p_vavspan_attr_id\n",
    "           AND (CASE WHEN (v_total_delta_conc <> 0 OR v_total_delta_skew <> 0)\n",
    "                     THEN (s.min_value + v_total_delta_mode) * (1 + v_total_delta_conc + v_total_delta_skew)\n",
    "                     ELSE (s.min_value + v_total_delta_mode)\n",
    "                END) <= v_clamped_result\n",
    "           AND (CASE WHEN (v_total_delta_conc <> 0 OR v_total_delta_skew <> 0)\n",
    "                     THEN (s.max_value + v_total_delta_mode) * (1 + v_total_delta_conc + v_total_delta_skew)\n",
    "                     ELSE (s.max_value + v_total_delta_mode)\n",
    "                END) > v_clamped_result\n",
    "         LIMIT 1;\n",
    "    END IF;\n",
    "\n",
    "    chosen_span_id := v_chosen_span_id;\n",
    "    chosen_value   := v_clamped_result;\n",
    "    RETURN NEXT;\n",
    "    RETURN;\n",
    "END;\n",
    "$$;"
   ]
  },
  {
   "cell_type": "markdown",
   "id": "14c74b7a",
   "metadata": {},
   "source": [
    "## Generate Entity State"
   ]
  },
  {
   "cell_type": "code",
   "execution_count": 811,
   "id": "bce4afd6",
   "metadata": {
    "vscode": {
     "languageId": "sql"
    }
   },
   "outputs": [
    {
     "data": {
      "text/html": [
       "<span style=\"None\">Running query in &#x27;postgresql://notebook@localhost:5432/sahuagin&#x27;</span>"
      ],
      "text/plain": [
       "Running query in 'postgresql://notebook@localhost:5432/sahuagin'"
      ]
     },
     "metadata": {},
     "output_type": "display_data"
    },
    {
     "data": {
      "text/html": [
       "<table>\n",
       "    <thead>\n",
       "        <tr>\n",
       "        </tr>\n",
       "    </thead>\n",
       "    <tbody>\n",
       "    </tbody>\n",
       "</table>"
      ],
      "text/plain": [
       "++\n",
       "||\n",
       "++\n",
       "++"
      ]
     },
     "execution_count": 811,
     "metadata": {},
     "output_type": "execute_result"
    }
   ],
   "source": [
    "%%sql\n",
    "\n",
    "CREATE OR REPLACE PROCEDURE generate_entity_state(\n",
    "    IN  p_entity_id                  INTEGER,\n",
    "    IN  p_time                       DOUBLE PRECISION,\n",
    "    IN  p_regenerate_entity_state_id INTEGER\n",
    ")\n",
    "LANGUAGE plpgsql\n",
    "AS $$\n",
    "DECLARE\n",
    "    v_root_variant_id         INTEGER;\n",
    "    v_entity_state_id         INTEGER;\n",
    "    v_current_variant         INTEGER;\n",
    "    v_trigger_vas             INTEGER;  -- the variant_attr_span id that triggered this variant (NULL for top-level)\n",
    "    v_parent_vavspan_attr_id  INTEGER;  -- the parent's vavspan_attr id (NULL for top-level)\n",
    "    cur_va_id               INTEGER;\n",
    "    cur_attr_type           TEXT;\n",
    "    v_variant_attr_span_id  INTEGER;\n",
    "    v_existing_evav_id      INTEGER;\n",
    "    v_existing_span_id      INTEGER;\n",
    "    v_lock_count            INTEGER := 0;\n",
    "    v_new_span_id           INTEGER;\n",
    "    v_new_numeric           DOUBLE PRECISION;\n",
    "    v_used_span_id          INTEGER;\n",
    "    v_sub_variant_id        INTEGER;\n",
    "    v_attr_counter          INTEGER := 0;\n",
    "    v_queue_id              INTEGER;  -- for stack (LIFO) ordering\n",
    "    cur_vavspan_attr_id     INTEGER;  -- resolved unique vavspan_attr id for this combination\n",
    "    rec                     RECORD;\n",
    "BEGIN\n",
    "    -- Get the root variant from the entity.\n",
    "    SELECT variant_id\n",
    "      INTO v_root_variant_id\n",
    "      FROM entity\n",
    "     WHERE id = p_entity_id;\n",
    "    IF v_root_variant_id IS NULL THEN\n",
    "       RAISE EXCEPTION 'No entity found with id=%', p_entity_id;\n",
    "    END IF;\n",
    "\n",
    "    -- Use supplied state id (for regeneration) or insert a new entity_state.\n",
    "    IF p_regenerate_entity_state_id IS NOT NULL THEN\n",
    "        v_entity_state_id := p_regenerate_entity_state_id;\n",
    "    ELSE\n",
    "        INSERT INTO entity_state(entity_id, \"time\")\n",
    "        VALUES (p_entity_id, p_time)\n",
    "        RETURNING id INTO v_entity_state_id;\n",
    "    END IF;\n",
    "\n",
    "    ------------------------------\n",
    "    -- Create a temporary queue that holds variants to process.\n",
    "    -- Queue includes:\n",
    "    --   variant_id: the variant whose attributes will be generated.\n",
    "    --   variant_attr_span_id: the span that triggered this variant (may be NULL).\n",
    "    --   parent_vavspan_attr_id: the parent's vavspan_attr id (NULL for top-level).\n",
    "    ------------------------------\n",
    "    DROP TABLE IF EXISTS _variant_queue;\n",
    "    CREATE TEMPORARY TABLE _variant_queue (\n",
    "        queue_id serial PRIMARY KEY,\n",
    "        variant_id INTEGER,\n",
    "        variant_attr_span_id INTEGER,\n",
    "        parent_vavspan_attr_id INTEGER\n",
    "    ) ON COMMIT DROP;\n",
    "    -- Top-level variant: no triggering span and no parent.\n",
    "    INSERT INTO _variant_queue (variant_id, variant_attr_span_id, parent_vavspan_attr_id)\n",
    "      VALUES (v_root_variant_id, NULL, NULL);\n",
    "\n",
    "    -- Temporary table to hold the current variant's attributes.\n",
    "    DROP TABLE IF EXISTS _variant_attributes;\n",
    "    CREATE TEMPORARY TABLE _variant_attributes (\n",
    "        va_id    INTEGER,\n",
    "        attr_type TEXT\n",
    "    ) ON COMMIT DROP;\n",
    "\n",
    "    -- Process the variant queue (LIFO for depth-first traversal).\n",
    "    LOOP\n",
    "        SELECT queue_id, variant_id, variant_attr_span_id, parent_vavspan_attr_id\n",
    "          INTO v_queue_id, v_current_variant, v_trigger_vas, v_parent_vavspan_attr_id\n",
    "          FROM _variant_queue\n",
    "         ORDER BY queue_id DESC\n",
    "         LIMIT 1;\n",
    "        EXIT WHEN NOT FOUND;\n",
    "        DELETE FROM _variant_queue WHERE queue_id = v_queue_id;\n",
    "\n",
    "        -- Load the attributes for the current variant.\n",
    "        TRUNCATE _variant_attributes;\n",
    "        INSERT INTO _variant_attributes (va_id, attr_type)\n",
    "          SELECT va.id, a.type\n",
    "            FROM variant_attribute va\n",
    "            JOIN attribute a ON a.id = va.attribute_id\n",
    "           WHERE va.variant_id = v_current_variant\n",
    "           ORDER BY va.causation_index ASC;\n",
    "\n",
    "        v_attr_counter := 0;\n",
    "        FOR rec IN\n",
    "            SELECT va_id, attr_type FROM _variant_attributes\n",
    "        LOOP\n",
    "            cur_va_id     := rec.va_id;\n",
    "            cur_attr_type := rec.attr_type;\n",
    "            v_attr_counter := v_attr_counter + 1;\n",
    "\n",
    "            -- Determine the variant_attr_span ID for this attribute.\n",
    "            IF v_trigger_vas IS NOT NULL THEN\n",
    "                SELECT id\n",
    "                  INTO v_variant_attr_span_id\n",
    "                  FROM variant_attr_span\n",
    "                 WHERE id = v_trigger_vas\n",
    "                   AND variant_attribute_id = cur_va_id\n",
    "                 LIMIT 1;\n",
    "            ELSE\n",
    "                v_variant_attr_span_id := NULL;\n",
    "            END IF;\n",
    "\n",
    "            -- Resolve (or create) the unique vavspan_attr record for this combination.\n",
    "            SELECT id\n",
    "              INTO cur_vavspan_attr_id\n",
    "              FROM vavspan_attr\n",
    "             WHERE variant_attribute_id = cur_va_id\n",
    "               AND ((parent_vavspan_attr_id IS NULL AND v_parent_vavspan_attr_id IS NULL)\n",
    "                    OR parent_vavspan_attr_id = v_parent_vavspan_attr_id)\n",
    "               AND ((variant_attr_span_id IS NULL AND v_variant_attr_span_id IS NULL)\n",
    "                    OR variant_attr_span_id = v_variant_attr_span_id)\n",
    "             LIMIT 1;\n",
    "            IF NOT FOUND THEN\n",
    "                INSERT INTO vavspan_attr (variant_attribute_id, variant_attr_span_id, parent_vavspan_attr_id)\n",
    "                VALUES (cur_va_id, v_variant_attr_span_id, v_parent_vavspan_attr_id)\n",
    "                RETURNING id INTO cur_vavspan_attr_id;\n",
    "            END IF;\n",
    "\n",
    "            -- Process or update the entity_varattr_value for this resolved vavspan_attr.\n",
    "            IF p_regenerate_entity_state_id IS NOT NULL THEN\n",
    "                SELECT id, span_id\n",
    "                  INTO v_existing_evav_id, v_existing_span_id\n",
    "                  FROM entity_varattr_value\n",
    "                 WHERE entity_state_id = v_entity_state_id\n",
    "                   AND vavspan_attr_id = cur_vavspan_attr_id\n",
    "                 LIMIT 1;\n",
    "            ELSE\n",
    "                v_existing_evav_id := NULL;\n",
    "                v_existing_span_id := NULL;\n",
    "            END IF;\n",
    "\n",
    "            IF p_regenerate_entity_state_id IS NOT NULL AND v_existing_evav_id IS NOT NULL THEN\n",
    "                -- If a lock exists, re-use the existing span; otherwise roll a new one.\n",
    "                IF EXISTS (\n",
    "                     SELECT 1\n",
    "                       FROM evav_lock\n",
    "                      WHERE locked_evav_id = v_existing_evav_id\n",
    "                ) THEN\n",
    "                    v_used_span_id := v_existing_span_id;\n",
    "                ELSE\n",
    "                    IF cur_attr_type = 'discrete' THEN\n",
    "                        v_new_span_id := roll_discrete_varattr(cur_vavspan_attr_id, 0);\n",
    "                        UPDATE entity_varattr_value\n",
    "                           SET span_id = v_new_span_id\n",
    "                         WHERE id = v_existing_evav_id;\n",
    "                        v_used_span_id := v_new_span_id;\n",
    "                    ELSE\n",
    "                        SELECT t.chosen_span_id, t.chosen_value\n",
    "                          INTO v_new_span_id, v_new_numeric\n",
    "                          FROM roll_continuous_varattr(cur_vavspan_attr_id, 0) t\n",
    "                         LIMIT 1;\n",
    "                        UPDATE entity_varattr_value\n",
    "                           SET span_id = v_new_span_id,\n",
    "                               numeric_value = v_new_numeric\n",
    "                         WHERE id = v_existing_evav_id;\n",
    "                        v_used_span_id := v_new_span_id;\n",
    "                    END IF;\n",
    "                END IF;\n",
    "            ELSE\n",
    "                IF cur_attr_type = 'discrete' THEN\n",
    "                    v_new_span_id := roll_discrete_varattr(cur_vavspan_attr_id, 0);\n",
    "                    INSERT INTO entity_varattr_value(\n",
    "                        entity_state_id,\n",
    "                        numeric_value,\n",
    "                        span_id,\n",
    "                        vavspan_attr_id\n",
    "                    ) VALUES (\n",
    "                        v_entity_state_id,\n",
    "                        NULL,\n",
    "                        v_new_span_id,\n",
    "                        cur_vavspan_attr_id\n",
    "                    );\n",
    "                    v_used_span_id := v_new_span_id;\n",
    "                ELSE\n",
    "                    SELECT t.chosen_span_id, t.chosen_value\n",
    "                      INTO v_new_span_id, v_new_numeric\n",
    "                      FROM roll_continuous_varattr(cur_vavspan_attr_id, 0) t\n",
    "                     LIMIT 1;\n",
    "                    INSERT INTO entity_varattr_value(\n",
    "                        entity_state_id,\n",
    "                        numeric_value,\n",
    "                        span_id,\n",
    "                        vavspan_attr_id\n",
    "                    ) VALUES (\n",
    "                        v_entity_state_id,\n",
    "                        v_new_numeric,\n",
    "                        v_new_span_id,\n",
    "                        cur_vavspan_attr_id\n",
    "                    );\n",
    "                    v_used_span_id := v_new_span_id;\n",
    "                END IF;\n",
    "            END IF;\n",
    "\n",
    "            -- If the chosen span activates a sub–variant, enqueue that variant.\n",
    "            SELECT variant_id\n",
    "              INTO v_sub_variant_id\n",
    "              FROM variant_attr_span\n",
    "             WHERE variant_attribute_id = cur_va_id\n",
    "               AND id = v_used_span_id\n",
    "             LIMIT 1;\n",
    "            IF v_sub_variant_id IS NOT NULL AND v_sub_variant_id <> v_current_variant THEN\n",
    "                INSERT INTO _variant_queue (variant_id, variant_attr_span_id, parent_vavspan_attr_id)\n",
    "                VALUES (v_sub_variant_id, v_used_span_id, cur_vavspan_attr_id)\n",
    "                ON CONFLICT DO NOTHING;\n",
    "            END IF;\n",
    "        END LOOP;\n",
    "    END LOOP;\n",
    "\n",
    "    DROP TABLE IF EXISTS _variant_attributes;\n",
    "    DROP TABLE IF EXISTS _variant_queue;\n",
    "END;\n",
    "$$;"
   ]
  },
  {
   "cell_type": "markdown",
   "id": "a4071507",
   "metadata": {},
   "source": [
    "## Get Entity State Details"
   ]
  },
  {
   "cell_type": "code",
   "execution_count": 812,
   "id": "4b2ac892",
   "metadata": {
    "vscode": {
     "languageId": "sql"
    }
   },
   "outputs": [
    {
     "data": {
      "text/html": [
       "<span style=\"None\">Running query in &#x27;postgresql://notebook@localhost:5432/sahuagin&#x27;</span>"
      ],
      "text/plain": [
       "Running query in 'postgresql://notebook@localhost:5432/sahuagin'"
      ]
     },
     "metadata": {},
     "output_type": "display_data"
    },
    {
     "data": {
      "text/html": [
       "<table>\n",
       "    <thead>\n",
       "        <tr>\n",
       "        </tr>\n",
       "    </thead>\n",
       "    <tbody>\n",
       "    </tbody>\n",
       "</table>"
      ],
      "text/plain": [
       "++\n",
       "||\n",
       "++\n",
       "++"
      ]
     },
     "execution_count": 812,
     "metadata": {},
     "output_type": "execute_result"
    }
   ],
   "source": [
    "%%sql\n",
    "\n",
    "DROP TYPE IF EXISTS entity_state_details CASCADE;\n",
    "CREATE TYPE entity_state_details AS (\n",
    "  \"Index\"                   BIGINT,\n",
    "  \"Attribute\"               VARCHAR(255),\n",
    "  \"Value\"                   DOUBLE PRECISION,\n",
    "  \"Units\"                   VARCHAR(255),\n",
    "  \"Label\"                   VARCHAR(255),\n",
    "  \"Active Variations\"       JSONB,\n",
    "  \"Caused Variant\"          VARCHAR(255),\n",
    "  \"Locked\"                  BOOLEAN\n",
    ");\n",
    "\n",
    "CREATE OR REPLACE FUNCTION get_entity_state_details(\n",
    "    p_entity_id INT,\n",
    "    p_time      DOUBLE PRECISION\n",
    ")\n",
    "RETURNS SETOF entity_state_details\n",
    "LANGUAGE plpgsql\n",
    "AS $$\n",
    "BEGIN\n",
    "  RETURN QUERY\n",
    "  WITH RECURSIVE \n",
    "  -- Compute a per–variant sibling order using causation_index.\n",
    "  ordered_va AS (\n",
    "    SELECT\n",
    "      va.id AS variant_attribute_id,\n",
    "      va.variant_id,\n",
    "      va.attribute_id,\n",
    "      va.name,\n",
    "      va.causation_index,\n",
    "      ROW_NUMBER() OVER (PARTITION BY va.variant_id ORDER BY va.causation_index) AS sibling_order\n",
    "    FROM variant_attribute va\n",
    "  ),\n",
    "  --\n",
    "  -- Build the processing tree while computing two “paths”:\n",
    "  --\n",
    "  --   * attribute_path – the flattened path using \"/\" as separator and not including the span label.\n",
    "  --     For example: Human/Male/Irish/Hair Color\n",
    "  --\n",
    "  --   * json_full_address – same as attribute_path, except that if a span label exists it is appended\n",
    "  --     with a colon (e.g. Human/Male/Irish/Hair Color:Red). This is used as the key in Active Variations.\n",
    "  --\n",
    "  ev_tree AS (\n",
    "    -- Anchor: start with the entity state’s root variant.\n",
    "    SELECT\n",
    "      es.\"time\" AS state_time,\n",
    "      ev.id AS ev_id,\n",
    "      ev.entity_state_id,\n",
    "      ov.variant_attribute_id,\n",
    "      v.name || '/' || ov.name AS attribute_path,\n",
    "      v.name || '/' || ov.name || COALESCE(':' || s.label, '') AS json_full_address,\n",
    "      v.id AS variant_id,\n",
    "      v.name AS variant_name,\n",
    "      ev.numeric_value,\n",
    "      a.units,\n",
    "      ev.span_id,\n",
    "      s.label AS span_label,\n",
    "      vas.variant_id AS activated_sub_variant,\n",
    "      ARRAY[ ov.sibling_order ] AS proc_path\n",
    "    FROM entity_state es\n",
    "    JOIN entity e ON es.entity_id = e.id\n",
    "    JOIN variant v ON e.variant_id = v.id\n",
    "    JOIN entity_varattr_value ev ON ev.entity_state_id = es.id\n",
    "    -- Unwrap the vavspan_attr record to get the underlying variant_attribute\n",
    "    JOIN vavspan_attr vav ON ev.vavspan_attr_id = vav.id\n",
    "    JOIN ordered_va ov ON ov.variant_attribute_id = vav.variant_attribute_id\n",
    "    JOIN attribute a ON a.id = ov.attribute_id\n",
    "    LEFT JOIN span s ON ev.span_id = s.id\n",
    "    LEFT JOIN variant_attr_span vas \n",
    "           ON vas.id = ev.span_id\n",
    "          AND vas.variant_attribute_id = vav.variant_attribute_id\n",
    "    WHERE e.id = p_entity_id\n",
    "      AND es.\"time\" = p_time\n",
    "      AND ov.variant_id = v.id\n",
    "\n",
    "    UNION ALL\n",
    "\n",
    "    -- Recursive step: for any attribute that activated a sub–variant,\n",
    "    -- process the sub–variant’s attributes.\n",
    "    SELECT\n",
    "      parent.state_time,\n",
    "      ev.id AS ev_id,\n",
    "      ev.entity_state_id,\n",
    "      ov.variant_attribute_id,\n",
    "      parent.attribute_path || '/' || ov.name AS attribute_path,\n",
    "      parent.json_full_address || '/' || ov.name || COALESCE(':' || s.label, '') AS json_full_address,\n",
    "      v_child.id AS variant_id,\n",
    "      v_child.name AS variant_name,\n",
    "      ev.numeric_value,\n",
    "      a.units,\n",
    "      ev.span_id,\n",
    "      s.label AS span_label,\n",
    "      vas.variant_id AS activated_sub_variant,\n",
    "      parent.proc_path || ov.sibling_order AS proc_path\n",
    "    FROM ev_tree parent\n",
    "    JOIN entity_varattr_value ev ON ev.entity_state_id = parent.entity_state_id\n",
    "    -- Unwrap vavspan_attr for this level as well.\n",
    "    JOIN vavspan_attr vav ON ev.vavspan_attr_id = vav.id\n",
    "    JOIN ordered_va ov ON ov.variant_attribute_id = vav.variant_attribute_id\n",
    "    JOIN variant v_child ON ov.variant_id = v_child.id\n",
    "    JOIN attribute a ON a.id = ov.attribute_id\n",
    "    LEFT JOIN span s ON ev.span_id = s.id\n",
    "    LEFT JOIN variant_attr_span vas \n",
    "           ON vas.id = ev.span_id\n",
    "          AND vas.variant_attribute_id = vav.variant_attribute_id\n",
    "    WHERE parent.activated_sub_variant IS NOT NULL\n",
    "      AND ov.variant_id = parent.activated_sub_variant\n",
    "  ),\n",
    "  --\n",
    "  -- Index the tree by ordering lexicographically on proc_path.\n",
    "  ev_indexed AS (\n",
    "    SELECT ev.*,\n",
    "           row_number() OVER (ORDER BY ev.proc_path) AS effective_causation_index\n",
    "    FROM ev_tree ev\n",
    "  )\n",
    "  --\n",
    "  -- Final select: return one row per processed attribute value.\n",
    "  SELECT \n",
    "    ev.effective_causation_index::bigint AS \"Index\",\n",
    "    ev.attribute_path::varchar(255) AS \"Attribute\",\n",
    "    ev.numeric_value::double precision AS \"Value\",\n",
    "    ev.units::varchar(255) AS \"Units\",\n",
    "    ev.span_label::varchar(255) AS \"Label\",\n",
    "    (\n",
    "      SELECT COALESCE(\n",
    "        jsonb_object_agg(anc_variations.json_full_address, anc_variations.variations_array),\n",
    "        '{}'::jsonb\n",
    "      )\n",
    "      FROM (\n",
    "        SELECT\n",
    "          anc.json_full_address,\n",
    "          jsonb_agg(\n",
    "            jsonb_build_object(\n",
    "              'variation_id', v.id,\n",
    "              'is_inactive', v.is_inactive,\n",
    "              'variation_continuous_attr', CASE WHEN vca.id IS NOT NULL THEN to_jsonb(vca) ELSE NULL END,\n",
    "              'variation_activated_span', CASE WHEN vas2.id IS NOT NULL THEN to_jsonb(vas2) ELSE NULL END,\n",
    "              'variation_delta_weight', CASE WHEN vd.id IS NOT NULL THEN to_jsonb(vd) ELSE NULL END,\n",
    "              'variation_inactive_span', CASE WHEN vi.id IS NOT NULL THEN to_jsonb(vi) ELSE NULL END\n",
    "            )\n",
    "          ) AS variations_array\n",
    "        FROM ev_indexed anc\n",
    "        JOIN variation v ON v.activating_span_id = anc.span_id\n",
    "        LEFT JOIN variation_continuous_attr vca ON vca.variation_id = v.id\n",
    "        LEFT JOIN variation_activated_span vas2 ON vas2.variation_id = v.id\n",
    "        LEFT JOIN variation_delta_weight vd ON vd.variation_id = v.id\n",
    "        LEFT JOIN variation_inactive_span vi ON vi.variation_id = v.id\n",
    "        WHERE anc.effective_causation_index < ev.effective_causation_index\n",
    "          AND anc.span_id IS NOT NULL\n",
    "        GROUP BY anc.json_full_address\n",
    "      ) anc_variations\n",
    "    ) AS \"Active Variations\",\n",
    "    (\n",
    "      CASE \n",
    "        WHEN ev.activated_sub_variant IS NOT NULL THEN\n",
    "           (SELECT v2.name FROM variant v2 WHERE v2.id = ev.activated_sub_variant)\n",
    "        ELSE NULL\n",
    "      END\n",
    "    )::varchar(255) AS \"Caused Variant\",\n",
    "    EXISTS (\n",
    "      SELECT 1 \n",
    "      FROM evav_lock \n",
    "      WHERE locked_evav_id = ev.ev_id\n",
    "    ) AS \"Locked\"\n",
    "  FROM ev_indexed ev\n",
    "  ORDER BY ev.effective_causation_index;\n",
    "END;\n",
    "$$;"
   ]
  },
  {
   "cell_type": "markdown",
   "id": "97932825",
   "metadata": {},
   "source": [
    "## Generate Entity Group"
   ]
  },
  {
   "cell_type": "code",
   "execution_count": 813,
   "id": "c0f3a6af",
   "metadata": {
    "vscode": {
     "languageId": "sql"
    }
   },
   "outputs": [
    {
     "data": {
      "text/html": [
       "<span style=\"None\">Running query in &#x27;postgresql://notebook@localhost:5432/sahuagin&#x27;</span>"
      ],
      "text/plain": [
       "Running query in 'postgresql://notebook@localhost:5432/sahuagin'"
      ]
     },
     "metadata": {},
     "output_type": "display_data"
    },
    {
     "data": {
      "text/html": [
       "<table>\n",
       "    <thead>\n",
       "        <tr>\n",
       "        </tr>\n",
       "    </thead>\n",
       "    <tbody>\n",
       "    </tbody>\n",
       "</table>"
      ],
      "text/plain": [
       "++\n",
       "||\n",
       "++\n",
       "++"
      ]
     },
     "execution_count": 813,
     "metadata": {},
     "output_type": "execute_result"
    }
   ],
   "source": [
    "%%sql\n",
    "\n",
    "CREATE OR REPLACE PROCEDURE generate_entity_group(\n",
    "    p_variant_id           INTEGER,\n",
    "    p_group_name           VARCHAR,\n",
    "    p_entity_name_template VARCHAR,\n",
    "    p_num_entities         INTEGER\n",
    ")\n",
    "LANGUAGE plpgsql AS $$\n",
    "DECLARE\n",
    "    v_entity_group_id  INTEGER;\n",
    "    v_entity_id        INTEGER;\n",
    "    v_entity_state_id  INTEGER;\n",
    "    v_idx              INTEGER;\n",
    "    v_entity_name      VARCHAR(255);\n",
    "BEGIN\n",
    "    INSERT INTO entity_group (name)\n",
    "    VALUES (p_group_name)\n",
    "    RETURNING id INTO v_entity_group_id;\n",
    "\n",
    "    FOR v_idx IN 1..p_num_entities LOOP\n",
    "        v_entity_name := format(p_entity_name_template, v_idx);\n",
    "\n",
    "        INSERT INTO entity (variant_id, name)\n",
    "        VALUES (p_variant_id, v_entity_name)\n",
    "        RETURNING id INTO v_entity_id;\n",
    "\n",
    "        INSERT INTO entity_group_link (entity_id, entity_group_id)\n",
    "        VALUES (v_entity_id, v_entity_group_id);\n",
    "\n",
    "        CALL generate_entity_state(v_entity_id, 0, NULL);\n",
    "    END LOOP;\n",
    "END;\n",
    "$$;"
   ]
  },
  {
   "cell_type": "markdown",
   "id": "72f064af",
   "metadata": {},
   "source": [
    "## Get Entity Group Details"
   ]
  },
  {
   "cell_type": "code",
   "execution_count": 814,
   "id": "1b354858",
   "metadata": {
    "vscode": {
     "languageId": "sql"
    }
   },
   "outputs": [
    {
     "data": {
      "text/html": [
       "<span style=\"None\">Running query in &#x27;postgresql://notebook@localhost:5432/sahuagin&#x27;</span>"
      ],
      "text/plain": [
       "Running query in 'postgresql://notebook@localhost:5432/sahuagin'"
      ]
     },
     "metadata": {},
     "output_type": "display_data"
    },
    {
     "data": {
      "text/html": [
       "<table>\n",
       "    <thead>\n",
       "        <tr>\n",
       "        </tr>\n",
       "    </thead>\n",
       "    <tbody>\n",
       "    </tbody>\n",
       "</table>"
      ],
      "text/plain": [
       "++\n",
       "||\n",
       "++\n",
       "++"
      ]
     },
     "execution_count": 814,
     "metadata": {},
     "output_type": "execute_result"
    }
   ],
   "source": [
    "%%sql\n",
    "\n",
    "CREATE OR REPLACE FUNCTION get_entity_group_state_details(\n",
    "    p_entity_group_id INT\n",
    ")\n",
    "RETURNS TEXT\n",
    "LANGUAGE sql\n",
    "AS $$\n",
    "  SELECT jsonb_pretty(\n",
    "           COALESCE(\n",
    "             jsonb_object_agg(e.name, details),\n",
    "             '{}'::jsonb\n",
    "           )\n",
    "         )\n",
    "  FROM (\n",
    "    SELECT e.name,\n",
    "           (\n",
    "             SELECT jsonb_agg(\n",
    "                      jsonb_strip_nulls(\n",
    "                        jsonb_build_object(\n",
    "                          'Attribute', d.\"Attribute\",\n",
    "                          'Value', CASE \n",
    "                                     WHEN d.\"Value\" IS NOT NULL \n",
    "                                       THEN CASE \n",
    "                                              WHEN d.\"Units\" IS NOT NULL \n",
    "                                                THEN d.\"Value\"::text || ' ' || d.\"Units\"\n",
    "                                              ELSE d.\"Value\"::text\n",
    "                                            END\n",
    "                                     ELSE NULL\n",
    "                                   END,\n",
    "                          'Label', d.\"Label\",\n",
    "                          'Active Variations', CASE \n",
    "                                                 WHEN d.\"Active Variations\" = '{}'::jsonb THEN NULL \n",
    "                                                 ELSE d.\"Active Variations\" \n",
    "                                               END,\n",
    "                          'Caused Variant', d.\"Caused Variant\",\n",
    "                          'Locked', CASE WHEN d.\"Locked\" THEN d.\"Locked\" ELSE NULL END\n",
    "                        )\n",
    "                      )\n",
    "                    )\n",
    "             FROM get_entity_state_details(e.id, 0) AS d\n",
    "           ) AS details\n",
    "    FROM entity e\n",
    "    JOIN entity_group_link egl ON e.id = egl.entity_id\n",
    "    WHERE egl.entity_group_id = p_entity_group_id\n",
    "  ) e;\n",
    "$$;"
   ]
  },
  {
   "cell_type": "markdown",
   "id": "dae6b54d",
   "metadata": {},
   "source": [
    "## Set Span as Sub-Variant Activating Span"
   ]
  },
  {
   "cell_type": "code",
   "execution_count": 815,
   "id": "304f989c",
   "metadata": {
    "vscode": {
     "languageId": "sql"
    }
   },
   "outputs": [
    {
     "data": {
      "text/html": [
       "<span style=\"None\">Running query in &#x27;postgresql://notebook@localhost:5432/sahuagin&#x27;</span>"
      ],
      "text/plain": [
       "Running query in 'postgresql://notebook@localhost:5432/sahuagin'"
      ]
     },
     "metadata": {},
     "output_type": "display_data"
    },
    {
     "data": {
      "text/html": [
       "<table>\n",
       "    <thead>\n",
       "        <tr>\n",
       "        </tr>\n",
       "    </thead>\n",
       "    <tbody>\n",
       "    </tbody>\n",
       "</table>"
      ],
      "text/plain": [
       "++\n",
       "||\n",
       "++\n",
       "++"
      ]
     },
     "execution_count": 815,
     "metadata": {},
     "output_type": "execute_result"
    }
   ],
   "source": [
    "%%sql\n",
    "\n",
    "CREATE OR REPLACE PROCEDURE set_variant_attr_span(\n",
    "    p_variant_id INT,\n",
    "    p_variant_attribute_id INT,\n",
    "    p_span_id INT\n",
    ")\n",
    "LANGUAGE plpgsql\n",
    "AS $$\n",
    "BEGIN\n",
    "  INSERT INTO variant_attr_span(variant_id, variant_attribute_id, span_id)\n",
    "  VALUES (p_variant_id, p_variant_attribute_id, p_span_id);\n",
    "END;\n",
    "$$;"
   ]
  },
  {
   "cell_type": "markdown",
   "id": "2f66cf52",
   "metadata": {},
   "source": [
    "## resolve_variant_path"
   ]
  },
  {
   "cell_type": "code",
   "execution_count": 816,
   "id": "3746e2e7",
   "metadata": {
    "vscode": {
     "languageId": "sql"
    }
   },
   "outputs": [
    {
     "data": {
      "text/html": [
       "<span style=\"None\">Running query in &#x27;postgresql://notebook@localhost:5432/sahuagin&#x27;</span>"
      ],
      "text/plain": [
       "Running query in 'postgresql://notebook@localhost:5432/sahuagin'"
      ]
     },
     "metadata": {},
     "output_type": "display_data"
    },
    {
     "data": {
      "text/html": [
       "<table>\n",
       "    <thead>\n",
       "        <tr>\n",
       "        </tr>\n",
       "    </thead>\n",
       "    <tbody>\n",
       "    </tbody>\n",
       "</table>"
      ],
      "text/plain": [
       "++\n",
       "||\n",
       "++\n",
       "++"
      ]
     },
     "execution_count": 816,
     "metadata": {},
     "output_type": "execute_result"
    }
   ],
   "source": [
    "%%sql\n",
    "\n",
    "CREATE OR REPLACE FUNCTION resolve_variant_path(\n",
    "    p_variant_id INT,\n",
    "    p_path JSON\n",
    ") RETURNS INT\n",
    "LANGUAGE plpgsql\n",
    "AS $$\n",
    "DECLARE\n",
    "    v_chain_length         INT;\n",
    "    v_current_variant      INT := p_variant_id;\n",
    "    v_parent_vavspan_attr  INT := NULL;\n",
    "    v_i                    INT;\n",
    "    v_step                 JSON;\n",
    "    v_attr_name            TEXT;\n",
    "    v_span_label           TEXT;\n",
    "    v_variant_attribute_id INT;\n",
    "    v_variant_attr_span_id INT;\n",
    "    v_sub_variant          INT;\n",
    "    v_vavspan_attr_id      INT;\n",
    "BEGIN\n",
    "    v_chain_length := json_array_length(p_path);\n",
    "    IF v_chain_length = 0 THEN\n",
    "       RAISE EXCEPTION 'Variant path is empty';\n",
    "    END IF;\n",
    "    \n",
    "    FOR v_i IN 0 .. v_chain_length - 1 LOOP\n",
    "        -- Extract the tuple [attribute name, span label] at index v_i.\n",
    "        v_step := p_path->v_i;\n",
    "        v_attr_name := v_step->>0;\n",
    "        v_span_label := v_step->>1;\n",
    "        \n",
    "        -- Look up the variant_attribute by name in the current variant.\n",
    "        SELECT id INTO v_variant_attribute_id\n",
    "          FROM variant_attribute\n",
    "         WHERE variant_id = v_current_variant\n",
    "           AND name = v_attr_name\n",
    "         LIMIT 1;\n",
    "        IF v_variant_attribute_id IS NULL THEN\n",
    "            RAISE EXCEPTION 'Variant attribute \"%\" not found in variant % at path index %',\n",
    "                v_attr_name, v_current_variant, v_i;\n",
    "        END IF;\n",
    "        \n",
    "        -- Look up the variant_attr_span record by joining with span using the span label.\n",
    "        SELECT vas.id, vas.variant_id\n",
    "          INTO v_variant_attr_span_id, v_sub_variant\n",
    "          FROM variant_attr_span vas\n",
    "          JOIN span s ON s.id = vas.span_id\n",
    "         WHERE vas.variant_attribute_id = v_variant_attribute_id\n",
    "           AND s.label = v_span_label\n",
    "         LIMIT 1;\n",
    "        IF v_variant_attr_span_id IS NULL THEN\n",
    "            RAISE EXCEPTION 'No span with label \"%\" found for variant attribute \"%\" at path index %',\n",
    "                v_span_label, v_attr_name, v_i;\n",
    "        END IF;\n",
    "        \n",
    "        -- Resolve (or create) the unique vavspan_attr record for this step.\n",
    "        SELECT id INTO v_vavspan_attr_id\n",
    "          FROM vavspan_attr\n",
    "         WHERE variant_attribute_id = v_variant_attribute_id\n",
    "           AND variant_attr_span_id = v_variant_attr_span_id\n",
    "           AND ((parent_vavspan_attr_id IS NULL AND v_parent_vavspan_attr IS NULL)\n",
    "                OR parent_vavspan_attr_id = v_parent_vavspan_attr)\n",
    "         LIMIT 1;\n",
    "        IF v_vavspan_attr_id IS NULL THEN\n",
    "            INSERT INTO vavspan_attr (variant_attribute_id, variant_attr_span_id, parent_vavspan_attr_id)\n",
    "            VALUES (v_variant_attribute_id, v_variant_attr_span_id, v_parent_vavspan_attr)\n",
    "            RETURNING id INTO v_vavspan_attr_id;\n",
    "        END IF;\n",
    "        \n",
    "        -- If not at the final step, a sub-variant must be activated.\n",
    "        IF v_i < v_chain_length - 1 THEN\n",
    "            IF v_sub_variant IS NULL THEN\n",
    "                RAISE EXCEPTION 'Chain impossible: attribute \"%\" with span label \"%\" at path index % does not activate a sub-variant',\n",
    "                    v_attr_name, v_span_label, v_i;\n",
    "            END IF;\n",
    "            v_current_variant := v_sub_variant;\n",
    "        END IF;\n",
    "        \n",
    "        -- Set up for the next iteration.\n",
    "        v_parent_vavspan_attr := v_vavspan_attr_id;\n",
    "    END LOOP;\n",
    "    \n",
    "    RETURN v_parent_vavspan_attr;\n",
    "END;\n",
    "$$;"
   ]
  },
  {
   "cell_type": "markdown",
   "id": "9016bee3",
   "metadata": {},
   "source": [
    "## get_vavspan_attr_chain"
   ]
  },
  {
   "cell_type": "code",
   "execution_count": 817,
   "id": "f68ec9ac",
   "metadata": {
    "vscode": {
     "languageId": "sql"
    }
   },
   "outputs": [
    {
     "data": {
      "text/html": [
       "<span style=\"None\">Running query in &#x27;postgresql://notebook@localhost:5432/sahuagin&#x27;</span>"
      ],
      "text/plain": [
       "Running query in 'postgresql://notebook@localhost:5432/sahuagin'"
      ]
     },
     "metadata": {},
     "output_type": "display_data"
    },
    {
     "data": {
      "text/html": [
       "<table>\n",
       "    <thead>\n",
       "        <tr>\n",
       "        </tr>\n",
       "    </thead>\n",
       "    <tbody>\n",
       "    </tbody>\n",
       "</table>"
      ],
      "text/plain": [
       "++\n",
       "||\n",
       "++\n",
       "++"
      ]
     },
     "execution_count": 817,
     "metadata": {},
     "output_type": "execute_result"
    }
   ],
   "source": [
    "%%sql\n",
    "\n",
    "CREATE OR REPLACE FUNCTION get_vavspan_attr_chain(\n",
    "    p_vavspan_attr_id INT\n",
    ") RETURNS TABLE(level INT, variant_attribute_id INT, causation_index INT)\n",
    "LANGUAGE plpgsql\n",
    "AS $$\n",
    "BEGIN\n",
    "RETURN QUERY WITH RECURSIVE chain(lev, vav_id, va_id, ci, parent) AS (\n",
    "    -- Start at the leaf: assign level = 1.\n",
    "    SELECT 1,\n",
    "           v.id,\n",
    "           v.variant_attribute_id,\n",
    "           va.causation_index,\n",
    "           v.parent_vavspan_attr_id\n",
    "      FROM vavspan_attr v\n",
    "      JOIN variant_attribute va ON va.id = v.variant_attribute_id\n",
    "     WHERE v.id = p_vavspan_attr_id\n",
    "    UNION ALL\n",
    "    -- Walk upward.\n",
    "    SELECT c.lev + 1,\n",
    "           v.id,\n",
    "           v.variant_attribute_id,\n",
    "           va.causation_index,\n",
    "           v.parent_vavspan_attr_id\n",
    "      FROM vavspan_attr v\n",
    "      JOIN variant_attribute va ON va.id = v.variant_attribute_id\n",
    "      JOIN chain c ON v.id = c.parent\n",
    ")\n",
    "-- Reverse the order so that the top-most attribute is first.\n",
    "SELECT row_number() OVER (ORDER BY lev DESC) AS level,\n",
    "       va_id AS variant_attribute_id,\n",
    "       ci AS causation_index\n",
    "  FROM chain\n",
    " ORDER BY level;\n",
    "END;\n",
    "$$;"
   ]
  },
  {
   "cell_type": "markdown",
   "id": "f825047e",
   "metadata": {},
   "source": [
    "## compare_vavspan_attr_order"
   ]
  },
  {
   "cell_type": "code",
   "execution_count": 818,
   "id": "46ecb07c",
   "metadata": {
    "vscode": {
     "languageId": "sql"
    }
   },
   "outputs": [
    {
     "data": {
      "text/html": [
       "<span style=\"None\">Running query in &#x27;postgresql://notebook@localhost:5432/sahuagin&#x27;</span>"
      ],
      "text/plain": [
       "Running query in 'postgresql://notebook@localhost:5432/sahuagin'"
      ]
     },
     "metadata": {},
     "output_type": "display_data"
    },
    {
     "data": {
      "text/html": [
       "<table>\n",
       "    <thead>\n",
       "        <tr>\n",
       "        </tr>\n",
       "    </thead>\n",
       "    <tbody>\n",
       "    </tbody>\n",
       "</table>"
      ],
      "text/plain": [
       "++\n",
       "||\n",
       "++\n",
       "++"
      ]
     },
     "execution_count": 818,
     "metadata": {},
     "output_type": "execute_result"
    }
   ],
   "source": [
    "%%sql\n",
    "\n",
    "CREATE OR REPLACE FUNCTION compare_vavspan_attr_order(\n",
    "    p_a INT,\n",
    "    p_b INT\n",
    ") RETURNS INT\n",
    "LANGUAGE plpgsql\n",
    "AS $$\n",
    "DECLARE\n",
    "    rec RECORD;\n",
    "BEGIN\n",
    "    FOR rec IN\n",
    "        SELECT COALESCE(a.level, b.level) AS level,\n",
    "               a.causation_index AS a_ci,\n",
    "               b.causation_index AS b_ci\n",
    "          FROM get_vavspan_attr_chain(p_a) a\n",
    "          FULL OUTER JOIN get_vavspan_attr_chain(p_b) b USING (level)\n",
    "         ORDER BY level\n",
    "    LOOP\n",
    "        -- If one chain is shorter, treat the missing value as \"less\".\n",
    "        IF rec.a_ci IS NULL AND rec.b_ci IS NOT NULL THEN\n",
    "            RETURN -1;\n",
    "        ELSIF rec.b_ci IS NULL AND rec.a_ci IS NOT NULL THEN\n",
    "            RETURN 1;\n",
    "        ELSIF rec.a_ci < rec.b_ci THEN\n",
    "            RETURN -1;\n",
    "        ELSIF rec.a_ci > rec.b_ci THEN\n",
    "            RETURN 1;\n",
    "        END IF;\n",
    "        -- Otherwise they are equal at this level; continue.\n",
    "    END LOOP;\n",
    "    RETURN 0;\n",
    "END;\n",
    "$$;"
   ]
  },
  {
   "cell_type": "markdown",
   "id": "0519943b",
   "metadata": {},
   "source": [
    "## Add Variation"
   ]
  },
  {
   "cell_type": "code",
   "execution_count": 819,
   "id": "84561349",
   "metadata": {
    "vscode": {
     "languageId": "sql"
    }
   },
   "outputs": [
    {
     "data": {
      "text/html": [
       "<span style=\"None\">Running query in &#x27;postgresql://notebook@localhost:5432/sahuagin&#x27;</span>"
      ],
      "text/plain": [
       "Running query in 'postgresql://notebook@localhost:5432/sahuagin'"
      ]
     },
     "metadata": {},
     "output_type": "display_data"
    },
    {
     "data": {
      "text/html": [
       "<table>\n",
       "    <thead>\n",
       "        <tr>\n",
       "        </tr>\n",
       "    </thead>\n",
       "    <tbody>\n",
       "    </tbody>\n",
       "</table>"
      ],
      "text/plain": [
       "++\n",
       "||\n",
       "++\n",
       "++"
      ]
     },
     "execution_count": 819,
     "metadata": {},
     "output_type": "execute_result"
    }
   ],
   "source": [
    "%%sql\n",
    "\n",
    "CREATE OR REPLACE PROCEDURE add_variation(\n",
    "    p_variant_id              INT,\n",
    "    p_activating_variant_path JSON,\n",
    "    p_to_modify_variant_path  JSON\n",
    ")\n",
    "LANGUAGE plpgsql\n",
    "AS $$\n",
    "DECLARE\n",
    "    v_activating_vavspan_attr_id INT;\n",
    "    v_to_modify_vavspan_attr_id  INT;\n",
    "    cmp_result INT;\n",
    "BEGIN\n",
    "    -- Resolve each branch (using the previously defined resolve_variant_path).\n",
    "    v_activating_vavspan_attr_id := resolve_variant_path(p_variant_id, p_activating_variant_path);\n",
    "    v_to_modify_vavspan_attr_id  := resolve_variant_path(p_variant_id, p_to_modify_variant_path);\n",
    "    \n",
    "    -- Compare the two chains.\n",
    "    cmp_result := compare_vavspan_attr_order(v_activating_vavspan_attr_id, v_to_modify_vavspan_attr_id);\n",
    "    IF cmp_result <> -1 THEN\n",
    "        RAISE EXCEPTION 'Invalid variation ordering: activating branch (vavspan_attr id %) is not generated before to-modify branch (vavspan_attr id %); comparison result = %',\n",
    "            v_activating_vavspan_attr_id, v_to_modify_vavspan_attr_id, cmp_result;\n",
    "    END IF;\n",
    "    \n",
    "    -- If the order is acceptable, insert the new variation.\n",
    "    INSERT INTO variation(\n",
    "        to_modify_vavspan_attr_id,\n",
    "        activating_vavspan_attr_id\n",
    "    )\n",
    "    VALUES (\n",
    "        v_to_modify_vavspan_attr_id,\n",
    "        v_activating_vavspan_attr_id\n",
    "    );\n",
    "END;\n",
    "$$;"
   ]
  },
  {
   "cell_type": "markdown",
   "id": "c626b942",
   "metadata": {},
   "source": [
    "## get_variant_id"
   ]
  },
  {
   "cell_type": "code",
   "execution_count": 820,
   "id": "5d99f9ce",
   "metadata": {
    "vscode": {
     "languageId": "sql"
    }
   },
   "outputs": [
    {
     "data": {
      "text/html": [
       "<span style=\"None\">Running query in &#x27;postgresql://notebook@localhost:5432/sahuagin&#x27;</span>"
      ],
      "text/plain": [
       "Running query in 'postgresql://notebook@localhost:5432/sahuagin'"
      ]
     },
     "metadata": {},
     "output_type": "display_data"
    },
    {
     "data": {
      "text/html": [
       "<table>\n",
       "    <thead>\n",
       "        <tr>\n",
       "        </tr>\n",
       "    </thead>\n",
       "    <tbody>\n",
       "    </tbody>\n",
       "</table>"
      ],
      "text/plain": [
       "++\n",
       "||\n",
       "++\n",
       "++"
      ]
     },
     "execution_count": 820,
     "metadata": {},
     "output_type": "execute_result"
    }
   ],
   "source": [
    "%%sql\n",
    "\n",
    "CREATE OR REPLACE FUNCTION get_variant_id(\n",
    "    p_variant_name VARCHAR\n",
    ") RETURNS INTEGER\n",
    "LANGUAGE plpgsql\n",
    "AS $$\n",
    "DECLARE\n",
    "    variant_id INTEGER;\n",
    "BEGIN\n",
    "    SELECT id\n",
    "      INTO variant_id\n",
    "      FROM variant\n",
    "     WHERE name = p_variant_name;\n",
    "     \n",
    "    IF NOT FOUND THEN\n",
    "        RAISE EXCEPTION 'Variant \"%\" not found', variant_id;\n",
    "    END IF;\n",
    "    \n",
    "    RETURN variant_id;\n",
    "END;\n",
    "$$;"
   ]
  },
  {
   "cell_type": "markdown",
   "id": "b1d26c99",
   "metadata": {},
   "source": [
    "## get_attribute_id"
   ]
  },
  {
   "cell_type": "code",
   "execution_count": 821,
   "id": "73c4e249",
   "metadata": {
    "vscode": {
     "languageId": "sql"
    }
   },
   "outputs": [
    {
     "data": {
      "text/html": [
       "<span style=\"None\">Running query in &#x27;postgresql://notebook@localhost:5432/sahuagin&#x27;</span>"
      ],
      "text/plain": [
       "Running query in 'postgresql://notebook@localhost:5432/sahuagin'"
      ]
     },
     "metadata": {},
     "output_type": "display_data"
    },
    {
     "data": {
      "text/html": [
       "<table>\n",
       "    <thead>\n",
       "        <tr>\n",
       "        </tr>\n",
       "    </thead>\n",
       "    <tbody>\n",
       "    </tbody>\n",
       "</table>"
      ],
      "text/plain": [
       "++\n",
       "||\n",
       "++\n",
       "++"
      ]
     },
     "execution_count": 821,
     "metadata": {},
     "output_type": "execute_result"
    }
   ],
   "source": [
    "%%sql\n",
    "\n",
    "CREATE OR REPLACE FUNCTION get_attribute_id(\n",
    "    p_attribute_name VARCHAR\n",
    ") RETURNS INTEGER\n",
    "LANGUAGE plpgsql\n",
    "AS $$\n",
    "DECLARE\n",
    "    attribute_id INTEGER;\n",
    "BEGIN\n",
    "    SELECT id\n",
    "      INTO attribute_id\n",
    "      FROM attribute\n",
    "     WHERE name = p_attribute_name;\n",
    "     \n",
    "    IF NOT FOUND THEN\n",
    "        RAISE EXCEPTION 'Attribute \"%\" not found', p_attribute_name;\n",
    "    END IF;\n",
    "    \n",
    "    RETURN attribute_id;\n",
    "END;\n",
    "$$;"
   ]
  },
  {
   "cell_type": "markdown",
   "id": "a5368893",
   "metadata": {},
   "source": [
    "## get_span_id"
   ]
  },
  {
   "cell_type": "code",
   "execution_count": 822,
   "id": "32ffb87d",
   "metadata": {
    "vscode": {
     "languageId": "sql"
    }
   },
   "outputs": [
    {
     "data": {
      "text/html": [
       "<span style=\"None\">Running query in &#x27;postgresql://notebook@localhost:5432/sahuagin&#x27;</span>"
      ],
      "text/plain": [
       "Running query in 'postgresql://notebook@localhost:5432/sahuagin'"
      ]
     },
     "metadata": {},
     "output_type": "display_data"
    },
    {
     "data": {
      "text/html": [
       "<table>\n",
       "    <thead>\n",
       "        <tr>\n",
       "        </tr>\n",
       "    </thead>\n",
       "    <tbody>\n",
       "    </tbody>\n",
       "</table>"
      ],
      "text/plain": [
       "++\n",
       "||\n",
       "++\n",
       "++"
      ]
     },
     "execution_count": 822,
     "metadata": {},
     "output_type": "execute_result"
    }
   ],
   "source": [
    "%%sql\n",
    "\n",
    "CREATE OR REPLACE FUNCTION get_span_id(\n",
    "    p_attribute_name VARCHAR,\n",
    "    p_span_type      attribute_type,\n",
    "    p_span_label     VARCHAR\n",
    ") RETURNS INTEGER\n",
    "LANGUAGE plpgsql\n",
    "AS $$\n",
    "DECLARE\n",
    "    span_id INTEGER;\n",
    "BEGIN\n",
    "    SELECT s.id\n",
    "      INTO span_id\n",
    "      FROM span s\n",
    "      JOIN attribute a ON a.id = s.attribute_id\n",
    "     WHERE s.label = p_span_label\n",
    "       AND a.name = p_attribute_name\n",
    "       AND s.type = p_span_type;\n",
    "\n",
    "    IF NOT FOUND THEN\n",
    "        RAISE EXCEPTION 'Span on attribute \"%\" of type \"%\" and label \"%\" not found', p_attribute_name, p_span_type, p_span_label;\n",
    "    END IF;\n",
    "\n",
    "    RETURN span_id;\n",
    "END;\n",
    "$$;"
   ]
  },
  {
   "cell_type": "markdown",
   "id": "918f758e",
   "metadata": {},
   "source": [
    "## get_variation_id_by_paths"
   ]
  },
  {
   "cell_type": "code",
   "execution_count": 823,
   "id": "7cbcbf55",
   "metadata": {
    "vscode": {
     "languageId": "sql"
    }
   },
   "outputs": [
    {
     "data": {
      "text/html": [
       "<span style=\"None\">Running query in &#x27;postgresql://notebook@localhost:5432/sahuagin&#x27;</span>"
      ],
      "text/plain": [
       "Running query in 'postgresql://notebook@localhost:5432/sahuagin'"
      ]
     },
     "metadata": {},
     "output_type": "display_data"
    },
    {
     "data": {
      "text/html": [
       "<table>\n",
       "    <thead>\n",
       "        <tr>\n",
       "        </tr>\n",
       "    </thead>\n",
       "    <tbody>\n",
       "    </tbody>\n",
       "</table>"
      ],
      "text/plain": [
       "++\n",
       "||\n",
       "++\n",
       "++"
      ]
     },
     "execution_count": 823,
     "metadata": {},
     "output_type": "execute_result"
    }
   ],
   "source": [
    "%%sql\n",
    "\n",
    "CREATE OR REPLACE FUNCTION get_variation_id_by_paths(\n",
    "    p_variant_id              INT,\n",
    "    p_activating_variant_path JSON,\n",
    "    p_to_modify_variant_path  JSON\n",
    ") RETURNS INT\n",
    "LANGUAGE plpgsql\n",
    "AS $$\n",
    "DECLARE\n",
    "    v_activating_vavspan_attr INT;\n",
    "    v_to_modify_vavspan_attr  INT;\n",
    "    v_variation_id          INT;\n",
    "BEGIN\n",
    "    -- Resolve the activating branch to get its terminal vavspan_attr id.\n",
    "    v_activating_vavspan_attr := resolve_variant_path(p_variant_id, p_activating_variant_path);\n",
    "    \n",
    "    -- Resolve the to–modify branch similarly.\n",
    "    v_to_modify_vavspan_attr := resolve_variant_path(p_variant_id, p_to_modify_variant_path);\n",
    "    \n",
    "    -- Try to find an existing variation with these branch endpoints.\n",
    "    SELECT id INTO v_variation_id\n",
    "      FROM variation\n",
    "     WHERE variant_id = p_variant_id\n",
    "       AND activating_vavspan_attr_id = v_activating_vavspan_attr\n",
    "       AND to_modify_vavspan_attr_id = v_to_modify_vavspan_attr\n",
    "     LIMIT 1;\n",
    "    \n",
    "    -- If no such variation exists, create it.\n",
    "    IF v_variation_id IS NULL THEN\n",
    "        INSERT INTO variation(\n",
    "            variant_id,\n",
    "            activating_vavspan_attr_id,\n",
    "            to_modify_vavspan_attr_id\n",
    "        )\n",
    "        VALUES (\n",
    "            p_variant_id,\n",
    "            v_activating_vavspan_attr,\n",
    "            v_to_modify_vavspan_attr\n",
    "        )\n",
    "        RETURNING id INTO v_variation_id;\n",
    "    END IF;\n",
    "    \n",
    "    RETURN v_variation_id;\n",
    "END;\n",
    "$$;"
   ]
  },
  {
   "cell_type": "markdown",
   "id": "711fc67e",
   "metadata": {},
   "source": [
    "## get_effect_id"
   ]
  },
  {
   "cell_type": "code",
   "execution_count": 824,
   "id": "788c60d8",
   "metadata": {
    "vscode": {
     "languageId": "sql"
    }
   },
   "outputs": [
    {
     "data": {
      "text/html": [
       "<span style=\"None\">Running query in &#x27;postgresql://notebook@localhost:5432/sahuagin&#x27;</span>"
      ],
      "text/plain": [
       "Running query in 'postgresql://notebook@localhost:5432/sahuagin'"
      ]
     },
     "metadata": {},
     "output_type": "display_data"
    },
    {
     "data": {
      "text/html": [
       "<table>\n",
       "    <thead>\n",
       "        <tr>\n",
       "        </tr>\n",
       "    </thead>\n",
       "    <tbody>\n",
       "    </tbody>\n",
       "</table>"
      ],
      "text/plain": [
       "++\n",
       "||\n",
       "++\n",
       "++"
      ]
     },
     "execution_count": 824,
     "metadata": {},
     "output_type": "execute_result"
    }
   ],
   "source": [
    "%%sql\n",
    "\n",
    "CREATE OR REPLACE FUNCTION get_effect_id(\n",
    "    p_variant_name   VARCHAR,\n",
    "    p_effect_name VARCHAR\n",
    ") RETURNS INTEGER\n",
    "LANGUAGE plpgsql\n",
    "AS $$\n",
    "DECLARE\n",
    "    effect_id INTEGER;\n",
    "BEGIN\n",
    "    SELECT e.id\n",
    "      INTO effect_id\n",
    "      FROM effect e\n",
    "      JOIN variant vt ON vt.id = e.variant_id\n",
    "     WHERE vt.name = p_variant_name\n",
    "       AND e.name = p_effect_name;\n",
    "\n",
    "    IF NOT FOUND THEN\n",
    "        RAISE EXCEPTION 'effect \"%\" in variant \"%\" not found', p_effect_name, p_variant_name;\n",
    "    END IF;\n",
    "\n",
    "    RETURN effect_id;\n",
    "END;\n",
    "$$;"
   ]
  },
  {
   "cell_type": "markdown",
   "id": "dac0d2aa",
   "metadata": {},
   "source": [
    "## Add Parameter Delta Effect to Variation"
   ]
  },
  {
   "cell_type": "code",
   "execution_count": 825,
   "id": "44d7fc64",
   "metadata": {
    "vscode": {
     "languageId": "sql"
    }
   },
   "outputs": [
    {
     "data": {
      "text/html": [
       "<span style=\"None\">Running query in &#x27;postgresql://notebook@localhost:5432/sahuagin&#x27;</span>"
      ],
      "text/plain": [
       "Running query in 'postgresql://notebook@localhost:5432/sahuagin'"
      ]
     },
     "metadata": {},
     "output_type": "display_data"
    },
    {
     "data": {
      "text/html": [
       "<table>\n",
       "    <thead>\n",
       "        <tr>\n",
       "        </tr>\n",
       "    </thead>\n",
       "    <tbody>\n",
       "    </tbody>\n",
       "</table>"
      ],
      "text/plain": [
       "++\n",
       "||\n",
       "++\n",
       "++"
      ]
     },
     "execution_count": 825,
     "metadata": {},
     "output_type": "execute_result"
    }
   ],
   "source": [
    "%%sql\n",
    "\n",
    "CREATE OR REPLACE PROCEDURE set_continuous_variation_span(\n",
    "    p_name                    VARCHAR,\n",
    "    p_variant_name            VARCHAR,\n",
    "    p_activating_variant_path JSON,\n",
    "    p_to_modify_variant_path  JSON,\n",
    "    p_delta_mode              DOUBLE PRECISION,\n",
    "    p_delta_conc              DOUBLE PRECISION,\n",
    "    p_delta_skew              DOUBLE PRECISION\n",
    ")\n",
    "LANGUAGE plpgsql\n",
    "AS $$\n",
    "DECLARE\n",
    "    v_variant_id   INT;\n",
    "    v_variation_id INT;\n",
    "    v_effect_id    INT;\n",
    "BEGIN\n",
    "    v_variant_id := get_variant_id(p_variant_name);\n",
    "    v_variation_id := get_variation_id_by_paths(v_variant_id, p_activating_variant_path, p_to_modify_variant_path);\n",
    "    \n",
    "    INSERT INTO effect(name, variant_id, variation_id)\n",
    "    VALUES (p_name, v_variant_id, v_variation_id)\n",
    "    ON CONFLICT (name, variant_id) DO UPDATE\n",
    "       SET variation_id = EXCLUDED.variation_id\n",
    "    RETURNING id INTO v_effect_id;\n",
    "    \n",
    "    INSERT INTO variation_continuous_attr(effect_id, delta_mode, delta_conc, delta_skew)\n",
    "    VALUES (v_effect_id, p_delta_mode, p_delta_conc, p_delta_skew);\n",
    "END;\n",
    "$$;"
   ]
  },
  {
   "cell_type": "markdown",
   "id": "5dbec028",
   "metadata": {},
   "source": [
    "## Add Additional Possibility Effect to Variation"
   ]
  },
  {
   "cell_type": "code",
   "execution_count": 826,
   "id": "3028dd2d",
   "metadata": {
    "vscode": {
     "languageId": "sql"
    }
   },
   "outputs": [
    {
     "data": {
      "text/html": [
       "<span style=\"None\">Running query in &#x27;postgresql://notebook@localhost:5432/sahuagin&#x27;</span>"
      ],
      "text/plain": [
       "Running query in 'postgresql://notebook@localhost:5432/sahuagin'"
      ]
     },
     "metadata": {},
     "output_type": "display_data"
    },
    {
     "data": {
      "text/html": [
       "<table>\n",
       "    <thead>\n",
       "        <tr>\n",
       "        </tr>\n",
       "    </thead>\n",
       "    <tbody>\n",
       "    </tbody>\n",
       "</table>"
      ],
      "text/plain": [
       "++\n",
       "||\n",
       "++\n",
       "++"
      ]
     },
     "execution_count": 826,
     "metadata": {},
     "output_type": "execute_result"
    }
   ],
   "source": [
    "%%sql\n",
    "\n",
    "CREATE OR REPLACE PROCEDURE set_span_activating_span(\n",
    "    p_name                    VARCHAR,\n",
    "    p_variant_name            VARCHAR,\n",
    "    p_activating_variant_path JSON,\n",
    "    p_to_modify_variant_path  JSON,\n",
    "    p_span_label              VARCHAR,\n",
    "    p_weight                  DOUBLE PRECISION\n",
    ")\n",
    "LANGUAGE plpgsql\n",
    "AS $$\n",
    "DECLARE\n",
    "    v_variant_id   INT;\n",
    "    v_variation_id INT;\n",
    "    v_attribute_id INT;\n",
    "    v_span_id      INT;\n",
    "    v_effect_id    INT;\n",
    "BEGIN\n",
    "    v_variant_id := get_variant_id(p_variant_name);\n",
    "    v_variation_id := get_variation_id_by_paths(v_variant_id, p_activating_variant_path, p_to_modify_variant_path);\n",
    "\n",
    "    INSERT INTO effect(name, variant_id, variation_id)\n",
    "    VALUES (p_name, v_variant_id, v_variation_id)\n",
    "    ON CONFLICT (name, variant_id) DO UPDATE\n",
    "       SET variation_id = EXCLUDED.variation_id\n",
    "    RETURNING id INTO v_effect_id;\n",
    "\n",
    "    SELECT a.id\n",
    "      INTO v_attribute_id\n",
    "      FROM variation var\n",
    "      JOIN vavspan_attr vav ON var.to_modify_vavspan_attr_id = vav.id\n",
    "      JOIN variant_attribute va ON va.id = vav.variant_attribute_id\n",
    "      JOIN attribute a ON a.id = va.attribute_id\n",
    "     WHERE var.id = v_variation_id;\n",
    "\n",
    "    INSERT INTO span(attribute_id, label, type, is_percentage_pinned, weight, max_value, min_value)\n",
    "    VALUES (v_attribute_id, p_span_label, 'discrete', false, p_weight, NULL, NULL)\n",
    "    RETURNING id INTO v_span_id;\n",
    "    \n",
    "    INSERT INTO variation_activated_span(variation_id, span_id)\n",
    "    VALUES (v_variation_id, v_span_id);\n",
    "END;\n",
    "$$;"
   ]
  },
  {
   "cell_type": "markdown",
   "id": "43b5d057",
   "metadata": {},
   "source": [
    "### delete_orphaned_span"
   ]
  },
  {
   "cell_type": "code",
   "execution_count": 827,
   "id": "ce4618fe",
   "metadata": {
    "vscode": {
     "languageId": "sql"
    }
   },
   "outputs": [
    {
     "data": {
      "text/html": [
       "<span style=\"None\">Running query in &#x27;postgresql://notebook@localhost:5432/sahuagin&#x27;</span>"
      ],
      "text/plain": [
       "Running query in 'postgresql://notebook@localhost:5432/sahuagin'"
      ]
     },
     "metadata": {},
     "output_type": "display_data"
    },
    {
     "data": {
      "text/html": [
       "<table>\n",
       "    <thead>\n",
       "        <tr>\n",
       "        </tr>\n",
       "    </thead>\n",
       "    <tbody>\n",
       "    </tbody>\n",
       "</table>"
      ],
      "text/plain": [
       "++\n",
       "||\n",
       "++\n",
       "++"
      ]
     },
     "execution_count": 827,
     "metadata": {},
     "output_type": "execute_result"
    }
   ],
   "source": [
    "%%sql\n",
    "\n",
    "CREATE OR REPLACE FUNCTION delete_orphaned_span() RETURNS TRIGGER AS $$\n",
    "BEGIN\n",
    "    DELETE FROM span WHERE id = OLD.span_id;\n",
    "    RETURN OLD;\n",
    "END;\n",
    "$$ LANGUAGE plpgsql;"
   ]
  },
  {
   "cell_type": "markdown",
   "id": "59ad282a",
   "metadata": {},
   "source": [
    "### trg_delete_span_after_activation_delete"
   ]
  },
  {
   "cell_type": "code",
   "execution_count": 828,
   "id": "5b9fb739",
   "metadata": {
    "vscode": {
     "languageId": "sql"
    }
   },
   "outputs": [
    {
     "data": {
      "text/html": [
       "<span style=\"None\">Running query in &#x27;postgresql://notebook@localhost:5432/sahuagin&#x27;</span>"
      ],
      "text/plain": [
       "Running query in 'postgresql://notebook@localhost:5432/sahuagin'"
      ]
     },
     "metadata": {},
     "output_type": "display_data"
    },
    {
     "data": {
      "text/html": [
       "<table>\n",
       "    <thead>\n",
       "        <tr>\n",
       "        </tr>\n",
       "    </thead>\n",
       "    <tbody>\n",
       "    </tbody>\n",
       "</table>"
      ],
      "text/plain": [
       "++\n",
       "||\n",
       "++\n",
       "++"
      ]
     },
     "execution_count": 828,
     "metadata": {},
     "output_type": "execute_result"
    }
   ],
   "source": [
    "%%sql\n",
    "\n",
    "CREATE OR REPLACE TRIGGER trg_delete_span_after_activation_delete\n",
    "AFTER DELETE ON variation_activated_span\n",
    "FOR EACH ROW\n",
    "EXECUTE FUNCTION delete_orphaned_span();"
   ]
  },
  {
   "cell_type": "markdown",
   "id": "965fe07b",
   "metadata": {},
   "source": [
    "## Add Delta Weight Effect to Variation"
   ]
  },
  {
   "cell_type": "code",
   "execution_count": 829,
   "id": "1b05bfbc",
   "metadata": {
    "vscode": {
     "languageId": "sql"
    }
   },
   "outputs": [
    {
     "data": {
      "text/html": [
       "<span style=\"None\">Running query in &#x27;postgresql://notebook@localhost:5432/sahuagin&#x27;</span>"
      ],
      "text/plain": [
       "Running query in 'postgresql://notebook@localhost:5432/sahuagin'"
      ]
     },
     "metadata": {},
     "output_type": "display_data"
    },
    {
     "data": {
      "text/html": [
       "<table>\n",
       "    <thead>\n",
       "        <tr>\n",
       "        </tr>\n",
       "    </thead>\n",
       "    <tbody>\n",
       "    </tbody>\n",
       "</table>"
      ],
      "text/plain": [
       "++\n",
       "||\n",
       "++\n",
       "++"
      ]
     },
     "execution_count": 829,
     "metadata": {},
     "output_type": "execute_result"
    }
   ],
   "source": [
    "%%sql\n",
    "\n",
    "CREATE OR REPLACE PROCEDURE set_delta_weight_span(\n",
    "    p_name                    VARCHAR,\n",
    "    p_variant_name            VARCHAR,\n",
    "    p_activating_variant_path JSON,\n",
    "    p_to_modify_variant_path  JSON,\n",
    "    p_span_label              VARCHAR,\n",
    "    p_delta_weight            DOUBLE PRECISION\n",
    ")\n",
    "LANGUAGE plpgsql\n",
    "AS $$\n",
    "DECLARE\n",
    "    v_variant_id   INT;\n",
    "    v_variation_id INT;\n",
    "    v_attribute_id INT;\n",
    "    v_span_id      INT;\n",
    "    v_effect_id    INT;\n",
    "BEGIN\n",
    "    v_variant_id := get_variant_id(p_variant_name);\n",
    "    v_variation_id := get_variation_id_by_paths(v_variant_id, p_activating_variant_path, p_to_modify_variant_path);\n",
    "\n",
    "    INSERT INTO effect(name, variant_id, variation_id)\n",
    "    VALUES (p_name, v_variant_id, v_variation_id)\n",
    "    ON CONFLICT (name, variant_id) DO UPDATE\n",
    "       SET variation_id = EXCLUDED.variation_id\n",
    "    RETURNING id INTO v_effect_id;\n",
    "\n",
    "    SELECT a.id\n",
    "      INTO v_attribute_id\n",
    "      FROM variation var\n",
    "      JOIN vavspan_attr vav ON var.to_modify_vavspan_attr_id = vav.id\n",
    "      JOIN variant_attribute va ON va.id = vav.variant_attribute_id\n",
    "      JOIN attribute a ON a.id = va.attribute_id\n",
    "     WHERE var.id = v_variation_id;\n",
    "\n",
    "    v_span_id := get_span_id(p_attribute_name, 'discrete', p_span_label);\n",
    "    \n",
    "    INSERT INTO variation_delta_weight(variation_id, span_id, delta_weight)\n",
    "    VALUES (v_variation_id, v_span_id, p_delta_weight);\n",
    "END;\n",
    "$$;"
   ]
  },
  {
   "cell_type": "markdown",
   "id": "9bebe162",
   "metadata": {},
   "source": [
    "## Add Removed Possibility Effect to Variation"
   ]
  },
  {
   "cell_type": "code",
   "execution_count": 830,
   "id": "cb2d77ff",
   "metadata": {
    "vscode": {
     "languageId": "sql"
    }
   },
   "outputs": [
    {
     "data": {
      "text/html": [
       "<span style=\"None\">Running query in &#x27;postgresql://notebook@localhost:5432/sahuagin&#x27;</span>"
      ],
      "text/plain": [
       "Running query in 'postgresql://notebook@localhost:5432/sahuagin'"
      ]
     },
     "metadata": {},
     "output_type": "display_data"
    },
    {
     "data": {
      "text/html": [
       "<table>\n",
       "    <thead>\n",
       "        <tr>\n",
       "        </tr>\n",
       "    </thead>\n",
       "    <tbody>\n",
       "    </tbody>\n",
       "</table>"
      ],
      "text/plain": [
       "++\n",
       "||\n",
       "++\n",
       "++"
      ]
     },
     "execution_count": 830,
     "metadata": {},
     "output_type": "execute_result"
    }
   ],
   "source": [
    "%%sql\n",
    "\n",
    "CREATE OR REPLACE PROCEDURE add_removed_possibility_effect(\n",
    "    p_name                    VARCHAR,\n",
    "    p_variant_name            VARCHAR,\n",
    "    p_activating_variant_path JSON,\n",
    "    p_to_modify_variant_path  JSON,\n",
    "    p_span_label              VARCHAR\n",
    ")\n",
    "LANGUAGE plpgsql\n",
    "AS $$\n",
    "DECLARE\n",
    "    v_variant_id   INT;\n",
    "    v_variation_id INT;\n",
    "    v_attribute_id INT;\n",
    "    v_span_id      INT;\n",
    "    v_effect_id    INT;\n",
    "BEGIN\n",
    "    v_variant_id := get_variant_id(p_variant_name);\n",
    "    v_variation_id := get_variation_id_by_paths(v_variant_id, p_activating_variant_path, p_to_modify_variant_path);\n",
    "\n",
    "    INSERT INTO effect(name, variant_id, variation_id)\n",
    "    VALUES (p_name, v_variant_id, v_variation_id)\n",
    "    ON CONFLICT (name, variant_id) DO UPDATE\n",
    "       SET variation_id = EXCLUDED.variation_id\n",
    "    RETURNING id INTO v_effect_id;\n",
    "\n",
    "    SELECT a.id\n",
    "      INTO v_attribute_id\n",
    "      FROM variation var\n",
    "      JOIN vavspan_attr vav ON var.to_modify_vavspan_attr_id = vav.id\n",
    "      JOIN variant_attribute va ON va.id = vav.variant_attribute_id\n",
    "      JOIN attribute a ON a.id = va.attribute_id\n",
    "     WHERE var.id = v_variation_id;\n",
    "\n",
    "    v_span_id := get_span_id(p_attribute_name, 'discrete', p_span_label);\n",
    "    \n",
    "    INSERT INTO variation_inactive_span(variation_id, span_id)\n",
    "    VALUES (v_variation_id, v_span_id);\n",
    "END;\n",
    "$$;"
   ]
  },
  {
   "cell_type": "markdown",
   "id": "58191248-9e13-40e6-8942-7914c89c99a0",
   "metadata": {
    "jp-MarkdownHeadingCollapsed": true
   },
   "source": [
    "# Inspect Schema"
   ]
  },
  {
   "cell_type": "markdown",
   "id": "f21806f2-88ed-46b4-aa46-763733989735",
   "metadata": {},
   "source": [
    "## List Tables"
   ]
  },
  {
   "cell_type": "code",
   "execution_count": 831,
   "id": "073e64ae-9d52-4ad0-ac5b-836d98f60deb",
   "metadata": {},
   "outputs": [
    {
     "data": {
      "text/html": [
       "<span style=\"None\">Running query in &#x27;postgresql://notebook@localhost:5432/sahuagin&#x27;</span>"
      ],
      "text/plain": [
       "Running query in 'postgresql://notebook@localhost:5432/sahuagin'"
      ]
     },
     "metadata": {},
     "output_type": "display_data"
    },
    {
     "data": {
      "text/html": [
       "<span style=\"color: green\">19 rows affected.</span>"
      ],
      "text/plain": [
       "19 rows affected."
      ]
     },
     "metadata": {},
     "output_type": "display_data"
    },
    {
     "data": {
      "text/html": [
       "<table>\n",
       "    <thead>\n",
       "        <tr>\n",
       "            <th>name</th>\n",
       "        </tr>\n",
       "    </thead>\n",
       "    <tbody>\n",
       "        <tr>\n",
       "            <td>attribute</td>\n",
       "        </tr>\n",
       "        <tr>\n",
       "            <td>debug_log</td>\n",
       "        </tr>\n",
       "        <tr>\n",
       "            <td>effect</td>\n",
       "        </tr>\n",
       "        <tr>\n",
       "            <td>entity</td>\n",
       "        </tr>\n",
       "        <tr>\n",
       "            <td>entity_group</td>\n",
       "        </tr>\n",
       "        <tr>\n",
       "            <td>entity_group_link</td>\n",
       "        </tr>\n",
       "        <tr>\n",
       "            <td>entity_state</td>\n",
       "        </tr>\n",
       "        <tr>\n",
       "            <td>entity_varattr_value</td>\n",
       "        </tr>\n",
       "        <tr>\n",
       "            <td>evav_lock</td>\n",
       "        </tr>\n",
       "        <tr>\n",
       "            <td>span</td>\n",
       "        </tr>\n",
       "        <tr>\n",
       "            <td>variant</td>\n",
       "        </tr>\n",
       "        <tr>\n",
       "            <td>variant_attr_span</td>\n",
       "        </tr>\n",
       "        <tr>\n",
       "            <td>variant_attribute</td>\n",
       "        </tr>\n",
       "        <tr>\n",
       "            <td>variation</td>\n",
       "        </tr>\n",
       "        <tr>\n",
       "            <td>variation_activated_span</td>\n",
       "        </tr>\n",
       "        <tr>\n",
       "            <td>variation_continuous_attr</td>\n",
       "        </tr>\n",
       "        <tr>\n",
       "            <td>variation_delta_weight</td>\n",
       "        </tr>\n",
       "        <tr>\n",
       "            <td>variation_inactive_span</td>\n",
       "        </tr>\n",
       "        <tr>\n",
       "            <td>vavspan_attr</td>\n",
       "        </tr>\n",
       "    </tbody>\n",
       "</table>"
      ],
      "text/plain": [
       "+---------------------------+\n",
       "|            name           |\n",
       "+---------------------------+\n",
       "|         attribute         |\n",
       "|         debug_log         |\n",
       "|           effect          |\n",
       "|           entity          |\n",
       "|        entity_group       |\n",
       "|     entity_group_link     |\n",
       "|        entity_state       |\n",
       "|    entity_varattr_value   |\n",
       "|         evav_lock         |\n",
       "|            span           |\n",
       "|          variant          |\n",
       "|     variant_attr_span     |\n",
       "|     variant_attribute     |\n",
       "|         variation         |\n",
       "|  variation_activated_span |\n",
       "| variation_continuous_attr |\n",
       "|   variation_delta_weight  |\n",
       "|  variation_inactive_span  |\n",
       "|        vavspan_attr       |\n",
       "+---------------------------+"
      ]
     },
     "execution_count": 831,
     "metadata": {},
     "output_type": "execute_result"
    }
   ],
   "source": [
    "%%sql\n",
    "\n",
    "SELECT tablename AS name\n",
    "FROM pg_catalog.pg_tables\n",
    "WHERE schemaname NOT IN ('pg_catalog', 'information_schema')\n",
    "ORDER BY schemaname, tablename;"
   ]
  },
  {
   "cell_type": "markdown",
   "id": "616e5ce1",
   "metadata": {},
   "source": [
    "## List Procedures"
   ]
  },
  {
   "cell_type": "code",
   "execution_count": 832,
   "id": "c42ce3b8",
   "metadata": {
    "vscode": {
     "languageId": "sql"
    }
   },
   "outputs": [
    {
     "data": {
      "text/html": [
       "<span style=\"None\">Running query in &#x27;postgresql://notebook@localhost:5432/sahuagin&#x27;</span>"
      ],
      "text/plain": [
       "Running query in 'postgresql://notebook@localhost:5432/sahuagin'"
      ]
     },
     "metadata": {},
     "output_type": "display_data"
    },
    {
     "data": {
      "text/html": [
       "<span style=\"color: green\">30 rows affected.</span>"
      ],
      "text/plain": [
       "30 rows affected."
      ]
     },
     "metadata": {},
     "output_type": "display_data"
    },
    {
     "data": {
      "text/html": [
       "<table>\n",
       "    <thead>\n",
       "        <tr>\n",
       "            <th>name</th>\n",
       "            <th>arguments</th>\n",
       "        </tr>\n",
       "    </thead>\n",
       "    <tbody>\n",
       "        <tr>\n",
       "            <td>add_cont_span_to_attr</td>\n",
       "            <td>IN p_attribute_id integer, IN p_label character varying, IN p_new_min double precision, IN p_new_max double precision</td>\n",
       "        </tr>\n",
       "        <tr>\n",
       "            <td>add_continuous_attribute</td>\n",
       "            <td>IN p_name character varying, IN p_min_value double precision, IN p_mode_value double precision, IN p_max_value double precision, IN p_concentration double precision, IN p_skew double precision, IN p_decimals integer, IN p_has_labels boolean, IN p_has_value boolean, IN p_units character varying, IN p_spans json DEFAULT NULL::json</td>\n",
       "        </tr>\n",
       "        <tr>\n",
       "            <td>add_continuous_attribute</td>\n",
       "            <td>IN p_name character varying, IN p_min_value double precision, IN p_mode_value double precision, IN p_max_value double precision, IN p_concentration double precision, IN p_skew double precision, IN p_decimals integer, IN p_has_labels boolean, IN p_has_value boolean, IN p_units character varying</td>\n",
       "        </tr>\n",
       "        <tr>\n",
       "            <td>add_disc_span_to_attr</td>\n",
       "            <td>IN p_attribute_id integer, IN p_label character varying</td>\n",
       "        </tr>\n",
       "        <tr>\n",
       "            <td>add_discrete_attribute</td>\n",
       "            <td>IN in_name character varying</td>\n",
       "        </tr>\n",
       "        <tr>\n",
       "            <td>add_discrete_attribute</td>\n",
       "            <td>IN in_name character varying, IN in_spans json</td>\n",
       "        </tr>\n",
       "        <tr>\n",
       "            <td>add_entity</td>\n",
       "            <td>IN in_name character varying, IN in_variant_id integer</td>\n",
       "        </tr>\n",
       "        <tr>\n",
       "            <td>add_removed_possibility_effect</td>\n",
       "            <td>IN p_name character varying, IN p_variant_name character varying, IN p_activating_variant_path json, IN p_to_modify_variant_path json, IN p_span_label character varying</td>\n",
       "        </tr>\n",
       "        <tr>\n",
       "            <td>add_variant</td>\n",
       "            <td>IN in_variant_name character varying, IN in_attr_keys json</td>\n",
       "        </tr>\n",
       "        <tr>\n",
       "            <td>add_variant</td>\n",
       "            <td>IN in_variant_name character varying</td>\n",
       "        </tr>\n",
       "        <tr>\n",
       "            <td>add_variation</td>\n",
       "            <td>IN p_activating_span_id integer, IN p_activating_variant_attr_span_id integer, IN p_activating_variant_attribute_id integer, IN p_to_modify_variant_attr_span_id integer, IN p_to_modify_variant_attribute_id integer</td>\n",
       "        </tr>\n",
       "        <tr>\n",
       "            <td>add_variation</td>\n",
       "            <td>IN p_activating_span_id integer, IN p_activating_variant_path json, IN p_to_modify_variant_id integer, IN p_to_modify_variant_path json</td>\n",
       "        </tr>\n",
       "        <tr>\n",
       "            <td>add_variation</td>\n",
       "            <td>IN p_variant_id integer, IN p_activating_variant_path json, IN p_to_modify_variant_path json</td>\n",
       "        </tr>\n",
       "        <tr>\n",
       "            <td>delete_continous_attribute</td>\n",
       "            <td>IN p_attribute_name character varying</td>\n",
       "        </tr>\n",
       "        <tr>\n",
       "            <td>delete_continuous_attribute</td>\n",
       "            <td>IN p_attribute_name character varying</td>\n",
       "        </tr>\n",
       "        <tr>\n",
       "            <td>delete_discrete_attribute</td>\n",
       "            <td>IN p_attribute_name character varying</td>\n",
       "        </tr>\n",
       "        <tr>\n",
       "            <td>delete_variant</td>\n",
       "            <td>IN p_variant_name character varying</td>\n",
       "        </tr>\n",
       "        <tr>\n",
       "            <td>generate_entity_group</td>\n",
       "            <td>IN p_variant_id integer, IN p_group_name character varying, IN p_entity_name_template character varying, IN p_num_entities integer</td>\n",
       "        </tr>\n",
       "        <tr>\n",
       "            <td>generate_entity_state</td>\n",
       "            <td>IN p_entity_id integer, IN p_time double precision, IN p_regenerate_entity_state_id integer</td>\n",
       "        </tr>\n",
       "        <tr>\n",
       "            <td>link_attr_to_variant</td>\n",
       "            <td>IN p_variant_id integer, IN p_attribute_id integer, IN p_name character varying, IN p_position integer</td>\n",
       "        </tr>\n",
       "        <tr>\n",
       "            <td>link_vavspan_attr</td>\n",
       "            <td>IN p_variant_attribute_id integer, IN p_variant_attr_span_id integer</td>\n",
       "        </tr>\n",
       "        <tr>\n",
       "            <td>modify_disc_span_weight</td>\n",
       "            <td>IN p_span_id integer, IN p_new_weight double precision</td>\n",
       "        </tr>\n",
       "        <tr>\n",
       "            <td>set_continuous_variation_span</td>\n",
       "            <td>IN p_variation_id integer, IN p_delta_mode double precision, IN p_delta_conc double precision, IN p_delta_skew double precision</td>\n",
       "        </tr>\n",
       "        <tr>\n",
       "            <td>set_continuous_variation_span</td>\n",
       "            <td>IN p_name character varying, IN p_variant_name character varying, IN p_activating_variant_path json, IN p_to_modify_variant_path json, IN p_delta_mode double precision, IN p_delta_conc double precision, IN p_delta_skew double precision</td>\n",
       "        </tr>\n",
       "        <tr>\n",
       "            <td>set_delta_weight_span</td>\n",
       "            <td>IN p_name character varying, IN p_variant_name character varying, IN p_activating_variant_path json, IN p_to_modify_variant_path json, IN p_span_label character varying, IN p_delta_weight double precision</td>\n",
       "        </tr>\n",
       "        <tr>\n",
       "            <td>set_delta_weight_span</td>\n",
       "            <td>IN p_variation_id integer, IN p_span_id integer, IN p_delta_weight double precision</td>\n",
       "        </tr>\n",
       "        <tr>\n",
       "            <td>set_span_activating_span</td>\n",
       "            <td>IN p_name character varying, IN p_variant_name character varying, IN p_activating_variant_path json, IN p_to_modify_variant_path json, IN p_span_label character varying, IN p_weight double precision</td>\n",
       "        </tr>\n",
       "        <tr>\n",
       "            <td>set_span_activating_span</td>\n",
       "            <td>IN p_variation_id integer, IN p_span_id integer</td>\n",
       "        </tr>\n",
       "        <tr>\n",
       "            <td>set_span_disabling_span</td>\n",
       "            <td>IN p_variation_id integer, IN p_span_id integer</td>\n",
       "        </tr>\n",
       "        <tr>\n",
       "            <td>set_variant_attr_span</td>\n",
       "            <td>IN p_variant_id integer, IN p_variant_attribute_id integer, IN p_span_id integer</td>\n",
       "        </tr>\n",
       "    </tbody>\n",
       "</table>"
      ],
      "text/plain": [
       "+--------------------------------+--------------------------------------------------------------------------------------------------------------------------------------------------------------------------------------------------------------------------------------------------------------------------------------------------------------------------------------------+\n",
       "|              name              |                                                                                                                                                                 arguments                                                                                                                                                                  |\n",
       "+--------------------------------+--------------------------------------------------------------------------------------------------------------------------------------------------------------------------------------------------------------------------------------------------------------------------------------------------------------------------------------------+\n",
       "|     add_cont_span_to_attr      |                                                                                                           IN p_attribute_id integer, IN p_label character varying, IN p_new_min double precision, IN p_new_max double precision                                                                                                            |\n",
       "|    add_continuous_attribute    | IN p_name character varying, IN p_min_value double precision, IN p_mode_value double precision, IN p_max_value double precision, IN p_concentration double precision, IN p_skew double precision, IN p_decimals integer, IN p_has_labels boolean, IN p_has_value boolean, IN p_units character varying, IN p_spans json DEFAULT NULL::json |\n",
       "|    add_continuous_attribute    |                   IN p_name character varying, IN p_min_value double precision, IN p_mode_value double precision, IN p_max_value double precision, IN p_concentration double precision, IN p_skew double precision, IN p_decimals integer, IN p_has_labels boolean, IN p_has_value boolean, IN p_units character varying                   |\n",
       "|     add_disc_span_to_attr      |                                                                                                                                          IN p_attribute_id integer, IN p_label character varying                                                                                                                                           |\n",
       "|     add_discrete_attribute     |                                                                                                                                                        IN in_name character varying                                                                                                                                                        |\n",
       "|     add_discrete_attribute     |                                                                                                                                               IN in_name character varying, IN in_spans json                                                                                                                                               |\n",
       "|           add_entity           |                                                                                                                                           IN in_name character varying, IN in_variant_id integer                                                                                                                                           |\n",
       "| add_removed_possibility_effect |                                                                                  IN p_name character varying, IN p_variant_name character varying, IN p_activating_variant_path json, IN p_to_modify_variant_path json, IN p_span_label character varying                                                                                  |\n",
       "|          add_variant           |                                                                                                                                         IN in_variant_name character varying, IN in_attr_keys json                                                                                                                                         |\n",
       "|          add_variant           |                                                                                                                                                    IN in_variant_name character varying                                                                                                                                                    |\n",
       "|         add_variation          |                                                           IN p_activating_span_id integer, IN p_activating_variant_attr_span_id integer, IN p_activating_variant_attribute_id integer, IN p_to_modify_variant_attr_span_id integer, IN p_to_modify_variant_attribute_id integer                                                            |\n",
       "|         add_variation          |                                                                                                  IN p_activating_span_id integer, IN p_activating_variant_path json, IN p_to_modify_variant_id integer, IN p_to_modify_variant_path json                                                                                                   |\n",
       "|         add_variation          |                                                                                                                        IN p_variant_id integer, IN p_activating_variant_path json, IN p_to_modify_variant_path json                                                                                                                        |\n",
       "|   delete_continous_attribute   |                                                                                                                                                   IN p_attribute_name character varying                                                                                                                                                    |\n",
       "|  delete_continuous_attribute   |                                                                                                                                                   IN p_attribute_name character varying                                                                                                                                                    |\n",
       "|   delete_discrete_attribute    |                                                                                                                                                   IN p_attribute_name character varying                                                                                                                                                    |\n",
       "|         delete_variant         |                                                                                                                                                    IN p_variant_name character varying                                                                                                                                                     |\n",
       "|     generate_entity_group      |                                                                                                     IN p_variant_id integer, IN p_group_name character varying, IN p_entity_name_template character varying, IN p_num_entities integer                                                                                                     |\n",
       "|     generate_entity_state      |                                                                                                                        IN p_entity_id integer, IN p_time double precision, IN p_regenerate_entity_state_id integer                                                                                                                         |\n",
       "|      link_attr_to_variant      |                                                                                                                   IN p_variant_id integer, IN p_attribute_id integer, IN p_name character varying, IN p_position integer                                                                                                                   |\n",
       "|       link_vavspan_attr        |                                                                                                                                    IN p_variant_attribute_id integer, IN p_variant_attr_span_id integer                                                                                                                                    |\n",
       "|    modify_disc_span_weight     |                                                                                                                                           IN p_span_id integer, IN p_new_weight double precision                                                                                                                                           |\n",
       "| set_continuous_variation_span  |                                                                                                      IN p_variation_id integer, IN p_delta_mode double precision, IN p_delta_conc double precision, IN p_delta_skew double precision                                                                                                       |\n",
       "| set_continuous_variation_span  |                                                IN p_name character varying, IN p_variant_name character varying, IN p_activating_variant_path json, IN p_to_modify_variant_path json, IN p_delta_mode double precision, IN p_delta_conc double precision, IN p_delta_skew double precision                                                 |\n",
       "|     set_delta_weight_span      |                                                                IN p_name character varying, IN p_variant_name character varying, IN p_activating_variant_path json, IN p_to_modify_variant_path json, IN p_span_label character varying, IN p_delta_weight double precision                                                                |\n",
       "|     set_delta_weight_span      |                                                                                                                            IN p_variation_id integer, IN p_span_id integer, IN p_delta_weight double precision                                                                                                                             |\n",
       "|    set_span_activating_span    |                                                                   IN p_name character varying, IN p_variant_name character varying, IN p_activating_variant_path json, IN p_to_modify_variant_path json, IN p_span_label character varying, IN p_weight double precision                                                                   |\n",
       "|    set_span_activating_span    |                                                                                                                                              IN p_variation_id integer, IN p_span_id integer                                                                                                                                               |\n",
       "|    set_span_disabling_span     |                                                                                                                                              IN p_variation_id integer, IN p_span_id integer                                                                                                                                               |\n",
       "|     set_variant_attr_span      |                                                                                                                              IN p_variant_id integer, IN p_variant_attribute_id integer, IN p_span_id integer                                                                                                                              |\n",
       "+--------------------------------+--------------------------------------------------------------------------------------------------------------------------------------------------------------------------------------------------------------------------------------------------------------------------------------------------------------------------------------------+"
      ]
     },
     "execution_count": 832,
     "metadata": {},
     "output_type": "execute_result"
    }
   ],
   "source": [
    "%%sql\n",
    "\n",
    "SELECT proname AS name, pg_catalog.pg_get_function_arguments(p.oid) AS arguments\n",
    "FROM pg_catalog.pg_proc p\n",
    "JOIN pg_catalog.pg_namespace n ON n.oid = p.pronamespace\n",
    "WHERE p.prokind = 'p' AND n.nspname = 'public'\n",
    "ORDER BY n.nspname, proname;"
   ]
  },
  {
   "cell_type": "markdown",
   "id": "957f44b0-fe34-4820-8b89-296ee8526be0",
   "metadata": {},
   "source": [
    "## List Functions"
   ]
  },
  {
   "cell_type": "code",
   "execution_count": 833,
   "id": "b1f77168-da9a-4198-80ea-2eaf89a5ef2b",
   "metadata": {},
   "outputs": [
    {
     "data": {
      "text/html": [
       "<span style=\"None\">Running query in &#x27;postgresql://notebook@localhost:5432/sahuagin&#x27;</span>"
      ],
      "text/plain": [
       "Running query in 'postgresql://notebook@localhost:5432/sahuagin'"
      ]
     },
     "metadata": {},
     "output_type": "display_data"
    },
    {
     "data": {
      "text/html": [
       "<span style=\"color: green\">20 rows affected.</span>"
      ],
      "text/plain": [
       "20 rows affected."
      ]
     },
     "metadata": {},
     "output_type": "display_data"
    },
    {
     "data": {
      "text/html": [
       "<table>\n",
       "    <thead>\n",
       "        <tr>\n",
       "            <th>name</th>\n",
       "            <th>arguments</th>\n",
       "            <th>return_type</th>\n",
       "        </tr>\n",
       "    </thead>\n",
       "    <tbody>\n",
       "        <tr>\n",
       "            <td>compare_vavspan_attr_order</td>\n",
       "            <td>p_a integer, p_b integer</td>\n",
       "            <td>integer</td>\n",
       "        </tr>\n",
       "        <tr>\n",
       "            <td>debug_log</td>\n",
       "            <td>p_procedure_name character varying, p_log_message text</td>\n",
       "            <td>void</td>\n",
       "        </tr>\n",
       "        <tr>\n",
       "            <td>delete_orphaned_span</td>\n",
       "            <td></td>\n",
       "            <td>trigger</td>\n",
       "        </tr>\n",
       "        <tr>\n",
       "            <td>gamma_rng</td>\n",
       "            <td>shape double precision</td>\n",
       "            <td>double precision</td>\n",
       "        </tr>\n",
       "        <tr>\n",
       "            <td>get_attribute_id</td>\n",
       "            <td>p_attribute_name character varying</td>\n",
       "            <td>integer</td>\n",
       "        </tr>\n",
       "        <tr>\n",
       "            <td>get_continuous_attribute</td>\n",
       "            <td>p_attribute_name character varying</td>\n",
       "            <td>TABLE(name character varying, type attribute_type, min double precision, mode double precision, max double precision, concentration double precision, skew double precision, units character varying, decimals integer, has_value boolean, has_labels boolean, span_label character varying, span_min double precision, span_max double precision)</td>\n",
       "        </tr>\n",
       "        <tr>\n",
       "            <td>get_discrete_attribute</td>\n",
       "            <td>p_attribute_name character varying</td>\n",
       "            <td>TABLE(attribute character varying, type attribute_type, span_label character varying, span_weight double precision, is_pinned boolean)</td>\n",
       "        </tr>\n",
       "        <tr>\n",
       "            <td>get_effect_id</td>\n",
       "            <td>p_variant_name character varying, p_effect_name character varying</td>\n",
       "            <td>integer</td>\n",
       "        </tr>\n",
       "        <tr>\n",
       "            <td>get_entity_group_state_details</td>\n",
       "            <td>p_entity_group_id integer</td>\n",
       "            <td>text</td>\n",
       "        </tr>\n",
       "        <tr>\n",
       "            <td>get_entity_state_details</td>\n",
       "            <td>p_entity_id integer, p_time double precision</td>\n",
       "            <td>SETOF entity_state_details</td>\n",
       "        </tr>\n",
       "        <tr>\n",
       "            <td>get_span_id</td>\n",
       "            <td>p_attribute_name character varying, p_span_type attribute_type, p_span_label character varying</td>\n",
       "            <td>integer</td>\n",
       "        </tr>\n",
       "        <tr>\n",
       "            <td>get_variant</td>\n",
       "            <td>p_variant_name character varying</td>\n",
       "            <td>TABLE(generation_index integer, path text, caused json, effected_by json)</td>\n",
       "        </tr>\n",
       "        <tr>\n",
       "            <td>get_variant_id</td>\n",
       "            <td>p_variant_name character varying</td>\n",
       "            <td>integer</td>\n",
       "        </tr>\n",
       "        <tr>\n",
       "            <td>get_variation_id_by_paths</td>\n",
       "            <td>p_variant_id integer, p_activating_variant_path json, p_to_modify_variant_path json</td>\n",
       "            <td>integer</td>\n",
       "        </tr>\n",
       "        <tr>\n",
       "            <td>get_vavspan_attr_chain</td>\n",
       "            <td>p_vavspan_attr_id integer</td>\n",
       "            <td>TABLE(level integer, variant_attribute_id integer, causation_index integer)</td>\n",
       "        </tr>\n",
       "        <tr>\n",
       "            <td>redistribute_unpinned_spans</td>\n",
       "            <td>p_attribute_id integer, p_modified_span_id integer, p_new_weight double precision, p_old_weight double precision</td>\n",
       "            <td>void</td>\n",
       "        </tr>\n",
       "        <tr>\n",
       "            <td>resolve_variant_path</td>\n",
       "            <td>p_variant_id integer, p_path json</td>\n",
       "            <td>integer</td>\n",
       "        </tr>\n",
       "        <tr>\n",
       "            <td>roll_continuous_varattr</td>\n",
       "            <td>p_vavspan_attr_id integer, p_exclude_span_id integer</td>\n",
       "            <td>TABLE(chosen_span_id integer, chosen_value double precision)</td>\n",
       "        </tr>\n",
       "        <tr>\n",
       "            <td>roll_discrete_varattr</td>\n",
       "            <td>p_vavspan_attr_id integer, p_exclude_span_id integer</td>\n",
       "            <td>integer</td>\n",
       "        </tr>\n",
       "        <tr>\n",
       "            <td>weighted_random</td>\n",
       "            <td>min_val double precision, max_val double precision, mode_val double precision, skew double precision DEFAULT 0, concentration double precision DEFAULT 4</td>\n",
       "            <td>double precision</td>\n",
       "        </tr>\n",
       "    </tbody>\n",
       "</table>"
      ],
      "text/plain": [
       "+--------------------------------+----------------------------------------------------------------------------------------------------------------------------------------------------------+----------------------------------------------------------------------------------------------------------------------------------------------------------------------------------------------------------------------------------------------------------------------------------------------------------------------------------------------------+\n",
       "|              name              |                                                                        arguments                                                                         |                                                                                                                                                                    return_type                                                                                                                                                                     |\n",
       "+--------------------------------+----------------------------------------------------------------------------------------------------------------------------------------------------------+----------------------------------------------------------------------------------------------------------------------------------------------------------------------------------------------------------------------------------------------------------------------------------------------------------------------------------------------------+\n",
       "|   compare_vavspan_attr_order   |                                                                 p_a integer, p_b integer                                                                 |                                                                                                                                                                      integer                                                                                                                                                                       |\n",
       "|           debug_log            |                                                  p_procedure_name character varying, p_log_message text                                                  |                                                                                                                                                                        void                                                                                                                                                                        |\n",
       "|      delete_orphaned_span      |                                                                                                                                                          |                                                                                                                                                                      trigger                                                                                                                                                                       |\n",
       "|           gamma_rng            |                                                                  shape double precision                                                                  |                                                                                                                                                                  double precision                                                                                                                                                                  |\n",
       "|        get_attribute_id        |                                                            p_attribute_name character varying                                                            |                                                                                                                                                                      integer                                                                                                                                                                       |\n",
       "|    get_continuous_attribute    |                                                            p_attribute_name character varying                                                            | TABLE(name character varying, type attribute_type, min double precision, mode double precision, max double precision, concentration double precision, skew double precision, units character varying, decimals integer, has_value boolean, has_labels boolean, span_label character varying, span_min double precision, span_max double precision) |\n",
       "|     get_discrete_attribute     |                                                            p_attribute_name character varying                                                            |                                                                                                       TABLE(attribute character varying, type attribute_type, span_label character varying, span_weight double precision, is_pinned boolean)                                                                                                       |\n",
       "|         get_effect_id          |                                            p_variant_name character varying, p_effect_name character varying                                             |                                                                                                                                                                      integer                                                                                                                                                                       |\n",
       "| get_entity_group_state_details |                                                                p_entity_group_id integer                                                                 |                                                                                                                                                                        text                                                                                                                                                                        |\n",
       "|    get_entity_state_details    |                                                       p_entity_id integer, p_time double precision                                                       |                                                                                                                                                             SETOF entity_state_details                                                                                                                                                             |\n",
       "|          get_span_id           |                              p_attribute_name character varying, p_span_type attribute_type, p_span_label character varying                              |                                                                                                                                                                      integer                                                                                                                                                                       |\n",
       "|          get_variant           |                                                             p_variant_name character varying                                                             |                                                                                                                                     TABLE(generation_index integer, path text, caused json, effected_by json)                                                                                                                                      |\n",
       "|         get_variant_id         |                                                             p_variant_name character varying                                                             |                                                                                                                                                                      integer                                                                                                                                                                       |\n",
       "|   get_variation_id_by_paths    |                                   p_variant_id integer, p_activating_variant_path json, p_to_modify_variant_path json                                    |                                                                                                                                                                      integer                                                                                                                                                                       |\n",
       "|     get_vavspan_attr_chain     |                                                                p_vavspan_attr_id integer                                                                 |                                                                                                                                    TABLE(level integer, variant_attribute_id integer, causation_index integer)                                                                                                                                     |\n",
       "|  redistribute_unpinned_spans   |                     p_attribute_id integer, p_modified_span_id integer, p_new_weight double precision, p_old_weight double precision                     |                                                                                                                                                                        void                                                                                                                                                                        |\n",
       "|      resolve_variant_path      |                                                            p_variant_id integer, p_path json                                                             |                                                                                                                                                                      integer                                                                                                                                                                       |\n",
       "|    roll_continuous_varattr     |                                                   p_vavspan_attr_id integer, p_exclude_span_id integer                                                   |                                                                                                                                            TABLE(chosen_span_id integer, chosen_value double precision)                                                                                                                                            |\n",
       "|     roll_discrete_varattr      |                                                   p_vavspan_attr_id integer, p_exclude_span_id integer                                                   |                                                                                                                                                                      integer                                                                                                                                                                       |\n",
       "|        weighted_random         | min_val double precision, max_val double precision, mode_val double precision, skew double precision DEFAULT 0, concentration double precision DEFAULT 4 |                                                                                                                                                                  double precision                                                                                                                                                                  |\n",
       "+--------------------------------+----------------------------------------------------------------------------------------------------------------------------------------------------------+----------------------------------------------------------------------------------------------------------------------------------------------------------------------------------------------------------------------------------------------------------------------------------------------------------------------------------------------------+"
      ]
     },
     "execution_count": 833,
     "metadata": {},
     "output_type": "execute_result"
    }
   ],
   "source": [
    "%%sql\n",
    "\n",
    "SELECT proname AS name,\n",
    "       pg_catalog.pg_get_function_arguments(p.oid) AS arguments,\n",
    "       pg_catalog.pg_get_function_result(p.oid) AS return_type\n",
    "FROM pg_catalog.pg_proc p\n",
    "JOIN pg_catalog.pg_namespace n ON n.oid = p.pronamespace\n",
    "WHERE p.prokind = 'f' AND n.nspname = 'public'\n",
    "ORDER BY n.nspname, proname;"
   ]
  },
  {
   "cell_type": "markdown",
   "id": "4e6a623f-dc54-4e65-92db-f4d8293e4d8e",
   "metadata": {},
   "source": [
    "## List Indices"
   ]
  },
  {
   "cell_type": "code",
   "execution_count": 834,
   "id": "d96079b6-f4e1-40c5-849d-d258592de5f8",
   "metadata": {},
   "outputs": [
    {
     "data": {
      "text/html": [
       "<span style=\"None\">Running query in &#x27;postgresql://notebook@localhost:5432/sahuagin&#x27;</span>"
      ],
      "text/plain": [
       "Running query in 'postgresql://notebook@localhost:5432/sahuagin'"
      ]
     },
     "metadata": {},
     "output_type": "display_data"
    },
    {
     "data": {
      "text/html": [
       "<span style=\"color: green\">73 rows affected.</span>"
      ],
      "text/plain": [
       "73 rows affected."
      ]
     },
     "metadata": {},
     "output_type": "display_data"
    },
    {
     "data": {
      "text/html": [
       "<table>\n",
       "    <thead>\n",
       "        <tr>\n",
       "            <th>index_name</th>\n",
       "            <th>table_name</th>\n",
       "        </tr>\n",
       "    </thead>\n",
       "    <tbody>\n",
       "        <tr>\n",
       "            <td>attribute_name_key</td>\n",
       "            <td>attribute</td>\n",
       "        </tr>\n",
       "        <tr>\n",
       "            <td>attribute_pkey</td>\n",
       "            <td>attribute</td>\n",
       "        </tr>\n",
       "        <tr>\n",
       "            <td>idx_attribute_name</td>\n",
       "            <td>attribute</td>\n",
       "        </tr>\n",
       "        <tr>\n",
       "            <td>debug_log_pkey</td>\n",
       "            <td>debug_log</td>\n",
       "        </tr>\n",
       "        <tr>\n",
       "            <td>effect_pkey</td>\n",
       "            <td>effect</td>\n",
       "        </tr>\n",
       "        <tr>\n",
       "            <td>unique_effect_name_within_variant</td>\n",
       "            <td>effect</td>\n",
       "        </tr>\n",
       "        <tr>\n",
       "            <td>entity_name_key</td>\n",
       "            <td>entity</td>\n",
       "        </tr>\n",
       "        <tr>\n",
       "            <td>entity_pkey</td>\n",
       "            <td>entity</td>\n",
       "        </tr>\n",
       "        <tr>\n",
       "            <td>entity_group_name_key</td>\n",
       "            <td>entity_group</td>\n",
       "        </tr>\n",
       "        <tr>\n",
       "            <td>entity_group_pkey</td>\n",
       "            <td>entity_group</td>\n",
       "        </tr>\n",
       "        <tr>\n",
       "            <td>entity_group_link_pkey</td>\n",
       "            <td>entity_group_link</td>\n",
       "        </tr>\n",
       "        <tr>\n",
       "            <td>idx_entity_group_link_group_id_entity_id</td>\n",
       "            <td>entity_group_link</td>\n",
       "        </tr>\n",
       "        <tr>\n",
       "            <td>unique_link_entity_group</td>\n",
       "            <td>entity_group_link</td>\n",
       "        </tr>\n",
       "        <tr>\n",
       "            <td>entity_state_pkey</td>\n",
       "            <td>entity_state</td>\n",
       "        </tr>\n",
       "        <tr>\n",
       "            <td>idx_entity_state_entity_id</td>\n",
       "            <td>entity_state</td>\n",
       "        </tr>\n",
       "        <tr>\n",
       "            <td>idx_entity_state_entity_time</td>\n",
       "            <td>entity_state</td>\n",
       "        </tr>\n",
       "        <tr>\n",
       "            <td>unique_entity_time</td>\n",
       "            <td>entity_state</td>\n",
       "        </tr>\n",
       "        <tr>\n",
       "            <td>entity_varattr_value_pkey</td>\n",
       "            <td>entity_varattr_value</td>\n",
       "        </tr>\n",
       "        <tr>\n",
       "            <td>idx_entity_varattr_value_entity_state_id</td>\n",
       "            <td>entity_varattr_value</td>\n",
       "        </tr>\n",
       "        <tr>\n",
       "            <td>idx_evav_state_attr_span</td>\n",
       "            <td>entity_varattr_value</td>\n",
       "        </tr>\n",
       "        <tr>\n",
       "            <td>idx_evav_state_vaid</td>\n",
       "            <td>entity_varattr_value</td>\n",
       "        </tr>\n",
       "        <tr>\n",
       "            <td>unique_state_vavspan_attr</td>\n",
       "            <td>entity_varattr_value</td>\n",
       "        </tr>\n",
       "        <tr>\n",
       "            <td>evav_lock_pkey</td>\n",
       "            <td>evav_lock</td>\n",
       "        </tr>\n",
       "        <tr>\n",
       "            <td>idx_evav_lock_locked</td>\n",
       "            <td>evav_lock</td>\n",
       "        </tr>\n",
       "        <tr>\n",
       "            <td>idx_evav_lock_locked_locking</td>\n",
       "            <td>evav_lock</td>\n",
       "        </tr>\n",
       "        <tr>\n",
       "            <td>idx_evav_lock_locking</td>\n",
       "            <td>evav_lock</td>\n",
       "        </tr>\n",
       "        <tr>\n",
       "            <td>unique_evav_lock</td>\n",
       "            <td>evav_lock</td>\n",
       "        </tr>\n",
       "        <tr>\n",
       "            <td>idx_span_attr_type</td>\n",
       "            <td>span</td>\n",
       "        </tr>\n",
       "        <tr>\n",
       "            <td>idx_span_attr_type_pinned</td>\n",
       "            <td>span</td>\n",
       "        </tr>\n",
       "        <tr>\n",
       "            <td>idx_span_attr_type_pinned_wl</td>\n",
       "            <td>span</td>\n",
       "        </tr>\n",
       "        <tr>\n",
       "            <td>idx_span_attribute_id</td>\n",
       "            <td>span</td>\n",
       "        </tr>\n",
       "        <tr>\n",
       "            <td>idx_span_attribute_type</td>\n",
       "            <td>span</td>\n",
       "        </tr>\n",
       "        <tr>\n",
       "            <td>span_pkey</td>\n",
       "            <td>span</td>\n",
       "        </tr>\n",
       "        <tr>\n",
       "            <td>unique_attribute_type_label</td>\n",
       "            <td>span</td>\n",
       "        </tr>\n",
       "        <tr>\n",
       "            <td>idx_variant_name</td>\n",
       "            <td>variant</td>\n",
       "        </tr>\n",
       "        <tr>\n",
       "            <td>variant_name_key</td>\n",
       "            <td>variant</td>\n",
       "        </tr>\n",
       "        <tr>\n",
       "            <td>variant_pkey</td>\n",
       "            <td>variant</td>\n",
       "        </tr>\n",
       "        <tr>\n",
       "            <td>idx_variant_attr_span_span_id</td>\n",
       "            <td>variant_attr_span</td>\n",
       "        </tr>\n",
       "        <tr>\n",
       "            <td>idx_variant_attr_span_vaid_spanid</td>\n",
       "            <td>variant_attr_span</td>\n",
       "        </tr>\n",
       "        <tr>\n",
       "            <td>idx_variant_attr_span_vaid_variant</td>\n",
       "            <td>variant_attr_span</td>\n",
       "        </tr>\n",
       "        <tr>\n",
       "            <td>idx_variant_attr_span_variant_attr</td>\n",
       "            <td>variant_attr_span</td>\n",
       "        </tr>\n",
       "        <tr>\n",
       "            <td>idx_variant_attr_span_variant_attribute_id</td>\n",
       "            <td>variant_attr_span</td>\n",
       "        </tr>\n",
       "        <tr>\n",
       "            <td>unique_variant_attribute_span</td>\n",
       "            <td>variant_attr_span</td>\n",
       "        </tr>\n",
       "        <tr>\n",
       "            <td>variant_attr_span_pkey</td>\n",
       "            <td>variant_attr_span</td>\n",
       "        </tr>\n",
       "        <tr>\n",
       "            <td>idx_variant_attribute_attribute</td>\n",
       "            <td>variant_attribute</td>\n",
       "        </tr>\n",
       "        <tr>\n",
       "            <td>idx_variant_attribute_variant</td>\n",
       "            <td>variant_attribute</td>\n",
       "        </tr>\n",
       "        <tr>\n",
       "            <td>idx_variant_attribute_variant_causation</td>\n",
       "            <td>variant_attribute</td>\n",
       "        </tr>\n",
       "        <tr>\n",
       "            <td>unique_variant_index</td>\n",
       "            <td>variant_attribute</td>\n",
       "        </tr>\n",
       "        <tr>\n",
       "            <td>unique_variant_name</td>\n",
       "            <td>variant_attribute</td>\n",
       "        </tr>\n",
       "        <tr>\n",
       "            <td>variant_attribute_pkey</td>\n",
       "            <td>variant_attribute</td>\n",
       "        </tr>\n",
       "        <tr>\n",
       "            <td>idx_variation_activating_vavspan</td>\n",
       "            <td>variation</td>\n",
       "        </tr>\n",
       "        <tr>\n",
       "            <td>idx_variation_to_modify_vavspan</td>\n",
       "            <td>variation</td>\n",
       "        </tr>\n",
       "        <tr>\n",
       "            <td>unique_span_to_attribute</td>\n",
       "            <td>variation</td>\n",
       "        </tr>\n",
       "        <tr>\n",
       "            <td>variation_pkey</td>\n",
       "            <td>variation</td>\n",
       "        </tr>\n",
       "        <tr>\n",
       "            <td>idx_variation_activated_span_effid_spanid</td>\n",
       "            <td>variation_activated_span</td>\n",
       "        </tr>\n",
       "        <tr>\n",
       "            <td>variation_activated_span_effect_id_key</td>\n",
       "            <td>variation_activated_span</td>\n",
       "        </tr>\n",
       "        <tr>\n",
       "            <td>variation_activated_span_pkey</td>\n",
       "            <td>variation_activated_span</td>\n",
       "        </tr>\n",
       "        <tr>\n",
       "            <td>idx_var_cont_variation</td>\n",
       "            <td>variation_continuous_attr</td>\n",
       "        </tr>\n",
       "        <tr>\n",
       "            <td>variation_continuous_attr_effect_id_key</td>\n",
       "            <td>variation_continuous_attr</td>\n",
       "        </tr>\n",
       "        <tr>\n",
       "            <td>variation_continuous_attr_pkey</td>\n",
       "            <td>variation_continuous_attr</td>\n",
       "        </tr>\n",
       "        <tr>\n",
       "            <td>idx_variation_delta</td>\n",
       "            <td>variation_delta_weight</td>\n",
       "        </tr>\n",
       "        <tr>\n",
       "            <td>idx_variation_delta_weight_effid_spanid</td>\n",
       "            <td>variation_delta_weight</td>\n",
       "        </tr>\n",
       "        <tr>\n",
       "            <td>variation_delta_weight_effect_id_key</td>\n",
       "            <td>variation_delta_weight</td>\n",
       "        </tr>\n",
       "        <tr>\n",
       "            <td>variation_delta_weight_pkey</td>\n",
       "            <td>variation_delta_weight</td>\n",
       "        </tr>\n",
       "        <tr>\n",
       "            <td>idx_variation_inactive</td>\n",
       "            <td>variation_inactive_span</td>\n",
       "        </tr>\n",
       "        <tr>\n",
       "            <td>variation_inactive_span_effect_id_key</td>\n",
       "            <td>variation_inactive_span</td>\n",
       "        </tr>\n",
       "        <tr>\n",
       "            <td>variation_inactive_span_pkey</td>\n",
       "            <td>variation_inactive_span</td>\n",
       "        </tr>\n",
       "        <tr>\n",
       "            <td>idx_uq_vavspan_attr</td>\n",
       "            <td>vavspan_attr</td>\n",
       "        </tr>\n",
       "        <tr>\n",
       "            <td>idx_vavspan_attr_parent</td>\n",
       "            <td>vavspan_attr</td>\n",
       "        </tr>\n",
       "        <tr>\n",
       "            <td>idx_vavspan_attr_vaid</td>\n",
       "            <td>vavspan_attr</td>\n",
       "        </tr>\n",
       "        <tr>\n",
       "            <td>idx_vavspan_attr_variant_attribute</td>\n",
       "            <td>vavspan_attr</td>\n",
       "        </tr>\n",
       "        <tr>\n",
       "            <td>unique_vavspan_attr</td>\n",
       "            <td>vavspan_attr</td>\n",
       "        </tr>\n",
       "        <tr>\n",
       "            <td>vavspan_attr_pkey</td>\n",
       "            <td>vavspan_attr</td>\n",
       "        </tr>\n",
       "    </tbody>\n",
       "</table>"
      ],
      "text/plain": [
       "+--------------------------------------------+---------------------------+\n",
       "|                 index_name                 |         table_name        |\n",
       "+--------------------------------------------+---------------------------+\n",
       "|             attribute_name_key             |         attribute         |\n",
       "|               attribute_pkey               |         attribute         |\n",
       "|             idx_attribute_name             |         attribute         |\n",
       "|               debug_log_pkey               |         debug_log         |\n",
       "|                effect_pkey                 |           effect          |\n",
       "|     unique_effect_name_within_variant      |           effect          |\n",
       "|              entity_name_key               |           entity          |\n",
       "|                entity_pkey                 |           entity          |\n",
       "|           entity_group_name_key            |        entity_group       |\n",
       "|             entity_group_pkey              |        entity_group       |\n",
       "|           entity_group_link_pkey           |     entity_group_link     |\n",
       "|  idx_entity_group_link_group_id_entity_id  |     entity_group_link     |\n",
       "|          unique_link_entity_group          |     entity_group_link     |\n",
       "|             entity_state_pkey              |        entity_state       |\n",
       "|         idx_entity_state_entity_id         |        entity_state       |\n",
       "|        idx_entity_state_entity_time        |        entity_state       |\n",
       "|             unique_entity_time             |        entity_state       |\n",
       "|         entity_varattr_value_pkey          |    entity_varattr_value   |\n",
       "|  idx_entity_varattr_value_entity_state_id  |    entity_varattr_value   |\n",
       "|          idx_evav_state_attr_span          |    entity_varattr_value   |\n",
       "|            idx_evav_state_vaid             |    entity_varattr_value   |\n",
       "|         unique_state_vavspan_attr          |    entity_varattr_value   |\n",
       "|               evav_lock_pkey               |         evav_lock         |\n",
       "|            idx_evav_lock_locked            |         evav_lock         |\n",
       "|        idx_evav_lock_locked_locking        |         evav_lock         |\n",
       "|           idx_evav_lock_locking            |         evav_lock         |\n",
       "|              unique_evav_lock              |         evav_lock         |\n",
       "|             idx_span_attr_type             |            span           |\n",
       "|         idx_span_attr_type_pinned          |            span           |\n",
       "|        idx_span_attr_type_pinned_wl        |            span           |\n",
       "|           idx_span_attribute_id            |            span           |\n",
       "|          idx_span_attribute_type           |            span           |\n",
       "|                 span_pkey                  |            span           |\n",
       "|        unique_attribute_type_label         |            span           |\n",
       "|              idx_variant_name              |          variant          |\n",
       "|              variant_name_key              |          variant          |\n",
       "|                variant_pkey                |          variant          |\n",
       "|       idx_variant_attr_span_span_id        |     variant_attr_span     |\n",
       "|     idx_variant_attr_span_vaid_spanid      |     variant_attr_span     |\n",
       "|     idx_variant_attr_span_vaid_variant     |     variant_attr_span     |\n",
       "|     idx_variant_attr_span_variant_attr     |     variant_attr_span     |\n",
       "| idx_variant_attr_span_variant_attribute_id |     variant_attr_span     |\n",
       "|       unique_variant_attribute_span        |     variant_attr_span     |\n",
       "|           variant_attr_span_pkey           |     variant_attr_span     |\n",
       "|      idx_variant_attribute_attribute       |     variant_attribute     |\n",
       "|       idx_variant_attribute_variant        |     variant_attribute     |\n",
       "|  idx_variant_attribute_variant_causation   |     variant_attribute     |\n",
       "|            unique_variant_index            |     variant_attribute     |\n",
       "|            unique_variant_name             |     variant_attribute     |\n",
       "|           variant_attribute_pkey           |     variant_attribute     |\n",
       "|      idx_variation_activating_vavspan      |         variation         |\n",
       "|      idx_variation_to_modify_vavspan       |         variation         |\n",
       "|          unique_span_to_attribute          |         variation         |\n",
       "|               variation_pkey               |         variation         |\n",
       "| idx_variation_activated_span_effid_spanid  |  variation_activated_span |\n",
       "|   variation_activated_span_effect_id_key   |  variation_activated_span |\n",
       "|       variation_activated_span_pkey        |  variation_activated_span |\n",
       "|           idx_var_cont_variation           | variation_continuous_attr |\n",
       "|  variation_continuous_attr_effect_id_key   | variation_continuous_attr |\n",
       "|       variation_continuous_attr_pkey       | variation_continuous_attr |\n",
       "|            idx_variation_delta             |   variation_delta_weight  |\n",
       "|  idx_variation_delta_weight_effid_spanid   |   variation_delta_weight  |\n",
       "|    variation_delta_weight_effect_id_key    |   variation_delta_weight  |\n",
       "|        variation_delta_weight_pkey         |   variation_delta_weight  |\n",
       "|           idx_variation_inactive           |  variation_inactive_span  |\n",
       "|   variation_inactive_span_effect_id_key    |  variation_inactive_span  |\n",
       "|        variation_inactive_span_pkey        |  variation_inactive_span  |\n",
       "|            idx_uq_vavspan_attr             |        vavspan_attr       |\n",
       "|          idx_vavspan_attr_parent           |        vavspan_attr       |\n",
       "|           idx_vavspan_attr_vaid            |        vavspan_attr       |\n",
       "|     idx_vavspan_attr_variant_attribute     |        vavspan_attr       |\n",
       "|            unique_vavspan_attr             |        vavspan_attr       |\n",
       "|             vavspan_attr_pkey              |        vavspan_attr       |\n",
       "+--------------------------------------------+---------------------------+"
      ]
     },
     "execution_count": 834,
     "metadata": {},
     "output_type": "execute_result"
    }
   ],
   "source": [
    "%%sql\n",
    "\n",
    "SELECT i.relname AS index_name, t.relname AS table_name\n",
    "FROM pg_catalog.pg_index ix\n",
    "JOIN pg_catalog.pg_class i ON i.oid = ix.indexrelid\n",
    "JOIN pg_catalog.pg_class t ON t.oid = ix.indrelid\n",
    "JOIN pg_catalog.pg_namespace n ON n.oid = t.relnamespace\n",
    "WHERE n.nspname = 'public'\n",
    "ORDER BY n.nspname, t.relname, i.relname;"
   ]
  },
  {
   "cell_type": "markdown",
   "id": "c38e15f5",
   "metadata": {},
   "source": [
    "# Testing"
   ]
  },
  {
   "cell_type": "markdown",
   "id": "83130a12",
   "metadata": {},
   "source": [
    "## Old"
   ]
  },
  {
   "cell_type": "code",
   "execution_count": null,
   "id": "5f72095d",
   "metadata": {
    "vscode": {
     "languageId": "sql"
    }
   },
   "outputs": [],
   "source": [
    "%%sql\n",
    "\n",
    "CREATE OR REPLACE FUNCTION run_test_1()\n",
    "  RETURNS TEXT\n",
    "AS $$\n",
    "DECLARE\n",
    "  race        integer;\n",
    "  gender      integer;\n",
    "  male        integer;\n",
    "  female      integer;\n",
    "  hair_color  integer;\n",
    "  blonde      integer;\n",
    "  brown       integer;\n",
    "  golden      integer;\n",
    "  auburn      integer;\n",
    "  ginger      integer;\n",
    "  sandy       integer;\n",
    "  black       integer;\n",
    "  gray        integer;\n",
    "  height      integer;\n",
    "  short       integer;\n",
    "  average     integer;\n",
    "  tall        integer;\n",
    "  human       integer;\n",
    "  human_gender  integer;\n",
    "  human_hair_color  integer;\n",
    "  human_height  integer;\n",
    "  human_red_hair_to_height_var  integer;\n",
    "  test_humans integer;\n",
    "BEGIN\n",
    "  CALL add_discrete_attribute('Gender', gender);\n",
    "  CALL add_disc_span_to_attr(gender, 'Male', male);\n",
    "  CALL add_disc_span_to_attr(gender, 'Female', female);\n",
    "\n",
    "  CALL add_discrete_attribute('Hair Color', hair_color);\n",
    "  CALL add_disc_span_to_attr(hair_color, 'Blonde', blonde);\n",
    "  CALL add_disc_span_to_attr(hair_color, 'Brown', brown);\n",
    "  CALL add_disc_span_to_attr(hair_color, 'Golden', golden);\n",
    "  CALL add_disc_span_to_attr(hair_color, 'Auburn', auburn);\n",
    "  CALL add_disc_span_to_attr(hair_color, 'Ginger', ginger);\n",
    "  CALL add_disc_span_to_attr(hair_color, 'Sandy', sandy);\n",
    "  CALL add_disc_span_to_attr(hair_color, 'Black', black);\n",
    "  CALL add_disc_span_to_attr(hair_color, 'Gray', gray);\n",
    "  CALL modify_disc_span_weight(brown, .5);\n",
    "  CALL modify_disc_span_weight(gray, .05);\n",
    "\n",
    "  -- add_continuous_attribute(name, min, mode, max, concentration, skew, precision, show_spans, show_value, units, out p_attr_id)\n",
    "  CALL add_continuous_attribute('Height', 0, 222, 1000, 100000, 0, 4, TRUE, TRUE, 'in.', height);\n",
    "  CALL add_cont_span_to_attr(height, 'Short', 0, 100, short);\n",
    "  CALL add_cont_span_to_attr(height, 'Average', 100, 400, average);\n",
    "  CALL add_cont_span_to_attr(height, 'Tall', 400, 1000, tall);\n",
    "\n",
    "  CALL add_variant('Human', human);\n",
    "  CALL link_attr_to_variant(human, gender, 'Gender', NULL, human_gender);\n",
    "  CALL link_attr_to_variant(human, hair_color, 'Hair Color', NULL, human_hair_color);\n",
    "  CALL link_attr_to_variant(human, height, 'Height', NULL, human_height);\n",
    "\n",
    "  CALL add_variation(ginger, NULL, human_hair_color, NULL, human_height, human_red_hair_to_height_var);\n",
    "\n",
    "  CALL generate_entity_group(human, 'Test Humans', 'Human %s', 100, test_humans);\n",
    "  RETURN get_entity_group_state_details(test_humans);\n",
    "END;\n",
    "$$ LANGUAGE plpgsql;\n",
    "\n",
    "SELECT * FROM run_test_1()"
   ]
  },
  {
   "cell_type": "markdown",
   "id": "8b9887ef",
   "metadata": {},
   "source": [
    "## Gender Attribute"
   ]
  },
  {
   "cell_type": "markdown",
   "id": "2559e307",
   "metadata": {},
   "source": [
    "### Delete Gender Attribute"
   ]
  },
  {
   "cell_type": "code",
   "execution_count": 842,
   "id": "688e5c5b",
   "metadata": {
    "vscode": {
     "languageId": "sql"
    }
   },
   "outputs": [
    {
     "data": {
      "text/html": [
       "<span style=\"None\">Running query in &#x27;postgresql://notebook@localhost:5432/sahuagin&#x27;</span>"
      ],
      "text/plain": [
       "Running query in 'postgresql://notebook@localhost:5432/sahuagin'"
      ]
     },
     "metadata": {},
     "output_type": "display_data"
    },
    {
     "data": {
      "text/html": [
       "<table>\n",
       "    <thead>\n",
       "        <tr>\n",
       "        </tr>\n",
       "    </thead>\n",
       "    <tbody>\n",
       "    </tbody>\n",
       "</table>"
      ],
      "text/plain": [
       "++\n",
       "||\n",
       "++\n",
       "++"
      ]
     },
     "execution_count": 842,
     "metadata": {},
     "output_type": "execute_result"
    }
   ],
   "source": [
    "%%sql\n",
    "\n",
    "CALL delete_discrete_attribute('Gender');"
   ]
  },
  {
   "cell_type": "markdown",
   "id": "5882d3db",
   "metadata": {},
   "source": [
    "### Add Gender Attribute"
   ]
  },
  {
   "cell_type": "code",
   "execution_count": 843,
   "id": "f3113cde",
   "metadata": {
    "vscode": {
     "languageId": "sql"
    }
   },
   "outputs": [
    {
     "data": {
      "text/html": [
       "<span style=\"None\">Running query in &#x27;postgresql://notebook@localhost:5432/sahuagin&#x27;</span>"
      ],
      "text/plain": [
       "Running query in 'postgresql://notebook@localhost:5432/sahuagin'"
      ]
     },
     "metadata": {},
     "output_type": "display_data"
    },
    {
     "data": {
      "text/html": [
       "<table>\n",
       "    <thead>\n",
       "        <tr>\n",
       "        </tr>\n",
       "    </thead>\n",
       "    <tbody>\n",
       "    </tbody>\n",
       "</table>"
      ],
      "text/plain": [
       "++\n",
       "||\n",
       "++\n",
       "++"
      ]
     },
     "execution_count": 843,
     "metadata": {},
     "output_type": "execute_result"
    }
   ],
   "source": [
    "%%sql\n",
    "\n",
    "call add_discrete_attribute('Gender', '[\n",
    "    [\"Male\", 1], \n",
    "    [\"Female\", 1]\n",
    "]');"
   ]
  },
  {
   "cell_type": "markdown",
   "id": "9e927fa0",
   "metadata": {},
   "source": [
    "### View Gender Attribute"
   ]
  },
  {
   "cell_type": "code",
   "execution_count": 844,
   "id": "a782ec68",
   "metadata": {
    "vscode": {
     "languageId": "sql"
    }
   },
   "outputs": [
    {
     "data": {
      "text/html": [
       "<span style=\"None\">Running query in &#x27;postgresql://notebook@localhost:5432/sahuagin&#x27;</span>"
      ],
      "text/plain": [
       "Running query in 'postgresql://notebook@localhost:5432/sahuagin'"
      ]
     },
     "metadata": {},
     "output_type": "display_data"
    },
    {
     "data": {
      "text/html": [
       "<span style=\"color: green\">2 rows affected.</span>"
      ],
      "text/plain": [
       "2 rows affected."
      ]
     },
     "metadata": {},
     "output_type": "display_data"
    },
    {
     "data": {
      "text/html": [
       "<table>\n",
       "    <thead>\n",
       "        <tr>\n",
       "            <th>attribute</th>\n",
       "            <th>type</th>\n",
       "            <th>span_label</th>\n",
       "            <th>span_weight</th>\n",
       "            <th>is_pinned</th>\n",
       "        </tr>\n",
       "    </thead>\n",
       "    <tbody>\n",
       "        <tr>\n",
       "            <td>Gender</td>\n",
       "            <td>discrete</td>\n",
       "            <td>Female</td>\n",
       "            <td>0.5</td>\n",
       "            <td>False</td>\n",
       "        </tr>\n",
       "        <tr>\n",
       "            <td>Gender</td>\n",
       "            <td>discrete</td>\n",
       "            <td>Male</td>\n",
       "            <td>0.5</td>\n",
       "            <td>False</td>\n",
       "        </tr>\n",
       "    </tbody>\n",
       "</table>"
      ],
      "text/plain": [
       "+-----------+----------+------------+-------------+-----------+\n",
       "| attribute |   type   | span_label | span_weight | is_pinned |\n",
       "+-----------+----------+------------+-------------+-----------+\n",
       "|   Gender  | discrete |   Female   |     0.5     |   False   |\n",
       "|   Gender  | discrete |    Male    |     0.5     |   False   |\n",
       "+-----------+----------+------------+-------------+-----------+"
      ]
     },
     "execution_count": 844,
     "metadata": {},
     "output_type": "execute_result"
    }
   ],
   "source": [
    "%%sql\n",
    "\n",
    "SELECT * FROM get_discrete_attribute('Gender');"
   ]
  },
  {
   "cell_type": "markdown",
   "id": "2616528f",
   "metadata": {},
   "source": [
    "## Hair Color Attribute"
   ]
  },
  {
   "cell_type": "markdown",
   "id": "ac18b266",
   "metadata": {},
   "source": [
    "### Delete Hair Color Attribute"
   ]
  },
  {
   "cell_type": "code",
   "execution_count": 845,
   "id": "95097f16",
   "metadata": {
    "vscode": {
     "languageId": "sql"
    }
   },
   "outputs": [
    {
     "data": {
      "text/html": [
       "<span style=\"None\">Running query in &#x27;postgresql://notebook@localhost:5432/sahuagin&#x27;</span>"
      ],
      "text/plain": [
       "Running query in 'postgresql://notebook@localhost:5432/sahuagin'"
      ]
     },
     "metadata": {},
     "output_type": "display_data"
    },
    {
     "data": {
      "text/html": [
       "<table>\n",
       "    <thead>\n",
       "        <tr>\n",
       "        </tr>\n",
       "    </thead>\n",
       "    <tbody>\n",
       "    </tbody>\n",
       "</table>"
      ],
      "text/plain": [
       "++\n",
       "||\n",
       "++\n",
       "++"
      ]
     },
     "execution_count": 845,
     "metadata": {},
     "output_type": "execute_result"
    }
   ],
   "source": [
    "%%sql\n",
    "\n",
    "CALL delete_discrete_attribute('Hair Color');"
   ]
  },
  {
   "cell_type": "markdown",
   "id": "6eee412e",
   "metadata": {},
   "source": [
    "### Add Hair Color Attribute"
   ]
  },
  {
   "cell_type": "code",
   "execution_count": 846,
   "id": "807f7ba9",
   "metadata": {
    "vscode": {
     "languageId": "sql"
    }
   },
   "outputs": [
    {
     "data": {
      "text/html": [
       "<span style=\"None\">Running query in &#x27;postgresql://notebook@localhost:5432/sahuagin&#x27;</span>"
      ],
      "text/plain": [
       "Running query in 'postgresql://notebook@localhost:5432/sahuagin'"
      ]
     },
     "metadata": {},
     "output_type": "display_data"
    },
    {
     "data": {
      "text/html": [
       "<table>\n",
       "    <thead>\n",
       "        <tr>\n",
       "        </tr>\n",
       "    </thead>\n",
       "    <tbody>\n",
       "    </tbody>\n",
       "</table>"
      ],
      "text/plain": [
       "++\n",
       "||\n",
       "++\n",
       "++"
      ]
     },
     "execution_count": 846,
     "metadata": {},
     "output_type": "execute_result"
    }
   ],
   "source": [
    "%%sql\n",
    "\n",
    "call add_discrete_attribute('Hair Color', '[\n",
    "    [\"Blonde\", 2], \n",
    "    [\"Brown\", 3],\n",
    "    [\"Golden\", 2],\n",
    "    [\"Auburn\", 2],\n",
    "    [\"Ginger\", 1],\n",
    "    [\"Sandy\", 2],\n",
    "    [\"Black\", 3],\n",
    "    [\"Gray\", 2]\n",
    "]');"
   ]
  },
  {
   "cell_type": "markdown",
   "id": "b85287e4",
   "metadata": {},
   "source": [
    "### View Hair Color Attribute"
   ]
  },
  {
   "cell_type": "code",
   "execution_count": 847,
   "id": "21472e0f",
   "metadata": {
    "vscode": {
     "languageId": "sql"
    }
   },
   "outputs": [
    {
     "data": {
      "text/html": [
       "<span style=\"None\">Running query in &#x27;postgresql://notebook@localhost:5432/sahuagin&#x27;</span>"
      ],
      "text/plain": [
       "Running query in 'postgresql://notebook@localhost:5432/sahuagin'"
      ]
     },
     "metadata": {},
     "output_type": "display_data"
    },
    {
     "data": {
      "text/html": [
       "<span style=\"color: green\">8 rows affected.</span>"
      ],
      "text/plain": [
       "8 rows affected."
      ]
     },
     "metadata": {},
     "output_type": "display_data"
    },
    {
     "data": {
      "text/html": [
       "<table>\n",
       "    <thead>\n",
       "        <tr>\n",
       "            <th>attribute</th>\n",
       "            <th>type</th>\n",
       "            <th>span_label</th>\n",
       "            <th>span_weight</th>\n",
       "            <th>is_pinned</th>\n",
       "        </tr>\n",
       "    </thead>\n",
       "    <tbody>\n",
       "        <tr>\n",
       "            <td>Hair Color</td>\n",
       "            <td>discrete</td>\n",
       "            <td>Ginger</td>\n",
       "            <td>0.058823529411764705</td>\n",
       "            <td>False</td>\n",
       "        </tr>\n",
       "        <tr>\n",
       "            <td>Hair Color</td>\n",
       "            <td>discrete</td>\n",
       "            <td>Auburn</td>\n",
       "            <td>0.11764705882352941</td>\n",
       "            <td>False</td>\n",
       "        </tr>\n",
       "        <tr>\n",
       "            <td>Hair Color</td>\n",
       "            <td>discrete</td>\n",
       "            <td>Blonde</td>\n",
       "            <td>0.11764705882352941</td>\n",
       "            <td>False</td>\n",
       "        </tr>\n",
       "        <tr>\n",
       "            <td>Hair Color</td>\n",
       "            <td>discrete</td>\n",
       "            <td>Golden</td>\n",
       "            <td>0.11764705882352941</td>\n",
       "            <td>False</td>\n",
       "        </tr>\n",
       "        <tr>\n",
       "            <td>Hair Color</td>\n",
       "            <td>discrete</td>\n",
       "            <td>Gray</td>\n",
       "            <td>0.11764705882352941</td>\n",
       "            <td>False</td>\n",
       "        </tr>\n",
       "        <tr>\n",
       "            <td>Hair Color</td>\n",
       "            <td>discrete</td>\n",
       "            <td>Sandy</td>\n",
       "            <td>0.11764705882352941</td>\n",
       "            <td>False</td>\n",
       "        </tr>\n",
       "        <tr>\n",
       "            <td>Hair Color</td>\n",
       "            <td>discrete</td>\n",
       "            <td>Black</td>\n",
       "            <td>0.17647058823529413</td>\n",
       "            <td>False</td>\n",
       "        </tr>\n",
       "        <tr>\n",
       "            <td>Hair Color</td>\n",
       "            <td>discrete</td>\n",
       "            <td>Brown</td>\n",
       "            <td>0.17647058823529413</td>\n",
       "            <td>False</td>\n",
       "        </tr>\n",
       "    </tbody>\n",
       "</table>"
      ],
      "text/plain": [
       "+------------+----------+------------+----------------------+-----------+\n",
       "| attribute  |   type   | span_label |     span_weight      | is_pinned |\n",
       "+------------+----------+------------+----------------------+-----------+\n",
       "| Hair Color | discrete |   Ginger   | 0.058823529411764705 |   False   |\n",
       "| Hair Color | discrete |   Auburn   | 0.11764705882352941  |   False   |\n",
       "| Hair Color | discrete |   Blonde   | 0.11764705882352941  |   False   |\n",
       "| Hair Color | discrete |   Golden   | 0.11764705882352941  |   False   |\n",
       "| Hair Color | discrete |    Gray    | 0.11764705882352941  |   False   |\n",
       "| Hair Color | discrete |   Sandy    | 0.11764705882352941  |   False   |\n",
       "| Hair Color | discrete |   Black    | 0.17647058823529413  |   False   |\n",
       "| Hair Color | discrete |   Brown    | 0.17647058823529413  |   False   |\n",
       "+------------+----------+------------+----------------------+-----------+"
      ]
     },
     "execution_count": 847,
     "metadata": {},
     "output_type": "execute_result"
    }
   ],
   "source": [
    "%%sql\n",
    "\n",
    "SELECT * FROM get_discrete_attribute('Hair Color');"
   ]
  },
  {
   "cell_type": "markdown",
   "id": "476196ce",
   "metadata": {},
   "source": [
    "## Height Attribute"
   ]
  },
  {
   "cell_type": "markdown",
   "id": "c6367071",
   "metadata": {},
   "source": [
    "### Delete Height Attribute"
   ]
  },
  {
   "cell_type": "code",
   "execution_count": 848,
   "id": "4af06210",
   "metadata": {
    "vscode": {
     "languageId": "sql"
    }
   },
   "outputs": [
    {
     "data": {
      "text/html": [
       "<span style=\"None\">Running query in &#x27;postgresql://notebook@localhost:5432/sahuagin&#x27;</span>"
      ],
      "text/plain": [
       "Running query in 'postgresql://notebook@localhost:5432/sahuagin'"
      ]
     },
     "metadata": {},
     "output_type": "display_data"
    },
    {
     "data": {
      "text/html": [
       "<table>\n",
       "    <thead>\n",
       "        <tr>\n",
       "        </tr>\n",
       "    </thead>\n",
       "    <tbody>\n",
       "    </tbody>\n",
       "</table>"
      ],
      "text/plain": [
       "++\n",
       "||\n",
       "++\n",
       "++"
      ]
     },
     "execution_count": 848,
     "metadata": {},
     "output_type": "execute_result"
    }
   ],
   "source": [
    "%%sql\n",
    "\n",
    "CALL delete_continuous_attribute('Height');"
   ]
  },
  {
   "cell_type": "markdown",
   "id": "65d4a41f",
   "metadata": {},
   "source": [
    "### Add Height Attribute"
   ]
  },
  {
   "cell_type": "code",
   "execution_count": 849,
   "id": "cde61298",
   "metadata": {
    "vscode": {
     "languageId": "sql"
    }
   },
   "outputs": [
    {
     "data": {
      "text/html": [
       "<span style=\"None\">Running query in &#x27;postgresql://notebook@localhost:5432/sahuagin&#x27;</span>"
      ],
      "text/plain": [
       "Running query in 'postgresql://notebook@localhost:5432/sahuagin'"
      ]
     },
     "metadata": {},
     "output_type": "display_data"
    },
    {
     "data": {
      "text/html": [
       "<table>\n",
       "    <thead>\n",
       "        <tr>\n",
       "        </tr>\n",
       "    </thead>\n",
       "    <tbody>\n",
       "    </tbody>\n",
       "</table>"
      ],
      "text/plain": [
       "++\n",
       "||\n",
       "++\n",
       "++"
      ]
     },
     "execution_count": 849,
     "metadata": {},
     "output_type": "execute_result"
    }
   ],
   "source": [
    "%%sql\n",
    "\n",
    "call add_continuous_attribute('Height', 0, 222, 1000, 100000, 0, 4, true, true, 'in.', '[\n",
    "    [\"Short\", 100],\n",
    "    [\"Average\", 400],\n",
    "    [\"Tall\", 1000]\n",
    "]');"
   ]
  },
  {
   "cell_type": "markdown",
   "id": "d18023fd",
   "metadata": {},
   "source": [
    "### View Height Attribute"
   ]
  },
  {
   "cell_type": "code",
   "execution_count": 850,
   "id": "2430bc78",
   "metadata": {
    "vscode": {
     "languageId": "sql"
    }
   },
   "outputs": [
    {
     "data": {
      "text/html": [
       "<span style=\"None\">Running query in &#x27;postgresql://notebook@localhost:5432/sahuagin&#x27;</span>"
      ],
      "text/plain": [
       "Running query in 'postgresql://notebook@localhost:5432/sahuagin'"
      ]
     },
     "metadata": {},
     "output_type": "display_data"
    },
    {
     "data": {
      "text/html": [
       "<span style=\"color: green\">3 rows affected.</span>"
      ],
      "text/plain": [
       "3 rows affected."
      ]
     },
     "metadata": {},
     "output_type": "display_data"
    },
    {
     "data": {
      "text/html": [
       "<table>\n",
       "    <thead>\n",
       "        <tr>\n",
       "            <th>name</th>\n",
       "            <th>type</th>\n",
       "            <th>min</th>\n",
       "            <th>mode</th>\n",
       "            <th>max</th>\n",
       "            <th>concentration</th>\n",
       "            <th>skew</th>\n",
       "            <th>units</th>\n",
       "            <th>decimals</th>\n",
       "            <th>has_value</th>\n",
       "            <th>has_labels</th>\n",
       "            <th>span_label</th>\n",
       "            <th>span_min</th>\n",
       "            <th>span_max</th>\n",
       "        </tr>\n",
       "    </thead>\n",
       "    <tbody>\n",
       "        <tr>\n",
       "            <td>Height</td>\n",
       "            <td>continuous</td>\n",
       "            <td>0.0</td>\n",
       "            <td>222.0</td>\n",
       "            <td>1000.0</td>\n",
       "            <td>100000.0</td>\n",
       "            <td>0.0</td>\n",
       "            <td>in.</td>\n",
       "            <td>4</td>\n",
       "            <td>True</td>\n",
       "            <td>True</td>\n",
       "            <td>Average</td>\n",
       "            <td>100.0</td>\n",
       "            <td>400.0</td>\n",
       "        </tr>\n",
       "        <tr>\n",
       "            <td>Height</td>\n",
       "            <td>continuous</td>\n",
       "            <td>0.0</td>\n",
       "            <td>222.0</td>\n",
       "            <td>1000.0</td>\n",
       "            <td>100000.0</td>\n",
       "            <td>0.0</td>\n",
       "            <td>in.</td>\n",
       "            <td>4</td>\n",
       "            <td>True</td>\n",
       "            <td>True</td>\n",
       "            <td>Short</td>\n",
       "            <td>0.0</td>\n",
       "            <td>100.0</td>\n",
       "        </tr>\n",
       "        <tr>\n",
       "            <td>Height</td>\n",
       "            <td>continuous</td>\n",
       "            <td>0.0</td>\n",
       "            <td>222.0</td>\n",
       "            <td>1000.0</td>\n",
       "            <td>100000.0</td>\n",
       "            <td>0.0</td>\n",
       "            <td>in.</td>\n",
       "            <td>4</td>\n",
       "            <td>True</td>\n",
       "            <td>True</td>\n",
       "            <td>Tall</td>\n",
       "            <td>400.0</td>\n",
       "            <td>1000.0</td>\n",
       "        </tr>\n",
       "    </tbody>\n",
       "</table>"
      ],
      "text/plain": [
       "+--------+------------+-----+-------+--------+---------------+------+-------+----------+-----------+------------+------------+----------+----------+\n",
       "|  name  |    type    | min |  mode |  max   | concentration | skew | units | decimals | has_value | has_labels | span_label | span_min | span_max |\n",
       "+--------+------------+-----+-------+--------+---------------+------+-------+----------+-----------+------------+------------+----------+----------+\n",
       "| Height | continuous | 0.0 | 222.0 | 1000.0 |    100000.0   | 0.0  |  in.  |    4     |    True   |    True    |  Average   |  100.0   |  400.0   |\n",
       "| Height | continuous | 0.0 | 222.0 | 1000.0 |    100000.0   | 0.0  |  in.  |    4     |    True   |    True    |   Short    |   0.0    |  100.0   |\n",
       "| Height | continuous | 0.0 | 222.0 | 1000.0 |    100000.0   | 0.0  |  in.  |    4     |    True   |    True    |    Tall    |  400.0   |  1000.0  |\n",
       "+--------+------------+-----+-------+--------+---------------+------+-------+----------+-----------+------------+------------+----------+----------+"
      ]
     },
     "execution_count": 850,
     "metadata": {},
     "output_type": "execute_result"
    }
   ],
   "source": [
    "%%sql\n",
    "\n",
    "SELECT * FROM get_continuous_attribute('Height');"
   ]
  },
  {
   "cell_type": "markdown",
   "id": "78191931",
   "metadata": {},
   "source": [
    "## Human Variant"
   ]
  },
  {
   "cell_type": "markdown",
   "id": "ac4ef6c8",
   "metadata": {},
   "source": [
    "### Delete"
   ]
  },
  {
   "cell_type": "code",
   "execution_count": 851,
   "id": "8b1380ff",
   "metadata": {
    "vscode": {
     "languageId": "sql"
    }
   },
   "outputs": [
    {
     "data": {
      "text/html": [
       "<span style=\"None\">Running query in &#x27;postgresql://notebook@localhost:5432/sahuagin&#x27;</span>"
      ],
      "text/plain": [
       "Running query in 'postgresql://notebook@localhost:5432/sahuagin'"
      ]
     },
     "metadata": {},
     "output_type": "display_data"
    },
    {
     "data": {
      "text/html": [
       "<table>\n",
       "    <thead>\n",
       "        <tr>\n",
       "        </tr>\n",
       "    </thead>\n",
       "    <tbody>\n",
       "    </tbody>\n",
       "</table>"
      ],
      "text/plain": [
       "++\n",
       "||\n",
       "++\n",
       "++"
      ]
     },
     "execution_count": 851,
     "metadata": {},
     "output_type": "execute_result"
    }
   ],
   "source": [
    "%%sql\n",
    "\n",
    "CALL delete_variant('Human');"
   ]
  },
  {
   "cell_type": "markdown",
   "id": "43916031",
   "metadata": {},
   "source": [
    "### Add"
   ]
  },
  {
   "cell_type": "code",
   "execution_count": 857,
   "id": "e1b00701",
   "metadata": {
    "vscode": {
     "languageId": "sql"
    }
   },
   "outputs": [
    {
     "data": {
      "text/html": [
       "<span style=\"None\">Running query in &#x27;postgresql://notebook@localhost:5432/sahuagin&#x27;</span>"
      ],
      "text/plain": [
       "Running query in 'postgresql://notebook@localhost:5432/sahuagin'"
      ]
     },
     "metadata": {},
     "output_type": "display_data"
    },
    {
     "data": {
      "text/html": [
       "<table>\n",
       "    <thead>\n",
       "        <tr>\n",
       "        </tr>\n",
       "    </thead>\n",
       "    <tbody>\n",
       "    </tbody>\n",
       "</table>"
      ],
      "text/plain": [
       "++\n",
       "||\n",
       "++\n",
       "++"
      ]
     },
     "execution_count": 857,
     "metadata": {},
     "output_type": "execute_result"
    }
   ],
   "source": [
    "%%sql\n",
    "\n",
    "CALL add_variant('Human', '[\n",
    "    \"Gender\",\n",
    "    \"Hair Color\",\n",
    "    \"Height\"\n",
    "]');"
   ]
  },
  {
   "cell_type": "markdown",
   "id": "e6ba73cb",
   "metadata": {},
   "source": [
    "### Get"
   ]
  },
  {
   "cell_type": "code",
   "execution_count": 882,
   "id": "a16f7288",
   "metadata": {
    "vscode": {
     "languageId": "sql"
    }
   },
   "outputs": [
    {
     "data": {
      "text/html": [
       "<span style=\"None\">Running query in &#x27;postgresql://notebook@localhost:5432/sahuagin&#x27;</span>"
      ],
      "text/plain": [
       "Running query in 'postgresql://notebook@localhost:5432/sahuagin'"
      ]
     },
     "metadata": {},
     "output_type": "display_data"
    },
    {
     "data": {
      "text/html": [
       "<span style=\"color: green\">3 rows affected.</span>"
      ],
      "text/plain": [
       "3 rows affected."
      ]
     },
     "metadata": {},
     "output_type": "display_data"
    },
    {
     "data": {
      "text/html": [
       "<table>\n",
       "    <thead>\n",
       "        <tr>\n",
       "            <th>overall_index</th>\n",
       "            <th>label</th>\n",
       "            <th>to_modify_effects</th>\n",
       "            <th>activated_effects</th>\n",
       "        </tr>\n",
       "    </thead>\n",
       "    <tbody>\n",
       "        <tr>\n",
       "            <td>1</td>\n",
       "            <td>Gender</td>\n",
       "            <td>[]</td>\n",
       "            <td>[]</td>\n",
       "        </tr>\n",
       "        <tr>\n",
       "            <td>2</td>\n",
       "            <td>Hair Color</td>\n",
       "            <td>[]</td>\n",
       "            <td>[]</td>\n",
       "        </tr>\n",
       "        <tr>\n",
       "            <td>3</td>\n",
       "            <td>Height</td>\n",
       "            <td>[]</td>\n",
       "            <td>[]</td>\n",
       "        </tr>\n",
       "    </tbody>\n",
       "</table>"
      ],
      "text/plain": [
       "+---------------+------------+-------------------+-------------------+\n",
       "| overall_index |   label    | to_modify_effects | activated_effects |\n",
       "+---------------+------------+-------------------+-------------------+\n",
       "|       1       |   Gender   |         []        |         []        |\n",
       "|       2       | Hair Color |         []        |         []        |\n",
       "|       3       |   Height   |         []        |         []        |\n",
       "+---------------+------------+-------------------+-------------------+"
      ]
     },
     "execution_count": 882,
     "metadata": {},
     "output_type": "execute_result"
    }
   ],
   "source": [
    "%%sql\n",
    "\n",
    "SELECT * FROM get_variant_page('Human', 1, 1000);"
   ]
  },
  {
   "cell_type": "code",
   "execution_count": null,
   "id": "cc9d3115",
   "metadata": {
    "vscode": {
     "languageId": "sql"
    }
   },
   "outputs": [],
   "source": []
  }
 ],
 "metadata": {
  "kernelspec": {
   "display_name": "Python 3",
   "language": "python",
   "name": "python3"
  },
  "language_info": {
   "codemirror_mode": {
    "name": "ipython",
    "version": 3
   },
   "file_extension": ".py",
   "mimetype": "text/x-python",
   "name": "python",
   "nbconvert_exporter": "python",
   "pygments_lexer": "ipython3",
   "version": "3.12.8"
  }
 },
 "nbformat": 4,
 "nbformat_minor": 5
}
