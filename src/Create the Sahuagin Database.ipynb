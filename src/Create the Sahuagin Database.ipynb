{
 "cells": [
  {
   "cell_type": "markdown",
   "id": "454d1927",
   "metadata": {},
   "source": [
    "# Install Dependencies\n",
    "Install additional packages needed to run SQL command in Jupyter cells and send them to a Postgres database server."
   ]
  },
  {
   "cell_type": "markdown",
   "id": "0600e19b",
   "metadata": {},
   "source": [
    "## PostgreSQL\n",
    "Allows for a self-contained instance of PostresSQL for this notebook."
   ]
  },
  {
   "cell_type": "code",
   "execution_count": null,
   "id": "42a03f56",
   "metadata": {},
   "outputs": [],
   "source": [
    "%mamba install -y -c conda-forge postgresql=17 --quiet\n",
    "!psql --version"
   ]
  },
  {
   "cell_type": "markdown",
   "id": "2e9b79f9",
   "metadata": {},
   "source": [
    "## PostgreSQL Adapter for Python\n",
    "Essential for connecting and interacting with PostgreSQL databases from Python code in Jupyter notebooks."
   ]
  },
  {
   "cell_type": "code",
   "execution_count": null,
   "id": "00a39a5a",
   "metadata": {
    "jupyter": {
     "source_hidden": true
    }
   },
   "outputs": [],
   "source": [
    "%mamba install -c conda-forge psycopg2 -y --quiet\n",
    "!python -c \"import psycopg2; print(psycopg2.__version__)\""
   ]
  },
  {
   "cell_type": "markdown",
   "id": "3dd205f8",
   "metadata": {},
   "source": [
    "## Language Server Protocol for Jupyter\n",
    "Enables code completion, hover documentation, and real-time syntax checking for multiple languages in Jupyter notebooks, including SQL."
   ]
  },
  {
   "cell_type": "code",
   "execution_count": null,
   "id": "d8695fc9",
   "metadata": {},
   "outputs": [],
   "source": [
    "%mamba install -c conda-forge jupyterlab-lsp -y --quiet\n",
    "!jupyter labextension list\n",
    "!jupyter server extension list"
   ]
  },
  {
   "cell_type": "markdown",
   "id": "9d51630c",
   "metadata": {},
   "source": [
    "## Language Server for Python\n",
    "Provides real-time linting, code suggestions, and auto-completion in Jupyter notebooks for Python code."
   ]
  },
  {
   "cell_type": "code",
   "execution_count": null,
   "id": "54f524e2",
   "metadata": {},
   "outputs": [],
   "source": [
    "%mamba install -c conda-forge python-lsp-server -y --quiet\n",
    "!pylsp --version"
   ]
  },
  {
   "cell_type": "markdown",
   "id": "25a1410c",
   "metadata": {},
   "source": [
    "## SQL Magic Extension for Jupyter\n",
    "Allows running SQL queries directly in Jupyter notebooks using SQL magic (%%sql). Enables seamless execution of SQL queries inside a Jupyter Notebook without switching to a database client."
   ]
  },
  {
   "cell_type": "code",
   "execution_count": null,
   "id": "9975a9cb",
   "metadata": {},
   "outputs": [],
   "source": [
    "%mamba install -c conda-forge jupysql -y --quiet\n",
    "!python -c \"import sql; print(sql.__version__)\"\n",
    "!jupyter labextension list"
   ]
  },
  {
   "cell_type": "markdown",
   "id": "43b047d9",
   "metadata": {},
   "source": [
    "## SQL Editor Extension\n",
    "Enables SQL-specific features in Jupyter notebooks, such as:\n",
    "* Syntax highlighting\n",
    "* Query auto-completion\n",
    "* Error checking"
   ]
  },
  {
   "cell_type": "code",
   "execution_count": null,
   "id": "16d489df",
   "metadata": {},
   "outputs": [],
   "source": [
    "%pip install jupyterlab_sql_editor --quiet\n",
    "!jupyter labextension list"
   ]
  },
  {
   "cell_type": "markdown",
   "id": "617aed9a",
   "metadata": {
    "jp-MarkdownHeadingCollapsed": true
   },
   "source": [
    "# Start PostgreSQL"
   ]
  },
  {
   "cell_type": "markdown",
   "id": "03c3464e",
   "metadata": {},
   "source": [
    "## Define paths and logfile"
   ]
  },
  {
   "cell_type": "code",
   "execution_count": null,
   "id": "e8d57513",
   "metadata": {},
   "outputs": [],
   "source": [
    "import os\n",
    "\n",
    "DB_DIR = \"mylocal_db\"\n",
    "LOGFILE = \"postgres_log.txt\"\n",
    "PG_HBA_PATH = os.path.join(DB_DIR, \"pg_hba.conf\")"
   ]
  },
  {
   "cell_type": "markdown",
   "id": "b9a57066",
   "metadata": {},
   "source": [
    "## Check PostgreSQL status"
   ]
  },
  {
   "cell_type": "code",
   "execution_count": null,
   "id": "9492f395",
   "metadata": {},
   "outputs": [],
   "source": [
    "!pg_ctl -D $DB_DIR status"
   ]
  },
  {
   "cell_type": "markdown",
   "id": "de7284f6",
   "metadata": {},
   "source": [
    "## Stop any existing PostgreSQL process"
   ]
  },
  {
   "cell_type": "code",
   "execution_count": null,
   "id": "0556ea23",
   "metadata": {},
   "outputs": [],
   "source": [
    "!pg_ctl stop -D $DB_DIR -m fast || echo \"Nothing to stop.\""
   ]
  },
  {
   "cell_type": "markdown",
   "id": "18242e19",
   "metadata": {},
   "source": [
    "## Initialize the database if necessary"
   ]
  },
  {
   "cell_type": "code",
   "execution_count": null,
   "id": "00979310",
   "metadata": {},
   "outputs": [],
   "source": [
    "import os\n",
    "\n",
    "if not os.path.exists(DB_DIR) or not os.path.exists(os.path.join(DB_DIR, \"PG_VERSION\")):\n",
    "    os.makedirs(DB_DIR, exist_ok=True)\n",
    "    !initdb -D $DB_DIR"
   ]
  },
  {
   "cell_type": "markdown",
   "id": "26cab865",
   "metadata": {},
   "source": [
    "## Modify pg_hba.conf to allow trust authentication for user \"notebook\""
   ]
  },
  {
   "cell_type": "code",
   "execution_count": null,
   "id": "bccaaf4a",
   "metadata": {},
   "outputs": [],
   "source": [
    "with open(PG_HBA_PATH, \"a\") as pg_hba:\n",
    "    pg_hba.write(\"\\nlocal   all             notebook                                trust\\n\")\n",
    "    pg_hba.write(\"host    all             notebook        127.0.0.1/32          trust\\n\")\n",
    "    pg_hba.write(\"host    all             notebook        ::1/128               trust\\n\")"
   ]
  },
  {
   "cell_type": "markdown",
   "id": "57b39d1a",
   "metadata": {},
   "source": [
    "## Start PostgreSQL server"
   ]
  },
  {
   "cell_type": "code",
   "execution_count": null,
   "id": "a9ebdbaf",
   "metadata": {},
   "outputs": [],
   "source": [
    "import subprocess\n",
    "import time\n",
    "import atexit\n",
    "\n",
    "def stop_postgres():\n",
    "    !pg_ctl -D $DB_DIR stop\n",
    "\n",
    "atexit.register(stop_postgres)\n",
    "\n",
    "with open(LOGFILE, \"a\") as logfile:\n",
    "    subprocess.Popen([\"pg_ctl\", \"-D\", DB_DIR, \"-l\", LOGFILE, \"start\"],\n",
    "                     stdout=logfile, stderr=logfile)\n",
    "time.sleep(5)"
   ]
  },
  {
   "cell_type": "markdown",
   "id": "2c905567",
   "metadata": {},
   "source": [
    "## Create the \"notebook\" user with full permissions"
   ]
  },
  {
   "cell_type": "code",
   "execution_count": null,
   "id": "1a0fa416",
   "metadata": {
    "vscode": {
     "languageId": "shellscript"
    }
   },
   "outputs": [],
   "source": [
    "!psql -d postgres -c \"CREATE USER notebook WITH SUPERUSER;\" || echo \"User already exists.\"\n",
    "!psql -d postgres -c \"ALTER USER notebook WITH PASSWORD NULL;\""
   ]
  },
  {
   "cell_type": "markdown",
   "id": "44fcff62",
   "metadata": {
    "jp-MarkdownHeadingCollapsed": true
   },
   "source": [
    "# Connect"
   ]
  },
  {
   "cell_type": "markdown",
   "id": "d6825d93",
   "metadata": {},
   "source": [
    "## Load & Configure SQLMagic"
   ]
  },
  {
   "cell_type": "code",
   "execution_count": null,
   "id": "6e8dcd5b",
   "metadata": {},
   "outputs": [],
   "source": [
    "%load_ext sql\n",
    "%config SqlMagic.displaylimit = None"
   ]
  },
  {
   "cell_type": "markdown",
   "id": "10c250dd",
   "metadata": {},
   "source": [
    "## Create Fresh sahuagin Database"
   ]
  },
  {
   "cell_type": "code",
   "execution_count": null,
   "id": "0e68c179",
   "metadata": {},
   "outputs": [],
   "source": [
    "!psql -U notebook -d postgres -c \"SELECT pg_terminate_backend(pid) FROM pg_stat_activity WHERE datname = 'sahuagin';\"\n",
    "!psql -U notebook -d postgres -c \"DROP DATABASE IF EXISTS sahuagin;\"\n",
    "!psql -U notebook -d postgres -c \"CREATE DATABASE sahuagin;\""
   ]
  },
  {
   "cell_type": "markdown",
   "id": "26cf3d20",
   "metadata": {},
   "source": [
    "## Connect to sahuagin Database"
   ]
  },
  {
   "cell_type": "code",
   "execution_count": null,
   "id": "4199fc7c-d1ca-4342-8f5f-b731790c7bcd",
   "metadata": {},
   "outputs": [],
   "source": [
    "%sql postgresql://notebook@localhost:5432/sahuagin"
   ]
  },
  {
   "cell_type": "markdown",
   "id": "30435a1a",
   "metadata": {
    "jp-MarkdownHeadingCollapsed": true
   },
   "source": [
    "# Create Tables & Types"
   ]
  },
  {
   "cell_type": "code",
   "execution_count": null,
   "id": "2758aabb",
   "metadata": {
    "vscode": {
     "languageId": "sql"
    }
   },
   "outputs": [],
   "source": [
    "%%sql\n",
    "\n",
    "CREATE EXTENSION IF NOT EXISTS citext;\n",
    "\n",
    "-- abstract variable in the context of regression analysis\n",
    "CREATE TABLE variable (\n",
    "  id integer GENERATED ALWAYS AS IDENTITY PRIMARY KEY,\n",
    "  name citext NOT NULL UNIQUE\n",
    ");\n",
    "\n",
    "-- composed generative model - a single variable generator and/or an indexed group of submodels\n",
    "CREATE TABLE model (\n",
    "  id integer GENERATED ALWAYS AS IDENTITY PRIMARY KEY,\n",
    "  name citext NOT NULL UNIQUE\n",
    ");\n",
    "\n",
    "-- model component - an indexed model, activated in that order during generation\n",
    "CREATE TABLE submodel (\n",
    "  id integer GENERATED ALWAYS AS IDENTITY PRIMARY KEY,\n",
    "  name citext NOT NULL,\n",
    "  model integer NOT NULL,\n",
    "  \"index\" integer NOT NULL,\n",
    "  CONSTRAINT uq_submodel_model_name UNIQUE (model, name),\n",
    "  CONSTRAINT uq_submodel_model_index UNIQUE (model, \"index\"),\n",
    "  CONSTRAINT fk_submodel_model FOREIGN KEY (model)\n",
    "    REFERENCES model(id) ON DELETE CASCADE\n",
    ");\n",
    "\n",
    "-- statistics for a quantitative variable - aggregated from a sample, or input directly\n",
    "CREATE TABLE statistics (\n",
    "  variable integer PRIMARY KEY,\n",
    "  decimals integer NOT NULL,\n",
    "  max double precision NOT NULL,\n",
    "  min double precision NOT NULL,\n",
    "  mode double precision NOT NULL,\n",
    "  concentration double precision NOT NULL,\n",
    "  skew double precision NOT NULL,\n",
    "  CONSTRAINT chk_statistics CHECK (max >= min),\n",
    "  CONSTRAINT fk_statistics_variable FOREIGN KEY (variable)\n",
    "    REFERENCES variable(id) ON DELETE CASCADE\n",
    ");\n",
    "\n",
    "-- unit annotation string for a set of statistics\n",
    "CREATE TABLE unit_annotation (\n",
    "  statistics integer PRIMARY KEY,\n",
    "  unit citext NOT NULL,\n",
    "  CONSTRAINT fk_unit_annotation FOREIGN KEY (statistics)\n",
    "    REFERENCES statistics(variable) ON DELETE CASCADE\n",
    ");\n",
    "\n",
    "-- category for a categorical variable - aggregated from a sample, or input directly\n",
    "CREATE TABLE category (\n",
    "  variable integer PRIMARY KEY,\n",
    "  is_pinned boolean NOT NULL,\n",
    "  count double precision NOT NULL,\n",
    "  CONSTRAINT fk_category_variable FOREIGN KEY (variable)\n",
    "    REFERENCES variable(id) ON DELETE CASCADE\n",
    ");\n",
    "\n",
    "-- abstract single parameter function that returns a boolean\n",
    "CREATE TABLE predicate (\n",
    "  id integer GENERATED ALWAYS AS IDENTITY PRIMARY KEY,\n",
    "  name citext NOT NULL UNIQUE\n",
    ");\n",
    "\n",
    "-- postgres evaluatable single numeric parameter function that returns a boolean\n",
    "CREATE TABLE numeric_predicate (\n",
    "  predicate integer PRIMARY KEY,\n",
    "  expression text NOT NULL,\n",
    "  CONSTRAINT fk_numeric_predicate FOREIGN KEY (predicate)\n",
    "    REFERENCES predicate(id) ON DELETE CASCADE\n",
    ");\n",
    "\n",
    "-- postgres evaluatable single string parameter function that returns a boolean\n",
    "CREATE TABLE string_predicate (\n",
    "  predicate integer PRIMARY KEY,\n",
    "  pattern text NOT NULL,\n",
    "  CONSTRAINT fk_string_predicate FOREIGN KEY (predicate)\n",
    "    REFERENCES predicate(id) ON DELETE CASCADE\n",
    ");\n",
    "\n",
    "-- submodel that is only relevent if a predicate is true\n",
    "CREATE TABLE predicated_submodel (\n",
    "  submodel integer PRIMARY KEY,\n",
    "  predicate integer NOT NULL,\n",
    "  CONSTRAINT fk_predicated_submodel_submodel FOREIGN KEY (submodel)\n",
    "    REFERENCES submodel(id) ON DELETE CASCADE,\n",
    "  CONSTRAINT fk_predicated_submodel FOREIGN KEY (predicate)\n",
    "    REFERENCES predicate(id) ON DELETE CASCADE\n",
    ");\n",
    "\n",
    "-- node in a (potential infinite) tree of submodels, resolved as a necessary reference target\n",
    "CREATE TABLE node (\n",
    "  id integer GENERATED ALWAYS AS IDENTITY PRIMARY KEY,\n",
    "  submodel integer NOT NULL,\n",
    "  CONSTRAINT fk_node_submodel FOREIGN KEY (submodel)\n",
    "    REFERENCES submodel(id) ON DELETE CASCADE\n",
    ");\n",
    "\n",
    "-- edge in the submodel tree\n",
    "CREATE TABLE edge (\n",
    "  id integer GENERATED ALWAYS AS IDENTITY PRIMARY KEY,\n",
    "  from integer NOT NULL,\n",
    "  to integer NOT NULL,\n",
    "  CONSTRAINT fk_edge_from FOREIGN KEY (from)\n",
    "    REFERENCES node(id) ON DELETE CASCADE,\n",
    "  CONSTRAINT fk_edge_to FOREIGN KEY (to)\n",
    "    REFERENCES node(id) ON DELETE CASCADE\n",
    ");\n",
    "\n",
    "-- named and predicated association between nodes in the submodel tree\n",
    "CREATE TABLE association (\n",
    "  id integer GENERATED ALWAYS AS IDENTITY PRIMARY KEY,\n",
    "  name citext NOT NULL UNIQUE,\n",
    "  model integer NOT NULL,\n",
    "  predicate integer NOT NULL,\n",
    "  edge integer NOT NULL,\n",
    "  CONSTRAINT uq_association_pred_edge UNIQUE (predicate, edge),\n",
    "  CONSTRAINT fk_association_model FOREIGN KEY (model)\n",
    "    REFERENCES model(id) ON DELETE CASCADE,\n",
    "  CONSTRAINT fk_association_predicate FOREIGN KEY (predicate)\n",
    "    REFERENCES predicate(id) ON DELETE CASCADE,\n",
    "  CONSTRAINT fk_association_edge FOREIGN KEY (edge)\n",
    "    REFERENCES edge(id) ON DELETE CASCADE\n",
    ");\n",
    "\n",
    "-- association effect that modulates statistics on a quantitative variable\n",
    "CREATE TABLE statistics_modulation_effect (\n",
    "  association integer PRIMARY KEY,\n",
    "  delta_mode double precision NOT NULL,\n",
    "  delta_conc double precision NOT NULL,\n",
    "  delta_skew double precision NOT NULL,\n",
    "  CONSTRAINT fk_statistics_modulation_association FOREIGN KEY (association)\n",
    "    REFERENCES association(id) ON DELETE CASCADE\n",
    ");\n",
    "\n",
    "-- association effect that causes a category (with count) to emerge on a categorical variable\n",
    "CREATE TABLE emergent_category_effect (\n",
    "  id integer GENERATED ALWAYS AS IDENTITY PRIMARY KEY,\n",
    "  association integer NOT NULL,\n",
    "  category integer NOT NULL,\n",
    "  CONSTRAINT uq_emergent_category_effect UNIQUE (association, category),\n",
    "  CONSTRAINT fk_emergent_category_effect_category FOREIGN KEY (category)\n",
    "    REFERENCES category(variable) ON DELETE CASCADE,\n",
    "  CONSTRAINT fk_emergent_category_effect_association FOREIGN KEY (association)\n",
    "    REFERENCES association(id) ON DELETE CASCADE\n",
    ");\n",
    "\n",
    "-- association effect that causes a categories count to change on a categorical variable\n",
    "CREATE TABLE modulated_category_count_effect (\n",
    "  id integer GENERATED ALWAYS AS IDENTITY PRIMARY KEY,\n",
    "  association integer NOT NULL,\n",
    "  category integer NOT NULL,\n",
    "  delta_count double precision NOT NULL,\n",
    "  CONSTRAINT uq_modulated_category_count_effect UNIQUE (association, category),\n",
    "  CONSTRAINT fk_modulated_category_count_effect_category FOREIGN KEY (category)\n",
    "    REFERENCES category(variable) ON DELETE CASCADE,\n",
    "  CONSTRAINT fk_modulated_category_count_effect_association FOREIGN KEY (association)\n",
    "    REFERENCES association(id) ON DELETE CASCADE\n",
    ");\n",
    "\n",
    "-- association effect that causes a suppressed category on a categorical variable\n",
    "CREATE TABLE suppressed_category_effect (\n",
    "  id integer GENERATED ALWAYS AS IDENTITY PRIMARY KEY,\n",
    "  association integer NOT NULL,\n",
    "  category integer NOT NULL,\n",
    "  CONSTRAINT uq_suppressed_category_effect UNIQUE (association, category),\n",
    "  CONSTRAINT fk_suppressed_category_effect_category FOREIGN KEY (category)\n",
    "    REFERENCES category(variable) ON DELETE CASCADE,\n",
    "  CONSTRAINT fk_suppressed_category_effect_association FOREIGN KEY (association)\n",
    "    REFERENCES association(id) ON DELETE CASCADE\n",
    ");\n",
    "\n",
    "-- single entity in a sample\n",
    "CREATE TABLE entity (\n",
    "  id integer GENERATED ALWAYS AS IDENTITY PRIMARY KEY,\n",
    "  name citext NOT NULL UNIQUE\n",
    ");\n",
    "\n",
    "-- entity generated by a model\n",
    "CREATE TABLE generated_entity (\n",
    "  id integer GENERATED ALWAYS AS IDENTITY PRIMARY KEY,\n",
    "  entity integer NOT NULL UNIQUE,\n",
    "  model integer NOT NULL,\n",
    "  CONSTRAINT fk_generated_entity_entity FOREIGN KEY (entity)\n",
    "    REFERENCES entity(id) ON DELETE CASCADE,\n",
    "  CONSTRAINT fk_generated_entity_model FOREIGN KEY (model)\n",
    "    REFERENCES model(id) ON DELETE CASCADE\n",
    ");\n",
    "\n",
    "-- observations from a set of entities\n",
    "CREATE TABLE sample (\n",
    "  id integer GENERATED ALWAYS AS IDENTITY PRIMARY KEY,\n",
    "  name citext NOT NULL UNIQUE\n",
    ");\n",
    "\n",
    "-- sample generated by a model\n",
    "CREATE TABLE generated_sample (\n",
    "  sample integer PRIMARY KEY,\n",
    "  model integer NOT NULL,\n",
    "  CONSTRAINT fk_generated_sample_model FOREIGN KEY (model)\n",
    "    REFERENCES model(id) ON DELETE CASCADE,\n",
    "  CONSTRAINT fk_generated_sample_sample FOREIGN KEY (sample)\n",
    "    REFERENCES sample(id) ON DELETE CASCADE\n",
    ");\n",
    "\n",
    "-- variable found in a sample\n",
    "CREATE TABLE real_variable (\n",
    "  variable integer PRIMARY KEY,\n",
    "  sample integer NOT NULL,\n",
    "  name citext NOT NULL,\n",
    "  CONSTRAINT uq_real_variable UNIQUE (sample, name),\n",
    "  CONSTRAINT fk_real_variable_variable FOREIGN KEY (variable)\n",
    "    REFERENCES variable(id) ON DELETE CASCADE,\n",
    "  CONSTRAINT fk_real_variable_sample FOREIGN KEY (sample)\n",
    "    REFERENCES sample(id) ON DELETE CASCADE\n",
    ");\n",
    "\n",
    "-- variable that is used by a model\n",
    "CREATE TABLE input_variable (\n",
    "  id integer GENERATED ALWAYS AS IDENTITY PRIMARY KEY,\n",
    "  model integer NOT NULL,\n",
    "  variable integer NOT NULL,\n",
    "  CONSTRAINT uq_input_variable UNIQUE (model, variable),\n",
    "  CONSTRAINT fk_input_variable_model FOREIGN KEY (model)\n",
    "    REFERENCES model(id) ON DELETE CASCADE,\n",
    "  CONSTRAINT fk_input_variable_variable FOREIGN KEY (variable)\n",
    "    REFERENCES variable(id) ON DELETE CASCADE\n",
    ");\n",
    "\n",
    "-- state (set of data points) of an entity at a time\n",
    "CREATE TABLE observation (\n",
    "  id integer GENERATED ALWAYS AS IDENTITY PRIMARY KEY,\n",
    "  entity integer NOT NULL,\n",
    "  time double precision NOT NULL,\n",
    "  CONSTRAINT uq_observation UNIQUE (entity, time),\n",
    "  CONSTRAINT fk_observation_entity FOREIGN KEY (entity)\n",
    "    REFERENCES entity(id) ON DELETE CASCADE\n",
    ");\n",
    "\n",
    "-- abstract observed value of a variable for an entity\n",
    "CREATE TABLE data_point (\n",
    "  id integer GENERATED ALWAYS AS IDENTITY PRIMARY KEY,\n",
    "  observation integer NOT NULL,\n",
    "  CONSTRAINT fk_data_point_observation FOREIGN KEY (observation)\n",
    "    REFERENCES observation(id) ON DELETE CASCADE\n",
    ");\n",
    "\n",
    "-- observed value for a quantitative variable\n",
    "CREATE TABLE numeric_data_point (\n",
    "  data_point integer PRIMARY KEY,\n",
    "  value double precision NOT NULL,\n",
    "  CONSTRAINT fk_numeric_data_point FOREIGN KEY (data_point)\n",
    "    REFERENCES data_point(id) ON DELETE CASCADE\n",
    ");\n",
    "\n",
    "-- observed value for a categorical variable\n",
    "CREATE TABLE categorical_data_point (\n",
    "  data_point integer PRIMARY KEY,\n",
    "  category integer NOT NULL,\n",
    "  CONSTRAINT fk_categorical_data_point FOREIGN KEY (data_point)\n",
    "    REFERENCES data_point(id) ON DELETE CASCADE,\n",
    "  CONSTRAINT fk_categorical_data_point_category FOREIGN KEY (category)\n",
    "    REFERENCES category(variable) ON DELETE CASCADE\n",
    ");\n",
    "\n",
    "-- locked observed value in regards to a re-generation\n",
    "CREATE TABLE locked_data_point (\n",
    "  id integer GENERATED ALWAYS AS IDENTITY PRIMARY KEY,\n",
    "  locked integer NOT NULL,\n",
    "  locking integer NOT NULL,\n",
    "  CONSTRAINT uq_locked_data_point UNIQUE (locked, locking),\n",
    "  CONSTRAINT fk_locked_data_point_locked FOREIGN KEY (locked)\n",
    "    REFERENCES generated_data_point(data_point) ON DELETE CASCADE,\n",
    "  CONSTRAINT fk_locked_data_point_locking FOREIGN KEY (locking)\n",
    "    REFERENCES generated_data_point(data_point) ON DELETE CASCADE\n",
    ");\n",
    "\n",
    "-- observed value generated by a model\n",
    "CREATE TABLE generated_data_point (\n",
    "  data_point integer PRIMARY KEY,\n",
    "  model integer NOT NULL,\n",
    "  CONSTRAINT fk_generated_data_point_model FOREIGN KEY (model)\n",
    "    REFERENCES model(id) ON DELETE CASCADE,\n",
    "  CONSTRAINT fk_generated_data_point FOREIGN KEY (data_point)\n",
    "    REFERENCES data_point(id) ON DELETE CASCADE\n",
    ");"
   ]
  },
  {
   "cell_type": "markdown",
   "id": "f698e65d",
   "metadata": {},
   "source": [
    "## Attribute Type"
   ]
  },
  {
   "cell_type": "code",
   "execution_count": null,
   "id": "681cf2b1-ce90-42f7-bcb5-b254c27d6f18",
   "metadata": {
    "editable": true,
    "slideshow": {
     "slide_type": ""
    },
    "tags": [],
    "vscode": {
     "languageId": "sql"
    }
   },
   "outputs": [],
   "source": [
    "%%sql\n",
    "\n",
    "DROP TYPE IF EXISTS attr_type CASCADE;\n",
    "CREATE TYPE attr_type AS ENUM ('discrete','continuous');"
   ]
  },
  {
   "cell_type": "markdown",
   "id": "48c53a4c",
   "metadata": {},
   "source": [
    "## Attribute"
   ]
  },
  {
   "cell_type": "code",
   "execution_count": null,
   "id": "59a3bb70",
   "metadata": {
    "vscode": {
     "languageId": "sql"
    }
   },
   "outputs": [],
   "source": [
    "%%sql\n",
    "\n",
    "DROP TABLE IF EXISTS attribute CASCADE;\n",
    "CREATE TABLE attribute (\n",
    "    id integer GENERATED ALWAYS AS IDENTITY PRIMARY KEY,\n",
    "    name varchar(255) NOT NULL UNIQUE,\n",
    "    type attr_type NOT NULL,\n",
    "    decimals integer,\n",
    "    max_value double precision,\n",
    "    min_value double precision,\n",
    "    mode_value double precision,\n",
    "    concentration double precision,\n",
    "    skew double precision,\n",
    "    units varchar(255),\n",
    "    CHECK (\n",
    "        max_value IS NULL\n",
    "        OR min_value IS NULL\n",
    "        OR max_value >= min_value\n",
    "    ),\n",
    "    CHECK (\n",
    "        (\n",
    "            type = 'discrete'\n",
    "            AND decimals IS NULL\n",
    "            AND max_value IS NULL\n",
    "            AND min_value IS NULL\n",
    "            AND mode_value IS NULL\n",
    "            AND concentration IS NULL\n",
    "            AND skew IS NULL\n",
    "            AND units IS NULL\n",
    "        )\n",
    "        OR (\n",
    "            type = 'continuous'\n",
    "            AND decimals IS NOT NULL\n",
    "            AND max_value IS NOT NULL\n",
    "            AND min_value IS NOT NULL\n",
    "            AND mode_value IS NOT NULL\n",
    "            AND concentration IS NOT NULL\n",
    "            AND skew IS NOT NULL\n",
    "        )\n",
    "    )\n",
    ");"
   ]
  },
  {
   "cell_type": "markdown",
   "id": "7d9479d0",
   "metadata": {},
   "source": [
    "## Span"
   ]
  },
  {
   "cell_type": "code",
   "execution_count": null,
   "id": "65160534",
   "metadata": {
    "vscode": {
     "languageId": "sql"
    }
   },
   "outputs": [],
   "source": [
    "%%sql\n",
    "\n",
    "DROP TABLE IF EXISTS span CASCADE;\n",
    "CREATE TABLE span (\n",
    "    id integer GENERATED ALWAYS AS IDENTITY PRIMARY KEY,\n",
    "    attribute_id integer NOT NULL,\n",
    "    label varchar(255) NOT NULL,\n",
    "    type attr_type NOT NULL,\n",
    "    is_pinned boolean,\n",
    "    weight double precision,\n",
    "    max_value double precision,\n",
    "    min_value double precision,\n",
    "    CONSTRAINT uq_span_label_within_attribute UNIQUE (attribute_id, label),\n",
    "    CONSTRAINT fk_span_to_attribute FOREIGN KEY (attribute_id) REFERENCES attribute (id) ON DELETE CASCADE,\n",
    "    CHECK (\n",
    "        max_value IS NULL\n",
    "        OR min_value IS NULL\n",
    "        OR max_value >= min_value\n",
    "    ),\n",
    "    CHECK (\n",
    "        (\n",
    "            type = 'discrete'\n",
    "            AND is_pinned IS NOT NULL\n",
    "            AND weight IS NOT NULL\n",
    "            AND max_value IS NULL\n",
    "            AND min_value IS NULL\n",
    "        )\n",
    "        OR (\n",
    "            type = 'continuous'\n",
    "            AND is_pinned IS NULL\n",
    "            AND weight IS NULL\n",
    "            AND max_value IS NOT NULL\n",
    "            AND min_value IS NOT NULL\n",
    "        )\n",
    "    )\n",
    ");"
   ]
  },
  {
   "cell_type": "markdown",
   "id": "03ca0f0c",
   "metadata": {},
   "source": [
    "## Variant"
   ]
  },
  {
   "cell_type": "code",
   "execution_count": null,
   "id": "c12fd699",
   "metadata": {
    "vscode": {
     "languageId": "sql"
    }
   },
   "outputs": [],
   "source": [
    "%%sql\n",
    "\n",
    "DROP TABLE IF EXISTS variant CASCADE;\n",
    "CREATE TABLE variant (\n",
    "    id integer GENERATED ALWAYS AS IDENTITY PRIMARY KEY,\n",
    "    name varchar(255) NOT NULL UNIQUE\n",
    ");"
   ]
  },
  {
   "cell_type": "markdown",
   "id": "e31fde56",
   "metadata": {},
   "source": [
    "## Subvariant Span"
   ]
  },
  {
   "cell_type": "code",
   "execution_count": null,
   "id": "b08edbf2",
   "metadata": {
    "vscode": {
     "languageId": "sql"
    }
   },
   "outputs": [],
   "source": [
    "%%sql\n",
    "\n",
    "DROP TABLE IF EXISTS subvariant_span CASCADE;\n",
    "CREATE TABLE subvariant_span (\n",
    "    id integer GENERATED ALWAYS AS IDENTITY PRIMARY KEY,\n",
    "    span_id integer NOT NULL,\n",
    "    variant_id integer NOT NULL,\n",
    "    CONSTRAINT fk_subv_span_span FOREIGN KEY (span_id) REFERENCES span (id) ON DELETE CASCADE,\n",
    "    CONSTRAINT fk_subv_span_variant FOREIGN KEY (variant_id) REFERENCES variant (id) ON DELETE CASCADE\n",
    ");"
   ]
  },
  {
   "cell_type": "markdown",
   "id": "3a61d11e",
   "metadata": {},
   "source": [
    "## Variant Entry"
   ]
  },
  {
   "cell_type": "code",
   "execution_count": null,
   "id": "aa247573",
   "metadata": {
    "vscode": {
     "languageId": "sql"
    }
   },
   "outputs": [],
   "source": [
    "%%sql\n",
    "\n",
    "DROP TABLE IF EXISTS variant_entry CASCADE;\n",
    "CREATE TABLE variant_entry (\n",
    "    id integer GENERATED ALWAYS AS IDENTITY PRIMARY KEY,\n",
    "    name varchar(255) NOT NULL,\n",
    "    variant_id integer NOT NULL,\n",
    "    causation_index integer NOT NULL,\n",
    "    CONSTRAINT unique_ventry_name UNIQUE (variant_id, name),\n",
    "    CONSTRAINT unique_ventry_index UNIQUE (variant_id, causation_index),\n",
    "    CONSTRAINT fk_ventry_variant FOREIGN KEY (variant_id) REFERENCES variant (id) ON DELETE CASCADE\n",
    ");"
   ]
  },
  {
   "cell_type": "markdown",
   "id": "19e7a99b",
   "metadata": {},
   "source": [
    "## Variant Reference"
   ]
  },
  {
   "cell_type": "code",
   "execution_count": null,
   "id": "7ee8461a",
   "metadata": {
    "vscode": {
     "languageId": "sql"
    }
   },
   "outputs": [],
   "source": [
    "%%sql\n",
    "\n",
    "DROP TABLE IF EXISTS variant_ref CASCADE;\n",
    "CREATE TABLE variant_ref (\n",
    "    id integer GENERATED ALWAYS AS IDENTITY PRIMARY KEY,\n",
    "    variant_entry_id integer NOT NULL,\n",
    "    variant_id integer NOT NULL,  \n",
    "    CONSTRAINT fk_variant_ref_entry_id FOREIGN KEY (variant_entry_id) REFERENCES variant_entry (id) ON DELETE CASCADE,  \n",
    "    CONSTRAINT fk_variant_ref_attr FOREIGN KEY (variant_id) REFERENCES variant (id) ON DELETE CASCADE\n",
    ");"
   ]
  },
  {
   "cell_type": "markdown",
   "id": "e89eace0",
   "metadata": {},
   "source": [
    "## Attribute Reference"
   ]
  },
  {
   "cell_type": "code",
   "execution_count": null,
   "id": "ff41d997",
   "metadata": {
    "vscode": {
     "languageId": "sql"
    }
   },
   "outputs": [],
   "source": [
    "%%sql\n",
    "\n",
    "DROP TABLE IF EXISTS attribute_ref CASCADE;\n",
    "CREATE TABLE attribute_ref (\n",
    "    id integer GENERATED ALWAYS AS IDENTITY PRIMARY KEY,\n",
    "    variant_entry_id integer NOT NULL,\n",
    "    attribute_id integer NOT NULL,  \n",
    "    CONSTRAINT fk_attribute_ref_entry_id FOREIGN KEY (variant_entry_id) REFERENCES variant_entry (id) ON DELETE CASCADE,  \n",
    "    CONSTRAINT fk_attribute_ref_attr FOREIGN KEY (attribute_id) REFERENCES attribute (id) ON DELETE CASCADE\n",
    ");"
   ]
  },
  {
   "cell_type": "markdown",
   "id": "a50b0e7b",
   "metadata": {},
   "source": [
    "## Possible Attribute"
   ]
  },
  {
   "cell_type": "code",
   "execution_count": null,
   "id": "74f337a2",
   "metadata": {
    "vscode": {
     "languageId": "sql"
    }
   },
   "outputs": [],
   "source": [
    "%%sql\n",
    "\n",
    "DROP TABLE IF EXISTS possible_attr CASCADE;\n",
    "CREATE TABLE possible_attr (\n",
    "    id integer GENERATED ALWAYS AS IDENTITY PRIMARY KEY,\n",
    "    variant_entry_id integer NOT NULL,\n",
    "    span_id integer,\n",
    "    parent_possible_attr_id integer,\n",
    "    CONSTRAINT unique_possible_attr UNIQUE (parent_possible_attr_id, variant_entry_id, span_id),\n",
    "    CONSTRAINT fk_possible_attr_ventry FOREIGN KEY (variant_entry_id) REFERENCES variant_entry (id) ON DELETE CASCADE,\n",
    "    CONSTRAINT fk_possible_attr_span FOREIGN KEY (span_id) REFERENCES span (id) ON DELETE CASCADE,\n",
    "    CONSTRAINT fk_possible_attr_parent FOREIGN KEY (parent_possible_attr_id) REFERENCES possible_attr (id) ON DELETE CASCADE\n",
    ");"
   ]
  },
  {
   "cell_type": "markdown",
   "id": "8f0119c7",
   "metadata": {},
   "source": [
    "## Effect"
   ]
  },
  {
   "cell_type": "code",
   "execution_count": null,
   "id": "e04bf8d3",
   "metadata": {
    "vscode": {
     "languageId": "sql"
    }
   },
   "outputs": [],
   "source": [
    "%%sql\n",
    "\n",
    "DROP TABLE IF EXISTS effect CASCADE;\n",
    "CREATE TABLE effect (\n",
    "    id integer GENERATED ALWAYS AS IDENTITY PRIMARY KEY,\n",
    "    name varchar(255) NOT NULL UNIQUE,\n",
    "    variant_id integer NOT NULL,\n",
    "    span_id integer NOT NULL,\n",
    "    to_modify_possible_attr_id integer NOT NULL,\n",
    "    activating_possible_attr_id integer NOT NULL,\n",
    "    CONSTRAINT uq_effect UNIQUE (span_id, to_modify_possible_attr_id, activating_possible_attr_id),\n",
    "    CONSTRAINT fk_effect_variant FOREIGN KEY (variant_id) REFERENCES variant (id) ON DELETE CASCADE,\n",
    "    CONSTRAINT fk_effect_span FOREIGN KEY (span_id) REFERENCES span (id) ON DELETE CASCADE,\n",
    "    CONSTRAINT fk_effect_psattr_to_modify FOREIGN KEY (to_modify_possible_attr_id) REFERENCES possible_attr (id) ON DELETE CASCADE,\n",
    "    CONSTRAINT fk_effect_psattr_activating FOREIGN KEY (activating_possible_attr_id) REFERENCES possible_attr (id) ON DELETE CASCADE\n",
    ");"
   ]
  },
  {
   "cell_type": "markdown",
   "id": "639f2865",
   "metadata": {},
   "source": [
    "## Delta Parameter Effect"
   ]
  },
  {
   "cell_type": "code",
   "execution_count": null,
   "id": "56fcea4a",
   "metadata": {
    "vscode": {
     "languageId": "sql"
    }
   },
   "outputs": [],
   "source": [
    "%%sql\n",
    "\n",
    "DROP TABLE IF EXISTS delta_param_eft CASCADE;\n",
    "CREATE TABLE delta_param_eft (    \n",
    "    id integer GENERATED ALWAYS AS IDENTITY PRIMARY KEY,\n",
    "    effect_id integer NOT NULL,\n",
    "    delta_mode double precision NOT NULL,\n",
    "    delta_conc double precision NOT NULL,\n",
    "    delta_skew double precision NOT NULL,\n",
    "    CONSTRAINT fk_var_continuous_attr_effect FOREIGN KEY (effect_id) REFERENCES effect (id) ON DELETE CASCADE\n",
    ");"
   ]
  },
  {
   "cell_type": "markdown",
   "id": "016948ea",
   "metadata": {},
   "source": [
    "## Add Span Effect"
   ]
  },
  {
   "cell_type": "code",
   "execution_count": null,
   "id": "24a18b28",
   "metadata": {
    "vscode": {
     "languageId": "sql"
    }
   },
   "outputs": [],
   "source": [
    "%%sql\n",
    "\n",
    "DROP TABLE IF EXISTS add_span_eft CASCADE;\n",
    "CREATE TABLE add_span_eft (\n",
    "    id integer GENERATED ALWAYS AS IDENTITY PRIMARY KEY,\n",
    "    effect_id integer NOT NULL,\n",
    "    span_id integer NOT NULL,\n",
    "    CONSTRAINT fk_var_activated_span_span FOREIGN KEY (span_id) REFERENCES span (id) ON DELETE CASCADE,\n",
    "    CONSTRAINT fk_var_activated_span_effect FOREIGN KEY (effect_id) REFERENCES effect (id) ON DELETE CASCADE\n",
    ");"
   ]
  },
  {
   "cell_type": "markdown",
   "id": "3decf278",
   "metadata": {},
   "source": [
    "## Delta Weight Effect"
   ]
  },
  {
   "cell_type": "code",
   "execution_count": null,
   "id": "db5aa316",
   "metadata": {
    "vscode": {
     "languageId": "sql"
    }
   },
   "outputs": [],
   "source": [
    "%%sql\n",
    "\n",
    "DROP TABLE IF EXISTS delta_weight_eft CASCADE;\n",
    "CREATE TABLE delta_weight_eft (\n",
    "    id integer GENERATED ALWAYS AS IDENTITY PRIMARY KEY,\n",
    "    effect_id integer NOT NULL,\n",
    "    span_id integer NOT NULL,\n",
    "    delta_weight double precision NOT NULL,\n",
    "    CONSTRAINT fk_var_delta_weight_span FOREIGN KEY (span_id) REFERENCES span (id) ON DELETE CASCADE,\n",
    "    CONSTRAINT fk_var_delta_weight_effect FOREIGN KEY (effect_id) REFERENCES effect (id) ON DELETE CASCADE\n",
    ");"
   ]
  },
  {
   "cell_type": "markdown",
   "id": "d79108e8",
   "metadata": {},
   "source": [
    "## Remove Span Effect"
   ]
  },
  {
   "cell_type": "code",
   "execution_count": null,
   "id": "265494cc",
   "metadata": {
    "vscode": {
     "languageId": "sql"
    }
   },
   "outputs": [],
   "source": [
    "%%sql\n",
    "\n",
    "DROP TABLE IF EXISTS remove_span_eft CASCADE;\n",
    "CREATE TABLE remove_span_eft (\n",
    "    id integer GENERATED ALWAYS AS IDENTITY PRIMARY KEY,\n",
    "    effect_id integer NOT NULL,\n",
    "    span_id integer NOT NULL,\n",
    "    CONSTRAINT fk_var_inactive_span_span FOREIGN KEY (span_id) REFERENCES span (id) ON DELETE CASCADE,\n",
    "    CONSTRAINT fk_var_inactive_span_effect FOREIGN KEY (effect_id) REFERENCES effect (id) ON DELETE CASCADE\n",
    ");"
   ]
  },
  {
   "cell_type": "markdown",
   "id": "feba2df8",
   "metadata": {},
   "source": [
    "## Entity"
   ]
  },
  {
   "cell_type": "code",
   "execution_count": null,
   "id": "7dc7fcaf",
   "metadata": {
    "vscode": {
     "languageId": "sql"
    }
   },
   "outputs": [],
   "source": [
    "%%sql\n",
    "\n",
    "DROP TABLE IF EXISTS entity CASCADE;\n",
    "CREATE TABLE entity (\n",
    "    id integer GENERATED ALWAYS AS IDENTITY PRIMARY KEY,\n",
    "    variant_id integer NOT NULL,\n",
    "    name varchar(255) NOT NULL UNIQUE,\n",
    "    CONSTRAINT fk_entity_variant FOREIGN KEY (variant_id) REFERENCES variant (id) ON DELETE CASCADE\n",
    ");"
   ]
  },
  {
   "cell_type": "markdown",
   "id": "758ef38b",
   "metadata": {},
   "source": [
    "## Entity Group"
   ]
  },
  {
   "cell_type": "code",
   "execution_count": null,
   "id": "aac08d60",
   "metadata": {
    "vscode": {
     "languageId": "sql"
    }
   },
   "outputs": [],
   "source": [
    "%%sql\n",
    "\n",
    "DROP TABLE IF EXISTS entity_group CASCADE;\n",
    "CREATE TABLE entity_group (\n",
    "    id integer GENERATED ALWAYS AS IDENTITY PRIMARY KEY,\n",
    "    name varchar(255) NOT NULL UNIQUE\n",
    ");"
   ]
  },
  {
   "cell_type": "markdown",
   "id": "5eee51f3",
   "metadata": {},
   "source": [
    "## Entity Group Link"
   ]
  },
  {
   "cell_type": "code",
   "execution_count": null,
   "id": "2a9e663c",
   "metadata": {
    "vscode": {
     "languageId": "sql"
    }
   },
   "outputs": [],
   "source": [
    "%%sql\n",
    "\n",
    "DROP TABLE IF EXISTS entity_group_link CASCADE;\n",
    "CREATE TABLE entity_group_link (\n",
    "    id integer GENERATED ALWAYS AS IDENTITY PRIMARY KEY,\n",
    "    entity_id integer NOT NULL,\n",
    "    entity_group_id integer NOT NULL,\n",
    "    CONSTRAINT unique_link_entity_group UNIQUE (entity_group_id, entity_id),\n",
    "    CONSTRAINT fk_entity FOREIGN KEY (entity_id) REFERENCES entity (id) ON DELETE CASCADE,\n",
    "    CONSTRAINT fk_entity_group FOREIGN KEY (entity_group_id) REFERENCES entity_group (id) ON DELETE CASCADE\n",
    ");"
   ]
  },
  {
   "cell_type": "markdown",
   "id": "7c317c6c",
   "metadata": {},
   "source": [
    "## Entity State"
   ]
  },
  {
   "cell_type": "code",
   "execution_count": null,
   "id": "d811909c",
   "metadata": {
    "vscode": {
     "languageId": "sql"
    }
   },
   "outputs": [],
   "source": [
    "%%sql\n",
    "\n",
    "DROP TABLE IF EXISTS entity_state CASCADE;\n",
    "CREATE TABLE entity_state (\n",
    "    id integer GENERATED ALWAYS AS IDENTITY PRIMARY KEY,\n",
    "    entity_id integer NOT NULL,\n",
    "    time double precision NOT NULL,\n",
    "    CONSTRAINT unique_entity_time UNIQUE (entity_id, time),\n",
    "    CONSTRAINT fk_entity FOREIGN KEY (entity_id) REFERENCES entity (id) ON DELETE CASCADE\n",
    ");"
   ]
  },
  {
   "cell_type": "markdown",
   "id": "f6f9ad4d",
   "metadata": {},
   "source": [
    "## Attribute Value"
   ]
  },
  {
   "cell_type": "code",
   "execution_count": null,
   "id": "785b96c2",
   "metadata": {
    "vscode": {
     "languageId": "sql"
    }
   },
   "outputs": [],
   "source": [
    "%%sql\n",
    "\n",
    "DROP TABLE IF EXISTS attr_value CASCADE;\n",
    "CREATE TABLE attr_value (\n",
    "    id integer GENERATED ALWAYS AS IDENTITY PRIMARY KEY,\n",
    "    entity_state_id integer NOT NULL,\n",
    "    numeric_value double precision,\n",
    "    span_id integer,\n",
    "    possible_attr_id integer NOT NULL,\n",
    "    CONSTRAINT unique_state_possible_attr UNIQUE (entity_state_id, possible_attr_id),\n",
    "    CONSTRAINT fk_attr_val_entity_state FOREIGN KEY (entity_state_id) REFERENCES entity_state (id) ON DELETE CASCADE,\n",
    "    CONSTRAINT fk_attr_val_span FOREIGN KEY (span_id) REFERENCES span (id) ON DELETE CASCADE,\n",
    "    CONSTRAINT fk_attr_val_possible_attr FOREIGN KEY (possible_attr_id) REFERENCES possible_attr (id) ON DELETE CASCADE\n",
    ");"
   ]
  },
  {
   "cell_type": "markdown",
   "id": "93eeef51",
   "metadata": {},
   "source": [
    "## Attribute Value Lock"
   ]
  },
  {
   "cell_type": "code",
   "execution_count": null,
   "id": "b2406d91",
   "metadata": {
    "vscode": {
     "languageId": "sql"
    }
   },
   "outputs": [],
   "source": [
    "%%sql\n",
    "\n",
    "DROP TABLE IF EXISTS attr_val_lock CASCADE;\n",
    "CREATE TABLE attr_val_lock (\n",
    "    id integer GENERATED ALWAYS AS IDENTITY PRIMARY KEY,\n",
    "    locked_attr_val_id integer NOT NULL,\n",
    "    locking_attr_val_id integer,\n",
    "    CONSTRAINT unique_attr_val_lock UNIQUE (locking_attr_val_id, locked_attr_val_id),\n",
    "    CONSTRAINT fk_attr_val_lock_locked_attr_val FOREIGN KEY (locked_attr_val_id) REFERENCES attr_value (id) ON DELETE CASCADE,\n",
    "    CONSTRAINT fk_attr_val_lock_locking_attr_val FOREIGN KEY (locking_attr_val_id) REFERENCES attr_value (id) ON DELETE CASCADE\n",
    ");"
   ]
  },
  {
   "cell_type": "markdown",
   "id": "e008e374",
   "metadata": {},
   "source": [
    "# Triggers"
   ]
  },
  {
   "cell_type": "markdown",
   "id": "cb437589",
   "metadata": {},
   "source": [
    "## Delete Orphan possible_attr"
   ]
  },
  {
   "cell_type": "code",
   "execution_count": null,
   "id": "75bd0a4e",
   "metadata": {
    "vscode": {
     "languageId": "sql"
    }
   },
   "outputs": [],
   "source": [
    "%%sql\n",
    "\n",
    "CREATE OR REPLACE FUNCTION check_delete_possible_attr_from_effect()\n",
    "RETURNS TRIGGER AS $$\n",
    "DECLARE\n",
    "    orphan_count INTEGER;\n",
    "BEGIN\n",
    "    -- Check the to_modify_possible_attr_id column\n",
    "    IF OLD.to_modify_possible_attr_id IS NOT NULL THEN\n",
    "        SELECT\n",
    "            (SELECT COUNT(*) FROM effect WHERE to_modify_possible_attr_id = OLD.to_modify_possible_attr_id)\n",
    "          + (SELECT COUNT(*) FROM effect WHERE activating_possible_attr_id = OLD.to_modify_possible_attr_id)\n",
    "          + (SELECT COUNT(*) FROM attr_value WHERE possible_attr_id = OLD.to_modify_possible_attr_id)\n",
    "          INTO orphan_count;\n",
    "          \n",
    "        IF orphan_count = 0 THEN\n",
    "            DELETE FROM possible_attr WHERE id = OLD.to_modify_possible_attr_id;\n",
    "        END IF;\n",
    "    END IF;\n",
    "    \n",
    "    -- Check the activating_possible_attr_id column (if different)\n",
    "    IF OLD.activating_possible_attr_id IS NOT NULL\n",
    "       AND (OLD.activating_possible_attr_id <> OLD.to_modify_possible_attr_id) THEN\n",
    "        SELECT\n",
    "            (SELECT COUNT(*) FROM effect WHERE to_modify_possible_attr_id = OLD.activating_possible_attr_id)\n",
    "          + (SELECT COUNT(*) FROM effect WHERE activating_possible_attr_id = OLD.activating_possible_attr_id)\n",
    "          + (SELECT COUNT(*) FROM attr_value WHERE possible_attr_id = OLD.activating_possible_attr_id)\n",
    "          INTO orphan_count;\n",
    "          \n",
    "        IF orphan_count = 0 THEN\n",
    "            DELETE FROM possible_attr WHERE id = OLD.activating_possible_attr_id;\n",
    "        END IF;\n",
    "    END IF;\n",
    "    \n",
    "    RETURN NULL;\n",
    "END;\n",
    "$$ LANGUAGE plpgsql;\n",
    "\n",
    "CREATE OR REPLACE FUNCTION check_delete_possible_attr_from_attr_val()\n",
    "RETURNS TRIGGER AS $$\n",
    "DECLARE\n",
    "    orphan_count INTEGER;\n",
    "BEGIN\n",
    "    SELECT\n",
    "        (SELECT COUNT(*) FROM effect \n",
    "           WHERE to_modify_possible_attr_id = OLD.possible_attr_id\n",
    "              OR activating_possible_attr_id = OLD.possible_attr_id)\n",
    "      + (SELECT COUNT(*) FROM attr_value WHERE possible_attr_id = OLD.possible_attr_id)\n",
    "      INTO orphan_count;\n",
    "      \n",
    "    IF orphan_count = 0 THEN\n",
    "        DELETE FROM possible_attr WHERE id = OLD.possible_attr_id;\n",
    "    END IF;\n",
    "    \n",
    "    RETURN NULL;\n",
    "END;\n",
    "$$ LANGUAGE plpgsql;\n",
    "\n",
    "CREATE OR REPLACE TRIGGER trg_check_delete_possible_attr_from_effect\n",
    "AFTER DELETE ON effect\n",
    "FOR EACH ROW\n",
    "EXECUTE FUNCTION check_delete_possible_attr_from_effect();\n",
    "\n",
    "CREATE OR REPLACE TRIGGER trg_check_delete_possible_attr_from_attr_val\n",
    "AFTER DELETE ON attr_value\n",
    "FOR EACH ROW\n",
    "EXECUTE FUNCTION check_delete_possible_attr_from_attr_val();"
   ]
  },
  {
   "cell_type": "markdown",
   "id": "c42614aa",
   "metadata": {},
   "source": [
    "## Delete Orphan Span"
   ]
  },
  {
   "cell_type": "code",
   "execution_count": null,
   "id": "2f257dd8",
   "metadata": {
    "vscode": {
     "languageId": "sql"
    }
   },
   "outputs": [],
   "source": [
    "%%sql\n",
    "\n",
    "CREATE OR REPLACE FUNCTION delete_orphaned_span() RETURNS TRIGGER AS $$\n",
    "BEGIN\n",
    "    DELETE FROM span WHERE id = OLD.span_id;\n",
    "    RETURN OLD;\n",
    "END;\n",
    "$$ LANGUAGE plpgsql;\n",
    "\n",
    "CREATE OR REPLACE TRIGGER trg_delete_span_after_activation_delete\n",
    "AFTER DELETE ON add_span_eft\n",
    "FOR EACH ROW\n",
    "EXECUTE FUNCTION delete_orphaned_span();"
   ]
  },
  {
   "cell_type": "markdown",
   "id": "488b2a50",
   "metadata": {
    "jp-MarkdownHeadingCollapsed": true
   },
   "source": [
    "# Create Indexes"
   ]
  },
  {
   "cell_type": "markdown",
   "id": "8d4ca730",
   "metadata": {},
   "source": [
    "## idx_attribute_name"
   ]
  },
  {
   "cell_type": "code",
   "execution_count": null,
   "id": "dfab96a4",
   "metadata": {
    "vscode": {
     "languageId": "sql"
    }
   },
   "outputs": [],
   "source": [
    "%%sql\n",
    "\n",
    "DROP INDEX IF EXISTS idx_attribute_name;\n",
    "CREATE INDEX idx_attribute_name ON attribute (name);"
   ]
  },
  {
   "cell_type": "markdown",
   "id": "89b87c60",
   "metadata": {},
   "source": [
    "## idx_span_attribute_id"
   ]
  },
  {
   "cell_type": "code",
   "execution_count": null,
   "id": "cb0c2059",
   "metadata": {
    "vscode": {
     "languageId": "sql"
    }
   },
   "outputs": [],
   "source": [
    "%%sql\n",
    "\n",
    "DROP INDEX IF EXISTS idx_span_attribute_id;\n",
    "CREATE INDEX idx_span_attribute_id ON span (attribute_id);"
   ]
  },
  {
   "cell_type": "markdown",
   "id": "86077903",
   "metadata": {},
   "source": [
    "## idx_span_attr_type"
   ]
  },
  {
   "cell_type": "code",
   "execution_count": null,
   "id": "864438fb",
   "metadata": {
    "vscode": {
     "languageId": "sql"
    }
   },
   "outputs": [],
   "source": [
    "%%sql\n",
    "\n",
    "DROP INDEX IF EXISTS idx_span_attr_type;\n",
    "CREATE INDEX idx_span_attr_type ON span(attribute_id, type, id);"
   ]
  },
  {
   "cell_type": "markdown",
   "id": "46dddbc2",
   "metadata": {},
   "source": [
    "## idx_span_attr_type"
   ]
  },
  {
   "cell_type": "code",
   "execution_count": null,
   "id": "4d75bad1",
   "metadata": {
    "vscode": {
     "languageId": "sql"
    }
   },
   "outputs": [],
   "source": [
    "%%sql\n",
    "\n",
    "DROP INDEX IF EXISTS idx_span_attr_type;\n",
    "CREATE INDEX idx_span_attr_type ON span(attribute_id, type, min_value, max_value);"
   ]
  },
  {
   "cell_type": "markdown",
   "id": "8d7b9005",
   "metadata": {},
   "source": [
    "## idx_span_attr_type_pinned"
   ]
  },
  {
   "cell_type": "code",
   "execution_count": null,
   "id": "20802af5",
   "metadata": {
    "vscode": {
     "languageId": "sql"
    }
   },
   "outputs": [],
   "source": [
    "%%sql\n",
    "\n",
    "DROP INDEX IF EXISTS idx_span_attr_type_pinned;\n",
    "CREATE INDEX idx_span_attr_type_pinned ON span(attribute_id, type, is_pinned);"
   ]
  },
  {
   "cell_type": "markdown",
   "id": "0cadc3f3",
   "metadata": {},
   "source": [
    "## idx_span_attr_type_pinned_wl"
   ]
  },
  {
   "cell_type": "code",
   "execution_count": null,
   "id": "a678d4d2",
   "metadata": {
    "vscode": {
     "languageId": "sql"
    }
   },
   "outputs": [],
   "source": [
    "%%sql\n",
    "\n",
    "DROP INDEX IF EXISTS idx_span_attr_type_pinned_wl;\n",
    "CREATE INDEX idx_span_attr_type_pinned_wl ON span(attribute_id, type, is_pinned, weight, label);"
   ]
  },
  {
   "cell_type": "markdown",
   "id": "67a3329d",
   "metadata": {},
   "source": [
    "## idx_variant_name"
   ]
  },
  {
   "cell_type": "code",
   "execution_count": null,
   "id": "e1c51655",
   "metadata": {
    "vscode": {
     "languageId": "sql"
    }
   },
   "outputs": [],
   "source": [
    "%%sql\n",
    "\n",
    "DROP INDEX IF EXISTS idx_variant_name;\n",
    "CREATE INDEX idx_variant_name ON variant (name);"
   ]
  },
  {
   "cell_type": "markdown",
   "id": "a979615f",
   "metadata": {},
   "source": [
    "## idx_variant_attr_attribute"
   ]
  },
  {
   "cell_type": "code",
   "execution_count": null,
   "id": "b9410268",
   "metadata": {
    "vscode": {
     "languageId": "sql"
    }
   },
   "outputs": [],
   "source": [
    "%%sql\n",
    "\n",
    "DROP INDEX IF EXISTS idx_attr_ref_attribute;\n",
    "CREATE INDEX idx_attr_ref_attribute ON attribute_ref (attribute_id);"
   ]
  },
  {
   "cell_type": "markdown",
   "id": "291fb0e1",
   "metadata": {},
   "source": [
    "## idx_variant_attr_variant"
   ]
  },
  {
   "cell_type": "code",
   "execution_count": null,
   "id": "1884c6df",
   "metadata": {
    "vscode": {
     "languageId": "sql"
    }
   },
   "outputs": [],
   "source": [
    "%%sql\n",
    "\n",
    "DROP INDEX IF EXISTS idx_variant_entry_variant;\n",
    "CREATE INDEX idx_variant_entry_variant ON variant_entry (variant_id);"
   ]
  },
  {
   "cell_type": "markdown",
   "id": "d4fa6103",
   "metadata": {},
   "source": [
    "## idx_variant_attr_variant_causation"
   ]
  },
  {
   "cell_type": "code",
   "execution_count": null,
   "id": "3316a90f",
   "metadata": {
    "vscode": {
     "languageId": "sql"
    }
   },
   "outputs": [],
   "source": [
    "%%sql\n",
    "\n",
    "DROP INDEX IF EXISTS idx_variant_entry_variant_causation;\n",
    "CREATE INDEX idx_variant_entry_variant_causation ON variant_entry (variant_id, causation_index);"
   ]
  },
  {
   "cell_type": "markdown",
   "id": "3e09c8eb",
   "metadata": {},
   "source": [
    "## idx_subvariant_span_span_id"
   ]
  },
  {
   "cell_type": "code",
   "execution_count": null,
   "id": "a505619c",
   "metadata": {
    "vscode": {
     "languageId": "sql"
    }
   },
   "outputs": [],
   "source": [
    "%%sql\n",
    "\n",
    "DROP INDEX IF EXISTS idx_subvariant_span_span_id;\n",
    "CREATE INDEX idx_subvariant_span_span_id ON subvariant_span (span_id);"
   ]
  },
  {
   "cell_type": "markdown",
   "id": "d61bb52c",
   "metadata": {},
   "source": [
    "## idx_possible_attr_variant_attr"
   ]
  },
  {
   "cell_type": "code",
   "execution_count": null,
   "id": "294e373a",
   "metadata": {
    "vscode": {
     "languageId": "sql"
    }
   },
   "outputs": [],
   "source": [
    "%%sql\n",
    "\n",
    "DROP INDEX IF EXISTS idx_possible_attr_ventry;\n",
    "CREATE INDEX idx_possible_attr_ventry ON possible_attr (variant_entry_id);"
   ]
  },
  {
   "cell_type": "markdown",
   "id": "a76e2135",
   "metadata": {},
   "source": [
    "## idx_possible_attr_vaid"
   ]
  },
  {
   "cell_type": "code",
   "execution_count": null,
   "id": "8254f2bb",
   "metadata": {
    "vscode": {
     "languageId": "sql"
    }
   },
   "outputs": [],
   "source": [
    "%%sql\n",
    "\n",
    "DROP INDEX IF EXISTS idx_possible_attr_ventry;\n",
    "CREATE INDEX idx_possible_attr_ventry ON possible_attr (variant_entry_id, id);"
   ]
  },
  {
   "cell_type": "markdown",
   "id": "3dc6126d-4c57-4acd-ba96-e4a024670843",
   "metadata": {},
   "source": [
    "## idx_possible_attr_parent"
   ]
  },
  {
   "cell_type": "code",
   "execution_count": null,
   "id": "6d5b5265-10af-4660-a25d-ec267c59f766",
   "metadata": {
    "vscode": {
     "languageId": "sql"
    }
   },
   "outputs": [],
   "source": [
    "%%sql\n",
    "\n",
    "DROP INDEX IF EXISTS idx_possible_attr_parent;\n",
    "CREATE INDEX idx_possible_attr_parent ON possible_attr(parent_possible_attr_id);"
   ]
  },
  {
   "cell_type": "markdown",
   "id": "3fc45d77",
   "metadata": {},
   "source": [
    "## idx_var_cont_variation"
   ]
  },
  {
   "cell_type": "code",
   "execution_count": null,
   "id": "1c8d8d66",
   "metadata": {
    "vscode": {
     "languageId": "sql"
    }
   },
   "outputs": [],
   "source": [
    "%%sql\n",
    "\n",
    "DROP INDEX IF EXISTS idx_var_cont_variation;\n",
    "CREATE INDEX idx_var_cont_variation ON delta_param_eft (effect_id);"
   ]
  },
  {
   "cell_type": "markdown",
   "id": "ba915cda-aab2-4fbb-ba5d-b1b72cdd10ba",
   "metadata": {},
   "source": [
    "## idx_effect_activating_psattr"
   ]
  },
  {
   "cell_type": "code",
   "execution_count": null,
   "id": "9662886b-ccc2-4824-8b24-a7f8d2a3c032",
   "metadata": {
    "vscode": {
     "languageId": "sql"
    }
   },
   "outputs": [],
   "source": [
    "%%sql\n",
    "\n",
    "DROP INDEX IF EXISTS idx_effect_activating_psattr;\n",
    "CREATE INDEX idx_effect_activating_psattr ON effect(activating_possible_attr_id);"
   ]
  },
  {
   "cell_type": "markdown",
   "id": "a7cadce9-1e8b-4f99-9802-5cebfd9b0fa6",
   "metadata": {},
   "source": [
    "## idx_effect_to_modify_psattr"
   ]
  },
  {
   "cell_type": "code",
   "execution_count": null,
   "id": "b7fc8e3f-0e02-4aac-a13d-5135369cc621",
   "metadata": {
    "vscode": {
     "languageId": "sql"
    }
   },
   "outputs": [],
   "source": [
    "%%sql\n",
    "\n",
    "DROP INDEX IF EXISTS idx_effect_to_modify_psattr;\n",
    "CREATE INDEX idx_effect_to_modify_psattr ON effect(to_modify_possible_attr_id);"
   ]
  },
  {
   "cell_type": "markdown",
   "id": "9123c137",
   "metadata": {},
   "source": [
    "## idx_add_span_eft_effect"
   ]
  },
  {
   "cell_type": "code",
   "execution_count": null,
   "id": "15972ef9",
   "metadata": {
    "vscode": {
     "languageId": "sql"
    }
   },
   "outputs": [],
   "source": [
    "%%sql\n",
    "\n",
    "DROP INDEX IF EXISTS idx_add_span_eft_effect;\n",
    "CREATE INDEX idx_add_span_eft_effect\n",
    "  ON add_span_eft(effect_id);"
   ]
  },
  {
   "cell_type": "markdown",
   "id": "6d10875a",
   "metadata": {},
   "source": [
    "## idx_add_span_eft_varid_spanid"
   ]
  },
  {
   "cell_type": "code",
   "execution_count": null,
   "id": "8c02f059",
   "metadata": {
    "vscode": {
     "languageId": "sql"
    }
   },
   "outputs": [],
   "source": [
    "%%sql\n",
    "\n",
    "DROP INDEX IF EXISTS idx_add_span_eft_effid_spanid;\n",
    "CREATE INDEX idx_add_span_eft_effid_spanid ON add_span_eft (effect_id, span_id);"
   ]
  },
  {
   "cell_type": "markdown",
   "id": "910db39f",
   "metadata": {},
   "source": [
    "## idx_remove_span_eft_effect"
   ]
  },
  {
   "cell_type": "code",
   "execution_count": null,
   "id": "95437db5",
   "metadata": {
    "vscode": {
     "languageId": "sql"
    }
   },
   "outputs": [],
   "source": [
    "%%sql\n",
    "\n",
    "DROP INDEX IF EXISTS idx_remove_span_eft_effect;\n",
    "CREATE INDEX idx_remove_span_eft_effect\n",
    "  ON remove_span_eft(effect_id);"
   ]
  },
  {
   "cell_type": "markdown",
   "id": "e50fcdc3",
   "metadata": {},
   "source": [
    "## idx_variation_inactive"
   ]
  },
  {
   "cell_type": "code",
   "execution_count": null,
   "id": "126b9925",
   "metadata": {
    "vscode": {
     "languageId": "sql"
    }
   },
   "outputs": [],
   "source": [
    "%%sql\n",
    "\n",
    "DROP INDEX IF EXISTS idx_variation_inactive;\n",
    "CREATE INDEX idx_variation_inactive ON remove_span_eft (effect_id, span_id);"
   ]
  },
  {
   "cell_type": "markdown",
   "id": "05753f3b",
   "metadata": {},
   "source": [
    "## idx_delta_weight_eft_effect"
   ]
  },
  {
   "cell_type": "code",
   "execution_count": null,
   "id": "559ca0e2",
   "metadata": {
    "vscode": {
     "languageId": "sql"
    }
   },
   "outputs": [],
   "source": [
    "%%sql\n",
    "\n",
    "DROP INDEX IF EXISTS idx_delta_weight_eft_effect;\n",
    "CREATE INDEX idx_delta_weight_eft_effect\n",
    "  ON delta_weight_eft(effect_id);"
   ]
  },
  {
   "cell_type": "markdown",
   "id": "e44c873c",
   "metadata": {},
   "source": [
    "## idx_delta_weight_eft_varid_spanid"
   ]
  },
  {
   "cell_type": "code",
   "execution_count": null,
   "id": "3c15c086",
   "metadata": {
    "vscode": {
     "languageId": "sql"
    }
   },
   "outputs": [],
   "source": [
    "%%sql\n",
    "\n",
    "DROP INDEX IF EXISTS idx_delta_weight_eft_effid_spanid;\n",
    "CREATE INDEX idx_delta_weight_eft_effid_spanid ON delta_weight_eft (effect_id, span_id);"
   ]
  },
  {
   "cell_type": "markdown",
   "id": "080999f8",
   "metadata": {},
   "source": [
    "## idx_variation_delta"
   ]
  },
  {
   "cell_type": "code",
   "execution_count": null,
   "id": "5638e2e7",
   "metadata": {
    "vscode": {
     "languageId": "sql"
    }
   },
   "outputs": [],
   "source": [
    "%%sql\n",
    "\n",
    "DROP INDEX IF EXISTS idx_variation_delta;\n",
    "CREATE INDEX idx_variation_delta ON delta_weight_eft (\n",
    "    effect_id,\n",
    "    span_id,\n",
    "    delta_weight\n",
    ");"
   ]
  },
  {
   "cell_type": "markdown",
   "id": "cac677ad",
   "metadata": {},
   "source": [
    "## idx_entity_state_entity_id"
   ]
  },
  {
   "cell_type": "code",
   "execution_count": null,
   "id": "fe18b12e",
   "metadata": {
    "vscode": {
     "languageId": "sql"
    }
   },
   "outputs": [],
   "source": [
    "%%sql\n",
    "\n",
    "DROP INDEX IF EXISTS idx_entity_state_entity_id;\n",
    "CREATE INDEX idx_entity_state_entity_id ON entity_state (entity_id);"
   ]
  },
  {
   "cell_type": "markdown",
   "id": "3b3e6097",
   "metadata": {},
   "source": [
    "## idx_entity_state_entity_time"
   ]
  },
  {
   "cell_type": "code",
   "execution_count": null,
   "id": "9169bf37",
   "metadata": {
    "vscode": {
     "languageId": "sql"
    }
   },
   "outputs": [],
   "source": [
    "%%sql\n",
    "\n",
    "DROP INDEX IF EXISTS idx_entity_state_entity_time;\n",
    "CREATE INDEX idx_entity_state_entity_time ON entity_state (entity_id, time);"
   ]
  },
  {
   "cell_type": "markdown",
   "id": "e5c5cb9a",
   "metadata": {},
   "source": [
    "## idx_attr_value_entity_state_id"
   ]
  },
  {
   "cell_type": "code",
   "execution_count": null,
   "id": "7eed3089",
   "metadata": {
    "vscode": {
     "languageId": "sql"
    }
   },
   "outputs": [],
   "source": [
    "%%sql\n",
    "\n",
    "DROP INDEX IF EXISTS idx_attr_value_entity_state_id;\n",
    "CREATE INDEX idx_attr_value_entity_state_id ON attr_value (entity_state_id);"
   ]
  },
  {
   "cell_type": "markdown",
   "id": "ec74b8ee",
   "metadata": {},
   "source": [
    "## idx_attr_val_state_vaid"
   ]
  },
  {
   "cell_type": "code",
   "execution_count": null,
   "id": "1f96c27e",
   "metadata": {
    "vscode": {
     "languageId": "sql"
    }
   },
   "outputs": [],
   "source": [
    "%%sql\n",
    "\n",
    "DROP INDEX IF EXISTS idx_attr_val_state_vaid;\n",
    "CREATE INDEX idx_attr_val_state_vaid ON attr_value (\n",
    "    entity_state_id,\n",
    "    possible_attr_id\n",
    ");"
   ]
  },
  {
   "cell_type": "markdown",
   "id": "77cb7537",
   "metadata": {},
   "source": [
    "## idx_attr_val_state_attr_span"
   ]
  },
  {
   "cell_type": "code",
   "execution_count": null,
   "id": "9e140bb5",
   "metadata": {
    "vscode": {
     "languageId": "sql"
    }
   },
   "outputs": [],
   "source": [
    "%%sql\n",
    "\n",
    "DROP INDEX IF EXISTS idx_attr_val_state_attr_span;\n",
    "CREATE INDEX idx_attr_val_state_attr_span ON attr_value (\n",
    "    entity_state_id,\n",
    "    possible_attr_id,\n",
    "    span_id\n",
    ");"
   ]
  },
  {
   "cell_type": "markdown",
   "id": "48596a17",
   "metadata": {},
   "source": [
    "## idx_attr_val_lock_locked"
   ]
  },
  {
   "cell_type": "code",
   "execution_count": null,
   "id": "5853a7db",
   "metadata": {
    "vscode": {
     "languageId": "sql"
    }
   },
   "outputs": [],
   "source": [
    "%%sql\n",
    "\n",
    "DROP INDEX IF EXISTS idx_attr_val_lock_locked;\n",
    "CREATE INDEX idx_attr_val_lock_locked ON attr_val_lock (locked_attr_val_id);"
   ]
  },
  {
   "cell_type": "markdown",
   "id": "c118bcf9",
   "metadata": {},
   "source": [
    "## idx_attr_val_lock_locking"
   ]
  },
  {
   "cell_type": "code",
   "execution_count": null,
   "id": "e716b14e",
   "metadata": {
    "vscode": {
     "languageId": "sql"
    }
   },
   "outputs": [],
   "source": [
    "%%sql\n",
    "\n",
    "DROP INDEX IF EXISTS idx_attr_val_lock_locking;\n",
    "CREATE INDEX idx_attr_val_lock_locking ON attr_val_lock (locking_attr_val_id);"
   ]
  },
  {
   "cell_type": "markdown",
   "id": "5b713f9b",
   "metadata": {},
   "source": [
    "## idx_attr_val_lock_locked_locking"
   ]
  },
  {
   "cell_type": "code",
   "execution_count": null,
   "id": "c4a43c80",
   "metadata": {
    "vscode": {
     "languageId": "sql"
    }
   },
   "outputs": [],
   "source": [
    "%%sql\n",
    "\n",
    "DROP INDEX IF EXISTS idx_attr_val_lock_locked_locking;\n",
    "CREATE INDEX idx_attr_val_lock_locked_locking ON attr_val_lock (\n",
    "    locked_attr_val_id,\n",
    "    locking_attr_val_id\n",
    ");"
   ]
  },
  {
   "cell_type": "markdown",
   "id": "6e64fcaa",
   "metadata": {},
   "source": [
    "## idx_entity_group_link_group_id_entity_id"
   ]
  },
  {
   "cell_type": "code",
   "execution_count": null,
   "id": "10d2674a",
   "metadata": {
    "vscode": {
     "languageId": "sql"
    }
   },
   "outputs": [],
   "source": [
    "%%sql\n",
    "\n",
    "DROP INDEX IF EXISTS idx_entity_group_link_group_id_entity_id;\n",
    "CREATE INDEX idx_entity_group_link_group_id_entity_id\n",
    "  ON entity_group_link(entity_group_id, entity_id);"
   ]
  },
  {
   "cell_type": "markdown",
   "id": "432a53b9-0984-45fa-8eba-3dde6bb6075a",
   "metadata": {
    "jp-MarkdownHeadingCollapsed": true
   },
   "source": [
    "# Debug"
   ]
  },
  {
   "cell_type": "markdown",
   "id": "3be4f202",
   "metadata": {},
   "source": [
    "## Create Log Table"
   ]
  },
  {
   "cell_type": "code",
   "execution_count": null,
   "id": "a4214ab5",
   "metadata": {
    "vscode": {
     "languageId": "sql"
    }
   },
   "outputs": [],
   "source": [
    "%%sql\n",
    "\n",
    "DROP TABLE IF EXISTS debug_log CASCADE;\n",
    "CREATE TABLE debug_log (\n",
    "    id integer GENERATED ALWAYS AS IDENTITY PRIMARY KEY,\n",
    "    log_time timestamp DEFAULT CURRENT_TIMESTAMP,\n",
    "    procedure_name varchar(255),\n",
    "    log_message text\n",
    ");"
   ]
  },
  {
   "cell_type": "markdown",
   "id": "92275a5c",
   "metadata": {},
   "source": [
    "## Create Log Function"
   ]
  },
  {
   "cell_type": "code",
   "execution_count": null,
   "id": "dbb634b6",
   "metadata": {
    "vscode": {
     "languageId": "sql"
    }
   },
   "outputs": [],
   "source": [
    "%%sql\n",
    "\n",
    "CREATE OR REPLACE FUNCTION debug_log(\n",
    "    p_procedure_name varchar,\n",
    "    p_log_message text\n",
    ") RETURNS void\n",
    "LANGUAGE plpgsql\n",
    "AS $$\n",
    "BEGIN\n",
    "    INSERT INTO debug_log (procedure_name, log_message, log_time)\n",
    "    VALUES (p_procedure_name, p_log_message, now());\n",
    "END;\n",
    "$$;"
   ]
  },
  {
   "cell_type": "markdown",
   "id": "618a813c-05d4-4abf-848b-3cb8f779014c",
   "metadata": {},
   "source": [
    "## Clear Log Table"
   ]
  },
  {
   "cell_type": "code",
   "execution_count": null,
   "id": "66ffd6b9-93cb-49ca-947c-c61b866ccf45",
   "metadata": {
    "vscode": {
     "languageId": "sql"
    }
   },
   "outputs": [],
   "source": [
    "%%sql\n",
    "\n",
    "TRUNCATE TABLE debug_log RESTART IDENTITY CASCADE;"
   ]
  },
  {
   "cell_type": "code",
   "execution_count": null,
   "id": "3d5e605b",
   "metadata": {
    "vscode": {
     "languageId": "sql"
    }
   },
   "outputs": [],
   "source": [
    "%%sql\n",
    "\n",
    "SELECT * FROM debug_log;"
   ]
  },
  {
   "cell_type": "markdown",
   "id": "591436eb",
   "metadata": {
    "jp-MarkdownHeadingCollapsed": true
   },
   "source": [
    "# Create Functions & Procedures"
   ]
  },
  {
   "cell_type": "markdown",
   "id": "3d1fa478",
   "metadata": {},
   "source": [
    "## Set Span as Subvariant"
   ]
  },
  {
   "cell_type": "code",
   "execution_count": null,
   "id": "50de58d0",
   "metadata": {
    "vscode": {
     "languageId": "sql"
    }
   },
   "outputs": [],
   "source": [
    "%%sql\n",
    "\n",
    "CREATE OR REPLACE PROCEDURE set_span_as_subvariant(\n",
    "    p_attribute_name VARCHAR,\n",
    "    p_span_label VARCHAR,\n",
    "    p_variant_name VARCHAR\n",
    ")\n",
    "LANGUAGE plpgsql\n",
    "AS $$\n",
    "DECLARE\n",
    "    v_attribute_id INTEGER;\n",
    "    v_span_id INTEGER;\n",
    "    v_variant_id INTEGER;\n",
    "BEGIN\n",
    "    -- Find the attribute by name.\n",
    "    SELECT id\n",
    "      INTO v_attribute_id\n",
    "      FROM attribute\n",
    "     WHERE name = p_attribute_name;\n",
    "    IF NOT FOUND THEN\n",
    "        RAISE EXCEPTION 'Attribute \"%\" not found.', p_attribute_name;\n",
    "    END IF;\n",
    "\n",
    "    -- Find the span by attribute and label.\n",
    "    SELECT id\n",
    "      INTO v_span_id\n",
    "      FROM span\n",
    "     WHERE attribute_id = v_attribute_id\n",
    "       AND label = p_span_label;\n",
    "    IF NOT FOUND THEN\n",
    "        RAISE EXCEPTION 'Span with label \"%\" for attribute \"%\" not found.', p_span_label, p_attribute_name;\n",
    "    END IF;\n",
    "\n",
    "    -- Find or create the variant by name.\n",
    "    SELECT id\n",
    "      INTO v_variant_id\n",
    "      FROM variant\n",
    "     WHERE name = p_variant_name;\n",
    "    IF NOT FOUND THEN\n",
    "        INSERT INTO variant (name)\n",
    "             VALUES (p_variant_name)\n",
    "         RETURNING id INTO v_variant_id;\n",
    "    END IF;\n",
    "\n",
    "    -- Insert the association into subvariant_span.\n",
    "    INSERT INTO subvariant_span (span_id, variant_id)\n",
    "         VALUES (v_span_id, v_variant_id)\n",
    "    ON CONFLICT DO NOTHING;\n",
    "\n",
    "    RAISE NOTICE 'Subvariant span set for attribute %, span %, variant %.',\n",
    "                 p_attribute_name, p_span_label, p_variant_name;\n",
    "END;\n",
    "$$;"
   ]
  },
  {
   "cell_type": "markdown",
   "id": "55527d30",
   "metadata": {},
   "source": [
    "## Unset Span as Subvariant"
   ]
  },
  {
   "cell_type": "code",
   "execution_count": null,
   "id": "75fce104",
   "metadata": {
    "vscode": {
     "languageId": "sql"
    }
   },
   "outputs": [],
   "source": [
    "%%sql\n",
    "\n",
    "CREATE OR REPLACE PROCEDURE unset_span_as_subvariant(\n",
    "    p_attribute_name VARCHAR,\n",
    "    p_span_label VARCHAR,\n",
    "    p_variant_name VARCHAR\n",
    ")\n",
    "LANGUAGE plpgsql\n",
    "AS $$\n",
    "DECLARE\n",
    "    v_attribute_id INTEGER;\n",
    "    v_span_id INTEGER;\n",
    "    v_variant_id INTEGER;\n",
    "    v_deleted_count INTEGER;\n",
    "BEGIN\n",
    "    -- Find the attribute by name.\n",
    "    SELECT id\n",
    "      INTO v_attribute_id\n",
    "      FROM attribute\n",
    "     WHERE name = p_attribute_name;\n",
    "    IF NOT FOUND THEN\n",
    "        RAISE EXCEPTION 'Attribute \"%\" not found.', p_attribute_name;\n",
    "    END IF;\n",
    "\n",
    "    -- Find the span by attribute and label.\n",
    "    SELECT id\n",
    "      INTO v_span_id\n",
    "      FROM span\n",
    "     WHERE attribute_id = v_attribute_id\n",
    "       AND label = p_span_label;\n",
    "    IF NOT FOUND THEN\n",
    "        RAISE EXCEPTION 'Span with label \"%\" for attribute \"%\" not found.', p_span_label, p_attribute_name;\n",
    "    END IF;\n",
    "\n",
    "    -- Find the variant by name.\n",
    "    SELECT id\n",
    "      INTO v_variant_id\n",
    "      FROM variant\n",
    "     WHERE name = p_variant_name;\n",
    "    IF NOT FOUND THEN\n",
    "        RAISE EXCEPTION 'Variant \"%\" not found.', p_variant_name;\n",
    "    END IF;\n",
    "\n",
    "    -- Delete the association from subvariant_span.\n",
    "    DELETE FROM subvariant_span\n",
    "     WHERE span_id = v_span_id\n",
    "       AND variant_id = v_variant_id;\n",
    "    \n",
    "    GET DIAGNOSTICS v_deleted_count = ROW_COUNT;\n",
    "    \n",
    "    IF v_deleted_count = 0 THEN\n",
    "        RAISE NOTICE 'No subvariant span association existed for attribute %, span %, variant %.',\n",
    "                     p_attribute_name, p_span_label, p_variant_name;\n",
    "    ELSE\n",
    "        RAISE NOTICE 'Subvariant span association removed for attribute %, span %, variant %.',\n",
    "                     p_attribute_name, p_span_label, p_variant_name;\n",
    "    END IF;\n",
    "END;\n",
    "$$;"
   ]
  },
  {
   "cell_type": "markdown",
   "id": "0c864491",
   "metadata": {},
   "source": [
    "## Discrete Attribute"
   ]
  },
  {
   "cell_type": "markdown",
   "id": "f71e45f0",
   "metadata": {},
   "source": [
    "### Add"
   ]
  },
  {
   "cell_type": "code",
   "execution_count": null,
   "id": "5691d417",
   "metadata": {
    "vscode": {
     "languageId": "sql"
    }
   },
   "outputs": [],
   "source": [
    "%%sql\n",
    "\n",
    "CREATE OR REPLACE PROCEDURE add_discrete_attribute(\n",
    "    in_name       VARCHAR(255),\n",
    "    in_spans      JSON  -- JSON array: either [[\"span1\", 10], [\"span2\", 20, \"subvariantX\"]] or [\"span1\", \"span2\"]\n",
    ")\n",
    "LANGUAGE plpgsql\n",
    "AS $$\n",
    "DECLARE\n",
    "    new_attr_id       INTEGER;\n",
    "    span_count        INTEGER;\n",
    "    span_label        VARCHAR(255);\n",
    "    span_weight       DOUBLE PRECISION;\n",
    "    normalized_weight DOUBLE PRECISION;\n",
    "    total_weight      DOUBLE PRECISION := 0;\n",
    "    first_elem_type   TEXT;\n",
    "    spans_json        JSON;\n",
    "    i                 INTEGER;\n",
    "BEGIN\n",
    "    -- Create the new attribute.\n",
    "    INSERT INTO attribute (name, type)\n",
    "      VALUES (in_name, 'discrete')\n",
    "      RETURNING id INTO new_attr_id;\n",
    "\n",
    "    IF in_spans IS NOT NULL THEN\n",
    "        spans_json := in_spans::json;\n",
    "        span_count := json_array_length(spans_json);\n",
    "\n",
    "        IF span_count > 0 THEN\n",
    "            first_elem_type := json_typeof(spans_json->0);\n",
    "        ELSE\n",
    "            first_elem_type := '';\n",
    "        END IF;\n",
    "\n",
    "        IF first_elem_type = 'array' THEN\n",
    "            -- First pass: compute the total weight.\n",
    "            FOR i IN 0..span_count - 1 LOOP\n",
    "                total_weight := total_weight + (((spans_json->i)->>1)::DOUBLE PRECISION);\n",
    "            END LOOP;\n",
    "\n",
    "            -- Second pass: insert spans with normalized weight.\n",
    "            FOR i IN 0..span_count - 1 LOOP\n",
    "                span_label := (spans_json->i)->>0;\n",
    "                span_weight := ((spans_json->i)->>1)::DOUBLE PRECISION;\n",
    "                normalized_weight := span_weight / total_weight;\n",
    "                INSERT INTO span (attribute_id, label, type, is_pinned, weight)\n",
    "                  VALUES (new_attr_id, span_label, 'discrete', false, normalized_weight);\n",
    "                \n",
    "                -- If a third element exists, call set_subvariant_span.\n",
    "                IF json_array_length(spans_json->i) > 2 THEN\n",
    "                    CALL set_span_as_subvariant(in_name, span_label, (spans_json->i)->>2);\n",
    "                END IF;\n",
    "            END LOOP;\n",
    "        ELSE\n",
    "            -- For a JSON array of labels only, call the helper procedure for each span.\n",
    "            FOR i IN 0..span_count - 1 LOOP\n",
    "                span_label := spans_json->>i;\n",
    "                CALL add_discrete_span(new_attr_id, span_label);\n",
    "            END LOOP;\n",
    "        END IF;\n",
    "    END IF;\n",
    "END;\n",
    "$$;"
   ]
  },
  {
   "cell_type": "markdown",
   "id": "3ed792dc",
   "metadata": {
    "vscode": {
     "languageId": "sql"
    }
   },
   "source": [
    "### Get"
   ]
  },
  {
   "cell_type": "code",
   "execution_count": null,
   "id": "8dcaf845",
   "metadata": {
    "vscode": {
     "languageId": "sql"
    }
   },
   "outputs": [],
   "source": [
    "%%sql\n",
    "\n",
    "CREATE OR REPLACE FUNCTION get_discrete_attribute(p_attribute_name varchar)\n",
    "RETURNS TABLE (\n",
    "    attribute   varchar,\n",
    "    type        attr_type,\n",
    "    span_label  varchar,\n",
    "    span_weight double precision,\n",
    "    is_pinned      boolean\n",
    ")\n",
    "LANGUAGE plpgsql\n",
    "AS\n",
    "$$\n",
    "BEGIN\n",
    "  RETURN QUERY\n",
    "    SELECT \n",
    "      a.name,\n",
    "      a.type,\n",
    "      s.label,\n",
    "      s.weight,\n",
    "      s.is_pinned\n",
    "    FROM attribute a\n",
    "    JOIN span s ON s.attribute_id = a.id\n",
    "    WHERE a.name = p_attribute_name\n",
    "      AND NOT EXISTS (\n",
    "          SELECT 1 \n",
    "          FROM add_span_eft ase \n",
    "          WHERE ase.span_id = s.id\n",
    "      );\n",
    "END;\n",
    "$$;"
   ]
  },
  {
   "cell_type": "markdown",
   "id": "dc83a6d8",
   "metadata": {},
   "source": [
    "### Delete"
   ]
  },
  {
   "cell_type": "code",
   "execution_count": null,
   "id": "ac021b67",
   "metadata": {
    "vscode": {
     "languageId": "sql"
    }
   },
   "outputs": [],
   "source": [
    "%%sql\n",
    "\n",
    "CREATE OR REPLACE PROCEDURE delete_discrete_attribute(p_attribute_name varchar)\n",
    "LANGUAGE plpgsql\n",
    "AS\n",
    "$$\n",
    "BEGIN\n",
    "  DELETE FROM attribute\n",
    "  WHERE name = p_attribute_name\n",
    "    AND type = 'discrete';\n",
    "END;\n",
    "$$;"
   ]
  },
  {
   "cell_type": "markdown",
   "id": "ce0ad832",
   "metadata": {},
   "source": [
    "## Redistribute Unpinned Spans"
   ]
  },
  {
   "cell_type": "code",
   "execution_count": null,
   "id": "1b136a4f",
   "metadata": {
    "vscode": {
     "languageId": "sql"
    }
   },
   "outputs": [],
   "source": [
    "%%sql\n",
    "\n",
    "CREATE OR REPLACE FUNCTION redistribute_unpinned_spans(\n",
    "    p_attribute_id INTEGER,\n",
    "    p_modified_span_id INTEGER,\n",
    "    p_new_weight DOUBLE PRECISION,\n",
    "    p_old_weight DOUBLE PRECISION\n",
    ") RETURNS VOID\n",
    "LANGUAGE plpgsql\n",
    "AS $$\n",
    "DECLARE\n",
    "    v_pinned_weight DOUBLE PRECISION;\n",
    "    v_target         DOUBLE PRECISION;\n",
    "BEGIN\n",
    "    -- Compute the total weight of pinned discrete spans.\n",
    "    SELECT COALESCE(SUM(weight), 0)\n",
    "      INTO v_pinned_weight\n",
    "      FROM span\n",
    "     WHERE attribute_id = p_attribute_id\n",
    "       AND type = 'discrete'\n",
    "       AND is_pinned = true;\n",
    "       \n",
    "    -- The available weight for all unpinned spans.\n",
    "    v_target := 1.0 - v_pinned_weight;\n",
    "    \n",
    "    -- If there’s only one unpinned span (v_target equals p_old_weight), then\n",
    "    -- the new weight must equal the entire target.\n",
    "    IF (v_target - p_old_weight) = 0 THEN\n",
    "       IF p_new_weight <> v_target THEN\n",
    "           RAISE EXCEPTION 'Cannot change weight; only one unpinned span exists and its weight must be %', v_target;\n",
    "       END IF;\n",
    "    END IF;\n",
    "    \n",
    "    -- Update all unpinned discrete spans:\n",
    "    -- • The modified span gets the new weight.\n",
    "    -- • All others are scaled proportionally.\n",
    "    UPDATE span\n",
    "       SET weight = CASE \n",
    "                      WHEN id = p_modified_span_id THEN p_new_weight\n",
    "                      ELSE weight * ((v_target - p_new_weight) / (v_target - p_old_weight))\n",
    "                    END\n",
    "     WHERE attribute_id = p_attribute_id\n",
    "       AND type = 'discrete'\n",
    "       AND is_pinned = false;\n",
    "END;\n",
    "$$;"
   ]
  },
  {
   "cell_type": "markdown",
   "id": "194413fb",
   "metadata": {},
   "source": [
    "## Add Discrete Span to Attribute"
   ]
  },
  {
   "cell_type": "code",
   "execution_count": null,
   "id": "a38a9b40",
   "metadata": {
    "vscode": {
     "languageId": "sql"
    }
   },
   "outputs": [],
   "source": [
    "%%sql\n",
    "\n",
    "CREATE OR REPLACE PROCEDURE add_disc_span_to_attr(\n",
    "    p_attribute_id INTEGER,\n",
    "    p_label VARCHAR(255)\n",
    ")\n",
    "LANGUAGE plpgsql\n",
    "AS $$\n",
    "DECLARE\n",
    "    new_span_id     INTEGER;\n",
    "    v_total_weight  DOUBLE PRECISION;\n",
    "    v_pinned_weight DOUBLE PRECISION;\n",
    "    v_target        DOUBLE PRECISION;\n",
    "    v_count_old     INTEGER;\n",
    "    candidate       DOUBLE PRECISION;\n",
    "BEGIN\n",
    "    -- Compute the total weight for all discrete spans for this attribute.\n",
    "    SELECT COALESCE(SUM(weight), 0)\n",
    "      INTO v_total_weight\n",
    "      FROM span\n",
    "     WHERE attribute_id = p_attribute_id\n",
    "       AND type = 'discrete';\n",
    "\n",
    "    -- If no spans exist, simply insert the first span with weight 1.\n",
    "    IF v_total_weight = 0 THEN\n",
    "        INSERT INTO span(attribute_id, label, type, is_pinned, weight)\n",
    "        VALUES (p_attribute_id, p_label, 'discrete', false, 1.0);\n",
    "        RETURN;\n",
    "    END IF;\n",
    "    \n",
    "    -- Compute the total weight of pinned discrete spans.\n",
    "    SELECT COALESCE(SUM(weight), 0)\n",
    "      INTO v_pinned_weight\n",
    "      FROM span\n",
    "     WHERE attribute_id = p_attribute_id\n",
    "       AND type = 'discrete'\n",
    "       AND is_pinned = true;\n",
    "    \n",
    "    -- Calculate the available target weight for all unpinned spans.\n",
    "    v_target := 1.0 - v_pinned_weight;\n",
    "    IF v_target <= 0 THEN\n",
    "        RAISE EXCEPTION 'No available weight for unpinned spans (v_target = %)', v_target;\n",
    "    END IF;\n",
    "    \n",
    "    -- Count the existing non-pinned discrete spans.\n",
    "    SELECT COUNT(*)\n",
    "      INTO v_count_old\n",
    "      FROM span\n",
    "     WHERE attribute_id = p_attribute_id\n",
    "       AND type = 'discrete'\n",
    "       AND is_pinned = false;\n",
    "    \n",
    "    -- Insert the new unpinned span with a temporary weight of 0.\n",
    "    INSERT INTO span(attribute_id, label, type, is_pinned, weight)\n",
    "    VALUES (p_attribute_id, p_label, 'discrete', false, 0.0)\n",
    "    RETURNING id INTO new_span_id;\n",
    "    \n",
    "    -- Compute the candidate weight for the new span.\n",
    "    candidate := v_target / (v_count_old + 1);\n",
    "    \n",
    "    -- Redistribute the weights among all unpinned spans\n",
    "    PERFORM redistribute_unpinned_spans(p_attribute_id, new_span_id, candidate, 0);\n",
    "END;\n",
    "$$;"
   ]
  },
  {
   "cell_type": "markdown",
   "id": "65d61d58",
   "metadata": {},
   "source": [
    "## Modify Discrete Span Weight"
   ]
  },
  {
   "cell_type": "code",
   "execution_count": null,
   "id": "57a4a17d",
   "metadata": {
    "vscode": {
     "languageId": "sql"
    }
   },
   "outputs": [],
   "source": [
    "%%sql\n",
    "\n",
    "CREATE OR REPLACE PROCEDURE modify_disc_span_weight(\n",
    "    p_span_id    INTEGER,\n",
    "    p_new_weight DOUBLE PRECISION\n",
    ")\n",
    "LANGUAGE plpgsql\n",
    "AS $$\n",
    "DECLARE\n",
    "    v_attribute_id INTEGER;\n",
    "    v_current_weight DOUBLE PRECISION;\n",
    "    v_is_pinned    BOOLEAN;\n",
    "    v_type         TEXT;\n",
    "    v_pinned_weight DOUBLE PRECISION;\n",
    "    v_target        DOUBLE PRECISION;\n",
    "    v_other_sum     DOUBLE PRECISION;\n",
    "BEGIN\n",
    "    -- Get the current span's details.\n",
    "    SELECT attribute_id, weight, is_pinned, type\n",
    "      INTO v_attribute_id, v_current_weight, v_is_pinned, v_type\n",
    "      FROM span\n",
    "     WHERE id = p_span_id;\n",
    "     \n",
    "    -- Ensure the span exists, is of type 'discrete' and is not pinned.\n",
    "    IF NOT FOUND OR v_type <> 'discrete' OR v_is_pinned THEN\n",
    "       RAISE EXCEPTION 'Span % not found or not a modifiable discrete span', p_span_id;\n",
    "    END IF;\n",
    "    \n",
    "    -- Compute the total pinned weight for this attribute.\n",
    "    SELECT COALESCE(SUM(weight), 0)\n",
    "      INTO v_pinned_weight\n",
    "      FROM span\n",
    "     WHERE attribute_id = v_attribute_id\n",
    "       AND type = 'discrete'\n",
    "       AND is_pinned = true;\n",
    "       \n",
    "    v_target := 1.0 - v_pinned_weight;\n",
    "    \n",
    "    -- Validate the new weight is between 0 and the available target.\n",
    "    IF p_new_weight < 0 OR p_new_weight > v_target THEN\n",
    "       RAISE EXCEPTION 'Invalid new weight: % (must be between 0 and %)', p_new_weight, v_target;\n",
    "    END IF;\n",
    "    \n",
    "    -- Compute the total weight for all other unpinned spans.\n",
    "    SELECT COALESCE(SUM(weight), 0)\n",
    "      INTO v_other_sum\n",
    "      FROM span\n",
    "     WHERE attribute_id = v_attribute_id\n",
    "       AND type = 'discrete'\n",
    "       AND is_pinned = false\n",
    "       AND id <> p_span_id;\n",
    "       \n",
    "    IF v_other_sum = 0 THEN\n",
    "       -- There is only one unpinned span. Its weight must equal the available target.\n",
    "       IF p_new_weight <> v_target THEN\n",
    "         RAISE EXCEPTION 'Only one unpinned span exists. Its weight must be %', v_target;\n",
    "       ELSE\n",
    "         UPDATE span SET weight = p_new_weight WHERE id = p_span_id;\n",
    "       END IF;\n",
    "    ELSE\n",
    "       -- Use the helper function to redistribute weights.\n",
    "       PERFORM redistribute_unpinned_spans(v_attribute_id, p_span_id, p_new_weight, v_current_weight);\n",
    "    END IF;\n",
    "END;\n",
    "$$;"
   ]
  },
  {
   "cell_type": "markdown",
   "id": "396fe76f",
   "metadata": {},
   "source": [
    "## Continuous Attribute"
   ]
  },
  {
   "cell_type": "markdown",
   "id": "132ce1dd",
   "metadata": {},
   "source": [
    "### Add"
   ]
  },
  {
   "cell_type": "code",
   "execution_count": null,
   "id": "ed3ab0be",
   "metadata": {
    "vscode": {
     "languageId": "sql"
    }
   },
   "outputs": [],
   "source": [
    "%%sql\n",
    "\n",
    "CREATE OR REPLACE PROCEDURE add_continuous_attribute(\n",
    "    p_name           VARCHAR(255),\n",
    "    p_min_value      DOUBLE PRECISION,\n",
    "    p_mode_value     DOUBLE PRECISION,\n",
    "    p_max_value      DOUBLE PRECISION,\n",
    "    p_concentration  DOUBLE PRECISION,\n",
    "    p_skew           DOUBLE PRECISION,\n",
    "    p_decimals       INTEGER,\n",
    "    p_units          VARCHAR(255),\n",
    "    p_spans          JSON DEFAULT NULL  -- JSON array shortcut for continuous spans; tuples: [label, max_boundary, (optional subvariant)]\n",
    ")\n",
    "LANGUAGE plpgsql\n",
    "AS $$\n",
    "DECLARE\n",
    "    v_attr_id   INTEGER;\n",
    "    span_count  INTEGER;\n",
    "    i           INTEGER;\n",
    "    current_min DOUBLE PRECISION;\n",
    "    new_max     DOUBLE PRECISION;\n",
    "    span_label  VARCHAR(255);\n",
    "    spans_json  JSON;\n",
    "BEGIN\n",
    "    -- Insert the continuous attribute record.\n",
    "    INSERT INTO attribute\n",
    "      (name, type, decimals, max_value, min_value,\n",
    "       mode_value, concentration, skew, units)\n",
    "    VALUES\n",
    "      (p_name, 'continuous', p_decimals, p_max_value,\n",
    "       p_min_value, p_mode_value, p_concentration, p_skew, p_units)\n",
    "    RETURNING id INTO v_attr_id;\n",
    "    \n",
    "    IF p_spans IS NOT NULL THEN\n",
    "        spans_json := p_spans::json;\n",
    "        span_count := json_array_length(spans_json);\n",
    "        current_min := p_min_value;\n",
    "        \n",
    "        FOR i IN 0..span_count - 1 LOOP\n",
    "            -- Each JSON tuple is assumed to be [label, new_max, (optional subvariant)].\n",
    "            span_label := (spans_json->i)->>0;\n",
    "            new_max := ((spans_json->i)->>1)::DOUBLE PRECISION;\n",
    "            \n",
    "            -- Validate that the new maximum is in the valid interval.\n",
    "            IF new_max <= current_min OR new_max > p_max_value THEN\n",
    "                RAISE EXCEPTION 'Invalid span range: new_max (%) is not in the valid interval (% - %)',\n",
    "                    new_max, current_min, p_max_value;\n",
    "            END IF;\n",
    "            \n",
    "            -- Insert the continuous span.\n",
    "            INSERT INTO span(attribute_id, label, type, min_value, max_value)\n",
    "            VALUES(v_attr_id, span_label, 'continuous', current_min, new_max);\n",
    "            \n",
    "            -- If a third element exists, call set_subvariant_span.\n",
    "            IF json_array_length(spans_json->i) > 2 THEN\n",
    "                CALL set_span_as_subvariant(p_name, span_label, (spans_json->i)->>2);\n",
    "            END IF;\n",
    "            \n",
    "            current_min := new_max;\n",
    "        END LOOP;\n",
    "        \n",
    "        -- If the JSON array does not reach the attribute's overall max, raise an exception.\n",
    "        IF current_min < p_max_value THEN\n",
    "            RAISE EXCEPTION 'Incomplete continuous span definitions: final span max is % which is less than the attribute maximum %', current_min, p_max_value;\n",
    "        END IF;\n",
    "    END IF;\n",
    "END;\n",
    "$$;"
   ]
  },
  {
   "cell_type": "markdown",
   "id": "2462ea04",
   "metadata": {},
   "source": [
    "### Get"
   ]
  },
  {
   "cell_type": "code",
   "execution_count": null,
   "id": "ae43d201",
   "metadata": {
    "vscode": {
     "languageId": "sql"
    }
   },
   "outputs": [],
   "source": [
    "%%sql\n",
    "\n",
    "CREATE OR REPLACE FUNCTION get_continuous_attribute(p_attribute_name varchar)\n",
    "RETURNS TABLE (\n",
    "    name           varchar,\n",
    "    type           attr_type,\n",
    "    min            double precision,\n",
    "    mode           double precision,\n",
    "    max            double precision,\n",
    "    concentration  double precision,\n",
    "    skew           double precision,\n",
    "    units          varchar,\n",
    "    decimals       integer,\n",
    "    span_label     varchar,\n",
    "    span_min       double precision,\n",
    "    span_max       double precision\n",
    ")\n",
    "LANGUAGE plpgsql\n",
    "AS\n",
    "$$\n",
    "BEGIN\n",
    "  RETURN QUERY\n",
    "    SELECT \n",
    "      a.name,\n",
    "      a.type,\n",
    "      a.min_value,\n",
    "      a.mode_value,\n",
    "      a.max_value,\n",
    "      a.concentration,\n",
    "      a.skew,\n",
    "      a.units,\n",
    "      a.decimals,\n",
    "      s.label,\n",
    "      s.min_value,\n",
    "      s.max_value\n",
    "    FROM attribute a\n",
    "    LEFT JOIN span s ON s.attribute_id = a.id\n",
    "    WHERE a.name = p_attribute_name\n",
    "      AND a.type = 'continuous';\n",
    "END;\n",
    "$$;"
   ]
  },
  {
   "cell_type": "markdown",
   "id": "28c0d5a6",
   "metadata": {},
   "source": [
    "### Delete"
   ]
  },
  {
   "cell_type": "code",
   "execution_count": null,
   "id": "cfa966e1",
   "metadata": {
    "vscode": {
     "languageId": "sql"
    }
   },
   "outputs": [],
   "source": [
    "%%sql\n",
    "\n",
    "CREATE OR REPLACE PROCEDURE delete_continuous_attribute(p_attribute_name varchar)\n",
    "LANGUAGE plpgsql\n",
    "AS\n",
    "$$\n",
    "BEGIN\n",
    "  DELETE FROM attribute\n",
    "  WHERE name = p_attribute_name\n",
    "    AND type = 'continuous';\n",
    "END;\n",
    "$$;"
   ]
  },
  {
   "cell_type": "markdown",
   "id": "7b0b19de",
   "metadata": {},
   "source": [
    "## Add Continuous Span to Attribute"
   ]
  },
  {
   "cell_type": "code",
   "execution_count": null,
   "id": "3ca45806",
   "metadata": {
    "vscode": {
     "languageId": "sql"
    }
   },
   "outputs": [],
   "source": [
    "%%sql\n",
    "\n",
    "CREATE OR REPLACE PROCEDURE add_cont_span_to_attr(\n",
    "    p_attribute_id integer,\n",
    "    p_label varchar(255),\n",
    "    p_new_min double precision,\n",
    "    p_new_max double precision\n",
    ")\n",
    "LANGUAGE plpgsql\n",
    "AS $$\n",
    "DECLARE\n",
    "    v_attr_min double precision;\n",
    "    v_attr_max double precision;\n",
    "    v_count integer;\n",
    "    v_first_id integer;\n",
    "    v_first_min double precision;\n",
    "    v_first_max double precision;\n",
    "    v_last_id integer;\n",
    "    v_last_min double precision;\n",
    "    v_last_max double precision;\n",
    "BEGIN\n",
    "    -- Get attribute’s overall range (continuous only)\n",
    "    SELECT min_value, max_value\n",
    "      INTO v_attr_min, v_attr_max\n",
    "      FROM attribute\n",
    "     WHERE id = p_attribute_id\n",
    "       AND type = 'continuous'\n",
    "     LIMIT 1;\n",
    "     \n",
    "    IF v_attr_min IS NULL THEN\n",
    "        RAISE EXCEPTION 'Attribute not found or not continuous';\n",
    "    END IF;\n",
    "    \n",
    "    -- Validate requested span\n",
    "    IF p_new_min < v_attr_min OR p_new_max > v_attr_max OR p_new_min >= p_new_max THEN\n",
    "        RAISE EXCEPTION 'Invalid span range';\n",
    "    END IF;\n",
    "    \n",
    "    -- If no continuous spans exist, insert one covering the full range\n",
    "    SELECT COUNT(*) INTO v_count\n",
    "      FROM span\n",
    "     WHERE attribute_id = p_attribute_id\n",
    "       AND type = 'continuous';\n",
    "       \n",
    "    IF v_count = 0 THEN\n",
    "        INSERT INTO span(attribute_id, label, type, min_value, max_value)\n",
    "        VALUES(p_attribute_id, p_label, 'continuous', v_attr_min, v_attr_max);\n",
    "        RETURN;\n",
    "    END IF;\n",
    "    \n",
    "    -- Adjust overlapping spans: first overlapping span (ordered by min_value)\n",
    "    SELECT id, min_value, max_value\n",
    "      INTO v_first_id, v_first_min, v_first_max\n",
    "      FROM span\n",
    "     WHERE attribute_id = p_attribute_id\n",
    "       AND type = 'continuous'\n",
    "       AND max_value > p_new_min\n",
    "       AND min_value < p_new_max\n",
    "     ORDER BY min_value ASC\n",
    "     LIMIT 1;\n",
    "     \n",
    "    IF v_first_min < p_new_min THEN\n",
    "        UPDATE span SET max_value = p_new_min WHERE id = v_first_id;\n",
    "    END IF;\n",
    "    \n",
    "    -- Adjust overlapping spans: last overlapping span (ordered by max_value)\n",
    "    SELECT id, min_value, max_value\n",
    "      INTO v_last_id, v_last_min, v_last_max\n",
    "      FROM span\n",
    "     WHERE attribute_id = p_attribute_id\n",
    "       AND type = 'continuous'\n",
    "       AND max_value > p_new_min\n",
    "       AND min_value < p_new_max\n",
    "     ORDER BY max_value DESC\n",
    "     LIMIT 1;\n",
    "     \n",
    "    IF v_last_max > p_new_max THEN\n",
    "        UPDATE span SET min_value = p_new_max WHERE id = v_last_id;\n",
    "    END IF;\n",
    "    \n",
    "    -- Remove spans fully covered by the new span\n",
    "    DELETE FROM span\n",
    "     WHERE attribute_id = p_attribute_id\n",
    "       AND type = 'continuous'\n",
    "       AND min_value >= p_new_min\n",
    "       AND max_value <= p_new_max;\n",
    "       \n",
    "    INSERT INTO span(attribute_id, label, type, min_value, max_value)\n",
    "    VALUES(p_attribute_id, p_label, 'continuous', p_new_min, p_new_max);\n",
    "END;\n",
    "$$;"
   ]
  },
  {
   "cell_type": "markdown",
   "id": "e42bc1db",
   "metadata": {},
   "source": [
    "## update_ventry_position"
   ]
  },
  {
   "cell_type": "code",
   "execution_count": null,
   "id": "b59600a4",
   "metadata": {
    "vscode": {
     "languageId": "sql"
    }
   },
   "outputs": [],
   "source": [
    "%%sql\n",
    "\n",
    "CREATE OR REPLACE FUNCTION update_ventry_position(\n",
    "    p_variant_id INTEGER,\n",
    "    p_position   INTEGER\n",
    ")\n",
    "RETURNS INTEGER\n",
    "LANGUAGE plpgsql\n",
    "AS $$\n",
    "DECLARE\n",
    "    v_count    INTEGER;\n",
    "    v_position INTEGER;\n",
    "BEGIN\n",
    "    SELECT COUNT(*) INTO v_count\n",
    "      FROM variant_entry\n",
    "     WHERE variant_id = p_variant_id;\n",
    "    \n",
    "    IF p_position IS NULL THEN\n",
    "        v_position := v_count;\n",
    "    ELSE\n",
    "        v_position := p_position;\n",
    "        IF v_position < 0 THEN \n",
    "            v_position := 0;\n",
    "        END IF;\n",
    "        IF v_position > v_count THEN\n",
    "            v_position := v_count;\n",
    "        END IF;\n",
    "        UPDATE variant_entry\n",
    "           SET causation_index = causation_index + 1\n",
    "         WHERE variant_id = p_variant_id\n",
    "           AND causation_index >= v_position;\n",
    "    END IF;\n",
    "    RETURN v_position;\n",
    "END;\n",
    "$$;"
   ]
  },
  {
   "cell_type": "markdown",
   "id": "57372ca3",
   "metadata": {},
   "source": [
    "## Link Attribute to Variant"
   ]
  },
  {
   "cell_type": "code",
   "execution_count": null,
   "id": "0c75b1dd",
   "metadata": {
    "vscode": {
     "languageId": "sql"
    }
   },
   "outputs": [],
   "source": [
    "%%sql\n",
    "\n",
    "CREATE OR REPLACE PROCEDURE link_attr_to_variant(\n",
    "    p_variant_id   INTEGER,\n",
    "    p_attribute_id INTEGER,\n",
    "    p_name         VARCHAR,\n",
    "    p_position     INTEGER DEFAULT NULL\n",
    ")\n",
    "LANGUAGE plpgsql\n",
    "AS $$\n",
    "DECLARE\n",
    "    v_variant_entry_id INTEGER;\n",
    "    v_position         INTEGER;\n",
    "BEGIN\n",
    "    -- Check if a variant entry with the same name already exists.\n",
    "    IF EXISTS (\n",
    "        SELECT 1 FROM variant_entry\n",
    "         WHERE variant_id = p_variant_id\n",
    "           AND name = p_name\n",
    "    ) THEN\n",
    "        RAISE EXCEPTION 'Variant entry with name \"%\" already exists for variant %', p_name, p_variant_id;\n",
    "    END IF;\n",
    "\n",
    "    v_position := update_ventry_position(p_variant_id, p_position);\n",
    "\n",
    "    INSERT INTO variant_entry(name, variant_id, causation_index)\n",
    "    VALUES (p_name, p_variant_id, v_position)\n",
    "    RETURNING id INTO v_variant_entry_id;\n",
    "\n",
    "    INSERT INTO attribute_ref(variant_entry_id, attribute_id)\n",
    "    VALUES (v_variant_entry_id, p_attribute_id);\n",
    "END;\n",
    "$$;"
   ]
  },
  {
   "cell_type": "markdown",
   "id": "03a83ba1",
   "metadata": {},
   "source": [
    "## Link Variant to Variant"
   ]
  },
  {
   "cell_type": "code",
   "execution_count": null,
   "id": "2b88699b",
   "metadata": {
    "vscode": {
     "languageId": "sql"
    }
   },
   "outputs": [],
   "source": [
    "%%sql\n",
    "\n",
    "CREATE OR REPLACE PROCEDURE link_variant_to_variant(\n",
    "    p_parent_variant_id INTEGER,\n",
    "    p_name              VARCHAR,\n",
    "    p_position          INTEGER DEFAULT NULL\n",
    ")\n",
    "LANGUAGE plpgsql\n",
    "AS $$\n",
    "DECLARE\n",
    "    v_variant_entry_id INTEGER;\n",
    "    v_position         INTEGER;\n",
    "BEGIN\n",
    "    -- Check if a variant entry with the same name already exists for the parent.\n",
    "    IF EXISTS (\n",
    "        SELECT 1 FROM variant_entry\n",
    "         WHERE variant_id = p_parent_variant_id\n",
    "           AND name = p_name\n",
    "    ) THEN\n",
    "        RAISE EXCEPTION 'Variant entry with name \"%\" already exists for variant %', p_name, p_parent_variant_id;\n",
    "    END IF;\n",
    "\n",
    "    v_position := update_ventry_position(p_parent_variant_id, p_position);\n",
    "\n",
    "    INSERT INTO variant_entry(name, variant_id, causation_index)\n",
    "    VALUES (p_name, p_parent_variant_id, v_position)\n",
    "    RETURNING id INTO v_variant_entry_id;\n",
    "\n",
    "    INSERT INTO variant_ref(variant_entry_id, variant_id)\n",
    "    VALUES (v_variant_entry_id, p_parent_variant_id);\n",
    "END;\n",
    "$$;"
   ]
  },
  {
   "cell_type": "markdown",
   "id": "fe9370d3",
   "metadata": {},
   "source": [
    "## get_effects_from_resolved_path"
   ]
  },
  {
   "cell_type": "code",
   "execution_count": null,
   "id": "912e07ae",
   "metadata": {
    "vscode": {
     "languageId": "sql"
    }
   },
   "outputs": [],
   "source": [
    "%%sql\n",
    "\n",
    "CREATE OR REPLACE FUNCTION get_effects_from_resolved_path(\n",
    "    p_path int[][]\n",
    ")\n",
    "RETURNS TABLE(\n",
    "    idx int,\n",
    "    id int,\n",
    "    name varchar,\n",
    "    span_id int,\n",
    "    relationship text\n",
    ")\n",
    "AS $$\n",
    "DECLARE\n",
    "    n int;\n",
    "    i int;\n",
    "    j int;\n",
    "    root_pa int;\n",
    "    current_pa int;\n",
    "BEGIN\n",
    "    n := array_length(p_path, 1);\n",
    "    IF n IS NULL OR n < 1 THEN\n",
    "        RAISE EXCEPTION 'p_path must contain at least one element';\n",
    "    END IF;\n",
    "\n",
    "    FOR i IN REVERSE n..1 LOOP\n",
    "        SELECT pa.id\n",
    "          INTO root_pa\n",
    "          FROM possible_attr pa\n",
    "         WHERE pa.parent_possible_attr_id IS NULL\n",
    "           AND pa.variant_entry_id = p_path[i][2]\n",
    "           AND pa.span_id IS NOT DISTINCT FROM p_path[i][1]\n",
    "         LIMIT 1;\n",
    "        IF root_pa IS NULL THEN\n",
    "            CONTINUE;\n",
    "        END IF;\n",
    "        current_pa := root_pa;\n",
    "        FOR j IN i+1..n LOOP\n",
    "            SELECT pa.id\n",
    "              INTO current_pa\n",
    "              FROM possible_attr pa\n",
    "             WHERE pa.parent_possible_attr_id = current_pa\n",
    "               AND pa.variant_entry_id = p_path[j][2]\n",
    "               AND pa.span_id IS NOT DISTINCT FROM p_path[j][1]\n",
    "             LIMIT 1;\n",
    "            IF current_pa IS NULL THEN\n",
    "                EXIT;\n",
    "            END IF;\n",
    "        END LOOP;\n",
    "        IF current_pa IS NOT NULL THEN\n",
    "            RETURN QUERY\n",
    "            SELECT (n - i + 1) AS idx,\n",
    "                   e.id,\n",
    "                   e.name,\n",
    "                   e.span_id,\n",
    "                   'activates' AS relationship\n",
    "              FROM effect e\n",
    "             WHERE e.activating_possible_attr_id = current_pa\n",
    "             ORDER BY e.id;\n",
    "            RETURN QUERY\n",
    "            SELECT (n - i + 1) AS idx,\n",
    "                   e.id,\n",
    "                   e.name,\n",
    "                   e.span_id,\n",
    "                   'effected_by' AS relationship\n",
    "              FROM effect e\n",
    "             WHERE e.to_modify_possible_attr_id = current_pa\n",
    "             ORDER BY e.id;\n",
    "        END IF;\n",
    "    END LOOP;\n",
    "    RETURN;\n",
    "END;\n",
    "$$ LANGUAGE plpgsql;"
   ]
  },
  {
   "cell_type": "markdown",
   "id": "783eee69",
   "metadata": {},
   "source": [
    "## Same Slot"
   ]
  },
  {
   "cell_type": "code",
   "execution_count": null,
   "id": "07a5ff24",
   "metadata": {
    "vscode": {
     "languageId": "sql"
    }
   },
   "outputs": [],
   "source": [
    "%%sql\n",
    "\n",
    "CREATE OR REPLACE FUNCTION same_slot(\n",
    "    p_candidate_id INTEGER,\n",
    "    p_reference_id INTEGER\n",
    ")\n",
    "RETURNS BOOLEAN\n",
    "LANGUAGE plpgsql\n",
    "AS $$\n",
    "DECLARE\n",
    "    candidate_slot  INTEGER;\n",
    "    reference_slot  INTEGER;\n",
    "BEGIN\n",
    "    -- If the candidate is a fallback (no possible_attr row), use abs(id)\n",
    "    IF p_candidate_id < 0 THEN\n",
    "       candidate_slot := -p_candidate_id;\n",
    "    ELSE\n",
    "       SELECT COALESCE(parent_possible_attr_id, id)\n",
    "         INTO candidate_slot\n",
    "         FROM possible_attr\n",
    "        WHERE id = p_candidate_id;\n",
    "    END IF;\n",
    "\n",
    "    -- Same for the reference.\n",
    "    IF p_reference_id < 0 THEN\n",
    "       reference_slot := -p_reference_id;\n",
    "    ELSE\n",
    "       SELECT COALESCE(parent_possible_attr_id, id)\n",
    "         INTO reference_slot\n",
    "         FROM possible_attr\n",
    "        WHERE id = p_reference_id;\n",
    "    END IF;\n",
    "\n",
    "    RETURN candidate_slot = reference_slot;\n",
    "END;\n",
    "$$;"
   ]
  },
  {
   "cell_type": "markdown",
   "id": "cce1df10",
   "metadata": {},
   "source": [
    "## Variant"
   ]
  },
  {
   "cell_type": "markdown",
   "id": "b6a70feb",
   "metadata": {},
   "source": [
    "### Add"
   ]
  },
  {
   "cell_type": "code",
   "execution_count": null,
   "id": "71e35337",
   "metadata": {
    "vscode": {
     "languageId": "sql"
    }
   },
   "outputs": [],
   "source": [
    "%%sql\n",
    "\n",
    "CREATE OR REPLACE PROCEDURE add_variant(\n",
    "    in_variant_name VARCHAR,\n",
    "    in_entries   JSON\n",
    ")\n",
    "LANGUAGE plpgsql\n",
    "AS $$\n",
    "DECLARE\n",
    "    new_variant_id      INTEGER;\n",
    "    i                   INTEGER := 0;\n",
    "    key_count           INTEGER;\n",
    "    attr_id             INTEGER;\n",
    "    attr_name           VARCHAR;\n",
    "    ventry_name         VARCHAR;\n",
    "    element             JSON;\n",
    "    element_type        TEXT;\n",
    "    sub_variant_id      INTEGER;\n",
    "    v_variant_entry_id  INTEGER;\n",
    "BEGIN\n",
    "    -- Use existing variant or insert it.\n",
    "    SELECT id INTO new_variant_id\n",
    "      FROM variant\n",
    "     WHERE name = in_variant_name\n",
    "     LIMIT 1;\n",
    "    IF new_variant_id IS NULL THEN\n",
    "        INSERT INTO variant(name)\n",
    "        VALUES (in_variant_name)\n",
    "        RETURNING id INTO new_variant_id;\n",
    "    END IF;\n",
    "\n",
    "    IF in_entries IS NOT NULL THEN\n",
    "        key_count := json_array_length(in_entries);\n",
    "        WHILE i < key_count LOOP\n",
    "            element := in_entries -> i;\n",
    "            element_type := json_typeof(element);\n",
    "            IF element_type = 'array' THEN\n",
    "                IF element ->> 0 = 'v' THEN\n",
    "                    -- Subvariant: [ 'v', subvariant_name, ?optional_variant_entry_name ]\n",
    "                    IF json_array_length(element) >= 3 THEN\n",
    "                        ventry_name := element ->> 2;\n",
    "                    ELSE\n",
    "                        ventry_name := element ->> 1;\n",
    "                    END IF;\n",
    "                    SELECT id INTO sub_variant_id\n",
    "                      FROM variant\n",
    "                     WHERE name = element ->> 1\n",
    "                     LIMIT 1;\n",
    "                    IF sub_variant_id IS NULL THEN\n",
    "                        INSERT INTO variant(name)\n",
    "                        VALUES (element ->> 1)\n",
    "                        RETURNING id INTO sub_variant_id;\n",
    "                    END IF;\n",
    "                    CALL link_variant_to_variant(new_variant_id, ventry_name, NULL);\n",
    "                    SELECT id INTO v_variant_entry_id\n",
    "                      FROM variant_entry\n",
    "                     WHERE variant_id = new_variant_id\n",
    "                       AND name = ventry_name;\n",
    "                    UPDATE variant_ref\n",
    "                      SET variant_id = sub_variant_id\n",
    "                     WHERE variant_entry_id = v_variant_entry_id;\n",
    "                ELSIF element ->> 0 = 'a' THEN\n",
    "                    -- Attribute: [ 'a', attribute_name, ?optional_variant_entry_name ]\n",
    "                    attr_name := element ->> 1;\n",
    "                    IF json_array_length(element) >= 3 THEN\n",
    "                        ventry_name := element ->> 2;\n",
    "                    ELSE\n",
    "                        ventry_name := attr_name;\n",
    "                    END IF;\n",
    "                    SELECT id INTO attr_id\n",
    "                      FROM attribute\n",
    "                     WHERE name = attr_name\n",
    "                     LIMIT 1;\n",
    "                    IF attr_id IS NULL THEN\n",
    "                        RAISE EXCEPTION 'Attribute \"%\" not found', attr_name;\n",
    "                    END IF;\n",
    "                    CALL link_attr_to_variant(new_variant_id, attr_id, ventry_name, NULL);\n",
    "                ELSE\n",
    "                    RAISE EXCEPTION 'Invalid entry type: %', element ->> 0;\n",
    "                END IF;\n",
    "            ELSE\n",
    "                -- Treat a simple string as an attribute.\n",
    "                attr_name := element::text;\n",
    "                ventry_name := attr_name;\n",
    "                SELECT id INTO attr_id\n",
    "                  FROM attribute\n",
    "                 WHERE name = attr_name\n",
    "                 LIMIT 1;\n",
    "                IF attr_id IS NULL THEN\n",
    "                    RAISE EXCEPTION 'Attribute \"%\" not found', attr_name;\n",
    "                END IF;\n",
    "                CALL link_attr_to_variant(new_variant_id, attr_id, ventry_name, NULL);\n",
    "            END IF;\n",
    "            i := i + 1;\n",
    "        END LOOP;\n",
    "    END IF;\n",
    "END;\n",
    "$$;"
   ]
  },
  {
   "cell_type": "markdown",
   "id": "d52c5a1d",
   "metadata": {},
   "source": [
    "### Get"
   ]
  },
  {
   "cell_type": "code",
   "execution_count": null,
   "id": "a04385c7",
   "metadata": {
    "vscode": {
     "languageId": "sql"
    }
   },
   "outputs": [],
   "source": [
    "%%sql\n",
    "\n",
    "CREATE OR REPLACE FUNCTION get_variant(\n",
    "  p_variant_name VARCHAR,\n",
    "  p_max_depth INTEGER\n",
    ")\n",
    "RETURNS TABLE (\n",
    "  depth       INTEGER,\n",
    "  address     TEXT,\n",
    "  activates   JSON,\n",
    "  effected_by JSON\n",
    ")\n",
    "LANGUAGE plpgsql\n",
    "AS $$\n",
    "BEGIN\n",
    "  RETURN QUERY\n",
    "  WITH RECURSIVE\n",
    "    root_variant AS (\n",
    "      SELECT id \n",
    "      FROM variant \n",
    "      WHERE name = p_variant_name\n",
    "    ),\n",
    "    rec AS (\n",
    "      -- Base step: initialize with nodes directly associated with the root.\n",
    "      -- For a variant_ref the resolved_path element is [NULL, variant_entry_id].\n",
    "      SELECT \n",
    "         ve.id AS variant_entry_id,\n",
    "         NULL::int AS attribute_id,\n",
    "         ve.name AS variant_entry_name,\n",
    "         ve.causation_index,\n",
    "         ARRAY[ve.causation_index] AS flattened_path,\n",
    "         '[]'::jsonb AS addr_prefix,\n",
    "         ve.name AS pending,\n",
    "         ve.variant_id AS current_variant_id,\n",
    "         -ve.id AS resolved_id,\n",
    "         1 AS cur_depth,\n",
    "         ARRAY[ARRAY[NULL::int, ve.id]] AS resolved_path,\n",
    "         'ref' AS entry_type\n",
    "      FROM variant_entry ve\n",
    "      JOIN variant_ref vr ON vr.variant_entry_id = ve.id\n",
    "      WHERE vr.variant_id = (SELECT id FROM root_variant)\n",
    "      \n",
    "      UNION ALL\n",
    "      \n",
    "      -- Also include base attribute nodes from the root.\n",
    "      SELECT \n",
    "         ve.id AS variant_entry_id,\n",
    "         ar.attribute_id,\n",
    "         ve.name AS variant_entry_name,\n",
    "         ve.causation_index,\n",
    "         ARRAY[ve.causation_index] AS flattened_path,\n",
    "         '[]'::jsonb AS addr_prefix,\n",
    "         ve.name AS pending,\n",
    "         ve.variant_id AS current_variant_id,\n",
    "         -ve.id AS resolved_id,\n",
    "         1 AS cur_depth,\n",
    "         ARRAY[ARRAY[NULL::int, ve.id]] AS resolved_path,\n",
    "         'attr' AS entry_type\n",
    "      FROM variant_entry ve\n",
    "      JOIN attribute_ref ar ON ar.variant_entry_id = ve.id\n",
    "      WHERE ve.variant_id = (SELECT id FROM root_variant)\n",
    "      \n",
    "      UNION ALL\n",
    "      \n",
    "      -- Recursive step: from an attribute node, extend via a subvariant span to a child.\n",
    "      SELECT \n",
    "         child_ve.id AS variant_entry_id,\n",
    "         ar_child.attribute_id,\n",
    "         child_ve.name AS variant_entry_name,\n",
    "         child_ve.causation_index,\n",
    "         r.flattened_path || child_ve.causation_index AS flattened_path,\n",
    "         CASE \n",
    "           WHEN r.addr_prefix = '[]'::jsonb THEN jsonb_build_array(jsonb_build_array(r.pending, cand.span_label))\n",
    "           ELSE r.addr_prefix || jsonb_build_array(jsonb_build_array(r.pending, cand.span_label))\n",
    "         END AS addr_prefix,\n",
    "         child_ve.name AS pending,\n",
    "         child_ve.variant_id AS current_variant_id,\n",
    "         -child_ve.id AS resolved_id,\n",
    "         r.cur_depth + 1 AS cur_depth,\n",
    "         r.resolved_path || ARRAY[ARRAY[cand.span_id, child_ve.id]] AS resolved_path,\n",
    "         'attr' AS entry_type\n",
    "      FROM rec r\n",
    "      JOIN LATERAL (\n",
    "         SELECT s.id AS span_id,\n",
    "                s.label AS span_label,\n",
    "                vr.variant_entry_id AS candidate_variant_entry_id,\n",
    "                vr.variant_id AS child_variant_id\n",
    "         FROM span s\n",
    "         JOIN subvariant_span ss ON ss.span_id = s.id\n",
    "         JOIN variant_ref vr ON vr.variant_id = r.current_variant_id\n",
    "         WHERE s.attribute_id = (\n",
    "                   SELECT ar.attribute_id \n",
    "                   FROM attribute_ref ar \n",
    "                   WHERE ar.variant_entry_id = r.variant_entry_id\n",
    "               )\n",
    "         ORDER BY ss.id\n",
    "         LIMIT 1\n",
    "      ) cand ON true\n",
    "      JOIN variant_entry child_ve ON child_ve.id = cand.candidate_variant_entry_id\n",
    "      JOIN attribute_ref ar_child ON ar_child.variant_entry_id = child_ve.id\n",
    "      WHERE r.entry_type = 'attr' AND r.cur_depth < p_max_depth\n",
    "    ),\n",
    "    final AS (\n",
    "      SELECT \n",
    "         rec.flattened_path,\n",
    "         rec.cur_depth,\n",
    "         rec.addr_prefix,\n",
    "         rec.pending,\n",
    "         rec.resolved_path\n",
    "      FROM rec\n",
    "    )\n",
    "  SELECT \n",
    "    final.cur_depth AS depth,\n",
    "    CASE \n",
    "      WHEN final.addr_prefix = '[]'::jsonb THEN jsonb_build_array(final.pending)\n",
    "      ELSE final.addr_prefix || jsonb_build_array(final.pending)\n",
    "    END::text AS address,\n",
    "    eff.activates,\n",
    "    eff.effected_by\n",
    "  FROM final\n",
    "  LEFT JOIN LATERAL (\n",
    "    SELECT \n",
    "      json_agg(eff1.name ORDER BY eff1.name) FILTER (WHERE eff1.relationship = 'activates') AS activates,\n",
    "      json_agg(eff1.name ORDER BY eff1.name) FILTER (WHERE eff1.relationship = 'effected_by') AS effected_by\n",
    "    FROM get_effects_from_resolved_path(final.resolved_path) eff1\n",
    "  ) eff ON true\n",
    "  ORDER BY final.flattened_path;\n",
    "END;\n",
    "$$;"
   ]
  },
  {
   "cell_type": "markdown",
   "id": "39ab5990",
   "metadata": {},
   "source": [
    "### Delete"
   ]
  },
  {
   "cell_type": "code",
   "execution_count": null,
   "id": "35bde996",
   "metadata": {
    "vscode": {
     "languageId": "sql"
    }
   },
   "outputs": [],
   "source": [
    "%%sql\n",
    "\n",
    "CREATE OR REPLACE PROCEDURE delete_variant(p_variant_name varchar)\n",
    "LANGUAGE plpgsql\n",
    "AS\n",
    "$$\n",
    "BEGIN\n",
    "  DELETE FROM variant WHERE name = p_variant_name;\n",
    "END;\n",
    "$$;"
   ]
  },
  {
   "cell_type": "markdown",
   "id": "064f7c76",
   "metadata": {},
   "source": [
    "## Add Entity"
   ]
  },
  {
   "cell_type": "code",
   "execution_count": null,
   "id": "55826704",
   "metadata": {
    "vscode": {
     "languageId": "sql"
    }
   },
   "outputs": [],
   "source": [
    "%%sql\n",
    "\n",
    "CREATE OR REPLACE PROCEDURE add_entity(\n",
    "    in_name VARCHAR(255),\n",
    "    in_variant_id INT\n",
    ")\n",
    "LANGUAGE plpgsql\n",
    "AS $$\n",
    "BEGIN\n",
    "    INSERT INTO entity(name, variant_id)\n",
    "    VALUES (in_name, in_variant_id);\n",
    "END;\n",
    "$$;"
   ]
  },
  {
   "cell_type": "markdown",
   "id": "04111890",
   "metadata": {},
   "source": [
    "## Roll Discrete Variant Attribute Value"
   ]
  },
  {
   "cell_type": "code",
   "execution_count": null,
   "id": "a8600484",
   "metadata": {
    "vscode": {
     "languageId": "sql"
    }
   },
   "outputs": [],
   "source": [
    "%%sql\n",
    "\n",
    "CREATE OR REPLACE FUNCTION roll_discrete_varattr(\n",
    "    p_variant_entry_ids int[][],\n",
    "    p_entity_state_id INTEGER,\n",
    "    p_exclude_span_id INTEGER\n",
    ")\n",
    "RETURNS INTEGER\n",
    "LANGUAGE plpgsql\n",
    "AS $$\n",
    "DECLARE\n",
    "    v_span_id INTEGER;\n",
    "    v_max_double CONSTANT double precision := 1e308;\n",
    "    leaf_ventry_id INTEGER;\n",
    "BEGIN\n",
    "    -- Extract the leaf variant_entry from the path tuple ([span_id, variant_entry_id])\n",
    "    leaf_ventry_id := p_variant_entry_ids[array_length(p_variant_entry_ids, 1)][2];\n",
    "\n",
    "    WITH\n",
    "    BaseSpans AS (\n",
    "        SELECT s.id AS span_id,\n",
    "               ve.id AS variant_entry_id,\n",
    "               NULL::INTEGER AS subvariant_span_id,\n",
    "               s.weight AS base_weight\n",
    "        FROM variant_entry ve\n",
    "        JOIN attribute_ref ar ON ar.variant_entry_id = ve.id\n",
    "        JOIN span s ON s.attribute_id = ar.attribute_id\n",
    "        WHERE ve.id = leaf_ventry_id\n",
    "          AND s.type = 'discrete'\n",
    "          AND (p_exclude_span_id = 0 OR s.id <> p_exclude_span_id)\n",
    "          AND s.id NOT IN (SELECT span_id FROM add_span_eft)\n",
    "    ),\n",
    "    Effects AS (\n",
    "         SELECT *\n",
    "         FROM get_effects_from_resolved_path(p_variant_entry_ids)\n",
    "         WHERE relationship = 'effected_by'\n",
    "    ),\n",
    "    ActiveEffects AS (\n",
    "         SELECT e.id AS effect_id, e.span_id\n",
    "         FROM effect e\n",
    "         JOIN Effects g ON e.id = g.id\n",
    "         JOIN attr_value av ON av.possible_attr_id = e.activating_possible_attr_id\n",
    "         WHERE av.entity_state_id = p_entity_state_id\n",
    "           AND av.span_id = e.span_id\n",
    "    ),\n",
    "    InactiveSpans AS (\n",
    "         SELECT DISTINCT rse.span_id\n",
    "         FROM remove_span_eft rse\n",
    "         JOIN ActiveEffects ae ON ae.effect_id = rse.effect_id\n",
    "    ),\n",
    "    ActivatedSpans AS (\n",
    "         SELECT DISTINCT\n",
    "                ase.span_id,\n",
    "                NULL::INTEGER AS variant_entry_id,\n",
    "                NULL::INTEGER AS subvariant_span_id,\n",
    "                0.0 AS base_weight\n",
    "         FROM add_span_eft ase\n",
    "         JOIN ActiveEffects ae ON ae.effect_id = ase.effect_id\n",
    "    ),\n",
    "    DeltaWeights AS (\n",
    "         SELECT dwe.span_id, SUM(dwe.delta_weight) AS total_delta\n",
    "         FROM delta_weight_eft dwe\n",
    "         JOIN ActiveEffects ae ON ae.effect_id = dwe.effect_id\n",
    "         GROUP BY dwe.span_id\n",
    "    ),\n",
    "    AllRelevantSpans AS (\n",
    "         SELECT b.span_id, b.variant_entry_id, b.subvariant_span_id, b.base_weight\n",
    "         FROM BaseSpans b\n",
    "         WHERE b.span_id NOT IN (SELECT span_id FROM InactiveSpans)\n",
    "         UNION\n",
    "         SELECT a.span_id, a.variant_entry_id, a.subvariant_span_id, a.base_weight\n",
    "         FROM ActivatedSpans a\n",
    "         WHERE a.span_id NOT IN (SELECT span_id FROM InactiveSpans)\n",
    "    ),\n",
    "    FinalSpans AS (\n",
    "         SELECT ars.span_id,\n",
    "                ars.variant_entry_id,\n",
    "                ars.subvariant_span_id,\n",
    "                COALESCE(ars.base_weight, 0) + COALESCE(dw.total_delta, 0) AS effective_weight\n",
    "         FROM AllRelevantSpans ars\n",
    "         LEFT JOIN DeltaWeights dw ON dw.span_id = ars.span_id\n",
    "    ),\n",
    "    SpanCounts AS (\n",
    "         SELECT ns.num_spans,\n",
    "                SUM(fs.effective_weight / ns.num_spans) AS total_weight\n",
    "         FROM FinalSpans fs\n",
    "         CROSS JOIN (\n",
    "             SELECT COUNT(*)::double precision AS num_spans\n",
    "             FROM FinalSpans\n",
    "             WHERE effective_weight > 0\n",
    "         ) ns\n",
    "         WHERE fs.effective_weight > 0\n",
    "         GROUP BY ns.num_spans\n",
    "    ),\n",
    "    AdjustedSpans AS (\n",
    "         SELECT fs.span_id,\n",
    "                fs.variant_entry_id,\n",
    "                fs.subvariant_span_id,\n",
    "                fs.effective_weight,\n",
    "                sc.num_spans,\n",
    "                sc.total_weight,\n",
    "                CASE \n",
    "                  WHEN fs.effective_weight < 1 THEN ceil((fs.effective_weight * v_max_double) / (sc.total_weight * sc.num_spans))\n",
    "                  ELSE ceil((fs.effective_weight / (sc.total_weight * sc.num_spans)) * v_max_double)\n",
    "                END AS adjusted_weight\n",
    "         FROM FinalSpans fs\n",
    "         CROSS JOIN SpanCounts sc\n",
    "         WHERE fs.effective_weight > 0\n",
    "    ),\n",
    "    Running AS (\n",
    "         SELECT span_id,\n",
    "                variant_entry_id,\n",
    "                subvariant_span_id,\n",
    "                adjusted_weight,\n",
    "                SUM(adjusted_weight) OVER (ORDER BY span_id) AS running_total\n",
    "         FROM AdjustedSpans\n",
    "    ),\n",
    "    OrderedSpansCTE AS (\n",
    "         SELECT span_id,\n",
    "                variant_entry_id,\n",
    "                subvariant_span_id,\n",
    "                adjusted_weight AS contextual_weight,\n",
    "                running_total,\n",
    "                LAG(running_total, 1, 0) OVER (ORDER BY span_id) AS prev_running_total\n",
    "         FROM Running\n",
    "    ),\n",
    "    TotalAdjusted AS (\n",
    "         SELECT MAX(running_total) AS v_total_weight\n",
    "         FROM OrderedSpansCTE\n",
    "    ),\n",
    "    Rng AS (\n",
    "         SELECT t.v_total_weight,\n",
    "                floor(random() * t.v_total_weight) AS v_random_pick\n",
    "         FROM TotalAdjusted t\n",
    "    )\n",
    "    SELECT o.span_id\n",
    "      INTO v_span_id\n",
    "      FROM OrderedSpansCTE o, Rng\n",
    "      WHERE Rng.v_random_pick >= o.prev_running_total\n",
    "        AND Rng.v_random_pick < o.running_total\n",
    "      LIMIT 1;\n",
    "\n",
    "    RETURN v_span_id;\n",
    "END;\n",
    "$$;"
   ]
  },
  {
   "cell_type": "markdown",
   "id": "1505639a",
   "metadata": {},
   "source": [
    "## Gamma Range"
   ]
  },
  {
   "cell_type": "code",
   "execution_count": null,
   "id": "34e2d0e4",
   "metadata": {
    "vscode": {
     "languageId": "sql"
    }
   },
   "outputs": [],
   "source": [
    "%%sql\n",
    "\n",
    "CREATE OR REPLACE FUNCTION gamma_rng(shape double precision)\n",
    "RETURNS double precision\n",
    "LANGUAGE plpgsql\n",
    "AS $$\n",
    "DECLARE\n",
    "    d double precision;\n",
    "    c double precision;\n",
    "    x double precision;\n",
    "    v double precision;\n",
    "    u double precision;\n",
    "BEGIN\n",
    "    IF shape < 1 THEN\n",
    "        -- Use the transformation: Gamma(shape) = Gamma(shape+1)*U^(1/shape)\n",
    "        RETURN gamma_rng(shape + 1) * power(random(), 1.0 / shape);\n",
    "    END IF;\n",
    "    d := shape - 1.0/3.0;\n",
    "    c := 1.0 / sqrt(9.0 * d);\n",
    "    LOOP\n",
    "        -- Generate a standard normal via Box–Muller:\n",
    "        x := sqrt(-2 * ln(random())) * cos(2 * 3.141592653589793 * random());\n",
    "        v := 1 + c * x;\n",
    "        IF v <= 0 THEN\n",
    "            CONTINUE;\n",
    "        END IF;\n",
    "        v := v * v * v;\n",
    "        u := random();\n",
    "        IF u < 1 - 0.0331 * x * x * x * x THEN\n",
    "            RETURN d * v;\n",
    "        END IF;\n",
    "        IF ln(u) < 0.5 * x * x + d * (1 - v + ln(v)) THEN\n",
    "            RETURN d * v;\n",
    "        END IF;\n",
    "    END LOOP;\n",
    "END;\n",
    "$$;"
   ]
  },
  {
   "cell_type": "markdown",
   "id": "a9af61b5",
   "metadata": {},
   "source": [
    "## Generate Weighted Random Number"
   ]
  },
  {
   "cell_type": "code",
   "execution_count": null,
   "id": "637eaa9a",
   "metadata": {
    "vscode": {
     "languageId": "sql"
    }
   },
   "outputs": [],
   "source": [
    "%%sql\n",
    "\n",
    "-- using a fast Marsaglia–Tsang method\n",
    "CREATE OR REPLACE FUNCTION weighted_random(\n",
    "    min_val double precision,                   -- Minimum of desired range.\n",
    "    max_val double precision,                   -- Maximum of desired range (must be > min_val).\n",
    "    mode_val double precision,                  -- Desired mode (peak) in the same units.\n",
    "    skew double precision DEFAULT 0,            -- Skew adjustment; between -1 and 1 only, 0 = no skew.\n",
    "    concentration double precision DEFAULT 4    -- Concentration (k); should be >2 for a proper unimodal shape.\n",
    ") RETURNS double precision\n",
    "LANGUAGE plpgsql\n",
    "AS $$\n",
    "DECLARE\n",
    "    m_norm      double precision;  -- Normalized desired mode in [0,1].\n",
    "    alpha       double precision;\n",
    "    beta        double precision;\n",
    "    x_val       double precision;\n",
    "    y_val       double precision;\n",
    "    beta_sample double precision;\n",
    "BEGIN\n",
    "    IF min_val >= max_val THEN\n",
    "        RAISE EXCEPTION 'min_val must be less than max_val';\n",
    "    END IF;\n",
    "    IF concentration < 0 THEN\n",
    "        RAISE EXCEPTION 'concentration must be non-negative';\n",
    "    END IF;\n",
    "    IF concentration <= 2 THEN\n",
    "        -- When concentration <= 2 the Beta isn't unimodal; fallback to uniform.\n",
    "        RETURN min_val + random() * (max_val - min_val);\n",
    "    END IF;\n",
    "\n",
    "    -- Normalize the desired mode to [0,1].\n",
    "    m_norm := (mode_val - min_val) / (max_val - min_val);\n",
    "\n",
    "    -- Parameterize α and β so that (α-1)/(α+β-2) equals m_norm.\n",
    "    alpha := m_norm * (concentration - 2) + 1;\n",
    "    beta  := (1 - m_norm) * (concentration - 2) + 1;\n",
    "\n",
    "    -- Apply skew correction if desired.\n",
    "    IF skew <> 0 THEN\n",
    "        alpha := alpha * (1 + skew);\n",
    "        beta  := beta  * (1 - skew);\n",
    "    END IF;\n",
    "\n",
    "    -- Generate a Beta(α,β) random variable via the Gamma method.\n",
    "    x_val := gamma_rng(alpha);\n",
    "    y_val := gamma_rng(beta);\n",
    "    beta_sample := x_val / (x_val + y_val);\n",
    "\n",
    "    -- Scale the [0,1] Beta sample to [min_val, max_val].\n",
    "    RETURN min_val + beta_sample * (max_val - min_val);\n",
    "END;\n",
    "$$;"
   ]
  },
  {
   "cell_type": "markdown",
   "id": "6dc053cb",
   "metadata": {},
   "source": [
    "## Roll Continuous Variant Attribute Value"
   ]
  },
  {
   "cell_type": "code",
   "execution_count": null,
   "id": "b4da7a22",
   "metadata": {
    "vscode": {
     "languageId": "sql"
    }
   },
   "outputs": [],
   "source": [
    "%%sql\n",
    "\n",
    "CREATE OR REPLACE FUNCTION roll_continuous_varattr(\n",
    "    p_variant_entry_ids int[][],\n",
    "    p_entity_state_id   INTEGER,\n",
    "    p_exclude_span_id   INTEGER\n",
    ")\n",
    "RETURNS TABLE(chosen_span_id integer, chosen_value double precision)\n",
    "LANGUAGE plpgsql\n",
    "AS $$\n",
    "DECLARE\n",
    "    v_attribute_id         INTEGER;\n",
    "    v_decimals             INTEGER;\n",
    "    v_min                  DOUBLE PRECISION;\n",
    "    v_max                  DOUBLE PRECISION;\n",
    "    v_mode                 DOUBLE PRECISION;\n",
    "    v_concentration        DOUBLE PRECISION;\n",
    "    v_skew                 DOUBLE PRECISION;\n",
    "    v_total_delta_mode     DOUBLE PRECISION := 0;\n",
    "    v_total_delta_conc     DOUBLE PRECISION := 0;\n",
    "    v_total_delta_skew     DOUBLE PRECISION := 0;\n",
    "    v_eff_min              DOUBLE PRECISION;\n",
    "    v_eff_max              DOUBLE PRECISION;\n",
    "    v_eff_mode             DOUBLE PRECISION;\n",
    "    v_result               DOUBLE PRECISION;\n",
    "    v_clamped_result       DOUBLE PRECISION;\n",
    "    v_chosen_span_id       INTEGER;\n",
    "    dummy_eff_min          DOUBLE PRECISION;\n",
    "    dummy_eff_max          DOUBLE PRECISION;\n",
    "    v_variant_entry_id     INTEGER;\n",
    "    leaf_ventry_id         INTEGER;\n",
    "BEGIN\n",
    "    -- Extract the leaf variant_entry (second element of the last tuple)\n",
    "    leaf_ventry_id := p_variant_entry_ids[array_length(p_variant_entry_ids,1)][2];\n",
    "\n",
    "    SELECT ar.attribute_id, a.decimals, a.min_value, a.max_value, a.mode_value, \n",
    "           a.concentration, a.skew, ar.variant_entry_id\n",
    "      INTO v_attribute_id, v_decimals, v_min, v_max, v_mode, v_concentration, v_skew, v_variant_entry_id\n",
    "      FROM attribute_ref ar\n",
    "      JOIN attribute a ON a.id = ar.attribute_id\n",
    "     WHERE ar.variant_entry_id = leaf_ventry_id\n",
    "     LIMIT 1;\n",
    "\n",
    "    IF v_attribute_id IS NULL THEN\n",
    "        RAISE EXCEPTION 'No matching attribute found for variant_entry_id %', leaf_ventry_id;\n",
    "    END IF;\n",
    "\n",
    "    WITH Effects AS (\n",
    "         SELECT *\n",
    "         FROM get_effects_from_resolved_path(p_variant_entry_ids)\n",
    "         WHERE relationship = 'effected_by'\n",
    "    ),\n",
    "    ActiveEffects AS (\n",
    "         SELECT e.id AS effect_id, e.span_id, e.to_modify_possible_attr_id, e.variant_id\n",
    "         FROM effect e\n",
    "         JOIN Effects g ON e.id = g.id\n",
    "         JOIN attr_value av ON av.possible_attr_id = e.activating_possible_attr_id\n",
    "         WHERE av.entity_state_id = p_entity_state_id\n",
    "           AND av.span_id = e.span_id\n",
    "    )\n",
    "    SELECT COALESCE(SUM(dpe.delta_mode), 0),\n",
    "           COALESCE(SUM(dpe.delta_conc), 0),\n",
    "           COALESCE(SUM(dpe.delta_skew), 0)\n",
    "      INTO v_total_delta_mode, v_total_delta_conc, v_total_delta_skew\n",
    "      FROM delta_param_eft dpe\n",
    "      JOIN ActiveEffects ae ON ae.effect_id = dpe.effect_id\n",
    "      JOIN possible_attr pa ON pa.id = ae.to_modify_possible_attr_id\n",
    "      WHERE pa.variant_entry_id = v_variant_entry_id\n",
    "        AND ae.variant_id = (SELECT variant_id FROM variant_entry WHERE id = leaf_ventry_id);\n",
    "\n",
    "    IF (v_total_delta_conc <> 0 OR v_total_delta_skew <> 0) THEN\n",
    "        v_eff_min  := (v_min + v_total_delta_mode) * (1 + v_total_delta_conc + v_total_delta_skew);\n",
    "        v_eff_max  := (v_max + v_total_delta_mode) * (1 + v_total_delta_conc + v_total_delta_skew);\n",
    "        v_eff_mode := (v_mode + v_total_delta_mode) * (1 + v_total_delta_conc + v_total_delta_skew);\n",
    "    ELSE\n",
    "        v_eff_min  := v_min + v_total_delta_mode;\n",
    "        v_eff_max  := v_max + v_total_delta_mode;\n",
    "        v_eff_mode := v_mode + v_total_delta_mode;\n",
    "    END IF;\n",
    "\n",
    "    IF v_eff_max < v_eff_min THEN\n",
    "        v_result  := v_eff_min;\n",
    "        v_eff_min := v_eff_max;\n",
    "        v_eff_max := v_result;\n",
    "    END IF;\n",
    "\n",
    "    v_result := weighted_random(\n",
    "                   v_eff_min, \n",
    "                   v_eff_max, \n",
    "                   v_eff_mode, \n",
    "                   COALESCE(v_skew, 0),\n",
    "                   COALESCE(v_concentration, 0)\n",
    "               );\n",
    "    v_result := round(v_result::numeric, v_decimals)::double precision;\n",
    "\n",
    "    IF v_result < v_eff_min THEN\n",
    "        v_clamped_result := v_eff_min;\n",
    "    ELSIF v_result > v_eff_max THEN\n",
    "        v_clamped_result := v_eff_max;\n",
    "    ELSE\n",
    "        v_clamped_result := v_result;\n",
    "    END IF;\n",
    "\n",
    "    IF p_exclude_span_id IS NOT NULL AND p_exclude_span_id <> 0 THEN\n",
    "        SELECT s.id,\n",
    "               CASE \n",
    "                 WHEN (v_total_delta_conc <> 0 OR v_total_delta_skew <> 0)\n",
    "                 THEN (s.min_value + v_total_delta_mode) * (1 + v_total_delta_conc + v_total_delta_skew)\n",
    "                 ELSE (s.min_value + v_total_delta_mode)\n",
    "               END,\n",
    "               CASE \n",
    "                 WHEN (v_total_delta_conc <> 0 OR v_total_delta_skew <> 0)\n",
    "                 THEN (s.max_value + v_total_delta_mode) * (1 + v_total_delta_conc + v_total_delta_skew)\n",
    "                 ELSE (s.max_value + v_total_delta_mode)\n",
    "               END\n",
    "          INTO v_chosen_span_id, dummy_eff_min, dummy_eff_max\n",
    "          FROM span s\n",
    "          JOIN possible_attr pa ON pa.span_id = s.id\n",
    "         WHERE s.attribute_id = v_attribute_id\n",
    "           AND s.type = 'continuous'\n",
    "           AND s.id <> p_exclude_span_id\n",
    "           AND pa.variant_entry_id = v_variant_entry_id\n",
    "           AND (CASE \n",
    "                  WHEN (v_total_delta_conc <> 0 OR v_total_delta_skew <> 0)\n",
    "                  THEN (s.min_value + v_total_delta_mode) * (1 + v_total_delta_conc + v_total_delta_skew)\n",
    "                  ELSE (s.min_value + v_total_delta_mode)\n",
    "                END) <= v_clamped_result\n",
    "           AND (CASE \n",
    "                  WHEN (v_total_delta_conc <> 0 OR v_total_delta_skew <> 0)\n",
    "                  THEN (s.max_value + v_total_delta_mode) * (1 + v_total_delta_conc + v_total_delta_skew)\n",
    "                  ELSE (s.max_value + v_total_delta_mode)\n",
    "                END) > v_clamped_result\n",
    "          LIMIT 1;\n",
    "    ELSE\n",
    "        SELECT s.id,\n",
    "               CASE \n",
    "                 WHEN (v_total_delta_conc <> 0 OR v_total_delta_skew <> 0)\n",
    "                 THEN (s.min_value + v_total_delta_mode) * (1 + v_total_delta_conc + v_total_delta_skew)\n",
    "                 ELSE (s.min_value + v_total_delta_mode)\n",
    "               END,\n",
    "               CASE \n",
    "                 WHEN (v_total_delta_conc <> 0 OR v_total_delta_skew <> 0)\n",
    "                 THEN (s.max_value + v_total_delta_mode) * (1 + v_total_delta_conc + v_total_delta_skew)\n",
    "                 ELSE (s.max_value + v_total_delta_mode)\n",
    "               END\n",
    "          INTO v_chosen_span_id, dummy_eff_min, dummy_eff_max\n",
    "          FROM span s\n",
    "          JOIN possible_attr pa ON pa.span_id = s.id\n",
    "         WHERE s.attribute_id = v_attribute_id\n",
    "           AND s.type = 'continuous'\n",
    "           AND pa.variant_entry_id = v_variant_entry_id\n",
    "           AND (CASE \n",
    "                  WHEN (v_total_delta_conc <> 0 OR v_total_delta_skew <> 0)\n",
    "                  THEN (s.min_value + v_total_delta_mode) * (1 + v_total_delta_conc + v_total_delta_skew)\n",
    "                  ELSE (s.min_value + v_total_delta_mode)\n",
    "                END) <= v_clamped_result\n",
    "           AND (CASE \n",
    "                  WHEN (v_total_delta_conc <> 0 OR v_total_delta_skew <> 0)\n",
    "                  THEN (s.max_value + v_total_delta_mode) * (1 + v_total_delta_conc + v_total_delta_skew)\n",
    "                  ELSE (s.max_value + v_total_delta_mode)\n",
    "                END) > v_clamped_result\n",
    "          LIMIT 1;\n",
    "    END IF;\n",
    "\n",
    "    chosen_span_id := v_chosen_span_id;\n",
    "    chosen_value   := v_clamped_result;\n",
    "    RETURN NEXT;\n",
    "END;\n",
    "$$;"
   ]
  },
  {
   "cell_type": "markdown",
   "id": "14c74b7a",
   "metadata": {},
   "source": [
    "## Generate Entity State"
   ]
  },
  {
   "cell_type": "code",
   "execution_count": null,
   "id": "bce4afd6",
   "metadata": {
    "vscode": {
     "languageId": "sql"
    }
   },
   "outputs": [],
   "source": [
    "%%sql\n",
    "\n",
    "CREATE OR REPLACE PROCEDURE generate_entity_state(\n",
    "    IN p_entity_name VARCHAR,\n",
    "    IN p_time        DOUBLE PRECISION\n",
    ")\n",
    "LANGUAGE plpgsql\n",
    "AS $$\n",
    "DECLARE\n",
    "    v_entity_id               INTEGER;\n",
    "    v_root_variant_id         INTEGER;\n",
    "    v_entity_state_id         INTEGER;\n",
    "    v_is_regenerate           BOOLEAN;\n",
    "    v_current_variant         INTEGER;\n",
    "    v_trigger_ss              INTEGER;\n",
    "    v_parent_possible_attr_id INTEGER;\n",
    "    v_parent_path             int[][];  -- Each element: [span_id, variant_entry_id]\n",
    "    v_queue_id                INTEGER;\n",
    "    cur_possible_attr_id      INTEGER;\n",
    "    v_current_ventry_id       INTEGER;\n",
    "    cur_attr_type             TEXT;\n",
    "    v_sub_variant_id          INTEGER;\n",
    "    v_existing_attr_val_id    INTEGER;\n",
    "    v_existing_span_id        INTEGER;\n",
    "    v_lock_count              INTEGER := 0;\n",
    "    v_new_span_id             INTEGER;\n",
    "    v_new_numeric             DOUBLE PRECISION;\n",
    "    v_used_span_id            INTEGER;\n",
    "    rec                       RECORD;\n",
    "    new_path                  int[][];  -- New path after appending current element\n",
    "BEGIN\n",
    "    -- Lookup entity.\n",
    "    SELECT id, variant_id \n",
    "      INTO v_entity_id, v_root_variant_id\n",
    "      FROM entity\n",
    "     WHERE name = p_entity_name;\n",
    "    IF v_entity_id IS NULL THEN\n",
    "       RAISE EXCEPTION 'No entity found with name=%', p_entity_name;\n",
    "    END IF;\n",
    "\n",
    "    -- Check for existing state.\n",
    "    SELECT id \n",
    "      INTO v_entity_state_id\n",
    "      FROM entity_state\n",
    "     WHERE entity_id = v_entity_id\n",
    "       AND \"time\" = p_time\n",
    "     LIMIT 1;\n",
    "    IF v_entity_state_id IS NOT NULL THEN\n",
    "        v_is_regenerate := TRUE;\n",
    "    ELSE\n",
    "        INSERT INTO entity_state(entity_id, \"time\")\n",
    "        VALUES (v_entity_id, p_time)\n",
    "        RETURNING id INTO v_entity_state_id;\n",
    "        v_is_regenerate := FALSE;\n",
    "    END IF;\n",
    "\n",
    "    -- Create temporary queue carrying a 2D integer array path.\n",
    "    DROP TABLE IF EXISTS _variant_queue;\n",
    "    CREATE TEMPORARY TABLE _variant_queue (\n",
    "        queue_id serial PRIMARY KEY,\n",
    "        variant_id INTEGER,\n",
    "        subvariant_span_id INTEGER,\n",
    "        parent_possible_attr_id INTEGER,\n",
    "        parent_path int[][] \n",
    "    ) ON COMMIT DROP;\n",
    "    INSERT INTO _variant_queue (variant_id, subvariant_span_id, parent_possible_attr_id, parent_path)\n",
    "      VALUES (v_root_variant_id, NULL, NULL, '{}'::int[][]);\n",
    "\n",
    "    -- Temporary table for variant entries.\n",
    "    DROP TABLE IF EXISTS _variant_attrs;\n",
    "    CREATE TEMPORARY TABLE _variant_attrs (\n",
    "        ve_id INTEGER,\n",
    "        attr_type TEXT,\n",
    "        is_variant_ref BOOLEAN,\n",
    "        subvariant_variant_id INTEGER\n",
    "    ) ON COMMIT DROP;\n",
    "\n",
    "    -- Process the queue (LIFO).\n",
    "    LOOP\n",
    "        SELECT queue_id, variant_id, subvariant_span_id, parent_possible_attr_id, parent_path\n",
    "          INTO v_queue_id, v_current_variant, v_trigger_ss, v_parent_possible_attr_id, v_parent_path\n",
    "          FROM _variant_queue\n",
    "         ORDER BY queue_id DESC\n",
    "         LIMIT 1;\n",
    "        EXIT WHEN NOT FOUND;\n",
    "        DELETE FROM _variant_queue WHERE queue_id = v_queue_id;\n",
    "\n",
    "        TRUNCATE _variant_attrs;\n",
    "        INSERT INTO _variant_attrs (ve_id, attr_type, is_variant_ref, subvariant_variant_id)\n",
    "          SELECT ve.id,\n",
    "                 a.type,\n",
    "                 (CASE WHEN vr.variant_id IS NOT NULL THEN TRUE ELSE FALSE END),\n",
    "                 vr.variant_id\n",
    "            FROM variant_entry ve\n",
    "            LEFT JOIN attribute_ref ar ON ve.id = ar.variant_entry_id\n",
    "            LEFT JOIN attribute a ON ar.attribute_id = a.id\n",
    "            LEFT JOIN variant_ref vr ON ve.id = vr.variant_entry_id\n",
    "           WHERE ve.variant_id = v_current_variant\n",
    "           ORDER BY ve.causation_index;\n",
    "\n",
    "        FOR rec IN SELECT * FROM _variant_attrs LOOP\n",
    "            v_current_ventry_id := rec.ve_id;\n",
    "            IF rec.is_variant_ref THEN\n",
    "                -- For variant_ref, possible_attr.span_id must be NULL.\n",
    "                SELECT id INTO cur_possible_attr_id\n",
    "                  FROM possible_attr\n",
    "                 WHERE variant_entry_id = v_current_ventry_id\n",
    "                   AND ((parent_possible_attr_id IS NULL AND v_parent_possible_attr_id IS NULL)\n",
    "                        OR parent_possible_attr_id = v_parent_possible_attr_id)\n",
    "                   AND span_id IS NULL\n",
    "                 LIMIT 1;\n",
    "                IF cur_possible_attr_id IS NULL THEN\n",
    "                    INSERT INTO possible_attr (variant_entry_id, parent_possible_attr_id, span_id)\n",
    "                    VALUES (v_current_ventry_id, v_parent_possible_attr_id, NULL)\n",
    "                    RETURNING id INTO cur_possible_attr_id;\n",
    "                END IF;\n",
    "                new_path := v_parent_path || ARRAY[ARRAY[NULL::integer, v_current_ventry_id]];\n",
    "                INSERT INTO _variant_queue (variant_id, subvariant_span_id, parent_possible_attr_id, parent_path)\n",
    "                VALUES (rec.subvariant_variant_id, NULL, cur_possible_attr_id, new_path)\n",
    "                ON CONFLICT DO NOTHING;\n",
    "            ELSE\n",
    "                -- For attribute_ref, we roll to get a valid span.\n",
    "                IF v_is_regenerate THEN\n",
    "                    SELECT id, span_id\n",
    "                      INTO v_existing_attr_val_id, v_existing_span_id\n",
    "                      FROM attr_value\n",
    "                     WHERE entity_state_id = v_entity_state_id\n",
    "                       AND possible_attr_id = (\n",
    "                           SELECT id\n",
    "                             FROM possible_attr\n",
    "                            WHERE variant_entry_id = v_current_ventry_id\n",
    "                              AND ((parent_possible_attr_id IS NULL AND v_parent_possible_attr_id IS NULL)\n",
    "                                   OR parent_possible_attr_id = v_parent_possible_attr_id)\n",
    "                              AND span_id IS NOT NULL\n",
    "                            LIMIT 1\n",
    "                       )\n",
    "                     LIMIT 1;\n",
    "                    IF v_existing_attr_val_id IS NOT NULL THEN\n",
    "                        SELECT count(*) INTO v_lock_count\n",
    "                          FROM attr_val_lock\n",
    "                         WHERE locked_attr_val_id = v_existing_attr_val_id;\n",
    "                        IF v_lock_count > 0 THEN\n",
    "                            v_used_span_id := v_existing_span_id;\n",
    "                        ELSE\n",
    "                            IF rec.attr_type = 'discrete' THEN\n",
    "                                v_new_span_id := roll_discrete_varattr(\n",
    "                                    v_parent_path || ARRAY[ARRAY[NULL::integer, v_current_ventry_id]],\n",
    "                                    v_entity_state_id, 0);\n",
    "                                UPDATE attr_value\n",
    "                                   SET span_id = v_new_span_id\n",
    "                                 WHERE id = v_existing_attr_val_id;\n",
    "                                v_used_span_id := v_new_span_id;\n",
    "                            ELSE\n",
    "                                SELECT t.chosen_span_id, t.chosen_value\n",
    "                                  INTO v_new_span_id, v_new_numeric\n",
    "                                  FROM roll_continuous_varattr(\n",
    "                                    v_parent_path || ARRAY[ARRAY[NULL::integer, v_current_ventry_id]],\n",
    "                                    v_entity_state_id, 0) t\n",
    "                                 LIMIT 1;\n",
    "                                UPDATE attr_value\n",
    "                                   SET span_id = v_new_span_id,\n",
    "                                       numeric_value = v_new_numeric\n",
    "                                 WHERE id = v_existing_attr_val_id;\n",
    "                                v_used_span_id := v_new_span_id;\n",
    "                            END IF;\n",
    "                        END IF;\n",
    "                    ELSE\n",
    "                        IF rec.attr_type = 'discrete' THEN\n",
    "                            v_new_span_id := roll_discrete_varattr(\n",
    "                                    v_parent_path || ARRAY[ARRAY[NULL::integer, v_current_ventry_id]],\n",
    "                                    v_entity_state_id, 0);\n",
    "                            SELECT id INTO cur_possible_attr_id\n",
    "                              FROM possible_attr\n",
    "                             WHERE variant_entry_id = v_current_ventry_id\n",
    "                               AND ((parent_possible_attr_id IS NULL AND v_parent_possible_attr_id IS NULL)\n",
    "                                    OR parent_possible_attr_id = v_parent_possible_attr_id)\n",
    "                               AND span_id = v_new_span_id\n",
    "                             LIMIT 1;\n",
    "                            IF cur_possible_attr_id IS NULL THEN\n",
    "                                INSERT INTO possible_attr (variant_entry_id, parent_possible_attr_id, span_id)\n",
    "                                VALUES (v_current_ventry_id, v_parent_possible_attr_id, v_new_span_id)\n",
    "                                RETURNING id INTO cur_possible_attr_id;\n",
    "                            END IF;\n",
    "                            INSERT INTO attr_value(entity_state_id, numeric_value, span_id, possible_attr_id)\n",
    "                            VALUES (v_entity_state_id, NULL, v_new_span_id, cur_possible_attr_id);\n",
    "                            v_used_span_id := v_new_span_id;\n",
    "                        ELSE\n",
    "                            SELECT t.chosen_span_id, t.chosen_value\n",
    "                              INTO v_new_span_id, v_new_numeric\n",
    "                              FROM roll_continuous_varattr(\n",
    "                                    v_parent_path || ARRAY[ARRAY[NULL::integer, v_current_ventry_id]],\n",
    "                                    v_entity_state_id, 0) t\n",
    "                             LIMIT 1;\n",
    "                            SELECT id INTO cur_possible_attr_id\n",
    "                              FROM possible_attr\n",
    "                             WHERE variant_entry_id = v_current_ventry_id\n",
    "                               AND ((parent_possible_attr_id IS NULL AND v_parent_possible_attr_id IS NULL)\n",
    "                                    OR parent_possible_attr_id = v_parent_possible_attr_id)\n",
    "                               AND span_id = v_new_span_id\n",
    "                             LIMIT 1;\n",
    "                            IF cur_possible_attr_id IS NULL THEN\n",
    "                                INSERT INTO possible_attr (variant_entry_id, parent_possible_attr_id, span_id)\n",
    "                                VALUES (v_current_ventry_id, v_parent_possible_attr_id, v_new_span_id)\n",
    "                                RETURNING id INTO cur_possible_attr_id;\n",
    "                            END IF;\n",
    "                            INSERT INTO attr_value(entity_state_id, numeric_value, span_id, possible_attr_id)\n",
    "                            VALUES (v_entity_state_id, v_new_numeric, v_new_span_id, cur_possible_attr_id);\n",
    "                            v_used_span_id := v_new_span_id;\n",
    "                        END IF;\n",
    "                    END IF;\n",
    "                ELSE\n",
    "                    IF rec.attr_type = 'discrete' THEN\n",
    "                        v_new_span_id := roll_discrete_varattr(\n",
    "                                    v_parent_path || ARRAY[ARRAY[NULL::integer, v_current_ventry_id]],\n",
    "                                    v_entity_state_id, 0);\n",
    "                        SELECT id INTO cur_possible_attr_id\n",
    "                          FROM possible_attr\n",
    "                         WHERE variant_entry_id = v_current_ventry_id\n",
    "                           AND ((parent_possible_attr_id IS NULL AND v_parent_possible_attr_id IS NULL)\n",
    "                                OR parent_possible_attr_id = v_parent_possible_attr_id)\n",
    "                           AND span_id = v_new_span_id\n",
    "                         LIMIT 1;\n",
    "                        IF cur_possible_attr_id IS NULL THEN\n",
    "                            INSERT INTO possible_attr (variant_entry_id, parent_possible_attr_id, span_id)\n",
    "                            VALUES (v_current_ventry_id, v_parent_possible_attr_id, v_new_span_id)\n",
    "                            RETURNING id INTO cur_possible_attr_id;\n",
    "                        END IF;\n",
    "                        INSERT INTO attr_value(entity_state_id, numeric_value, span_id, possible_attr_id)\n",
    "                        VALUES (v_entity_state_id, NULL, v_new_span_id, cur_possible_attr_id);\n",
    "                        v_used_span_id := v_new_span_id;\n",
    "                    ELSE\n",
    "                        SELECT t.chosen_span_id, t.chosen_value\n",
    "                          INTO v_new_span_id, v_new_numeric\n",
    "                          FROM roll_continuous_varattr(\n",
    "                                    v_parent_path || ARRAY[ARRAY[NULL::integer, v_current_ventry_id]],\n",
    "                                    v_entity_state_id, 0) t\n",
    "                         LIMIT 1;\n",
    "                        SELECT id INTO cur_possible_attr_id\n",
    "                          FROM possible_attr\n",
    "                         WHERE variant_entry_id = v_current_ventry_id\n",
    "                           AND ((parent_possible_attr_id IS NULL AND v_parent_possible_attr_id IS NULL)\n",
    "                                OR parent_possible_attr_id = v_parent_possible_attr_id)\n",
    "                           AND span_id = v_new_span_id\n",
    "                         LIMIT 1;\n",
    "                        IF cur_possible_attr_id IS NULL THEN\n",
    "                            INSERT INTO possible_attr (variant_entry_id, parent_possible_attr_id, span_id)\n",
    "                            VALUES (v_current_ventry_id, v_parent_possible_attr_id, v_new_span_id)\n",
    "                            RETURNING id INTO cur_possible_attr_id;\n",
    "                        END IF;\n",
    "                        INSERT INTO attr_value(entity_state_id, numeric_value, span_id, possible_attr_id)\n",
    "                        VALUES (v_entity_state_id, v_new_numeric, v_new_span_id, cur_possible_attr_id);\n",
    "                        v_used_span_id := v_new_span_id;\n",
    "                    END IF;\n",
    "                END IF;\n",
    "                SELECT id INTO cur_possible_attr_id\n",
    "                  FROM possible_attr\n",
    "                 WHERE variant_entry_id = v_current_ventry_id\n",
    "                   AND ((parent_possible_attr_id IS NULL AND v_parent_possible_attr_id IS NULL)\n",
    "                        OR parent_possible_attr_id = v_parent_possible_attr_id)\n",
    "                   AND span_id = v_used_span_id\n",
    "                 LIMIT 1;\n",
    "                IF cur_possible_attr_id IS NULL THEN\n",
    "                    INSERT INTO possible_attr (variant_entry_id, parent_possible_attr_id, span_id)\n",
    "                    VALUES (v_current_ventry_id, v_parent_possible_attr_id, v_used_span_id)\n",
    "                    RETURNING id INTO cur_possible_attr_id;\n",
    "                END IF;\n",
    "                new_path := v_parent_path || ARRAY[ARRAY[v_used_span_id, v_current_ventry_id]];\n",
    "                SELECT variant_id\n",
    "                  INTO v_sub_variant_id\n",
    "                  FROM subvariant_span\n",
    "                 WHERE span_id = v_used_span_id\n",
    "                 LIMIT 1;\n",
    "                IF v_sub_variant_id IS NOT NULL THEN\n",
    "                    INSERT INTO _variant_queue (variant_id, subvariant_span_id, parent_possible_attr_id, parent_path)\n",
    "                    VALUES (v_sub_variant_id, NULL, cur_possible_attr_id, new_path)\n",
    "                    ON CONFLICT DO NOTHING;\n",
    "                END IF;\n",
    "            END IF;\n",
    "        END LOOP;\n",
    "    END LOOP;\n",
    "\n",
    "    DROP TABLE IF EXISTS _variant_attrs;\n",
    "    DROP TABLE IF EXISTS _variant_queue;\n",
    "END;\n",
    "$$;"
   ]
  },
  {
   "cell_type": "markdown",
   "id": "a4071507",
   "metadata": {},
   "source": [
    "## Get Entity State"
   ]
  },
  {
   "cell_type": "code",
   "execution_count": null,
   "id": "4b2ac892",
   "metadata": {
    "vscode": {
     "languageId": "sql"
    }
   },
   "outputs": [],
   "source": [
    "%%sql\n",
    "\n",
    "CREATE OR REPLACE FUNCTION get_entity_state(\n",
    "    p_entity_name VARCHAR,\n",
    "    p_time        DOUBLE PRECISION\n",
    ")\n",
    "RETURNS TABLE (\n",
    "    \"index\"       BIGINT,\n",
    "    \"address\"     JSON,\n",
    "    activates     JSON,\n",
    "    effected_by   JSON,\n",
    "    numeric_value DOUBLE PRECISION,\n",
    "    span          VARCHAR,\n",
    "    locked        BOOLEAN\n",
    ")\n",
    "LANGUAGE plpgsql\n",
    "AS $$\n",
    "BEGIN\n",
    "  RETURN QUERY\n",
    "  WITH RECURSIVE entity_info AS (\n",
    "      -- Get entity_state and its variant.\n",
    "      SELECT es.id AS entity_state_id,\n",
    "             e.variant_id\n",
    "      FROM entity_state es\n",
    "      JOIN entity e ON e.id = es.entity_id\n",
    "      WHERE e.name = p_entity_name\n",
    "        AND es.\"time\" = p_time\n",
    "  ),\n",
    "  base AS (\n",
    "      -- Top-level possible_attr with d0 always having NULL span in the path.\n",
    "      SELECT \n",
    "         pa.id AS possible_attr_id,\n",
    "         ve.name AS attribute_name,\n",
    "         ve.causation_index,\n",
    "         ARRAY[[NULL::int, ve.id]]::int[][] AS variant_entry_path,\n",
    "         av.id AS attr_val_id,\n",
    "         av.numeric_value,\n",
    "         pa.span_id,\n",
    "         ei.entity_state_id\n",
    "      FROM possible_attr pa\n",
    "      JOIN variant_entry ve ON ve.id = pa.variant_entry_id\n",
    "      JOIN entity_info ei ON ve.variant_id = ei.variant_id\n",
    "      JOIN attr_value av ON av.possible_attr_id = pa.id\n",
    "           AND av.entity_state_id = ei.entity_state_id\n",
    "      WHERE pa.parent_possible_attr_id IS NULL\n",
    "  ),\n",
    "  recursive_flattened AS (\n",
    "      SELECT * FROM base\n",
    "      UNION ALL\n",
    "      SELECT \n",
    "         child.possible_attr_id,\n",
    "         child.attribute_name,\n",
    "         child.causation_index,\n",
    "         rf.variant_entry_path || ARRAY[[child.span_id, child.variant_entry_id]]::int[][] AS variant_entry_path,\n",
    "         child.attr_val_id,\n",
    "         child.numeric_value,\n",
    "         child.span_id,\n",
    "         child.entity_state_id\n",
    "      FROM (\n",
    "          SELECT \n",
    "             pa.id AS possible_attr_id,\n",
    "             ve.name AS attribute_name,\n",
    "             ve.causation_index,\n",
    "             pa.parent_possible_attr_id,\n",
    "             av.id AS attr_val_id,\n",
    "             av.numeric_value,\n",
    "             pa.span_id,\n",
    "             ve.id AS variant_entry_id,\n",
    "             ei.entity_state_id\n",
    "          FROM possible_attr pa\n",
    "          JOIN variant_entry ve ON ve.id = pa.variant_entry_id\n",
    "          JOIN attr_value av ON av.possible_attr_id = pa.id\n",
    "               AND av.entity_state_id = (SELECT entity_state_id FROM entity_info)\n",
    "          JOIN entity_info ei ON TRUE\n",
    "          WHERE pa.parent_possible_attr_id IS NOT NULL\n",
    "      ) child\n",
    "      JOIN recursive_flattened rf ON child.parent_possible_attr_id = rf.possible_attr_id\n",
    "  ),\n",
    "  ordered AS (\n",
    "      SELECT \n",
    "         row_number() OVER (ORDER BY rf.variant_entry_path) AS overall_index,\n",
    "         rf.variant_entry_path,\n",
    "         rf.possible_attr_id AS resolved_id,\n",
    "         rf.attr_val_id,\n",
    "         rf.numeric_value,\n",
    "         rf.span_id,\n",
    "         rf.entity_state_id\n",
    "      FROM recursive_flattened rf\n",
    "  ),\n",
    "  ordered_with_prior AS (\n",
    "      SELECT o.*,\n",
    "             (SELECT array_agg(o2.resolved_id ORDER BY o2.overall_index)\n",
    "              FROM ordered o2\n",
    "              WHERE o2.overall_index < o.overall_index) AS prior_ids\n",
    "      FROM ordered o\n",
    "  )\n",
    "  SELECT \n",
    "      o.overall_index AS \"index\",\n",
    "      (\n",
    "         -- Build address as a JSON array. Each element is either:\n",
    "         -- a JSON string (if span is NULL) or a JSON array [variant_entry_name, span_label].\n",
    "         SELECT json_agg(\n",
    "           CASE\n",
    "             WHEN (ve_tuple)[1] IS NULL THEN to_json(ve.name)\n",
    "             ELSE json_build_array(ve.name, s.label)\n",
    "           END\n",
    "           ORDER BY i\n",
    "         )\n",
    "         FROM generate_subscripts(o.variant_entry_path, 1) AS i\n",
    "         CROSS JOIN LATERAL (\n",
    "             SELECT array_agg(x ORDER BY ord) AS ve_tuple\n",
    "             FROM unnest(o.variant_entry_path[i:i]) WITH ORDINALITY AS t(x, ord)\n",
    "         ) t\n",
    "         JOIN variant_entry ve ON ve.id = (ve_tuple)[2]\n",
    "         LEFT JOIN span s ON s.id = (ve_tuple)[1]\n",
    "      ) AS address,\n",
    "      eff.activates,\n",
    "      eff.effected_by,\n",
    "      o.numeric_value,\n",
    "      (\n",
    "         SELECT s2.label\n",
    "         FROM span s2\n",
    "         WHERE s2.id = o.span_id\n",
    "      ) AS span,\n",
    "      EXISTS (\n",
    "         SELECT 1 FROM attr_val_lock l\n",
    "         WHERE l.locked_attr_val_id = o.attr_val_id\n",
    "      ) AS locked\n",
    "  FROM ordered_with_prior o\n",
    "  CROSS JOIN LATERAL (\n",
    "      SELECT \n",
    "         COALESCE(\n",
    "           json_agg(f.name ORDER BY f.name) FILTER (\n",
    "             WHERE e.relationship = 'activates'\n",
    "               AND f.span_id = o.span_id\n",
    "               AND o.resolved_id = f.activating_possible_attr_id\n",
    "               AND EXISTS (\n",
    "                   SELECT 1 FROM attr_value av\n",
    "                   WHERE av.possible_attr_id = f.activating_possible_attr_id\n",
    "                     AND av.entity_state_id = o.entity_state_id\n",
    "                     AND av.span_id = f.span_id\n",
    "               )\n",
    "           ), '[]'::json\n",
    "         ) AS activates,\n",
    "         COALESCE(\n",
    "           json_agg(f.name ORDER BY f.name) FILTER (\n",
    "             WHERE e.relationship = 'effected_by'\n",
    "               AND f.span_id = o.span_id\n",
    "               AND o.resolved_id = f.to_modify_possible_attr_id\n",
    "               AND f.activating_possible_attr_id = ANY(o.prior_ids)\n",
    "               AND EXISTS (\n",
    "                   SELECT 1 FROM attr_value av\n",
    "                   WHERE av.possible_attr_id = f.activating_possible_attr_id\n",
    "                     AND av.entity_state_id = o.entity_state_id\n",
    "                     AND av.span_id = f.span_id\n",
    "               )\n",
    "           ), '[]'::json\n",
    "         ) AS effected_by\n",
    "      FROM get_effects_from_resolved_path(o.variant_entry_path) e\n",
    "      JOIN effect f ON f.id = e.id\n",
    "  ) eff\n",
    "  ORDER BY o.overall_index;\n",
    "END;\n",
    "$$;"
   ]
  },
  {
   "cell_type": "markdown",
   "id": "97932825",
   "metadata": {},
   "source": [
    "## Generate Entity Group"
   ]
  },
  {
   "cell_type": "code",
   "execution_count": null,
   "id": "c0f3a6af",
   "metadata": {
    "vscode": {
     "languageId": "sql"
    }
   },
   "outputs": [],
   "source": [
    "%%sql\n",
    "\n",
    "CREATE OR REPLACE PROCEDURE generate_entity_group(\n",
    "    p_variant_name         VARCHAR,\n",
    "    p_group_name           VARCHAR,\n",
    "    p_entity_name_template VARCHAR,\n",
    "    p_num_entities         INTEGER\n",
    ")\n",
    "LANGUAGE plpgsql\n",
    "AS $$\n",
    "DECLARE\n",
    "    v_variant_id       INTEGER;\n",
    "    v_entity_group_id  INTEGER;\n",
    "    v_entity_id        INTEGER;\n",
    "    v_idx              INTEGER;\n",
    "    v_entity_name      VARCHAR(255);\n",
    "BEGIN\n",
    "    -- Look up the variant id using the variant name.\n",
    "    SELECT id\n",
    "      INTO v_variant_id\n",
    "      FROM variant\n",
    "     WHERE name = p_variant_name;\n",
    "    IF v_variant_id IS NULL THEN\n",
    "        RAISE EXCEPTION 'No variant found with name=%', p_variant_name;\n",
    "    END IF;\n",
    "\n",
    "    -- Create a new entity group.\n",
    "    INSERT INTO entity_group (name)\n",
    "    VALUES (p_group_name)\n",
    "    RETURNING id INTO v_entity_group_id;\n",
    "\n",
    "    FOR v_idx IN 1..p_num_entities LOOP\n",
    "        v_entity_name := format(p_entity_name_template, v_idx);\n",
    "\n",
    "        -- Create a new entity using the looked-up variant id.\n",
    "        INSERT INTO entity (variant_id, name)\n",
    "        VALUES (v_variant_id, v_entity_name)\n",
    "        RETURNING id INTO v_entity_id;\n",
    "\n",
    "        INSERT INTO entity_group_link (entity_id, entity_group_id)\n",
    "        VALUES (v_entity_id, v_entity_group_id);\n",
    "\n",
    "        -- Call generate_entity_state using the new entity name and time (0 in this example).\n",
    "        CALL generate_entity_state(v_entity_name, 0);\n",
    "    END LOOP;\n",
    "END;\n",
    "$$;"
   ]
  },
  {
   "cell_type": "markdown",
   "id": "eb0df3f5",
   "metadata": {
    "vscode": {
     "languageId": "sql"
    }
   },
   "source": [
    "## Delete Entity Group"
   ]
  },
  {
   "cell_type": "code",
   "execution_count": null,
   "id": "5755a2ef",
   "metadata": {
    "vscode": {
     "languageId": "sql"
    }
   },
   "outputs": [],
   "source": [
    "%%sql\n",
    "\n",
    "CREATE OR REPLACE PROCEDURE delete_entity_group(\n",
    "    p_group_name      VARCHAR,\n",
    "    p_delete_entities BOOLEAN DEFAULT false\n",
    ")\n",
    "LANGUAGE plpgsql\n",
    "AS $$\n",
    "DECLARE\n",
    "    v_entity_group_id INTEGER;\n",
    "BEGIN\n",
    "    -- Retrieve the entity group id based on the given name.\n",
    "    SELECT id INTO v_entity_group_id\n",
    "    FROM entity_group\n",
    "    WHERE name = p_group_name;\n",
    "\n",
    "    IF NOT FOUND THEN\n",
    "        RAISE NOTICE 'Entity group \"%\" not found.', p_group_name;\n",
    "        RETURN;\n",
    "    END IF;\n",
    "\n",
    "    -- If the flag is true, delete all entities that are linked to this group.\n",
    "    IF p_delete_entities THEN\n",
    "        DELETE FROM entity\n",
    "        WHERE id IN (\n",
    "            SELECT entity_id\n",
    "            FROM entity_group_link\n",
    "            WHERE entity_group_id = v_entity_group_id\n",
    "        );\n",
    "    END IF;\n",
    "\n",
    "    -- Delete the entity group. The ON DELETE CASCADE on the foreign key\n",
    "    -- in entity_group_link will automatically remove any associated links.\n",
    "    DELETE FROM entity_group\n",
    "    WHERE id = v_entity_group_id;\n",
    "\n",
    "    RAISE NOTICE 'Entity group \"%\" deleted successfully.', p_group_name;\n",
    "END;\n",
    "$$;\n"
   ]
  },
  {
   "cell_type": "markdown",
   "id": "72f064af",
   "metadata": {},
   "source": [
    "## Get Entity Group at Time"
   ]
  },
  {
   "cell_type": "code",
   "execution_count": null,
   "id": "1b354858",
   "metadata": {
    "vscode": {
     "languageId": "sql"
    }
   },
   "outputs": [],
   "source": [
    "%%sql\n",
    "\n",
    "CREATE OR REPLACE FUNCTION get_entity_group_at_time(\n",
    "    p_group_name VARCHAR,\n",
    "    p_time       DOUBLE PRECISION\n",
    ")\n",
    "RETURNS TABLE (\n",
    "    entity_name      VARCHAR,\n",
    "    entity_state_id  INTEGER,\n",
    "    address          VARCHAR,\n",
    "    numeric_value    DOUBLE PRECISION,\n",
    "    span             VARCHAR,\n",
    "    activates        VARCHAR,\n",
    "    effected_by      VARCHAR,\n",
    "    locked           BOOLEAN\n",
    ")\n",
    "LANGUAGE sql\n",
    "AS $$\n",
    "WITH eg AS (\n",
    "    -- Find the entity group by its unique name.\n",
    "    SELECT id\n",
    "    FROM entity_group\n",
    "    WHERE name = p_group_name\n",
    "),\n",
    "ent AS (\n",
    "    -- Get all entities in the group.\n",
    "    SELECT e.id, e.name\n",
    "    FROM entity e\n",
    "    JOIN entity_group_link egl ON e.id = egl.entity_id\n",
    "    WHERE egl.entity_group_id = (SELECT id FROM eg)\n",
    "),\n",
    "est AS (\n",
    "    -- For each entity, get its entity_state at the given time.\n",
    "    SELECT e.id AS entity_id, e.name AS entity_name, es.id AS entity_state_id\n",
    "    FROM ent e\n",
    "    JOIN entity_state es ON es.entity_id = e.id\n",
    "    WHERE es.\"time\" = p_time\n",
    ")\n",
    "-- For each entity state, call get_entity_state and return one row per state detail.\n",
    "SELECT\n",
    "    est.entity_name,\n",
    "    est.entity_state_id,\n",
    "    vs.address,\n",
    "    vs.numeric_value,\n",
    "    vs.span,\n",
    "    vs.activates,\n",
    "    vs.effected_by,\n",
    "    vs.locked\n",
    "FROM est\n",
    "CROSS JOIN LATERAL (\n",
    "    SELECT *\n",
    "    FROM get_entity_state(est.entity_name, p_time)\n",
    ") AS vs;\n",
    "$$;"
   ]
  },
  {
   "cell_type": "markdown",
   "id": "2f66cf52",
   "metadata": {},
   "source": [
    "## Resolve Possible Attribute Path"
   ]
  },
  {
   "cell_type": "code",
   "execution_count": null,
   "id": "3746e2e7",
   "metadata": {
    "vscode": {
     "languageId": "sql"
    }
   },
   "outputs": [],
   "source": [
    "%%sql\n",
    "\n",
    "CREATE OR REPLACE FUNCTION resolve_possible_attr_path(\n",
    "  p_variant_id INT,\n",
    "  p_path JSON\n",
    ") RETURNS INT\n",
    "LANGUAGE plpgsql\n",
    "AS $$\n",
    "DECLARE\n",
    "  v_chain_length        INT := json_array_length(p_path);\n",
    "  v_possible_attr_id    INT;\n",
    "  v_parent_possible_attr INT;\n",
    "  v_variant_entry_id    INT;\n",
    "  v_sub_variant         INT;\n",
    "  v_i                   INT;\n",
    "  v_step                JSON;\n",
    "  v_name                TEXT;\n",
    "  v_span_label          TEXT;\n",
    "  v_found_span_id       INT;\n",
    "BEGIN\n",
    "  IF v_chain_length = 0 THEN\n",
    "    RAISE EXCEPTION 'Variant path is empty';\n",
    "  END IF;\n",
    "\n",
    "  -- Process root element (d0); ignore any span label.\n",
    "  v_step := p_path->0;\n",
    "  IF json_typeof(v_step) = 'string' THEN\n",
    "    v_name := v_step #>> '{}';\n",
    "  ELSE\n",
    "    v_name := v_step->>0;\n",
    "  END IF;\n",
    "  SELECT id\n",
    "    INTO v_variant_entry_id\n",
    "    FROM variant_entry\n",
    "   WHERE variant_id = p_variant_id\n",
    "     AND name = v_name\n",
    "   ORDER BY id\n",
    "   LIMIT 1;\n",
    "  IF v_variant_entry_id IS NULL THEN\n",
    "    RAISE EXCEPTION 'Variant entry \"%\" not found in variant %', v_name, p_variant_id;\n",
    "  END IF;\n",
    "  SELECT id\n",
    "    INTO v_possible_attr_id\n",
    "    FROM possible_attr\n",
    "   WHERE variant_entry_id = v_variant_entry_id\n",
    "     AND parent_possible_attr_id IS NULL\n",
    "     AND span_id IS NULL\n",
    "   LIMIT 1;\n",
    "  IF v_possible_attr_id IS NULL THEN\n",
    "    INSERT INTO possible_attr (variant_entry_id, parent_possible_attr_id, span_id)\n",
    "    VALUES (v_variant_entry_id, NULL, NULL)\n",
    "    RETURNING id INTO v_possible_attr_id;\n",
    "  END IF;\n",
    "  v_parent_possible_attr := v_possible_attr_id;\n",
    "\n",
    "  -- Process each subsequent element.\n",
    "  FOR v_i IN 1..v_chain_length - 1 LOOP\n",
    "    v_step := p_path->v_i;\n",
    "    IF json_typeof(v_step) = 'string' THEN\n",
    "      v_name := v_step #>> '{}';\n",
    "      v_span_label := NULL;\n",
    "    ELSE\n",
    "      v_name := v_step->>0;\n",
    "      v_span_label := v_step->>1;\n",
    "    END IF;\n",
    "    IF v_i < v_chain_length - 1 THEN\n",
    "      -- Intermediate step: lookup via variant_ref; span_id must be null.\n",
    "      SELECT vr.variant_entry_id, ve.variant_id\n",
    "        INTO v_variant_entry_id, v_sub_variant\n",
    "        FROM variant_ref vr\n",
    "        JOIN variant_entry ve ON ve.id = vr.variant_entry_id\n",
    "       WHERE vr.variant_id = p_variant_id\n",
    "         AND ve.name = v_name\n",
    "       ORDER BY vr.id\n",
    "       LIMIT 1;\n",
    "      IF v_variant_entry_id IS NULL THEN\n",
    "        RAISE EXCEPTION 'Variant entry \"%\" not found as subvariant in variant % at path index %', v_name, p_variant_id, v_i;\n",
    "      END IF;\n",
    "      SELECT id\n",
    "        INTO v_possible_attr_id\n",
    "        FROM possible_attr\n",
    "       WHERE variant_entry_id = v_variant_entry_id\n",
    "         AND parent_possible_attr_id = v_parent_possible_attr\n",
    "         AND span_id IS NULL\n",
    "       LIMIT 1;\n",
    "      IF v_possible_attr_id IS NULL THEN\n",
    "        INSERT INTO possible_attr (variant_entry_id, parent_possible_attr_id, span_id)\n",
    "        VALUES (v_variant_entry_id, v_parent_possible_attr, NULL)\n",
    "        RETURNING id INTO v_possible_attr_id;\n",
    "      END IF;\n",
    "      v_parent_possible_attr := v_possible_attr_id;\n",
    "      p_variant_id := v_sub_variant;\n",
    "    ELSE\n",
    "      -- Final step: lookup via attribute_ref.\n",
    "      SELECT ar.variant_entry_id, ve.variant_id\n",
    "        INTO v_variant_entry_id, v_sub_variant\n",
    "        FROM attribute_ref ar\n",
    "        JOIN variant_entry ve ON ve.id = ar.variant_entry_id\n",
    "       WHERE ve.variant_id = p_variant_id\n",
    "         AND ve.name = v_name\n",
    "       ORDER BY ar.id\n",
    "       LIMIT 1;\n",
    "      IF v_variant_entry_id IS NULL THEN\n",
    "        RAISE EXCEPTION 'Final variant entry \"%\" not found as attribute in variant % at path index %', v_name, p_variant_id, v_i;\n",
    "      END IF;\n",
    "      -- For the final link, use the span label from the previous element.\n",
    "      v_step := p_path->(v_i - 1);\n",
    "      IF json_typeof(v_step) = 'string' THEN\n",
    "        v_span_label := NULL;\n",
    "      ELSE\n",
    "        v_span_label := v_step->>1;\n",
    "      END IF;\n",
    "      IF v_span_label IS NULL OR v_span_label = '' THEN\n",
    "        RAISE EXCEPTION 'Missing span label for final attribute at path index %', v_i;\n",
    "      END IF;\n",
    "      SELECT s.id\n",
    "        INTO v_found_span_id\n",
    "        FROM span s\n",
    "       WHERE s.label = v_span_label\n",
    "         AND s.attribute_id = (\n",
    "           SELECT attribute_id\n",
    "             FROM attribute_ref\n",
    "            WHERE variant_entry_id = v_variant_entry_id\n",
    "            LIMIT 1\n",
    "         )\n",
    "       ORDER BY s.id\n",
    "       LIMIT 1;\n",
    "      IF v_found_span_id IS NULL THEN\n",
    "        RAISE EXCEPTION 'Span label \"%\" not associated with attribute for variant entry \"%\"', v_span_label, v_variant_entry_id;\n",
    "      END IF;\n",
    "      SELECT id\n",
    "        INTO v_possible_attr_id\n",
    "        FROM possible_attr\n",
    "       WHERE variant_entry_id = v_variant_entry_id\n",
    "         AND parent_possible_attr_id = v_parent_possible_attr\n",
    "         AND span_id = v_found_span_id\n",
    "       LIMIT 1;\n",
    "      IF v_possible_attr_id IS NULL THEN\n",
    "        INSERT INTO possible_attr (variant_entry_id, parent_possible_attr_id, span_id)\n",
    "        VALUES (v_variant_entry_id, v_parent_possible_attr, v_found_span_id)\n",
    "        RETURNING id INTO v_possible_attr_id;\n",
    "      END IF;\n",
    "      v_parent_possible_attr := v_possible_attr_id;\n",
    "    END IF;\n",
    "  END LOOP;\n",
    "  RETURN v_possible_attr_id;\n",
    "END;\n",
    "$$;"
   ]
  },
  {
   "cell_type": "markdown",
   "id": "9016bee3",
   "metadata": {},
   "source": [
    "## Get Possible Attribute Chain"
   ]
  },
  {
   "cell_type": "code",
   "execution_count": null,
   "id": "f68ec9ac",
   "metadata": {
    "vscode": {
     "languageId": "sql"
    }
   },
   "outputs": [],
   "source": [
    "%%sql\n",
    "\n",
    "CREATE OR REPLACE FUNCTION get_possible_attr_chain(\n",
    "    p_possible_attr_id INT\n",
    ") RETURNS TABLE(level INT, variant_entry_id INT, causation_index INT)\n",
    "LANGUAGE plpgsql\n",
    "AS $$\n",
    "BEGIN\n",
    "  RETURN QUERY WITH RECURSIVE chain(lev, pa_id, ventry_id, ci, parent) AS (\n",
    "    -- start at the leaf: level 1\n",
    "    SELECT 1,\n",
    "           v.id,\n",
    "           v.variant_entry_id,\n",
    "           ve.causation_index,\n",
    "           v.parent_possible_attr_id\n",
    "      FROM possible_attr v\n",
    "      JOIN variant_entry ve ON ve.id = v.variant_entry_id\n",
    "     WHERE v.id = p_possible_attr_id\n",
    "    UNION ALL\n",
    "    -- walk upward\n",
    "    SELECT c.lev + 1,\n",
    "           v.id,\n",
    "           v.variant_entry_id,\n",
    "           ve.causation_index,\n",
    "           v.parent_possible_attr_id\n",
    "      FROM possible_attr v\n",
    "      JOIN variant_entry ve ON ve.id = v.variant_entry_id\n",
    "      JOIN chain c ON v.id = c.parent\n",
    "  )\n",
    "  SELECT row_number() OVER (ORDER BY lev DESC) AS level,\n",
    "         ventry_id AS variant_entry_id,\n",
    "         ci AS causation_index\n",
    "    FROM chain\n",
    "   ORDER BY level;\n",
    "END;\n",
    "$$;"
   ]
  },
  {
   "cell_type": "markdown",
   "id": "f825047e",
   "metadata": {},
   "source": [
    "## Compare Possible Attribute Order"
   ]
  },
  {
   "cell_type": "code",
   "execution_count": null,
   "id": "46ecb07c",
   "metadata": {
    "vscode": {
     "languageId": "sql"
    }
   },
   "outputs": [],
   "source": [
    "%%sql\n",
    "\n",
    "CREATE OR REPLACE FUNCTION compare_possible_attr_order(\n",
    "    p_a INT,\n",
    "    p_b INT\n",
    ") RETURNS INT\n",
    "LANGUAGE plpgsql\n",
    "AS $$\n",
    "DECLARE\n",
    "    rec RECORD;\n",
    "BEGIN\n",
    "    FOR rec IN\n",
    "        SELECT COALESCE(a.level, b.level) AS level,\n",
    "               a.causation_index AS a_ci,\n",
    "               b.causation_index AS b_ci\n",
    "          FROM get_possible_attr_chain(p_a) a\n",
    "          FULL OUTER JOIN get_possible_attr_chain(p_b) b USING (level)\n",
    "         ORDER BY level\n",
    "    LOOP\n",
    "        -- If one chain is shorter, treat the missing value as \"less\".\n",
    "        IF rec.a_ci IS NULL AND rec.b_ci IS NOT NULL THEN\n",
    "            RETURN -1;\n",
    "        ELSIF rec.b_ci IS NULL AND rec.a_ci IS NOT NULL THEN\n",
    "            RETURN 1;\n",
    "        ELSIF rec.a_ci < rec.b_ci THEN\n",
    "            RETURN -1;\n",
    "        ELSIF rec.a_ci > rec.b_ci THEN\n",
    "            RETURN 1;\n",
    "        END IF;\n",
    "        -- Otherwise they are equal at this level; continue.\n",
    "    END LOOP;\n",
    "    RETURN 0;\n",
    "END;\n",
    "$$;"
   ]
  },
  {
   "cell_type": "markdown",
   "id": "c626b942",
   "metadata": {},
   "source": [
    "## Get Variant ID"
   ]
  },
  {
   "cell_type": "code",
   "execution_count": null,
   "id": "5d99f9ce",
   "metadata": {
    "vscode": {
     "languageId": "sql"
    }
   },
   "outputs": [],
   "source": [
    "%%sql\n",
    "\n",
    "CREATE OR REPLACE FUNCTION get_variant_id(\n",
    "    p_variant_name VARCHAR\n",
    ") RETURNS INTEGER\n",
    "LANGUAGE plpgsql\n",
    "AS $$\n",
    "DECLARE\n",
    "    variant_id INTEGER;\n",
    "BEGIN\n",
    "    SELECT id\n",
    "      INTO variant_id\n",
    "      FROM variant\n",
    "     WHERE name = p_variant_name;\n",
    "     \n",
    "    IF NOT FOUND THEN\n",
    "        RAISE EXCEPTION 'Variant \"%\" not found', variant_id;\n",
    "    END IF;\n",
    "    \n",
    "    RETURN variant_id;\n",
    "END;\n",
    "$$;"
   ]
  },
  {
   "cell_type": "markdown",
   "id": "b1d26c99",
   "metadata": {},
   "source": [
    "## Get Attribute ID"
   ]
  },
  {
   "cell_type": "code",
   "execution_count": null,
   "id": "73c4e249",
   "metadata": {
    "vscode": {
     "languageId": "sql"
    }
   },
   "outputs": [],
   "source": [
    "%%sql\n",
    "\n",
    "CREATE OR REPLACE FUNCTION get_attribute_id(\n",
    "    p_attribute_name VARCHAR\n",
    ") RETURNS INTEGER\n",
    "LANGUAGE plpgsql\n",
    "AS $$\n",
    "DECLARE\n",
    "    attribute_id INTEGER;\n",
    "BEGIN\n",
    "    SELECT id\n",
    "      INTO attribute_id\n",
    "      FROM attribute\n",
    "     WHERE name = p_attribute_name;\n",
    "     \n",
    "    IF NOT FOUND THEN\n",
    "        RAISE EXCEPTION 'Attribute \"%\" not found', p_attribute_name;\n",
    "    END IF;\n",
    "    \n",
    "    RETURN attribute_id;\n",
    "END;\n",
    "$$;"
   ]
  },
  {
   "cell_type": "markdown",
   "id": "a5368893",
   "metadata": {},
   "source": [
    "## Get Span ID"
   ]
  },
  {
   "cell_type": "code",
   "execution_count": null,
   "id": "32ffb87d",
   "metadata": {
    "vscode": {
     "languageId": "sql"
    }
   },
   "outputs": [],
   "source": [
    "%%sql\n",
    "\n",
    "CREATE OR REPLACE FUNCTION get_span_id(\n",
    "    p_attribute_name VARCHAR,\n",
    "    p_span_type      attr_type,\n",
    "    p_span_label     VARCHAR\n",
    ") RETURNS INTEGER\n",
    "LANGUAGE plpgsql\n",
    "AS $$\n",
    "DECLARE\n",
    "    span_id INTEGER;\n",
    "BEGIN\n",
    "    SELECT s.id\n",
    "      INTO span_id\n",
    "      FROM span s\n",
    "      JOIN attribute a ON a.id = s.attribute_id\n",
    "     WHERE s.label = p_span_label\n",
    "       AND a.name = p_attribute_name\n",
    "       AND s.type = p_span_type;\n",
    "\n",
    "    IF NOT FOUND THEN\n",
    "        RAISE EXCEPTION 'Span on attribute \"%\" of type \"%\" and label \"%\" not found', p_attribute_name, p_span_type, p_span_label;\n",
    "    END IF;\n",
    "\n",
    "    RETURN span_id;\n",
    "END;\n",
    "$$;"
   ]
  },
  {
   "cell_type": "markdown",
   "id": "711fc67e",
   "metadata": {},
   "source": [
    "## Get Effect ID"
   ]
  },
  {
   "cell_type": "code",
   "execution_count": null,
   "id": "788c60d8",
   "metadata": {
    "vscode": {
     "languageId": "sql"
    }
   },
   "outputs": [],
   "source": [
    "%%sql\n",
    "\n",
    "CREATE OR REPLACE FUNCTION get_effect_id(\n",
    "    p_variant_name   VARCHAR,\n",
    "    p_effect_name    VARCHAR\n",
    ") RETURNS INTEGER\n",
    "LANGUAGE plpgsql\n",
    "AS $$\n",
    "DECLARE\n",
    "    effect_id INTEGER;\n",
    "BEGIN\n",
    "    SELECT e.id\n",
    "      INTO effect_id\n",
    "      FROM effect e\n",
    "      JOIN variant vt ON vt.id = e.variant_id\n",
    "     WHERE vt.name = p_variant_name\n",
    "       AND e.name = p_effect_name;\n",
    "\n",
    "    IF NOT FOUND THEN\n",
    "        RAISE EXCEPTION 'effect \"%\" in variant \"%\" not found', p_effect_name, p_variant_name;\n",
    "    END IF;\n",
    "\n",
    "    RETURN effect_id;\n",
    "END;\n",
    "$$;"
   ]
  },
  {
   "cell_type": "markdown",
   "id": "dac0d2aa",
   "metadata": {},
   "source": [
    "## Add Continuous Effect"
   ]
  },
  {
   "cell_type": "code",
   "execution_count": null,
   "id": "44d7fc64",
   "metadata": {
    "vscode": {
     "languageId": "sql"
    }
   },
   "outputs": [],
   "source": [
    "%%sql\n",
    "\n",
    "CREATE OR REPLACE PROCEDURE add_continuous_effect(\n",
    "    p_effect_name              VARCHAR,\n",
    "    p_variant_name             VARCHAR,\n",
    "    p_activating_span_path     JSON,  -- now a JSON array (e.g. [ [variant, span_label], ... ])\n",
    "    p_target_variant_attr_path JSON,  -- same format\n",
    "    p_delta_mode               DOUBLE PRECISION,\n",
    "    p_delta_conc               DOUBLE PRECISION,\n",
    "    p_delta_skew               DOUBLE PRECISION\n",
    ")\n",
    "LANGUAGE plpgsql\n",
    "AS $$\n",
    "DECLARE\n",
    "    v_variant_id                  INT;\n",
    "    v_activating_possible_attr_id INT;\n",
    "    v_to_modify_possible_attr_id  INT;\n",
    "    v_to_modify_attr_type         attr_type;\n",
    "    v_triggering_span_id          INT;\n",
    "    v_effect_id                   INT;\n",
    "    v_triggering_span_label       VARCHAR;\n",
    "    v_chain_length                INT;\n",
    "BEGIN\n",
    "    -- Extract triggering span label from the last element of the activating path.\n",
    "    v_chain_length := json_array_length(p_activating_span_path);\n",
    "    IF v_chain_length = 0 THEN\n",
    "         RAISE EXCEPTION 'Activating span is empty';\n",
    "    END IF;\n",
    "    v_triggering_span_label := (p_activating_span_path->(v_chain_length - 1))->>1;\n",
    "\n",
    "    v_variant_id := get_variant_id(p_variant_name);\n",
    "    v_activating_possible_attr_id := resolve_possible_attr_path(v_variant_id, p_activating_span_path);\n",
    "    v_to_modify_possible_attr_id  := resolve_possible_attr_path(v_variant_id, p_target_variant_attr_path);\n",
    "\n",
    "    -- Ensure the attribute is continuous.\n",
    "    SELECT a.type\n",
    "      INTO v_to_modify_attr_type\n",
    "      FROM possible_attr pa\n",
    "      JOIN attribute_ref ar ON ar.variant_entry_id = pa.variant_entry_id\n",
    "      JOIN attribute a ON a.id = ar.attribute_id\n",
    "     WHERE pa.id = v_to_modify_possible_attr_id\n",
    "     LIMIT 1;\n",
    "    IF v_to_modify_attr_type <> 'continuous' THEN\n",
    "         RAISE EXCEPTION 'The attribute associated with to_modify_possible_attr_id (%) is %, but expected continuous',\n",
    "                         v_to_modify_possible_attr_id, v_to_modify_attr_type;\n",
    "    END IF;\n",
    "\n",
    "    -- Resolve the triggering span ID.\n",
    "    SELECT s.id\n",
    "      INTO v_triggering_span_id\n",
    "      FROM span s\n",
    "      WHERE s.label = v_triggering_span_label\n",
    "        AND s.attribute_id = (\n",
    "              SELECT ar.attribute_id\n",
    "                FROM possible_attr pa\n",
    "                JOIN attribute_ref ar ON ar.variant_entry_id = pa.variant_entry_id\n",
    "               WHERE pa.id = v_activating_possible_attr_id\n",
    "              LIMIT 1\n",
    "          )\n",
    "      LIMIT 1;\n",
    "    IF NOT FOUND THEN\n",
    "       RAISE EXCEPTION 'Triggering span with label \"%\" not found for the activating branch', v_triggering_span_label;\n",
    "    END IF;\n",
    "\n",
    "    -- Insert the effect record.\n",
    "    INSERT INTO effect(\n",
    "        name, \n",
    "        variant_id, \n",
    "        span_id, \n",
    "        to_modify_possible_attr_id, \n",
    "        activating_possible_attr_id\n",
    "    )\n",
    "    VALUES (\n",
    "        p_effect_name,\n",
    "        v_variant_id,\n",
    "        v_triggering_span_id,\n",
    "        v_to_modify_possible_attr_id,\n",
    "        v_activating_possible_attr_id\n",
    "    )\n",
    "    RETURNING id INTO v_effect_id;\n",
    "\n",
    "    -- Insert continuous effect details.\n",
    "    INSERT INTO delta_param_eft(effect_id, delta_mode, delta_conc, delta_skew)\n",
    "    VALUES (v_effect_id, p_delta_mode, p_delta_conc, p_delta_skew);\n",
    "END;\n",
    "$$;"
   ]
  },
  {
   "cell_type": "markdown",
   "id": "e0d152c5",
   "metadata": {},
   "source": [
    "## Add Discrete Effect"
   ]
  },
  {
   "cell_type": "code",
   "execution_count": null,
   "id": "4a53b3f6",
   "metadata": {
    "vscode": {
     "languageId": "sql"
    }
   },
   "outputs": [],
   "source": [
    "%%sql\n",
    "\n",
    "CREATE OR REPLACE PROCEDURE add_discrete_effect(\n",
    "    p_effect_name              VARCHAR,\n",
    "    p_variant_name             VARCHAR,\n",
    "    p_activating_span_path     JSON,  -- now a JSON array (e.g. [ [variant, span_label], ... ])\n",
    "    p_target_variant_attr_path JSON,  -- same format\n",
    "    p_changes                  JSON,  -- Expecting an array of tuples: [[label, weight], ...]\n",
    "    p_remove_unmentioned       BOOLEAN DEFAULT FALSE\n",
    ")\n",
    "LANGUAGE plpgsql\n",
    "AS $$\n",
    "DECLARE\n",
    "    v_variant_id                  INT;\n",
    "    v_activating_possible_attr_id INT;\n",
    "    v_to_modify_possible_attr_id  INT;\n",
    "    v_triggering_span_id          INT;\n",
    "    v_effect_id                   INT;\n",
    "    v_attribute_id                INT;\n",
    "    v_attribute_name              VARCHAR;\n",
    "    v_to_modify_attr_type         attr_type;\n",
    "    v_span_id                     INT;\n",
    "    rec_json                      JSON;\n",
    "    rec_record                    RECORD;\n",
    "    v_label                       TEXT;\n",
    "    v_weight                      DOUBLE PRECISION;\n",
    "    v_processed_labels            TEXT[] := '{}';\n",
    "    v_triggering_span_label       VARCHAR;\n",
    "    v_chain_length                INT;\n",
    "BEGIN\n",
    "    -- Extract triggering span label from the last element of the activating path.\n",
    "    v_chain_length := json_array_length(p_activating_span_path);\n",
    "    IF v_chain_length = 0 THEN\n",
    "         RAISE EXCEPTION 'Activating span path is empty';\n",
    "    END IF;\n",
    "    v_triggering_span_label := (p_activating_span_path->(v_chain_length - 1))->>1;\n",
    "\n",
    "    v_variant_id := get_variant_id(p_variant_name);\n",
    "    v_activating_possible_attr_id := resolve_possible_attr_path(v_variant_id, p_activating_span_path);\n",
    "    v_to_modify_possible_attr_id  := resolve_possible_attr_path(v_variant_id, p_target_variant_attr_path);\n",
    "\n",
    "    -- Resolve the triggering span ID.\n",
    "    SELECT s.id \n",
    "      INTO v_triggering_span_id\n",
    "      FROM span s\n",
    "      WHERE s.label = v_triggering_span_label\n",
    "        AND s.attribute_id = (\n",
    "              SELECT ar.attribute_id\n",
    "                FROM possible_attr pa\n",
    "                JOIN attribute_ref ar ON ar.variant_entry_id = pa.variant_entry_id\n",
    "               WHERE pa.id = v_activating_possible_attr_id\n",
    "              LIMIT 1\n",
    "          )\n",
    "      LIMIT 1;\n",
    "    IF NOT FOUND THEN\n",
    "       RAISE EXCEPTION 'Triggering span with label \"%\" not found for the activating branch', v_triggering_span_label;\n",
    "    END IF;\n",
    "\n",
    "    -- Insert the effect record.\n",
    "    INSERT INTO effect(\n",
    "        name, \n",
    "        variant_id, \n",
    "        span_id, \n",
    "        to_modify_possible_attr_id, \n",
    "        activating_possible_attr_id\n",
    "    )\n",
    "    VALUES (\n",
    "        p_effect_name,\n",
    "        v_variant_id,\n",
    "        v_triggering_span_id,\n",
    "        v_to_modify_possible_attr_id,\n",
    "        v_activating_possible_attr_id\n",
    "    )\n",
    "    RETURNING id INTO v_effect_id;\n",
    "\n",
    "    -- Retrieve the attribute for the to-modify branch.\n",
    "    SELECT a.id, a.name, a.type\n",
    "      INTO v_attribute_id, v_attribute_name, v_to_modify_attr_type\n",
    "      FROM possible_attr pa\n",
    "      JOIN attribute_ref ar ON ar.variant_entry_id = pa.variant_entry_id\n",
    "      JOIN attribute a ON a.id = ar.attribute_id\n",
    "     WHERE pa.id = v_to_modify_possible_attr_id\n",
    "     LIMIT 1;\n",
    "\n",
    "    -- Ensure the attribute type is 'discrete'.\n",
    "    IF v_to_modify_attr_type <> 'discrete' THEN\n",
    "         RAISE EXCEPTION 'The attribute associated with to_modify_possible_attr_id (%) is %, but expected discrete',\n",
    "                         v_to_modify_possible_attr_id, v_to_modify_attr_type;\n",
    "    END IF;\n",
    "\n",
    "    -- Process each change tuple in p_changes.\n",
    "    IF p_changes IS NOT NULL THEN\n",
    "       FOR rec_json IN SELECT * FROM json_array_elements(p_changes) LOOP\n",
    "          v_label  := rec_json->>0;\n",
    "          v_weight := (rec_json->>1)::double precision;\n",
    "          v_processed_labels := array_append(v_processed_labels, v_label);\n",
    "\n",
    "          SELECT id \n",
    "            INTO v_span_id\n",
    "            FROM span\n",
    "           WHERE attribute_id = v_attribute_id\n",
    "             AND label = v_label\n",
    "             AND type = 'discrete'\n",
    "           LIMIT 1;\n",
    "\n",
    "          IF NOT FOUND THEN\n",
    "             INSERT INTO span(\n",
    "                 attribute_id, \n",
    "                 label, \n",
    "                 type, \n",
    "                 is_pinned, \n",
    "                 weight, \n",
    "                 max_value, \n",
    "                 min_value\n",
    "             )\n",
    "             VALUES (v_attribute_id, v_label, 'discrete', false, v_weight, NULL, NULL)\n",
    "             RETURNING id INTO v_span_id;\n",
    "\n",
    "             INSERT INTO add_span_eft(effect_id, span_id)\n",
    "             VALUES (v_effect_id, v_span_id);\n",
    "          ELSE\n",
    "             IF v_weight = 0 THEN\n",
    "                INSERT INTO remove_span_eft(effect_id, span_id)\n",
    "                VALUES (v_effect_id, v_span_id);\n",
    "             ELSE\n",
    "                INSERT INTO delta_weight_eft(effect_id, span_id, delta_weight)\n",
    "                VALUES (v_effect_id, v_span_id, v_weight);\n",
    "             END IF;\n",
    "          END IF;\n",
    "       END LOOP;\n",
    "    END IF;\n",
    "\n",
    "    -- Remove any unmentioned spans if requested.\n",
    "    IF p_remove_unmentioned THEN\n",
    "       FOR rec_record IN\n",
    "         SELECT id, label \n",
    "         FROM span\n",
    "         WHERE attribute_id = v_attribute_id\n",
    "           AND type = 'discrete'\n",
    "           AND NOT (label = ANY(v_processed_labels))\n",
    "       LOOP\n",
    "         INSERT INTO remove_span_eft(effect_id, span_id)\n",
    "         VALUES (v_effect_id, rec_record.id);\n",
    "       END LOOP;\n",
    "    END IF;\n",
    "END;\n",
    "$$;"
   ]
  },
  {
   "cell_type": "markdown",
   "id": "3b28143f",
   "metadata": {},
   "source": [
    "## Remove Effect"
   ]
  },
  {
   "cell_type": "code",
   "execution_count": null,
   "id": "973d1a92",
   "metadata": {
    "vscode": {
     "languageId": "sql"
    }
   },
   "outputs": [],
   "source": [
    "%%sql\n",
    "\n",
    "CREATE OR REPLACE PROCEDURE remove_effect(\n",
    "    p_effect_name VARCHAR\n",
    ")\n",
    "LANGUAGE plpgsql\n",
    "AS $$\n",
    "DECLARE\n",
    "    v_effect_id INT;\n",
    "    v_deleted_count INT;\n",
    "BEGIN\n",
    "    -- Look up the effect by its unique name.\n",
    "    SELECT id\n",
    "      INTO v_effect_id\n",
    "      FROM effect\n",
    "     WHERE name = p_effect_name\n",
    "     LIMIT 1;\n",
    "     \n",
    "    IF NOT FOUND THEN\n",
    "       RAISE NOTICE 'Effect \"%\" not found. Nothing to remove.', p_effect_name;\n",
    "       RETURN;\n",
    "    END IF;\n",
    "\n",
    "    -- Delete the effect record.\n",
    "    DELETE FROM effect\n",
    "     WHERE id = v_effect_id;\n",
    "    \n",
    "    GET DIAGNOSTICS v_deleted_count = ROW_COUNT;\n",
    "    \n",
    "    IF v_deleted_count > 0 THEN\n",
    "       RAISE NOTICE 'Effect \"%\" removed successfully.', p_effect_name;\n",
    "    ELSE\n",
    "       RAISE NOTICE 'No effect was removed for \"%\".', p_effect_name;\n",
    "    END IF;\n",
    "END;\n",
    "$$;"
   ]
  },
  {
   "cell_type": "markdown",
   "id": "58191248-9e13-40e6-8942-7914c89c99a0",
   "metadata": {
    "jp-MarkdownHeadingCollapsed": true
   },
   "source": [
    "# Inspect Schema"
   ]
  },
  {
   "cell_type": "markdown",
   "id": "f21806f2-88ed-46b4-aa46-763733989735",
   "metadata": {},
   "source": [
    "## List Tables"
   ]
  },
  {
   "cell_type": "code",
   "execution_count": null,
   "id": "073e64ae-9d52-4ad0-ac5b-836d98f60deb",
   "metadata": {},
   "outputs": [],
   "source": [
    "%%sql\n",
    "\n",
    "SELECT tablename AS name\n",
    "FROM pg_catalog.pg_tables\n",
    "WHERE schemaname NOT IN ('pg_catalog', 'information_schema')\n",
    "ORDER BY schemaname, tablename;"
   ]
  },
  {
   "cell_type": "markdown",
   "id": "616e5ce1",
   "metadata": {},
   "source": [
    "## List Procedures"
   ]
  },
  {
   "cell_type": "code",
   "execution_count": null,
   "id": "c42ce3b8",
   "metadata": {
    "vscode": {
     "languageId": "sql"
    }
   },
   "outputs": [],
   "source": [
    "%%sql\n",
    "\n",
    "SELECT proname AS name, pg_catalog.pg_get_function_arguments(p.oid) AS arguments\n",
    "FROM pg_catalog.pg_proc p\n",
    "JOIN pg_catalog.pg_namespace n ON n.oid = p.pronamespace\n",
    "WHERE p.prokind = 'p' AND n.nspname = 'public'\n",
    "ORDER BY n.nspname, proname;"
   ]
  },
  {
   "cell_type": "markdown",
   "id": "957f44b0-fe34-4820-8b89-296ee8526be0",
   "metadata": {},
   "source": [
    "## List Functions"
   ]
  },
  {
   "cell_type": "code",
   "execution_count": null,
   "id": "b1f77168-da9a-4198-80ea-2eaf89a5ef2b",
   "metadata": {},
   "outputs": [],
   "source": [
    "%%sql\n",
    "\n",
    "SELECT proname AS name,\n",
    "       pg_catalog.pg_get_function_arguments(p.oid) AS arguments,\n",
    "       pg_catalog.pg_get_function_result(p.oid) AS return_type\n",
    "FROM pg_catalog.pg_proc p\n",
    "JOIN pg_catalog.pg_namespace n ON n.oid = p.pronamespace\n",
    "WHERE p.prokind = 'f' AND n.nspname = 'public'\n",
    "ORDER BY n.nspname, proname;"
   ]
  },
  {
   "cell_type": "markdown",
   "id": "4e6a623f-dc54-4e65-92db-f4d8293e4d8e",
   "metadata": {},
   "source": [
    "## List Indices"
   ]
  },
  {
   "cell_type": "code",
   "execution_count": null,
   "id": "d96079b6-f4e1-40c5-849d-d258592de5f8",
   "metadata": {},
   "outputs": [],
   "source": [
    "%%sql\n",
    "\n",
    "SELECT i.relname AS index_name, t.relname AS table_name\n",
    "FROM pg_catalog.pg_index ix\n",
    "JOIN pg_catalog.pg_class i ON i.oid = ix.indexrelid\n",
    "JOIN pg_catalog.pg_class t ON t.oid = ix.indrelid\n",
    "JOIN pg_catalog.pg_namespace n ON n.oid = t.relnamespace\n",
    "WHERE n.nspname = 'public'\n",
    "ORDER BY n.nspname, t.relname, i.relname;"
   ]
  },
  {
   "cell_type": "markdown",
   "id": "c38e15f5",
   "metadata": {},
   "source": [
    "# Testing"
   ]
  },
  {
   "cell_type": "markdown",
   "id": "8b9887ef",
   "metadata": {},
   "source": [
    "## Gender Attribute"
   ]
  },
  {
   "cell_type": "markdown",
   "id": "2559e307",
   "metadata": {},
   "source": [
    "### Delete Gender Attribute"
   ]
  },
  {
   "cell_type": "code",
   "execution_count": null,
   "id": "688e5c5b",
   "metadata": {
    "vscode": {
     "languageId": "sql"
    }
   },
   "outputs": [],
   "source": [
    "%%sql\n",
    "\n",
    "CALL delete_discrete_attribute('Gender');"
   ]
  },
  {
   "cell_type": "markdown",
   "id": "5882d3db",
   "metadata": {},
   "source": [
    "### Add Gender Attribute"
   ]
  },
  {
   "cell_type": "code",
   "execution_count": null,
   "id": "f3113cde",
   "metadata": {
    "vscode": {
     "languageId": "sql"
    }
   },
   "outputs": [],
   "source": [
    "%%sql\n",
    "\n",
    "call add_discrete_attribute('Gender', '[\n",
    "    [\"Male\", 1], \n",
    "    [\"Female\", 1]\n",
    "]');"
   ]
  },
  {
   "cell_type": "markdown",
   "id": "9e927fa0",
   "metadata": {},
   "source": [
    "### View Gender Attribute"
   ]
  },
  {
   "cell_type": "code",
   "execution_count": null,
   "id": "a782ec68",
   "metadata": {
    "vscode": {
     "languageId": "sql"
    }
   },
   "outputs": [],
   "source": [
    "%%sql\n",
    "\n",
    "SELECT * FROM get_discrete_attribute('Gender');"
   ]
  },
  {
   "cell_type": "markdown",
   "id": "2616528f",
   "metadata": {},
   "source": [
    "## Hair Color Attribute"
   ]
  },
  {
   "cell_type": "markdown",
   "id": "ac18b266",
   "metadata": {},
   "source": [
    "### Delete Hair Color Attribute"
   ]
  },
  {
   "cell_type": "code",
   "execution_count": null,
   "id": "95097f16",
   "metadata": {
    "vscode": {
     "languageId": "sql"
    }
   },
   "outputs": [],
   "source": [
    "%%sql\n",
    "\n",
    "CALL delete_discrete_attribute('Hair Color');"
   ]
  },
  {
   "cell_type": "markdown",
   "id": "6eee412e",
   "metadata": {},
   "source": [
    "### Add Hair Color Attribute"
   ]
  },
  {
   "cell_type": "code",
   "execution_count": null,
   "id": "807f7ba9",
   "metadata": {
    "vscode": {
     "languageId": "sql"
    }
   },
   "outputs": [],
   "source": [
    "%%sql\n",
    "\n",
    "call add_discrete_attribute('Hair Color', '[\n",
    "    [\"Blonde\", 2], \n",
    "    [\"Brown\", 3],\n",
    "    [\"Golden\", 2],\n",
    "    [\"Auburn\", 2],\n",
    "    [\"Ginger\", 1],\n",
    "    [\"Sandy\", 2],\n",
    "    [\"Black\", 3],\n",
    "    [\"Gray\", 2]\n",
    "]');"
   ]
  },
  {
   "cell_type": "markdown",
   "id": "b85287e4",
   "metadata": {},
   "source": [
    "### View Hair Color Attribute"
   ]
  },
  {
   "cell_type": "code",
   "execution_count": null,
   "id": "21472e0f",
   "metadata": {
    "vscode": {
     "languageId": "sql"
    }
   },
   "outputs": [],
   "source": [
    "%%sql\n",
    "\n",
    "SELECT * FROM get_discrete_attribute('Hair Color');"
   ]
  },
  {
   "cell_type": "markdown",
   "id": "476196ce",
   "metadata": {},
   "source": [
    "## Height Attribute"
   ]
  },
  {
   "cell_type": "markdown",
   "id": "c6367071",
   "metadata": {},
   "source": [
    "### Delete Height Attribute"
   ]
  },
  {
   "cell_type": "code",
   "execution_count": null,
   "id": "4af06210",
   "metadata": {
    "vscode": {
     "languageId": "sql"
    }
   },
   "outputs": [],
   "source": [
    "%%sql\n",
    "\n",
    "CALL delete_continuous_attribute('Height');"
   ]
  },
  {
   "cell_type": "markdown",
   "id": "65d4a41f",
   "metadata": {},
   "source": [
    "### Add Height Attribute"
   ]
  },
  {
   "cell_type": "code",
   "execution_count": null,
   "id": "cde61298",
   "metadata": {
    "vscode": {
     "languageId": "sql"
    }
   },
   "outputs": [],
   "source": [
    "%%sql\n",
    "\n",
    "call add_continuous_attribute('Height', 0, 68, 96, 32, 0, 4, 'in.', '[\n",
    "    [\"Short\", 60],\n",
    "    [\"Average\", 74],\n",
    "    [\"Tall\", 96]\n",
    "]');"
   ]
  },
  {
   "cell_type": "markdown",
   "id": "d18023fd",
   "metadata": {},
   "source": [
    "### View Height Attribute"
   ]
  },
  {
   "cell_type": "code",
   "execution_count": null,
   "id": "2430bc78",
   "metadata": {
    "vscode": {
     "languageId": "sql"
    }
   },
   "outputs": [],
   "source": [
    "%%sql\n",
    "\n",
    "SELECT * FROM get_continuous_attribute('Height');"
   ]
  },
  {
   "cell_type": "markdown",
   "id": "78191931",
   "metadata": {},
   "source": [
    "## Human Variant"
   ]
  },
  {
   "cell_type": "markdown",
   "id": "ac4ef6c8",
   "metadata": {},
   "source": [
    "### Delete"
   ]
  },
  {
   "cell_type": "code",
   "execution_count": null,
   "id": "8b1380ff",
   "metadata": {
    "vscode": {
     "languageId": "sql"
    }
   },
   "outputs": [],
   "source": [
    "%%sql\n",
    "\n",
    "CALL delete_variant('Human');"
   ]
  },
  {
   "cell_type": "markdown",
   "id": "43916031",
   "metadata": {},
   "source": [
    "### Add"
   ]
  },
  {
   "cell_type": "code",
   "execution_count": null,
   "id": "e1b00701",
   "metadata": {
    "vscode": {
     "languageId": "sql"
    }
   },
   "outputs": [],
   "source": [
    "%%sql\n",
    "\n",
    "CALL add_variant('Human', '[\n",
    "    [\"a\", \"Gender\"],\n",
    "    [\"a\", \"Hair Color\"],\n",
    "    [\"a\", \"Height\"]\n",
    "]');"
   ]
  },
  {
   "cell_type": "markdown",
   "id": "e6ba73cb",
   "metadata": {},
   "source": [
    "### Get"
   ]
  },
  {
   "cell_type": "code",
   "execution_count": null,
   "id": "a16f7288",
   "metadata": {
    "vscode": {
     "languageId": "sql"
    }
   },
   "outputs": [],
   "source": [
    "%%sql\n",
    "\n",
    "SELECT * FROM get_variant('Human', 5);"
   ]
  },
  {
   "cell_type": "markdown",
   "id": "0413b0f5",
   "metadata": {},
   "source": [
    "## Generate a Group of Humans"
   ]
  },
  {
   "cell_type": "markdown",
   "id": "760da486",
   "metadata": {},
   "source": [
    "### Delete"
   ]
  },
  {
   "cell_type": "code",
   "execution_count": null,
   "id": "16b7250b",
   "metadata": {
    "vscode": {
     "languageId": "sql"
    }
   },
   "outputs": [],
   "source": [
    "%%sql\n",
    "\n",
    "CALL delete_entity_group('Test Humans 1', true);"
   ]
  },
  {
   "cell_type": "markdown",
   "id": "d534ce0b",
   "metadata": {},
   "source": [
    "### Create"
   ]
  },
  {
   "cell_type": "code",
   "execution_count": null,
   "id": "cc9d3115",
   "metadata": {
    "vscode": {
     "languageId": "sql"
    }
   },
   "outputs": [],
   "source": [
    "%%sql\n",
    "\n",
    "CALL generate_entity_group('Human', 'Test Humans 1', 'Test Human %s', 10);"
   ]
  },
  {
   "cell_type": "markdown",
   "id": "924e9781",
   "metadata": {},
   "source": [
    "### View"
   ]
  },
  {
   "cell_type": "code",
   "execution_count": null,
   "id": "2d557637",
   "metadata": {
    "vscode": {
     "languageId": "sql"
    }
   },
   "outputs": [],
   "source": [
    "%%sql\n",
    "\n",
    "SELECT * FROM get_entity_group_at_time('Test Humans 1', 0);"
   ]
  },
  {
   "cell_type": "markdown",
   "id": "d2120c32",
   "metadata": {},
   "source": [
    "# The Robot Test"
   ]
  },
  {
   "cell_type": "markdown",
   "id": "6dcb4992",
   "metadata": {},
   "source": [
    "## Paint Attribute"
   ]
  },
  {
   "cell_type": "code",
   "execution_count": null,
   "id": "a6ac9310",
   "metadata": {
    "vscode": {
     "languageId": "sql"
    }
   },
   "outputs": [],
   "source": [
    "%%sql\n",
    "\n",
    "CALL add_discrete_attribute('Color', '[\n",
    "        [\"None\", 3],\n",
    "        [\"Red\", 2],\n",
    "        [\"Yellow\", 2],\n",
    "        [\"Green\", 2],\n",
    "        [\"Blue\", 2],\n",
    "        [\"Orange\", 2],\n",
    "        [\"White\", 2],\n",
    "        [\"Black\", 2],\n",
    "        [\"Purple\", 2],\n",
    "        [\"Custom\", 1, \"Custom Pigment\"]\n",
    "]');"
   ]
  },
  {
   "cell_type": "code",
   "execution_count": null,
   "id": "2ba18db3",
   "metadata": {
    "vscode": {
     "languageId": "sql"
    }
   },
   "outputs": [],
   "source": [
    "%%sql\n",
    "\n",
    "CALL add_continuous_attribute('R', 0, 127, 255, 0, 0, 0, NULL, NULL);"
   ]
  },
  {
   "cell_type": "code",
   "execution_count": null,
   "id": "6b1470fa",
   "metadata": {
    "vscode": {
     "languageId": "sql"
    }
   },
   "outputs": [],
   "source": [
    "%%sql\n",
    "\n",
    "CALL add_continuous_attribute('G', 0, 127, 255, 0, 0, 0, NULL, NULL);"
   ]
  },
  {
   "cell_type": "code",
   "execution_count": null,
   "id": "08aba5fb",
   "metadata": {
    "vscode": {
     "languageId": "sql"
    }
   },
   "outputs": [],
   "source": [
    "%%sql\n",
    "\n",
    "CALL add_continuous_attribute('B', 0, 127, 255, 0, 0, 0, NULL, NULL);"
   ]
  },
  {
   "cell_type": "code",
   "execution_count": null,
   "id": "4497375a",
   "metadata": {
    "vscode": {
     "languageId": "sql"
    }
   },
   "outputs": [],
   "source": [
    "%%sql\n",
    "\n",
    "CALL add_variant('Custom Pigment', '[\n",
    "    [\"a\", \"R\"], \n",
    "    [\"a\", \"G\"], \n",
    "    [\"a\", \"B\"]\n",
    "]');"
   ]
  },
  {
   "cell_type": "code",
   "execution_count": null,
   "id": "acd23eb4",
   "metadata": {
    "vscode": {
     "languageId": "sql"
    }
   },
   "outputs": [],
   "source": [
    "%%sql\n",
    "\n",
    "CALL add_discrete_attribute(\n",
    "    'Sheen', '[\n",
    "        [\"Glossy\", 3],\n",
    "        [\"Egg-Shell\", 1],\n",
    "        [\"Matte\", 2],\n",
    "        [\"Semi-Gloss\", 2]\n",
    "]');"
   ]
  },
  {
   "cell_type": "code",
   "execution_count": null,
   "id": "144693cc",
   "metadata": {
    "vscode": {
     "languageId": "sql"
    }
   },
   "outputs": [],
   "source": [
    "%%sql\n",
    "\n",
    "CALL add_variant('Paint', '[\n",
    "    [\"a\", \"Color\"], \n",
    "    [\"a\", \"Sheen\"]\n",
    "]');"
   ]
  },
  {
   "cell_type": "markdown",
   "id": "faf98c18",
   "metadata": {},
   "source": [
    "## Material Attribute"
   ]
  },
  {
   "cell_type": "code",
   "execution_count": null,
   "id": "7da34d32",
   "metadata": {
    "vscode": {
     "languageId": "sql"
    }
   },
   "outputs": [],
   "source": [
    "%%sql\n",
    "\n",
    "CALL add_discrete_attribute(\n",
    "    'Material', '[\n",
    "        [\"Steel\", 4],\n",
    "        [\"Aluminum\", 6],\n",
    "        [\"Bronze\", 2],\n",
    "        [\"Iron\", 2],\n",
    "        [\"Carbon-Fiber\", 6],\n",
    "        [\"PVC\", 4],\n",
    "        [\"Animal Bone\", 1],\n",
    "        [\"Wood\", 2]\n",
    "    ]'\n",
    ");"
   ]
  },
  {
   "cell_type": "markdown",
   "id": "2f9f48ad",
   "metadata": {},
   "source": [
    "## Power-Level Attribute"
   ]
  },
  {
   "cell_type": "code",
   "execution_count": null,
   "id": "896a3eb2",
   "metadata": {
    "vscode": {
     "languageId": "sql"
    }
   },
   "outputs": [],
   "source": [
    "%%sql\n",
    "\n",
    "CALL add_continuous_attribute('Power-Level', 0, 50, 100, 24, 0, 2, NULL, '[\n",
    "    [\"Very Weak\", 20],\n",
    "    [\"Weak\", 40],\n",
    "    [\"Normal\", 60],\n",
    "    [\"Strong\", 80],\n",
    "    [\"Ultra\", 100]\n",
    "]');"
   ]
  },
  {
   "cell_type": "markdown",
   "id": "20b1f8dc",
   "metadata": {},
   "source": [
    "## Length Attribute"
   ]
  },
  {
   "cell_type": "code",
   "execution_count": null,
   "id": "0575c93e",
   "metadata": {
    "vscode": {
     "languageId": "sql"
    }
   },
   "outputs": [],
   "source": [
    "%%sql\n",
    "\n",
    "CALL add_continuous_attribute('Length', .01, 36, 120, 36, 0, 2, 'in.', NULL);"
   ]
  },
  {
   "cell_type": "markdown",
   "id": "b8ffc601",
   "metadata": {},
   "source": [
    "## Diameter Attribute"
   ]
  },
  {
   "cell_type": "code",
   "execution_count": null,
   "id": "f21d79a2",
   "metadata": {
    "vscode": {
     "languageId": "sql"
    }
   },
   "outputs": [],
   "source": [
    "%%sql\n",
    "\n",
    "CALL add_continuous_attribute('Diameter', .01, 1, 4, 12, 0, 2, 'in.', NULL);"
   ]
  },
  {
   "cell_type": "markdown",
   "id": "26ea17c7",
   "metadata": {},
   "source": [
    "## Sub-Arm Attribute"
   ]
  },
  {
   "cell_type": "code",
   "execution_count": null,
   "id": "5dfd0248",
   "metadata": {
    "vscode": {
     "languageId": "sql"
    }
   },
   "outputs": [],
   "source": [
    "%%sql\n",
    "\n",
    "CALL add_discrete_attribute('Sub-Arm', '[[\"No\", 4], [\"Yes\", 1, \"Arm\"]]');"
   ]
  },
  {
   "cell_type": "markdown",
   "id": "d0effc29",
   "metadata": {},
   "source": [
    "## Attachment Attribute"
   ]
  },
  {
   "cell_type": "code",
   "execution_count": null,
   "id": "e985ea1d",
   "metadata": {
    "vscode": {
     "languageId": "sql"
    }
   },
   "outputs": [],
   "source": [
    "%%sql\n",
    "\n",
    "CALL add_discrete_attribute(\n",
    "    'Attachment', '[\n",
    "        [\"Cutter\", 3],\n",
    "        [\"Welder\", 2],\n",
    "        [\"Pincher\", 3],\n",
    "        [\"Grabber\", 3],\n",
    "        [\"Laser\", 1],\n",
    "        [\"Cannon\", 1],\n",
    "        [\"Hammer\", 2],\n",
    "        [\"Grappler\", 1],\n",
    "        [\"Vacuum\", 2]\n",
    "    ]'\n",
    ");"
   ]
  },
  {
   "cell_type": "markdown",
   "id": "008e9602",
   "metadata": {},
   "source": [
    "## Input Attribute"
   ]
  },
  {
   "cell_type": "code",
   "execution_count": null,
   "id": "5c80107a",
   "metadata": {
    "vscode": {
     "languageId": "sql"
    }
   },
   "outputs": [],
   "source": [
    "%%sql\n",
    "\n",
    "CALL add_discrete_attribute(\n",
    "    'Input', '[\n",
    "        [\"Camera\", 5],\n",
    "        [\"Microphone\", 5],\n",
    "        [\"Smell-O-Sense\", 2],\n",
    "        [\"Infra-Red\", 3],\n",
    "        [\"X-Ray\", 3],\n",
    "        [\"GPS\", 4],\n",
    "        [\"Temporal\", 1]\n",
    "    ]'\n",
    ");"
   ]
  },
  {
   "cell_type": "markdown",
   "id": "fae0da45",
   "metadata": {},
   "source": [
    "## Output Attribute"
   ]
  },
  {
   "cell_type": "code",
   "execution_count": null,
   "id": "d52b8be4",
   "metadata": {
    "vscode": {
     "languageId": "sql"
    }
   },
   "outputs": [],
   "source": [
    "%%sql\n",
    "\n",
    "CALL add_discrete_attribute(\n",
    "    'Output', '[\n",
    "        [\"MIDI Tone\", 5],\n",
    "        [\"Text Screen\", 7],\n",
    "        [\"Clicker\", 4],\n",
    "        [\"Recorded Phrases\", 7],\n",
    "        [\"X-Ray\", 5],\n",
    "        [\"Light Array\", 5],\n",
    "        [\"Party Blower\", 1],\n",
    "        [\"Kazoo\", 1]\n",
    "    ]'\n",
    ");"
   ]
  },
  {
   "cell_type": "markdown",
   "id": "e0d4518a",
   "metadata": {},
   "source": [
    "## Foot Attribute"
   ]
  },
  {
   "cell_type": "code",
   "execution_count": null,
   "id": "a9c6875b",
   "metadata": {
    "vscode": {
     "languageId": "sql"
    }
   },
   "outputs": [],
   "source": [
    "%%sql\n",
    "\n",
    "CALL add_discrete_attribute(\n",
    "    'Foot', '[\n",
    "        [\"Roller Skate\", 5],\n",
    "        [\"Stomper\", 7],\n",
    "        [\"Tread\", 4],\n",
    "        [\"Pogo\", 7],\n",
    "        [\"Thruster\", 5],\n",
    "        [\"Suction\", 5]\n",
    "    ]'\n",
    ");"
   ]
  },
  {
   "cell_type": "markdown",
   "id": "1e8a47aa",
   "metadata": {},
   "source": [
    "## Shape Attribute"
   ]
  },
  {
   "cell_type": "code",
   "execution_count": null,
   "id": "8d367abf",
   "metadata": {
    "vscode": {
     "languageId": "sql"
    }
   },
   "outputs": [],
   "source": [
    "%%sql\n",
    "\n",
    "CALL add_discrete_attribute(\n",
    "    'Shape', '[\n",
    "        [\"Spherical\", 5],\n",
    "        [\"Blocky\", 7],\n",
    "        [\"Sculpted\", 4],\n",
    "        [\"Spiky\", 2],\n",
    "        [\"Segmented\", 5],\n",
    "        [\"Donut\", 1]\n",
    "    ]'\n",
    ");"
   ]
  },
  {
   "cell_type": "markdown",
   "id": "162adde8",
   "metadata": {},
   "source": [
    "## Power Source Attribute"
   ]
  },
  {
   "cell_type": "code",
   "execution_count": null,
   "id": "c10ce502",
   "metadata": {
    "vscode": {
     "languageId": "sql"
    }
   },
   "outputs": [],
   "source": [
    "%%sql\n",
    "\n",
    "CALL add_discrete_attribute(\n",
    "    'Power Source', '[\n",
    "        [\"Battery\", 15],\n",
    "        [\"Solar\", 10],\n",
    "        [\"Diesel\", 10],\n",
    "        [\"Wired\", 12],\n",
    "        [\"Wind\", 4],\n",
    "        [\"Nuclear Core\", 4]\n",
    "    ]'\n",
    ");"
   ]
  },
  {
   "cell_type": "markdown",
   "id": "02777e10",
   "metadata": {},
   "source": [
    "## Neck Width Attribute"
   ]
  },
  {
   "cell_type": "code",
   "execution_count": null,
   "id": "f759a015",
   "metadata": {
    "vscode": {
     "languageId": "sql"
    }
   },
   "outputs": [],
   "source": [
    "%%sql\n",
    "\n",
    "CALL add_continuous_attribute('Neck Width', 1, 10, 2, 2, 0, 1, 'in.', NULL);"
   ]
  },
  {
   "cell_type": "markdown",
   "id": "bd74f1a5",
   "metadata": {},
   "source": [
    "## Weight Attribute"
   ]
  },
  {
   "cell_type": "code",
   "execution_count": null,
   "id": "52a23cdc",
   "metadata": {
    "vscode": {
     "languageId": "sql"
    }
   },
   "outputs": [],
   "source": [
    "%%sql\n",
    "\n",
    "CALL add_continuous_attribute('Weight', .01, 20, 5000, 2, 0, 1, 'lbs.', NULL);"
   ]
  },
  {
   "cell_type": "markdown",
   "id": "39aef87f",
   "metadata": {},
   "source": [
    "## Torso Variant"
   ]
  },
  {
   "cell_type": "code",
   "execution_count": null,
   "id": "175882ef",
   "metadata": {
    "vscode": {
     "languageId": "sql"
    }
   },
   "outputs": [],
   "source": [
    "%%sql\n",
    "\n",
    "CALL add_variant('Torso', '[\n",
    "    [\"a\", \"Shape\"], \n",
    "    [\"a\", \"Material\"], \n",
    "    [\"a\", \"Power-Level\"], \n",
    "    [\"v\", \"Paint\"]\n",
    "]');"
   ]
  },
  {
   "cell_type": "markdown",
   "id": "d6d38110",
   "metadata": {},
   "source": [
    "## Head Variant"
   ]
  },
  {
   "cell_type": "code",
   "execution_count": null,
   "id": "7fb6020b",
   "metadata": {
    "vscode": {
     "languageId": "sql"
    }
   },
   "outputs": [],
   "source": [
    "%%sql\n",
    "\n",
    "CALL add_variant('Head', '[\n",
    "    [\"a\", \"Input\"], \n",
    "    [\"a\", \"Output\"], \n",
    "    [\"a\", \"Material\"], \n",
    "    [\"a\", \"Power-Level\"], \n",
    "    [\"v\", \"Paint\"]\n",
    "]');"
   ]
  },
  {
   "cell_type": "markdown",
   "id": "6e60a03a",
   "metadata": {},
   "source": [
    "## Leg Variant"
   ]
  },
  {
   "cell_type": "code",
   "execution_count": null,
   "id": "d8c4c607",
   "metadata": {
    "vscode": {
     "languageId": "sql"
    }
   },
   "outputs": [],
   "source": [
    "%%sql\n",
    "\n",
    "CALL add_variant('Leg', '[\n",
    "    [\"a\", \"Foot\"], \n",
    "    [\"a\", \"Material\"], \n",
    "    [\"a\", \"Power-Level\"], \n",
    "    [\"a\", \"Length\"],\n",
    "    [\"a\", \"Diameter\"],\n",
    "    [\"v\", \"Paint\"]\n",
    "]');"
   ]
  },
  {
   "cell_type": "markdown",
   "id": "67cc750f",
   "metadata": {},
   "source": [
    "## Hand Variant"
   ]
  },
  {
   "cell_type": "code",
   "execution_count": null,
   "id": "7b5f0af3",
   "metadata": {
    "vscode": {
     "languageId": "sql"
    }
   },
   "outputs": [],
   "source": [
    "%%sql\n",
    "\n",
    "-- Create the variant groupings\n",
    "CALL add_variant('Hand', '[\n",
    "    [\"a\", \"Attachment\"], \n",
    "    [\"a\", \"Material\"],  \n",
    "    [\"a\", \"Power-Level\"], \n",
    "    [\"v\", \"Paint\"]\n",
    "]');"
   ]
  },
  {
   "cell_type": "markdown",
   "id": "1550d51c",
   "metadata": {},
   "source": [
    "## Arm Variant"
   ]
  },
  {
   "cell_type": "code",
   "execution_count": null,
   "id": "3d27fdeb",
   "metadata": {
    "vscode": {
     "languageId": "sql"
    }
   },
   "outputs": [],
   "source": [
    "%%sql\n",
    "\n",
    "CALL add_variant('Arm', '[\n",
    "    [\"v\", \"Hand\"], \n",
    "    [\"a\", \"Material\"], \n",
    "    [\"v\", \"Paint\"], \n",
    "    [\"a\", \"Length\"], \n",
    "    [\"a\", \"Diameter\"], \n",
    "    [\"a\", \"Sub-Arm\"]\n",
    "]');"
   ]
  },
  {
   "cell_type": "markdown",
   "id": "41cad782",
   "metadata": {},
   "source": [
    "## Robot Variant"
   ]
  },
  {
   "cell_type": "code",
   "execution_count": null,
   "id": "4690bb51",
   "metadata": {
    "vscode": {
     "languageId": "sql"
    }
   },
   "outputs": [],
   "source": [
    "%%sql\n",
    "\n",
    "CALL add_variant('Robot', '[\n",
    "    [\"a\", \"Power Source\"],\n",
    "    [\"v\", \"Head\"],\n",
    "    [\"a\", \"Neck Width\"],\n",
    "    [\"v\", \"Torso\"],\n",
    "    [\"v\", \"Arm\", \"Left Arm\"], \n",
    "    [\"v\", \"Arm\", \"Right Arm\"], \n",
    "    [\"v\", \"Leg\", \"Left Leg\"], \n",
    "    [\"v\", \"Leg\", \"Right Leg\"],\n",
    "    [\"a\", \"Weight\"]\n",
    "]');"
   ]
  },
  {
   "cell_type": "markdown",
   "id": "e4b50fdf",
   "metadata": {},
   "source": [
    "## Effects"
   ]
  },
  {
   "cell_type": "markdown",
   "id": "63b6624c",
   "metadata": {},
   "source": [
    "### Welder hands cannot be made of wood'"
   ]
  },
  {
   "cell_type": "code",
   "execution_count": null,
   "id": "73a8a10f",
   "metadata": {
    "vscode": {
     "languageId": "sql"
    }
   },
   "outputs": [],
   "source": [
    "%%sql\n",
    "\n",
    "-- Add effects\n",
    "\n",
    "-- Test: discrete effect on same variant level, disable span\n",
    "CALL add_discrete_effect(\n",
    "    'Welder hands cannot be made of wood',\n",
    "    'Hand',\n",
    "    '[[\"Attachment\", \"Welder\"]]',\n",
    "    '[\"Material\"]',\n",
    "    '[[\"Wood\", 0]]'\n",
    ");"
   ]
  },
  {
   "cell_type": "markdown",
   "id": "434b2646",
   "metadata": {},
   "source": [
    "### Wooden hands have lower power level"
   ]
  },
  {
   "cell_type": "code",
   "execution_count": null,
   "id": "ab002bd5",
   "metadata": {
    "vscode": {
     "languageId": "sql"
    }
   },
   "outputs": [],
   "source": [
    "%%sql\n",
    "\n",
    "-- Test: continous effect on same variant level\n",
    "CALL add_continuous_effect(\n",
    "    'Wooden hands have lower power level',\n",
    "    'Hand',\n",
    "    '[[\"Material\", \"Wood\"]]',\n",
    "    '[\"Power-Level\"]',\n",
    "    -20, 0, 0\n",
    ");"
   ]
  },
  {
   "cell_type": "markdown",
   "id": "ab12b706",
   "metadata": {},
   "source": [
    "### Spherical torsos are more likely to be painted white or blue"
   ]
  },
  {
   "cell_type": "code",
   "execution_count": null,
   "id": "531f44f2",
   "metadata": {
    "vscode": {
     "languageId": "sql"
    }
   },
   "outputs": [],
   "source": [
    "%%sql\n",
    "\n",
    "-- Test: stacked discrete effect on an attribute one level down\n",
    "CALL add_discrete_effect(\n",
    "    'Spherical torsos are more likely to be painted white or blue',\n",
    "    'Torso',\n",
    "    '[[\"Shape\", \"Spherical\"]]',\n",
    "    '[\"Paint\", \"Color\"]',\n",
    "    '[[\"White\", 10], [\"Blue\", 5]]'\n",
    ");"
   ]
  },
  {
   "cell_type": "markdown",
   "id": "f879b5d7",
   "metadata": {},
   "source": [
    "### Animal bone torsos are more likely to be painted white or green"
   ]
  },
  {
   "cell_type": "code",
   "execution_count": null,
   "id": "a3df9133",
   "metadata": {
    "vscode": {
     "languageId": "sql"
    }
   },
   "outputs": [],
   "source": [
    "%%sql\n",
    "\n",
    "CALL add_discrete_effect(\n",
    "    'Animal bone torsos are more likely to be painted white or green',\n",
    "    'Torso',\n",
    "    '[[\"Material\", \"Animal Bone\"]]',\n",
    "    '[\"Paint\", \"Color\"]',\n",
    "    '[[\"White\", 10], [\"Green\", 5]]'\n",
    ");"
   ]
  },
  {
   "cell_type": "markdown",
   "id": "2e832236",
   "metadata": {},
   "source": [
    "### Wooden torsos have lower power level"
   ]
  },
  {
   "cell_type": "code",
   "execution_count": null,
   "id": "5e762abb",
   "metadata": {
    "vscode": {
     "languageId": "sql"
    }
   },
   "outputs": [],
   "source": [
    "%%sql\n",
    "\n",
    "-- Test: stacked continuous effect on same variant level\n",
    "CALL add_continuous_effect(\n",
    "    'Wooden torsos have lower power level',\n",
    "    'Torso',\n",
    "    '[[\"Material\", \"Wood\"]]',\n",
    "    '[\"Power-Level\"]',\n",
    "    -20, 0, 0\n",
    ");"
   ]
  },
  {
   "cell_type": "markdown",
   "id": "1f489da6",
   "metadata": {},
   "source": [
    "### Blocky torsos have higher power level"
   ]
  },
  {
   "cell_type": "code",
   "execution_count": null,
   "id": "0185bc5d",
   "metadata": {
    "vscode": {
     "languageId": "sql"
    }
   },
   "outputs": [],
   "source": [
    "%%sql\n",
    "\n",
    "CALL add_continuous_effect(\n",
    "    'Blocky torsos have higher power level',\n",
    "    'Torso',\n",
    "    '[[\"Shape\", \"Blocky\"]]',\n",
    "    '[\"Power-Level\"]',\n",
    "    15, 0, 0\n",
    ");"
   ]
  },
  {
   "cell_type": "markdown",
   "id": "a93c61d4",
   "metadata": {},
   "source": [
    "### All diesel-powered robots have a roller skate on their left foot"
   ]
  },
  {
   "cell_type": "code",
   "execution_count": null,
   "id": "b65b9f83",
   "metadata": {
    "vscode": {
     "languageId": "sql"
    }
   },
   "outputs": [],
   "source": [
    "%%sql\n",
    "\n",
    "-- Test: discrete effect on an attribute one level down, restricting options\n",
    "CALL add_discrete_effect(\n",
    "    'All diesel-powered robots have a roller skate on their left foot',\n",
    "    'Robot',\n",
    "    '[[\"Power Source\", \"Diesel\"]]',\n",
    "    '[\"Left Leg\", \"Foot\"]',\t\n",
    "    '[[\"Roller Skate\", 1]]',\n",
    "    true\n",
    ");"
   ]
  },
  {
   "cell_type": "markdown",
   "id": "5543c29a",
   "metadata": {},
   "source": [
    "### Robot with wired power are less likely to have heads with camera input"
   ]
  },
  {
   "cell_type": "code",
   "execution_count": null,
   "id": "83fe08ba",
   "metadata": {
    "vscode": {
     "languageId": "sql"
    }
   },
   "outputs": [],
   "source": [
    "%%sql\n",
    "\n",
    "-- Test: one level down\n",
    "CALL add_discrete_effect(\n",
    "    'Wired-powered robots are less likely to have camera-input heads',\n",
    "    'Robot',\n",
    "    '[[\"Power Source\", \"Wired\"]]',\n",
    "    '[\"Head\", \"Input\"]',\t\n",
    "    '[[\"Camera\", -3]]',\n",
    "    true\n",
    ");"
   ]
  },
  {
   "cell_type": "markdown",
   "id": "32ccf6f3",
   "metadata": {},
   "source": [
    "### Robots with camera input heads are more likely to have wider necks"
   ]
  },
  {
   "cell_type": "code",
   "execution_count": null,
   "id": "7d1859bd",
   "metadata": {
    "vscode": {
     "languageId": "sql"
    }
   },
   "outputs": [],
   "source": [
    "%%sql\n",
    "\n",
    "-- Test: continuous effect on an attribute multiple levels down (including recursive)\n",
    "CALL add_continuous_effect(\n",
    "    'Robots with camera input heads are more likely to have wider necks',\n",
    "    'Robot',\n",
    "    '[\"Head\", [\"Input\", \"Camera\"]]',\n",
    "    '[\"Neck Width\"]',\n",
    "    5, 0, 0\n",
    ");"
   ]
  },
  {
   "cell_type": "markdown",
   "id": "04526bf1",
   "metadata": {},
   "source": [
    "### Robots with nuclear cores have high-powered heads"
   ]
  },
  {
   "cell_type": "code",
   "execution_count": null,
   "id": "fb15067a",
   "metadata": {
    "vscode": {
     "languageId": "sql"
    }
   },
   "outputs": [],
   "source": [
    "%%sql\n",
    "\n",
    "-- Test: continuous effect on an attribute multiple levels down (including recursive)\n",
    "CALL add_continuous_effect(\n",
    "    'Robots with nuclear cores have high-powered heads',\n",
    "    'Robot',\n",
    "    '[[\"Power Source\", \"Nuclear Core\"]]',\n",
    "    '[\"Head\", \"Power-Level\"]',\n",
    "    90, 6, 4\n",
    ");"
   ]
  },
  {
   "cell_type": "markdown",
   "id": "4bc5db4e",
   "metadata": {},
   "source": [
    "### Robots with nuclear cores have high-powered torsos"
   ]
  },
  {
   "cell_type": "code",
   "execution_count": null,
   "id": "16d32058",
   "metadata": {
    "vscode": {
     "languageId": "sql"
    }
   },
   "outputs": [],
   "source": [
    "%%sql\n",
    "\n",
    "CALL add_continuous_effect(\n",
    "    'Robots with nuclear cores have high-powered torsos',\n",
    "    'Robot',\n",
    "    '[[\"Power Source\", \"Nuclear Core\"]]',\n",
    "    '[\"Torso\", \"Power-Level\"]',\n",
    "    90, 6, 4\n",
    ");"
   ]
  },
  {
   "cell_type": "markdown",
   "id": "dcdf6cfe",
   "metadata": {},
   "source": [
    "### Robots with nuclear cores have high-powered left legs"
   ]
  },
  {
   "cell_type": "code",
   "execution_count": null,
   "id": "97f401ec",
   "metadata": {
    "vscode": {
     "languageId": "sql"
    }
   },
   "outputs": [],
   "source": [
    "%%sql\n",
    "\n",
    "CALL add_continuous_effect(\n",
    "    'Robots with nuclear cores have high-powered left legs',\n",
    "    'Robot',\n",
    "    '[[\"Power Source\", \"Nuclear Core\"]]',\n",
    "    '[\"Left Leg\", \"Power-Level\"]',\n",
    "    90, 6, 4\n",
    ");"
   ]
  },
  {
   "cell_type": "markdown",
   "id": "57ae4259",
   "metadata": {},
   "source": [
    "### Robots with nuclear cores have high-powered right legs"
   ]
  },
  {
   "cell_type": "code",
   "execution_count": null,
   "id": "d0eb2d8c",
   "metadata": {
    "vscode": {
     "languageId": "sql"
    }
   },
   "outputs": [],
   "source": [
    "%%sql\n",
    "\n",
    "CALL add_continuous_effect(\n",
    "    'Robots with nuclear cores have high-powered right legs',\n",
    "    'Robot',\n",
    "    '[[\"Power Source\", \"Nuclear Core\"]]',\n",
    "    '[\"Right Leg\", \"Power-Level\"]',\n",
    "    90, 6, 4\n",
    ");"
   ]
  },
  {
   "cell_type": "markdown",
   "id": "698aaed9",
   "metadata": {},
   "source": [
    "### Robots with nuclear cores have high-powered right hands"
   ]
  },
  {
   "cell_type": "code",
   "execution_count": null,
   "id": "8f85ed1b",
   "metadata": {
    "vscode": {
     "languageId": "sql"
    }
   },
   "outputs": [],
   "source": [
    "%%sql\n",
    "\n",
    "CALL add_continuous_effect(\n",
    "    'Robots with nuclear cores have high-powered right hands',\n",
    "    'Robot',\n",
    "    '[[\"Power Source\", \"Nuclear Core\"]]',\n",
    "    '[\"Right Arm\", \"Hand\", \"Power-Level\"]',\n",
    "    90, 6, 4\n",
    ");"
   ]
  },
  {
   "cell_type": "markdown",
   "id": "d3703dcf",
   "metadata": {},
   "source": [
    "### Robots with nuclear cores have high-powered left hands"
   ]
  },
  {
   "cell_type": "code",
   "execution_count": null,
   "id": "89e33651",
   "metadata": {
    "vscode": {
     "languageId": "sql"
    }
   },
   "outputs": [],
   "source": [
    "%%sql\n",
    "\n",
    "CALL add_continuous_effect(\n",
    "    'Robots with nuclear cores have high-powered left hands',\n",
    "    'Robot',\n",
    "    '[[\"Power Source\", \"Nuclear Core\"]]',\n",
    "    '[\"Left Arm\", \"Hand\", \"Power-Level\"]',\n",
    "    90, 6, 4\n",
    ");"
   ]
  },
  {
   "cell_type": "markdown",
   "id": "794f2689",
   "metadata": {},
   "source": [
    "### Robots with nuclear cores have high-powered right sub-arm hands"
   ]
  },
  {
   "cell_type": "code",
   "execution_count": null,
   "id": "1beb957b",
   "metadata": {
    "vscode": {
     "languageId": "sql"
    }
   },
   "outputs": [],
   "source": [
    "%%sql\n",
    "\n",
    "CALL add_continuous_effect(\n",
    "    'Robots with nuclear cores have high-powered right sub-arm hands',\n",
    "    'Robot',\n",
    "    '[[\"Power Source\", \"Nuclear Core\"]]',\n",
    "    '[\"Right Arm\", [\"Sub-Arm\", \"Yes\"], \"Hand\", \"Power-Level\"]',\n",
    "    90, 6, 4\n",
    ");"
   ]
  },
  {
   "cell_type": "markdown",
   "id": "b1b61b56",
   "metadata": {},
   "source": [
    "### Robots with nuclear cores have high-powered left sub-arm hands"
   ]
  },
  {
   "cell_type": "code",
   "execution_count": null,
   "id": "2e765ef8",
   "metadata": {
    "vscode": {
     "languageId": "sql"
    }
   },
   "outputs": [],
   "source": [
    "%%sql\n",
    "\n",
    "CALL add_continuous_effect(\n",
    "    'Robots with nuclear cores have high-powered left sub-arm hands',\n",
    "    'Robot',\n",
    "    '[[\"Power Source\", \"Nuclear Core\"]]',\n",
    "    '[\"Left Arm\", [\"Sub-Arm\", \"Yes\"], \"Hand\", \"Power-Level\"]',\n",
    "    90, 6, 4\n",
    ");"
   ]
  },
  {
   "cell_type": "markdown",
   "id": "955f377e",
   "metadata": {},
   "source": [
    "### Robots with steel torsos have a higher weight"
   ]
  },
  {
   "cell_type": "code",
   "execution_count": null,
   "id": "194c00f6",
   "metadata": {
    "vscode": {
     "languageId": "sql"
    }
   },
   "outputs": [],
   "source": [
    "%%sql\n",
    "\n",
    "-- Test: continous effect on an attribute one level up\n",
    "CALL add_continuous_effect(\n",
    "    'Robots with steel torsos have a higher weight',\n",
    "    'Robot',\n",
    "    '[\"Torso\", [\"Material\", \"Steel\"]]',\n",
    "    '[\"Weight\"]',\n",
    "    50, 0, 2\n",
    ");"
   ]
  },
  {
   "cell_type": "markdown",
   "id": "998ae115",
   "metadata": {},
   "source": [
    "### Robots with iron torsos have a higher weight"
   ]
  },
  {
   "cell_type": "code",
   "execution_count": null,
   "id": "2ac948c3",
   "metadata": {
    "vscode": {
     "languageId": "sql"
    }
   },
   "outputs": [],
   "source": [
    "%%sql\n",
    "\n",
    "CALL add_continuous_effect(\n",
    "    'Robots with iron torsos have a higher weight',\n",
    "    'Robot',\n",
    "    '[\"Torso\", [\"Material\", \"Iron\"]]',\n",
    "    '[\"Weight\"]',\n",
    "    100, 0, 3\n",
    ");"
   ]
  },
  {
   "cell_type": "markdown",
   "id": "9e34b82b",
   "metadata": {},
   "source": [
    "### Grappler hands are more likely to be on metal arms"
   ]
  },
  {
   "cell_type": "code",
   "execution_count": null,
   "id": "a32cd7ba",
   "metadata": {
    "vscode": {
     "languageId": "sql"
    }
   },
   "outputs": [],
   "source": [
    "%%sql\n",
    "\n",
    "-- Test: discrete effect on an attribute one level up\n",
    "CALL add_discrete_effect(\n",
    "    'Grappler hands are more likely to be on metal arms',\n",
    "    'Arm',\n",
    "    '[\"Hand\", [\"Attachment\", \"Grappler\"]]',\n",
    "    '[\"Material\"]',\n",
    "    '[[\"Steel\", 5],\n",
    "      [\"Aluminum\", 5],\n",
    "      [\"Bronze\", 5],\n",
    "      [\"Iron\", 5],\n",
    "      [\"Carbon-Fiber\", 5]]',\n",
    "    true\n",
    ");"
   ]
  },
  {
   "cell_type": "markdown",
   "id": "b3452781",
   "metadata": {},
   "source": [
    "### Heads with kazoo outputs can be painted rainbow"
   ]
  },
  {
   "cell_type": "code",
   "execution_count": null,
   "id": "b2e217cb",
   "metadata": {
    "vscode": {
     "languageId": "sql"
    }
   },
   "outputs": [],
   "source": [
    "%%sql\n",
    "\n",
    "-- Test: discrete effect that adds new spans\n",
    "CALL add_discrete_effect(\n",
    "    'Heads with kazoo outputs can be painted rainbow',\n",
    "    'Head',\n",
    "    '[[\"Output\", \"Kazoo\"]]',\n",
    "    '[\"Paint\", \"Color\"]',\n",
    "    '[[\"Rainbow\", 100]]'\n",
    ");"
   ]
  },
  {
   "cell_type": "markdown",
   "id": "0399a659",
   "metadata": {},
   "source": [
    "### Get Variant"
   ]
  },
  {
   "cell_type": "code",
   "execution_count": null,
   "id": "506237dd",
   "metadata": {
    "vscode": {
     "languageId": "sql"
    }
   },
   "outputs": [],
   "source": [
    "%%sql\n",
    "\n",
    "SELECT * FROM get_variant('Robot', 4);"
   ]
  },
  {
   "cell_type": "markdown",
   "id": "40f0e3b6",
   "metadata": {},
   "source": [
    "### Generate Robots"
   ]
  },
  {
   "cell_type": "code",
   "execution_count": null,
   "id": "59bd9dc5",
   "metadata": {
    "vscode": {
     "languageId": "sql"
    }
   },
   "outputs": [],
   "source": [
    "%%sql\n",
    "\n",
    "CALL generate_entity_group('Robot', 'Test Robots 1', 'Robot %s', 10);"
   ]
  },
  {
   "cell_type": "markdown",
   "id": "130003bb",
   "metadata": {},
   "source": [
    "### Inspect Output"
   ]
  },
  {
   "cell_type": "code",
   "execution_count": null,
   "id": "606cfb7c",
   "metadata": {
    "vscode": {
     "languageId": "sql"
    }
   },
   "outputs": [],
   "source": [
    "%%sql\n",
    "\n",
    "SELECT * FROM get_entity_group_at_time('Test Robots 1', 0);"
   ]
  }
 ],
 "metadata": {
  "kernelspec": {
   "display_name": "jupyter-env",
   "language": "python",
   "name": "python3"
  },
  "language_info": {
   "codemirror_mode": {
    "name": "ipython",
    "version": 3
   },
   "file_extension": ".py",
   "mimetype": "text/x-python",
   "name": "python",
   "nbconvert_exporter": "python",
   "pygments_lexer": "ipython3",
   "version": "3.11.11"
  }
 },
 "nbformat": 4,
 "nbformat_minor": 5
}
