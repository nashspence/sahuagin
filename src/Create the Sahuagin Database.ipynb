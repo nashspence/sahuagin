{
 "cells": [
  {
   "cell_type": "markdown",
   "id": "454d1927",
   "metadata": {
    "jp-MarkdownHeadingCollapsed": true
   },
   "source": [
    "# Install Dependencies\n",
    "Install additional packages needed to run SQL command in Jupyter cells and send them to a Postgres database server."
   ]
  },
  {
   "cell_type": "markdown",
   "id": "0600e19b",
   "metadata": {},
   "source": [
    "## PostgreSQL\n",
    "Allows for a self-contained instance of PostresSQL for this notebook."
   ]
  },
  {
   "cell_type": "code",
   "execution_count": null,
   "id": "42a03f56",
   "metadata": {},
   "outputs": [],
   "source": [
    "%mamba install -y -c conda-forge postgresql=17 --quiet\n",
    "!psql --version"
   ]
  },
  {
   "cell_type": "markdown",
   "id": "2e9b79f9",
   "metadata": {},
   "source": [
    "## PostgreSQL Adapter for Python\n",
    "Essential for connecting and interacting with PostgreSQL databases from Python code in Jupyter notebooks."
   ]
  },
  {
   "cell_type": "code",
   "execution_count": null,
   "id": "00a39a5a",
   "metadata": {
    "jupyter": {
     "source_hidden": true
    }
   },
   "outputs": [],
   "source": [
    "%mamba install -c conda-forge psycopg2 -y --quiet\n",
    "!python -c \"import psycopg2; print(psycopg2.__version__)\""
   ]
  },
  {
   "cell_type": "markdown",
   "id": "3dd205f8",
   "metadata": {},
   "source": [
    "## Language Server Protocol for Jupyter\n",
    "Enables code completion, hover documentation, and real-time syntax checking for multiple languages in Jupyter notebooks, including SQL."
   ]
  },
  {
   "cell_type": "code",
   "execution_count": null,
   "id": "d8695fc9",
   "metadata": {},
   "outputs": [],
   "source": [
    "%mamba install -c conda-forge jupyterlab-lsp -y --quiet\n",
    "!jupyter labextension list\n",
    "!jupyter server extension list"
   ]
  },
  {
   "cell_type": "markdown",
   "id": "9d51630c",
   "metadata": {},
   "source": [
    "## Language Server for Python\n",
    "Provides real-time linting, code suggestions, and auto-completion in Jupyter notebooks for Python code."
   ]
  },
  {
   "cell_type": "code",
   "execution_count": null,
   "id": "54f524e2",
   "metadata": {},
   "outputs": [],
   "source": [
    "%mamba install -c conda-forge python-lsp-server -y --quiet\n",
    "!pylsp --version"
   ]
  },
  {
   "cell_type": "markdown",
   "id": "25a1410c",
   "metadata": {},
   "source": [
    "## SQL Magic Extension for Jupyter\n",
    "Allows running SQL queries directly in Jupyter notebooks using SQL magic (%%sql). Enables seamless execution of SQL queries inside a Jupyter Notebook without switching to a database client."
   ]
  },
  {
   "cell_type": "code",
   "execution_count": null,
   "id": "9975a9cb",
   "metadata": {},
   "outputs": [],
   "source": [
    "%mamba install -c conda-forge jupysql -y --quiet\n",
    "!python -c \"import sql; print(sql.__version__)\"\n",
    "!jupyter labextension list"
   ]
  },
  {
   "cell_type": "markdown",
   "id": "43b047d9",
   "metadata": {},
   "source": [
    "## SQL Editor Extension\n",
    "Enables SQL-specific features in Jupyter notebooks, such as:\n",
    "* Syntax highlighting\n",
    "* Query auto-completion\n",
    "* Error checking"
   ]
  },
  {
   "cell_type": "code",
   "execution_count": null,
   "id": "16d489df",
   "metadata": {},
   "outputs": [],
   "source": [
    "%pip install jupyterlab_sql_editor --quiet\n",
    "!jupyter labextension list"
   ]
  },
  {
   "cell_type": "markdown",
   "id": "617aed9a",
   "metadata": {
    "jp-MarkdownHeadingCollapsed": true
   },
   "source": [
    "# Start PostgreSQL"
   ]
  },
  {
   "cell_type": "markdown",
   "id": "03c3464e",
   "metadata": {},
   "source": [
    "## Define paths and logfile"
   ]
  },
  {
   "cell_type": "code",
   "execution_count": null,
   "id": "e8d57513",
   "metadata": {},
   "outputs": [],
   "source": [
    "import os\n",
    "\n",
    "DB_DIR = \"mylocal_db\"\n",
    "LOGFILE = \"postgres_log.txt\"\n",
    "PG_HBA_PATH = os.path.join(DB_DIR, \"pg_hba.conf\")"
   ]
  },
  {
   "cell_type": "markdown",
   "id": "b9a57066",
   "metadata": {},
   "source": [
    "## Check PostgreSQL status"
   ]
  },
  {
   "cell_type": "code",
   "execution_count": null,
   "id": "9492f395",
   "metadata": {},
   "outputs": [],
   "source": [
    "!pg_ctl -D $DB_DIR status"
   ]
  },
  {
   "cell_type": "markdown",
   "id": "de7284f6",
   "metadata": {},
   "source": [
    "## Stop any existing PostgreSQL process"
   ]
  },
  {
   "cell_type": "code",
   "execution_count": null,
   "id": "0556ea23",
   "metadata": {},
   "outputs": [],
   "source": [
    "!pg_ctl stop -D $DB_DIR -m fast || echo \"Nothing to stop.\""
   ]
  },
  {
   "cell_type": "markdown",
   "id": "18242e19",
   "metadata": {},
   "source": [
    "## Initialize the database if necessary"
   ]
  },
  {
   "cell_type": "code",
   "execution_count": null,
   "id": "00979310",
   "metadata": {},
   "outputs": [],
   "source": [
    "import os\n",
    "\n",
    "if not os.path.exists(DB_DIR) or not os.path.exists(os.path.join(DB_DIR, \"PG_VERSION\")):\n",
    "    os.makedirs(DB_DIR, exist_ok=True)\n",
    "    !initdb -D $DB_DIR"
   ]
  },
  {
   "cell_type": "markdown",
   "id": "26cab865",
   "metadata": {},
   "source": [
    "## Modify pg_hba.conf to allow trust authentication for user \"notebook\""
   ]
  },
  {
   "cell_type": "code",
   "execution_count": null,
   "id": "bccaaf4a",
   "metadata": {},
   "outputs": [],
   "source": [
    "with open(PG_HBA_PATH, \"a\") as pg_hba:\n",
    "    pg_hba.write(\"\\nlocal   all             notebook                                trust\\n\")\n",
    "    pg_hba.write(\"host    all             notebook        127.0.0.1/32          trust\\n\")\n",
    "    pg_hba.write(\"host    all             notebook        ::1/128               trust\\n\")"
   ]
  },
  {
   "cell_type": "markdown",
   "id": "57b39d1a",
   "metadata": {},
   "source": [
    "## Start PostgreSQL server"
   ]
  },
  {
   "cell_type": "code",
   "execution_count": null,
   "id": "a9ebdbaf",
   "metadata": {},
   "outputs": [],
   "source": [
    "import subprocess\n",
    "import time\n",
    "import atexit\n",
    "\n",
    "def stop_postgres():\n",
    "    !pg_ctl -D $DB_DIR stop\n",
    "\n",
    "atexit.register(stop_postgres)\n",
    "\n",
    "with open(LOGFILE, \"a\") as logfile:\n",
    "    subprocess.Popen([\"pg_ctl\", \"-D\", DB_DIR, \"-l\", LOGFILE, \"start\"],\n",
    "                     stdout=logfile, stderr=logfile)\n",
    "time.sleep(5)"
   ]
  },
  {
   "cell_type": "markdown",
   "id": "2c905567",
   "metadata": {},
   "source": [
    "## Create the \"notebook\" user with full permissions"
   ]
  },
  {
   "cell_type": "code",
   "execution_count": null,
   "id": "1a0fa416",
   "metadata": {
    "vscode": {
     "languageId": "shellscript"
    }
   },
   "outputs": [],
   "source": [
    "!psql -d postgres -c \"CREATE USER notebook WITH SUPERUSER;\" || echo \"User already exists.\"\n",
    "!psql -d postgres -c \"ALTER USER notebook WITH PASSWORD NULL;\""
   ]
  },
  {
   "cell_type": "markdown",
   "id": "44fcff62",
   "metadata": {
    "jp-MarkdownHeadingCollapsed": true
   },
   "source": [
    "# Connect"
   ]
  },
  {
   "cell_type": "markdown",
   "id": "d6825d93",
   "metadata": {},
   "source": [
    "## Load & Configure SQLMagic"
   ]
  },
  {
   "cell_type": "code",
   "execution_count": null,
   "id": "6e8dcd5b",
   "metadata": {},
   "outputs": [],
   "source": [
    "%load_ext sql\n",
    "%config SqlMagic.displaylimit = None"
   ]
  },
  {
   "cell_type": "markdown",
   "id": "10c250dd",
   "metadata": {},
   "source": [
    "## Create Fresh sahuagin Database"
   ]
  },
  {
   "cell_type": "code",
   "execution_count": null,
   "id": "0e68c179",
   "metadata": {},
   "outputs": [],
   "source": [
    "%sql postgresql://notebook@localhost:5432/postgres\n",
    "%sql SELECT pg_terminate_backend(pg_stat_activity.pid) FROM pg_stat_activity WHERE pg_stat_activity.datname = 'sahuagin';\n",
    "%sql DROP DATABASE IF EXISTS sahuagin;\n",
    "%sql CREATE DATABASE sahuagin;"
   ]
  },
  {
   "cell_type": "markdown",
   "id": "26cf3d20",
   "metadata": {},
   "source": [
    "## Connect to sahuagin Database"
   ]
  },
  {
   "cell_type": "code",
   "execution_count": null,
   "id": "4199fc7c-d1ca-4342-8f5f-b731790c7bcd",
   "metadata": {},
   "outputs": [],
   "source": [
    "%sql postgresql://notebook@localhost:5432/sahuagin"
   ]
  },
  {
   "cell_type": "markdown",
   "id": "30435a1a",
   "metadata": {},
   "source": [
    "# Create Tables & Types"
   ]
  },
  {
   "cell_type": "markdown",
   "id": "f698e65d",
   "metadata": {},
   "source": [
    "## Attribute Type"
   ]
  },
  {
   "cell_type": "code",
   "execution_count": null,
   "id": "681cf2b1-ce90-42f7-bcb5-b254c27d6f18",
   "metadata": {
    "editable": true,
    "slideshow": {
     "slide_type": ""
    },
    "tags": [],
    "vscode": {
     "languageId": "sql"
    }
   },
   "outputs": [],
   "source": [
    "%%sql\n",
    "\n",
    "DROP TYPE IF EXISTS attribute_type CASCADE;\n",
    "CREATE TYPE attribute_type AS ENUM ('discrete','continuous');"
   ]
  },
  {
   "cell_type": "markdown",
   "id": "48c53a4c",
   "metadata": {},
   "source": [
    "## Attribute"
   ]
  },
  {
   "cell_type": "code",
   "execution_count": null,
   "id": "59a3bb70",
   "metadata": {
    "vscode": {
     "languageId": "sql"
    }
   },
   "outputs": [],
   "source": [
    "%%sql\n",
    "\n",
    "DROP TABLE IF EXISTS attribute CASCADE;\n",
    "CREATE TABLE attribute (\n",
    "    id integer GENERATED ALWAYS AS IDENTITY PRIMARY KEY,\n",
    "    name varchar(255) NOT NULL UNIQUE,\n",
    "    type attribute_type NOT NULL,\n",
    "    decimals integer,\n",
    "    has_labels boolean,\n",
    "    has_value boolean,\n",
    "    max_value double precision,\n",
    "    min_value double precision,\n",
    "    mode_value double precision,\n",
    "    concentration double precision,\n",
    "    skew double precision,\n",
    "    units varchar(255),\n",
    "    CHECK (\n",
    "        max_value IS NULL\n",
    "        OR min_value IS NULL\n",
    "        OR max_value >= min_value\n",
    "    ),\n",
    "    CHECK (\n",
    "        (\n",
    "            type = 'discrete'\n",
    "            AND decimals IS NULL\n",
    "            AND has_labels IS NULL\n",
    "            AND has_value IS NULL\n",
    "            AND max_value IS NULL\n",
    "            AND min_value IS NULL\n",
    "            AND mode_value IS NULL\n",
    "            AND concentration IS NULL\n",
    "            AND skew IS NULL\n",
    "            AND units IS NULL\n",
    "        )\n",
    "        OR (\n",
    "            type = 'continuous'\n",
    "            AND decimals IS NOT NULL\n",
    "            AND has_labels IS NOT NULL\n",
    "            AND has_value IS NOT NULL\n",
    "            AND max_value IS NOT NULL\n",
    "            AND min_value IS NOT NULL\n",
    "            AND mode_value IS NOT NULL\n",
    "            AND concentration IS NOT NULL\n",
    "            AND skew IS NOT NULL\n",
    "        )\n",
    "    )\n",
    ");"
   ]
  },
  {
   "cell_type": "markdown",
   "id": "7d9479d0",
   "metadata": {},
   "source": [
    "## Span"
   ]
  },
  {
   "cell_type": "code",
   "execution_count": null,
   "id": "65160534",
   "metadata": {
    "vscode": {
     "languageId": "sql"
    }
   },
   "outputs": [],
   "source": [
    "%%sql\n",
    "\n",
    "DROP TABLE IF EXISTS span CASCADE;\n",
    "CREATE TABLE span (\n",
    "    id integer GENERATED ALWAYS AS IDENTITY PRIMARY KEY,\n",
    "    attribute_id integer NOT NULL,\n",
    "    label varchar(255) NOT NULL,\n",
    "    type attribute_type NOT NULL,\n",
    "    is_percentage_pinned boolean,\n",
    "    weight double precision,\n",
    "    max_value double precision,\n",
    "    min_value double precision,\n",
    "    CONSTRAINT unique_attribute_type_label UNIQUE (attribute_id, type, label),\n",
    "    CONSTRAINT fk_spans_attr FOREIGN KEY (attribute_id) REFERENCES attribute (id) ON DELETE CASCADE,\n",
    "    CHECK (\n",
    "        max_value IS NULL\n",
    "        OR min_value IS NULL\n",
    "        OR max_value >= min_value\n",
    "    ),\n",
    "    CHECK (\n",
    "        (\n",
    "            type = 'discrete'\n",
    "            AND is_percentage_pinned IS NOT NULL\n",
    "            AND weight IS NOT NULL\n",
    "            AND max_value IS NULL\n",
    "            AND min_value IS NULL\n",
    "        )\n",
    "        OR (\n",
    "            type = 'continuous'\n",
    "            AND is_percentage_pinned IS NULL\n",
    "            AND weight IS NULL\n",
    "            AND max_value IS NOT NULL\n",
    "            AND min_value IS NOT NULL\n",
    "        )\n",
    "    )\n",
    ");"
   ]
  },
  {
   "cell_type": "markdown",
   "id": "03ca0f0c",
   "metadata": {},
   "source": [
    "## Variant"
   ]
  },
  {
   "cell_type": "code",
   "execution_count": null,
   "id": "c12fd699",
   "metadata": {
    "vscode": {
     "languageId": "sql"
    }
   },
   "outputs": [],
   "source": [
    "%%sql\n",
    "\n",
    "DROP TABLE IF EXISTS variant CASCADE;\n",
    "CREATE TABLE variant (\n",
    "    id integer GENERATED ALWAYS AS IDENTITY PRIMARY KEY,\n",
    "    name varchar(255) NOT NULL UNIQUE\n",
    ");"
   ]
  },
  {
   "cell_type": "markdown",
   "id": "e89eace0",
   "metadata": {},
   "source": [
    "## Variant Attribute"
   ]
  },
  {
   "cell_type": "code",
   "execution_count": null,
   "id": "ff41d997",
   "metadata": {
    "vscode": {
     "languageId": "sql"
    }
   },
   "outputs": [],
   "source": [
    "%%sql\n",
    "\n",
    "DROP TABLE IF EXISTS variant_attribute CASCADE;\n",
    "CREATE TABLE variant_attribute (\n",
    "    id integer GENERATED ALWAYS AS IDENTITY PRIMARY KEY,\n",
    "    attribute_id integer NOT NULL,\n",
    "    name varchar(255) NOT NULL,\n",
    "    causation_index integer NOT NULL,\n",
    "    variant_id integer NOT NULL,\n",
    "    CONSTRAINT unique_variant_name UNIQUE (variant_id, name),\n",
    "    CONSTRAINT unique_variant_index UNIQUE (variant_id, causation_index),\n",
    "    CONSTRAINT fk_variant_attr_attr FOREIGN KEY (attribute_id) REFERENCES attribute (id) ON DELETE CASCADE,\n",
    "    CONSTRAINT fk_variant_attr_variant FOREIGN KEY (variant_id) REFERENCES variant (id) ON DELETE CASCADE\n",
    ");"
   ]
  },
  {
   "cell_type": "markdown",
   "id": "c55ec04e",
   "metadata": {},
   "source": [
    "## Sub-Variant Activating Span"
   ]
  },
  {
   "cell_type": "code",
   "execution_count": null,
   "id": "7be1778e",
   "metadata": {
    "vscode": {
     "languageId": "sql"
    }
   },
   "outputs": [],
   "source": [
    "%%sql\n",
    "\n",
    "DROP TABLE IF EXISTS variant_attr_span CASCADE;\n",
    "CREATE TABLE variant_attr_span (\n",
    "    id integer GENERATED ALWAYS AS IDENTITY PRIMARY KEY,\n",
    "    span_id integer NOT NULL,\n",
    "    variant_attribute_id integer NOT NULL,\n",
    "    variant_id integer NOT NULL,\n",
    "    CONSTRAINT unique_variant_attribute_span UNIQUE (variant_id, variant_attribute_id, span_id),\n",
    "    CONSTRAINT fk_varattr_span_span FOREIGN KEY (span_id) REFERENCES span (id) ON DELETE CASCADE,\n",
    "    CONSTRAINT fk_varattr_span_varattr FOREIGN KEY (variant_attribute_id) REFERENCES variant_attribute (id) ON DELETE CASCADE,\n",
    "    CONSTRAINT fk_varattr_span_variant FOREIGN KEY (variant_id) REFERENCES variant (id) ON DELETE CASCADE\n",
    ");"
   ]
  },
  {
   "cell_type": "markdown",
   "id": "a50b0e7b",
   "metadata": {},
   "source": [
    "## Variant Attribute Reference"
   ]
  },
  {
   "cell_type": "code",
   "execution_count": null,
   "id": "74f337a2",
   "metadata": {
    "vscode": {
     "languageId": "sql"
    }
   },
   "outputs": [],
   "source": [
    "%%sql\n",
    "\n",
    "DROP TABLE IF EXISTS vavspan_attr CASCADE;\n",
    "CREATE TABLE vavspan_attr (\n",
    "    id integer GENERATED ALWAYS AS IDENTITY PRIMARY KEY,\n",
    "    variant_attribute_id integer NOT NULL,\n",
    "    variant_attr_span_id integer,\n",
    "    CONSTRAINT unique_variant_attribute UNIQUE (variant_attr_span_id, variant_attribute_id),\n",
    "    CONSTRAINT fk_vavspan_attr_va FOREIGN KEY (variant_attribute_id) REFERENCES variant_attribute (id) ON DELETE CASCADE,\n",
    "    CONSTRAINT fk_vavspan_attr_vas FOREIGN KEY (variant_attr_span_id) REFERENCES variant_attr_span (id) ON DELETE CASCADE\n",
    ");"
   ]
  },
  {
   "cell_type": "markdown",
   "id": "5eb8e85f",
   "metadata": {},
   "source": [
    "## Variation"
   ]
  },
  {
   "cell_type": "code",
   "execution_count": null,
   "id": "c8c1c9aa",
   "metadata": {
    "vscode": {
     "languageId": "sql"
    }
   },
   "outputs": [],
   "source": [
    "%%sql\n",
    "\n",
    "DROP TABLE IF EXISTS variation CASCADE;\n",
    "CREATE TABLE variation (\n",
    "    id integer GENERATED ALWAYS AS IDENTITY PRIMARY KEY,\n",
    "    activating_span_id integer NOT NULL,\n",
    "    to_modify_vavspan_attr_id integer NOT NULL,\n",
    "    activating_vavspan_attr_id integer NOT NULL,\n",
    "    is_inactive boolean NOT NULL DEFAULT false,\n",
    "    CONSTRAINT unique_span_to_attribute UNIQUE (activating_span_id, activating_vavspan_attr_id, to_modify_vavspan_attr_id),\n",
    "    CONSTRAINT fk_variation_span FOREIGN KEY (activating_span_id) REFERENCES span (id) ON DELETE CASCADE,\n",
    "    CONSTRAINT fk_variation_vavspan_to_modify FOREIGN KEY (to_modify_vavspan_attr_id) REFERENCES vavspan_attr (id) ON DELETE CASCADE,\n",
    "    CONSTRAINT fk_variation_vavspan_activating FOREIGN KEY (activating_vavspan_attr_id) REFERENCES vavspan_attr (id) ON DELETE CASCADE\n",
    ");"
   ]
  },
  {
   "cell_type": "markdown",
   "id": "639f2865",
   "metadata": {},
   "source": [
    "## Delta Parameter Effect"
   ]
  },
  {
   "cell_type": "code",
   "execution_count": null,
   "id": "56fcea4a",
   "metadata": {
    "vscode": {
     "languageId": "sql"
    }
   },
   "outputs": [],
   "source": [
    "%%sql\n",
    "\n",
    "DROP TABLE IF EXISTS variation_continuous_attr CASCADE;\n",
    "CREATE TABLE variation_continuous_attr (\n",
    "    id integer GENERATED ALWAYS AS IDENTITY PRIMARY KEY,\n",
    "    variation_id integer NOT NULL,\n",
    "    delta_mode double precision NOT NULL,\n",
    "    delta_conc double precision NOT NULL,\n",
    "    delta_skew double precision NOT NULL,\n",
    "    CONSTRAINT fk_var_continuous_attr_var FOREIGN KEY (variation_id) REFERENCES variation (id) ON DELETE CASCADE\n",
    ");"
   ]
  },
  {
   "cell_type": "markdown",
   "id": "016948ea",
   "metadata": {},
   "source": [
    "## Additional Possibility Effect"
   ]
  },
  {
   "cell_type": "code",
   "execution_count": null,
   "id": "24a18b28",
   "metadata": {
    "vscode": {
     "languageId": "sql"
    }
   },
   "outputs": [],
   "source": [
    "%%sql\n",
    "\n",
    "DROP TABLE IF EXISTS variation_activated_span CASCADE;\n",
    "CREATE TABLE variation_activated_span (\n",
    "    id integer GENERATED ALWAYS AS IDENTITY PRIMARY KEY,\n",
    "    span_id integer NOT NULL,\n",
    "    variation_id integer NOT NULL,\n",
    "    CONSTRAINT unique_active_variation_span UNIQUE (variation_id, span_id),\n",
    "    CONSTRAINT fk_var_activated_span_span FOREIGN KEY (span_id) REFERENCES span (id) ON DELETE CASCADE,\n",
    "    CONSTRAINT fk_var_activated_span_var FOREIGN KEY (variation_id) REFERENCES variation (id) ON DELETE CASCADE\n",
    ");"
   ]
  },
  {
   "cell_type": "markdown",
   "id": "3decf278",
   "metadata": {},
   "source": [
    "## Delta Weight Effect"
   ]
  },
  {
   "cell_type": "code",
   "execution_count": null,
   "id": "db5aa316",
   "metadata": {
    "vscode": {
     "languageId": "sql"
    }
   },
   "outputs": [],
   "source": [
    "%%sql\n",
    "\n",
    "DROP TABLE IF EXISTS variation_delta_weight CASCADE;\n",
    "CREATE TABLE variation_delta_weight (\n",
    "    id integer GENERATED ALWAYS AS IDENTITY PRIMARY KEY,\n",
    "    delta_weight double precision NOT NULL,\n",
    "    span_id integer NOT NULL,\n",
    "    variation_id integer NOT NULL,\n",
    "    CONSTRAINT fk_var_delta_weight_span FOREIGN KEY (span_id) REFERENCES span (id) ON DELETE CASCADE,\n",
    "    CONSTRAINT fk_var_delta_weight_var FOREIGN KEY (variation_id) REFERENCES variation (id) ON DELETE CASCADE\n",
    ");"
   ]
  },
  {
   "cell_type": "markdown",
   "id": "d79108e8",
   "metadata": {},
   "source": [
    "## Removed Possibility Effect"
   ]
  },
  {
   "cell_type": "code",
   "execution_count": null,
   "id": "265494cc",
   "metadata": {
    "vscode": {
     "languageId": "sql"
    }
   },
   "outputs": [],
   "source": [
    "%%sql\n",
    "\n",
    "DROP TABLE IF EXISTS variation_inactive_span CASCADE;\n",
    "CREATE TABLE variation_inactive_span (\n",
    "    id integer GENERATED ALWAYS AS IDENTITY PRIMARY KEY,\n",
    "    span_id integer NOT NULL,\n",
    "    variation_id integer NOT NULL,\n",
    "    CONSTRAINT unique_inactive_variation_span UNIQUE (variation_id, span_id),\n",
    "    CONSTRAINT fk_var_inactive_span_span FOREIGN KEY (span_id) REFERENCES span (id) ON DELETE CASCADE,\n",
    "    CONSTRAINT fk_var_inactive_span_var FOREIGN KEY (variation_id) REFERENCES variation (id) ON DELETE CASCADE\n",
    ");"
   ]
  },
  {
   "cell_type": "markdown",
   "id": "feba2df8",
   "metadata": {},
   "source": [
    "## Entity"
   ]
  },
  {
   "cell_type": "code",
   "execution_count": null,
   "id": "7dc7fcaf",
   "metadata": {
    "vscode": {
     "languageId": "sql"
    }
   },
   "outputs": [],
   "source": [
    "%%sql\n",
    "\n",
    "DROP TABLE IF EXISTS entity CASCADE;\n",
    "CREATE TABLE entity (\n",
    "    id integer GENERATED ALWAYS AS IDENTITY PRIMARY KEY,\n",
    "    variant_id integer NOT NULL,\n",
    "    name varchar(255) NOT NULL UNIQUE,\n",
    "    CONSTRAINT fk_entity_variant FOREIGN KEY (variant_id) REFERENCES variant (id) ON DELETE CASCADE\n",
    ");"
   ]
  },
  {
   "cell_type": "markdown",
   "id": "758ef38b",
   "metadata": {},
   "source": [
    "## Entity Group"
   ]
  },
  {
   "cell_type": "code",
   "execution_count": null,
   "id": "aac08d60",
   "metadata": {
    "vscode": {
     "languageId": "sql"
    }
   },
   "outputs": [],
   "source": [
    "%%sql\n",
    "\n",
    "DROP TABLE IF EXISTS entity_group CASCADE;\n",
    "CREATE TABLE entity_group (\n",
    "    id integer GENERATED ALWAYS AS IDENTITY PRIMARY KEY,\n",
    "    name varchar(255) NOT NULL UNIQUE\n",
    ");"
   ]
  },
  {
   "cell_type": "markdown",
   "id": "5eee51f3",
   "metadata": {},
   "source": [
    "## Entity Group Link"
   ]
  },
  {
   "cell_type": "code",
   "execution_count": null,
   "id": "2a9e663c",
   "metadata": {
    "vscode": {
     "languageId": "sql"
    }
   },
   "outputs": [],
   "source": [
    "%%sql\n",
    "\n",
    "DROP TABLE IF EXISTS entity_group_link CASCADE;\n",
    "CREATE TABLE entity_group_link (\n",
    "    id integer GENERATED ALWAYS AS IDENTITY PRIMARY KEY,\n",
    "    entity_id integer NOT NULL,\n",
    "    entity_group_id integer NOT NULL,\n",
    "    CONSTRAINT unique_link_entity_group UNIQUE (entity_group_id, entity_id),\n",
    "    CONSTRAINT fk_entity FOREIGN KEY (entity_id) REFERENCES entity (id) ON DELETE CASCADE,\n",
    "    CONSTRAINT fk_entity_group FOREIGN KEY (entity_group_id) REFERENCES entity_group (id) ON DELETE CASCADE\n",
    ");"
   ]
  },
  {
   "cell_type": "markdown",
   "id": "7c317c6c",
   "metadata": {},
   "source": [
    "## Entity State"
   ]
  },
  {
   "cell_type": "code",
   "execution_count": null,
   "id": "d811909c",
   "metadata": {
    "vscode": {
     "languageId": "sql"
    }
   },
   "outputs": [],
   "source": [
    "%%sql\n",
    "\n",
    "DROP TABLE IF EXISTS entity_state CASCADE;\n",
    "CREATE TABLE entity_state (\n",
    "    id integer GENERATED ALWAYS AS IDENTITY PRIMARY KEY,\n",
    "    entity_id integer NOT NULL,\n",
    "    time double precision NOT NULL,\n",
    "    CONSTRAINT unique_entity_time UNIQUE (entity_id, time),\n",
    "    CONSTRAINT fk_entity FOREIGN KEY (entity_id) REFERENCES entity (id) ON DELETE CASCADE\n",
    ");"
   ]
  },
  {
   "cell_type": "markdown",
   "id": "f6f9ad4d",
   "metadata": {},
   "source": [
    "## Attribute Value"
   ]
  },
  {
   "cell_type": "code",
   "execution_count": null,
   "id": "785b96c2",
   "metadata": {
    "vscode": {
     "languageId": "sql"
    }
   },
   "outputs": [],
   "source": [
    "%%sql\n",
    "\n",
    "DROP TABLE IF EXISTS entity_varattr_value CASCADE;\n",
    "CREATE TABLE entity_varattr_value (\n",
    "    id integer GENERATED ALWAYS AS IDENTITY PRIMARY KEY,\n",
    "    entity_state_id integer NOT NULL,\n",
    "    numeric_value double precision,\n",
    "    span_id integer,\n",
    "    vavspan_attr_id integer NOT NULL,\n",
    "    CONSTRAINT unique_state_vavspan_attr UNIQUE (entity_state_id, vavspan_attr_id),\n",
    "    CONSTRAINT fk_evav_entity_state FOREIGN KEY (entity_state_id) REFERENCES entity_state (id) ON DELETE CASCADE,\n",
    "    CONSTRAINT fk_evav_span FOREIGN KEY (span_id) REFERENCES span (id) ON DELETE CASCADE,\n",
    "    CONSTRAINT fk_evav_vavspan_attr FOREIGN KEY (vavspan_attr_id) REFERENCES vavspan_attr (id) ON DELETE CASCADE\n",
    ");"
   ]
  },
  {
   "cell_type": "markdown",
   "id": "93eeef51",
   "metadata": {},
   "source": [
    "## Attribute Value Lock"
   ]
  },
  {
   "cell_type": "code",
   "execution_count": null,
   "id": "b2406d91",
   "metadata": {
    "vscode": {
     "languageId": "sql"
    }
   },
   "outputs": [],
   "source": [
    "%%sql\n",
    "\n",
    "DROP TABLE IF EXISTS evav_lock CASCADE;\n",
    "CREATE TABLE evav_lock (\n",
    "    id integer GENERATED ALWAYS AS IDENTITY PRIMARY KEY,\n",
    "    locked_evav_id integer NOT NULL,\n",
    "    locking_evav_id integer,\n",
    "    CONSTRAINT unique_evav_lock UNIQUE (locking_evav_id, locked_evav_id),\n",
    "    CONSTRAINT fk_evav_lock_locked_evav FOREIGN KEY (locked_evav_id) REFERENCES entity_varattr_value (id) ON DELETE CASCADE,\n",
    "    CONSTRAINT fk_evav_lock_locking_evav FOREIGN KEY (locking_evav_id) REFERENCES entity_varattr_value (id) ON DELETE CASCADE\n",
    ");"
   ]
  },
  {
   "cell_type": "markdown",
   "id": "488b2a50",
   "metadata": {
    "jp-MarkdownHeadingCollapsed": true
   },
   "source": [
    "# Create Indexes"
   ]
  },
  {
   "cell_type": "markdown",
   "id": "8d4ca730",
   "metadata": {},
   "source": [
    "## idx_attribute_name"
   ]
  },
  {
   "cell_type": "code",
   "execution_count": null,
   "id": "dfab96a4",
   "metadata": {
    "vscode": {
     "languageId": "sql"
    }
   },
   "outputs": [],
   "source": [
    "%%sql\n",
    "\n",
    "DROP INDEX IF EXISTS idx_attribute_name;\n",
    "CREATE INDEX idx_attribute_name ON attribute (name);"
   ]
  },
  {
   "cell_type": "markdown",
   "id": "89b87c60",
   "metadata": {},
   "source": [
    "## idx_span_attribute_id"
   ]
  },
  {
   "cell_type": "code",
   "execution_count": null,
   "id": "cb0c2059",
   "metadata": {
    "vscode": {
     "languageId": "sql"
    }
   },
   "outputs": [],
   "source": [
    "%%sql\n",
    "\n",
    "DROP INDEX IF EXISTS idx_span_attribute_id;\n",
    "CREATE INDEX idx_span_attribute_id ON span (attribute_id);"
   ]
  },
  {
   "cell_type": "markdown",
   "id": "86077903",
   "metadata": {},
   "source": [
    "## idx_span_attribute_type"
   ]
  },
  {
   "cell_type": "code",
   "execution_count": null,
   "id": "864438fb",
   "metadata": {
    "vscode": {
     "languageId": "sql"
    }
   },
   "outputs": [],
   "source": [
    "%%sql\n",
    "\n",
    "DROP INDEX IF EXISTS idx_span_attribute_type;\n",
    "CREATE INDEX idx_span_attribute_type ON span(attribute_id, type, id);"
   ]
  },
  {
   "cell_type": "markdown",
   "id": "46dddbc2",
   "metadata": {},
   "source": [
    "## idx_span_attr_type"
   ]
  },
  {
   "cell_type": "code",
   "execution_count": null,
   "id": "4d75bad1",
   "metadata": {
    "vscode": {
     "languageId": "sql"
    }
   },
   "outputs": [],
   "source": [
    "%%sql\n",
    "\n",
    "DROP INDEX IF EXISTS idx_span_attr_type;\n",
    "CREATE INDEX idx_span_attr_type ON span(attribute_id, type, min_value, max_value);"
   ]
  },
  {
   "cell_type": "markdown",
   "id": "8d7b9005",
   "metadata": {},
   "source": [
    "## idx_span_attr_type_pinned"
   ]
  },
  {
   "cell_type": "code",
   "execution_count": null,
   "id": "20802af5",
   "metadata": {
    "vscode": {
     "languageId": "sql"
    }
   },
   "outputs": [],
   "source": [
    "%%sql\n",
    "\n",
    "DROP INDEX IF EXISTS idx_span_attr_type_pinned;\n",
    "CREATE INDEX idx_span_attr_type_pinned ON span(attribute_id, type, is_percentage_pinned);"
   ]
  },
  {
   "cell_type": "markdown",
   "id": "0cadc3f3",
   "metadata": {},
   "source": [
    "## idx_span_attr_type_pinned_wl"
   ]
  },
  {
   "cell_type": "code",
   "execution_count": null,
   "id": "a678d4d2",
   "metadata": {
    "vscode": {
     "languageId": "sql"
    }
   },
   "outputs": [],
   "source": [
    "%%sql\n",
    "\n",
    "DROP INDEX IF EXISTS idx_span_attr_type_pinned_wl;\n",
    "CREATE INDEX idx_span_attr_type_pinned_wl ON span(attribute_id, type, is_percentage_pinned, weight, label);"
   ]
  },
  {
   "cell_type": "markdown",
   "id": "67a3329d",
   "metadata": {},
   "source": [
    "## idx_variant_name"
   ]
  },
  {
   "cell_type": "code",
   "execution_count": null,
   "id": "e1c51655",
   "metadata": {
    "vscode": {
     "languageId": "sql"
    }
   },
   "outputs": [],
   "source": [
    "%%sql\n",
    "\n",
    "DROP INDEX IF EXISTS idx_variant_name;\n",
    "CREATE INDEX idx_variant_name ON variant (name);"
   ]
  },
  {
   "cell_type": "markdown",
   "id": "a979615f",
   "metadata": {},
   "source": [
    "## idx_variant_attribute_attribute"
   ]
  },
  {
   "cell_type": "code",
   "execution_count": null,
   "id": "b9410268",
   "metadata": {
    "vscode": {
     "languageId": "sql"
    }
   },
   "outputs": [],
   "source": [
    "%%sql\n",
    "\n",
    "DROP INDEX IF EXISTS idx_variant_attribute_attribute;\n",
    "CREATE INDEX idx_variant_attribute_attribute ON variant_attribute (attribute_id);"
   ]
  },
  {
   "cell_type": "markdown",
   "id": "291fb0e1",
   "metadata": {},
   "source": [
    "## idx_variant_attribute_variant"
   ]
  },
  {
   "cell_type": "code",
   "execution_count": null,
   "id": "1884c6df",
   "metadata": {
    "vscode": {
     "languageId": "sql"
    }
   },
   "outputs": [],
   "source": [
    "%%sql\n",
    "\n",
    "DROP INDEX IF EXISTS idx_variant_attribute_variant;\n",
    "CREATE INDEX idx_variant_attribute_variant ON variant_attribute (variant_id);"
   ]
  },
  {
   "cell_type": "markdown",
   "id": "d4fa6103",
   "metadata": {},
   "source": [
    "## idx_variant_attribute_variant_causation"
   ]
  },
  {
   "cell_type": "code",
   "execution_count": null,
   "id": "3316a90f",
   "metadata": {
    "vscode": {
     "languageId": "sql"
    }
   },
   "outputs": [],
   "source": [
    "%%sql\n",
    "\n",
    "DROP INDEX IF EXISTS idx_variant_attribute_variant_causation;\n",
    "CREATE INDEX idx_variant_attribute_variant_causation ON variant_attribute (variant_id, causation_index);"
   ]
  },
  {
   "cell_type": "markdown",
   "id": "3e09c8eb",
   "metadata": {},
   "source": [
    "## idx_variant_attr_span_span_id"
   ]
  },
  {
   "cell_type": "code",
   "execution_count": null,
   "id": "a505619c",
   "metadata": {
    "vscode": {
     "languageId": "sql"
    }
   },
   "outputs": [],
   "source": [
    "%%sql\n",
    "\n",
    "DROP INDEX IF EXISTS idx_variant_attr_span_span_id;\n",
    "CREATE INDEX idx_variant_attr_span_span_id ON variant_attr_span (span_id);"
   ]
  },
  {
   "cell_type": "markdown",
   "id": "67ce18c2",
   "metadata": {},
   "source": [
    "## idx_variant_attr_span_variant_attribute_id"
   ]
  },
  {
   "cell_type": "code",
   "execution_count": null,
   "id": "8ec8573c",
   "metadata": {
    "vscode": {
     "languageId": "sql"
    }
   },
   "outputs": [],
   "source": [
    "%%sql\n",
    "\n",
    "DROP INDEX IF EXISTS idx_variant_attr_span_variant_attribute_id;\n",
    "CREATE INDEX idx_variant_attr_span_variant_attribute_id ON variant_attr_span (variant_attribute_id);"
   ]
  },
  {
   "cell_type": "markdown",
   "id": "6374e454",
   "metadata": {},
   "source": [
    "## idx_variant_attr_span_variant_attr"
   ]
  },
  {
   "cell_type": "code",
   "execution_count": null,
   "id": "42b33136",
   "metadata": {
    "vscode": {
     "languageId": "sql"
    }
   },
   "outputs": [],
   "source": [
    "%%sql\n",
    "\n",
    "DROP INDEX IF EXISTS idx_variant_attr_span_variant_attr;\n",
    "CREATE INDEX idx_variant_attr_span_variant_attr ON variant_attr_span (\n",
    "    variant_id,\n",
    "    variant_attribute_id\n",
    ");"
   ]
  },
  {
   "cell_type": "markdown",
   "id": "fa3af380",
   "metadata": {},
   "source": [
    "## idx_variant_attr_span_vaid_spanid"
   ]
  },
  {
   "cell_type": "code",
   "execution_count": null,
   "id": "3dfa395b",
   "metadata": {
    "vscode": {
     "languageId": "sql"
    }
   },
   "outputs": [],
   "source": [
    "%%sql\n",
    "\n",
    "DROP INDEX IF EXISTS idx_variant_attr_span_vaid_spanid;\n",
    "CREATE INDEX idx_variant_attr_span_vaid_spanid ON variant_attr_span (variant_attribute_id, span_id);"
   ]
  },
  {
   "cell_type": "markdown",
   "id": "ba5e16e9",
   "metadata": {},
   "source": [
    "## idx_variant_attr_span_vaid_variant"
   ]
  },
  {
   "cell_type": "code",
   "execution_count": null,
   "id": "c24a6b6a",
   "metadata": {
    "vscode": {
     "languageId": "sql"
    }
   },
   "outputs": [],
   "source": [
    "%%sql\n",
    "\n",
    "DROP INDEX IF EXISTS idx_variant_attr_span_vaid_variant;\n",
    "CREATE INDEX idx_variant_attr_span_vaid_variant ON variant_attr_span (\n",
    "    variant_attribute_id,\n",
    "    variant_id\n",
    ");"
   ]
  },
  {
   "cell_type": "markdown",
   "id": "d61bb52c",
   "metadata": {},
   "source": [
    "## idx_vavspan_attr_variant_attribute"
   ]
  },
  {
   "cell_type": "code",
   "execution_count": null,
   "id": "294e373a",
   "metadata": {
    "vscode": {
     "languageId": "sql"
    }
   },
   "outputs": [],
   "source": [
    "%%sql\n",
    "\n",
    "DROP INDEX IF EXISTS idx_vavspan_attr_variant_attribute;\n",
    "CREATE INDEX idx_vavspan_attr_variant_attribute ON vavspan_attr (variant_attribute_id);"
   ]
  },
  {
   "cell_type": "markdown",
   "id": "a76e2135",
   "metadata": {},
   "source": [
    "## idx_vavspan_attr_vaid"
   ]
  },
  {
   "cell_type": "code",
   "execution_count": null,
   "id": "8254f2bb",
   "metadata": {
    "vscode": {
     "languageId": "sql"
    }
   },
   "outputs": [],
   "source": [
    "%%sql\n",
    "\n",
    "DROP INDEX IF EXISTS idx_vavspan_attr_vaid;\n",
    "CREATE INDEX idx_vavspan_attr_vaid ON vavspan_attr (variant_attribute_id, id);"
   ]
  },
  {
   "cell_type": "markdown",
   "id": "0843457a",
   "metadata": {},
   "source": [
    "## idx_uq_vavspan_attr"
   ]
  },
  {
   "cell_type": "code",
   "execution_count": null,
   "id": "e2ed14f3",
   "metadata": {
    "vscode": {
     "languageId": "sql"
    }
   },
   "outputs": [],
   "source": [
    "%%sql\n",
    "\n",
    "DROP INDEX IF EXISTS idx_uq_vavspan_attr;\n",
    "CREATE INDEX idx_uq_vavspan_attr ON vavspan_attr (\n",
    "    variant_attribute_id,\n",
    "    variant_attr_span_id\n",
    ");"
   ]
  },
  {
   "cell_type": "markdown",
   "id": "3fc45d77",
   "metadata": {},
   "source": [
    "## idx_var_cont_variation"
   ]
  },
  {
   "cell_type": "code",
   "execution_count": null,
   "id": "1c8d8d66",
   "metadata": {
    "vscode": {
     "languageId": "sql"
    }
   },
   "outputs": [],
   "source": [
    "%%sql\n",
    "\n",
    "DROP INDEX IF EXISTS idx_var_cont_variation;\n",
    "CREATE INDEX idx_var_cont_variation ON variation_continuous_attr (variation_id);"
   ]
  },
  {
   "cell_type": "markdown",
   "id": "6d10875a",
   "metadata": {},
   "source": [
    "## idx_variation_activated_span_varid_spanid"
   ]
  },
  {
   "cell_type": "code",
   "execution_count": null,
   "id": "8c02f059",
   "metadata": {
    "vscode": {
     "languageId": "sql"
    }
   },
   "outputs": [],
   "source": [
    "%%sql\n",
    "\n",
    "DROP INDEX IF EXISTS idx_variation_activated_span_varid_spanid;\n",
    "CREATE INDEX idx_variation_activated_span_varid_spanid ON variation_activated_span (variation_id, span_id);"
   ]
  },
  {
   "cell_type": "markdown",
   "id": "e50fcdc3",
   "metadata": {},
   "source": [
    "## idx_variation_inactive"
   ]
  },
  {
   "cell_type": "code",
   "execution_count": null,
   "id": "126b9925",
   "metadata": {
    "vscode": {
     "languageId": "sql"
    }
   },
   "outputs": [],
   "source": [
    "%%sql\n",
    "\n",
    "DROP INDEX IF EXISTS idx_variation_inactive;\n",
    "CREATE INDEX idx_variation_inactive ON variation_inactive_span (variation_id, span_id);"
   ]
  },
  {
   "cell_type": "markdown",
   "id": "e44c873c",
   "metadata": {},
   "source": [
    "## idx_variation_delta_weight_varid_spanid"
   ]
  },
  {
   "cell_type": "code",
   "execution_count": null,
   "id": "3c15c086",
   "metadata": {
    "vscode": {
     "languageId": "sql"
    }
   },
   "outputs": [],
   "source": [
    "%%sql\n",
    "\n",
    "DROP INDEX IF EXISTS idx_variation_delta_weight_varid_spanid;\n",
    "CREATE INDEX idx_variation_delta_weight_varid_spanid ON variation_delta_weight (variation_id, span_id);"
   ]
  },
  {
   "cell_type": "markdown",
   "id": "080999f8",
   "metadata": {},
   "source": [
    "## idx_variation_delta"
   ]
  },
  {
   "cell_type": "code",
   "execution_count": null,
   "id": "5638e2e7",
   "metadata": {
    "vscode": {
     "languageId": "sql"
    }
   },
   "outputs": [],
   "source": [
    "%%sql\n",
    "\n",
    "DROP INDEX IF EXISTS idx_variation_delta;\n",
    "CREATE INDEX idx_variation_delta ON variation_delta_weight (\n",
    "    variation_id,\n",
    "    span_id,\n",
    "    delta_weight\n",
    ");"
   ]
  },
  {
   "cell_type": "markdown",
   "id": "0e45c382",
   "metadata": {},
   "source": [
    "## idx_variation_is_inactive"
   ]
  },
  {
   "cell_type": "code",
   "execution_count": null,
   "id": "3f19ae79",
   "metadata": {
    "vscode": {
     "languageId": "sql"
    }
   },
   "outputs": [],
   "source": [
    "%%sql\n",
    "\n",
    "DROP INDEX IF EXISTS idx_variation_is_inactive;\n",
    "CREATE INDEX idx_variation_is_inactive ON variation (is_inactive, id);"
   ]
  },
  {
   "cell_type": "markdown",
   "id": "d588d403",
   "metadata": {},
   "source": [
    "## idx_variation_to_modify_inactive"
   ]
  },
  {
   "cell_type": "code",
   "execution_count": null,
   "id": "5cd81b44",
   "metadata": {
    "vscode": {
     "languageId": "sql"
    }
   },
   "outputs": [],
   "source": [
    "%%sql\n",
    "\n",
    "DROP INDEX IF EXISTS idx_variation_to_modify_inactive;\n",
    "CREATE INDEX idx_variation_to_modify_inactive ON variation (\n",
    "    to_modify_vavspan_attr_id,\n",
    "    is_inactive\n",
    ");"
   ]
  },
  {
   "cell_type": "markdown",
   "id": "cac677ad",
   "metadata": {},
   "source": [
    "## idx_entity_state_entity_id"
   ]
  },
  {
   "cell_type": "code",
   "execution_count": null,
   "id": "fe18b12e",
   "metadata": {
    "vscode": {
     "languageId": "sql"
    }
   },
   "outputs": [],
   "source": [
    "%%sql\n",
    "\n",
    "DROP INDEX IF EXISTS idx_entity_state_entity_id;\n",
    "CREATE INDEX idx_entity_state_entity_id ON entity_state (entity_id);"
   ]
  },
  {
   "cell_type": "markdown",
   "id": "3b3e6097",
   "metadata": {},
   "source": [
    "## idx_entity_state_entity_time"
   ]
  },
  {
   "cell_type": "code",
   "execution_count": null,
   "id": "9169bf37",
   "metadata": {
    "vscode": {
     "languageId": "sql"
    }
   },
   "outputs": [],
   "source": [
    "%%sql\n",
    "\n",
    "DROP INDEX IF EXISTS idx_entity_state_entity_time;\n",
    "CREATE INDEX idx_entity_state_entity_time ON entity_state (entity_id, time);"
   ]
  },
  {
   "cell_type": "markdown",
   "id": "e5c5cb9a",
   "metadata": {},
   "source": [
    "## idx_entity_varattr_value_entity_state_id"
   ]
  },
  {
   "cell_type": "code",
   "execution_count": null,
   "id": "7eed3089",
   "metadata": {
    "vscode": {
     "languageId": "sql"
    }
   },
   "outputs": [],
   "source": [
    "%%sql\n",
    "\n",
    "DROP INDEX IF EXISTS idx_entity_varattr_value_entity_state_id;\n",
    "CREATE INDEX idx_entity_varattr_value_entity_state_id ON entity_varattr_value (entity_state_id);"
   ]
  },
  {
   "cell_type": "markdown",
   "id": "ec74b8ee",
   "metadata": {},
   "source": [
    "## idx_evav_state_vaid"
   ]
  },
  {
   "cell_type": "code",
   "execution_count": null,
   "id": "1f96c27e",
   "metadata": {
    "vscode": {
     "languageId": "sql"
    }
   },
   "outputs": [],
   "source": [
    "%%sql\n",
    "\n",
    "DROP INDEX IF EXISTS idx_evav_state_vaid;\n",
    "CREATE INDEX idx_evav_state_vaid ON entity_varattr_value (\n",
    "    entity_state_id,\n",
    "    variant_attribute_id\n",
    ");"
   ]
  },
  {
   "cell_type": "markdown",
   "id": "77cb7537",
   "metadata": {},
   "source": [
    "## idx_evav_state_attr_span"
   ]
  },
  {
   "cell_type": "code",
   "execution_count": null,
   "id": "9e140bb5",
   "metadata": {
    "vscode": {
     "languageId": "sql"
    }
   },
   "outputs": [],
   "source": [
    "%%sql\n",
    "\n",
    "DROP INDEX IF EXISTS idx_evav_state_attr_span;\n",
    "CREATE INDEX idx_evav_state_attr_span ON entity_varattr_value (\n",
    "    entity_state_id,\n",
    "    variant_attribute_id,\n",
    "    span_id\n",
    ");"
   ]
  },
  {
   "cell_type": "markdown",
   "id": "48596a17",
   "metadata": {},
   "source": [
    "## idx_evav_lock_locked"
   ]
  },
  {
   "cell_type": "code",
   "execution_count": null,
   "id": "5853a7db",
   "metadata": {
    "vscode": {
     "languageId": "sql"
    }
   },
   "outputs": [],
   "source": [
    "%%sql\n",
    "\n",
    "DROP INDEX IF EXISTS idx_evav_lock_locked;\n",
    "CREATE INDEX idx_evav_lock_locked ON evav_lock (locked_evav_id);"
   ]
  },
  {
   "cell_type": "markdown",
   "id": "c118bcf9",
   "metadata": {},
   "source": [
    "## idx_evav_lock_locking"
   ]
  },
  {
   "cell_type": "code",
   "execution_count": null,
   "id": "e716b14e",
   "metadata": {
    "vscode": {
     "languageId": "sql"
    }
   },
   "outputs": [],
   "source": [
    "%%sql\n",
    "\n",
    "DROP INDEX IF EXISTS idx_evav_lock_locking;\n",
    "CREATE INDEX idx_evav_lock_locking ON evav_lock (locking_evav_id);"
   ]
  },
  {
   "cell_type": "markdown",
   "id": "5b713f9b",
   "metadata": {},
   "source": [
    "## idx_evav_lock_locked_locking"
   ]
  },
  {
   "cell_type": "code",
   "execution_count": null,
   "id": "c4a43c80",
   "metadata": {
    "vscode": {
     "languageId": "sql"
    }
   },
   "outputs": [],
   "source": [
    "%%sql\n",
    "\n",
    "DROP INDEX IF EXISTS idx_evav_lock_locked_locking;\n",
    "CREATE INDEX idx_evav_lock_locked_locking ON evav_lock (\n",
    "    locked_evav_id,\n",
    "    locking_evav_id\n",
    ");"
   ]
  },
  {
   "cell_type": "markdown",
   "id": "6e64fcaa",
   "metadata": {},
   "source": [
    "## idx_entity_group_link_group_id_entity_id"
   ]
  },
  {
   "cell_type": "code",
   "execution_count": null,
   "id": "10d2674a",
   "metadata": {
    "vscode": {
     "languageId": "sql"
    }
   },
   "outputs": [],
   "source": [
    "%%sql\n",
    "\n",
    "DROP INDEX IF EXISTS idx_entity_group_link_group_id_entity_id;\n",
    "CREATE INDEX idx_entity_group_link_group_id_entity_id\n",
    "  ON entity_group_link(entity_group_id, entity_id);"
   ]
  },
  {
   "cell_type": "markdown",
   "id": "432a53b9-0984-45fa-8eba-3dde6bb6075a",
   "metadata": {
    "jp-MarkdownHeadingCollapsed": true
   },
   "source": [
    "# Debug"
   ]
  },
  {
   "cell_type": "markdown",
   "id": "3be4f202",
   "metadata": {},
   "source": [
    "## Create Log Table"
   ]
  },
  {
   "cell_type": "code",
   "execution_count": null,
   "id": "a4214ab5",
   "metadata": {
    "vscode": {
     "languageId": "sql"
    }
   },
   "outputs": [],
   "source": [
    "%%sql\n",
    "\n",
    "DROP TABLE IF EXISTS debug_log CASCADE;\n",
    "CREATE TABLE debug_log (\n",
    "    id integer GENERATED ALWAYS AS IDENTITY PRIMARY KEY,\n",
    "    log_time timestamp DEFAULT CURRENT_TIMESTAMP,\n",
    "    procedure_name varchar(255),\n",
    "    log_message text\n",
    ");"
   ]
  },
  {
   "cell_type": "markdown",
   "id": "618a813c-05d4-4abf-848b-3cb8f779014c",
   "metadata": {},
   "source": [
    "## Clear Log Table"
   ]
  },
  {
   "cell_type": "code",
   "execution_count": null,
   "id": "66ffd6b9-93cb-49ca-947c-c61b866ccf45",
   "metadata": {},
   "outputs": [],
   "source": [
    "%%sql\n",
    "\n",
    "TRUNCATE TABLE debug_log RESTART IDENTITY CASCADE;"
   ]
  },
  {
   "cell_type": "markdown",
   "id": "92275a5c",
   "metadata": {},
   "source": [
    "## Create Log Function"
   ]
  },
  {
   "cell_type": "code",
   "execution_count": null,
   "id": "dbb634b6",
   "metadata": {
    "vscode": {
     "languageId": "sql"
    }
   },
   "outputs": [],
   "source": [
    "%%sql\n",
    "\n",
    "CREATE OR REPLACE FUNCTION debug_log(\n",
    "    p_procedure_name varchar,\n",
    "    p_log_message text\n",
    ") RETURNS void\n",
    "LANGUAGE plpgsql\n",
    "AS $$\n",
    "BEGIN\n",
    "    INSERT INTO debug_log (procedure_name, log_message, log_time)\n",
    "    VALUES (p_procedure_name, p_log_message, now());\n",
    "END;\n",
    "$$;"
   ]
  },
  {
   "cell_type": "markdown",
   "id": "591436eb",
   "metadata": {},
   "source": [
    "# Create Functions & Procedures"
   ]
  },
  {
   "cell_type": "markdown",
   "id": "f71e45f0",
   "metadata": {},
   "source": [
    "## Add Discrete Attribute"
   ]
  },
  {
   "cell_type": "code",
   "execution_count": null,
   "id": "5691d417",
   "metadata": {
    "vscode": {
     "languageId": "sql"
    }
   },
   "outputs": [],
   "source": [
    "%%sql\n",
    "\n",
    "CREATE OR REPLACE PROCEDURE add_discrete_attribute(\n",
    "    in_name       VARCHAR(255)\n",
    ")\n",
    "LANGUAGE plpgsql\n",
    "AS $$\n",
    "BEGIN\n",
    "    INSERT INTO attribute (name, type)\n",
    "      VALUES (in_name, 'discrete');\n",
    "END;\n",
    "$$;"
   ]
  },
  {
   "cell_type": "markdown",
   "id": "ce0ad832",
   "metadata": {},
   "source": [
    "## Redistribute Unpinned Spans"
   ]
  },
  {
   "cell_type": "code",
   "execution_count": null,
   "id": "1b136a4f",
   "metadata": {
    "vscode": {
     "languageId": "sql"
    }
   },
   "outputs": [],
   "source": [
    "%%sql\n",
    "\n",
    "CREATE OR REPLACE FUNCTION redistribute_unpinned_spans(\n",
    "    p_attribute_id INTEGER,\n",
    "    p_modified_span_id INTEGER,\n",
    "    p_new_weight DOUBLE PRECISION,\n",
    "    p_old_weight DOUBLE PRECISION\n",
    ") RETURNS VOID\n",
    "LANGUAGE plpgsql\n",
    "AS $$\n",
    "DECLARE\n",
    "    v_pinned_weight DOUBLE PRECISION;\n",
    "    v_target         DOUBLE PRECISION;\n",
    "BEGIN\n",
    "    -- Compute the total weight of pinned discrete spans.\n",
    "    SELECT COALESCE(SUM(weight), 0)\n",
    "      INTO v_pinned_weight\n",
    "      FROM span\n",
    "     WHERE attribute_id = p_attribute_id\n",
    "       AND type = 'discrete'\n",
    "       AND is_percentage_pinned = true;\n",
    "       \n",
    "    -- The available weight for all unpinned spans.\n",
    "    v_target := 1.0 - v_pinned_weight;\n",
    "    \n",
    "    -- If there’s only one unpinned span (v_target equals p_old_weight), then\n",
    "    -- the new weight must equal the entire target.\n",
    "    IF (v_target - p_old_weight) = 0 THEN\n",
    "       IF p_new_weight <> v_target THEN\n",
    "           RAISE EXCEPTION 'Cannot change weight; only one unpinned span exists and its weight must be %', v_target;\n",
    "       END IF;\n",
    "    END IF;\n",
    "    \n",
    "    -- Update all unpinned discrete spans:\n",
    "    -- • The modified span gets the new weight.\n",
    "    -- • All others are scaled proportionally.\n",
    "    UPDATE span\n",
    "       SET weight = CASE \n",
    "                      WHEN id = p_modified_span_id THEN p_new_weight\n",
    "                      ELSE weight * ((v_target - p_new_weight) / (v_target - p_old_weight))\n",
    "                    END\n",
    "     WHERE attribute_id = p_attribute_id\n",
    "       AND type = 'discrete'\n",
    "       AND is_percentage_pinned = false;\n",
    "END;\n",
    "$$;"
   ]
  },
  {
   "cell_type": "markdown",
   "id": "194413fb",
   "metadata": {},
   "source": [
    "## Add Discrete Span to Attribute"
   ]
  },
  {
   "cell_type": "code",
   "execution_count": null,
   "id": "a38a9b40",
   "metadata": {
    "vscode": {
     "languageId": "sql"
    }
   },
   "outputs": [],
   "source": [
    "%%sql\n",
    "\n",
    "CREATE OR REPLACE PROCEDURE add_disc_span_to_attr(\n",
    "    p_attribute_id INTEGER,\n",
    "    p_label VARCHAR(255)\n",
    ")\n",
    "LANGUAGE plpgsql\n",
    "AS $$\n",
    "DECLARE\n",
    "    new_span_id     INTEGER;\n",
    "    v_total_weight  DOUBLE PRECISION;\n",
    "    v_pinned_weight DOUBLE PRECISION;\n",
    "    v_target        DOUBLE PRECISION;\n",
    "    v_count_old     INTEGER;\n",
    "    candidate       DOUBLE PRECISION;\n",
    "BEGIN\n",
    "    -- Compute the total weight for all discrete spans for this attribute.\n",
    "    SELECT COALESCE(SUM(weight), 0)\n",
    "      INTO v_total_weight\n",
    "      FROM span\n",
    "     WHERE attribute_id = p_attribute_id\n",
    "       AND type = 'discrete';\n",
    "\n",
    "    -- If no spans exist, simply insert the first span with weight 1.\n",
    "    IF v_total_weight = 0 THEN\n",
    "        INSERT INTO span(attribute_id, label, type, is_percentage_pinned, weight)\n",
    "        VALUES (p_attribute_id, p_label, 'discrete', false, 1.0);\n",
    "        RETURN;\n",
    "    END IF;\n",
    "    \n",
    "    -- Compute the total weight of pinned discrete spans.\n",
    "    SELECT COALESCE(SUM(weight), 0)\n",
    "      INTO v_pinned_weight\n",
    "      FROM span\n",
    "     WHERE attribute_id = p_attribute_id\n",
    "       AND type = 'discrete'\n",
    "       AND is_percentage_pinned = true;\n",
    "    \n",
    "    -- Calculate the available target weight for all unpinned spans.\n",
    "    v_target := 1.0 - v_pinned_weight;\n",
    "    IF v_target <= 0 THEN\n",
    "        RAISE EXCEPTION 'No available weight for unpinned spans (v_target = %)', v_target;\n",
    "    END IF;\n",
    "    \n",
    "    -- Count the existing non-pinned discrete spans.\n",
    "    SELECT COUNT(*)\n",
    "      INTO v_count_old\n",
    "      FROM span\n",
    "     WHERE attribute_id = p_attribute_id\n",
    "       AND type = 'discrete'\n",
    "       AND is_percentage_pinned = false;\n",
    "    \n",
    "    -- Insert the new unpinned span with a temporary weight of 0.\n",
    "    INSERT INTO span(attribute_id, label, type, is_percentage_pinned, weight)\n",
    "    VALUES (p_attribute_id, p_label, 'discrete', false, 0.0)\n",
    "    RETURNING id INTO new_span_id;\n",
    "    \n",
    "    -- Compute the candidate weight for the new span.\n",
    "    candidate := v_target / (v_count_old + 1);\n",
    "    \n",
    "    -- Redistribute the weights among all unpinned spans\n",
    "    PERFORM redistribute_unpinned_spans(p_attribute_id, new_span_id, candidate, 0);\n",
    "END;\n",
    "$$;"
   ]
  },
  {
   "cell_type": "markdown",
   "id": "65d61d58",
   "metadata": {},
   "source": [
    "## Modify Discrete Span Weight"
   ]
  },
  {
   "cell_type": "code",
   "execution_count": null,
   "id": "57a4a17d",
   "metadata": {
    "vscode": {
     "languageId": "sql"
    }
   },
   "outputs": [],
   "source": [
    "%%sql\n",
    "\n",
    "CREATE OR REPLACE PROCEDURE modify_disc_span_weight(\n",
    "    p_span_id    INTEGER,\n",
    "    p_new_weight DOUBLE PRECISION\n",
    ")\n",
    "LANGUAGE plpgsql\n",
    "AS $$\n",
    "DECLARE\n",
    "    v_attribute_id INTEGER;\n",
    "    v_current_weight DOUBLE PRECISION;\n",
    "    v_is_pinned    BOOLEAN;\n",
    "    v_type         TEXT;\n",
    "    v_pinned_weight DOUBLE PRECISION;\n",
    "    v_target        DOUBLE PRECISION;\n",
    "    v_other_sum     DOUBLE PRECISION;\n",
    "BEGIN\n",
    "    -- Get the current span's details.\n",
    "    SELECT attribute_id, weight, is_percentage_pinned, type\n",
    "      INTO v_attribute_id, v_current_weight, v_is_pinned, v_type\n",
    "      FROM span\n",
    "     WHERE id = p_span_id;\n",
    "     \n",
    "    -- Ensure the span exists, is of type 'discrete' and is not pinned.\n",
    "    IF NOT FOUND OR v_type <> 'discrete' OR v_is_pinned THEN\n",
    "       RAISE EXCEPTION 'Span % not found or not a modifiable discrete span', p_span_id;\n",
    "    END IF;\n",
    "    \n",
    "    -- Compute the total pinned weight for this attribute.\n",
    "    SELECT COALESCE(SUM(weight), 0)\n",
    "      INTO v_pinned_weight\n",
    "      FROM span\n",
    "     WHERE attribute_id = v_attribute_id\n",
    "       AND type = 'discrete'\n",
    "       AND is_percentage_pinned = true;\n",
    "       \n",
    "    v_target := 1.0 - v_pinned_weight;\n",
    "    \n",
    "    -- Validate the new weight is between 0 and the available target.\n",
    "    IF p_new_weight < 0 OR p_new_weight > v_target THEN\n",
    "       RAISE EXCEPTION 'Invalid new weight: % (must be between 0 and %)', p_new_weight, v_target;\n",
    "    END IF;\n",
    "    \n",
    "    -- Compute the total weight for all other unpinned spans.\n",
    "    SELECT COALESCE(SUM(weight), 0)\n",
    "      INTO v_other_sum\n",
    "      FROM span\n",
    "     WHERE attribute_id = v_attribute_id\n",
    "       AND type = 'discrete'\n",
    "       AND is_percentage_pinned = false\n",
    "       AND id <> p_span_id;\n",
    "       \n",
    "    IF v_other_sum = 0 THEN\n",
    "       -- There is only one unpinned span. Its weight must equal the available target.\n",
    "       IF p_new_weight <> v_target THEN\n",
    "         RAISE EXCEPTION 'Only one unpinned span exists. Its weight must be %', v_target;\n",
    "       ELSE\n",
    "         UPDATE span SET weight = p_new_weight WHERE id = p_span_id;\n",
    "       END IF;\n",
    "    ELSE\n",
    "       -- Use the helper function to redistribute weights.\n",
    "       PERFORM redistribute_unpinned_spans(v_attribute_id, p_span_id, p_new_weight, v_current_weight);\n",
    "    END IF;\n",
    "END;\n",
    "$$;"
   ]
  },
  {
   "cell_type": "markdown",
   "id": "132ce1dd",
   "metadata": {},
   "source": [
    "## Add Continuous Attribute"
   ]
  },
  {
   "cell_type": "code",
   "execution_count": null,
   "id": "ed3ab0be",
   "metadata": {
    "vscode": {
     "languageId": "sql"
    }
   },
   "outputs": [],
   "source": [
    "%%sql\n",
    "\n",
    "CREATE OR REPLACE PROCEDURE add_continuous_attribute(\n",
    "    p_name           VARCHAR(255),\n",
    "    p_min_value      DOUBLE PRECISION,\n",
    "    p_mode_value     DOUBLE PRECISION,\n",
    "    p_max_value      DOUBLE PRECISION,\n",
    "    p_concentration  DOUBLE PRECISION,\n",
    "    p_skew           DOUBLE PRECISION,\n",
    "    p_decimals       INTEGER,\n",
    "    p_has_labels     BOOLEAN,\n",
    "    p_has_value      BOOLEAN,\n",
    "    p_units          VARCHAR(255),\n",
    "    OUT p_attr_id    INTEGER\n",
    ")\n",
    "LANGUAGE plpgsql\n",
    "AS $$\n",
    "BEGIN\n",
    "    INSERT INTO attribute\n",
    "      (name, type, decimals, has_labels, has_value, max_value, min_value,\n",
    "       mode_value, concentration, skew, units)\n",
    "    VALUES\n",
    "      (p_name, 'continuous', p_decimals, p_has_labels, p_has_value, p_max_value,\n",
    "       p_min_value, p_mode_value, p_concentration, p_skew, p_units)\n",
    "    RETURNING id INTO p_attr_id;\n",
    "END;\n",
    "$$;"
   ]
  },
  {
   "cell_type": "markdown",
   "id": "7b0b19de",
   "metadata": {},
   "source": [
    "## Add Continuous Span to Attribute"
   ]
  },
  {
   "cell_type": "code",
   "execution_count": null,
   "id": "3ca45806",
   "metadata": {
    "vscode": {
     "languageId": "sql"
    }
   },
   "outputs": [],
   "source": [
    "%%sql\n",
    "\n",
    "CREATE OR REPLACE PROCEDURE add_cont_span_to_attr(\n",
    "    p_attribute_id integer,\n",
    "    p_label varchar(255),\n",
    "    p_new_min double precision,\n",
    "    p_new_max double precision\n",
    ")\n",
    "LANGUAGE plpgsql\n",
    "AS $$\n",
    "DECLARE\n",
    "    v_attr_min double precision;\n",
    "    v_attr_max double precision;\n",
    "    v_count integer;\n",
    "    v_first_id integer;\n",
    "    v_first_min double precision;\n",
    "    v_first_max double precision;\n",
    "    v_last_id integer;\n",
    "    v_last_min double precision;\n",
    "    v_last_max double precision;\n",
    "BEGIN\n",
    "    -- Get attribute’s overall range (continuous only)\n",
    "    SELECT min_value, max_value\n",
    "      INTO v_attr_min, v_attr_max\n",
    "      FROM attribute\n",
    "     WHERE id = p_attribute_id\n",
    "       AND type = 'continuous'\n",
    "     LIMIT 1;\n",
    "     \n",
    "    IF v_attr_min IS NULL THEN\n",
    "        RAISE EXCEPTION 'Attribute not found or not continuous';\n",
    "    END IF;\n",
    "    \n",
    "    -- Validate requested span\n",
    "    IF p_new_min < v_attr_min OR p_new_max > v_attr_max OR p_new_min >= p_new_max THEN\n",
    "        RAISE EXCEPTION 'Invalid span range';\n",
    "    END IF;\n",
    "    \n",
    "    -- If no continuous spans exist, insert one covering the full range\n",
    "    SELECT COUNT(*) INTO v_count\n",
    "      FROM span\n",
    "     WHERE attribute_id = p_attribute_id\n",
    "       AND type = 'continuous';\n",
    "       \n",
    "    IF v_count = 0 THEN\n",
    "        INSERT INTO span(attribute_id, label, type, min_value, max_value)\n",
    "        VALUES(p_attribute_id, p_label, 'continuous', v_attr_min, v_attr_max);\n",
    "        RETURN;\n",
    "    END IF;\n",
    "    \n",
    "    -- Adjust overlapping spans: first overlapping span (ordered by min_value)\n",
    "    SELECT id, min_value, max_value\n",
    "      INTO v_first_id, v_first_min, v_first_max\n",
    "      FROM span\n",
    "     WHERE attribute_id = p_attribute_id\n",
    "       AND type = 'continuous'\n",
    "       AND max_value > p_new_min\n",
    "       AND min_value < p_new_max\n",
    "     ORDER BY min_value ASC\n",
    "     LIMIT 1;\n",
    "     \n",
    "    IF v_first_min < p_new_min THEN\n",
    "        UPDATE span SET max_value = p_new_min WHERE id = v_first_id;\n",
    "    END IF;\n",
    "    \n",
    "    -- Adjust overlapping spans: last overlapping span (ordered by max_value)\n",
    "    SELECT id, min_value, max_value\n",
    "      INTO v_last_id, v_last_min, v_last_max\n",
    "      FROM span\n",
    "     WHERE attribute_id = p_attribute_id\n",
    "       AND type = 'continuous'\n",
    "       AND max_value > p_new_min\n",
    "       AND min_value < p_new_max\n",
    "     ORDER BY max_value DESC\n",
    "     LIMIT 1;\n",
    "     \n",
    "    IF v_last_max > p_new_max THEN\n",
    "        UPDATE span SET min_value = p_new_max WHERE id = v_last_id;\n",
    "    END IF;\n",
    "    \n",
    "    -- Remove spans fully covered by the new span\n",
    "    DELETE FROM span\n",
    "     WHERE attribute_id = p_attribute_id\n",
    "       AND type = 'continuous'\n",
    "       AND min_value >= p_new_min\n",
    "       AND max_value <= p_new_max;\n",
    "       \n",
    "    INSERT INTO span(attribute_id, label, type, min_value, max_value)\n",
    "    VALUES(p_attribute_id, p_label, 'continuous', p_new_min, p_new_max);\n",
    "END;\n",
    "$$;"
   ]
  },
  {
   "cell_type": "markdown",
   "id": "913574c3",
   "metadata": {},
   "source": [
    "## Link Attribute to Variant"
   ]
  },
  {
   "cell_type": "code",
   "execution_count": null,
   "id": "28943ab5",
   "metadata": {
    "vscode": {
     "languageId": "sql"
    }
   },
   "outputs": [],
   "source": [
    "%%sql\n",
    "\n",
    "CREATE OR REPLACE PROCEDURE link_attr_to_variant(\n",
    "    p_variant_id   INTEGER,\n",
    "    p_attribute_id INTEGER,\n",
    "    p_name         VARCHAR,\n",
    "    p_position     INTEGER\n",
    ")\n",
    "LANGUAGE plpgsql\n",
    "AS $$\n",
    "DECLARE\n",
    "    v_count    INTEGER;\n",
    "    v_position INTEGER;\n",
    "BEGIN\n",
    "    SELECT COUNT(*) INTO v_count\n",
    "      FROM variant_attribute\n",
    "     WHERE variant_id = p_variant_id;\n",
    "    \n",
    "    IF p_position IS NULL THEN\n",
    "        v_position := v_count;  -- append at end\n",
    "    ELSE\n",
    "        v_position := p_position;\n",
    "        IF v_position < 0 THEN \n",
    "            v_position := 0;\n",
    "        END IF;\n",
    "        IF v_position > v_count THEN\n",
    "            v_position := v_count;\n",
    "        END IF;\n",
    "        UPDATE variant_attribute\n",
    "           SET causation_index = causation_index + 1\n",
    "         WHERE variant_id = p_variant_id\n",
    "           AND causation_index >= v_position;\n",
    "    END IF;\n",
    "\n",
    "    INSERT INTO variant_attribute(attribute_id, name, causation_index, variant_id)\n",
    "    VALUES (p_attribute_id, p_name, v_position, p_variant_id);\n",
    "END;\n",
    "$$;"
   ]
  },
  {
   "cell_type": "markdown",
   "id": "b6a70feb",
   "metadata": {},
   "source": [
    "## Add Variant"
   ]
  },
  {
   "cell_type": "code",
   "execution_count": null,
   "id": "71e35337",
   "metadata": {
    "vscode": {
     "languageId": "sql"
    }
   },
   "outputs": [],
   "source": [
    "%%sql\n",
    "\n",
    "CREATE OR REPLACE PROCEDURE add_variant(\n",
    "    in_variant_name VARCHAR\n",
    ")\n",
    "LANGUAGE plpgsql\n",
    "AS $$\n",
    "BEGIN\n",
    "    INSERT INTO variant (name)\n",
    "    VALUES (in_variant_name);\n",
    "END;\n",
    "$$;"
   ]
  },
  {
   "cell_type": "markdown",
   "id": "064f7c76",
   "metadata": {},
   "source": [
    "## Add Entity"
   ]
  },
  {
   "cell_type": "code",
   "execution_count": null,
   "id": "55826704",
   "metadata": {
    "vscode": {
     "languageId": "sql"
    }
   },
   "outputs": [],
   "source": [
    "%%sql\n",
    "\n",
    "CREATE OR REPLACE PROCEDURE add_entity(\n",
    "    in_name VARCHAR(255),\n",
    "    in_variant_id INT\n",
    ")\n",
    "LANGUAGE plpgsql\n",
    "AS $$\n",
    "BEGIN\n",
    "    INSERT INTO entity(name, variant_id)\n",
    "    VALUES (in_name, in_variant_id);\n",
    "END;\n",
    "$$;"
   ]
  },
  {
   "cell_type": "markdown",
   "id": "04111890",
   "metadata": {},
   "source": [
    "## Roll Discrete Variant Attribute Value"
   ]
  },
  {
   "cell_type": "code",
   "execution_count": null,
   "id": "a8600484",
   "metadata": {
    "vscode": {
     "languageId": "sql"
    }
   },
   "outputs": [],
   "source": [
    "%%sql\n",
    "\n",
    "CREATE OR REPLACE FUNCTION roll_discrete_varattr(\n",
    "    p_vavspan_attr_id INTEGER,\n",
    "    p_exclude_span_id INTEGER\n",
    ") \n",
    "RETURNS INTEGER\n",
    "LANGUAGE plpgsql\n",
    "AS $$\n",
    "DECLARE\n",
    "    v_span_id INTEGER;\n",
    "    v_max_double constant double precision := 1e308;\n",
    "    v_variant_attribute_id INTEGER;\n",
    "    v_variant_attr_span_id INTEGER;\n",
    "BEGIN\n",
    "    -- Retrieve the underlying variant attribute and its associated variant_attr_span.\n",
    "    SELECT variant_attribute_id, variant_attr_span_id\n",
    "      INTO v_variant_attribute_id, v_variant_attr_span_id\n",
    "      FROM vavspan_attr\n",
    "     WHERE id = p_vavspan_attr_id;\n",
    "    \n",
    "    WITH\n",
    "    BaseSpans AS (\n",
    "         SELECT s.id AS span_id, \n",
    "                va.id AS variant_attribute_id, \n",
    "                vas.id AS variant_attr_span_id, \n",
    "                s.weight AS base_weight\n",
    "         FROM variant_attribute va\n",
    "         JOIN span s ON s.attribute_id = va.attribute_id\n",
    "         LEFT JOIN variant_attr_span vas \n",
    "           ON vas.variant_attribute_id = va.id \n",
    "          AND vas.span_id = s.id\n",
    "         WHERE va.id = v_variant_attribute_id\n",
    "           AND s.type = 'discrete'\n",
    "           AND (p_exclude_span_id = 0 OR s.id <> p_exclude_span_id)\n",
    "    ), \n",
    "    ActiveVariations AS (\n",
    "         SELECT v.id AS variation_id, \n",
    "                vav.variant_attribute_id\n",
    "         FROM variation v\n",
    "         JOIN vavspan_attr vav \n",
    "           ON vav.id = v.to_modify_vavspan_attr_id \n",
    "          AND vav.variant_attribute_id = v_variant_attribute_id\n",
    "         WHERE v.is_inactive = false\n",
    "           AND vav.id = p_vavspan_attr_id\n",
    "    ), \n",
    "    InactiveSpans AS (\n",
    "         SELECT DISTINCT vis.span_id\n",
    "         FROM variation_inactive_span vis\n",
    "         JOIN ActiveVariations av \n",
    "           ON av.variation_id = vis.variation_id\n",
    "    ), \n",
    "    ActivatedSpans AS (\n",
    "         SELECT DISTINCT \n",
    "                vas.span_id, \n",
    "                av.variant_attribute_id, \n",
    "                NULL::INTEGER AS variant_attr_span_id, \n",
    "                0.0 AS base_weight\n",
    "         FROM variation_activated_span vas\n",
    "         JOIN ActiveVariations av \n",
    "           ON av.variation_id = vas.variation_id\n",
    "    ), \n",
    "    DeltaWeights AS (\n",
    "         SELECT vdw.span_id, \n",
    "                SUM(vdw.delta_weight) AS total_delta\n",
    "         FROM variation_delta_weight vdw\n",
    "         JOIN ActiveVariations av \n",
    "           ON av.variation_id = vdw.variation_id\n",
    "         GROUP BY vdw.span_id\n",
    "    ), \n",
    "    AllRelevantSpans AS (\n",
    "         SELECT b.span_id, b.variant_attribute_id, b.variant_attr_span_id, b.base_weight\n",
    "         FROM BaseSpans b\n",
    "         WHERE b.span_id NOT IN (SELECT span_id FROM InactiveSpans)\n",
    "         UNION\n",
    "         SELECT a.span_id, a.variant_attribute_id, a.variant_attr_span_id, a.base_weight\n",
    "         FROM ActivatedSpans a\n",
    "         WHERE a.span_id NOT IN (SELECT span_id FROM InactiveSpans)\n",
    "    ), \n",
    "    FinalSpans AS (\n",
    "         SELECT ars.span_id, \n",
    "                ars.variant_attribute_id, \n",
    "                ars.variant_attr_span_id,\n",
    "                COALESCE(ars.base_weight, 0) + COALESCE(dw.total_delta, 0) AS effective_weight\n",
    "         FROM AllRelevantSpans ars\n",
    "         LEFT JOIN DeltaWeights dw \n",
    "           ON dw.span_id = ars.span_id\n",
    "    ),\n",
    "    SpanCounts AS (\n",
    "         SELECT ns.num_spans, \n",
    "                SUM(fs.effective_weight / ns.num_spans) AS total_weight\n",
    "         FROM FinalSpans fs\n",
    "         CROSS JOIN (\n",
    "             SELECT COUNT(*)::double precision AS num_spans \n",
    "             FROM FinalSpans \n",
    "             WHERE effective_weight > 0\n",
    "         ) ns\n",
    "         WHERE fs.effective_weight > 0\n",
    "         GROUP BY ns.num_spans\n",
    "    ),\n",
    "    AdjustedSpans AS (\n",
    "         SELECT fs.span_id,\n",
    "                fs.variant_attribute_id,\n",
    "                fs.variant_attr_span_id,\n",
    "                fs.effective_weight,\n",
    "                sc.num_spans,\n",
    "                sc.total_weight,\n",
    "                CASE \n",
    "                  WHEN fs.effective_weight < 1 \n",
    "                    THEN ceil((fs.effective_weight * v_max_double) / (sc.total_weight * sc.num_spans))\n",
    "                  ELSE ceil((fs.effective_weight / (sc.total_weight * sc.num_spans)) * v_max_double)\n",
    "                END AS adjusted_weight\n",
    "         FROM FinalSpans fs\n",
    "         CROSS JOIN SpanCounts sc\n",
    "         WHERE fs.effective_weight > 0\n",
    "    ),\n",
    "    Running AS (\n",
    "         SELECT span_id,\n",
    "                variant_attribute_id,\n",
    "                variant_attr_span_id,\n",
    "                adjusted_weight,\n",
    "                SUM(adjusted_weight) OVER (ORDER BY span_id) AS running_total\n",
    "         FROM AdjustedSpans\n",
    "    ),\n",
    "    OrderedSpansCTE AS (\n",
    "         SELECT span_id,\n",
    "                variant_attribute_id,\n",
    "                variant_attr_span_id,\n",
    "                adjusted_weight AS contextual_weight,\n",
    "                running_total,\n",
    "                LAG(running_total, 1, 0) OVER (ORDER BY span_id) AS prev_running_total\n",
    "         FROM Running\n",
    "    ),\n",
    "    TotalAdjusted AS (\n",
    "         SELECT MAX(running_total) AS v_total_weight\n",
    "         FROM OrderedSpansCTE\n",
    "    ),\n",
    "    Rng AS (\n",
    "         SELECT t.v_total_weight,\n",
    "                floor(random() * t.v_total_weight) AS v_random_pick\n",
    "         FROM TotalAdjusted t\n",
    "    )\n",
    "    SELECT o.span_id\n",
    "      INTO v_span_id\n",
    "      FROM OrderedSpansCTE o, Rng\n",
    "      WHERE Rng.v_random_pick >= o.prev_running_total\n",
    "        AND Rng.v_random_pick < o.running_total\n",
    "      LIMIT 1;\n",
    "\n",
    "    RETURN v_span_id;\n",
    "END;\n",
    "$$;"
   ]
  },
  {
   "cell_type": "markdown",
   "id": "1505639a",
   "metadata": {},
   "source": [
    "## Gamma Range"
   ]
  },
  {
   "cell_type": "code",
   "execution_count": null,
   "id": "34e2d0e4",
   "metadata": {
    "vscode": {
     "languageId": "sql"
    }
   },
   "outputs": [],
   "source": [
    "%%sql\n",
    "\n",
    "CREATE OR REPLACE FUNCTION gamma_rng(shape double precision)\n",
    "RETURNS double precision\n",
    "LANGUAGE plpgsql\n",
    "AS $$\n",
    "DECLARE\n",
    "    d double precision;\n",
    "    c double precision;\n",
    "    x double precision;\n",
    "    v double precision;\n",
    "    u double precision;\n",
    "BEGIN\n",
    "    IF shape < 1 THEN\n",
    "        -- Use the transformation: Gamma(shape) = Gamma(shape+1)*U^(1/shape)\n",
    "        RETURN gamma_rng(shape + 1) * power(random(), 1.0 / shape);\n",
    "    END IF;\n",
    "    d := shape - 1.0/3.0;\n",
    "    c := 1.0 / sqrt(9.0 * d);\n",
    "    LOOP\n",
    "        -- Generate a standard normal via Box–Muller:\n",
    "        x := sqrt(-2 * ln(random())) * cos(2 * 3.141592653589793 * random());\n",
    "        v := 1 + c * x;\n",
    "        IF v <= 0 THEN\n",
    "            CONTINUE;\n",
    "        END IF;\n",
    "        v := v * v * v;\n",
    "        u := random();\n",
    "        IF u < 1 - 0.0331 * x * x * x * x THEN\n",
    "            RETURN d * v;\n",
    "        END IF;\n",
    "        IF ln(u) < 0.5 * x * x + d * (1 - v + ln(v)) THEN\n",
    "            RETURN d * v;\n",
    "        END IF;\n",
    "    END LOOP;\n",
    "END;\n",
    "$$;"
   ]
  },
  {
   "cell_type": "markdown",
   "id": "a9af61b5",
   "metadata": {},
   "source": [
    "## Generate Weighted Random Number"
   ]
  },
  {
   "cell_type": "code",
   "execution_count": null,
   "id": "637eaa9a",
   "metadata": {
    "vscode": {
     "languageId": "sql"
    }
   },
   "outputs": [],
   "source": [
    "%%sql\n",
    "\n",
    "-- using a fast Marsaglia–Tsang method\n",
    "CREATE OR REPLACE FUNCTION weighted_random(\n",
    "    min_val double precision,                   -- Minimum of desired range.\n",
    "    max_val double precision,                   -- Maximum of desired range (must be > min_val).\n",
    "    mode_val double precision,                  -- Desired mode (peak) in the same units.\n",
    "    skew double precision DEFAULT 0,            -- Skew adjustment; between -1 and 1 only, 0 = no skew.\n",
    "    concentration double precision DEFAULT 4    -- Concentration (k); should be >2 for a proper unimodal shape.\n",
    ") RETURNS double precision\n",
    "LANGUAGE plpgsql\n",
    "AS $$\n",
    "DECLARE\n",
    "    m_norm      double precision;  -- Normalized desired mode in [0,1].\n",
    "    alpha       double precision;\n",
    "    beta        double precision;\n",
    "    x_val       double precision;\n",
    "    y_val       double precision;\n",
    "    beta_sample double precision;\n",
    "BEGIN\n",
    "    IF min_val >= max_val THEN\n",
    "        RAISE EXCEPTION 'min_val must be less than max_val';\n",
    "    END IF;\n",
    "    IF concentration < 0 THEN\n",
    "        RAISE EXCEPTION 'concentration must be non-negative';\n",
    "    END IF;\n",
    "    IF concentration <= 2 THEN\n",
    "        -- When concentration <= 2 the Beta isn't unimodal; fallback to uniform.\n",
    "        RETURN min_val + random() * (max_val - min_val);\n",
    "    END IF;\n",
    "\n",
    "    -- Normalize the desired mode to [0,1].\n",
    "    m_norm := (mode_val - min_val) / (max_val - min_val);\n",
    "\n",
    "    -- Parameterize α and β so that (α-1)/(α+β-2) equals m_norm.\n",
    "    alpha := m_norm * (concentration - 2) + 1;\n",
    "    beta  := (1 - m_norm) * (concentration - 2) + 1;\n",
    "\n",
    "    -- Apply skew correction if desired.\n",
    "    IF skew <> 0 THEN\n",
    "        alpha := alpha * (1 + skew);\n",
    "        beta  := beta  * (1 - skew);\n",
    "    END IF;\n",
    "\n",
    "    -- Generate a Beta(α,β) random variable via the Gamma method.\n",
    "    x_val := gamma_rng(alpha);\n",
    "    y_val := gamma_rng(beta);\n",
    "    beta_sample := x_val / (x_val + y_val);\n",
    "\n",
    "    -- Scale the [0,1] Beta sample to [min_val, max_val].\n",
    "    RETURN min_val + beta_sample * (max_val - min_val);\n",
    "END;\n",
    "$$;"
   ]
  },
  {
   "cell_type": "markdown",
   "id": "6dc053cb",
   "metadata": {},
   "source": [
    "## Roll Continuous Variant Attribute Value"
   ]
  },
  {
   "cell_type": "code",
   "execution_count": null,
   "id": "b4da7a22",
   "metadata": {
    "vscode": {
     "languageId": "sql"
    }
   },
   "outputs": [],
   "source": [
    "%%sql\n",
    "\n",
    "CREATE OR REPLACE FUNCTION roll_continuous_varattr(\n",
    "    p_vavspan_attr_id INTEGER,\n",
    "    p_exclude_span_id  INTEGER\n",
    ")\n",
    "RETURNS TABLE(chosen_span_id integer, chosen_value double precision)\n",
    "LANGUAGE plpgsql\n",
    "AS $$\n",
    "DECLARE\n",
    "    v_attribute_id         integer;\n",
    "    v_decimals             integer;\n",
    "    v_min                  double precision;\n",
    "    v_max                  double precision;\n",
    "    v_mode                 double precision;\n",
    "    v_concentration        double precision;\n",
    "    v_skew                 double precision;\n",
    "    v_total_delta_mode     double precision := 0;\n",
    "    v_total_delta_conc     double precision := 0;\n",
    "    v_total_delta_skew     double precision := 0;\n",
    "    v_eff_min              double precision;\n",
    "    v_eff_max              double precision;\n",
    "    v_eff_mode             double precision;\n",
    "    v_result               double precision;\n",
    "    v_clamped_result       double precision;\n",
    "    v_chosen_span_id       integer;\n",
    "    dummy_eff_min          double precision;\n",
    "    dummy_eff_max          double precision;\n",
    "    v_variant_attribute_id integer;\n",
    "BEGIN\n",
    "    -- Retrieve attribute details from the vavspan_attr record.\n",
    "    SELECT va.attribute_id, a.decimals, a.min_value, a.max_value, a.mode_value, a.concentration, a.skew, va.id\n",
    "      INTO v_attribute_id, v_decimals, v_min, v_max, v_mode, v_concentration, v_skew, v_variant_attribute_id\n",
    "      FROM vavspan_attr vav\n",
    "      JOIN variant_attribute va ON va.id = vav.variant_attribute_id\n",
    "      JOIN attribute a ON a.id = va.attribute_id\n",
    "     WHERE vav.id = p_vavspan_attr_id\n",
    "     LIMIT 1;\n",
    "\n",
    "    IF v_attribute_id IS NULL THEN\n",
    "        RAISE EXCEPTION 'No matching attribute found';\n",
    "    END IF;\n",
    "\n",
    "    -- Sum variation deltas.\n",
    "    SELECT COALESCE(SUM(vca.delta_mode), 0),\n",
    "           COALESCE(SUM(vca.delta_conc), 0),\n",
    "           COALESCE(SUM(vca.delta_skew), 0)\n",
    "      INTO v_total_delta_mode, v_total_delta_conc, v_total_delta_skew\n",
    "      FROM variation_continuous_attr vca\n",
    "      JOIN (\n",
    "            SELECT v.id\n",
    "              FROM variation v\n",
    "              JOIN vavspan_attr vav ON vav.id = v.to_modify_vavspan_attr_id\n",
    "             WHERE vav.variant_attribute_id = v_variant_attribute_id\n",
    "               AND vav.id = p_vavspan_attr_id\n",
    "               AND v.is_inactive = false\n",
    "           ) av ON av.id = vca.variation_id;\n",
    "\n",
    "    -- Compute effective min, max, and mode.\n",
    "    IF (v_total_delta_conc <> 0 OR v_total_delta_skew <> 0) THEN\n",
    "        v_eff_min  := (v_min + v_total_delta_mode) * (1 + v_total_delta_conc + v_total_delta_skew);\n",
    "        v_eff_max  := (v_max + v_total_delta_mode) * (1 + v_total_delta_conc + v_total_delta_skew);\n",
    "        v_eff_mode := (v_mode + v_total_delta_mode) * (1 + v_total_delta_conc + v_total_delta_skew);\n",
    "    ELSE\n",
    "        v_eff_min  := v_min + v_total_delta_mode;\n",
    "        v_eff_max  := v_max + v_total_delta_mode;\n",
    "        v_eff_mode := v_mode + v_total_delta_mode;\n",
    "    END IF;\n",
    "\n",
    "    IF v_eff_max < v_eff_min THEN\n",
    "        -- Swap if needed.\n",
    "        v_result  := v_eff_min;\n",
    "        v_eff_min := v_eff_max;\n",
    "        v_eff_max := v_result;\n",
    "    END IF;\n",
    "\n",
    "    -- Generate a weighted random value.\n",
    "    v_result := weighted_random(\n",
    "                   v_eff_min, \n",
    "                   v_eff_max, \n",
    "                   v_eff_mode, \n",
    "                   COALESCE(v_skew, 0),\n",
    "                   COALESCE(v_concentration, 0)\n",
    "               );\n",
    "    v_result := round(v_result::numeric, v_decimals)::double precision;\n",
    "\n",
    "    -- Clamp the result to the effective range.\n",
    "    IF v_result < v_eff_min THEN\n",
    "        v_clamped_result := v_eff_min;\n",
    "    ELSIF v_result > v_eff_max THEN\n",
    "        v_clamped_result := v_eff_max;\n",
    "    ELSE\n",
    "        v_clamped_result := v_result;\n",
    "    END IF;\n",
    "\n",
    "    -- Select the span matching the computed result.\n",
    "    IF p_exclude_span_id IS NOT NULL AND p_exclude_span_id <> 0 THEN\n",
    "        SELECT s.id,\n",
    "               CASE WHEN (v_total_delta_conc <> 0 OR v_total_delta_skew <> 0)\n",
    "                    THEN (s.min_value + v_total_delta_mode) * (1 + v_total_delta_conc + v_total_delta_skew)\n",
    "                    ELSE (s.min_value + v_total_delta_mode)\n",
    "               END,\n",
    "               CASE WHEN (v_total_delta_conc <> 0 OR v_total_delta_skew <> 0)\n",
    "                    THEN (s.max_value + v_total_delta_mode) * (1 + v_total_delta_conc + v_total_delta_skew)\n",
    "                    ELSE (s.max_value + v_total_delta_mode)\n",
    "               END\n",
    "          INTO v_chosen_span_id, dummy_eff_min, dummy_eff_max\n",
    "          FROM span s\n",
    "          JOIN variant_attr_span vas ON vas.span_id = s.id\n",
    "         WHERE s.attribute_id = v_attribute_id\n",
    "           AND s.type = 'continuous'\n",
    "           AND s.id <> p_exclude_span_id\n",
    "           AND vas.id = p_vavspan_attr_id\n",
    "           AND (CASE WHEN (v_total_delta_conc <> 0 OR v_total_delta_skew <> 0)\n",
    "                     THEN (s.min_value + v_total_delta_mode) * (1 + v_total_delta_conc + v_total_delta_skew)\n",
    "                     ELSE (s.min_value + v_total_delta_mode)\n",
    "                END) <= v_clamped_result\n",
    "           AND (CASE WHEN (v_total_delta_conc <> 0 OR v_total_delta_skew <> 0)\n",
    "                     THEN (s.max_value + v_total_delta_mode) * (1 + v_total_delta_conc + v_total_delta_skew)\n",
    "                     ELSE (s.max_value + v_total_delta_mode)\n",
    "                END) > v_clamped_result\n",
    "         LIMIT 1;\n",
    "    ELSE\n",
    "        SELECT s.id,\n",
    "               CASE WHEN (v_total_delta_conc <> 0 OR v_total_delta_skew <> 0)\n",
    "                    THEN (s.min_value + v_total_delta_mode) * (1 + v_total_delta_conc + v_total_delta_skew)\n",
    "                    ELSE (s.min_value + v_total_delta_mode)\n",
    "               END,\n",
    "               CASE WHEN (v_total_delta_conc <> 0 OR v_total_delta_skew <> 0)\n",
    "                    THEN (s.max_value + v_total_delta_mode) * (1 + v_total_delta_conc + v_total_delta_skew)\n",
    "                    ELSE (s.max_value + v_total_delta_mode)\n",
    "               END\n",
    "          INTO v_chosen_span_id, dummy_eff_min, dummy_eff_max\n",
    "          FROM span s\n",
    "          JOIN variant_attr_span vas ON vas.span_id = s.id\n",
    "         WHERE s.attribute_id = v_attribute_id\n",
    "           AND s.type = 'continuous'\n",
    "           AND vas.id = p_vavspan_attr_id\n",
    "           AND (CASE WHEN (v_total_delta_conc <> 0 OR v_total_delta_skew <> 0)\n",
    "                     THEN (s.min_value + v_total_delta_mode) * (1 + v_total_delta_conc + v_total_delta_skew)\n",
    "                     ELSE (s.min_value + v_total_delta_mode)\n",
    "                END) <= v_clamped_result\n",
    "           AND (CASE WHEN (v_total_delta_conc <> 0 OR v_total_delta_skew <> 0)\n",
    "                     THEN (s.max_value + v_total_delta_mode) * (1 + v_total_delta_conc + v_total_delta_skew)\n",
    "                     ELSE (s.max_value + v_total_delta_mode)\n",
    "                END) > v_clamped_result\n",
    "         LIMIT 1;\n",
    "    END IF;\n",
    "\n",
    "    chosen_span_id := v_chosen_span_id;\n",
    "    chosen_value   := v_clamped_result;\n",
    "    RETURN NEXT;\n",
    "    RETURN;\n",
    "END;\n",
    "$$;"
   ]
  },
  {
   "cell_type": "markdown",
   "id": "14c74b7a",
   "metadata": {},
   "source": [
    "## Generate Entity State"
   ]
  },
  {
   "cell_type": "code",
   "execution_count": null,
   "id": "bce4afd6",
   "metadata": {
    "vscode": {
     "languageId": "sql"
    }
   },
   "outputs": [],
   "source": [
    "%%sql\n",
    "\n",
    "CREATE OR REPLACE PROCEDURE generate_entity_state(\n",
    "    IN  p_entity_id                  INTEGER,\n",
    "    IN  p_time                       DOUBLE PRECISION,\n",
    "    IN  p_regenerate_entity_state_id INTEGER\n",
    ")\n",
    "LANGUAGE plpgsql\n",
    "AS $$\n",
    "DECLARE\n",
    "    v_root_variant_id         INTEGER;\n",
    "    v_entity_state_id         INTEGER;\n",
    "    v_current_variant         INTEGER;\n",
    "    v_trigger_vas             INTEGER;  -- the variant_attr_span id that triggered this variant (null for top-level)\n",
    "    cur_va_id               INTEGER;\n",
    "    cur_attr_type           TEXT;\n",
    "    v_variant_attr_span_id  INTEGER;\n",
    "    v_existing_evav_id      INTEGER;\n",
    "    v_existing_span_id      INTEGER;\n",
    "    v_lock_count            INTEGER := 0;\n",
    "    v_new_span_id           INTEGER;\n",
    "    v_new_numeric           DOUBLE PRECISION;\n",
    "    v_used_span_id          INTEGER;\n",
    "    v_sub_variant_id        INTEGER;\n",
    "    v_attr_counter          INTEGER := 0;\n",
    "    v_queue_id              INTEGER;  -- for stack (LIFO) ordering\n",
    "    cur_vavspan_attr_id     INTEGER;  -- resolved unique vavspan_attr id\n",
    "    rec                     RECORD;\n",
    "BEGIN\n",
    "    -- Get the root variant from the entity.\n",
    "    SELECT variant_id\n",
    "      INTO v_root_variant_id\n",
    "      FROM entity\n",
    "     WHERE id = p_entity_id;\n",
    "    IF v_root_variant_id IS NULL THEN\n",
    "       RAISE EXCEPTION 'No entity found with id=%', p_entity_id;\n",
    "    END IF;\n",
    "\n",
    "    -- Use supplied state id (for regeneration) or insert a new entity_state.\n",
    "    IF p_regenerate_entity_state_id IS NOT NULL THEN\n",
    "        v_entity_state_id := p_regenerate_entity_state_id;\n",
    "    ELSE\n",
    "        INSERT INTO entity_state(entity_id, \"time\")\n",
    "        VALUES (p_entity_id, p_time)\n",
    "        RETURNING id INTO v_entity_state_id;\n",
    "    END IF;\n",
    "\n",
    "    -- Create a temporary queue that holds variants to process.\n",
    "    DROP TABLE IF EXISTS _variant_queue;\n",
    "    CREATE TEMPORARY TABLE _variant_queue (\n",
    "        queue_id serial PRIMARY KEY,\n",
    "        variant_id INTEGER,\n",
    "        variant_attr_span_id INTEGER\n",
    "    ) ON COMMIT DROP;\n",
    "    -- Top-level variant: no triggering variant_attr_span.\n",
    "    INSERT INTO _variant_queue (variant_id, variant_attr_span_id)\n",
    "      VALUES (v_root_variant_id, NULL);\n",
    "\n",
    "    -- Temporary table to hold the current variant's attributes.\n",
    "    DROP TABLE IF EXISTS _variant_attributes;\n",
    "    CREATE TEMPORARY TABLE _variant_attributes (\n",
    "        va_id    INTEGER,\n",
    "        attr_type TEXT\n",
    "    ) ON COMMIT DROP;\n",
    "\n",
    "    -- Process the variant queue (LIFO for depth-first traversal).\n",
    "    LOOP\n",
    "        SELECT queue_id, variant_id, variant_attr_span_id\n",
    "          INTO v_queue_id, v_current_variant, v_trigger_vas\n",
    "          FROM _variant_queue\n",
    "         ORDER BY queue_id DESC\n",
    "         LIMIT 1;\n",
    "        EXIT WHEN NOT FOUND;\n",
    "        DELETE FROM _variant_queue WHERE queue_id = v_queue_id;\n",
    "\n",
    "        -- Load the attributes for the current variant.\n",
    "        TRUNCATE _variant_attributes;\n",
    "        INSERT INTO _variant_attributes (va_id, attr_type)\n",
    "          SELECT va.id, a.type\n",
    "            FROM variant_attribute va\n",
    "            JOIN attribute a ON a.id = va.attribute_id\n",
    "           WHERE va.variant_id = v_current_variant;\n",
    "\n",
    "        v_attr_counter := 0;\n",
    "        FOR rec IN\n",
    "            SELECT va_id, attr_type FROM _variant_attributes\n",
    "        LOOP\n",
    "            cur_va_id     := rec.va_id;\n",
    "            cur_attr_type := rec.attr_type;\n",
    "            v_attr_counter := v_attr_counter + 1;\n",
    "\n",
    "            -- Determine the variant_attr_span ID for this attribute.\n",
    "            IF v_trigger_vas IS NOT NULL THEN\n",
    "                SELECT id\n",
    "                  INTO v_variant_attr_span_id\n",
    "                  FROM variant_attr_span\n",
    "                 WHERE id = v_trigger_vas\n",
    "                   AND variant_attribute_id = cur_va_id\n",
    "                 LIMIT 1;\n",
    "            ELSE\n",
    "                v_variant_attr_span_id := NULL;\n",
    "            END IF;\n",
    "\n",
    "            -- Resolve (or create) the unique vavspan_attr record for this combination.\n",
    "            SELECT id\n",
    "              INTO cur_vavspan_attr_id\n",
    "              FROM vavspan_attr\n",
    "             WHERE variant_attribute_id = cur_va_id\n",
    "               AND ((variant_attr_span_id IS NULL AND v_variant_attr_span_id IS NULL)\n",
    "                    OR variant_attr_span_id = v_variant_attr_span_id)\n",
    "             LIMIT 1;\n",
    "            IF NOT FOUND THEN\n",
    "                INSERT INTO vavspan_attr (variant_attribute_id, variant_attr_span_id)\n",
    "                VALUES (cur_va_id, v_variant_attr_span_id)\n",
    "                RETURNING id INTO cur_vavspan_attr_id;\n",
    "            END IF;\n",
    "\n",
    "            -- Process or update the entity_varattr_value for this resolved vavspan_attr.\n",
    "            IF p_regenerate_entity_state_id IS NOT NULL THEN\n",
    "                SELECT id, span_id\n",
    "                  INTO v_existing_evav_id, v_existing_span_id\n",
    "                  FROM entity_varattr_value\n",
    "                 WHERE entity_state_id = v_entity_state_id\n",
    "                   AND vavspan_attr_id = cur_vavspan_attr_id\n",
    "                 LIMIT 1;\n",
    "            ELSE\n",
    "                v_existing_evav_id := NULL;\n",
    "                v_existing_span_id := NULL;\n",
    "            END IF;\n",
    "\n",
    "            IF p_regenerate_entity_state_id IS NOT NULL AND v_existing_evav_id IS NOT NULL THEN\n",
    "                SELECT count(*) INTO v_lock_count\n",
    "                  FROM evav_lock\n",
    "                 WHERE locked_evav_id = v_existing_evav_id;\n",
    "                IF v_lock_count > 0 THEN\n",
    "                    v_used_span_id := v_existing_span_id;\n",
    "                ELSE\n",
    "                    IF cur_attr_type = 'discrete' THEN\n",
    "                        -- Use the unique vavspan_attr in the roll function call.\n",
    "                        v_new_span_id := roll_discrete_varattr(cur_vavspan_attr_id, 0);\n",
    "                        UPDATE entity_varattr_value\n",
    "                           SET span_id = v_new_span_id\n",
    "                         WHERE id = v_existing_evav_id;\n",
    "                        v_used_span_id := v_new_span_id;\n",
    "                    ELSE\n",
    "                        SELECT t.chosen_span_id, t.chosen_value\n",
    "                          INTO v_new_span_id, v_new_numeric\n",
    "                          FROM roll_continuous_varattr(cur_vavspan_attr_id, 0) t\n",
    "                         LIMIT 1;\n",
    "                        UPDATE entity_varattr_value\n",
    "                           SET span_id = v_new_span_id,\n",
    "                               numeric_value = v_new_numeric\n",
    "                         WHERE id = v_existing_evav_id;\n",
    "                        v_used_span_id := v_new_span_id;\n",
    "                    END IF;\n",
    "                END IF;\n",
    "            ELSE\n",
    "                IF cur_attr_type = 'discrete' THEN\n",
    "                    v_new_span_id := roll_discrete_varattr(cur_vavspan_attr_id, 0);\n",
    "                    INSERT INTO entity_varattr_value(\n",
    "                        entity_state_id,\n",
    "                        numeric_value,\n",
    "                        span_id,\n",
    "                        vavspan_attr_id\n",
    "                    ) VALUES (\n",
    "                        v_entity_state_id,\n",
    "                        NULL,\n",
    "                        v_new_span_id,\n",
    "                        cur_vavspan_attr_id\n",
    "                    );\n",
    "                    v_used_span_id := v_new_span_id;\n",
    "                ELSE\n",
    "                    SELECT t.chosen_span_id, t.chosen_value\n",
    "                      INTO v_new_span_id, v_new_numeric\n",
    "                      FROM roll_continuous_varattr(cur_vavspan_attr_id, 0) t\n",
    "                     LIMIT 1;\n",
    "                    INSERT INTO entity_varattr_value(\n",
    "                        entity_state_id,\n",
    "                        numeric_value,\n",
    "                        span_id,\n",
    "                        vavspan_attr_id\n",
    "                    ) VALUES (\n",
    "                        v_entity_state_id,\n",
    "                        v_new_numeric,\n",
    "                        v_new_span_id,\n",
    "                        cur_vavspan_attr_id\n",
    "                    );\n",
    "                    v_used_span_id := v_new_span_id;\n",
    "                END IF;\n",
    "            END IF;\n",
    "\n",
    "            -- If the chosen span activates a sub–variant, enqueue that variant.\n",
    "            -- The sub–variant is defined by the variant_attr_span that produced the used span.\n",
    "            SELECT variant_id\n",
    "              INTO v_sub_variant_id\n",
    "              FROM variant_attr_span\n",
    "             WHERE variant_attribute_id = cur_va_id\n",
    "               AND id = v_used_span_id\n",
    "             LIMIT 1;\n",
    "            IF v_sub_variant_id IS NOT NULL AND v_sub_variant_id <> v_current_variant THEN\n",
    "                INSERT INTO _variant_queue (variant_id, variant_attr_span_id)\n",
    "                VALUES (v_sub_variant_id, v_used_span_id)\n",
    "                ON CONFLICT DO NOTHING;\n",
    "            END IF;\n",
    "        END LOOP;\n",
    "    END LOOP;\n",
    "\n",
    "    DROP TABLE IF EXISTS _variant_attributes;\n",
    "    DROP TABLE IF EXISTS _variant_queue;\n",
    "END;\n",
    "$$;"
   ]
  },
  {
   "cell_type": "markdown",
   "id": "a4071507",
   "metadata": {},
   "source": [
    "## Get Entity State Details"
   ]
  },
  {
   "cell_type": "code",
   "execution_count": null,
   "id": "4b2ac892",
   "metadata": {
    "vscode": {
     "languageId": "sql"
    }
   },
   "outputs": [],
   "source": [
    "%%sql\n",
    "\n",
    "DROP TYPE IF EXISTS entity_state_details CASCADE;\n",
    "CREATE TYPE entity_state_details AS (\n",
    "  \"Index\"                   BIGINT,\n",
    "  \"Attribute\"               VARCHAR(255),\n",
    "  \"Value\"                   DOUBLE PRECISION,\n",
    "  \"Units\"                   VARCHAR(255),\n",
    "  \"Label\"                   VARCHAR(255),\n",
    "  \"Active Variations\"       JSONB,\n",
    "  \"Caused Variant\"          VARCHAR(255),\n",
    "  \"Locked\"                  BOOLEAN\n",
    ");\n",
    "\n",
    "-- Main function: given an entity id, return one row per generated variant attribute value,\n",
    "-- ordered by the effective causation order (i.e. the depth–first order in which\n",
    "-- generate_entity_state processed them). The returned columns are:\n",
    "--\n",
    "--   state_time                -- the time stamp of the entity state\n",
    "--   effective_causation_index -- the effective index (computed via depth–first traversal)\n",
    "--   variant_attribute_name    -- the name of the variant attribute (from variant_attribute.name)\n",
    "--   variant_name              -- the name of the variant that “owns” that attribute\n",
    "--   numeric_value             -- the numeric value (if any, for continuous attributes)\n",
    "--   span_label                -- the label of the chosen span (if any)\n",
    "--   active_variations         -- a JSON object mapping “span addresses” (from ancestors that activated a variation)\n",
    "--                               to arrays of variation details (including any sub–variant name activated)\n",
    "--   sub_variant_name          -- if the chosen span activated a sub–variant, its name (else null)\n",
    "--   is_locked                 -- whether this entity_varattr_value is locked\n",
    "CREATE OR REPLACE FUNCTION get_entity_state_details(\n",
    "    p_entity_id INT,\n",
    "    p_time      DOUBLE PRECISION\n",
    ")\n",
    "RETURNS SETOF entity_state_details\n",
    "LANGUAGE plpgsql\n",
    "AS $$\n",
    "BEGIN\n",
    "  RETURN QUERY\n",
    "  WITH RECURSIVE \n",
    "  -- Compute a per–variant sibling order using causation_index.\n",
    "  ordered_va AS (\n",
    "    SELECT\n",
    "      va.id AS variant_attribute_id,\n",
    "      va.variant_id,\n",
    "      va.attribute_id,\n",
    "      va.name,\n",
    "      va.causation_index,\n",
    "      ROW_NUMBER() OVER (PARTITION BY va.variant_id ORDER BY va.causation_index) AS sibling_order\n",
    "    FROM variant_attribute va\n",
    "  ),\n",
    "  --\n",
    "  -- Build the processing tree while computing two “paths”:\n",
    "  --\n",
    "  --   * attribute_path – the flattened path using \"/\" as separator and not including the span label.\n",
    "  --     For example: Human/Male/Irish/Hair Color\n",
    "  --\n",
    "  --   * json_full_address – same as attribute_path, except that if a span label exists it is appended\n",
    "  --     with a colon (e.g. Human/Male/Irish/Hair Color:Red). This is used as the key in Active Variations.\n",
    "  --\n",
    "  ev_tree AS (\n",
    "    -- Anchor: start with the entity state’s root variant.\n",
    "    SELECT\n",
    "      es.\"time\" AS state_time,\n",
    "      ev.id AS ev_id,\n",
    "      ev.entity_state_id,\n",
    "      ov.variant_attribute_id,\n",
    "      v.name || '/' || ov.name AS attribute_path,\n",
    "      v.name || '/' || ov.name || COALESCE(':' || s.label, '') AS json_full_address,\n",
    "      v.id AS variant_id,\n",
    "      v.name AS variant_name,\n",
    "      ev.numeric_value,\n",
    "      a.units,\n",
    "      ev.span_id,\n",
    "      s.label AS span_label,\n",
    "      vas.variant_id AS activated_sub_variant,\n",
    "      ARRAY[ ov.sibling_order ] AS proc_path\n",
    "    FROM entity_state es\n",
    "    JOIN entity e ON es.entity_id = e.id\n",
    "    JOIN variant v ON e.variant_id = v.id\n",
    "    JOIN entity_varattr_value ev ON ev.entity_state_id = es.id\n",
    "    JOIN ordered_va ov ON ov.variant_attribute_id = ev.variant_attribute_id\n",
    "    JOIN attribute a ON a.id = ov.attribute_id\n",
    "    LEFT JOIN span s ON ev.span_id = s.id\n",
    "    LEFT JOIN variant_attr_span vas \n",
    "           ON vas.id = ev.span_id\n",
    "          AND vas.variant_attribute_id = ov.variant_attribute_id\n",
    "    WHERE e.id = p_entity_id\n",
    "      AND es.\"time\" = p_time\n",
    "      AND ov.variant_id = v.id\n",
    "\n",
    "    UNION ALL\n",
    "\n",
    "    -- Recursive step: for any attribute that activated a sub–variant,\n",
    "    -- process the sub–variant’s attributes.\n",
    "    SELECT\n",
    "      parent.state_time,\n",
    "      ev.id AS ev_id,\n",
    "      ev.entity_state_id,\n",
    "      ov.variant_attribute_id,\n",
    "      parent.attribute_path || '/' || ov.name AS attribute_path,\n",
    "      parent.json_full_address || '/' || ov.name || COALESCE(':' || s.label, '') AS json_full_address,\n",
    "      v_child.id AS variant_id,\n",
    "      v_child.name AS variant_name,\n",
    "      ev.numeric_value,\n",
    "      a.units,\n",
    "      ev.span_id,\n",
    "      s.label AS span_label,\n",
    "      vas.variant_id AS activated_sub_variant,\n",
    "      parent.proc_path || ov.sibling_order AS proc_path\n",
    "    FROM ev_tree parent\n",
    "    JOIN entity_varattr_value ev ON ev.entity_state_id = parent.entity_state_id\n",
    "    JOIN ordered_va ov ON ov.variant_attribute_id = ev.variant_attribute_id\n",
    "    JOIN variant v_child ON ov.variant_id = v_child.id\n",
    "    JOIN attribute a ON a.id = ov.attribute_id\n",
    "    LEFT JOIN span s ON ev.span_id = s.id\n",
    "    LEFT JOIN variant_attr_span vas \n",
    "           ON vas.id = ev.span_id\n",
    "          AND vas.variant_attribute_id = ov.variant_attribute_id\n",
    "    WHERE parent.activated_sub_variant IS NOT NULL\n",
    "      AND ov.variant_id = parent.activated_sub_variant\n",
    "  ),\n",
    "  --\n",
    "  -- Index the tree by ordering lexicographically on proc_path.\n",
    "  ev_indexed AS (\n",
    "    SELECT ev.*,\n",
    "           row_number() OVER (ORDER BY ev.proc_path) AS effective_causation_index\n",
    "    FROM ev_tree ev\n",
    "  )\n",
    "  --\n",
    "  -- Final select: return one row per processed attribute value.\n",
    "  SELECT \n",
    "    ev.effective_causation_index::bigint AS \"Index\",\n",
    "    ev.attribute_path::varchar(255) AS \"Attribute\",\n",
    "    ev.numeric_value::double precision AS \"Value\",\n",
    "    ev.units::varchar(255) AS \"Units\",\n",
    "    ev.span_label::varchar(255) AS \"Label\",\n",
    "    (\n",
    "      SELECT COALESCE(\n",
    "        jsonb_object_agg(anc_variations.json_full_address, anc_variations.variations_array),\n",
    "        '{}'::jsonb\n",
    "      )\n",
    "      FROM (\n",
    "        SELECT\n",
    "          anc.json_full_address,\n",
    "          jsonb_agg(\n",
    "            jsonb_build_object(\n",
    "              'variation_id', v.id,\n",
    "              'is_inactive', v.is_inactive,\n",
    "              'variation_continuous_attr', CASE WHEN vca.id IS NOT NULL THEN to_jsonb(vca) ELSE NULL END,\n",
    "              'variation_activated_span', CASE WHEN vas2.id IS NOT NULL THEN to_jsonb(vas2) ELSE NULL END,\n",
    "              'variation_delta_weight', CASE WHEN vd.id IS NOT NULL THEN to_jsonb(vd) ELSE NULL END,\n",
    "              'variation_inactive_span', CASE WHEN vi.id IS NOT NULL THEN to_jsonb(vi) ELSE NULL END\n",
    "            )\n",
    "          ) AS variations_array\n",
    "        FROM ev_indexed anc\n",
    "        JOIN variation v ON v.activating_span_id = anc.span_id\n",
    "        LEFT JOIN variation_continuous_attr vca ON vca.variation_id = v.id\n",
    "        LEFT JOIN variation_activated_span vas2 ON vas2.variation_id = v.id\n",
    "        LEFT JOIN variation_delta_weight vd ON vd.variation_id = v.id\n",
    "        LEFT JOIN variation_inactive_span vi ON vi.variation_id = v.id\n",
    "        WHERE anc.effective_causation_index < ev.effective_causation_index\n",
    "          AND anc.span_id IS NOT NULL\n",
    "        GROUP BY anc.json_full_address\n",
    "      ) anc_variations\n",
    "    ) AS \"Active Variations\",\n",
    "    (\n",
    "      CASE \n",
    "        WHEN ev.activated_sub_variant IS NOT NULL THEN\n",
    "           (SELECT v2.name FROM variant v2 WHERE v2.id = ev.activated_sub_variant)\n",
    "        ELSE NULL\n",
    "      END\n",
    "    )::varchar(255) AS \"Caused Variant\",\n",
    "    EXISTS (\n",
    "      SELECT 1 \n",
    "      FROM evav_lock \n",
    "      WHERE locked_evav_id = ev.ev_id\n",
    "    ) AS \"Locked\"\n",
    "  FROM ev_indexed ev\n",
    "  ORDER BY ev.effective_causation_index;\n",
    "END;\n",
    "$$;"
   ]
  },
  {
   "cell_type": "markdown",
   "id": "97932825",
   "metadata": {},
   "source": [
    "## Generate Entity Group"
   ]
  },
  {
   "cell_type": "code",
   "execution_count": null,
   "id": "c0f3a6af",
   "metadata": {
    "vscode": {
     "languageId": "sql"
    }
   },
   "outputs": [],
   "source": [
    "%%sql\n",
    "\n",
    "CREATE OR REPLACE PROCEDURE generate_entity_group(\n",
    "    p_variant_id           INTEGER,\n",
    "    p_group_name           VARCHAR,\n",
    "    p_entity_name_template VARCHAR,\n",
    "    p_num_entities         INTEGER\n",
    ")\n",
    "LANGUAGE plpgsql AS $$\n",
    "DECLARE\n",
    "    v_entity_group_id  INTEGER;\n",
    "    v_entity_id        INTEGER;\n",
    "    v_entity_state_id  INTEGER;\n",
    "    v_idx              INTEGER;\n",
    "    v_entity_name      VARCHAR(255);\n",
    "BEGIN\n",
    "    INSERT INTO entity_group (name)\n",
    "    VALUES (p_group_name)\n",
    "    RETURNING id INTO v_entity_group_id;\n",
    "\n",
    "    FOR v_idx IN 1..p_num_entities LOOP\n",
    "        v_entity_name := format(p_entity_name_template, v_idx);\n",
    "\n",
    "        INSERT INTO entity (variant_id, name)\n",
    "        VALUES (p_variant_id, v_entity_name)\n",
    "        RETURNING id INTO v_entity_id;\n",
    "\n",
    "        INSERT INTO entity_group_link (entity_id, entity_group_id)\n",
    "        VALUES (v_entity_id, v_entity_group_id);\n",
    "\n",
    "        CALL generate_entity_state(v_entity_id, 0, NULL);\n",
    "    END LOOP;\n",
    "END;\n",
    "$$;"
   ]
  },
  {
   "cell_type": "markdown",
   "id": "72f064af",
   "metadata": {},
   "source": [
    "## Get Entity Group Details"
   ]
  },
  {
   "cell_type": "code",
   "execution_count": null,
   "id": "1b354858",
   "metadata": {
    "vscode": {
     "languageId": "sql"
    }
   },
   "outputs": [],
   "source": [
    "%%sql\n",
    "\n",
    "CREATE OR REPLACE FUNCTION get_entity_group_state_details(\n",
    "    p_entity_group_id INT\n",
    ")\n",
    "RETURNS TEXT\n",
    "LANGUAGE sql\n",
    "AS $$\n",
    "  SELECT jsonb_pretty(\n",
    "           COALESCE(\n",
    "             jsonb_object_agg(e.name, details),\n",
    "             '{}'::jsonb\n",
    "           )\n",
    "         )\n",
    "  FROM (\n",
    "    SELECT e.name,\n",
    "           (\n",
    "             SELECT jsonb_agg(\n",
    "                      jsonb_strip_nulls(\n",
    "                        jsonb_build_object(\n",
    "                          'Attribute', d.\"Attribute\",\n",
    "                          'Value', CASE \n",
    "                                     WHEN d.\"Value\" IS NOT NULL \n",
    "                                       THEN CASE \n",
    "                                              WHEN d.\"Units\" IS NOT NULL \n",
    "                                                THEN d.\"Value\"::text || ' ' || d.\"Units\"\n",
    "                                              ELSE d.\"Value\"::text\n",
    "                                            END\n",
    "                                     ELSE NULL\n",
    "                                   END,\n",
    "                          'Label', d.\"Label\",\n",
    "                          'Active Variations', CASE \n",
    "                                                 WHEN d.\"Active Variations\" = '{}'::jsonb THEN NULL \n",
    "                                                 ELSE d.\"Active Variations\" \n",
    "                                               END,\n",
    "                          'Caused Variant', d.\"Caused Variant\",\n",
    "                          'Locked', CASE WHEN d.\"Locked\" THEN d.\"Locked\" ELSE NULL END\n",
    "                        )\n",
    "                      )\n",
    "                    )\n",
    "             FROM get_entity_state_details(e.id, 0) AS d\n",
    "           ) AS details\n",
    "    FROM entity e\n",
    "    JOIN entity_group_link egl ON e.id = egl.entity_id\n",
    "    WHERE egl.entity_group_id = p_entity_group_id\n",
    "  ) e;\n",
    "$$;"
   ]
  },
  {
   "cell_type": "markdown",
   "id": "dae6b54d",
   "metadata": {},
   "source": [
    "## Set Span as Sub-Variant Activating Span"
   ]
  },
  {
   "cell_type": "code",
   "execution_count": null,
   "id": "304f989c",
   "metadata": {
    "vscode": {
     "languageId": "sql"
    }
   },
   "outputs": [],
   "source": [
    "%%sql\n",
    "\n",
    "CREATE OR REPLACE PROCEDURE set_variant_attr_span(\n",
    "    p_variant_id INT,\n",
    "    p_variant_attribute_id INT,\n",
    "    p_span_id INT,\n",
    "    OUT new_variant_attr_span_id INT\n",
    ")\n",
    "LANGUAGE plpgsql\n",
    "AS $$\n",
    "BEGIN\n",
    "  INSERT INTO variant_attr_span(variant_id, variant_attribute_id, span_id)\n",
    "  VALUES (p_variant_id, p_variant_attribute_id, p_span_id)\n",
    "  RETURNING id INTO new_variant_attr_span_id;\n",
    "END;\n",
    "$$;"
   ]
  },
  {
   "cell_type": "markdown",
   "id": "0519943b",
   "metadata": {},
   "source": [
    "## Add Variation"
   ]
  },
  {
   "cell_type": "code",
   "execution_count": null,
   "id": "84561349",
   "metadata": {
    "vscode": {
     "languageId": "sql"
    }
   },
   "outputs": [],
   "source": [
    "%%sql\n",
    "\n",
    "CREATE OR REPLACE PROCEDURE add_variation(\n",
    "    p_activating_span_id INT,\n",
    "    p_activating_variant_attr_span_id INT,\n",
    "    p_activating_variant_attribute_id INT,\n",
    "    p_to_modify_variant_attr_span_id INT,\n",
    "    p_to_modify_variant_attribute_id INT\n",
    ")\n",
    "LANGUAGE plpgsql\n",
    "AS $$\n",
    "DECLARE\n",
    "    v_to_modify_vavspan_attr_id INT;\n",
    "    v_activating_vavspan_attr_id INT;\n",
    "BEGIN\n",
    "    -- Try to get an existing vavspan_attr row for the \"to modify\" attribute.\n",
    "    SELECT id INTO v_to_modify_vavspan_attr_id\n",
    "      FROM vavspan_attr\n",
    "     WHERE variant_attribute_id = p_to_modify_variant_attribute_id\n",
    "       AND variant_attr_span_id = p_to_modify_variant_attr_span_id\n",
    "     LIMIT 1;\n",
    "\n",
    "    -- If none exists, insert one.\n",
    "    IF v_to_modify_vavspan_attr_id IS NULL THEN\n",
    "        INSERT INTO vavspan_attr (variant_attribute_id, variant_attr_span_id)\n",
    "        VALUES (p_to_modify_variant_attribute_id, p_to_modify_variant_attr_span_id)\n",
    "        RETURNING id INTO v_to_modify_vavspan_attr_id;\n",
    "    END IF;\n",
    "\n",
    "    -- Try to get an existing vavspan_attr row for the \"activating\" attribute.\n",
    "    SELECT id INTO v_activating_vavspan_attr_id\n",
    "      FROM vavspan_attr\n",
    "     WHERE variant_attribute_id = p_activating_variant_attribute_id\n",
    "       AND variant_attr_span_id = p_activating_variant_attr_span_id\n",
    "     LIMIT 1;\n",
    "\n",
    "    -- If none exists, insert one.\n",
    "    IF v_activating_vavspan_attr_id IS NULL THEN\n",
    "        INSERT INTO vavspan_attr (variant_attribute_id, variant_attr_span_id)\n",
    "        VALUES (p_activating_variant_attribute_id, p_activating_variant_attr_span_id)\n",
    "        RETURNING id INTO v_activating_vavspan_attr_id;\n",
    "    END IF;\n",
    "\n",
    "    -- Insert the new variation using the determined vavspan_attr IDs.\n",
    "    INSERT INTO variation(\n",
    "        activating_span_id, \n",
    "        to_modify_vavspan_attr_id, \n",
    "        activating_vavspan_attr_id\n",
    "    )\n",
    "    VALUES (\n",
    "        p_activating_span_id, \n",
    "        v_to_modify_vavspan_attr_id, \n",
    "        v_activating_vavspan_attr_id\n",
    "    )\n",
    "    RETURNING id INTO new_variation_id;\n",
    "END;\n",
    "$$;"
   ]
  },
  {
   "cell_type": "markdown",
   "id": "dac0d2aa",
   "metadata": {},
   "source": [
    "## Add Parameter Delta Effect to Variation"
   ]
  },
  {
   "cell_type": "code",
   "execution_count": null,
   "id": "44d7fc64",
   "metadata": {
    "vscode": {
     "languageId": "sql"
    }
   },
   "outputs": [],
   "source": [
    "%%sql\n",
    "\n",
    "CREATE OR REPLACE PROCEDURE set_continuous_variation_span(\n",
    "    p_variation_id INT,\n",
    "    p_delta_mode DOUBLE PRECISION,\n",
    "    p_delta_conc DOUBLE PRECISION,\n",
    "    p_delta_skew DOUBLE PRECISION\n",
    ")\n",
    "LANGUAGE plpgsql\n",
    "AS $$\n",
    "BEGIN\n",
    "  INSERT INTO variation_continuous_attr(variation_id, delta_mode, delta_conc, delta_skew)\n",
    "  VALUES (p_variation_id, p_delta_mode, p_delta_conc, p_delta_skew);\n",
    "END;\n",
    "$$;"
   ]
  },
  {
   "cell_type": "markdown",
   "id": "5dbec028",
   "metadata": {},
   "source": [
    "## Add Additional Possibility Effect to Variation"
   ]
  },
  {
   "cell_type": "code",
   "execution_count": null,
   "id": "3028dd2d",
   "metadata": {
    "vscode": {
     "languageId": "sql"
    }
   },
   "outputs": [],
   "source": [
    "%%sql\n",
    "\n",
    "CREATE OR REPLACE PROCEDURE set_span_activating_span(\n",
    "    p_variation_id INT,\n",
    "    p_span_id INT\n",
    ")\n",
    "LANGUAGE plpgsql\n",
    "AS $$\n",
    "BEGIN\n",
    "  INSERT INTO variation_activated_span(variation_id, span_id)\n",
    "  VALUES (p_variation_id, p_span_id);\n",
    "END;\n",
    "$$;"
   ]
  },
  {
   "cell_type": "markdown",
   "id": "965fe07b",
   "metadata": {},
   "source": [
    "## Add Delta Weight Effect to Variation"
   ]
  },
  {
   "cell_type": "code",
   "execution_count": null,
   "id": "1b05bfbc",
   "metadata": {
    "vscode": {
     "languageId": "sql"
    }
   },
   "outputs": [],
   "source": [
    "%%sql\n",
    "\n",
    "CREATE OR REPLACE PROCEDURE set_delta_weight_span(\n",
    "    p_variation_id INT,\n",
    "    p_span_id INT,\n",
    "    p_delta_weight DOUBLE PRECISION\n",
    ")\n",
    "LANGUAGE plpgsql\n",
    "AS $$\n",
    "BEGIN\n",
    "  INSERT INTO variation_delta_weight(variation_id, span_id, delta_weight)\n",
    "  VALUES (p_variation_id, p_span_id, p_delta_weight);\n",
    "END;\n",
    "$$;"
   ]
  },
  {
   "cell_type": "markdown",
   "id": "9bebe162",
   "metadata": {},
   "source": [
    "## Add Removed Possibility Effect to Variation"
   ]
  },
  {
   "cell_type": "code",
   "execution_count": null,
   "id": "cb2d77ff",
   "metadata": {
    "vscode": {
     "languageId": "sql"
    }
   },
   "outputs": [],
   "source": [
    "%%sql\n",
    "\n",
    "CREATE OR REPLACE PROCEDURE set_span_disabling_span(\n",
    "    p_variation_id INT,\n",
    "    p_span_id INT\n",
    ")\n",
    "LANGUAGE plpgsql\n",
    "AS $$\n",
    "BEGIN\n",
    "  INSERT INTO variation_inactive_span(variation_id, span_id)\n",
    "  VALUES (p_variation_id, p_span_id);\n",
    "END;\n",
    "$$;"
   ]
  },
  {
   "cell_type": "markdown",
   "id": "ed6c7819",
   "metadata": {},
   "source": [
    "## Add Forward Possibility Link"
   ]
  },
  {
   "cell_type": "code",
   "execution_count": null,
   "id": "f32a5391",
   "metadata": {
    "vscode": {
     "languageId": "sql"
    }
   },
   "outputs": [],
   "source": [
    "%%sql\n",
    "\n",
    "CREATE OR REPLACE PROCEDURE link_vavspan_attr(\n",
    "    p_variant_attribute_id INT,\n",
    "    p_variant_attr_span_id INT\n",
    ")\n",
    "LANGUAGE plpgsql\n",
    "AS $$\n",
    "BEGIN\n",
    "  INSERT INTO vavspan_attr(variant_attribute_id, variant_attr_span_id)\n",
    "  VALUES (p_variant_attribute_id, p_variant_attr_span_id);\n",
    "END;\n",
    "$$;"
   ]
  },
  {
   "cell_type": "markdown",
   "id": "58191248-9e13-40e6-8942-7914c89c99a0",
   "metadata": {
    "jp-MarkdownHeadingCollapsed": true
   },
   "source": [
    "# Inspect Schema"
   ]
  },
  {
   "cell_type": "markdown",
   "id": "f21806f2-88ed-46b4-aa46-763733989735",
   "metadata": {},
   "source": [
    "## List Tables"
   ]
  },
  {
   "cell_type": "code",
   "execution_count": null,
   "id": "073e64ae-9d52-4ad0-ac5b-836d98f60deb",
   "metadata": {},
   "outputs": [],
   "source": [
    "%%sql\n",
    "\n",
    "SELECT tablename AS name\n",
    "FROM pg_catalog.pg_tables\n",
    "WHERE schemaname NOT IN ('pg_catalog', 'information_schema')\n",
    "ORDER BY schemaname, tablename;"
   ]
  },
  {
   "cell_type": "markdown",
   "id": "616e5ce1",
   "metadata": {},
   "source": [
    "## List Procedures"
   ]
  },
  {
   "cell_type": "code",
   "execution_count": null,
   "id": "c42ce3b8",
   "metadata": {
    "vscode": {
     "languageId": "sql"
    }
   },
   "outputs": [],
   "source": [
    "%%sql\n",
    "\n",
    "SELECT proname AS name, pg_catalog.pg_get_function_arguments(p.oid) AS arguments\n",
    "FROM pg_catalog.pg_proc p\n",
    "JOIN pg_catalog.pg_namespace n ON n.oid = p.pronamespace\n",
    "WHERE p.prokind = 'p' AND n.nspname = 'public'\n",
    "ORDER BY n.nspname, proname;"
   ]
  },
  {
   "cell_type": "markdown",
   "id": "957f44b0-fe34-4820-8b89-296ee8526be0",
   "metadata": {},
   "source": [
    "## List Functions"
   ]
  },
  {
   "cell_type": "code",
   "execution_count": null,
   "id": "b1f77168-da9a-4198-80ea-2eaf89a5ef2b",
   "metadata": {},
   "outputs": [],
   "source": [
    "%%sql\n",
    "\n",
    "SELECT proname AS name,\n",
    "       pg_catalog.pg_get_function_arguments(p.oid) AS arguments,\n",
    "       pg_catalog.pg_get_function_result(p.oid) AS return_type\n",
    "FROM pg_catalog.pg_proc p\n",
    "JOIN pg_catalog.pg_namespace n ON n.oid = p.pronamespace\n",
    "WHERE p.prokind = 'f' AND n.nspname = 'public'\n",
    "ORDER BY n.nspname, proname;"
   ]
  },
  {
   "cell_type": "markdown",
   "id": "4e6a623f-dc54-4e65-92db-f4d8293e4d8e",
   "metadata": {},
   "source": [
    "## List Indices"
   ]
  },
  {
   "cell_type": "code",
   "execution_count": null,
   "id": "d96079b6-f4e1-40c5-849d-d258592de5f8",
   "metadata": {},
   "outputs": [],
   "source": [
    "%%sql\n",
    "\n",
    "SELECT i.relname AS index_name, t.relname AS table_name\n",
    "FROM pg_catalog.pg_index ix\n",
    "JOIN pg_catalog.pg_class i ON i.oid = ix.indexrelid\n",
    "JOIN pg_catalog.pg_class t ON t.oid = ix.indrelid\n",
    "JOIN pg_catalog.pg_namespace n ON n.oid = t.relnamespace\n",
    "WHERE n.nspname = 'public'\n",
    "ORDER BY n.nspname, t.relname, i.relname;"
   ]
  }
 ],
 "metadata": {
  "kernelspec": {
   "display_name": "Python (jupyter_env)",
   "language": "python",
   "name": "jupyter_env"
  },
  "language_info": {
   "codemirror_mode": {
    "name": "ipython",
    "version": 3
   },
   "file_extension": ".py",
   "mimetype": "text/x-python",
   "name": "python",
   "nbconvert_exporter": "python",
   "pygments_lexer": "ipython3",
   "version": "3.13.1"
  }
 },
 "nbformat": 4,
 "nbformat_minor": 5
}
