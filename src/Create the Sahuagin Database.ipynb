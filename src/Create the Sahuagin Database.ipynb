{
 "cells": [
  {
   "cell_type": "markdown",
   "id": "454d1927",
   "metadata": {},
   "source": [
    "# Install Dependencies\n",
    "Install additional packages needed to run SQL command in Jupyter cells and send them to a Postgres database server."
   ]
  },
  {
   "cell_type": "markdown",
   "id": "0600e19b",
   "metadata": {},
   "source": [
    "## PostgreSQL\n",
    "Allows for a self-contained instance of PostresSQL for this notebook."
   ]
  },
  {
   "cell_type": "code",
   "execution_count": null,
   "id": "42a03f56",
   "metadata": {},
   "outputs": [],
   "source": [
    "%mamba install -y -c conda-forge postgresql=17 --quiet\n",
    "!psql --version"
   ]
  },
  {
   "cell_type": "markdown",
   "id": "2e9b79f9",
   "metadata": {},
   "source": [
    "## PostgreSQL Adapter for Python\n",
    "Essential for connecting and interacting with PostgreSQL databases from Python code in Jupyter notebooks."
   ]
  },
  {
   "cell_type": "code",
   "execution_count": null,
   "id": "00a39a5a",
   "metadata": {
    "jupyter": {
     "source_hidden": true
    }
   },
   "outputs": [],
   "source": [
    "%mamba install -c conda-forge psycopg2 -y --quiet\n",
    "!python -c \"import psycopg2; print(psycopg2.__version__)\""
   ]
  },
  {
   "cell_type": "markdown",
   "id": "3dd205f8",
   "metadata": {},
   "source": [
    "## Language Server Protocol for Jupyter\n",
    "Enables code completion, hover documentation, and real-time syntax checking for multiple languages in Jupyter notebooks, including SQL."
   ]
  },
  {
   "cell_type": "code",
   "execution_count": null,
   "id": "d8695fc9",
   "metadata": {},
   "outputs": [],
   "source": [
    "%mamba install -c conda-forge jupyterlab-lsp -y --quiet\n",
    "!jupyter labextension list\n",
    "!jupyter server extension list"
   ]
  },
  {
   "cell_type": "markdown",
   "id": "9d51630c",
   "metadata": {},
   "source": [
    "## Language Server for Python\n",
    "Provides real-time linting, code suggestions, and auto-completion in Jupyter notebooks for Python code."
   ]
  },
  {
   "cell_type": "code",
   "execution_count": null,
   "id": "54f524e2",
   "metadata": {},
   "outputs": [],
   "source": [
    "%mamba install -c conda-forge python-lsp-server -y --quiet\n",
    "!pylsp --version"
   ]
  },
  {
   "cell_type": "markdown",
   "id": "25a1410c",
   "metadata": {},
   "source": [
    "## SQL Magic Extension for Jupyter\n",
    "Allows running SQL queries directly in Jupyter notebooks using SQL magic (%%sql). Enables seamless execution of SQL queries inside a Jupyter Notebook without switching to a database client."
   ]
  },
  {
   "cell_type": "code",
   "execution_count": null,
   "id": "9975a9cb",
   "metadata": {},
   "outputs": [],
   "source": [
    "%mamba install -c conda-forge jupysql -y --quiet\n",
    "!python -c \"import sql; print(sql.__version__)\"\n",
    "!jupyter labextension list"
   ]
  },
  {
   "cell_type": "markdown",
   "id": "43b047d9",
   "metadata": {},
   "source": [
    "## SQL Editor Extension\n",
    "Enables SQL-specific features in Jupyter notebooks, such as:\n",
    "* Syntax highlighting\n",
    "* Query auto-completion\n",
    "* Error checking"
   ]
  },
  {
   "cell_type": "code",
   "execution_count": null,
   "id": "16d489df",
   "metadata": {},
   "outputs": [],
   "source": [
    "%pip install jupyterlab_sql_editor --quiet\n",
    "!jupyter labextension list"
   ]
  },
  {
   "cell_type": "markdown",
   "id": "617aed9a",
   "metadata": {
    "jp-MarkdownHeadingCollapsed": true
   },
   "source": [
    "# Start PostgreSQL"
   ]
  },
  {
   "cell_type": "markdown",
   "id": "03c3464e",
   "metadata": {},
   "source": [
    "## Define paths and logfile"
   ]
  },
  {
   "cell_type": "code",
   "execution_count": 1062,
   "id": "e8d57513",
   "metadata": {},
   "outputs": [],
   "source": [
    "import os\n",
    "\n",
    "DB_DIR = \"mylocal_db\"\n",
    "LOGFILE = \"postgres_log.txt\"\n",
    "PG_HBA_PATH = os.path.join(DB_DIR, \"pg_hba.conf\")"
   ]
  },
  {
   "cell_type": "markdown",
   "id": "b9a57066",
   "metadata": {},
   "source": [
    "## Check PostgreSQL status"
   ]
  },
  {
   "cell_type": "code",
   "execution_count": 1063,
   "id": "9492f395",
   "metadata": {},
   "outputs": [
    {
     "name": "stdout",
     "output_type": "stream",
     "text": [
      "pg_ctl: server is running (PID: 74777)\n",
      "/Users/nashspence/miniforge3/envs/jupyter-env/bin/postgres \"-D\" \"mylocal_db\"\n"
     ]
    }
   ],
   "source": [
    "!pg_ctl -D $DB_DIR status"
   ]
  },
  {
   "cell_type": "markdown",
   "id": "de7284f6",
   "metadata": {},
   "source": [
    "## Stop any existing PostgreSQL process"
   ]
  },
  {
   "cell_type": "code",
   "execution_count": 1064,
   "id": "0556ea23",
   "metadata": {},
   "outputs": [
    {
     "name": "stdout",
     "output_type": "stream",
     "text": [
      "waiting for server to shut down.... done\n",
      "server stopped\n"
     ]
    }
   ],
   "source": [
    "!pg_ctl stop -D $DB_DIR -m fast || echo \"Nothing to stop.\""
   ]
  },
  {
   "cell_type": "markdown",
   "id": "18242e19",
   "metadata": {},
   "source": [
    "## Initialize the database if necessary"
   ]
  },
  {
   "cell_type": "code",
   "execution_count": 1065,
   "id": "00979310",
   "metadata": {},
   "outputs": [],
   "source": [
    "import os\n",
    "\n",
    "if not os.path.exists(DB_DIR) or not os.path.exists(os.path.join(DB_DIR, \"PG_VERSION\")):\n",
    "    os.makedirs(DB_DIR, exist_ok=True)\n",
    "    !initdb -D $DB_DIR"
   ]
  },
  {
   "cell_type": "markdown",
   "id": "26cab865",
   "metadata": {},
   "source": [
    "## Modify pg_hba.conf to allow trust authentication for user \"notebook\""
   ]
  },
  {
   "cell_type": "code",
   "execution_count": 1066,
   "id": "bccaaf4a",
   "metadata": {},
   "outputs": [],
   "source": [
    "with open(PG_HBA_PATH, \"a\") as pg_hba:\n",
    "    pg_hba.write(\"\\nlocal   all             notebook                                trust\\n\")\n",
    "    pg_hba.write(\"host    all             notebook        127.0.0.1/32          trust\\n\")\n",
    "    pg_hba.write(\"host    all             notebook        ::1/128               trust\\n\")"
   ]
  },
  {
   "cell_type": "markdown",
   "id": "57b39d1a",
   "metadata": {},
   "source": [
    "## Start PostgreSQL server"
   ]
  },
  {
   "cell_type": "code",
   "execution_count": 1067,
   "id": "a9ebdbaf",
   "metadata": {},
   "outputs": [],
   "source": [
    "import subprocess\n",
    "import time\n",
    "import atexit\n",
    "\n",
    "def stop_postgres():\n",
    "    !pg_ctl -D $DB_DIR stop\n",
    "\n",
    "atexit.register(stop_postgres)\n",
    "\n",
    "with open(LOGFILE, \"a\") as logfile:\n",
    "    subprocess.Popen([\"pg_ctl\", \"-D\", DB_DIR, \"-l\", LOGFILE, \"start\"],\n",
    "                     stdout=logfile, stderr=logfile)\n",
    "time.sleep(5)"
   ]
  },
  {
   "cell_type": "markdown",
   "id": "2c905567",
   "metadata": {},
   "source": [
    "## Create the \"notebook\" user with full permissions"
   ]
  },
  {
   "cell_type": "code",
   "execution_count": 1068,
   "id": "1a0fa416",
   "metadata": {
    "vscode": {
     "languageId": "shellscript"
    }
   },
   "outputs": [
    {
     "name": "stdout",
     "output_type": "stream",
     "text": [
      "ERROR:  role \"notebook\" already exists\n",
      "User already exists.\n",
      "ALTER ROLE\n"
     ]
    }
   ],
   "source": [
    "!psql -d postgres -c \"CREATE USER notebook WITH SUPERUSER;\" || echo \"User already exists.\"\n",
    "!psql -d postgres -c \"ALTER USER notebook WITH PASSWORD NULL;\""
   ]
  },
  {
   "cell_type": "markdown",
   "id": "44fcff62",
   "metadata": {
    "jp-MarkdownHeadingCollapsed": true
   },
   "source": [
    "# Connect"
   ]
  },
  {
   "cell_type": "markdown",
   "id": "d6825d93",
   "metadata": {},
   "source": [
    "## Load & Configure SQLMagic"
   ]
  },
  {
   "cell_type": "code",
   "execution_count": 1069,
   "id": "6e8dcd5b",
   "metadata": {},
   "outputs": [
    {
     "name": "stdout",
     "output_type": "stream",
     "text": [
      "The sql extension is already loaded. To reload it, use:\n",
      "  %reload_ext sql\n"
     ]
    },
    {
     "data": {
      "text/html": [
       "<span style=\"None\">displaylimit: Value None will be treated as 0 (no limit)</span>"
      ],
      "text/plain": [
       "displaylimit: Value None will be treated as 0 (no limit)"
      ]
     },
     "metadata": {},
     "output_type": "display_data"
    }
   ],
   "source": [
    "%load_ext sql\n",
    "%config SqlMagic.displaylimit = None\n",
    "%config SqlMagic.named_parameters = \"enabled\""
   ]
  },
  {
   "cell_type": "markdown",
   "id": "10c250dd",
   "metadata": {},
   "source": [
    "## Create Fresh sahuagin Database"
   ]
  },
  {
   "cell_type": "code",
   "execution_count": 1070,
   "id": "0e68c179",
   "metadata": {},
   "outputs": [
    {
     "name": "stdout",
     "output_type": "stream",
     "text": [
      " pg_terminate_backend \n",
      "----------------------\n",
      "(0 rows)\n",
      "\n",
      "DROP DATABASE\n",
      "CREATE DATABASE\n"
     ]
    }
   ],
   "source": [
    "!psql -U notebook -d postgres -c \"SELECT pg_terminate_backend(pid) FROM pg_stat_activity WHERE datname = 'sahuagin';\"\n",
    "!psql -U notebook -d postgres -c \"DROP DATABASE IF EXISTS sahuagin;\"\n",
    "!psql -U notebook -d postgres -c \"CREATE DATABASE sahuagin;\""
   ]
  },
  {
   "cell_type": "markdown",
   "id": "26cf3d20",
   "metadata": {},
   "source": [
    "## Connect to sahuagin Database"
   ]
  },
  {
   "cell_type": "code",
   "execution_count": 1071,
   "id": "4199fc7c-d1ca-4342-8f5f-b731790c7bcd",
   "metadata": {},
   "outputs": [],
   "source": [
    "%sql postgresql://notebook@localhost:5432/sahuagin"
   ]
  },
  {
   "cell_type": "markdown",
   "id": "30435a1a",
   "metadata": {
    "jp-MarkdownHeadingCollapsed": true
   },
   "source": [
    "# Create Tables & Types"
   ]
  },
  {
   "cell_type": "markdown",
   "id": "f698e65d",
   "metadata": {},
   "source": [
    "## Attribute Type"
   ]
  },
  {
   "cell_type": "code",
   "execution_count": 1072,
   "id": "681cf2b1-ce90-42f7-bcb5-b254c27d6f18",
   "metadata": {
    "editable": true,
    "slideshow": {
     "slide_type": ""
    },
    "tags": [],
    "vscode": {
     "languageId": "sql"
    }
   },
   "outputs": [
    {
     "data": {
      "text/html": [
       "<span style=\"None\">Running query in &#x27;postgresql://notebook@localhost:5432/sahuagin&#x27;</span>"
      ],
      "text/plain": [
       "Running query in 'postgresql://notebook@localhost:5432/sahuagin'"
      ]
     },
     "metadata": {},
     "output_type": "display_data"
    },
    {
     "name": "stderr",
     "output_type": "stream",
     "text": [
      "/Users/nashspence/miniforge3/envs/jupyter-env/lib/python3.11/site-packages/sql/connection/connection.py:899: JupySQLRollbackPerformed: Server closed connection. JupySQL executed a ROLLBACK operation.\n",
      "  warnings.warn(\n"
     ]
    },
    {
     "data": {
      "text/html": [
       "<table>\n",
       "    <thead>\n",
       "        <tr>\n",
       "        </tr>\n",
       "    </thead>\n",
       "    <tbody>\n",
       "    </tbody>\n",
       "</table>"
      ],
      "text/plain": [
       "++\n",
       "||\n",
       "++\n",
       "++"
      ]
     },
     "execution_count": 1072,
     "metadata": {},
     "output_type": "execute_result"
    }
   ],
   "source": [
    "%%sql\n",
    "\n",
    "DROP TYPE IF EXISTS attribute_type CASCADE;\n",
    "CREATE TYPE attribute_type AS ENUM ('discrete','continuous');"
   ]
  },
  {
   "cell_type": "markdown",
   "id": "48c53a4c",
   "metadata": {},
   "source": [
    "## Attribute"
   ]
  },
  {
   "cell_type": "code",
   "execution_count": 1073,
   "id": "59a3bb70",
   "metadata": {
    "vscode": {
     "languageId": "sql"
    }
   },
   "outputs": [
    {
     "data": {
      "text/html": [
       "<span style=\"None\">Running query in &#x27;postgresql://notebook@localhost:5432/sahuagin&#x27;</span>"
      ],
      "text/plain": [
       "Running query in 'postgresql://notebook@localhost:5432/sahuagin'"
      ]
     },
     "metadata": {},
     "output_type": "display_data"
    },
    {
     "data": {
      "text/html": [
       "<table>\n",
       "    <thead>\n",
       "        <tr>\n",
       "        </tr>\n",
       "    </thead>\n",
       "    <tbody>\n",
       "    </tbody>\n",
       "</table>"
      ],
      "text/plain": [
       "++\n",
       "||\n",
       "++\n",
       "++"
      ]
     },
     "execution_count": 1073,
     "metadata": {},
     "output_type": "execute_result"
    }
   ],
   "source": [
    "%%sql\n",
    "\n",
    "DROP TABLE IF EXISTS attribute CASCADE;\n",
    "CREATE TABLE attribute (\n",
    "    id integer GENERATED ALWAYS AS IDENTITY PRIMARY KEY,\n",
    "    name varchar(255) NOT NULL UNIQUE,\n",
    "    type attribute_type NOT NULL,\n",
    "    decimals integer,\n",
    "    max_value double precision,\n",
    "    min_value double precision,\n",
    "    mode_value double precision,\n",
    "    concentration double precision,\n",
    "    skew double precision,\n",
    "    units varchar(255),\n",
    "    CHECK (\n",
    "        max_value IS NULL\n",
    "        OR min_value IS NULL\n",
    "        OR max_value >= min_value\n",
    "    ),\n",
    "    CHECK (\n",
    "        (\n",
    "            type = 'discrete'\n",
    "            AND decimals IS NULL\n",
    "            AND max_value IS NULL\n",
    "            AND min_value IS NULL\n",
    "            AND mode_value IS NULL\n",
    "            AND concentration IS NULL\n",
    "            AND skew IS NULL\n",
    "            AND units IS NULL\n",
    "        )\n",
    "        OR (\n",
    "            type = 'continuous'\n",
    "            AND decimals IS NOT NULL\n",
    "            AND max_value IS NOT NULL\n",
    "            AND min_value IS NOT NULL\n",
    "            AND mode_value IS NOT NULL\n",
    "            AND concentration IS NOT NULL\n",
    "            AND skew IS NOT NULL\n",
    "        )\n",
    "    )\n",
    ");"
   ]
  },
  {
   "cell_type": "markdown",
   "id": "7d9479d0",
   "metadata": {},
   "source": [
    "## Span"
   ]
  },
  {
   "cell_type": "code",
   "execution_count": 1074,
   "id": "65160534",
   "metadata": {
    "vscode": {
     "languageId": "sql"
    }
   },
   "outputs": [
    {
     "data": {
      "text/html": [
       "<span style=\"None\">Running query in &#x27;postgresql://notebook@localhost:5432/sahuagin&#x27;</span>"
      ],
      "text/plain": [
       "Running query in 'postgresql://notebook@localhost:5432/sahuagin'"
      ]
     },
     "metadata": {},
     "output_type": "display_data"
    },
    {
     "data": {
      "text/html": [
       "<table>\n",
       "    <thead>\n",
       "        <tr>\n",
       "        </tr>\n",
       "    </thead>\n",
       "    <tbody>\n",
       "    </tbody>\n",
       "</table>"
      ],
      "text/plain": [
       "++\n",
       "||\n",
       "++\n",
       "++"
      ]
     },
     "execution_count": 1074,
     "metadata": {},
     "output_type": "execute_result"
    }
   ],
   "source": [
    "%%sql\n",
    "\n",
    "DROP TABLE IF EXISTS span CASCADE;\n",
    "CREATE TABLE span (\n",
    "    id integer GENERATED ALWAYS AS IDENTITY PRIMARY KEY,\n",
    "    attribute_id integer NOT NULL,\n",
    "    label varchar(255) NOT NULL,\n",
    "    type attribute_type NOT NULL,\n",
    "    is_pinned boolean,\n",
    "    weight double precision,\n",
    "    max_value double precision,\n",
    "    min_value double precision,\n",
    "    CONSTRAINT uq_span_label_within_attribute UNIQUE (attribute_id, type, label),\n",
    "    CONSTRAINT fk_span_to_attribute FOREIGN KEY (attribute_id) REFERENCES attribute (id) ON DELETE CASCADE,\n",
    "    CHECK (\n",
    "        max_value IS NULL\n",
    "        OR min_value IS NULL\n",
    "        OR max_value >= min_value\n",
    "    ),\n",
    "    CHECK (\n",
    "        (\n",
    "            type = 'discrete'\n",
    "            AND is_pinned IS NOT NULL\n",
    "            AND weight IS NOT NULL\n",
    "            AND max_value IS NULL\n",
    "            AND min_value IS NULL\n",
    "        )\n",
    "        OR (\n",
    "            type = 'continuous'\n",
    "            AND is_pinned IS NULL\n",
    "            AND weight IS NULL\n",
    "            AND max_value IS NOT NULL\n",
    "            AND min_value IS NOT NULL\n",
    "        )\n",
    "    )\n",
    ");"
   ]
  },
  {
   "cell_type": "markdown",
   "id": "03ca0f0c",
   "metadata": {},
   "source": [
    "## Variant"
   ]
  },
  {
   "cell_type": "code",
   "execution_count": 1075,
   "id": "c12fd699",
   "metadata": {
    "vscode": {
     "languageId": "sql"
    }
   },
   "outputs": [
    {
     "data": {
      "text/html": [
       "<span style=\"None\">Running query in &#x27;postgresql://notebook@localhost:5432/sahuagin&#x27;</span>"
      ],
      "text/plain": [
       "Running query in 'postgresql://notebook@localhost:5432/sahuagin'"
      ]
     },
     "metadata": {},
     "output_type": "display_data"
    },
    {
     "data": {
      "text/html": [
       "<table>\n",
       "    <thead>\n",
       "        <tr>\n",
       "        </tr>\n",
       "    </thead>\n",
       "    <tbody>\n",
       "    </tbody>\n",
       "</table>"
      ],
      "text/plain": [
       "++\n",
       "||\n",
       "++\n",
       "++"
      ]
     },
     "execution_count": 1075,
     "metadata": {},
     "output_type": "execute_result"
    }
   ],
   "source": [
    "%%sql\n",
    "\n",
    "DROP TABLE IF EXISTS variant CASCADE;\n",
    "CREATE TABLE variant (\n",
    "    id integer GENERATED ALWAYS AS IDENTITY PRIMARY KEY,\n",
    "    name varchar(255) NOT NULL UNIQUE\n",
    ");"
   ]
  },
  {
   "cell_type": "markdown",
   "id": "e89eace0",
   "metadata": {},
   "source": [
    "## Attribute Reference"
   ]
  },
  {
   "cell_type": "code",
   "execution_count": 1076,
   "id": "ff41d997",
   "metadata": {
    "vscode": {
     "languageId": "sql"
    }
   },
   "outputs": [
    {
     "data": {
      "text/html": [
       "<span style=\"None\">Running query in &#x27;postgresql://notebook@localhost:5432/sahuagin&#x27;</span>"
      ],
      "text/plain": [
       "Running query in 'postgresql://notebook@localhost:5432/sahuagin'"
      ]
     },
     "metadata": {},
     "output_type": "display_data"
    },
    {
     "data": {
      "text/html": [
       "<table>\n",
       "    <thead>\n",
       "        <tr>\n",
       "        </tr>\n",
       "    </thead>\n",
       "    <tbody>\n",
       "    </tbody>\n",
       "</table>"
      ],
      "text/plain": [
       "++\n",
       "||\n",
       "++\n",
       "++"
      ]
     },
     "execution_count": 1076,
     "metadata": {},
     "output_type": "execute_result"
    }
   ],
   "source": [
    "%%sql\n",
    "\n",
    "DROP TABLE IF EXISTS variant_attr CASCADE;\n",
    "CREATE TABLE variant_attr (\n",
    "    id integer GENERATED ALWAYS AS IDENTITY PRIMARY KEY,\n",
    "    attribute_id integer NOT NULL,\n",
    "    name varchar(255) NOT NULL,\n",
    "    causation_index integer NOT NULL,\n",
    "    variant_id integer NOT NULL,\n",
    "    CONSTRAINT unique_variant_name UNIQUE (variant_id, name),\n",
    "    CONSTRAINT unique_variant_index UNIQUE (variant_id, causation_index),\n",
    "    CONSTRAINT fk_variant_attr_attr FOREIGN KEY (attribute_id) REFERENCES attribute (id) ON DELETE CASCADE,\n",
    "    CONSTRAINT fk_variant_attr_variant FOREIGN KEY (variant_id) REFERENCES variant (id) ON DELETE CASCADE\n",
    ");"
   ]
  },
  {
   "cell_type": "markdown",
   "id": "c55ec04e",
   "metadata": {},
   "source": [
    "## Subvariant Span"
   ]
  },
  {
   "cell_type": "code",
   "execution_count": 1077,
   "id": "7be1778e",
   "metadata": {
    "vscode": {
     "languageId": "sql"
    }
   },
   "outputs": [
    {
     "data": {
      "text/html": [
       "<span style=\"None\">Running query in &#x27;postgresql://notebook@localhost:5432/sahuagin&#x27;</span>"
      ],
      "text/plain": [
       "Running query in 'postgresql://notebook@localhost:5432/sahuagin'"
      ]
     },
     "metadata": {},
     "output_type": "display_data"
    },
    {
     "data": {
      "text/html": [
       "<table>\n",
       "    <thead>\n",
       "        <tr>\n",
       "        </tr>\n",
       "    </thead>\n",
       "    <tbody>\n",
       "    </tbody>\n",
       "</table>"
      ],
      "text/plain": [
       "++\n",
       "||\n",
       "++\n",
       "++"
      ]
     },
     "execution_count": 1077,
     "metadata": {},
     "output_type": "execute_result"
    }
   ],
   "source": [
    "%%sql\n",
    "\n",
    "DROP TABLE IF EXISTS subvariant_span CASCADE;\n",
    "CREATE TABLE subvariant_span (\n",
    "    id integer GENERATED ALWAYS AS IDENTITY PRIMARY KEY,\n",
    "    span_id integer NOT NULL,\n",
    "    variant_id integer NOT NULL,\n",
    "    CONSTRAINT unique_variant_span UNIQUE (variant_id, span_id),\n",
    "    CONSTRAINT fk_varattr_span_span FOREIGN KEY (span_id) REFERENCES span (id) ON DELETE CASCADE,\n",
    "    CONSTRAINT fk_varattr_span_variant FOREIGN KEY (variant_id) REFERENCES variant (id) ON DELETE CASCADE\n",
    ");"
   ]
  },
  {
   "cell_type": "markdown",
   "id": "a50b0e7b",
   "metadata": {},
   "source": [
    "## Possible Attribute"
   ]
  },
  {
   "cell_type": "code",
   "execution_count": 1078,
   "id": "74f337a2",
   "metadata": {
    "vscode": {
     "languageId": "sql"
    }
   },
   "outputs": [
    {
     "data": {
      "text/html": [
       "<span style=\"None\">Running query in &#x27;postgresql://notebook@localhost:5432/sahuagin&#x27;</span>"
      ],
      "text/plain": [
       "Running query in 'postgresql://notebook@localhost:5432/sahuagin'"
      ]
     },
     "metadata": {},
     "output_type": "display_data"
    },
    {
     "data": {
      "text/html": [
       "<table>\n",
       "    <thead>\n",
       "        <tr>\n",
       "        </tr>\n",
       "    </thead>\n",
       "    <tbody>\n",
       "    </tbody>\n",
       "</table>"
      ],
      "text/plain": [
       "++\n",
       "||\n",
       "++\n",
       "++"
      ]
     },
     "execution_count": 1078,
     "metadata": {},
     "output_type": "execute_result"
    }
   ],
   "source": [
    "%%sql\n",
    "\n",
    "DROP TABLE IF EXISTS possible_attr CASCADE;\n",
    "CREATE TABLE possible_attr (\n",
    "    id integer GENERATED ALWAYS AS IDENTITY PRIMARY KEY,\n",
    "    variant_attr_id integer NOT NULL,\n",
    "    subvariant_span_id integer,\n",
    "    parent_possible_attr_id integer,\n",
    "    CONSTRAINT unique_possible_attr UNIQUE (parent_possible_attr_id, subvariant_span_id, variant_attr_id),\n",
    "    CONSTRAINT fk_possible_attr_va FOREIGN KEY (variant_attr_id) REFERENCES variant_attr (id) ON DELETE CASCADE,\n",
    "    CONSTRAINT fk_possible_attr_ss FOREIGN KEY (subvariant_span_id) REFERENCES subvariant_span (id) ON DELETE CASCADE,\n",
    "    CONSTRAINT fk_possible_attr_parent FOREIGN KEY (parent_possible_attr_id) REFERENCES possible_attr (id) ON DELETE CASCADE\n",
    ");"
   ]
  },
  {
   "cell_type": "markdown",
   "id": "8f0119c7",
   "metadata": {},
   "source": [
    "## Effect"
   ]
  },
  {
   "cell_type": "code",
   "execution_count": 1079,
   "id": "e04bf8d3",
   "metadata": {
    "vscode": {
     "languageId": "sql"
    }
   },
   "outputs": [
    {
     "data": {
      "text/html": [
       "<span style=\"None\">Running query in &#x27;postgresql://notebook@localhost:5432/sahuagin&#x27;</span>"
      ],
      "text/plain": [
       "Running query in 'postgresql://notebook@localhost:5432/sahuagin'"
      ]
     },
     "metadata": {},
     "output_type": "display_data"
    },
    {
     "data": {
      "text/html": [
       "<table>\n",
       "    <thead>\n",
       "        <tr>\n",
       "        </tr>\n",
       "    </thead>\n",
       "    <tbody>\n",
       "    </tbody>\n",
       "</table>"
      ],
      "text/plain": [
       "++\n",
       "||\n",
       "++\n",
       "++"
      ]
     },
     "execution_count": 1079,
     "metadata": {},
     "output_type": "execute_result"
    }
   ],
   "source": [
    "%%sql\n",
    "\n",
    "DROP TABLE IF EXISTS effect CASCADE;\n",
    "CREATE TABLE effect (\n",
    "    id integer GENERATED ALWAYS AS IDENTITY PRIMARY KEY,\n",
    "    name varchar(255) NOT NULL,\n",
    "    variant_id integer NOT NULL,\n",
    "    span_id integer NOT NULL,\n",
    "    to_modify_possible_attr_id integer NOT NULL,\n",
    "    activating_possible_attr_id integer NOT NULL,\n",
    "    CONSTRAINT unique_effect_name_within_variant UNIQUE (name, variant_id),\n",
    "    CONSTRAINT fk_effect_variant FOREIGN KEY (variant_id) REFERENCES variant (id) ON DELETE CASCADE,\n",
    "    CONSTRAINT fk_effect_span FOREIGN KEY (span_id) REFERENCES span (id) ON DELETE CASCADE,\n",
    "    CONSTRAINT fk_effect_psattr_to_modify FOREIGN KEY (to_modify_possible_attr_id) REFERENCES possible_attr (id) ON DELETE CASCADE,\n",
    "    CONSTRAINT fk_effect_psattr_activating FOREIGN KEY (activating_possible_attr_id) REFERENCES possible_attr (id) ON DELETE CASCADE\n",
    ");"
   ]
  },
  {
   "cell_type": "markdown",
   "id": "639f2865",
   "metadata": {},
   "source": [
    "## Delta Parameter Effect"
   ]
  },
  {
   "cell_type": "code",
   "execution_count": 1080,
   "id": "56fcea4a",
   "metadata": {
    "vscode": {
     "languageId": "sql"
    }
   },
   "outputs": [
    {
     "data": {
      "text/html": [
       "<span style=\"None\">Running query in &#x27;postgresql://notebook@localhost:5432/sahuagin&#x27;</span>"
      ],
      "text/plain": [
       "Running query in 'postgresql://notebook@localhost:5432/sahuagin'"
      ]
     },
     "metadata": {},
     "output_type": "display_data"
    },
    {
     "data": {
      "text/html": [
       "<table>\n",
       "    <thead>\n",
       "        <tr>\n",
       "        </tr>\n",
       "    </thead>\n",
       "    <tbody>\n",
       "    </tbody>\n",
       "</table>"
      ],
      "text/plain": [
       "++\n",
       "||\n",
       "++\n",
       "++"
      ]
     },
     "execution_count": 1080,
     "metadata": {},
     "output_type": "execute_result"
    }
   ],
   "source": [
    "%%sql\n",
    "\n",
    "DROP TABLE IF EXISTS variation_continuous_attr CASCADE;\n",
    "CREATE TABLE variation_continuous_attr (    \n",
    "    id integer GENERATED ALWAYS AS IDENTITY PRIMARY KEY,\n",
    "    effect_id integer NOT NULL,\n",
    "    delta_mode double precision NOT NULL,\n",
    "    delta_conc double precision NOT NULL,\n",
    "    delta_skew double precision NOT NULL,\n",
    "    CONSTRAINT fk_var_continuous_attr_effect FOREIGN KEY (effect_id) REFERENCES effect (id) ON DELETE CASCADE\n",
    ");"
   ]
  },
  {
   "cell_type": "markdown",
   "id": "016948ea",
   "metadata": {},
   "source": [
    "## Additional Possibility Effect"
   ]
  },
  {
   "cell_type": "code",
   "execution_count": 1081,
   "id": "24a18b28",
   "metadata": {
    "vscode": {
     "languageId": "sql"
    }
   },
   "outputs": [
    {
     "data": {
      "text/html": [
       "<span style=\"None\">Running query in &#x27;postgresql://notebook@localhost:5432/sahuagin&#x27;</span>"
      ],
      "text/plain": [
       "Running query in 'postgresql://notebook@localhost:5432/sahuagin'"
      ]
     },
     "metadata": {},
     "output_type": "display_data"
    },
    {
     "data": {
      "text/html": [
       "<table>\n",
       "    <thead>\n",
       "        <tr>\n",
       "        </tr>\n",
       "    </thead>\n",
       "    <tbody>\n",
       "    </tbody>\n",
       "</table>"
      ],
      "text/plain": [
       "++\n",
       "||\n",
       "++\n",
       "++"
      ]
     },
     "execution_count": 1081,
     "metadata": {},
     "output_type": "execute_result"
    }
   ],
   "source": [
    "%%sql\n",
    "\n",
    "DROP TABLE IF EXISTS variation_activated_span CASCADE;\n",
    "CREATE TABLE variation_activated_span (\n",
    "    id integer GENERATED ALWAYS AS IDENTITY PRIMARY KEY,\n",
    "    effect_id integer NOT NULL,\n",
    "    span_id integer NOT NULL,\n",
    "    CONSTRAINT fk_var_activated_span_span FOREIGN KEY (span_id) REFERENCES span (id) ON DELETE CASCADE,\n",
    "    CONSTRAINT fk_var_activated_span_effect FOREIGN KEY (effect_id) REFERENCES effect (id) ON DELETE CASCADE\n",
    ");"
   ]
  },
  {
   "cell_type": "markdown",
   "id": "3decf278",
   "metadata": {},
   "source": [
    "## Delta Weight Effect"
   ]
  },
  {
   "cell_type": "code",
   "execution_count": 1082,
   "id": "db5aa316",
   "metadata": {
    "vscode": {
     "languageId": "sql"
    }
   },
   "outputs": [
    {
     "data": {
      "text/html": [
       "<span style=\"None\">Running query in &#x27;postgresql://notebook@localhost:5432/sahuagin&#x27;</span>"
      ],
      "text/plain": [
       "Running query in 'postgresql://notebook@localhost:5432/sahuagin'"
      ]
     },
     "metadata": {},
     "output_type": "display_data"
    },
    {
     "data": {
      "text/html": [
       "<table>\n",
       "    <thead>\n",
       "        <tr>\n",
       "        </tr>\n",
       "    </thead>\n",
       "    <tbody>\n",
       "    </tbody>\n",
       "</table>"
      ],
      "text/plain": [
       "++\n",
       "||\n",
       "++\n",
       "++"
      ]
     },
     "execution_count": 1082,
     "metadata": {},
     "output_type": "execute_result"
    }
   ],
   "source": [
    "%%sql\n",
    "\n",
    "DROP TABLE IF EXISTS variation_delta_weight CASCADE;\n",
    "CREATE TABLE variation_delta_weight (\n",
    "    id integer GENERATED ALWAYS AS IDENTITY PRIMARY KEY,\n",
    "    effect_id integer NOT NULL,\n",
    "    span_id integer NOT NULL,\n",
    "    delta_weight double precision NOT NULL,\n",
    "    CONSTRAINT fk_var_delta_weight_span FOREIGN KEY (span_id) REFERENCES span (id) ON DELETE CASCADE,\n",
    "    CONSTRAINT fk_var_delta_weight_effect FOREIGN KEY (effect_id) REFERENCES effect (id) ON DELETE CASCADE\n",
    ");"
   ]
  },
  {
   "cell_type": "markdown",
   "id": "d79108e8",
   "metadata": {},
   "source": [
    "## Removed Possibility Effect"
   ]
  },
  {
   "cell_type": "code",
   "execution_count": 1083,
   "id": "265494cc",
   "metadata": {
    "vscode": {
     "languageId": "sql"
    }
   },
   "outputs": [
    {
     "data": {
      "text/html": [
       "<span style=\"None\">Running query in &#x27;postgresql://notebook@localhost:5432/sahuagin&#x27;</span>"
      ],
      "text/plain": [
       "Running query in 'postgresql://notebook@localhost:5432/sahuagin'"
      ]
     },
     "metadata": {},
     "output_type": "display_data"
    },
    {
     "data": {
      "text/html": [
       "<table>\n",
       "    <thead>\n",
       "        <tr>\n",
       "        </tr>\n",
       "    </thead>\n",
       "    <tbody>\n",
       "    </tbody>\n",
       "</table>"
      ],
      "text/plain": [
       "++\n",
       "||\n",
       "++\n",
       "++"
      ]
     },
     "execution_count": 1083,
     "metadata": {},
     "output_type": "execute_result"
    }
   ],
   "source": [
    "%%sql\n",
    "\n",
    "DROP TABLE IF EXISTS variation_inactive_span CASCADE;\n",
    "CREATE TABLE variation_inactive_span (\n",
    "    id integer GENERATED ALWAYS AS IDENTITY PRIMARY KEY,\n",
    "    effect_id integer NOT NULL,\n",
    "    span_id integer NOT NULL,\n",
    "    CONSTRAINT fk_var_inactive_span_span FOREIGN KEY (span_id) REFERENCES span (id) ON DELETE CASCADE,\n",
    "    CONSTRAINT fk_var_inactive_span_effect FOREIGN KEY (effect_id) REFERENCES effect (id) ON DELETE CASCADE\n",
    ");"
   ]
  },
  {
   "cell_type": "markdown",
   "id": "feba2df8",
   "metadata": {},
   "source": [
    "## Entity"
   ]
  },
  {
   "cell_type": "code",
   "execution_count": 1084,
   "id": "7dc7fcaf",
   "metadata": {
    "vscode": {
     "languageId": "sql"
    }
   },
   "outputs": [
    {
     "data": {
      "text/html": [
       "<span style=\"None\">Running query in &#x27;postgresql://notebook@localhost:5432/sahuagin&#x27;</span>"
      ],
      "text/plain": [
       "Running query in 'postgresql://notebook@localhost:5432/sahuagin'"
      ]
     },
     "metadata": {},
     "output_type": "display_data"
    },
    {
     "data": {
      "text/html": [
       "<table>\n",
       "    <thead>\n",
       "        <tr>\n",
       "        </tr>\n",
       "    </thead>\n",
       "    <tbody>\n",
       "    </tbody>\n",
       "</table>"
      ],
      "text/plain": [
       "++\n",
       "||\n",
       "++\n",
       "++"
      ]
     },
     "execution_count": 1084,
     "metadata": {},
     "output_type": "execute_result"
    }
   ],
   "source": [
    "%%sql\n",
    "\n",
    "DROP TABLE IF EXISTS entity CASCADE;\n",
    "CREATE TABLE entity (\n",
    "    id integer GENERATED ALWAYS AS IDENTITY PRIMARY KEY,\n",
    "    variant_id integer NOT NULL,\n",
    "    name varchar(255) NOT NULL UNIQUE,\n",
    "    CONSTRAINT fk_entity_variant FOREIGN KEY (variant_id) REFERENCES variant (id) ON DELETE CASCADE\n",
    ");"
   ]
  },
  {
   "cell_type": "markdown",
   "id": "758ef38b",
   "metadata": {},
   "source": [
    "## Entity Group"
   ]
  },
  {
   "cell_type": "code",
   "execution_count": 1085,
   "id": "aac08d60",
   "metadata": {
    "vscode": {
     "languageId": "sql"
    }
   },
   "outputs": [
    {
     "data": {
      "text/html": [
       "<span style=\"None\">Running query in &#x27;postgresql://notebook@localhost:5432/sahuagin&#x27;</span>"
      ],
      "text/plain": [
       "Running query in 'postgresql://notebook@localhost:5432/sahuagin'"
      ]
     },
     "metadata": {},
     "output_type": "display_data"
    },
    {
     "name": "stderr",
     "output_type": "stream",
     "text": [
      "/Users/nashspence/miniforge3/envs/jupyter-env/lib/python3.11/site-packages/IPython/core/displayhook.py:281: UserWarning: Output cache limit (currently 1000 entries) hit.\n",
      "Flushing oldest 200 entries.\n",
      "  warn('Output cache limit (currently {sz} entries) hit.\\n'\n"
     ]
    },
    {
     "data": {
      "text/html": [
       "<table>\n",
       "    <thead>\n",
       "        <tr>\n",
       "        </tr>\n",
       "    </thead>\n",
       "    <tbody>\n",
       "    </tbody>\n",
       "</table>"
      ],
      "text/plain": [
       "++\n",
       "||\n",
       "++\n",
       "++"
      ]
     },
     "execution_count": 1085,
     "metadata": {},
     "output_type": "execute_result"
    }
   ],
   "source": [
    "%%sql\n",
    "\n",
    "DROP TABLE IF EXISTS entity_group CASCADE;\n",
    "CREATE TABLE entity_group (\n",
    "    id integer GENERATED ALWAYS AS IDENTITY PRIMARY KEY,\n",
    "    name varchar(255) NOT NULL UNIQUE\n",
    ");"
   ]
  },
  {
   "cell_type": "markdown",
   "id": "5eee51f3",
   "metadata": {},
   "source": [
    "## Entity Group Link"
   ]
  },
  {
   "cell_type": "code",
   "execution_count": 1086,
   "id": "2a9e663c",
   "metadata": {
    "vscode": {
     "languageId": "sql"
    }
   },
   "outputs": [
    {
     "data": {
      "text/html": [
       "<span style=\"None\">Running query in &#x27;postgresql://notebook@localhost:5432/sahuagin&#x27;</span>"
      ],
      "text/plain": [
       "Running query in 'postgresql://notebook@localhost:5432/sahuagin'"
      ]
     },
     "metadata": {},
     "output_type": "display_data"
    },
    {
     "data": {
      "text/html": [
       "<table>\n",
       "    <thead>\n",
       "        <tr>\n",
       "        </tr>\n",
       "    </thead>\n",
       "    <tbody>\n",
       "    </tbody>\n",
       "</table>"
      ],
      "text/plain": [
       "++\n",
       "||\n",
       "++\n",
       "++"
      ]
     },
     "execution_count": 1086,
     "metadata": {},
     "output_type": "execute_result"
    }
   ],
   "source": [
    "%%sql\n",
    "\n",
    "DROP TABLE IF EXISTS entity_group_link CASCADE;\n",
    "CREATE TABLE entity_group_link (\n",
    "    id integer GENERATED ALWAYS AS IDENTITY PRIMARY KEY,\n",
    "    entity_id integer NOT NULL,\n",
    "    entity_group_id integer NOT NULL,\n",
    "    CONSTRAINT unique_link_entity_group UNIQUE (entity_group_id, entity_id),\n",
    "    CONSTRAINT fk_entity FOREIGN KEY (entity_id) REFERENCES entity (id) ON DELETE CASCADE,\n",
    "    CONSTRAINT fk_entity_group FOREIGN KEY (entity_group_id) REFERENCES entity_group (id) ON DELETE CASCADE\n",
    ");"
   ]
  },
  {
   "cell_type": "markdown",
   "id": "7c317c6c",
   "metadata": {},
   "source": [
    "## Entity State"
   ]
  },
  {
   "cell_type": "code",
   "execution_count": 1087,
   "id": "d811909c",
   "metadata": {
    "vscode": {
     "languageId": "sql"
    }
   },
   "outputs": [
    {
     "data": {
      "text/html": [
       "<span style=\"None\">Running query in &#x27;postgresql://notebook@localhost:5432/sahuagin&#x27;</span>"
      ],
      "text/plain": [
       "Running query in 'postgresql://notebook@localhost:5432/sahuagin'"
      ]
     },
     "metadata": {},
     "output_type": "display_data"
    },
    {
     "data": {
      "text/html": [
       "<table>\n",
       "    <thead>\n",
       "        <tr>\n",
       "        </tr>\n",
       "    </thead>\n",
       "    <tbody>\n",
       "    </tbody>\n",
       "</table>"
      ],
      "text/plain": [
       "++\n",
       "||\n",
       "++\n",
       "++"
      ]
     },
     "execution_count": 1087,
     "metadata": {},
     "output_type": "execute_result"
    }
   ],
   "source": [
    "%%sql\n",
    "\n",
    "DROP TABLE IF EXISTS entity_state CASCADE;\n",
    "CREATE TABLE entity_state (\n",
    "    id integer GENERATED ALWAYS AS IDENTITY PRIMARY KEY,\n",
    "    entity_id integer NOT NULL,\n",
    "    time double precision NOT NULL,\n",
    "    CONSTRAINT unique_entity_time UNIQUE (entity_id, time),\n",
    "    CONSTRAINT fk_entity FOREIGN KEY (entity_id) REFERENCES entity (id) ON DELETE CASCADE\n",
    ");"
   ]
  },
  {
   "cell_type": "markdown",
   "id": "f6f9ad4d",
   "metadata": {},
   "source": [
    "## Attribute Value"
   ]
  },
  {
   "cell_type": "code",
   "execution_count": 1088,
   "id": "785b96c2",
   "metadata": {
    "vscode": {
     "languageId": "sql"
    }
   },
   "outputs": [
    {
     "data": {
      "text/html": [
       "<span style=\"None\">Running query in &#x27;postgresql://notebook@localhost:5432/sahuagin&#x27;</span>"
      ],
      "text/plain": [
       "Running query in 'postgresql://notebook@localhost:5432/sahuagin'"
      ]
     },
     "metadata": {},
     "output_type": "display_data"
    },
    {
     "data": {
      "text/html": [
       "<table>\n",
       "    <thead>\n",
       "        <tr>\n",
       "        </tr>\n",
       "    </thead>\n",
       "    <tbody>\n",
       "    </tbody>\n",
       "</table>"
      ],
      "text/plain": [
       "++\n",
       "||\n",
       "++\n",
       "++"
      ]
     },
     "execution_count": 1088,
     "metadata": {},
     "output_type": "execute_result"
    }
   ],
   "source": [
    "%%sql\n",
    "\n",
    "DROP TABLE IF EXISTS entity_varattr_value CASCADE;\n",
    "CREATE TABLE entity_varattr_value (\n",
    "    id integer GENERATED ALWAYS AS IDENTITY PRIMARY KEY,\n",
    "    entity_state_id integer NOT NULL,\n",
    "    numeric_value double precision,\n",
    "    span_id integer,\n",
    "    possible_attr_id integer NOT NULL,\n",
    "    CONSTRAINT unique_state_possible_attr UNIQUE (entity_state_id, possible_attr_id),\n",
    "    CONSTRAINT fk_evav_entity_state FOREIGN KEY (entity_state_id) REFERENCES entity_state (id) ON DELETE CASCADE,\n",
    "    CONSTRAINT fk_evav_span FOREIGN KEY (span_id) REFERENCES span (id) ON DELETE CASCADE,\n",
    "    CONSTRAINT fk_evav_possible_attr FOREIGN KEY (possible_attr_id) REFERENCES possible_attr (id) ON DELETE CASCADE\n",
    ");"
   ]
  },
  {
   "cell_type": "markdown",
   "id": "93eeef51",
   "metadata": {},
   "source": [
    "## Attribute Value Lock"
   ]
  },
  {
   "cell_type": "code",
   "execution_count": 1089,
   "id": "b2406d91",
   "metadata": {
    "vscode": {
     "languageId": "sql"
    }
   },
   "outputs": [
    {
     "data": {
      "text/html": [
       "<span style=\"None\">Running query in &#x27;postgresql://notebook@localhost:5432/sahuagin&#x27;</span>"
      ],
      "text/plain": [
       "Running query in 'postgresql://notebook@localhost:5432/sahuagin'"
      ]
     },
     "metadata": {},
     "output_type": "display_data"
    },
    {
     "data": {
      "text/html": [
       "<table>\n",
       "    <thead>\n",
       "        <tr>\n",
       "        </tr>\n",
       "    </thead>\n",
       "    <tbody>\n",
       "    </tbody>\n",
       "</table>"
      ],
      "text/plain": [
       "++\n",
       "||\n",
       "++\n",
       "++"
      ]
     },
     "execution_count": 1089,
     "metadata": {},
     "output_type": "execute_result"
    }
   ],
   "source": [
    "%%sql\n",
    "\n",
    "DROP TABLE IF EXISTS evav_lock CASCADE;\n",
    "CREATE TABLE evav_lock (\n",
    "    id integer GENERATED ALWAYS AS IDENTITY PRIMARY KEY,\n",
    "    locked_evav_id integer NOT NULL,\n",
    "    locking_evav_id integer,\n",
    "    CONSTRAINT unique_evav_lock UNIQUE (locking_evav_id, locked_evav_id),\n",
    "    CONSTRAINT fk_evav_lock_locked_evav FOREIGN KEY (locked_evav_id) REFERENCES entity_varattr_value (id) ON DELETE CASCADE,\n",
    "    CONSTRAINT fk_evav_lock_locking_evav FOREIGN KEY (locking_evav_id) REFERENCES entity_varattr_value (id) ON DELETE CASCADE\n",
    ");"
   ]
  },
  {
   "cell_type": "markdown",
   "id": "e008e374",
   "metadata": {},
   "source": [
    "# Triggers"
   ]
  },
  {
   "cell_type": "markdown",
   "id": "cb437589",
   "metadata": {},
   "source": [
    "## Delete Orphan possible_attr"
   ]
  },
  {
   "cell_type": "code",
   "execution_count": 1090,
   "id": "75bd0a4e",
   "metadata": {
    "vscode": {
     "languageId": "sql"
    }
   },
   "outputs": [
    {
     "data": {
      "text/html": [
       "<span style=\"None\">Running query in &#x27;postgresql://notebook@localhost:5432/sahuagin&#x27;</span>"
      ],
      "text/plain": [
       "Running query in 'postgresql://notebook@localhost:5432/sahuagin'"
      ]
     },
     "metadata": {},
     "output_type": "display_data"
    },
    {
     "data": {
      "text/html": [
       "<table>\n",
       "    <thead>\n",
       "        <tr>\n",
       "        </tr>\n",
       "    </thead>\n",
       "    <tbody>\n",
       "    </tbody>\n",
       "</table>"
      ],
      "text/plain": [
       "++\n",
       "||\n",
       "++\n",
       "++"
      ]
     },
     "execution_count": 1090,
     "metadata": {},
     "output_type": "execute_result"
    }
   ],
   "source": [
    "%%sql\n",
    "\n",
    "CREATE OR REPLACE FUNCTION check_delete_possible_attr_from_effect()\n",
    "RETURNS TRIGGER AS $$\n",
    "DECLARE\n",
    "    orphan_count INTEGER;\n",
    "BEGIN\n",
    "    -- Check the to_modify_possible_attr_id column\n",
    "    IF OLD.to_modify_possible_attr_id IS NOT NULL THEN\n",
    "        SELECT\n",
    "            (SELECT COUNT(*) FROM effect WHERE to_modify_possible_attr_id = OLD.to_modify_possible_attr_id)\n",
    "          + (SELECT COUNT(*) FROM effect WHERE activating_possible_attr_id = OLD.to_modify_possible_attr_id)\n",
    "          + (SELECT COUNT(*) FROM entity_varattr_value WHERE possible_attr_id = OLD.to_modify_possible_attr_id)\n",
    "          INTO orphan_count;\n",
    "          \n",
    "        IF orphan_count = 0 THEN\n",
    "            DELETE FROM possible_attr WHERE id = OLD.to_modify_possible_attr_id;\n",
    "        END IF;\n",
    "    END IF;\n",
    "    \n",
    "    -- Check the activating_possible_attr_id column (if different)\n",
    "    IF OLD.activating_possible_attr_id IS NOT NULL\n",
    "       AND (OLD.activating_possible_attr_id <> OLD.to_modify_possible_attr_id) THEN\n",
    "        SELECT\n",
    "            (SELECT COUNT(*) FROM effect WHERE to_modify_possible_attr_id = OLD.activating_possible_attr_id)\n",
    "          + (SELECT COUNT(*) FROM effect WHERE activating_possible_attr_id = OLD.activating_possible_attr_id)\n",
    "          + (SELECT COUNT(*) FROM entity_varattr_value WHERE possible_attr_id = OLD.activating_possible_attr_id)\n",
    "          INTO orphan_count;\n",
    "          \n",
    "        IF orphan_count = 0 THEN\n",
    "            DELETE FROM possible_attr WHERE id = OLD.activating_possible_attr_id;\n",
    "        END IF;\n",
    "    END IF;\n",
    "    \n",
    "    RETURN NULL;\n",
    "END;\n",
    "$$ LANGUAGE plpgsql;\n",
    "\n",
    "CREATE OR REPLACE FUNCTION check_delete_possible_attr_from_evav()\n",
    "RETURNS TRIGGER AS $$\n",
    "DECLARE\n",
    "    orphan_count INTEGER;\n",
    "BEGIN\n",
    "    SELECT\n",
    "        (SELECT COUNT(*) FROM effect \n",
    "           WHERE to_modify_possible_attr_id = OLD.possible_attr_id\n",
    "              OR activating_possible_attr_id = OLD.possible_attr_id)\n",
    "      + (SELECT COUNT(*) FROM entity_varattr_value WHERE possible_attr_id = OLD.possible_attr_id)\n",
    "      INTO orphan_count;\n",
    "      \n",
    "    IF orphan_count = 0 THEN\n",
    "        DELETE FROM possible_attr WHERE id = OLD.possible_attr_id;\n",
    "    END IF;\n",
    "    \n",
    "    RETURN NULL;\n",
    "END;\n",
    "$$ LANGUAGE plpgsql;\n",
    "\n",
    "CREATE OR REPLACE TRIGGER trg_check_delete_possible_attr_from_effect\n",
    "AFTER DELETE ON effect\n",
    "FOR EACH ROW\n",
    "EXECUTE FUNCTION check_delete_possible_attr_from_effect();\n",
    "\n",
    "CREATE OR REPLACE TRIGGER trg_check_delete_possible_attr_from_evav\n",
    "AFTER DELETE ON entity_varattr_value\n",
    "FOR EACH ROW\n",
    "EXECUTE FUNCTION check_delete_possible_attr_from_evav();"
   ]
  },
  {
   "cell_type": "markdown",
   "id": "c42614aa",
   "metadata": {},
   "source": [
    "## Delete Orphan Span"
   ]
  },
  {
   "cell_type": "code",
   "execution_count": 1091,
   "id": "2f257dd8",
   "metadata": {
    "vscode": {
     "languageId": "sql"
    }
   },
   "outputs": [
    {
     "data": {
      "text/html": [
       "<span style=\"None\">Running query in &#x27;postgresql://notebook@localhost:5432/sahuagin&#x27;</span>"
      ],
      "text/plain": [
       "Running query in 'postgresql://notebook@localhost:5432/sahuagin'"
      ]
     },
     "metadata": {},
     "output_type": "display_data"
    },
    {
     "data": {
      "text/html": [
       "<table>\n",
       "    <thead>\n",
       "        <tr>\n",
       "        </tr>\n",
       "    </thead>\n",
       "    <tbody>\n",
       "    </tbody>\n",
       "</table>"
      ],
      "text/plain": [
       "++\n",
       "||\n",
       "++\n",
       "++"
      ]
     },
     "execution_count": 1091,
     "metadata": {},
     "output_type": "execute_result"
    }
   ],
   "source": [
    "%%sql\n",
    "\n",
    "CREATE OR REPLACE FUNCTION delete_orphaned_span() RETURNS TRIGGER AS $$\n",
    "BEGIN\n",
    "    DELETE FROM span WHERE id = OLD.span_id;\n",
    "    RETURN OLD;\n",
    "END;\n",
    "$$ LANGUAGE plpgsql;\n",
    "\n",
    "CREATE OR REPLACE TRIGGER trg_delete_span_after_activation_delete\n",
    "AFTER DELETE ON variation_activated_span\n",
    "FOR EACH ROW\n",
    "EXECUTE FUNCTION delete_orphaned_span();"
   ]
  },
  {
   "cell_type": "markdown",
   "id": "488b2a50",
   "metadata": {
    "jp-MarkdownHeadingCollapsed": true
   },
   "source": [
    "# Create Indexes"
   ]
  },
  {
   "cell_type": "markdown",
   "id": "8d4ca730",
   "metadata": {},
   "source": [
    "## idx_attribute_name"
   ]
  },
  {
   "cell_type": "code",
   "execution_count": 1092,
   "id": "dfab96a4",
   "metadata": {
    "vscode": {
     "languageId": "sql"
    }
   },
   "outputs": [
    {
     "data": {
      "text/html": [
       "<span style=\"None\">Running query in &#x27;postgresql://notebook@localhost:5432/sahuagin&#x27;</span>"
      ],
      "text/plain": [
       "Running query in 'postgresql://notebook@localhost:5432/sahuagin'"
      ]
     },
     "metadata": {},
     "output_type": "display_data"
    },
    {
     "data": {
      "text/html": [
       "<table>\n",
       "    <thead>\n",
       "        <tr>\n",
       "        </tr>\n",
       "    </thead>\n",
       "    <tbody>\n",
       "    </tbody>\n",
       "</table>"
      ],
      "text/plain": [
       "++\n",
       "||\n",
       "++\n",
       "++"
      ]
     },
     "execution_count": 1092,
     "metadata": {},
     "output_type": "execute_result"
    }
   ],
   "source": [
    "%%sql\n",
    "\n",
    "DROP INDEX IF EXISTS idx_attribute_name;\n",
    "CREATE INDEX idx_attribute_name ON attribute (name);"
   ]
  },
  {
   "cell_type": "markdown",
   "id": "89b87c60",
   "metadata": {},
   "source": [
    "## idx_span_attribute_id"
   ]
  },
  {
   "cell_type": "code",
   "execution_count": 1093,
   "id": "cb0c2059",
   "metadata": {
    "vscode": {
     "languageId": "sql"
    }
   },
   "outputs": [
    {
     "data": {
      "text/html": [
       "<span style=\"None\">Running query in &#x27;postgresql://notebook@localhost:5432/sahuagin&#x27;</span>"
      ],
      "text/plain": [
       "Running query in 'postgresql://notebook@localhost:5432/sahuagin'"
      ]
     },
     "metadata": {},
     "output_type": "display_data"
    },
    {
     "data": {
      "text/html": [
       "<table>\n",
       "    <thead>\n",
       "        <tr>\n",
       "        </tr>\n",
       "    </thead>\n",
       "    <tbody>\n",
       "    </tbody>\n",
       "</table>"
      ],
      "text/plain": [
       "++\n",
       "||\n",
       "++\n",
       "++"
      ]
     },
     "execution_count": 1093,
     "metadata": {},
     "output_type": "execute_result"
    }
   ],
   "source": [
    "%%sql\n",
    "\n",
    "DROP INDEX IF EXISTS idx_span_attribute_id;\n",
    "CREATE INDEX idx_span_attribute_id ON span (attribute_id);"
   ]
  },
  {
   "cell_type": "markdown",
   "id": "86077903",
   "metadata": {},
   "source": [
    "## idx_span_attribute_type"
   ]
  },
  {
   "cell_type": "code",
   "execution_count": 1094,
   "id": "864438fb",
   "metadata": {
    "vscode": {
     "languageId": "sql"
    }
   },
   "outputs": [
    {
     "data": {
      "text/html": [
       "<span style=\"None\">Running query in &#x27;postgresql://notebook@localhost:5432/sahuagin&#x27;</span>"
      ],
      "text/plain": [
       "Running query in 'postgresql://notebook@localhost:5432/sahuagin'"
      ]
     },
     "metadata": {},
     "output_type": "display_data"
    },
    {
     "data": {
      "text/html": [
       "<table>\n",
       "    <thead>\n",
       "        <tr>\n",
       "        </tr>\n",
       "    </thead>\n",
       "    <tbody>\n",
       "    </tbody>\n",
       "</table>"
      ],
      "text/plain": [
       "++\n",
       "||\n",
       "++\n",
       "++"
      ]
     },
     "execution_count": 1094,
     "metadata": {},
     "output_type": "execute_result"
    }
   ],
   "source": [
    "%%sql\n",
    "\n",
    "DROP INDEX IF EXISTS idx_span_attribute_type;\n",
    "CREATE INDEX idx_span_attribute_type ON span(attribute_id, type, id);"
   ]
  },
  {
   "cell_type": "markdown",
   "id": "46dddbc2",
   "metadata": {},
   "source": [
    "## idx_span_attr_type"
   ]
  },
  {
   "cell_type": "code",
   "execution_count": 1095,
   "id": "4d75bad1",
   "metadata": {
    "vscode": {
     "languageId": "sql"
    }
   },
   "outputs": [
    {
     "data": {
      "text/html": [
       "<span style=\"None\">Running query in &#x27;postgresql://notebook@localhost:5432/sahuagin&#x27;</span>"
      ],
      "text/plain": [
       "Running query in 'postgresql://notebook@localhost:5432/sahuagin'"
      ]
     },
     "metadata": {},
     "output_type": "display_data"
    },
    {
     "data": {
      "text/html": [
       "<table>\n",
       "    <thead>\n",
       "        <tr>\n",
       "        </tr>\n",
       "    </thead>\n",
       "    <tbody>\n",
       "    </tbody>\n",
       "</table>"
      ],
      "text/plain": [
       "++\n",
       "||\n",
       "++\n",
       "++"
      ]
     },
     "execution_count": 1095,
     "metadata": {},
     "output_type": "execute_result"
    }
   ],
   "source": [
    "%%sql\n",
    "\n",
    "DROP INDEX IF EXISTS idx_span_attr_type;\n",
    "CREATE INDEX idx_span_attr_type ON span(attribute_id, type, min_value, max_value);"
   ]
  },
  {
   "cell_type": "markdown",
   "id": "8d7b9005",
   "metadata": {},
   "source": [
    "## idx_span_attr_type_pinned"
   ]
  },
  {
   "cell_type": "code",
   "execution_count": 1096,
   "id": "20802af5",
   "metadata": {
    "vscode": {
     "languageId": "sql"
    }
   },
   "outputs": [
    {
     "data": {
      "text/html": [
       "<span style=\"None\">Running query in &#x27;postgresql://notebook@localhost:5432/sahuagin&#x27;</span>"
      ],
      "text/plain": [
       "Running query in 'postgresql://notebook@localhost:5432/sahuagin'"
      ]
     },
     "metadata": {},
     "output_type": "display_data"
    },
    {
     "data": {
      "text/html": [
       "<table>\n",
       "    <thead>\n",
       "        <tr>\n",
       "        </tr>\n",
       "    </thead>\n",
       "    <tbody>\n",
       "    </tbody>\n",
       "</table>"
      ],
      "text/plain": [
       "++\n",
       "||\n",
       "++\n",
       "++"
      ]
     },
     "execution_count": 1096,
     "metadata": {},
     "output_type": "execute_result"
    }
   ],
   "source": [
    "%%sql\n",
    "\n",
    "DROP INDEX IF EXISTS idx_span_attr_type_pinned;\n",
    "CREATE INDEX idx_span_attr_type_pinned ON span(attribute_id, type, is_pinned);"
   ]
  },
  {
   "cell_type": "markdown",
   "id": "0cadc3f3",
   "metadata": {},
   "source": [
    "## idx_span_attr_type_pinned_wl"
   ]
  },
  {
   "cell_type": "code",
   "execution_count": 1097,
   "id": "a678d4d2",
   "metadata": {
    "vscode": {
     "languageId": "sql"
    }
   },
   "outputs": [
    {
     "data": {
      "text/html": [
       "<span style=\"None\">Running query in &#x27;postgresql://notebook@localhost:5432/sahuagin&#x27;</span>"
      ],
      "text/plain": [
       "Running query in 'postgresql://notebook@localhost:5432/sahuagin'"
      ]
     },
     "metadata": {},
     "output_type": "display_data"
    },
    {
     "data": {
      "text/html": [
       "<table>\n",
       "    <thead>\n",
       "        <tr>\n",
       "        </tr>\n",
       "    </thead>\n",
       "    <tbody>\n",
       "    </tbody>\n",
       "</table>"
      ],
      "text/plain": [
       "++\n",
       "||\n",
       "++\n",
       "++"
      ]
     },
     "execution_count": 1097,
     "metadata": {},
     "output_type": "execute_result"
    }
   ],
   "source": [
    "%%sql\n",
    "\n",
    "DROP INDEX IF EXISTS idx_span_attr_type_pinned_wl;\n",
    "CREATE INDEX idx_span_attr_type_pinned_wl ON span(attribute_id, type, is_pinned, weight, label);"
   ]
  },
  {
   "cell_type": "markdown",
   "id": "67a3329d",
   "metadata": {},
   "source": [
    "## idx_variant_name"
   ]
  },
  {
   "cell_type": "code",
   "execution_count": 1098,
   "id": "e1c51655",
   "metadata": {
    "vscode": {
     "languageId": "sql"
    }
   },
   "outputs": [
    {
     "data": {
      "text/html": [
       "<span style=\"None\">Running query in &#x27;postgresql://notebook@localhost:5432/sahuagin&#x27;</span>"
      ],
      "text/plain": [
       "Running query in 'postgresql://notebook@localhost:5432/sahuagin'"
      ]
     },
     "metadata": {},
     "output_type": "display_data"
    },
    {
     "data": {
      "text/html": [
       "<table>\n",
       "    <thead>\n",
       "        <tr>\n",
       "        </tr>\n",
       "    </thead>\n",
       "    <tbody>\n",
       "    </tbody>\n",
       "</table>"
      ],
      "text/plain": [
       "++\n",
       "||\n",
       "++\n",
       "++"
      ]
     },
     "execution_count": 1098,
     "metadata": {},
     "output_type": "execute_result"
    }
   ],
   "source": [
    "%%sql\n",
    "\n",
    "DROP INDEX IF EXISTS idx_variant_name;\n",
    "CREATE INDEX idx_variant_name ON variant (name);"
   ]
  },
  {
   "cell_type": "markdown",
   "id": "a979615f",
   "metadata": {},
   "source": [
    "## idx_variant_attr_attribute"
   ]
  },
  {
   "cell_type": "code",
   "execution_count": 1099,
   "id": "b9410268",
   "metadata": {
    "vscode": {
     "languageId": "sql"
    }
   },
   "outputs": [
    {
     "data": {
      "text/html": [
       "<span style=\"None\">Running query in &#x27;postgresql://notebook@localhost:5432/sahuagin&#x27;</span>"
      ],
      "text/plain": [
       "Running query in 'postgresql://notebook@localhost:5432/sahuagin'"
      ]
     },
     "metadata": {},
     "output_type": "display_data"
    },
    {
     "data": {
      "text/html": [
       "<table>\n",
       "    <thead>\n",
       "        <tr>\n",
       "        </tr>\n",
       "    </thead>\n",
       "    <tbody>\n",
       "    </tbody>\n",
       "</table>"
      ],
      "text/plain": [
       "++\n",
       "||\n",
       "++\n",
       "++"
      ]
     },
     "execution_count": 1099,
     "metadata": {},
     "output_type": "execute_result"
    }
   ],
   "source": [
    "%%sql\n",
    "\n",
    "DROP INDEX IF EXISTS idx_variant_attr_attribute;\n",
    "CREATE INDEX idx_variant_attr_attribute ON variant_attr (attribute_id);"
   ]
  },
  {
   "cell_type": "markdown",
   "id": "291fb0e1",
   "metadata": {},
   "source": [
    "## idx_variant_attr_variant"
   ]
  },
  {
   "cell_type": "code",
   "execution_count": 1100,
   "id": "1884c6df",
   "metadata": {
    "vscode": {
     "languageId": "sql"
    }
   },
   "outputs": [
    {
     "data": {
      "text/html": [
       "<span style=\"None\">Running query in &#x27;postgresql://notebook@localhost:5432/sahuagin&#x27;</span>"
      ],
      "text/plain": [
       "Running query in 'postgresql://notebook@localhost:5432/sahuagin'"
      ]
     },
     "metadata": {},
     "output_type": "display_data"
    },
    {
     "data": {
      "text/html": [
       "<table>\n",
       "    <thead>\n",
       "        <tr>\n",
       "        </tr>\n",
       "    </thead>\n",
       "    <tbody>\n",
       "    </tbody>\n",
       "</table>"
      ],
      "text/plain": [
       "++\n",
       "||\n",
       "++\n",
       "++"
      ]
     },
     "execution_count": 1100,
     "metadata": {},
     "output_type": "execute_result"
    }
   ],
   "source": [
    "%%sql\n",
    "\n",
    "DROP INDEX IF EXISTS idx_variant_attr_variant;\n",
    "CREATE INDEX idx_variant_attr_variant ON variant_attr (variant_id);"
   ]
  },
  {
   "cell_type": "markdown",
   "id": "d4fa6103",
   "metadata": {},
   "source": [
    "## idx_variant_attr_variant_causation"
   ]
  },
  {
   "cell_type": "code",
   "execution_count": 1101,
   "id": "3316a90f",
   "metadata": {
    "vscode": {
     "languageId": "sql"
    }
   },
   "outputs": [
    {
     "data": {
      "text/html": [
       "<span style=\"None\">Running query in &#x27;postgresql://notebook@localhost:5432/sahuagin&#x27;</span>"
      ],
      "text/plain": [
       "Running query in 'postgresql://notebook@localhost:5432/sahuagin'"
      ]
     },
     "metadata": {},
     "output_type": "display_data"
    },
    {
     "data": {
      "text/html": [
       "<table>\n",
       "    <thead>\n",
       "        <tr>\n",
       "        </tr>\n",
       "    </thead>\n",
       "    <tbody>\n",
       "    </tbody>\n",
       "</table>"
      ],
      "text/plain": [
       "++\n",
       "||\n",
       "++\n",
       "++"
      ]
     },
     "execution_count": 1101,
     "metadata": {},
     "output_type": "execute_result"
    }
   ],
   "source": [
    "%%sql\n",
    "\n",
    "DROP INDEX IF EXISTS idx_variant_attr_variant_causation;\n",
    "CREATE INDEX idx_variant_attr_variant_causation ON variant_attr (variant_id, causation_index);"
   ]
  },
  {
   "cell_type": "markdown",
   "id": "3e09c8eb",
   "metadata": {},
   "source": [
    "## idx_subvariant_span_span_id"
   ]
  },
  {
   "cell_type": "code",
   "execution_count": 1102,
   "id": "a505619c",
   "metadata": {
    "vscode": {
     "languageId": "sql"
    }
   },
   "outputs": [
    {
     "data": {
      "text/html": [
       "<span style=\"None\">Running query in &#x27;postgresql://notebook@localhost:5432/sahuagin&#x27;</span>"
      ],
      "text/plain": [
       "Running query in 'postgresql://notebook@localhost:5432/sahuagin'"
      ]
     },
     "metadata": {},
     "output_type": "display_data"
    },
    {
     "data": {
      "text/html": [
       "<table>\n",
       "    <thead>\n",
       "        <tr>\n",
       "        </tr>\n",
       "    </thead>\n",
       "    <tbody>\n",
       "    </tbody>\n",
       "</table>"
      ],
      "text/plain": [
       "++\n",
       "||\n",
       "++\n",
       "++"
      ]
     },
     "execution_count": 1102,
     "metadata": {},
     "output_type": "execute_result"
    }
   ],
   "source": [
    "%%sql\n",
    "\n",
    "DROP INDEX IF EXISTS idx_subvariant_span_span_id;\n",
    "CREATE INDEX idx_subvariant_span_span_id ON subvariant_span (span_id);"
   ]
  },
  {
   "cell_type": "markdown",
   "id": "d61bb52c",
   "metadata": {},
   "source": [
    "## idx_possible_attr_variant_attr"
   ]
  },
  {
   "cell_type": "code",
   "execution_count": 1103,
   "id": "294e373a",
   "metadata": {
    "vscode": {
     "languageId": "sql"
    }
   },
   "outputs": [
    {
     "data": {
      "text/html": [
       "<span style=\"None\">Running query in &#x27;postgresql://notebook@localhost:5432/sahuagin&#x27;</span>"
      ],
      "text/plain": [
       "Running query in 'postgresql://notebook@localhost:5432/sahuagin'"
      ]
     },
     "metadata": {},
     "output_type": "display_data"
    },
    {
     "data": {
      "text/html": [
       "<table>\n",
       "    <thead>\n",
       "        <tr>\n",
       "        </tr>\n",
       "    </thead>\n",
       "    <tbody>\n",
       "    </tbody>\n",
       "</table>"
      ],
      "text/plain": [
       "++\n",
       "||\n",
       "++\n",
       "++"
      ]
     },
     "execution_count": 1103,
     "metadata": {},
     "output_type": "execute_result"
    }
   ],
   "source": [
    "%%sql\n",
    "\n",
    "DROP INDEX IF EXISTS idx_possible_attr_variant_attr;\n",
    "CREATE INDEX idx_possible_attr_variant_attr ON possible_attr (variant_attr_id);"
   ]
  },
  {
   "cell_type": "markdown",
   "id": "a76e2135",
   "metadata": {},
   "source": [
    "## idx_possible_attr_vaid"
   ]
  },
  {
   "cell_type": "code",
   "execution_count": 1104,
   "id": "8254f2bb",
   "metadata": {
    "vscode": {
     "languageId": "sql"
    }
   },
   "outputs": [
    {
     "data": {
      "text/html": [
       "<span style=\"None\">Running query in &#x27;postgresql://notebook@localhost:5432/sahuagin&#x27;</span>"
      ],
      "text/plain": [
       "Running query in 'postgresql://notebook@localhost:5432/sahuagin'"
      ]
     },
     "metadata": {},
     "output_type": "display_data"
    },
    {
     "data": {
      "text/html": [
       "<table>\n",
       "    <thead>\n",
       "        <tr>\n",
       "        </tr>\n",
       "    </thead>\n",
       "    <tbody>\n",
       "    </tbody>\n",
       "</table>"
      ],
      "text/plain": [
       "++\n",
       "||\n",
       "++\n",
       "++"
      ]
     },
     "execution_count": 1104,
     "metadata": {},
     "output_type": "execute_result"
    }
   ],
   "source": [
    "%%sql\n",
    "\n",
    "DROP INDEX IF EXISTS idx_possible_attr_vaid;\n",
    "CREATE INDEX idx_possible_attr_vaid ON possible_attr (variant_attr_id, id);"
   ]
  },
  {
   "cell_type": "markdown",
   "id": "3dc6126d-4c57-4acd-ba96-e4a024670843",
   "metadata": {},
   "source": [
    "## idx_possible_attr_parent"
   ]
  },
  {
   "cell_type": "code",
   "execution_count": 1105,
   "id": "6d5b5265-10af-4660-a25d-ec267c59f766",
   "metadata": {
    "vscode": {
     "languageId": "sql"
    }
   },
   "outputs": [
    {
     "data": {
      "text/html": [
       "<span style=\"None\">Running query in &#x27;postgresql://notebook@localhost:5432/sahuagin&#x27;</span>"
      ],
      "text/plain": [
       "Running query in 'postgresql://notebook@localhost:5432/sahuagin'"
      ]
     },
     "metadata": {},
     "output_type": "display_data"
    },
    {
     "data": {
      "text/html": [
       "<table>\n",
       "    <thead>\n",
       "        <tr>\n",
       "        </tr>\n",
       "    </thead>\n",
       "    <tbody>\n",
       "    </tbody>\n",
       "</table>"
      ],
      "text/plain": [
       "++\n",
       "||\n",
       "++\n",
       "++"
      ]
     },
     "execution_count": 1105,
     "metadata": {},
     "output_type": "execute_result"
    }
   ],
   "source": [
    "%%sql\n",
    "\n",
    "DROP INDEX IF EXISTS idx_possible_attr_parent;\n",
    "CREATE INDEX idx_possible_attr_parent ON possible_attr(parent_possible_attr_id);"
   ]
  },
  {
   "cell_type": "markdown",
   "id": "0843457a",
   "metadata": {},
   "source": [
    "## idx_uq_possible_attr"
   ]
  },
  {
   "cell_type": "code",
   "execution_count": 1106,
   "id": "e2ed14f3",
   "metadata": {
    "vscode": {
     "languageId": "sql"
    }
   },
   "outputs": [
    {
     "data": {
      "text/html": [
       "<span style=\"None\">Running query in &#x27;postgresql://notebook@localhost:5432/sahuagin&#x27;</span>"
      ],
      "text/plain": [
       "Running query in 'postgresql://notebook@localhost:5432/sahuagin'"
      ]
     },
     "metadata": {},
     "output_type": "display_data"
    },
    {
     "data": {
      "text/html": [
       "<table>\n",
       "    <thead>\n",
       "        <tr>\n",
       "        </tr>\n",
       "    </thead>\n",
       "    <tbody>\n",
       "    </tbody>\n",
       "</table>"
      ],
      "text/plain": [
       "++\n",
       "||\n",
       "++\n",
       "++"
      ]
     },
     "execution_count": 1106,
     "metadata": {},
     "output_type": "execute_result"
    }
   ],
   "source": [
    "%%sql\n",
    "\n",
    "DROP INDEX IF EXISTS idx_uq_possible_attr;\n",
    "CREATE INDEX idx_uq_possible_attr ON possible_attr (\n",
    "    variant_attr_id,\n",
    "    subvariant_span_id\n",
    ");"
   ]
  },
  {
   "cell_type": "markdown",
   "id": "ab66e882",
   "metadata": {},
   "source": [
    "## idx_possible_attr_va_pss"
   ]
  },
  {
   "cell_type": "code",
   "execution_count": 1107,
   "id": "d4246fa3",
   "metadata": {
    "vscode": {
     "languageId": "sql"
    }
   },
   "outputs": [
    {
     "data": {
      "text/html": [
       "<span style=\"None\">Running query in &#x27;postgresql://notebook@localhost:5432/sahuagin&#x27;</span>"
      ],
      "text/plain": [
       "Running query in 'postgresql://notebook@localhost:5432/sahuagin'"
      ]
     },
     "metadata": {},
     "output_type": "display_data"
    },
    {
     "data": {
      "text/html": [
       "<table>\n",
       "    <thead>\n",
       "        <tr>\n",
       "        </tr>\n",
       "    </thead>\n",
       "    <tbody>\n",
       "    </tbody>\n",
       "</table>"
      ],
      "text/plain": [
       "++\n",
       "||\n",
       "++\n",
       "++"
      ]
     },
     "execution_count": 1107,
     "metadata": {},
     "output_type": "execute_result"
    }
   ],
   "source": [
    "%%sql\n",
    "\n",
    "DROP INDEX IF EXISTS idx_uq_possible_attr;\n",
    "CREATE INDEX idx_possible_attr_va_pss\n",
    "  ON possible_attr(variant_attr_id, parent_possible_attr_id, subvariant_span_id);"
   ]
  },
  {
   "cell_type": "markdown",
   "id": "3fc45d77",
   "metadata": {},
   "source": [
    "## idx_var_cont_variation"
   ]
  },
  {
   "cell_type": "code",
   "execution_count": 1108,
   "id": "1c8d8d66",
   "metadata": {
    "vscode": {
     "languageId": "sql"
    }
   },
   "outputs": [
    {
     "data": {
      "text/html": [
       "<span style=\"None\">Running query in &#x27;postgresql://notebook@localhost:5432/sahuagin&#x27;</span>"
      ],
      "text/plain": [
       "Running query in 'postgresql://notebook@localhost:5432/sahuagin'"
      ]
     },
     "metadata": {},
     "output_type": "display_data"
    },
    {
     "data": {
      "text/html": [
       "<table>\n",
       "    <thead>\n",
       "        <tr>\n",
       "        </tr>\n",
       "    </thead>\n",
       "    <tbody>\n",
       "    </tbody>\n",
       "</table>"
      ],
      "text/plain": [
       "++\n",
       "||\n",
       "++\n",
       "++"
      ]
     },
     "execution_count": 1108,
     "metadata": {},
     "output_type": "execute_result"
    }
   ],
   "source": [
    "%%sql\n",
    "\n",
    "DROP INDEX IF EXISTS idx_var_cont_variation;\n",
    "CREATE INDEX idx_var_cont_variation ON variation_continuous_attr (effect_id);"
   ]
  },
  {
   "cell_type": "markdown",
   "id": "ba915cda-aab2-4fbb-ba5d-b1b72cdd10ba",
   "metadata": {},
   "source": [
    "## idx_effect_activating_psattr"
   ]
  },
  {
   "cell_type": "code",
   "execution_count": 1109,
   "id": "9662886b-ccc2-4824-8b24-a7f8d2a3c032",
   "metadata": {
    "vscode": {
     "languageId": "sql"
    }
   },
   "outputs": [
    {
     "data": {
      "text/html": [
       "<span style=\"None\">Running query in &#x27;postgresql://notebook@localhost:5432/sahuagin&#x27;</span>"
      ],
      "text/plain": [
       "Running query in 'postgresql://notebook@localhost:5432/sahuagin'"
      ]
     },
     "metadata": {},
     "output_type": "display_data"
    },
    {
     "data": {
      "text/html": [
       "<table>\n",
       "    <thead>\n",
       "        <tr>\n",
       "        </tr>\n",
       "    </thead>\n",
       "    <tbody>\n",
       "    </tbody>\n",
       "</table>"
      ],
      "text/plain": [
       "++\n",
       "||\n",
       "++\n",
       "++"
      ]
     },
     "execution_count": 1109,
     "metadata": {},
     "output_type": "execute_result"
    }
   ],
   "source": [
    "%%sql\n",
    "\n",
    "DROP INDEX IF EXISTS idx_effect_activating_psattr;\n",
    "CREATE INDEX idx_effect_activating_psattr ON effect(activating_possible_attr_id);"
   ]
  },
  {
   "cell_type": "markdown",
   "id": "a7cadce9-1e8b-4f99-9802-5cebfd9b0fa6",
   "metadata": {},
   "source": [
    "## idx_effect_to_modify_psattr"
   ]
  },
  {
   "cell_type": "code",
   "execution_count": 1110,
   "id": "b7fc8e3f-0e02-4aac-a13d-5135369cc621",
   "metadata": {
    "vscode": {
     "languageId": "sql"
    }
   },
   "outputs": [
    {
     "data": {
      "text/html": [
       "<span style=\"None\">Running query in &#x27;postgresql://notebook@localhost:5432/sahuagin&#x27;</span>"
      ],
      "text/plain": [
       "Running query in 'postgresql://notebook@localhost:5432/sahuagin'"
      ]
     },
     "metadata": {},
     "output_type": "display_data"
    },
    {
     "data": {
      "text/html": [
       "<table>\n",
       "    <thead>\n",
       "        <tr>\n",
       "        </tr>\n",
       "    </thead>\n",
       "    <tbody>\n",
       "    </tbody>\n",
       "</table>"
      ],
      "text/plain": [
       "++\n",
       "||\n",
       "++\n",
       "++"
      ]
     },
     "execution_count": 1110,
     "metadata": {},
     "output_type": "execute_result"
    }
   ],
   "source": [
    "%%sql\n",
    "\n",
    "DROP INDEX IF EXISTS idx_effect_to_modify_psattr;\n",
    "CREATE INDEX idx_effect_to_modify_psattr ON effect(to_modify_possible_attr_id);"
   ]
  },
  {
   "cell_type": "markdown",
   "id": "9123c137",
   "metadata": {},
   "source": [
    "## idx_variation_activated_span_effect"
   ]
  },
  {
   "cell_type": "code",
   "execution_count": 1111,
   "id": "15972ef9",
   "metadata": {
    "vscode": {
     "languageId": "sql"
    }
   },
   "outputs": [
    {
     "data": {
      "text/html": [
       "<span style=\"None\">Running query in &#x27;postgresql://notebook@localhost:5432/sahuagin&#x27;</span>"
      ],
      "text/plain": [
       "Running query in 'postgresql://notebook@localhost:5432/sahuagin'"
      ]
     },
     "metadata": {},
     "output_type": "display_data"
    },
    {
     "data": {
      "text/html": [
       "<table>\n",
       "    <thead>\n",
       "        <tr>\n",
       "        </tr>\n",
       "    </thead>\n",
       "    <tbody>\n",
       "    </tbody>\n",
       "</table>"
      ],
      "text/plain": [
       "++\n",
       "||\n",
       "++\n",
       "++"
      ]
     },
     "execution_count": 1111,
     "metadata": {},
     "output_type": "execute_result"
    }
   ],
   "source": [
    "%%sql\n",
    "\n",
    "DROP INDEX IF EXISTS idx_variation_activated_span_effect;\n",
    "CREATE INDEX idx_variation_activated_span_effect\n",
    "  ON variation_activated_span(effect_id);"
   ]
  },
  {
   "cell_type": "markdown",
   "id": "6d10875a",
   "metadata": {},
   "source": [
    "## idx_variation_activated_span_varid_spanid"
   ]
  },
  {
   "cell_type": "code",
   "execution_count": 1112,
   "id": "8c02f059",
   "metadata": {
    "vscode": {
     "languageId": "sql"
    }
   },
   "outputs": [
    {
     "data": {
      "text/html": [
       "<span style=\"None\">Running query in &#x27;postgresql://notebook@localhost:5432/sahuagin&#x27;</span>"
      ],
      "text/plain": [
       "Running query in 'postgresql://notebook@localhost:5432/sahuagin'"
      ]
     },
     "metadata": {},
     "output_type": "display_data"
    },
    {
     "data": {
      "text/html": [
       "<table>\n",
       "    <thead>\n",
       "        <tr>\n",
       "        </tr>\n",
       "    </thead>\n",
       "    <tbody>\n",
       "    </tbody>\n",
       "</table>"
      ],
      "text/plain": [
       "++\n",
       "||\n",
       "++\n",
       "++"
      ]
     },
     "execution_count": 1112,
     "metadata": {},
     "output_type": "execute_result"
    }
   ],
   "source": [
    "%%sql\n",
    "\n",
    "DROP INDEX IF EXISTS idx_variation_activated_span_effid_spanid;\n",
    "CREATE INDEX idx_variation_activated_span_effid_spanid ON variation_activated_span (effect_id, span_id);"
   ]
  },
  {
   "cell_type": "markdown",
   "id": "910db39f",
   "metadata": {},
   "source": [
    "## idx_variation_inactive_span_effect"
   ]
  },
  {
   "cell_type": "code",
   "execution_count": 1113,
   "id": "95437db5",
   "metadata": {
    "vscode": {
     "languageId": "sql"
    }
   },
   "outputs": [
    {
     "data": {
      "text/html": [
       "<span style=\"None\">Running query in &#x27;postgresql://notebook@localhost:5432/sahuagin&#x27;</span>"
      ],
      "text/plain": [
       "Running query in 'postgresql://notebook@localhost:5432/sahuagin'"
      ]
     },
     "metadata": {},
     "output_type": "display_data"
    },
    {
     "data": {
      "text/html": [
       "<table>\n",
       "    <thead>\n",
       "        <tr>\n",
       "        </tr>\n",
       "    </thead>\n",
       "    <tbody>\n",
       "    </tbody>\n",
       "</table>"
      ],
      "text/plain": [
       "++\n",
       "||\n",
       "++\n",
       "++"
      ]
     },
     "execution_count": 1113,
     "metadata": {},
     "output_type": "execute_result"
    }
   ],
   "source": [
    "%%sql\n",
    "\n",
    "DROP INDEX IF EXISTS idx_variation_inactive_span_effect;\n",
    "CREATE INDEX idx_variation_inactive_span_effect\n",
    "  ON variation_inactive_span(effect_id);"
   ]
  },
  {
   "cell_type": "markdown",
   "id": "e50fcdc3",
   "metadata": {},
   "source": [
    "## idx_variation_inactive"
   ]
  },
  {
   "cell_type": "code",
   "execution_count": 1114,
   "id": "126b9925",
   "metadata": {
    "vscode": {
     "languageId": "sql"
    }
   },
   "outputs": [
    {
     "data": {
      "text/html": [
       "<span style=\"None\">Running query in &#x27;postgresql://notebook@localhost:5432/sahuagin&#x27;</span>"
      ],
      "text/plain": [
       "Running query in 'postgresql://notebook@localhost:5432/sahuagin'"
      ]
     },
     "metadata": {},
     "output_type": "display_data"
    },
    {
     "data": {
      "text/html": [
       "<table>\n",
       "    <thead>\n",
       "        <tr>\n",
       "        </tr>\n",
       "    </thead>\n",
       "    <tbody>\n",
       "    </tbody>\n",
       "</table>"
      ],
      "text/plain": [
       "++\n",
       "||\n",
       "++\n",
       "++"
      ]
     },
     "execution_count": 1114,
     "metadata": {},
     "output_type": "execute_result"
    }
   ],
   "source": [
    "%%sql\n",
    "\n",
    "DROP INDEX IF EXISTS idx_variation_inactive;\n",
    "CREATE INDEX idx_variation_inactive ON variation_inactive_span (effect_id, span_id);"
   ]
  },
  {
   "cell_type": "markdown",
   "id": "05753f3b",
   "metadata": {},
   "source": [
    "## idx_variation_delta_weight_effect"
   ]
  },
  {
   "cell_type": "code",
   "execution_count": 1115,
   "id": "559ca0e2",
   "metadata": {
    "vscode": {
     "languageId": "sql"
    }
   },
   "outputs": [
    {
     "data": {
      "text/html": [
       "<span style=\"None\">Running query in &#x27;postgresql://notebook@localhost:5432/sahuagin&#x27;</span>"
      ],
      "text/plain": [
       "Running query in 'postgresql://notebook@localhost:5432/sahuagin'"
      ]
     },
     "metadata": {},
     "output_type": "display_data"
    },
    {
     "data": {
      "text/html": [
       "<table>\n",
       "    <thead>\n",
       "        <tr>\n",
       "        </tr>\n",
       "    </thead>\n",
       "    <tbody>\n",
       "    </tbody>\n",
       "</table>"
      ],
      "text/plain": [
       "++\n",
       "||\n",
       "++\n",
       "++"
      ]
     },
     "execution_count": 1115,
     "metadata": {},
     "output_type": "execute_result"
    }
   ],
   "source": [
    "%%sql\n",
    "\n",
    "DROP INDEX IF EXISTS idx_variation_delta_weight_effect;\n",
    "CREATE INDEX idx_variation_delta_weight_effect\n",
    "  ON variation_delta_weight(effect_id);"
   ]
  },
  {
   "cell_type": "markdown",
   "id": "e44c873c",
   "metadata": {},
   "source": [
    "## idx_variation_delta_weight_varid_spanid"
   ]
  },
  {
   "cell_type": "code",
   "execution_count": 1116,
   "id": "3c15c086",
   "metadata": {
    "vscode": {
     "languageId": "sql"
    }
   },
   "outputs": [
    {
     "data": {
      "text/html": [
       "<span style=\"None\">Running query in &#x27;postgresql://notebook@localhost:5432/sahuagin&#x27;</span>"
      ],
      "text/plain": [
       "Running query in 'postgresql://notebook@localhost:5432/sahuagin'"
      ]
     },
     "metadata": {},
     "output_type": "display_data"
    },
    {
     "data": {
      "text/html": [
       "<table>\n",
       "    <thead>\n",
       "        <tr>\n",
       "        </tr>\n",
       "    </thead>\n",
       "    <tbody>\n",
       "    </tbody>\n",
       "</table>"
      ],
      "text/plain": [
       "++\n",
       "||\n",
       "++\n",
       "++"
      ]
     },
     "execution_count": 1116,
     "metadata": {},
     "output_type": "execute_result"
    }
   ],
   "source": [
    "%%sql\n",
    "\n",
    "DROP INDEX IF EXISTS idx_variation_delta_weight_effid_spanid;\n",
    "CREATE INDEX idx_variation_delta_weight_effid_spanid ON variation_delta_weight (effect_id, span_id);"
   ]
  },
  {
   "cell_type": "markdown",
   "id": "080999f8",
   "metadata": {},
   "source": [
    "## idx_variation_delta"
   ]
  },
  {
   "cell_type": "code",
   "execution_count": 1117,
   "id": "5638e2e7",
   "metadata": {
    "vscode": {
     "languageId": "sql"
    }
   },
   "outputs": [
    {
     "data": {
      "text/html": [
       "<span style=\"None\">Running query in &#x27;postgresql://notebook@localhost:5432/sahuagin&#x27;</span>"
      ],
      "text/plain": [
       "Running query in 'postgresql://notebook@localhost:5432/sahuagin'"
      ]
     },
     "metadata": {},
     "output_type": "display_data"
    },
    {
     "data": {
      "text/html": [
       "<table>\n",
       "    <thead>\n",
       "        <tr>\n",
       "        </tr>\n",
       "    </thead>\n",
       "    <tbody>\n",
       "    </tbody>\n",
       "</table>"
      ],
      "text/plain": [
       "++\n",
       "||\n",
       "++\n",
       "++"
      ]
     },
     "execution_count": 1117,
     "metadata": {},
     "output_type": "execute_result"
    }
   ],
   "source": [
    "%%sql\n",
    "\n",
    "DROP INDEX IF EXISTS idx_variation_delta;\n",
    "CREATE INDEX idx_variation_delta ON variation_delta_weight (\n",
    "    effect_id,\n",
    "    span_id,\n",
    "    delta_weight\n",
    ");"
   ]
  },
  {
   "cell_type": "markdown",
   "id": "cac677ad",
   "metadata": {},
   "source": [
    "## idx_entity_state_entity_id"
   ]
  },
  {
   "cell_type": "code",
   "execution_count": 1118,
   "id": "fe18b12e",
   "metadata": {
    "vscode": {
     "languageId": "sql"
    }
   },
   "outputs": [
    {
     "data": {
      "text/html": [
       "<span style=\"None\">Running query in &#x27;postgresql://notebook@localhost:5432/sahuagin&#x27;</span>"
      ],
      "text/plain": [
       "Running query in 'postgresql://notebook@localhost:5432/sahuagin'"
      ]
     },
     "metadata": {},
     "output_type": "display_data"
    },
    {
     "data": {
      "text/html": [
       "<table>\n",
       "    <thead>\n",
       "        <tr>\n",
       "        </tr>\n",
       "    </thead>\n",
       "    <tbody>\n",
       "    </tbody>\n",
       "</table>"
      ],
      "text/plain": [
       "++\n",
       "||\n",
       "++\n",
       "++"
      ]
     },
     "execution_count": 1118,
     "metadata": {},
     "output_type": "execute_result"
    }
   ],
   "source": [
    "%%sql\n",
    "\n",
    "DROP INDEX IF EXISTS idx_entity_state_entity_id;\n",
    "CREATE INDEX idx_entity_state_entity_id ON entity_state (entity_id);"
   ]
  },
  {
   "cell_type": "markdown",
   "id": "3b3e6097",
   "metadata": {},
   "source": [
    "## idx_entity_state_entity_time"
   ]
  },
  {
   "cell_type": "code",
   "execution_count": 1119,
   "id": "9169bf37",
   "metadata": {
    "vscode": {
     "languageId": "sql"
    }
   },
   "outputs": [
    {
     "data": {
      "text/html": [
       "<span style=\"None\">Running query in &#x27;postgresql://notebook@localhost:5432/sahuagin&#x27;</span>"
      ],
      "text/plain": [
       "Running query in 'postgresql://notebook@localhost:5432/sahuagin'"
      ]
     },
     "metadata": {},
     "output_type": "display_data"
    },
    {
     "data": {
      "text/html": [
       "<table>\n",
       "    <thead>\n",
       "        <tr>\n",
       "        </tr>\n",
       "    </thead>\n",
       "    <tbody>\n",
       "    </tbody>\n",
       "</table>"
      ],
      "text/plain": [
       "++\n",
       "||\n",
       "++\n",
       "++"
      ]
     },
     "execution_count": 1119,
     "metadata": {},
     "output_type": "execute_result"
    }
   ],
   "source": [
    "%%sql\n",
    "\n",
    "DROP INDEX IF EXISTS idx_entity_state_entity_time;\n",
    "CREATE INDEX idx_entity_state_entity_time ON entity_state (entity_id, time);"
   ]
  },
  {
   "cell_type": "markdown",
   "id": "e5c5cb9a",
   "metadata": {},
   "source": [
    "## idx_entity_varattr_value_entity_state_id"
   ]
  },
  {
   "cell_type": "code",
   "execution_count": 1120,
   "id": "7eed3089",
   "metadata": {
    "vscode": {
     "languageId": "sql"
    }
   },
   "outputs": [
    {
     "data": {
      "text/html": [
       "<span style=\"None\">Running query in &#x27;postgresql://notebook@localhost:5432/sahuagin&#x27;</span>"
      ],
      "text/plain": [
       "Running query in 'postgresql://notebook@localhost:5432/sahuagin'"
      ]
     },
     "metadata": {},
     "output_type": "display_data"
    },
    {
     "data": {
      "text/html": [
       "<table>\n",
       "    <thead>\n",
       "        <tr>\n",
       "        </tr>\n",
       "    </thead>\n",
       "    <tbody>\n",
       "    </tbody>\n",
       "</table>"
      ],
      "text/plain": [
       "++\n",
       "||\n",
       "++\n",
       "++"
      ]
     },
     "execution_count": 1120,
     "metadata": {},
     "output_type": "execute_result"
    }
   ],
   "source": [
    "%%sql\n",
    "\n",
    "DROP INDEX IF EXISTS idx_entity_varattr_value_entity_state_id;\n",
    "CREATE INDEX idx_entity_varattr_value_entity_state_id ON entity_varattr_value (entity_state_id);"
   ]
  },
  {
   "cell_type": "markdown",
   "id": "ec74b8ee",
   "metadata": {},
   "source": [
    "## idx_evav_state_vaid"
   ]
  },
  {
   "cell_type": "code",
   "execution_count": 1121,
   "id": "1f96c27e",
   "metadata": {
    "vscode": {
     "languageId": "sql"
    }
   },
   "outputs": [
    {
     "data": {
      "text/html": [
       "<span style=\"None\">Running query in &#x27;postgresql://notebook@localhost:5432/sahuagin&#x27;</span>"
      ],
      "text/plain": [
       "Running query in 'postgresql://notebook@localhost:5432/sahuagin'"
      ]
     },
     "metadata": {},
     "output_type": "display_data"
    },
    {
     "data": {
      "text/html": [
       "<table>\n",
       "    <thead>\n",
       "        <tr>\n",
       "        </tr>\n",
       "    </thead>\n",
       "    <tbody>\n",
       "    </tbody>\n",
       "</table>"
      ],
      "text/plain": [
       "++\n",
       "||\n",
       "++\n",
       "++"
      ]
     },
     "execution_count": 1121,
     "metadata": {},
     "output_type": "execute_result"
    }
   ],
   "source": [
    "%%sql\n",
    "\n",
    "DROP INDEX IF EXISTS idx_evav_state_vaid;\n",
    "CREATE INDEX idx_evav_state_vaid ON entity_varattr_value (\n",
    "    entity_state_id,\n",
    "    possible_attr_id\n",
    ");"
   ]
  },
  {
   "cell_type": "markdown",
   "id": "77cb7537",
   "metadata": {},
   "source": [
    "## idx_evav_state_attr_span"
   ]
  },
  {
   "cell_type": "code",
   "execution_count": 1122,
   "id": "9e140bb5",
   "metadata": {
    "vscode": {
     "languageId": "sql"
    }
   },
   "outputs": [
    {
     "data": {
      "text/html": [
       "<span style=\"None\">Running query in &#x27;postgresql://notebook@localhost:5432/sahuagin&#x27;</span>"
      ],
      "text/plain": [
       "Running query in 'postgresql://notebook@localhost:5432/sahuagin'"
      ]
     },
     "metadata": {},
     "output_type": "display_data"
    },
    {
     "data": {
      "text/html": [
       "<table>\n",
       "    <thead>\n",
       "        <tr>\n",
       "        </tr>\n",
       "    </thead>\n",
       "    <tbody>\n",
       "    </tbody>\n",
       "</table>"
      ],
      "text/plain": [
       "++\n",
       "||\n",
       "++\n",
       "++"
      ]
     },
     "execution_count": 1122,
     "metadata": {},
     "output_type": "execute_result"
    }
   ],
   "source": [
    "%%sql\n",
    "\n",
    "DROP INDEX IF EXISTS idx_evav_state_attr_span;\n",
    "CREATE INDEX idx_evav_state_attr_span ON entity_varattr_value (\n",
    "    entity_state_id,\n",
    "    possible_attr_id,\n",
    "    span_id\n",
    ");"
   ]
  },
  {
   "cell_type": "markdown",
   "id": "48596a17",
   "metadata": {},
   "source": [
    "## idx_evav_lock_locked"
   ]
  },
  {
   "cell_type": "code",
   "execution_count": 1123,
   "id": "5853a7db",
   "metadata": {
    "vscode": {
     "languageId": "sql"
    }
   },
   "outputs": [
    {
     "data": {
      "text/html": [
       "<span style=\"None\">Running query in &#x27;postgresql://notebook@localhost:5432/sahuagin&#x27;</span>"
      ],
      "text/plain": [
       "Running query in 'postgresql://notebook@localhost:5432/sahuagin'"
      ]
     },
     "metadata": {},
     "output_type": "display_data"
    },
    {
     "data": {
      "text/html": [
       "<table>\n",
       "    <thead>\n",
       "        <tr>\n",
       "        </tr>\n",
       "    </thead>\n",
       "    <tbody>\n",
       "    </tbody>\n",
       "</table>"
      ],
      "text/plain": [
       "++\n",
       "||\n",
       "++\n",
       "++"
      ]
     },
     "execution_count": 1123,
     "metadata": {},
     "output_type": "execute_result"
    }
   ],
   "source": [
    "%%sql\n",
    "\n",
    "DROP INDEX IF EXISTS idx_evav_lock_locked;\n",
    "CREATE INDEX idx_evav_lock_locked ON evav_lock (locked_evav_id);"
   ]
  },
  {
   "cell_type": "markdown",
   "id": "c118bcf9",
   "metadata": {},
   "source": [
    "## idx_evav_lock_locking"
   ]
  },
  {
   "cell_type": "code",
   "execution_count": 1124,
   "id": "e716b14e",
   "metadata": {
    "vscode": {
     "languageId": "sql"
    }
   },
   "outputs": [
    {
     "data": {
      "text/html": [
       "<span style=\"None\">Running query in &#x27;postgresql://notebook@localhost:5432/sahuagin&#x27;</span>"
      ],
      "text/plain": [
       "Running query in 'postgresql://notebook@localhost:5432/sahuagin'"
      ]
     },
     "metadata": {},
     "output_type": "display_data"
    },
    {
     "data": {
      "text/html": [
       "<table>\n",
       "    <thead>\n",
       "        <tr>\n",
       "        </tr>\n",
       "    </thead>\n",
       "    <tbody>\n",
       "    </tbody>\n",
       "</table>"
      ],
      "text/plain": [
       "++\n",
       "||\n",
       "++\n",
       "++"
      ]
     },
     "execution_count": 1124,
     "metadata": {},
     "output_type": "execute_result"
    }
   ],
   "source": [
    "%%sql\n",
    "\n",
    "DROP INDEX IF EXISTS idx_evav_lock_locking;\n",
    "CREATE INDEX idx_evav_lock_locking ON evav_lock (locking_evav_id);"
   ]
  },
  {
   "cell_type": "markdown",
   "id": "5b713f9b",
   "metadata": {},
   "source": [
    "## idx_evav_lock_locked_locking"
   ]
  },
  {
   "cell_type": "code",
   "execution_count": 1125,
   "id": "c4a43c80",
   "metadata": {
    "vscode": {
     "languageId": "sql"
    }
   },
   "outputs": [
    {
     "data": {
      "text/html": [
       "<span style=\"None\">Running query in &#x27;postgresql://notebook@localhost:5432/sahuagin&#x27;</span>"
      ],
      "text/plain": [
       "Running query in 'postgresql://notebook@localhost:5432/sahuagin'"
      ]
     },
     "metadata": {},
     "output_type": "display_data"
    },
    {
     "data": {
      "text/html": [
       "<table>\n",
       "    <thead>\n",
       "        <tr>\n",
       "        </tr>\n",
       "    </thead>\n",
       "    <tbody>\n",
       "    </tbody>\n",
       "</table>"
      ],
      "text/plain": [
       "++\n",
       "||\n",
       "++\n",
       "++"
      ]
     },
     "execution_count": 1125,
     "metadata": {},
     "output_type": "execute_result"
    }
   ],
   "source": [
    "%%sql\n",
    "\n",
    "DROP INDEX IF EXISTS idx_evav_lock_locked_locking;\n",
    "CREATE INDEX idx_evav_lock_locked_locking ON evav_lock (\n",
    "    locked_evav_id,\n",
    "    locking_evav_id\n",
    ");"
   ]
  },
  {
   "cell_type": "markdown",
   "id": "6e64fcaa",
   "metadata": {},
   "source": [
    "## idx_entity_group_link_group_id_entity_id"
   ]
  },
  {
   "cell_type": "code",
   "execution_count": 1126,
   "id": "10d2674a",
   "metadata": {
    "vscode": {
     "languageId": "sql"
    }
   },
   "outputs": [
    {
     "data": {
      "text/html": [
       "<span style=\"None\">Running query in &#x27;postgresql://notebook@localhost:5432/sahuagin&#x27;</span>"
      ],
      "text/plain": [
       "Running query in 'postgresql://notebook@localhost:5432/sahuagin'"
      ]
     },
     "metadata": {},
     "output_type": "display_data"
    },
    {
     "data": {
      "text/html": [
       "<table>\n",
       "    <thead>\n",
       "        <tr>\n",
       "        </tr>\n",
       "    </thead>\n",
       "    <tbody>\n",
       "    </tbody>\n",
       "</table>"
      ],
      "text/plain": [
       "++\n",
       "||\n",
       "++\n",
       "++"
      ]
     },
     "execution_count": 1126,
     "metadata": {},
     "output_type": "execute_result"
    }
   ],
   "source": [
    "%%sql\n",
    "\n",
    "DROP INDEX IF EXISTS idx_entity_group_link_group_id_entity_id;\n",
    "CREATE INDEX idx_entity_group_link_group_id_entity_id\n",
    "  ON entity_group_link(entity_group_id, entity_id);"
   ]
  },
  {
   "cell_type": "markdown",
   "id": "432a53b9-0984-45fa-8eba-3dde6bb6075a",
   "metadata": {
    "jp-MarkdownHeadingCollapsed": true
   },
   "source": [
    "# Debug"
   ]
  },
  {
   "cell_type": "markdown",
   "id": "3be4f202",
   "metadata": {},
   "source": [
    "## Create Log Table"
   ]
  },
  {
   "cell_type": "code",
   "execution_count": 1127,
   "id": "a4214ab5",
   "metadata": {
    "vscode": {
     "languageId": "sql"
    }
   },
   "outputs": [
    {
     "data": {
      "text/html": [
       "<span style=\"None\">Running query in &#x27;postgresql://notebook@localhost:5432/sahuagin&#x27;</span>"
      ],
      "text/plain": [
       "Running query in 'postgresql://notebook@localhost:5432/sahuagin'"
      ]
     },
     "metadata": {},
     "output_type": "display_data"
    },
    {
     "data": {
      "text/html": [
       "<table>\n",
       "    <thead>\n",
       "        <tr>\n",
       "        </tr>\n",
       "    </thead>\n",
       "    <tbody>\n",
       "    </tbody>\n",
       "</table>"
      ],
      "text/plain": [
       "++\n",
       "||\n",
       "++\n",
       "++"
      ]
     },
     "execution_count": 1127,
     "metadata": {},
     "output_type": "execute_result"
    }
   ],
   "source": [
    "%%sql\n",
    "\n",
    "DROP TABLE IF EXISTS debug_log CASCADE;\n",
    "CREATE TABLE debug_log (\n",
    "    id integer GENERATED ALWAYS AS IDENTITY PRIMARY KEY,\n",
    "    log_time timestamp DEFAULT CURRENT_TIMESTAMP,\n",
    "    procedure_name varchar(255),\n",
    "    log_message text\n",
    ");"
   ]
  },
  {
   "cell_type": "markdown",
   "id": "92275a5c",
   "metadata": {},
   "source": [
    "## Create Log Function"
   ]
  },
  {
   "cell_type": "code",
   "execution_count": 1128,
   "id": "dbb634b6",
   "metadata": {
    "vscode": {
     "languageId": "sql"
    }
   },
   "outputs": [
    {
     "data": {
      "text/html": [
       "<span style=\"None\">Running query in &#x27;postgresql://notebook@localhost:5432/sahuagin&#x27;</span>"
      ],
      "text/plain": [
       "Running query in 'postgresql://notebook@localhost:5432/sahuagin'"
      ]
     },
     "metadata": {},
     "output_type": "display_data"
    },
    {
     "data": {
      "text/html": [
       "<table>\n",
       "    <thead>\n",
       "        <tr>\n",
       "        </tr>\n",
       "    </thead>\n",
       "    <tbody>\n",
       "    </tbody>\n",
       "</table>"
      ],
      "text/plain": [
       "++\n",
       "||\n",
       "++\n",
       "++"
      ]
     },
     "execution_count": 1128,
     "metadata": {},
     "output_type": "execute_result"
    }
   ],
   "source": [
    "%%sql\n",
    "\n",
    "CREATE OR REPLACE FUNCTION debug_log(\n",
    "    p_procedure_name varchar,\n",
    "    p_log_message text\n",
    ") RETURNS void\n",
    "LANGUAGE plpgsql\n",
    "AS $$\n",
    "BEGIN\n",
    "    INSERT INTO debug_log (procedure_name, log_message, log_time)\n",
    "    VALUES (p_procedure_name, p_log_message, now());\n",
    "END;\n",
    "$$;"
   ]
  },
  {
   "cell_type": "markdown",
   "id": "618a813c-05d4-4abf-848b-3cb8f779014c",
   "metadata": {},
   "source": [
    "## Clear Log Table"
   ]
  },
  {
   "cell_type": "code",
   "execution_count": 1129,
   "id": "66ffd6b9-93cb-49ca-947c-c61b866ccf45",
   "metadata": {},
   "outputs": [
    {
     "data": {
      "text/html": [
       "<span style=\"None\">Running query in &#x27;postgresql://notebook@localhost:5432/sahuagin&#x27;</span>"
      ],
      "text/plain": [
       "Running query in 'postgresql://notebook@localhost:5432/sahuagin'"
      ]
     },
     "metadata": {},
     "output_type": "display_data"
    },
    {
     "data": {
      "text/html": [
       "<table>\n",
       "    <thead>\n",
       "        <tr>\n",
       "        </tr>\n",
       "    </thead>\n",
       "    <tbody>\n",
       "    </tbody>\n",
       "</table>"
      ],
      "text/plain": [
       "++\n",
       "||\n",
       "++\n",
       "++"
      ]
     },
     "execution_count": 1129,
     "metadata": {},
     "output_type": "execute_result"
    }
   ],
   "source": [
    "%%sql\n",
    "\n",
    "TRUNCATE TABLE debug_log RESTART IDENTITY CASCADE;"
   ]
  },
  {
   "cell_type": "markdown",
   "id": "591436eb",
   "metadata": {
    "jp-MarkdownHeadingCollapsed": true
   },
   "source": [
    "# Create Functions & Procedures"
   ]
  },
  {
   "cell_type": "markdown",
   "id": "0c864491",
   "metadata": {},
   "source": [
    "## Discreate Attribute"
   ]
  },
  {
   "cell_type": "markdown",
   "id": "f71e45f0",
   "metadata": {},
   "source": [
    "### Add"
   ]
  },
  {
   "cell_type": "code",
   "execution_count": 1130,
   "id": "5691d417",
   "metadata": {
    "vscode": {
     "languageId": "sql"
    }
   },
   "outputs": [
    {
     "data": {
      "text/html": [
       "<span style=\"None\">Running query in &#x27;postgresql://notebook@localhost:5432/sahuagin&#x27;</span>"
      ],
      "text/plain": [
       "Running query in 'postgresql://notebook@localhost:5432/sahuagin'"
      ]
     },
     "metadata": {},
     "output_type": "display_data"
    },
    {
     "data": {
      "text/html": [
       "<table>\n",
       "    <thead>\n",
       "        <tr>\n",
       "        </tr>\n",
       "    </thead>\n",
       "    <tbody>\n",
       "    </tbody>\n",
       "</table>"
      ],
      "text/plain": [
       "++\n",
       "||\n",
       "++\n",
       "++"
      ]
     },
     "execution_count": 1130,
     "metadata": {},
     "output_type": "execute_result"
    }
   ],
   "source": [
    "%%sql\n",
    "\n",
    "CREATE OR REPLACE PROCEDURE add_discrete_attribute(\n",
    "    in_name       VARCHAR(255),\n",
    "    in_spans      JSON  -- JSON array: either [[\"span1\", 10], [\"span2\", 20]] or [\"span1\", \"span2\"]\n",
    ")\n",
    "LANGUAGE plpgsql\n",
    "AS $$\n",
    "DECLARE\n",
    "    new_attr_id       INTEGER;\n",
    "    span_count        INTEGER;\n",
    "    span_label        VARCHAR(255);\n",
    "    span_weight       DOUBLE PRECISION;\n",
    "    normalized_weight DOUBLE PRECISION;\n",
    "    total_weight      DOUBLE PRECISION := 0;\n",
    "    first_elem_type   TEXT;\n",
    "    spans_json        JSON;\n",
    "    i                 INTEGER;\n",
    "BEGIN\n",
    "    -- Create the new attribute\n",
    "    INSERT INTO attribute (name, type)\n",
    "      VALUES (in_name, 'discrete')\n",
    "      RETURNING id INTO new_attr_id;\n",
    "\n",
    "    IF in_spans IS NOT NULL THEN\n",
    "        spans_json := in_spans::json;\n",
    "        span_count := json_array_length(spans_json);\n",
    "\n",
    "        IF span_count > 0 THEN\n",
    "            first_elem_type := json_typeof(spans_json->0);\n",
    "        ELSE\n",
    "            first_elem_type := '';\n",
    "        END IF;\n",
    "\n",
    "        IF first_elem_type = 'array' THEN\n",
    "            -- First pass: compute the total weight\n",
    "            FOR i IN 0..span_count - 1 LOOP\n",
    "                total_weight := total_weight + (((spans_json->i)->>1)::DOUBLE PRECISION);\n",
    "            END LOOP;\n",
    "\n",
    "            -- Second pass: insert spans with normalized weight\n",
    "            FOR i IN 0..span_count - 1 LOOP\n",
    "                span_label := (spans_json->i)->>0;\n",
    "                span_weight := ((spans_json->i)->>1)::DOUBLE PRECISION;\n",
    "                normalized_weight := span_weight / total_weight;\n",
    "                INSERT INTO span (attribute_id, label, type, is_pinned, weight)\n",
    "                  VALUES (new_attr_id, span_label, 'discrete', false, normalized_weight);\n",
    "            END LOOP;\n",
    "        ELSE\n",
    "            -- For a JSON array of labels only, call the helper procedure for each span.\n",
    "            FOR i IN 0..span_count - 1 LOOP\n",
    "                span_label := spans_json->>i;\n",
    "                CALL add_discrete_span(new_attr_id, span_label);\n",
    "            END LOOP;\n",
    "        END IF;\n",
    "    END IF;\n",
    "END;\n",
    "$$;"
   ]
  },
  {
   "cell_type": "markdown",
   "id": "3ed792dc",
   "metadata": {
    "vscode": {
     "languageId": "sql"
    }
   },
   "source": [
    "### Get"
   ]
  },
  {
   "cell_type": "code",
   "execution_count": 1131,
   "id": "8dcaf845",
   "metadata": {
    "vscode": {
     "languageId": "sql"
    }
   },
   "outputs": [
    {
     "data": {
      "text/html": [
       "<span style=\"None\">Running query in &#x27;postgresql://notebook@localhost:5432/sahuagin&#x27;</span>"
      ],
      "text/plain": [
       "Running query in 'postgresql://notebook@localhost:5432/sahuagin'"
      ]
     },
     "metadata": {},
     "output_type": "display_data"
    },
    {
     "data": {
      "text/html": [
       "<table>\n",
       "    <thead>\n",
       "        <tr>\n",
       "        </tr>\n",
       "    </thead>\n",
       "    <tbody>\n",
       "    </tbody>\n",
       "</table>"
      ],
      "text/plain": [
       "++\n",
       "||\n",
       "++\n",
       "++"
      ]
     },
     "execution_count": 1131,
     "metadata": {},
     "output_type": "execute_result"
    }
   ],
   "source": [
    "%%sql\n",
    "\n",
    "CREATE OR REPLACE FUNCTION get_discrete_attribute(p_attribute_name varchar)\n",
    "RETURNS TABLE (\n",
    "    attribute   varchar,\n",
    "    type        attribute_type,\n",
    "    span_label  varchar,\n",
    "    span_weight double precision,\n",
    "    is_pinned      boolean\n",
    ")\n",
    "LANGUAGE plpgsql\n",
    "AS\n",
    "$$\n",
    "BEGIN\n",
    "  RETURN QUERY\n",
    "    SELECT \n",
    "      a.name,\n",
    "      a.type,\n",
    "      s.label,\n",
    "      s.weight,\n",
    "      s.is_pinned\n",
    "    FROM attribute a\n",
    "    JOIN span s ON s.attribute_id = a.id\n",
    "    WHERE a.name = p_attribute_name\n",
    "      AND NOT EXISTS (\n",
    "          SELECT 1 \n",
    "          FROM variation_activated_span ss \n",
    "          WHERE ss.span_id = s.id\n",
    "      );\n",
    "END;\n",
    "$$;"
   ]
  },
  {
   "cell_type": "markdown",
   "id": "dc83a6d8",
   "metadata": {},
   "source": [
    "### Delete"
   ]
  },
  {
   "cell_type": "code",
   "execution_count": 1132,
   "id": "ac021b67",
   "metadata": {
    "vscode": {
     "languageId": "sql"
    }
   },
   "outputs": [
    {
     "data": {
      "text/html": [
       "<span style=\"None\">Running query in &#x27;postgresql://notebook@localhost:5432/sahuagin&#x27;</span>"
      ],
      "text/plain": [
       "Running query in 'postgresql://notebook@localhost:5432/sahuagin'"
      ]
     },
     "metadata": {},
     "output_type": "display_data"
    },
    {
     "data": {
      "text/html": [
       "<table>\n",
       "    <thead>\n",
       "        <tr>\n",
       "        </tr>\n",
       "    </thead>\n",
       "    <tbody>\n",
       "    </tbody>\n",
       "</table>"
      ],
      "text/plain": [
       "++\n",
       "||\n",
       "++\n",
       "++"
      ]
     },
     "execution_count": 1132,
     "metadata": {},
     "output_type": "execute_result"
    }
   ],
   "source": [
    "%%sql\n",
    "\n",
    "CREATE OR REPLACE PROCEDURE delete_discrete_attribute(p_attribute_name varchar)\n",
    "LANGUAGE plpgsql\n",
    "AS\n",
    "$$\n",
    "BEGIN\n",
    "  DELETE FROM attribute\n",
    "  WHERE name = p_attribute_name\n",
    "    AND type = 'discrete';\n",
    "END;\n",
    "$$;"
   ]
  },
  {
   "cell_type": "markdown",
   "id": "ce0ad832",
   "metadata": {},
   "source": [
    "## Redistribute Unpinned Spans"
   ]
  },
  {
   "cell_type": "code",
   "execution_count": 1133,
   "id": "1b136a4f",
   "metadata": {
    "vscode": {
     "languageId": "sql"
    }
   },
   "outputs": [
    {
     "data": {
      "text/html": [
       "<span style=\"None\">Running query in &#x27;postgresql://notebook@localhost:5432/sahuagin&#x27;</span>"
      ],
      "text/plain": [
       "Running query in 'postgresql://notebook@localhost:5432/sahuagin'"
      ]
     },
     "metadata": {},
     "output_type": "display_data"
    },
    {
     "data": {
      "text/html": [
       "<table>\n",
       "    <thead>\n",
       "        <tr>\n",
       "        </tr>\n",
       "    </thead>\n",
       "    <tbody>\n",
       "    </tbody>\n",
       "</table>"
      ],
      "text/plain": [
       "++\n",
       "||\n",
       "++\n",
       "++"
      ]
     },
     "execution_count": 1133,
     "metadata": {},
     "output_type": "execute_result"
    }
   ],
   "source": [
    "%%sql\n",
    "\n",
    "CREATE OR REPLACE FUNCTION redistribute_unpinned_spans(\n",
    "    p_attribute_id INTEGER,\n",
    "    p_modified_span_id INTEGER,\n",
    "    p_new_weight DOUBLE PRECISION,\n",
    "    p_old_weight DOUBLE PRECISION\n",
    ") RETURNS VOID\n",
    "LANGUAGE plpgsql\n",
    "AS $$\n",
    "DECLARE\n",
    "    v_pinned_weight DOUBLE PRECISION;\n",
    "    v_target         DOUBLE PRECISION;\n",
    "BEGIN\n",
    "    -- Compute the total weight of pinned discrete spans.\n",
    "    SELECT COALESCE(SUM(weight), 0)\n",
    "      INTO v_pinned_weight\n",
    "      FROM span\n",
    "     WHERE attribute_id = p_attribute_id\n",
    "       AND type = 'discrete'\n",
    "       AND is_pinned = true;\n",
    "       \n",
    "    -- The available weight for all unpinned spans.\n",
    "    v_target := 1.0 - v_pinned_weight;\n",
    "    \n",
    "    -- If there’s only one unpinned span (v_target equals p_old_weight), then\n",
    "    -- the new weight must equal the entire target.\n",
    "    IF (v_target - p_old_weight) = 0 THEN\n",
    "       IF p_new_weight <> v_target THEN\n",
    "           RAISE EXCEPTION 'Cannot change weight; only one unpinned span exists and its weight must be %', v_target;\n",
    "       END IF;\n",
    "    END IF;\n",
    "    \n",
    "    -- Update all unpinned discrete spans:\n",
    "    -- • The modified span gets the new weight.\n",
    "    -- • All others are scaled proportionally.\n",
    "    UPDATE span\n",
    "       SET weight = CASE \n",
    "                      WHEN id = p_modified_span_id THEN p_new_weight\n",
    "                      ELSE weight * ((v_target - p_new_weight) / (v_target - p_old_weight))\n",
    "                    END\n",
    "     WHERE attribute_id = p_attribute_id\n",
    "       AND type = 'discrete'\n",
    "       AND is_pinned = false;\n",
    "END;\n",
    "$$;"
   ]
  },
  {
   "cell_type": "markdown",
   "id": "194413fb",
   "metadata": {},
   "source": [
    "## Add Discrete Span to Attribute"
   ]
  },
  {
   "cell_type": "code",
   "execution_count": 1134,
   "id": "a38a9b40",
   "metadata": {
    "vscode": {
     "languageId": "sql"
    }
   },
   "outputs": [
    {
     "data": {
      "text/html": [
       "<span style=\"None\">Running query in &#x27;postgresql://notebook@localhost:5432/sahuagin&#x27;</span>"
      ],
      "text/plain": [
       "Running query in 'postgresql://notebook@localhost:5432/sahuagin'"
      ]
     },
     "metadata": {},
     "output_type": "display_data"
    },
    {
     "data": {
      "text/html": [
       "<table>\n",
       "    <thead>\n",
       "        <tr>\n",
       "        </tr>\n",
       "    </thead>\n",
       "    <tbody>\n",
       "    </tbody>\n",
       "</table>"
      ],
      "text/plain": [
       "++\n",
       "||\n",
       "++\n",
       "++"
      ]
     },
     "execution_count": 1134,
     "metadata": {},
     "output_type": "execute_result"
    }
   ],
   "source": [
    "%%sql\n",
    "\n",
    "CREATE OR REPLACE PROCEDURE add_disc_span_to_attr(\n",
    "    p_attribute_id INTEGER,\n",
    "    p_label VARCHAR(255)\n",
    ")\n",
    "LANGUAGE plpgsql\n",
    "AS $$\n",
    "DECLARE\n",
    "    new_span_id     INTEGER;\n",
    "    v_total_weight  DOUBLE PRECISION;\n",
    "    v_pinned_weight DOUBLE PRECISION;\n",
    "    v_target        DOUBLE PRECISION;\n",
    "    v_count_old     INTEGER;\n",
    "    candidate       DOUBLE PRECISION;\n",
    "BEGIN\n",
    "    -- Compute the total weight for all discrete spans for this attribute.\n",
    "    SELECT COALESCE(SUM(weight), 0)\n",
    "      INTO v_total_weight\n",
    "      FROM span\n",
    "     WHERE attribute_id = p_attribute_id\n",
    "       AND type = 'discrete';\n",
    "\n",
    "    -- If no spans exist, simply insert the first span with weight 1.\n",
    "    IF v_total_weight = 0 THEN\n",
    "        INSERT INTO span(attribute_id, label, type, is_pinned, weight)\n",
    "        VALUES (p_attribute_id, p_label, 'discrete', false, 1.0);\n",
    "        RETURN;\n",
    "    END IF;\n",
    "    \n",
    "    -- Compute the total weight of pinned discrete spans.\n",
    "    SELECT COALESCE(SUM(weight), 0)\n",
    "      INTO v_pinned_weight\n",
    "      FROM span\n",
    "     WHERE attribute_id = p_attribute_id\n",
    "       AND type = 'discrete'\n",
    "       AND is_pinned = true;\n",
    "    \n",
    "    -- Calculate the available target weight for all unpinned spans.\n",
    "    v_target := 1.0 - v_pinned_weight;\n",
    "    IF v_target <= 0 THEN\n",
    "        RAISE EXCEPTION 'No available weight for unpinned spans (v_target = %)', v_target;\n",
    "    END IF;\n",
    "    \n",
    "    -- Count the existing non-pinned discrete spans.\n",
    "    SELECT COUNT(*)\n",
    "      INTO v_count_old\n",
    "      FROM span\n",
    "     WHERE attribute_id = p_attribute_id\n",
    "       AND type = 'discrete'\n",
    "       AND is_pinned = false;\n",
    "    \n",
    "    -- Insert the new unpinned span with a temporary weight of 0.\n",
    "    INSERT INTO span(attribute_id, label, type, is_pinned, weight)\n",
    "    VALUES (p_attribute_id, p_label, 'discrete', false, 0.0)\n",
    "    RETURNING id INTO new_span_id;\n",
    "    \n",
    "    -- Compute the candidate weight for the new span.\n",
    "    candidate := v_target / (v_count_old + 1);\n",
    "    \n",
    "    -- Redistribute the weights among all unpinned spans\n",
    "    PERFORM redistribute_unpinned_spans(p_attribute_id, new_span_id, candidate, 0);\n",
    "END;\n",
    "$$;"
   ]
  },
  {
   "cell_type": "markdown",
   "id": "65d61d58",
   "metadata": {},
   "source": [
    "## Modify Discrete Span Weight"
   ]
  },
  {
   "cell_type": "code",
   "execution_count": 1135,
   "id": "57a4a17d",
   "metadata": {
    "vscode": {
     "languageId": "sql"
    }
   },
   "outputs": [
    {
     "data": {
      "text/html": [
       "<span style=\"None\">Running query in &#x27;postgresql://notebook@localhost:5432/sahuagin&#x27;</span>"
      ],
      "text/plain": [
       "Running query in 'postgresql://notebook@localhost:5432/sahuagin'"
      ]
     },
     "metadata": {},
     "output_type": "display_data"
    },
    {
     "data": {
      "text/html": [
       "<table>\n",
       "    <thead>\n",
       "        <tr>\n",
       "        </tr>\n",
       "    </thead>\n",
       "    <tbody>\n",
       "    </tbody>\n",
       "</table>"
      ],
      "text/plain": [
       "++\n",
       "||\n",
       "++\n",
       "++"
      ]
     },
     "execution_count": 1135,
     "metadata": {},
     "output_type": "execute_result"
    }
   ],
   "source": [
    "%%sql\n",
    "\n",
    "CREATE OR REPLACE PROCEDURE modify_disc_span_weight(\n",
    "    p_span_id    INTEGER,\n",
    "    p_new_weight DOUBLE PRECISION\n",
    ")\n",
    "LANGUAGE plpgsql\n",
    "AS $$\n",
    "DECLARE\n",
    "    v_attribute_id INTEGER;\n",
    "    v_current_weight DOUBLE PRECISION;\n",
    "    v_is_pinned    BOOLEAN;\n",
    "    v_type         TEXT;\n",
    "    v_pinned_weight DOUBLE PRECISION;\n",
    "    v_target        DOUBLE PRECISION;\n",
    "    v_other_sum     DOUBLE PRECISION;\n",
    "BEGIN\n",
    "    -- Get the current span's details.\n",
    "    SELECT attribute_id, weight, is_pinned, type\n",
    "      INTO v_attribute_id, v_current_weight, v_is_pinned, v_type\n",
    "      FROM span\n",
    "     WHERE id = p_span_id;\n",
    "     \n",
    "    -- Ensure the span exists, is of type 'discrete' and is not pinned.\n",
    "    IF NOT FOUND OR v_type <> 'discrete' OR v_is_pinned THEN\n",
    "       RAISE EXCEPTION 'Span % not found or not a modifiable discrete span', p_span_id;\n",
    "    END IF;\n",
    "    \n",
    "    -- Compute the total pinned weight for this attribute.\n",
    "    SELECT COALESCE(SUM(weight), 0)\n",
    "      INTO v_pinned_weight\n",
    "      FROM span\n",
    "     WHERE attribute_id = v_attribute_id\n",
    "       AND type = 'discrete'\n",
    "       AND is_pinned = true;\n",
    "       \n",
    "    v_target := 1.0 - v_pinned_weight;\n",
    "    \n",
    "    -- Validate the new weight is between 0 and the available target.\n",
    "    IF p_new_weight < 0 OR p_new_weight > v_target THEN\n",
    "       RAISE EXCEPTION 'Invalid new weight: % (must be between 0 and %)', p_new_weight, v_target;\n",
    "    END IF;\n",
    "    \n",
    "    -- Compute the total weight for all other unpinned spans.\n",
    "    SELECT COALESCE(SUM(weight), 0)\n",
    "      INTO v_other_sum\n",
    "      FROM span\n",
    "     WHERE attribute_id = v_attribute_id\n",
    "       AND type = 'discrete'\n",
    "       AND is_pinned = false\n",
    "       AND id <> p_span_id;\n",
    "       \n",
    "    IF v_other_sum = 0 THEN\n",
    "       -- There is only one unpinned span. Its weight must equal the available target.\n",
    "       IF p_new_weight <> v_target THEN\n",
    "         RAISE EXCEPTION 'Only one unpinned span exists. Its weight must be %', v_target;\n",
    "       ELSE\n",
    "         UPDATE span SET weight = p_new_weight WHERE id = p_span_id;\n",
    "       END IF;\n",
    "    ELSE\n",
    "       -- Use the helper function to redistribute weights.\n",
    "       PERFORM redistribute_unpinned_spans(v_attribute_id, p_span_id, p_new_weight, v_current_weight);\n",
    "    END IF;\n",
    "END;\n",
    "$$;"
   ]
  },
  {
   "cell_type": "markdown",
   "id": "396fe76f",
   "metadata": {},
   "source": [
    "## Continuous Attribute"
   ]
  },
  {
   "cell_type": "markdown",
   "id": "132ce1dd",
   "metadata": {},
   "source": [
    "### Add"
   ]
  },
  {
   "cell_type": "code",
   "execution_count": 1136,
   "id": "ed3ab0be",
   "metadata": {
    "vscode": {
     "languageId": "sql"
    }
   },
   "outputs": [
    {
     "data": {
      "text/html": [
       "<span style=\"None\">Running query in &#x27;postgresql://notebook@localhost:5432/sahuagin&#x27;</span>"
      ],
      "text/plain": [
       "Running query in 'postgresql://notebook@localhost:5432/sahuagin'"
      ]
     },
     "metadata": {},
     "output_type": "display_data"
    },
    {
     "data": {
      "text/html": [
       "<table>\n",
       "    <thead>\n",
       "        <tr>\n",
       "        </tr>\n",
       "    </thead>\n",
       "    <tbody>\n",
       "    </tbody>\n",
       "</table>"
      ],
      "text/plain": [
       "++\n",
       "||\n",
       "++\n",
       "++"
      ]
     },
     "execution_count": 1136,
     "metadata": {},
     "output_type": "execute_result"
    }
   ],
   "source": [
    "%%sql\n",
    "\n",
    "CREATE OR REPLACE PROCEDURE add_continuous_attribute(\n",
    "    p_name           VARCHAR(255),\n",
    "    p_min_value      DOUBLE PRECISION,\n",
    "    p_mode_value     DOUBLE PRECISION,\n",
    "    p_max_value      DOUBLE PRECISION,\n",
    "    p_concentration  DOUBLE PRECISION,\n",
    "    p_skew           DOUBLE PRECISION,\n",
    "    p_decimals       INTEGER,\n",
    "    p_units          VARCHAR(255),\n",
    "    p_spans          JSON DEFAULT NULL  -- JSON array shortcut for continuous spans\n",
    ")\n",
    "LANGUAGE plpgsql\n",
    "AS $$\n",
    "DECLARE\n",
    "    v_attr_id   INTEGER;\n",
    "    span_count  INTEGER;\n",
    "    i           INTEGER;\n",
    "    current_min DOUBLE PRECISION;\n",
    "    new_max     DOUBLE PRECISION;\n",
    "    span_label  VARCHAR(255);\n",
    "    spans_json  JSON;\n",
    "BEGIN\n",
    "    -- Insert the continuous attribute record.\n",
    "    INSERT INTO attribute\n",
    "      (name, type, decimals, max_value, min_value,\n",
    "       mode_value, concentration, skew, units)\n",
    "    VALUES\n",
    "      (p_name, 'continuous', p_decimals, p_max_value,\n",
    "       p_min_value, p_mode_value, p_concentration, p_skew, p_units)\n",
    "    RETURNING id INTO v_attr_id;\n",
    "    \n",
    "    IF p_spans IS NOT NULL THEN\n",
    "        spans_json := p_spans::json;\n",
    "        span_count := json_array_length(spans_json);\n",
    "        current_min := p_min_value;\n",
    "        \n",
    "        FOR i IN 0..span_count - 1 LOOP\n",
    "            -- Each JSON tuple is assumed to be [label, new_max_value].\n",
    "            span_label := (spans_json->i)->>0;\n",
    "            new_max := ((spans_json->i)->>1)::DOUBLE PRECISION;\n",
    "            \n",
    "            -- Validate that the new maximum is in the valid interval.\n",
    "            IF new_max <= current_min OR new_max > p_max_value THEN\n",
    "                RAISE EXCEPTION 'Invalid span range: new_max (%) is not in the valid interval (% - %)',\n",
    "                    new_max, current_min, p_max_value;\n",
    "            END IF;\n",
    "            \n",
    "            -- Insert the continuous span.\n",
    "            INSERT INTO span(attribute_id, label, type, min_value, max_value)\n",
    "            VALUES(v_attr_id, span_label, 'continuous', current_min, new_max);\n",
    "            \n",
    "            current_min := new_max;\n",
    "        END LOOP;\n",
    "        \n",
    "        -- If the JSON array does not reach the attribute's overall max, raise an exception.\n",
    "        IF current_min < p_max_value THEN\n",
    "            RAISE EXCEPTION 'Incomplete continuous span definitions: final span max is % which is less than the attribute maximum %', current_min, p_max_value;\n",
    "        END IF;\n",
    "    END IF;\n",
    "END;\n",
    "$$;"
   ]
  },
  {
   "cell_type": "markdown",
   "id": "2462ea04",
   "metadata": {},
   "source": [
    "### Get"
   ]
  },
  {
   "cell_type": "code",
   "execution_count": 1137,
   "id": "ae43d201",
   "metadata": {
    "vscode": {
     "languageId": "sql"
    }
   },
   "outputs": [
    {
     "data": {
      "text/html": [
       "<span style=\"None\">Running query in &#x27;postgresql://notebook@localhost:5432/sahuagin&#x27;</span>"
      ],
      "text/plain": [
       "Running query in 'postgresql://notebook@localhost:5432/sahuagin'"
      ]
     },
     "metadata": {},
     "output_type": "display_data"
    },
    {
     "data": {
      "text/html": [
       "<table>\n",
       "    <thead>\n",
       "        <tr>\n",
       "        </tr>\n",
       "    </thead>\n",
       "    <tbody>\n",
       "    </tbody>\n",
       "</table>"
      ],
      "text/plain": [
       "++\n",
       "||\n",
       "++\n",
       "++"
      ]
     },
     "execution_count": 1137,
     "metadata": {},
     "output_type": "execute_result"
    }
   ],
   "source": [
    "%%sql\n",
    "\n",
    "CREATE OR REPLACE FUNCTION get_continuous_attribute(p_attribute_name varchar)\n",
    "RETURNS TABLE (\n",
    "    name           varchar,\n",
    "    type           attribute_type,\n",
    "    min            double precision,\n",
    "    mode           double precision,\n",
    "    max            double precision,\n",
    "    concentration  double precision,\n",
    "    skew           double precision,\n",
    "    units          varchar,\n",
    "    decimals       integer,\n",
    "    span_label     varchar,\n",
    "    span_min       double precision,\n",
    "    span_max       double precision\n",
    ")\n",
    "LANGUAGE plpgsql\n",
    "AS\n",
    "$$\n",
    "BEGIN\n",
    "  RETURN QUERY\n",
    "    SELECT \n",
    "      a.name,\n",
    "      a.type,\n",
    "      a.min_value,\n",
    "      a.mode_value,\n",
    "      a.max_value,\n",
    "      a.concentration,\n",
    "      a.skew,\n",
    "      a.units,\n",
    "      a.decimals,\n",
    "      s.label,\n",
    "      s.min_value,\n",
    "      s.max_value\n",
    "    FROM attribute a\n",
    "    LEFT JOIN span s ON s.attribute_id = a.id\n",
    "    WHERE a.name = p_attribute_name\n",
    "      AND a.type = 'continuous';\n",
    "END;\n",
    "$$;"
   ]
  },
  {
   "cell_type": "markdown",
   "id": "28c0d5a6",
   "metadata": {},
   "source": [
    "### Delete"
   ]
  },
  {
   "cell_type": "code",
   "execution_count": 1138,
   "id": "cfa966e1",
   "metadata": {
    "vscode": {
     "languageId": "sql"
    }
   },
   "outputs": [
    {
     "data": {
      "text/html": [
       "<span style=\"None\">Running query in &#x27;postgresql://notebook@localhost:5432/sahuagin&#x27;</span>"
      ],
      "text/plain": [
       "Running query in 'postgresql://notebook@localhost:5432/sahuagin'"
      ]
     },
     "metadata": {},
     "output_type": "display_data"
    },
    {
     "data": {
      "text/html": [
       "<table>\n",
       "    <thead>\n",
       "        <tr>\n",
       "        </tr>\n",
       "    </thead>\n",
       "    <tbody>\n",
       "    </tbody>\n",
       "</table>"
      ],
      "text/plain": [
       "++\n",
       "||\n",
       "++\n",
       "++"
      ]
     },
     "execution_count": 1138,
     "metadata": {},
     "output_type": "execute_result"
    }
   ],
   "source": [
    "%%sql\n",
    "\n",
    "CREATE OR REPLACE PROCEDURE delete_continuous_attribute(p_attribute_name varchar)\n",
    "LANGUAGE plpgsql\n",
    "AS\n",
    "$$\n",
    "BEGIN\n",
    "  DELETE FROM attribute\n",
    "  WHERE name = p_attribute_name\n",
    "    AND type = 'continuous';\n",
    "END;\n",
    "$$;"
   ]
  },
  {
   "cell_type": "markdown",
   "id": "7b0b19de",
   "metadata": {},
   "source": [
    "## Add Continuous Span to Attribute"
   ]
  },
  {
   "cell_type": "code",
   "execution_count": 1139,
   "id": "3ca45806",
   "metadata": {
    "vscode": {
     "languageId": "sql"
    }
   },
   "outputs": [
    {
     "data": {
      "text/html": [
       "<span style=\"None\">Running query in &#x27;postgresql://notebook@localhost:5432/sahuagin&#x27;</span>"
      ],
      "text/plain": [
       "Running query in 'postgresql://notebook@localhost:5432/sahuagin'"
      ]
     },
     "metadata": {},
     "output_type": "display_data"
    },
    {
     "data": {
      "text/html": [
       "<table>\n",
       "    <thead>\n",
       "        <tr>\n",
       "        </tr>\n",
       "    </thead>\n",
       "    <tbody>\n",
       "    </tbody>\n",
       "</table>"
      ],
      "text/plain": [
       "++\n",
       "||\n",
       "++\n",
       "++"
      ]
     },
     "execution_count": 1139,
     "metadata": {},
     "output_type": "execute_result"
    }
   ],
   "source": [
    "%%sql\n",
    "\n",
    "CREATE OR REPLACE PROCEDURE add_cont_span_to_attr(\n",
    "    p_attribute_id integer,\n",
    "    p_label varchar(255),\n",
    "    p_new_min double precision,\n",
    "    p_new_max double precision\n",
    ")\n",
    "LANGUAGE plpgsql\n",
    "AS $$\n",
    "DECLARE\n",
    "    v_attr_min double precision;\n",
    "    v_attr_max double precision;\n",
    "    v_count integer;\n",
    "    v_first_id integer;\n",
    "    v_first_min double precision;\n",
    "    v_first_max double precision;\n",
    "    v_last_id integer;\n",
    "    v_last_min double precision;\n",
    "    v_last_max double precision;\n",
    "BEGIN\n",
    "    -- Get attribute’s overall range (continuous only)\n",
    "    SELECT min_value, max_value\n",
    "      INTO v_attr_min, v_attr_max\n",
    "      FROM attribute\n",
    "     WHERE id = p_attribute_id\n",
    "       AND type = 'continuous'\n",
    "     LIMIT 1;\n",
    "     \n",
    "    IF v_attr_min IS NULL THEN\n",
    "        RAISE EXCEPTION 'Attribute not found or not continuous';\n",
    "    END IF;\n",
    "    \n",
    "    -- Validate requested span\n",
    "    IF p_new_min < v_attr_min OR p_new_max > v_attr_max OR p_new_min >= p_new_max THEN\n",
    "        RAISE EXCEPTION 'Invalid span range';\n",
    "    END IF;\n",
    "    \n",
    "    -- If no continuous spans exist, insert one covering the full range\n",
    "    SELECT COUNT(*) INTO v_count\n",
    "      FROM span\n",
    "     WHERE attribute_id = p_attribute_id\n",
    "       AND type = 'continuous';\n",
    "       \n",
    "    IF v_count = 0 THEN\n",
    "        INSERT INTO span(attribute_id, label, type, min_value, max_value)\n",
    "        VALUES(p_attribute_id, p_label, 'continuous', v_attr_min, v_attr_max);\n",
    "        RETURN;\n",
    "    END IF;\n",
    "    \n",
    "    -- Adjust overlapping spans: first overlapping span (ordered by min_value)\n",
    "    SELECT id, min_value, max_value\n",
    "      INTO v_first_id, v_first_min, v_first_max\n",
    "      FROM span\n",
    "     WHERE attribute_id = p_attribute_id\n",
    "       AND type = 'continuous'\n",
    "       AND max_value > p_new_min\n",
    "       AND min_value < p_new_max\n",
    "     ORDER BY min_value ASC\n",
    "     LIMIT 1;\n",
    "     \n",
    "    IF v_first_min < p_new_min THEN\n",
    "        UPDATE span SET max_value = p_new_min WHERE id = v_first_id;\n",
    "    END IF;\n",
    "    \n",
    "    -- Adjust overlapping spans: last overlapping span (ordered by max_value)\n",
    "    SELECT id, min_value, max_value\n",
    "      INTO v_last_id, v_last_min, v_last_max\n",
    "      FROM span\n",
    "     WHERE attribute_id = p_attribute_id\n",
    "       AND type = 'continuous'\n",
    "       AND max_value > p_new_min\n",
    "       AND min_value < p_new_max\n",
    "     ORDER BY max_value DESC\n",
    "     LIMIT 1;\n",
    "     \n",
    "    IF v_last_max > p_new_max THEN\n",
    "        UPDATE span SET min_value = p_new_max WHERE id = v_last_id;\n",
    "    END IF;\n",
    "    \n",
    "    -- Remove spans fully covered by the new span\n",
    "    DELETE FROM span\n",
    "     WHERE attribute_id = p_attribute_id\n",
    "       AND type = 'continuous'\n",
    "       AND min_value >= p_new_min\n",
    "       AND max_value <= p_new_max;\n",
    "       \n",
    "    INSERT INTO span(attribute_id, label, type, min_value, max_value)\n",
    "    VALUES(p_attribute_id, p_label, 'continuous', p_new_min, p_new_max);\n",
    "END;\n",
    "$$;"
   ]
  },
  {
   "cell_type": "markdown",
   "id": "913574c3",
   "metadata": {},
   "source": [
    "## Link Attribute to Variant"
   ]
  },
  {
   "cell_type": "code",
   "execution_count": 1140,
   "id": "28943ab5",
   "metadata": {
    "vscode": {
     "languageId": "sql"
    }
   },
   "outputs": [
    {
     "data": {
      "text/html": [
       "<span style=\"None\">Running query in &#x27;postgresql://notebook@localhost:5432/sahuagin&#x27;</span>"
      ],
      "text/plain": [
       "Running query in 'postgresql://notebook@localhost:5432/sahuagin'"
      ]
     },
     "metadata": {},
     "output_type": "display_data"
    },
    {
     "data": {
      "text/html": [
       "<table>\n",
       "    <thead>\n",
       "        <tr>\n",
       "        </tr>\n",
       "    </thead>\n",
       "    <tbody>\n",
       "    </tbody>\n",
       "</table>"
      ],
      "text/plain": [
       "++\n",
       "||\n",
       "++\n",
       "++"
      ]
     },
     "execution_count": 1140,
     "metadata": {},
     "output_type": "execute_result"
    }
   ],
   "source": [
    "%%sql\n",
    "\n",
    "CREATE OR REPLACE PROCEDURE link_attr_to_variant(\n",
    "    p_variant_id   INTEGER,\n",
    "    p_attribute_id INTEGER,\n",
    "    p_name         VARCHAR,\n",
    "    p_position     INTEGER DEFAULT NULL\n",
    ")\n",
    "LANGUAGE plpgsql\n",
    "AS $$\n",
    "DECLARE\n",
    "    v_count    INTEGER;\n",
    "    v_position INTEGER;\n",
    "BEGIN\n",
    "    SELECT COUNT(*) INTO v_count\n",
    "      FROM variant_attr\n",
    "     WHERE variant_id = p_variant_id;\n",
    "    \n",
    "    IF p_position IS NULL THEN\n",
    "        v_position := v_count;  -- append at end\n",
    "    ELSE\n",
    "        v_position := p_position;\n",
    "        IF v_position < 0 THEN \n",
    "            v_position := 0;\n",
    "        END IF;\n",
    "        IF v_position > v_count THEN\n",
    "            v_position := v_count;\n",
    "        END IF;\n",
    "        UPDATE variant_attr\n",
    "           SET causation_index = causation_index + 1\n",
    "         WHERE variant_id = p_variant_id\n",
    "           AND causation_index >= v_position;\n",
    "    END IF;\n",
    "\n",
    "    INSERT INTO variant_attr(attribute_id, name, causation_index, variant_id)\n",
    "    VALUES (p_attribute_id, p_name, v_position, p_variant_id);\n",
    "END;\n",
    "$$;"
   ]
  },
  {
   "cell_type": "markdown",
   "id": "cce1df10",
   "metadata": {},
   "source": [
    "## Variant"
   ]
  },
  {
   "cell_type": "markdown",
   "id": "b6a70feb",
   "metadata": {},
   "source": [
    "### Add"
   ]
  },
  {
   "cell_type": "code",
   "execution_count": 1141,
   "id": "71e35337",
   "metadata": {
    "vscode": {
     "languageId": "sql"
    }
   },
   "outputs": [
    {
     "data": {
      "text/html": [
       "<span style=\"None\">Running query in &#x27;postgresql://notebook@localhost:5432/sahuagin&#x27;</span>"
      ],
      "text/plain": [
       "Running query in 'postgresql://notebook@localhost:5432/sahuagin'"
      ]
     },
     "metadata": {},
     "output_type": "display_data"
    },
    {
     "data": {
      "text/html": [
       "<table>\n",
       "    <thead>\n",
       "        <tr>\n",
       "        </tr>\n",
       "    </thead>\n",
       "    <tbody>\n",
       "    </tbody>\n",
       "</table>"
      ],
      "text/plain": [
       "++\n",
       "||\n",
       "++\n",
       "++"
      ]
     },
     "execution_count": 1141,
     "metadata": {},
     "output_type": "execute_result"
    }
   ],
   "source": [
    "%%sql\n",
    "\n",
    "CREATE OR REPLACE PROCEDURE add_variant(\n",
    "    in_variant_name VARCHAR,\n",
    "    in_attr_keys    JSON\n",
    ")\n",
    "LANGUAGE plpgsql\n",
    "AS $$\n",
    "DECLARE\n",
    "    new_variant_id INTEGER;\n",
    "    i              INTEGER := 0;\n",
    "    key_count      INTEGER;\n",
    "    attr_id        INTEGER;\n",
    "    attr_name      VARCHAR;\n",
    "BEGIN\n",
    "    INSERT INTO variant (name)\n",
    "    VALUES (in_variant_name)\n",
    "    RETURNING id INTO new_variant_id;\n",
    "\n",
    "    IF in_attr_keys IS NOT NULL THEN\n",
    "        key_count := json_array_length(in_attr_keys::json);\n",
    "        WHILE i < key_count LOOP\n",
    "            -- Get the attribute name from the JSON array at position i.\n",
    "            attr_name := in_attr_keys::json ->> i;\n",
    "\n",
    "            -- Look up the attribute id for the given name.\n",
    "            SELECT id\n",
    "              INTO attr_id\n",
    "              FROM attribute\n",
    "             WHERE name = attr_name\n",
    "             LIMIT 1;\n",
    "\n",
    "            IF attr_id IS NULL THEN\n",
    "                RAISE EXCEPTION 'Attribute with name \"%\" not found', attr_name;\n",
    "            END IF;\n",
    "\n",
    "            -- Call the helper procedure with the looked up attribute id.\n",
    "            CALL link_attr_to_variant(new_variant_id, attr_id, attr_name);\n",
    "            i := i + 1;\n",
    "        END LOOP;\n",
    "    END IF;\n",
    "END;\n",
    "$$;"
   ]
  },
  {
   "cell_type": "markdown",
   "id": "d52c5a1d",
   "metadata": {},
   "source": [
    "### Get"
   ]
  },
  {
   "cell_type": "code",
   "execution_count": 1142,
   "id": "a04385c7",
   "metadata": {
    "vscode": {
     "languageId": "sql"
    }
   },
   "outputs": [
    {
     "data": {
      "text/html": [
       "<span style=\"None\">Running query in &#x27;postgresql://notebook@localhost:5432/sahuagin&#x27;</span>"
      ],
      "text/plain": [
       "Running query in 'postgresql://notebook@localhost:5432/sahuagin'"
      ]
     },
     "metadata": {},
     "output_type": "display_data"
    },
    {
     "data": {
      "text/html": [
       "<table>\n",
       "    <thead>\n",
       "        <tr>\n",
       "        </tr>\n",
       "    </thead>\n",
       "    <tbody>\n",
       "    </tbody>\n",
       "</table>"
      ],
      "text/plain": [
       "++\n",
       "||\n",
       "++\n",
       "++"
      ]
     },
     "execution_count": 1142,
     "metadata": {},
     "output_type": "execute_result"
    }
   ],
   "source": [
    "%%sql\n",
    "\n",
    "CREATE OR REPLACE FUNCTION get_variant_page(\n",
    "    p_variant_name VARCHAR,\n",
    "    p_page INTEGER,\n",
    "    p_page_size INTEGER\n",
    ")\n",
    "RETURNS TABLE (\n",
    "    \"index\"     BIGINT,\n",
    "    \"address\"   TEXT,\n",
    "    activates   JSON,\n",
    "    effected_by JSON\n",
    ")\n",
    "LANGUAGE plpgsql\n",
    "AS $$\n",
    "BEGIN\n",
    "  RETURN QUERY\n",
    "  WITH RECURSIVE variant_id_cte AS (\n",
    "      -- Look up the variant’s id by its unique name.\n",
    "      SELECT id\n",
    "      FROM variant\n",
    "      WHERE name = p_variant_name\n",
    "  ),\n",
    "  recursive_flattened AS (\n",
    "      -- Base step: get all top‑level attributes for the variant.\n",
    "      SELECT \n",
    "          va.id AS variant_attr_id,\n",
    "          rva.subvariant_span_id,\n",
    "          va.name AS attribute_name,\n",
    "          va.causation_index,\n",
    "          ARRAY[va.causation_index] AS flattened_path,\n",
    "          /* Build the label as a JSON array containing a single inner array.\n",
    "             Each inner array has the attribute name and, if available, the span label. */\n",
    "          jsonb_build_array(\n",
    "              CASE \n",
    "                WHEN s.label IS NOT NULL \n",
    "                  THEN jsonb_build_array(va.name, s.label)\n",
    "                ELSE jsonb_build_array(va.name)\n",
    "              END\n",
    "          ) AS agg_label,\n",
    "          va.variant_id AS current_variant_id,\n",
    "          rva.id AS resolved_id\n",
    "      FROM variant_attr va\n",
    "      LEFT JOIN possible_attr rva \n",
    "         ON rva.variant_attr_id = va.id\n",
    "            AND rva.parent_possible_attr_id IS NULL\n",
    "      LEFT JOIN subvariant_span ss \n",
    "         ON ss.id = rva.subvariant_span_id\n",
    "      LEFT JOIN span s \n",
    "         ON s.id = ss.span_id\n",
    "      WHERE va.variant_id = (SELECT id FROM variant_id_cte)\n",
    "      \n",
    "      UNION ALL\n",
    "      \n",
    "      -- Recursive step: for each resolved node that activates a sub‑variant, get its children.\n",
    "      SELECT \n",
    "          va_child.id AS variant_attr_id,\n",
    "          rva_child.subvariant_span_id,\n",
    "          va_child.name AS attribute_name,\n",
    "          va_child.causation_index,\n",
    "          rf.flattened_path || va_child.causation_index AS flattened_path,\n",
    "          rf.agg_label || jsonb_build_array(\n",
    "              CASE \n",
    "                WHEN s_child.label IS NOT NULL \n",
    "                  THEN jsonb_build_array(va_child.name, s_child.label)\n",
    "                ELSE jsonb_build_array(va_child.name)\n",
    "              END\n",
    "          ) AS agg_label,\n",
    "          va_child.variant_id AS current_variant_id,\n",
    "          rva_child.id AS resolved_id\n",
    "      FROM recursive_flattened rf\n",
    "      -- Use the parent’s resolved record.\n",
    "      JOIN possible_attr rva_parent\n",
    "         ON rva_parent.id = rf.resolved_id\n",
    "      -- The parent's associated subvariant_span holds the activated sub‑variant.\n",
    "      JOIN subvariant_span ss_parent \n",
    "         ON ss_parent.id = rva_parent.subvariant_span_id\n",
    "      -- A non‑null ss_parent.variant_id indicates the activated sub‑variant.\n",
    "      JOIN variant_attr va_child \n",
    "         ON va_child.variant_id = ss_parent.variant_id\n",
    "      LEFT JOIN possible_attr rva_child \n",
    "         ON rva_child.variant_attr_id = va_child.id\n",
    "            AND rva_child.parent_possible_attr_id = rf.resolved_id\n",
    "      LEFT JOIN subvariant_span ss_child \n",
    "         ON ss_child.id = rva_child.subvariant_span_id\n",
    "      LEFT JOIN span s_child \n",
    "         ON s_child.id = ss_child.span_id\n",
    "      WHERE ss_parent.variant_id IS NOT NULL\n",
    "  ),\n",
    "  ordered AS (\n",
    "      SELECT \n",
    "          row_number() OVER (ORDER BY flattened_path) AS overall_index,\n",
    "          agg_label,\n",
    "          resolved_id,\n",
    "          flattened_path\n",
    "      FROM recursive_flattened\n",
    "  ),\n",
    "  paged AS (\n",
    "      SELECT *\n",
    "      FROM ordered\n",
    "      ORDER BY flattened_path\n",
    "      LIMIT p_page_size OFFSET (p_page - 1) * p_page_size\n",
    "  )\n",
    "  SELECT \n",
    "      p.overall_index AS \"index\",\n",
    "      p.agg_label::text AS \"address\",\n",
    "      (\n",
    "         -- Effects activated by this node.\n",
    "         SELECT COALESCE(json_agg(e.name ORDER BY e.name), '[]'::json)\n",
    "         FROM effect e\n",
    "         WHERE e.activating_possible_attr_id = p.resolved_id\n",
    "      ) AS activates,\n",
    "      (\n",
    "         -- Effects applied to (modifying) this node.\n",
    "         SELECT COALESCE(json_agg(e.name ORDER BY e.name), '[]'::json)\n",
    "         FROM effect e\n",
    "         WHERE e.to_modify_possible_attr_id = p.resolved_id\n",
    "      ) AS effected_by\n",
    "  FROM paged p\n",
    "  ORDER BY p.overall_index;\n",
    "END;\n",
    "$$;"
   ]
  },
  {
   "cell_type": "markdown",
   "id": "39ab5990",
   "metadata": {},
   "source": [
    "### Delete"
   ]
  },
  {
   "cell_type": "code",
   "execution_count": 1143,
   "id": "35bde996",
   "metadata": {
    "vscode": {
     "languageId": "sql"
    }
   },
   "outputs": [
    {
     "data": {
      "text/html": [
       "<span style=\"None\">Running query in &#x27;postgresql://notebook@localhost:5432/sahuagin&#x27;</span>"
      ],
      "text/plain": [
       "Running query in 'postgresql://notebook@localhost:5432/sahuagin'"
      ]
     },
     "metadata": {},
     "output_type": "display_data"
    },
    {
     "data": {
      "text/html": [
       "<table>\n",
       "    <thead>\n",
       "        <tr>\n",
       "        </tr>\n",
       "    </thead>\n",
       "    <tbody>\n",
       "    </tbody>\n",
       "</table>"
      ],
      "text/plain": [
       "++\n",
       "||\n",
       "++\n",
       "++"
      ]
     },
     "execution_count": 1143,
     "metadata": {},
     "output_type": "execute_result"
    }
   ],
   "source": [
    "%%sql\n",
    "\n",
    "CREATE OR REPLACE PROCEDURE delete_variant(p_variant_name varchar)\n",
    "LANGUAGE plpgsql\n",
    "AS\n",
    "$$\n",
    "BEGIN\n",
    "  DELETE FROM variant WHERE name = p_variant_name;\n",
    "END;\n",
    "$$;"
   ]
  },
  {
   "cell_type": "markdown",
   "id": "064f7c76",
   "metadata": {},
   "source": [
    "## Add Entity"
   ]
  },
  {
   "cell_type": "code",
   "execution_count": 1144,
   "id": "55826704",
   "metadata": {
    "vscode": {
     "languageId": "sql"
    }
   },
   "outputs": [
    {
     "data": {
      "text/html": [
       "<span style=\"None\">Running query in &#x27;postgresql://notebook@localhost:5432/sahuagin&#x27;</span>"
      ],
      "text/plain": [
       "Running query in 'postgresql://notebook@localhost:5432/sahuagin'"
      ]
     },
     "metadata": {},
     "output_type": "display_data"
    },
    {
     "data": {
      "text/html": [
       "<table>\n",
       "    <thead>\n",
       "        <tr>\n",
       "        </tr>\n",
       "    </thead>\n",
       "    <tbody>\n",
       "    </tbody>\n",
       "</table>"
      ],
      "text/plain": [
       "++\n",
       "||\n",
       "++\n",
       "++"
      ]
     },
     "execution_count": 1144,
     "metadata": {},
     "output_type": "execute_result"
    }
   ],
   "source": [
    "%%sql\n",
    "\n",
    "CREATE OR REPLACE PROCEDURE add_entity(\n",
    "    in_name VARCHAR(255),\n",
    "    in_variant_id INT\n",
    ")\n",
    "LANGUAGE plpgsql\n",
    "AS $$\n",
    "BEGIN\n",
    "    INSERT INTO entity(name, variant_id)\n",
    "    VALUES (in_name, in_variant_id);\n",
    "END;\n",
    "$$;"
   ]
  },
  {
   "cell_type": "markdown",
   "id": "eae0a0bd",
   "metadata": {
    "vscode": {
     "languageId": "sql"
    }
   },
   "source": [
    "## fn_same_slot"
   ]
  },
  {
   "cell_type": "code",
   "execution_count": 1145,
   "id": "2d0bcfef",
   "metadata": {
    "vscode": {
     "languageId": "sql"
    }
   },
   "outputs": [
    {
     "data": {
      "text/html": [
       "<span style=\"None\">Running query in &#x27;postgresql://notebook@localhost:5432/sahuagin&#x27;</span>"
      ],
      "text/plain": [
       "Running query in 'postgresql://notebook@localhost:5432/sahuagin'"
      ]
     },
     "metadata": {},
     "output_type": "display_data"
    },
    {
     "data": {
      "text/html": [
       "<table>\n",
       "    <thead>\n",
       "        <tr>\n",
       "        </tr>\n",
       "    </thead>\n",
       "    <tbody>\n",
       "    </tbody>\n",
       "</table>"
      ],
      "text/plain": [
       "++\n",
       "||\n",
       "++\n",
       "++"
      ]
     },
     "execution_count": 1145,
     "metadata": {},
     "output_type": "execute_result"
    }
   ],
   "source": [
    "%%sql\n",
    "\n",
    "CREATE OR REPLACE FUNCTION fn_same_slot(\n",
    "    p_candidate_id INTEGER,\n",
    "    p_reference_id INTEGER\n",
    ")\n",
    "RETURNS BOOLEAN\n",
    "LANGUAGE plpgsql\n",
    "AS $$\n",
    "DECLARE\n",
    "    v_parent_candidate   INTEGER;\n",
    "    v_variant_candidate  INTEGER;\n",
    "    v_parent_reference   INTEGER;\n",
    "    v_variant_reference  INTEGER;\n",
    "BEGIN\n",
    "    -- Get slot details for the candidate.\n",
    "    SELECT parent_possible_attr_id, subvariant_span_id\n",
    "      INTO v_parent_candidate, v_variant_candidate\n",
    "      FROM possible_attr\n",
    "     WHERE id = p_candidate_id;\n",
    "    \n",
    "    -- Get slot details for the reference.\n",
    "    SELECT parent_possible_attr_id, subvariant_span_id\n",
    "      INTO v_parent_reference, v_variant_reference\n",
    "      FROM possible_attr\n",
    "     WHERE id = p_reference_id;\n",
    "    \n",
    "    -- Return true if both the parent and subvariant_span values are equivalent.\n",
    "    RETURN (v_parent_candidate IS NOT DISTINCT FROM v_parent_reference)\n",
    "           AND (v_variant_candidate IS NOT DISTINCT FROM v_variant_reference);\n",
    "END;\n",
    "$$;"
   ]
  },
  {
   "cell_type": "markdown",
   "id": "04111890",
   "metadata": {},
   "source": [
    "## Roll Discrete Variant Attribute Value"
   ]
  },
  {
   "cell_type": "code",
   "execution_count": 1146,
   "id": "a8600484",
   "metadata": {
    "vscode": {
     "languageId": "sql"
    }
   },
   "outputs": [
    {
     "data": {
      "text/html": [
       "<span style=\"None\">Running query in &#x27;postgresql://notebook@localhost:5432/sahuagin&#x27;</span>"
      ],
      "text/plain": [
       "Running query in 'postgresql://notebook@localhost:5432/sahuagin'"
      ]
     },
     "metadata": {},
     "output_type": "display_data"
    },
    {
     "data": {
      "text/html": [
       "<table>\n",
       "    <thead>\n",
       "        <tr>\n",
       "        </tr>\n",
       "    </thead>\n",
       "    <tbody>\n",
       "    </tbody>\n",
       "</table>"
      ],
      "text/plain": [
       "++\n",
       "||\n",
       "++\n",
       "++"
      ]
     },
     "execution_count": 1146,
     "metadata": {},
     "output_type": "execute_result"
    }
   ],
   "source": [
    "%%sql\n",
    "\n",
    "CREATE OR REPLACE FUNCTION roll_discrete_varattr(\n",
    "    p_possible_attr_id INTEGER,\n",
    "    p_entity_state_id INTEGER,\n",
    "    p_exclude_span_id INTEGER\n",
    ") \n",
    "RETURNS INTEGER\n",
    "LANGUAGE plpgsql\n",
    "AS $$\n",
    "DECLARE\n",
    "    v_span_id INTEGER;\n",
    "    v_max_double CONSTANT double precision := 1e308;\n",
    "    v_variant_attr_id INTEGER;\n",
    "    v_subvariant_span_id INTEGER;\n",
    "BEGIN\n",
    "    -- Retrieve the underlying variant attribute and associated span trigger.\n",
    "    SELECT variant_attr_id, subvariant_span_id\n",
    "      INTO v_variant_attr_id, v_subvariant_span_id\n",
    "      FROM possible_attr\n",
    "     WHERE id = p_possible_attr_id;\n",
    "    \n",
    "    WITH\n",
    "    BaseSpans AS (\n",
    "          SELECT s.id AS span_id, \n",
    "               va.id AS variant_attr_id, \n",
    "               NULL::INTEGER AS subvariant_span_id,\n",
    "               s.weight AS base_weight\n",
    "          FROM variant_attr va\n",
    "          JOIN span s \n",
    "            ON s.attribute_id = va.attribute_id\n",
    "          WHERE va.id = v_variant_attr_id\n",
    "            AND s.type = 'discrete'\n",
    "            AND (p_exclude_span_id = 0 OR s.id <> p_exclude_span_id)\n",
    "            -- Exclude spans that were added for an effect\n",
    "            AND s.id NOT IN (\n",
    "                 SELECT ss.span_id\n",
    "                   FROM variation_activated_span ss\n",
    "            )\n",
    "     ),\n",
    "    ActiveEffects AS (\n",
    "         /*\n",
    "           Join to the effect table. We only want effects whose\n",
    "           triggering span (effect.span_id) has already been rolled into\n",
    "           the current entity_state.\n",
    "         */\n",
    "         SELECT e.id AS effect_id, \n",
    "                e.to_modify_possible_attr_id,\n",
    "                e.activating_possible_attr_id\n",
    "         FROM effect e\n",
    "         WHERE e.variant_id = (\n",
    "                 SELECT variant_id\n",
    "                   FROM possible_attr\n",
    "                  WHERE id = p_possible_attr_id\n",
    "             )\n",
    "           AND e.span_id IN (\n",
    "                 SELECT span_id\n",
    "                   FROM entity_varattr_value\n",
    "                  WHERE entity_state_id = p_entity_state_id\n",
    "             )\n",
    "           AND e.to_modify_possible_attr_id IN (\n",
    "                 SELECT pa.id\n",
    "                   FROM possible_attr pa\n",
    "                  WHERE pa.variant_attr_id = v_variant_attr_id\n",
    "                    AND fn_same_slot(pa.id, p_possible_attr_id)\n",
    "             )\n",
    "    ),\n",
    "    InactiveSpans AS (\n",
    "         SELECT DISTINCT vis.span_id\n",
    "         FROM variation_inactive_span vis  -- assuming these tables remain unchanged\n",
    "         JOIN ActiveEffects ae ON ae.effect_id = vis.effect_id\n",
    "    ), \n",
    "    ActivatedSpans AS (\n",
    "         SELECT DISTINCT \n",
    "                ss.span_id, \n",
    "                ae.to_modify_possible_attr_id AS variant_attr_id, \n",
    "                NULL::INTEGER AS subvariant_span_id, \n",
    "                0.0 AS base_weight\n",
    "         FROM variation_activated_span ss\n",
    "         JOIN ActiveEffects ae ON ae.effect_id = ss.effect_id\n",
    "    ), \n",
    "    DeltaWeights AS (\n",
    "         SELECT vdw.span_id, \n",
    "                SUM(vdw.delta_weight) AS total_delta\n",
    "         FROM variation_delta_weight vdw\n",
    "         JOIN ActiveEffects ae ON ae.effect_id = vdw.effect_id\n",
    "         GROUP BY vdw.span_id\n",
    "    ), \n",
    "    AllRelevantSpans AS (\n",
    "         SELECT b.span_id, b.variant_attr_id, b.subvariant_span_id, b.base_weight\n",
    "         FROM BaseSpans b\n",
    "         WHERE b.span_id NOT IN (SELECT span_id FROM InactiveSpans)\n",
    "         UNION\n",
    "         SELECT a.span_id, a.variant_attr_id, a.subvariant_span_id, a.base_weight\n",
    "         FROM ActivatedSpans a\n",
    "         WHERE a.span_id NOT IN (SELECT span_id FROM InactiveSpans)\n",
    "    ), \n",
    "    FinalSpans AS (\n",
    "         SELECT ars.span_id, \n",
    "                ars.variant_attr_id, \n",
    "                ars.subvariant_span_id,\n",
    "                COALESCE(ars.base_weight, 0) + COALESCE(dw.total_delta, 0) AS effective_weight\n",
    "         FROM AllRelevantSpans ars\n",
    "         LEFT JOIN DeltaWeights dw ON dw.span_id = ars.span_id\n",
    "    ),\n",
    "    SpanCounts AS (\n",
    "         SELECT ns.num_spans, \n",
    "                SUM(fs.effective_weight / ns.num_spans) AS total_weight\n",
    "         FROM FinalSpans fs\n",
    "         CROSS JOIN (\n",
    "             SELECT COUNT(*)::double precision AS num_spans \n",
    "             FROM FinalSpans \n",
    "             WHERE effective_weight > 0\n",
    "         ) ns\n",
    "         WHERE fs.effective_weight > 0\n",
    "         GROUP BY ns.num_spans\n",
    "    ),\n",
    "    AdjustedSpans AS (\n",
    "         SELECT fs.span_id,\n",
    "                fs.variant_attr_id,\n",
    "                fs.subvariant_span_id,\n",
    "                fs.effective_weight,\n",
    "                sc.num_spans,\n",
    "                sc.total_weight,\n",
    "                CASE \n",
    "                  WHEN fs.effective_weight < 1 \n",
    "                    THEN ceil((fs.effective_weight * v_max_double) / (sc.total_weight * sc.num_spans))\n",
    "                  ELSE ceil((fs.effective_weight / (sc.total_weight * sc.num_spans)) * v_max_double)\n",
    "                END AS adjusted_weight\n",
    "         FROM FinalSpans fs\n",
    "         CROSS JOIN SpanCounts sc\n",
    "         WHERE fs.effective_weight > 0\n",
    "    ),\n",
    "    Running AS (\n",
    "         SELECT span_id,\n",
    "                variant_attr_id,\n",
    "                subvariant_span_id,\n",
    "                adjusted_weight,\n",
    "                SUM(adjusted_weight) OVER (ORDER BY span_id) AS running_total\n",
    "         FROM AdjustedSpans\n",
    "    ),\n",
    "    OrderedSpansCTE AS (\n",
    "         SELECT span_id,\n",
    "                variant_attr_id,\n",
    "                subvariant_span_id,\n",
    "                adjusted_weight AS contextual_weight,\n",
    "                running_total,\n",
    "                LAG(running_total, 1, 0) OVER (ORDER BY span_id) AS prev_running_total\n",
    "         FROM Running\n",
    "    ),\n",
    "    TotalAdjusted AS (\n",
    "         SELECT MAX(running_total) AS v_total_weight\n",
    "         FROM OrderedSpansCTE\n",
    "    ),\n",
    "    Rng AS (\n",
    "         SELECT t.v_total_weight,\n",
    "                floor(random() * t.v_total_weight) AS v_random_pick\n",
    "         FROM TotalAdjusted t\n",
    "    )\n",
    "    SELECT o.span_id\n",
    "      INTO v_span_id\n",
    "      FROM OrderedSpansCTE o, Rng\n",
    "      WHERE Rng.v_random_pick >= o.prev_running_total\n",
    "        AND Rng.v_random_pick < o.running_total\n",
    "      LIMIT 1;\n",
    "\n",
    "    RETURN v_span_id;\n",
    "END;\n",
    "$$;"
   ]
  },
  {
   "cell_type": "markdown",
   "id": "1505639a",
   "metadata": {},
   "source": [
    "## Gamma Range"
   ]
  },
  {
   "cell_type": "code",
   "execution_count": 1147,
   "id": "34e2d0e4",
   "metadata": {
    "vscode": {
     "languageId": "sql"
    }
   },
   "outputs": [
    {
     "data": {
      "text/html": [
       "<span style=\"None\">Running query in &#x27;postgresql://notebook@localhost:5432/sahuagin&#x27;</span>"
      ],
      "text/plain": [
       "Running query in 'postgresql://notebook@localhost:5432/sahuagin'"
      ]
     },
     "metadata": {},
     "output_type": "display_data"
    },
    {
     "data": {
      "text/html": [
       "<table>\n",
       "    <thead>\n",
       "        <tr>\n",
       "        </tr>\n",
       "    </thead>\n",
       "    <tbody>\n",
       "    </tbody>\n",
       "</table>"
      ],
      "text/plain": [
       "++\n",
       "||\n",
       "++\n",
       "++"
      ]
     },
     "execution_count": 1147,
     "metadata": {},
     "output_type": "execute_result"
    }
   ],
   "source": [
    "%%sql\n",
    "\n",
    "CREATE OR REPLACE FUNCTION gamma_rng(shape double precision)\n",
    "RETURNS double precision\n",
    "LANGUAGE plpgsql\n",
    "AS $$\n",
    "DECLARE\n",
    "    d double precision;\n",
    "    c double precision;\n",
    "    x double precision;\n",
    "    v double precision;\n",
    "    u double precision;\n",
    "BEGIN\n",
    "    IF shape < 1 THEN\n",
    "        -- Use the transformation: Gamma(shape) = Gamma(shape+1)*U^(1/shape)\n",
    "        RETURN gamma_rng(shape + 1) * power(random(), 1.0 / shape);\n",
    "    END IF;\n",
    "    d := shape - 1.0/3.0;\n",
    "    c := 1.0 / sqrt(9.0 * d);\n",
    "    LOOP\n",
    "        -- Generate a standard normal via Box–Muller:\n",
    "        x := sqrt(-2 * ln(random())) * cos(2 * 3.141592653589793 * random());\n",
    "        v := 1 + c * x;\n",
    "        IF v <= 0 THEN\n",
    "            CONTINUE;\n",
    "        END IF;\n",
    "        v := v * v * v;\n",
    "        u := random();\n",
    "        IF u < 1 - 0.0331 * x * x * x * x THEN\n",
    "            RETURN d * v;\n",
    "        END IF;\n",
    "        IF ln(u) < 0.5 * x * x + d * (1 - v + ln(v)) THEN\n",
    "            RETURN d * v;\n",
    "        END IF;\n",
    "    END LOOP;\n",
    "END;\n",
    "$$;"
   ]
  },
  {
   "cell_type": "markdown",
   "id": "a9af61b5",
   "metadata": {},
   "source": [
    "## Generate Weighted Random Number"
   ]
  },
  {
   "cell_type": "code",
   "execution_count": 1148,
   "id": "637eaa9a",
   "metadata": {
    "vscode": {
     "languageId": "sql"
    }
   },
   "outputs": [
    {
     "data": {
      "text/html": [
       "<span style=\"None\">Running query in &#x27;postgresql://notebook@localhost:5432/sahuagin&#x27;</span>"
      ],
      "text/plain": [
       "Running query in 'postgresql://notebook@localhost:5432/sahuagin'"
      ]
     },
     "metadata": {},
     "output_type": "display_data"
    },
    {
     "data": {
      "text/html": [
       "<table>\n",
       "    <thead>\n",
       "        <tr>\n",
       "        </tr>\n",
       "    </thead>\n",
       "    <tbody>\n",
       "    </tbody>\n",
       "</table>"
      ],
      "text/plain": [
       "++\n",
       "||\n",
       "++\n",
       "++"
      ]
     },
     "execution_count": 1148,
     "metadata": {},
     "output_type": "execute_result"
    }
   ],
   "source": [
    "%%sql\n",
    "\n",
    "-- using a fast Marsaglia–Tsang method\n",
    "CREATE OR REPLACE FUNCTION weighted_random(\n",
    "    min_val double precision,                   -- Minimum of desired range.\n",
    "    max_val double precision,                   -- Maximum of desired range (must be > min_val).\n",
    "    mode_val double precision,                  -- Desired mode (peak) in the same units.\n",
    "    skew double precision DEFAULT 0,            -- Skew adjustment; between -1 and 1 only, 0 = no skew.\n",
    "    concentration double precision DEFAULT 4    -- Concentration (k); should be >2 for a proper unimodal shape.\n",
    ") RETURNS double precision\n",
    "LANGUAGE plpgsql\n",
    "AS $$\n",
    "DECLARE\n",
    "    m_norm      double precision;  -- Normalized desired mode in [0,1].\n",
    "    alpha       double precision;\n",
    "    beta        double precision;\n",
    "    x_val       double precision;\n",
    "    y_val       double precision;\n",
    "    beta_sample double precision;\n",
    "BEGIN\n",
    "    IF min_val >= max_val THEN\n",
    "        RAISE EXCEPTION 'min_val must be less than max_val';\n",
    "    END IF;\n",
    "    IF concentration < 0 THEN\n",
    "        RAISE EXCEPTION 'concentration must be non-negative';\n",
    "    END IF;\n",
    "    IF concentration <= 2 THEN\n",
    "        -- When concentration <= 2 the Beta isn't unimodal; fallback to uniform.\n",
    "        RETURN min_val + random() * (max_val - min_val);\n",
    "    END IF;\n",
    "\n",
    "    -- Normalize the desired mode to [0,1].\n",
    "    m_norm := (mode_val - min_val) / (max_val - min_val);\n",
    "\n",
    "    -- Parameterize α and β so that (α-1)/(α+β-2) equals m_norm.\n",
    "    alpha := m_norm * (concentration - 2) + 1;\n",
    "    beta  := (1 - m_norm) * (concentration - 2) + 1;\n",
    "\n",
    "    -- Apply skew correction if desired.\n",
    "    IF skew <> 0 THEN\n",
    "        alpha := alpha * (1 + skew);\n",
    "        beta  := beta  * (1 - skew);\n",
    "    END IF;\n",
    "\n",
    "    -- Generate a Beta(α,β) random variable via the Gamma method.\n",
    "    x_val := gamma_rng(alpha);\n",
    "    y_val := gamma_rng(beta);\n",
    "    beta_sample := x_val / (x_val + y_val);\n",
    "\n",
    "    -- Scale the [0,1] Beta sample to [min_val, max_val].\n",
    "    RETURN min_val + beta_sample * (max_val - min_val);\n",
    "END;\n",
    "$$;"
   ]
  },
  {
   "cell_type": "markdown",
   "id": "6dc053cb",
   "metadata": {},
   "source": [
    "## Roll Continuous Variant Attribute Value"
   ]
  },
  {
   "cell_type": "code",
   "execution_count": 1149,
   "id": "b4da7a22",
   "metadata": {
    "vscode": {
     "languageId": "sql"
    }
   },
   "outputs": [
    {
     "data": {
      "text/html": [
       "<span style=\"None\">Running query in &#x27;postgresql://notebook@localhost:5432/sahuagin&#x27;</span>"
      ],
      "text/plain": [
       "Running query in 'postgresql://notebook@localhost:5432/sahuagin'"
      ]
     },
     "metadata": {},
     "output_type": "display_data"
    },
    {
     "data": {
      "text/html": [
       "<table>\n",
       "    <thead>\n",
       "        <tr>\n",
       "        </tr>\n",
       "    </thead>\n",
       "    <tbody>\n",
       "    </tbody>\n",
       "</table>"
      ],
      "text/plain": [
       "++\n",
       "||\n",
       "++\n",
       "++"
      ]
     },
     "execution_count": 1149,
     "metadata": {},
     "output_type": "execute_result"
    }
   ],
   "source": [
    "%%sql\n",
    "\n",
    "CREATE OR REPLACE FUNCTION roll_continuous_varattr(\n",
    "    p_possible_attr_id INTEGER,\n",
    "    p_entity_state_id   INTEGER,\n",
    "    p_exclude_span_id   INTEGER\n",
    ")\n",
    "RETURNS TABLE(chosen_span_id integer, chosen_value double precision)\n",
    "LANGUAGE plpgsql\n",
    "AS $$\n",
    "DECLARE\n",
    "    v_attribute_id         INTEGER;\n",
    "    v_decimals             INTEGER;\n",
    "    v_min                  DOUBLE PRECISION;\n",
    "    v_max                  DOUBLE PRECISION;\n",
    "    v_mode                 DOUBLE PRECISION;\n",
    "    v_concentration        DOUBLE PRECISION;\n",
    "    v_skew                 DOUBLE PRECISION;\n",
    "    v_total_delta_mode     DOUBLE PRECISION := 0;\n",
    "    v_total_delta_conc     DOUBLE PRECISION := 0;\n",
    "    v_total_delta_skew     DOUBLE PRECISION := 0;\n",
    "    v_eff_min              DOUBLE PRECISION;\n",
    "    v_eff_max              DOUBLE PRECISION;\n",
    "    v_eff_mode             DOUBLE PRECISION;\n",
    "    v_result               DOUBLE PRECISION;\n",
    "    v_clamped_result       DOUBLE PRECISION;\n",
    "    v_chosen_span_id       INTEGER;\n",
    "    dummy_eff_min          DOUBLE PRECISION;\n",
    "    dummy_eff_max          DOUBLE PRECISION;\n",
    "    v_variant_attr_id INTEGER;\n",
    "BEGIN\n",
    "    -- Retrieve attribute details from the possible_attr record.\n",
    "    SELECT va.attribute_id, a.decimals, a.min_value, a.max_value, a.mode_value, \n",
    "           a.concentration, a.skew, va.id\n",
    "      INTO v_attribute_id, v_decimals, v_min, v_max, v_mode, v_concentration, v_skew, v_variant_attr_id\n",
    "      FROM possible_attr pa\n",
    "      JOIN variant_attr va ON va.id = pa.variant_attr_id\n",
    "      JOIN attribute a ON a.id = va.attribute_id\n",
    "     WHERE pa.id = p_possible_attr_id\n",
    "     LIMIT 1;\n",
    "\n",
    "    IF v_attribute_id IS NULL THEN\n",
    "        RAISE EXCEPTION 'No matching attribute found for possible_attr_id %', p_possible_attr_id;\n",
    "    END IF;\n",
    "\n",
    "    -- Sum continuous attribute delta values from effects that have been triggered.\n",
    "    SELECT COALESCE(SUM(vca.delta_mode), 0),\n",
    "           COALESCE(SUM(vca.delta_conc), 0),\n",
    "           COALESCE(SUM(vca.delta_skew), 0)\n",
    "      INTO v_total_delta_mode, v_total_delta_conc, v_total_delta_skew\n",
    "      FROM variation_continuous_attr vca\n",
    "      JOIN effect e ON e.id = vca.effect_id\n",
    "      JOIN possible_attr pa ON pa.id = e.to_modify_possible_attr_id\n",
    "     WHERE pa.variant_attr_id = v_variant_attr_id\n",
    "       AND e.variant_id = (\n",
    "             SELECT variant_id FROM possible_attr WHERE id = p_possible_attr_id\n",
    "       )\n",
    "       AND e.span_id IN (\n",
    "             SELECT span_id FROM entity_varattr_value WHERE entity_state_id = p_entity_state_id\n",
    "       )\n",
    "       AND fn_same_slot(pa.id, p_possible_attr_id);\n",
    "\n",
    "    -- Compute effective min, max, and mode.\n",
    "    IF (v_total_delta_conc <> 0 OR v_total_delta_skew <> 0) THEN\n",
    "        v_eff_min  := (v_min + v_total_delta_mode) * (1 + v_total_delta_conc + v_total_delta_skew);\n",
    "        v_eff_max  := (v_max + v_total_delta_mode) * (1 + v_total_delta_conc + v_total_delta_skew);\n",
    "        v_eff_mode := (v_mode + v_total_delta_mode) * (1 + v_total_delta_conc + v_total_delta_skew);\n",
    "    ELSE\n",
    "        v_eff_min  := v_min + v_total_delta_mode;\n",
    "        v_eff_max  := v_max + v_total_delta_mode;\n",
    "        v_eff_mode := v_mode + v_total_delta_mode;\n",
    "    END IF;\n",
    "\n",
    "    IF v_eff_max < v_eff_min THEN\n",
    "        -- Swap if needed.\n",
    "        v_result  := v_eff_min;\n",
    "        v_eff_min := v_eff_max;\n",
    "        v_eff_max := v_result;\n",
    "    END IF;\n",
    "\n",
    "    -- Generate a weighted random value.\n",
    "    v_result := weighted_random(\n",
    "                   v_eff_min, \n",
    "                   v_eff_max, \n",
    "                   v_eff_mode, \n",
    "                   COALESCE(v_skew, 0),\n",
    "                   COALESCE(v_concentration, 0)\n",
    "               );\n",
    "    v_result := round(v_result::numeric, v_decimals)::double precision;\n",
    "\n",
    "    -- Clamp the result to the effective range.\n",
    "    IF v_result < v_eff_min THEN\n",
    "        v_clamped_result := v_eff_min;\n",
    "    ELSIF v_result > v_eff_max THEN\n",
    "        v_clamped_result := v_eff_max;\n",
    "    ELSE\n",
    "        v_clamped_result := v_result;\n",
    "    END IF;\n",
    "\n",
    "    -- Select the span matching the computed result.\n",
    "    -- We join from span -> subvariant_span -> possible_attr and use fn_same_slot so that any \n",
    "    -- possible_attr row structurally equivalent to p_possible_attr_id is used.\n",
    "    IF p_exclude_span_id IS NOT NULL AND p_exclude_span_id <> 0 THEN\n",
    "        SELECT s.id,\n",
    "               CASE \n",
    "                 WHEN (v_total_delta_conc <> 0 OR v_total_delta_skew <> 0)\n",
    "                 THEN (s.min_value + v_total_delta_mode) * (1 + v_total_delta_conc + v_total_delta_skew)\n",
    "                 ELSE (s.min_value + v_total_delta_mode)\n",
    "               END,\n",
    "               CASE \n",
    "                 WHEN (v_total_delta_conc <> 0 OR v_total_delta_skew <> 0)\n",
    "                 THEN (s.max_value + v_total_delta_mode) * (1 + v_total_delta_conc + v_total_delta_skew)\n",
    "                 ELSE (s.max_value + v_total_delta_mode)\n",
    "               END\n",
    "          INTO v_chosen_span_id, dummy_eff_min, dummy_eff_max\n",
    "          FROM span s\n",
    "          JOIN subvariant_span ss ON ss.span_id = s.id\n",
    "          JOIN possible_attr pa ON pa.subvariant_span_id = ss.id\n",
    "         WHERE s.attribute_id = v_attribute_id\n",
    "           AND s.type = 'continuous'\n",
    "           AND s.id <> p_exclude_span_id\n",
    "           AND fn_same_slot(pa.id, p_possible_attr_id)\n",
    "           AND (CASE \n",
    "                   WHEN (v_total_delta_conc <> 0 OR v_total_delta_skew <> 0)\n",
    "                   THEN (s.min_value + v_total_delta_mode) * (1 + v_total_delta_conc + v_total_delta_skew)\n",
    "                   ELSE (s.min_value + v_total_delta_mode)\n",
    "                END) <= v_clamped_result\n",
    "           AND (CASE \n",
    "                   WHEN (v_total_delta_conc <> 0 OR v_total_delta_skew <> 0)\n",
    "                   THEN (s.max_value + v_total_delta_mode) * (1 + v_total_delta_conc + v_total_delta_skew)\n",
    "                   ELSE (s.max_value + v_total_delta_mode)\n",
    "                END) > v_clamped_result\n",
    "         LIMIT 1;\n",
    "    ELSE\n",
    "        SELECT s.id,\n",
    "               CASE \n",
    "                 WHEN (v_total_delta_conc <> 0 OR v_total_delta_skew <> 0)\n",
    "                 THEN (s.min_value + v_total_delta_mode) * (1 + v_total_delta_conc + v_total_delta_skew)\n",
    "                 ELSE (s.min_value + v_total_delta_mode)\n",
    "               END,\n",
    "               CASE \n",
    "                 WHEN (v_total_delta_conc <> 0 OR v_total_delta_skew <> 0)\n",
    "                 THEN (s.max_value + v_total_delta_mode) * (1 + v_total_delta_conc + v_total_delta_skew)\n",
    "                 ELSE (s.max_value + v_total_delta_mode)\n",
    "               END\n",
    "          INTO v_chosen_span_id, dummy_eff_min, dummy_eff_max\n",
    "          FROM span s\n",
    "          JOIN subvariant_span ss ON ss.span_id = s.id\n",
    "          JOIN possible_attr pa ON pa.subvariant_span_id = ss.id\n",
    "         WHERE s.attribute_id = v_attribute_id\n",
    "           AND s.type = 'continuous'\n",
    "           AND fn_same_slot(pa.id, p_possible_attr_id)\n",
    "           AND (CASE \n",
    "                   WHEN (v_total_delta_conc <> 0 OR v_total_delta_skew <> 0)\n",
    "                   THEN (s.min_value + v_total_delta_mode) * (1 + v_total_delta_conc + v_total_delta_skew)\n",
    "                   ELSE (s.min_value + v_total_delta_mode)\n",
    "                END) <= v_clamped_result\n",
    "           AND (CASE \n",
    "                   WHEN (v_total_delta_conc <> 0 OR v_total_delta_skew <> 0)\n",
    "                   THEN (s.max_value + v_total_delta_mode) * (1 + v_total_delta_conc + v_total_delta_skew)\n",
    "                   ELSE (s.max_value + v_total_delta_mode)\n",
    "                END) > v_clamped_result\n",
    "         LIMIT 1;\n",
    "    END IF;\n",
    "\n",
    "    chosen_span_id := v_chosen_span_id;\n",
    "    chosen_value   := v_clamped_result;\n",
    "    RETURN NEXT;\n",
    "    RETURN;\n",
    "END;\n",
    "$$;\n"
   ]
  },
  {
   "cell_type": "markdown",
   "id": "14c74b7a",
   "metadata": {},
   "source": [
    "## Generate Entity State"
   ]
  },
  {
   "cell_type": "code",
   "execution_count": 1150,
   "id": "bce4afd6",
   "metadata": {
    "vscode": {
     "languageId": "sql"
    }
   },
   "outputs": [
    {
     "data": {
      "text/html": [
       "<span style=\"None\">Running query in &#x27;postgresql://notebook@localhost:5432/sahuagin&#x27;</span>"
      ],
      "text/plain": [
       "Running query in 'postgresql://notebook@localhost:5432/sahuagin'"
      ]
     },
     "metadata": {},
     "output_type": "display_data"
    },
    {
     "data": {
      "text/html": [
       "<table>\n",
       "    <thead>\n",
       "        <tr>\n",
       "        </tr>\n",
       "    </thead>\n",
       "    <tbody>\n",
       "    </tbody>\n",
       "</table>"
      ],
      "text/plain": [
       "++\n",
       "||\n",
       "++\n",
       "++"
      ]
     },
     "execution_count": 1150,
     "metadata": {},
     "output_type": "execute_result"
    }
   ],
   "source": [
    "%%sql\n",
    "\n",
    "CREATE OR REPLACE PROCEDURE generate_entity_state(\n",
    "    IN p_entity_name VARCHAR,\n",
    "    IN p_time        DOUBLE PRECISION\n",
    ")\n",
    "LANGUAGE plpgsql\n",
    "AS $$\n",
    "DECLARE\n",
    "    v_entity_id             INTEGER;\n",
    "    v_root_variant_id       INTEGER;\n",
    "    v_entity_state_id       INTEGER;\n",
    "    v_is_regenerate         BOOLEAN;\n",
    "    v_current_variant       INTEGER;\n",
    "    v_trigger_ss           INTEGER;  -- the subvariant_span that triggered this variant (NULL for top-level)\n",
    "    v_parent_possible_attr_id INTEGER;  -- parent's possible_attr id (NULL for top-level)\n",
    "    cur_va_id               INTEGER;\n",
    "    cur_attr_type           TEXT;\n",
    "    v_subvariant_span_id  INTEGER;\n",
    "    v_existing_evav_id      INTEGER;\n",
    "    v_existing_span_id      INTEGER;\n",
    "    v_lock_count            INTEGER := 0;\n",
    "    v_new_span_id           INTEGER;\n",
    "    v_new_numeric           DOUBLE PRECISION;\n",
    "    v_used_span_id          INTEGER;\n",
    "    v_sub_variant_id        INTEGER;\n",
    "    v_attr_counter          INTEGER := 0;\n",
    "    v_queue_id              INTEGER;  -- for stack (LIFO) ordering\n",
    "    cur_possible_attr_id     INTEGER;  -- resolved unique possible_attr id for this combination\n",
    "    rec                     RECORD;\n",
    "BEGIN\n",
    "    -- Look up the entity by name.\n",
    "    SELECT id, variant_id\n",
    "      INTO v_entity_id, v_root_variant_id\n",
    "      FROM entity\n",
    "     WHERE name = p_entity_name;\n",
    "    IF v_entity_id IS NULL THEN\n",
    "       RAISE EXCEPTION 'No entity found with name=%', p_entity_name;\n",
    "    END IF;\n",
    "\n",
    "    -- Check if an entity_state already exists for this entity at the given time.\n",
    "    SELECT id \n",
    "      INTO v_entity_state_id\n",
    "      FROM entity_state\n",
    "     WHERE entity_id = v_entity_id\n",
    "       AND \"time\" = p_time\n",
    "     LIMIT 1;\n",
    "    IF v_entity_state_id IS NOT NULL THEN\n",
    "        v_is_regenerate := TRUE;\n",
    "    ELSE\n",
    "        INSERT INTO entity_state(entity_id, \"time\")\n",
    "        VALUES (v_entity_id, p_time)\n",
    "        RETURNING id INTO v_entity_state_id;\n",
    "        v_is_regenerate := FALSE;\n",
    "    END IF;\n",
    "\n",
    "    -- Create a temporary queue that holds variants to process.\n",
    "    -- Now the queue includes:\n",
    "    --   variant_id: the variant whose attributes will be generated.\n",
    "    --   subvariant_span_id: the span that triggered this variant (may be NULL).\n",
    "    --   parent_possible_attr_id: the parent's possible_attr id (NULL for top-level).\n",
    "    DROP TABLE IF EXISTS _variant_queue;\n",
    "    CREATE TEMPORARY TABLE _variant_queue (\n",
    "        queue_id serial PRIMARY KEY,\n",
    "        variant_id INTEGER,\n",
    "        subvariant_span_id INTEGER,\n",
    "        parent_possible_attr_id INTEGER\n",
    "    ) ON COMMIT DROP;\n",
    "    -- Top-level variant: no triggering span and no parent.\n",
    "    INSERT INTO _variant_queue (variant_id, subvariant_span_id, parent_possible_attr_id)\n",
    "      VALUES (v_root_variant_id, NULL, NULL);\n",
    "\n",
    "    -- Temporary table to hold the current variant's attributes.\n",
    "    DROP TABLE IF EXISTS _variant_attrs;\n",
    "    CREATE TEMPORARY TABLE _variant_attrs (\n",
    "        va_id    INTEGER,\n",
    "        attr_type TEXT\n",
    "    ) ON COMMIT DROP;\n",
    "\n",
    "    -- Process the variant queue (LIFO for depth-first traversal).\n",
    "    LOOP\n",
    "        SELECT queue_id, variant_id, subvariant_span_id, parent_possible_attr_id\n",
    "          INTO v_queue_id, v_current_variant, v_trigger_ss, v_parent_possible_attr_id\n",
    "          FROM _variant_queue\n",
    "         ORDER BY queue_id DESC\n",
    "         LIMIT 1;\n",
    "        EXIT WHEN NOT FOUND;\n",
    "        DELETE FROM _variant_queue WHERE queue_id = v_queue_id;\n",
    "\n",
    "        -- Load the attributes for the current variant.\n",
    "        TRUNCATE _variant_attrs;\n",
    "        INSERT INTO _variant_attrs (va_id, attr_type)\n",
    "          SELECT va.id, a.type\n",
    "            FROM variant_attr va\n",
    "            JOIN attribute a ON a.id = va.attribute_id\n",
    "           WHERE va.variant_id = v_current_variant;\n",
    "\n",
    "        v_attr_counter := 0;\n",
    "        FOR rec IN\n",
    "            SELECT va_id, attr_type FROM _variant_attrs\n",
    "        LOOP\n",
    "            cur_va_id     := rec.va_id;\n",
    "            cur_attr_type := rec.attr_type;\n",
    "            v_attr_counter := v_attr_counter + 1;\n",
    "\n",
    "            -- Determine the subvariant_span for this attribute.\n",
    "            -- If a triggering span was provided, simply use it.\n",
    "            IF v_trigger_ss IS NOT NULL THEN\n",
    "                v_subvariant_span_id := v_trigger_ss;\n",
    "            ELSE\n",
    "                v_subvariant_span_id := NULL;\n",
    "            END IF;\n",
    "\n",
    "            -- Resolve (or create) the unique possible_attr record for this combination.\n",
    "            -- Uniqueness is defined by (parent_possible_attr_id, subvariant_span_id, variant_attr_id).\n",
    "            SELECT id\n",
    "              INTO cur_possible_attr_id\n",
    "              FROM possible_attr\n",
    "             WHERE variant_attr_id = cur_va_id\n",
    "               AND ((parent_possible_attr_id IS NULL AND v_parent_possible_attr_id IS NULL)\n",
    "                    OR parent_possible_attr_id = v_parent_possible_attr_id)\n",
    "               AND ((subvariant_span_id IS NULL AND v_subvariant_span_id IS NULL)\n",
    "                    OR subvariant_span_id = v_subvariant_span_id)\n",
    "             LIMIT 1;\n",
    "            IF NOT FOUND THEN\n",
    "                INSERT INTO possible_attr (variant_attr_id, subvariant_span_id, parent_possible_attr_id)\n",
    "                VALUES (cur_va_id, v_subvariant_span_id, v_parent_possible_attr_id)\n",
    "                RETURNING id INTO cur_possible_attr_id;\n",
    "            END IF;\n",
    "\n",
    "            -- Process or update the entity_varattr_value for this resolved possible_attr.\n",
    "            IF v_is_regenerate THEN\n",
    "                SELECT id, span_id\n",
    "                  INTO v_existing_evav_id, v_existing_span_id\n",
    "                  FROM entity_varattr_value\n",
    "                 WHERE entity_state_id = v_entity_state_id\n",
    "                   AND possible_attr_id = cur_possible_attr_id\n",
    "                 LIMIT 1;\n",
    "            ELSE\n",
    "                v_existing_evav_id := NULL;\n",
    "                v_existing_span_id := NULL;\n",
    "            END IF;\n",
    "\n",
    "            IF v_is_regenerate AND v_existing_evav_id IS NOT NULL THEN\n",
    "                SELECT count(*) INTO v_lock_count\n",
    "                  FROM evav_lock\n",
    "                 WHERE locked_evav_id = v_existing_evav_id;\n",
    "                IF v_lock_count > 0 THEN\n",
    "                    v_used_span_id := v_existing_span_id;\n",
    "                ELSE\n",
    "                    IF cur_attr_type = 'discrete' THEN\n",
    "                        v_new_span_id := roll_discrete_varattr(cur_possible_attr_id, v_entity_state_id, 0);\n",
    "                        UPDATE entity_varattr_value\n",
    "                           SET span_id = v_new_span_id\n",
    "                         WHERE id = v_existing_evav_id;\n",
    "                        v_used_span_id := v_new_span_id;\n",
    "                    ELSE\n",
    "                        SELECT t.chosen_span_id, t.chosen_value\n",
    "                          INTO v_new_span_id, v_new_numeric\n",
    "                          FROM roll_continuous_varattr(cur_possible_attr_id, v_entity_state_id, 0) t\n",
    "                         LIMIT 1;\n",
    "                        UPDATE entity_varattr_value\n",
    "                           SET span_id = v_new_span_id,\n",
    "                               numeric_value = v_new_numeric\n",
    "                         WHERE id = v_existing_evav_id;\n",
    "                        v_used_span_id := v_new_span_id;\n",
    "                    END IF;\n",
    "                END IF;\n",
    "            ELSE\n",
    "                IF cur_attr_type = 'discrete' THEN\n",
    "                    v_new_span_id := roll_discrete_varattr(cur_possible_attr_id, v_entity_state_id, 0);\n",
    "                    INSERT INTO entity_varattr_value(\n",
    "                        entity_state_id,\n",
    "                        numeric_value,\n",
    "                        span_id,\n",
    "                        possible_attr_id\n",
    "                    ) VALUES (\n",
    "                        v_entity_state_id,\n",
    "                        NULL,\n",
    "                        v_new_span_id,\n",
    "                        cur_possible_attr_id\n",
    "                    );\n",
    "                    v_used_span_id := v_new_span_id;\n",
    "                ELSE\n",
    "                    SELECT t.chosen_span_id, t.chosen_value\n",
    "                      INTO v_new_span_id, v_new_numeric\n",
    "                      FROM roll_continuous_varattr(cur_possible_attr_id, v_entity_state_id, 0) t\n",
    "                     LIMIT 1;\n",
    "                    INSERT INTO entity_varattr_value(\n",
    "                        entity_state_id,\n",
    "                        numeric_value,\n",
    "                        span_id,\n",
    "                        possible_attr_id\n",
    "                    ) VALUES (\n",
    "                        v_entity_state_id,\n",
    "                        v_new_numeric,\n",
    "                        v_new_span_id,\n",
    "                        cur_possible_attr_id\n",
    "                    );\n",
    "                    v_used_span_id := v_new_span_id;\n",
    "                END IF;\n",
    "            END IF;\n",
    "\n",
    "            -- If the chosen span activates a sub–variant, enqueue that variant.\n",
    "            -- The sub–variant is defined by the subvariant_span that produced the used span.\n",
    "            -- The new queue row carries the current possible_attr as the parent.\n",
    "            SELECT variant_id\n",
    "              INTO v_sub_variant_id\n",
    "              FROM subvariant_span\n",
    "             WHERE id = v_used_span_id\n",
    "             LIMIT 1;\n",
    "            IF v_sub_variant_id IS NOT NULL THEN\n",
    "                INSERT INTO _variant_queue (variant_id, subvariant_span_id, parent_possible_attr_id)\n",
    "                VALUES (v_sub_variant_id, v_used_span_id, cur_possible_attr_id)\n",
    "                ON CONFLICT DO NOTHING;\n",
    "            END IF;\n",
    "        END LOOP;\n",
    "    END LOOP;\n",
    "\n",
    "    DROP TABLE IF EXISTS _variant_attrs;\n",
    "    DROP TABLE IF EXISTS _variant_queue;\n",
    "END;\n",
    "$$;"
   ]
  },
  {
   "cell_type": "markdown",
   "id": "a4071507",
   "metadata": {},
   "source": [
    "## Get Entity State Details"
   ]
  },
  {
   "cell_type": "code",
   "execution_count": 1151,
   "id": "4b2ac892",
   "metadata": {
    "vscode": {
     "languageId": "sql"
    }
   },
   "outputs": [
    {
     "data": {
      "text/html": [
       "<span style=\"None\">Running query in &#x27;postgresql://notebook@localhost:5432/sahuagin&#x27;</span>"
      ],
      "text/plain": [
       "Running query in 'postgresql://notebook@localhost:5432/sahuagin'"
      ]
     },
     "metadata": {},
     "output_type": "display_data"
    },
    {
     "data": {
      "text/html": [
       "<table>\n",
       "    <thead>\n",
       "        <tr>\n",
       "        </tr>\n",
       "    </thead>\n",
       "    <tbody>\n",
       "    </tbody>\n",
       "</table>"
      ],
      "text/plain": [
       "++\n",
       "||\n",
       "++\n",
       "++"
      ]
     },
     "execution_count": 1151,
     "metadata": {},
     "output_type": "execute_result"
    }
   ],
   "source": [
    "%%sql\n",
    "\n",
    "CREATE OR REPLACE FUNCTION get_entity_state(\n",
    "    p_entity_name VARCHAR,\n",
    "    p_time        DOUBLE PRECISION\n",
    ")\n",
    "RETURNS TABLE (\n",
    "    \"index\"       BIGINT,\n",
    "    \"address\"     TEXT,\n",
    "    activates     JSON,\n",
    "    effected_by   JSON,\n",
    "    numeric_value DOUBLE PRECISION,\n",
    "    span          VARCHAR,\n",
    "    locked        BOOLEAN\n",
    ")\n",
    "LANGUAGE plpgsql\n",
    "AS $$\n",
    "BEGIN\n",
    "  RETURN QUERY\n",
    "  WITH RECURSIVE entity_info AS (\n",
    "      -- Retrieve the entity_state (by matching the entity name and time) and its variant.\n",
    "      SELECT es.id AS entity_state_id,\n",
    "             e.variant_id\n",
    "      FROM entity_state es\n",
    "      JOIN entity e ON e.id = es.entity_id\n",
    "      WHERE e.name = p_entity_name\n",
    "        AND es.\"time\" = p_time\n",
    "  ),\n",
    "  base AS (\n",
    "      -- Base step: select all top-level possible_attr records (those with no parent)\n",
    "      -- for the variant corresponding to the entity state.\n",
    "      SELECT \n",
    "          pa.id AS possible_attr_id,\n",
    "          va.name AS attribute_name,\n",
    "          va.causation_index,\n",
    "          ARRAY[va.causation_index] AS flattened_path,\n",
    "          jsonb_build_array(\n",
    "             CASE \n",
    "               WHEN s.label IS NOT NULL \n",
    "                 THEN jsonb_build_array(va.name, s.label)\n",
    "               ELSE jsonb_build_array(va.name)\n",
    "             END\n",
    "          ) AS agg_label,\n",
    "          ev.id AS evav_id,\n",
    "          ev.numeric_value,\n",
    "          ev.span_id\n",
    "      FROM possible_attr pa\n",
    "      JOIN variant_attr va \n",
    "        ON va.id = pa.variant_attr_id\n",
    "      JOIN entity_info ei \n",
    "        ON va.variant_id = ei.variant_id\n",
    "      JOIN entity_varattr_value ev \n",
    "        ON ev.possible_attr_id = pa.id \n",
    "       AND ev.entity_state_id = ei.entity_state_id\n",
    "      LEFT JOIN subvariant_span ss \n",
    "        ON ss.id = pa.subvariant_span_id\n",
    "      LEFT JOIN span s \n",
    "        ON s.id = ss.span_id\n",
    "      WHERE pa.parent_possible_attr_id IS NULL\n",
    "  ),\n",
    "  recursive_flattened AS (\n",
    "      -- Start with the base nodes…\n",
    "      SELECT * FROM base\n",
    "      UNION ALL\n",
    "      -- …and then for each node, recursively join its children.\n",
    "      SELECT \n",
    "          child.possible_attr_id,\n",
    "          child.attribute_name,\n",
    "          child.causation_index,\n",
    "          rf.flattened_path || child.causation_index AS flattened_path,\n",
    "          rf.agg_label || jsonb_build_array(\n",
    "             CASE \n",
    "               WHEN child_span.label IS NOT NULL \n",
    "                 THEN jsonb_build_array(child.attribute_name, child_span.label)\n",
    "               ELSE jsonb_build_array(child.attribute_name)\n",
    "             END\n",
    "          ) AS agg_label,\n",
    "          child.evav_id,\n",
    "          child.numeric_value,\n",
    "          child.span_id\n",
    "      FROM (\n",
    "          -- Get child nodes: all possible_attr records that have a non-null parent.\n",
    "          SELECT \n",
    "              pa.id AS possible_attr_id,\n",
    "              va.name AS attribute_name,\n",
    "              va.causation_index,\n",
    "              pa.parent_possible_attr_id,\n",
    "              ev.id AS evav_id,\n",
    "              ev.numeric_value,\n",
    "              ev.span_id,\n",
    "              pa.subvariant_span_id\n",
    "          FROM possible_attr pa\n",
    "          JOIN variant_attr va \n",
    "            ON va.id = pa.variant_attr_id\n",
    "          JOIN entity_varattr_value ev \n",
    "            ON ev.possible_attr_id = pa.id \n",
    "           AND ev.entity_state_id = (SELECT entity_state_id FROM entity_info)\n",
    "          WHERE pa.parent_possible_attr_id IS NOT NULL\n",
    "      ) child\n",
    "      JOIN recursive_flattened rf \n",
    "         ON child.parent_possible_attr_id = rf.possible_attr_id\n",
    "      LEFT JOIN subvariant_span ss_child \n",
    "         ON ss_child.id = child.subvariant_span_id\n",
    "      LEFT JOIN span child_span \n",
    "         ON child_span.id = ss_child.span_id\n",
    "  ),\n",
    "  ordered AS (\n",
    "      -- Order the flattened nodes by the flattened_path and assign a sequential overall_index.\n",
    "      SELECT \n",
    "          row_number() OVER (ORDER BY rf.flattened_path) AS overall_index,\n",
    "          rf.agg_label,\n",
    "          rf.possible_attr_id AS resolved_id,\n",
    "          rf.flattened_path,\n",
    "          rf.evav_id,\n",
    "          rf.numeric_value,\n",
    "          rf.span_id\n",
    "      FROM recursive_flattened rf\n",
    "  )\n",
    "  SELECT \n",
    "      o.overall_index AS \"index\",\n",
    "      o.agg_label::text AS \"address\",\n",
    "      (\n",
    "         SELECT COALESCE(json_agg(e.name ORDER BY e.name), '[]'::json)\n",
    "         FROM effect e\n",
    "         WHERE e.activating_possible_attr_id = o.resolved_id\n",
    "      ) AS activates,\n",
    "      (\n",
    "         SELECT COALESCE(json_agg(e.name ORDER BY e.name), '[]'::json)\n",
    "         FROM effect e\n",
    "         WHERE e.to_modify_possible_attr_id = o.resolved_id\n",
    "      ) AS effected_by,\n",
    "      o.numeric_value,\n",
    "      (\n",
    "         SELECT s.label\n",
    "         FROM span s\n",
    "         WHERE s.id = o.span_id\n",
    "      ) AS span,\n",
    "      EXISTS (\n",
    "         SELECT 1 FROM evav_lock l \n",
    "         WHERE l.locked_evav_id = o.evav_id\n",
    "      ) AS locked\n",
    "  FROM ordered o\n",
    "  ORDER BY o.overall_index;\n",
    "END;\n",
    "$$;"
   ]
  },
  {
   "cell_type": "markdown",
   "id": "97932825",
   "metadata": {},
   "source": [
    "## Generate Entity Group"
   ]
  },
  {
   "cell_type": "code",
   "execution_count": 1152,
   "id": "c0f3a6af",
   "metadata": {
    "vscode": {
     "languageId": "sql"
    }
   },
   "outputs": [
    {
     "data": {
      "text/html": [
       "<span style=\"None\">Running query in &#x27;postgresql://notebook@localhost:5432/sahuagin&#x27;</span>"
      ],
      "text/plain": [
       "Running query in 'postgresql://notebook@localhost:5432/sahuagin'"
      ]
     },
     "metadata": {},
     "output_type": "display_data"
    },
    {
     "data": {
      "text/html": [
       "<table>\n",
       "    <thead>\n",
       "        <tr>\n",
       "        </tr>\n",
       "    </thead>\n",
       "    <tbody>\n",
       "    </tbody>\n",
       "</table>"
      ],
      "text/plain": [
       "++\n",
       "||\n",
       "++\n",
       "++"
      ]
     },
     "execution_count": 1152,
     "metadata": {},
     "output_type": "execute_result"
    }
   ],
   "source": [
    "%%sql\n",
    "\n",
    "CREATE OR REPLACE PROCEDURE generate_entity_group(\n",
    "    p_variant_name         VARCHAR,\n",
    "    p_group_name           VARCHAR,\n",
    "    p_entity_name_template VARCHAR,\n",
    "    p_num_entities         INTEGER\n",
    ")\n",
    "LANGUAGE plpgsql\n",
    "AS $$\n",
    "DECLARE\n",
    "    v_variant_id       INTEGER;\n",
    "    v_entity_group_id  INTEGER;\n",
    "    v_entity_id        INTEGER;\n",
    "    v_idx              INTEGER;\n",
    "    v_entity_name      VARCHAR(255);\n",
    "BEGIN\n",
    "    -- Look up the variant id using the variant name.\n",
    "    SELECT id\n",
    "      INTO v_variant_id\n",
    "      FROM variant\n",
    "     WHERE name = p_variant_name;\n",
    "    IF v_variant_id IS NULL THEN\n",
    "        RAISE EXCEPTION 'No variant found with name=%', p_variant_name;\n",
    "    END IF;\n",
    "\n",
    "    -- Create a new entity group.\n",
    "    INSERT INTO entity_group (name)\n",
    "    VALUES (p_group_name)\n",
    "    RETURNING id INTO v_entity_group_id;\n",
    "\n",
    "    FOR v_idx IN 1..p_num_entities LOOP\n",
    "        v_entity_name := format(p_entity_name_template, v_idx);\n",
    "\n",
    "        -- Create a new entity using the looked-up variant id.\n",
    "        INSERT INTO entity (variant_id, name)\n",
    "        VALUES (v_variant_id, v_entity_name)\n",
    "        RETURNING id INTO v_entity_id;\n",
    "\n",
    "        INSERT INTO entity_group_link (entity_id, entity_group_id)\n",
    "        VALUES (v_entity_id, v_entity_group_id);\n",
    "\n",
    "        -- Call generate_entity_state using the new entity name and time (0 in this example).\n",
    "        CALL generate_entity_state(v_entity_name, 0);\n",
    "    END LOOP;\n",
    "END;\n",
    "$$;"
   ]
  },
  {
   "cell_type": "markdown",
   "id": "eb0df3f5",
   "metadata": {
    "vscode": {
     "languageId": "sql"
    }
   },
   "source": [
    "## Delete Entity Group"
   ]
  },
  {
   "cell_type": "code",
   "execution_count": 1153,
   "id": "5755a2ef",
   "metadata": {
    "vscode": {
     "languageId": "sql"
    }
   },
   "outputs": [
    {
     "data": {
      "text/html": [
       "<span style=\"None\">Running query in &#x27;postgresql://notebook@localhost:5432/sahuagin&#x27;</span>"
      ],
      "text/plain": [
       "Running query in 'postgresql://notebook@localhost:5432/sahuagin'"
      ]
     },
     "metadata": {},
     "output_type": "display_data"
    },
    {
     "data": {
      "text/html": [
       "<table>\n",
       "    <thead>\n",
       "        <tr>\n",
       "        </tr>\n",
       "    </thead>\n",
       "    <tbody>\n",
       "    </tbody>\n",
       "</table>"
      ],
      "text/plain": [
       "++\n",
       "||\n",
       "++\n",
       "++"
      ]
     },
     "execution_count": 1153,
     "metadata": {},
     "output_type": "execute_result"
    }
   ],
   "source": [
    "%%sql\n",
    "\n",
    "CREATE OR REPLACE PROCEDURE delete_entity_group(\n",
    "    p_group_name      VARCHAR,\n",
    "    p_delete_entities BOOLEAN DEFAULT false\n",
    ")\n",
    "LANGUAGE plpgsql\n",
    "AS $$\n",
    "DECLARE\n",
    "    v_entity_group_id INTEGER;\n",
    "BEGIN\n",
    "    -- Retrieve the entity group id based on the given name.\n",
    "    SELECT id INTO v_entity_group_id\n",
    "    FROM entity_group\n",
    "    WHERE name = p_group_name;\n",
    "\n",
    "    IF NOT FOUND THEN\n",
    "        RAISE NOTICE 'Entity group \"%\" not found.', p_group_name;\n",
    "        RETURN;\n",
    "    END IF;\n",
    "\n",
    "    -- If the flag is true, delete all entities that are linked to this group.\n",
    "    IF p_delete_entities THEN\n",
    "        DELETE FROM entity\n",
    "        WHERE id IN (\n",
    "            SELECT entity_id\n",
    "            FROM entity_group_link\n",
    "            WHERE entity_group_id = v_entity_group_id\n",
    "        );\n",
    "    END IF;\n",
    "\n",
    "    -- Delete the entity group. The ON DELETE CASCADE on the foreign key\n",
    "    -- in entity_group_link will automatically remove any associated links.\n",
    "    DELETE FROM entity_group\n",
    "    WHERE id = v_entity_group_id;\n",
    "\n",
    "    RAISE NOTICE 'Entity group \"%\" deleted successfully.', p_group_name;\n",
    "END;\n",
    "$$;\n"
   ]
  },
  {
   "cell_type": "markdown",
   "id": "72f064af",
   "metadata": {},
   "source": [
    "## Get Entity Group Details"
   ]
  },
  {
   "cell_type": "code",
   "execution_count": 1154,
   "id": "1b354858",
   "metadata": {
    "vscode": {
     "languageId": "sql"
    }
   },
   "outputs": [
    {
     "data": {
      "text/html": [
       "<span style=\"None\">Running query in &#x27;postgresql://notebook@localhost:5432/sahuagin&#x27;</span>"
      ],
      "text/plain": [
       "Running query in 'postgresql://notebook@localhost:5432/sahuagin'"
      ]
     },
     "metadata": {},
     "output_type": "display_data"
    },
    {
     "data": {
      "text/html": [
       "<table>\n",
       "    <thead>\n",
       "        <tr>\n",
       "        </tr>\n",
       "    </thead>\n",
       "    <tbody>\n",
       "    </tbody>\n",
       "</table>"
      ],
      "text/plain": [
       "++\n",
       "||\n",
       "++\n",
       "++"
      ]
     },
     "execution_count": 1154,
     "metadata": {},
     "output_type": "execute_result"
    }
   ],
   "source": [
    "%%sql\n",
    "\n",
    "CREATE OR REPLACE FUNCTION get_entity_group_at_time(\n",
    "    p_group_name VARCHAR,\n",
    "    p_time       DOUBLE PRECISION\n",
    ")\n",
    "RETURNS TEXT\n",
    "LANGUAGE sql\n",
    "AS $$\n",
    "  WITH eg AS (\n",
    "    -- Find the entity group by its unique name.\n",
    "    SELECT id\n",
    "    FROM entity_group\n",
    "    WHERE name = p_group_name\n",
    "  ),\n",
    "  ent AS (\n",
    "    -- Get all entities in the group.\n",
    "    SELECT e.id, e.name\n",
    "    FROM entity e\n",
    "    JOIN entity_group_link egl ON e.id = egl.entity_id\n",
    "    WHERE egl.entity_group_id = (SELECT id FROM eg)\n",
    "  ),\n",
    "  est AS (\n",
    "    -- For each entity, get its entity_state at the given time.\n",
    "    SELECT e.id AS entity_id, e.name AS entity_name, es.id AS entity_state_id\n",
    "    FROM ent e\n",
    "    JOIN entity_state es ON es.entity_id = e.id\n",
    "    WHERE es.\"time\" = p_time\n",
    "  ),\n",
    "  state_details AS (\n",
    "    -- For each entity state, call get_entity_state to obtain the state rows.\n",
    "    -- Instead of aggregating to an array, we aggregate to a JSON object\n",
    "    -- keyed by the state's address (e.g. \"[[\"Gender\"]]\") and only include\n",
    "    -- the desired fields in the inner object.\n",
    "    SELECT \n",
    "      est.entity_name,\n",
    "      jsonb_object_agg(\n",
    "        vs.address,\n",
    "        jsonb_strip_nulls(\n",
    "          jsonb_build_object(\n",
    "            'numeric_value', vs.numeric_value,\n",
    "            'span', vs.span,\n",
    "            'activates', vs.activates,\n",
    "            'effected_by', vs.effected_by\n",
    "          )\n",
    "          ||\n",
    "          CASE \n",
    "            WHEN vs.locked THEN jsonb_build_object('locked', vs.locked)\n",
    "            ELSE '{}'::jsonb\n",
    "          END\n",
    "        )\n",
    "      ) AS details\n",
    "    FROM est\n",
    "    CROSS JOIN LATERAL (\n",
    "      SELECT *\n",
    "      FROM get_entity_state(est.entity_name, p_time)\n",
    "    ) AS vs\n",
    "    GROUP BY est.entity_name\n",
    "  )\n",
    "  -- Aggregate each entity’s JSON object under its name.\n",
    "  SELECT jsonb_pretty(\n",
    "           COALESCE(\n",
    "             jsonb_object_agg(entity_name, details),\n",
    "             '{}'::jsonb\n",
    "           )\n",
    "         )\n",
    "  FROM state_details;\n",
    "$$;"
   ]
  },
  {
   "cell_type": "markdown",
   "id": "dae6b54d",
   "metadata": {},
   "source": [
    "## Set Span as Sub-Variant Activating Span"
   ]
  },
  {
   "cell_type": "code",
   "execution_count": 1155,
   "id": "304f989c",
   "metadata": {
    "vscode": {
     "languageId": "sql"
    }
   },
   "outputs": [
    {
     "data": {
      "text/html": [
       "<span style=\"None\">Running query in &#x27;postgresql://notebook@localhost:5432/sahuagin&#x27;</span>"
      ],
      "text/plain": [
       "Running query in 'postgresql://notebook@localhost:5432/sahuagin'"
      ]
     },
     "metadata": {},
     "output_type": "display_data"
    },
    {
     "data": {
      "text/html": [
       "<table>\n",
       "    <thead>\n",
       "        <tr>\n",
       "        </tr>\n",
       "    </thead>\n",
       "    <tbody>\n",
       "    </tbody>\n",
       "</table>"
      ],
      "text/plain": [
       "++\n",
       "||\n",
       "++\n",
       "++"
      ]
     },
     "execution_count": 1155,
     "metadata": {},
     "output_type": "execute_result"
    }
   ],
   "source": [
    "%%sql\n",
    "\n",
    "CREATE OR REPLACE PROCEDURE set_subvariant_span(\n",
    "    p_span_id INT,\n",
    "    p_variant_id INT\n",
    ")\n",
    "LANGUAGE plpgsql\n",
    "AS $$\n",
    "BEGIN\n",
    "  INSERT INTO subvariant_span(span_id, variant_id)\n",
    "  VALUES (p_span_id, p_variant_id);\n",
    "END;\n",
    "$$;"
   ]
  },
  {
   "cell_type": "markdown",
   "id": "2f66cf52",
   "metadata": {},
   "source": [
    "## resolve_variant_path"
   ]
  },
  {
   "cell_type": "code",
   "execution_count": 1156,
   "id": "3746e2e7",
   "metadata": {
    "vscode": {
     "languageId": "sql"
    }
   },
   "outputs": [
    {
     "data": {
      "text/html": [
       "<span style=\"None\">Running query in &#x27;postgresql://notebook@localhost:5432/sahuagin&#x27;</span>"
      ],
      "text/plain": [
       "Running query in 'postgresql://notebook@localhost:5432/sahuagin'"
      ]
     },
     "metadata": {},
     "output_type": "display_data"
    },
    {
     "data": {
      "text/html": [
       "<table>\n",
       "    <thead>\n",
       "        <tr>\n",
       "        </tr>\n",
       "    </thead>\n",
       "    <tbody>\n",
       "    </tbody>\n",
       "</table>"
      ],
      "text/plain": [
       "++\n",
       "||\n",
       "++\n",
       "++"
      ]
     },
     "execution_count": 1156,
     "metadata": {},
     "output_type": "execute_result"
    }
   ],
   "source": [
    "%%sql\n",
    "\n",
    "CREATE OR REPLACE FUNCTION resolve_variant_path(\n",
    "    p_variant_id INT,\n",
    "    p_path JSON\n",
    ") RETURNS INT\n",
    "LANGUAGE plpgsql\n",
    "AS $$\n",
    "DECLARE\n",
    "    v_chain_length         INT;\n",
    "    v_current_variant      INT := p_variant_id;\n",
    "    v_parent_possible_attr  INT := NULL;\n",
    "    v_i                    INT;\n",
    "    v_step                 JSON;\n",
    "    v_attr_name            TEXT;\n",
    "    v_span_label           TEXT;\n",
    "    v_variant_attr_id INT;\n",
    "    v_subvariant_span_id INT;\n",
    "    v_sub_variant          INT;\n",
    "    v_possible_attr_id      INT;\n",
    "BEGIN\n",
    "    v_chain_length := json_array_length(p_path);\n",
    "    IF v_chain_length = 0 THEN\n",
    "       RAISE EXCEPTION 'Variant path is empty';\n",
    "    END IF;\n",
    "    \n",
    "    FOR v_i IN 0 .. v_chain_length - 1 LOOP\n",
    "        -- Extract the tuple [attribute name, span label] at index v_i.\n",
    "        v_step := p_path->v_i;\n",
    "        v_attr_name := v_step->>0;\n",
    "        v_span_label := v_step->>1;\n",
    "        \n",
    "        -- Look up the variant_attr by name in the current variant.\n",
    "        SELECT id\n",
    "          INTO v_variant_attr_id\n",
    "          FROM variant_attr\n",
    "         WHERE variant_id = v_current_variant\n",
    "           AND name = v_attr_name\n",
    "         ORDER BY id\n",
    "         LIMIT 1;\n",
    "        IF v_variant_attr_id IS NULL THEN\n",
    "            RAISE EXCEPTION 'Variant attribute \"%\" not found in variant % at path index %',\n",
    "                v_attr_name, v_current_variant, v_i;\n",
    "        END IF;\n",
    "        \n",
    "        -- Look up the subvariant_span record by joining with span using the span label.\n",
    "        -- Restrict the lookup to the current variant.\n",
    "        SELECT ss.id, ss.variant_id\n",
    "          INTO v_subvariant_span_id, v_sub_variant\n",
    "          FROM subvariant_span ss\n",
    "          JOIN span s ON s.id = ss.span_id\n",
    "         WHERE s.label = v_span_label\n",
    "           AND ss.variant_id = v_current_variant\n",
    "         ORDER BY ss.id\n",
    "         LIMIT 1;\n",
    "        IF v_subvariant_span_id IS NULL THEN\n",
    "            RAISE EXCEPTION 'No span with label \"%\" found for variant attribute \"%\" at path index %',\n",
    "                v_span_label, v_attr_name, v_i;\n",
    "        END IF;\n",
    "        \n",
    "        -- Resolve (or create) the unique possible_attr record for this step.\n",
    "        SELECT id\n",
    "          INTO v_possible_attr_id\n",
    "          FROM possible_attr\n",
    "         WHERE variant_attr_id = v_variant_attr_id\n",
    "           AND subvariant_span_id = v_subvariant_span_id\n",
    "           AND ((parent_possible_attr_id IS NULL AND v_parent_possible_attr IS NULL)\n",
    "                OR parent_possible_attr_id = v_parent_possible_attr)\n",
    "         LIMIT 1;\n",
    "        IF v_possible_attr_id IS NULL THEN\n",
    "            INSERT INTO possible_attr (variant_attr_id, subvariant_span_id, parent_possible_attr_id)\n",
    "            VALUES (v_variant_attr_id, v_subvariant_span_id, v_parent_possible_attr)\n",
    "            RETURNING id INTO v_possible_attr_id;\n",
    "        END IF;\n",
    "        \n",
    "        -- If not at the final step, a sub-variant must be activated.\n",
    "        IF v_i < v_chain_length - 1 THEN\n",
    "            IF v_sub_variant IS NULL THEN\n",
    "                RAISE EXCEPTION 'Chain impossible: attribute \"%\" with span label \"%\" at path index % does not activate a sub-variant',\n",
    "                    v_attr_name, v_span_label, v_i;\n",
    "            END IF;\n",
    "            v_current_variant := v_sub_variant;\n",
    "        END IF;\n",
    "        \n",
    "        -- Set up for the next iteration.\n",
    "        v_parent_possible_attr := v_possible_attr_id;\n",
    "    END LOOP;\n",
    "    \n",
    "    RETURN v_parent_possible_attr;\n",
    "END;\n",
    "$$;"
   ]
  },
  {
   "cell_type": "markdown",
   "id": "9016bee3",
   "metadata": {},
   "source": [
    "## get_possible_attr_chain"
   ]
  },
  {
   "cell_type": "code",
   "execution_count": 1157,
   "id": "f68ec9ac",
   "metadata": {
    "vscode": {
     "languageId": "sql"
    }
   },
   "outputs": [
    {
     "data": {
      "text/html": [
       "<span style=\"None\">Running query in &#x27;postgresql://notebook@localhost:5432/sahuagin&#x27;</span>"
      ],
      "text/plain": [
       "Running query in 'postgresql://notebook@localhost:5432/sahuagin'"
      ]
     },
     "metadata": {},
     "output_type": "display_data"
    },
    {
     "data": {
      "text/html": [
       "<table>\n",
       "    <thead>\n",
       "        <tr>\n",
       "        </tr>\n",
       "    </thead>\n",
       "    <tbody>\n",
       "    </tbody>\n",
       "</table>"
      ],
      "text/plain": [
       "++\n",
       "||\n",
       "++\n",
       "++"
      ]
     },
     "execution_count": 1157,
     "metadata": {},
     "output_type": "execute_result"
    }
   ],
   "source": [
    "%%sql\n",
    "\n",
    "CREATE OR REPLACE FUNCTION get_possible_attr_chain(\n",
    "    p_possible_attr_id INT\n",
    ") RETURNS TABLE(level INT, variant_attr_id INT, causation_index INT)\n",
    "LANGUAGE plpgsql\n",
    "AS $$\n",
    "BEGIN\n",
    "RETURN QUERY WITH RECURSIVE chain(lev, vav_id, va_id, ci, parent) AS (\n",
    "    -- Start at the leaf: assign level = 1.\n",
    "    SELECT 1,\n",
    "           v.id,\n",
    "           v.variant_attr_id,\n",
    "           va.causation_index,\n",
    "           v.parent_possible_attr_id\n",
    "      FROM possible_attr v\n",
    "      JOIN variant_attr va ON va.id = v.variant_attr_id\n",
    "     WHERE v.id = p_possible_attr_id\n",
    "    UNION ALL\n",
    "    -- Walk upward.\n",
    "    SELECT c.lev + 1,\n",
    "           v.id,\n",
    "           v.variant_attr_id,\n",
    "           va.causation_index,\n",
    "           v.parent_possible_attr_id\n",
    "      FROM possible_attr v\n",
    "      JOIN variant_attr va ON va.id = v.variant_attr_id\n",
    "      JOIN chain c ON v.id = c.parent\n",
    ")\n",
    "-- Reverse the order so that the top-most attribute is first.\n",
    "SELECT row_number() OVER (ORDER BY lev DESC) AS level,\n",
    "       va_id AS variant_attr_id,\n",
    "       ci AS causation_index\n",
    "  FROM chain\n",
    " ORDER BY level;\n",
    "END;\n",
    "$$;"
   ]
  },
  {
   "cell_type": "markdown",
   "id": "f825047e",
   "metadata": {},
   "source": [
    "## compare_possible_attr_order"
   ]
  },
  {
   "cell_type": "code",
   "execution_count": 1158,
   "id": "46ecb07c",
   "metadata": {
    "vscode": {
     "languageId": "sql"
    }
   },
   "outputs": [
    {
     "data": {
      "text/html": [
       "<span style=\"None\">Running query in &#x27;postgresql://notebook@localhost:5432/sahuagin&#x27;</span>"
      ],
      "text/plain": [
       "Running query in 'postgresql://notebook@localhost:5432/sahuagin'"
      ]
     },
     "metadata": {},
     "output_type": "display_data"
    },
    {
     "data": {
      "text/html": [
       "<table>\n",
       "    <thead>\n",
       "        <tr>\n",
       "        </tr>\n",
       "    </thead>\n",
       "    <tbody>\n",
       "    </tbody>\n",
       "</table>"
      ],
      "text/plain": [
       "++\n",
       "||\n",
       "++\n",
       "++"
      ]
     },
     "execution_count": 1158,
     "metadata": {},
     "output_type": "execute_result"
    }
   ],
   "source": [
    "%%sql\n",
    "\n",
    "CREATE OR REPLACE FUNCTION compare_possible_attr_order(\n",
    "    p_a INT,\n",
    "    p_b INT\n",
    ") RETURNS INT\n",
    "LANGUAGE plpgsql\n",
    "AS $$\n",
    "DECLARE\n",
    "    rec RECORD;\n",
    "BEGIN\n",
    "    FOR rec IN\n",
    "        SELECT COALESCE(a.level, b.level) AS level,\n",
    "               a.causation_index AS a_ci,\n",
    "               b.causation_index AS b_ci\n",
    "          FROM get_possible_attr_chain(p_a) a\n",
    "          FULL OUTER JOIN get_possible_attr_chain(p_b) b USING (level)\n",
    "         ORDER BY level\n",
    "    LOOP\n",
    "        -- If one chain is shorter, treat the missing value as \"less\".\n",
    "        IF rec.a_ci IS NULL AND rec.b_ci IS NOT NULL THEN\n",
    "            RETURN -1;\n",
    "        ELSIF rec.b_ci IS NULL AND rec.a_ci IS NOT NULL THEN\n",
    "            RETURN 1;\n",
    "        ELSIF rec.a_ci < rec.b_ci THEN\n",
    "            RETURN -1;\n",
    "        ELSIF rec.a_ci > rec.b_ci THEN\n",
    "            RETURN 1;\n",
    "        END IF;\n",
    "        -- Otherwise they are equal at this level; continue.\n",
    "    END LOOP;\n",
    "    RETURN 0;\n",
    "END;\n",
    "$$;"
   ]
  },
  {
   "cell_type": "markdown",
   "id": "0519943b",
   "metadata": {},
   "source": [
    "## Add Effect"
   ]
  },
  {
   "cell_type": "code",
   "execution_count": 1159,
   "id": "84561349",
   "metadata": {
    "vscode": {
     "languageId": "sql"
    }
   },
   "outputs": [
    {
     "data": {
      "text/html": [
       "<span style=\"None\">Running query in &#x27;postgresql://notebook@localhost:5432/sahuagin&#x27;</span>"
      ],
      "text/plain": [
       "Running query in 'postgresql://notebook@localhost:5432/sahuagin'"
      ]
     },
     "metadata": {},
     "output_type": "display_data"
    },
    {
     "data": {
      "text/html": [
       "<table>\n",
       "    <thead>\n",
       "        <tr>\n",
       "        </tr>\n",
       "    </thead>\n",
       "    <tbody>\n",
       "    </tbody>\n",
       "</table>"
      ],
      "text/plain": [
       "++\n",
       "||\n",
       "++\n",
       "++"
      ]
     },
     "execution_count": 1159,
     "metadata": {},
     "output_type": "execute_result"
    }
   ],
   "source": [
    "%%sql\n",
    "\n",
    "CREATE OR REPLACE PROCEDURE add_effect(\n",
    "    p_variant_id              INT,\n",
    "    p_effect_name             VARCHAR,\n",
    "    p_triggering_span_label   VARCHAR,\n",
    "    p_activating_variant_path JSON,\n",
    "    p_to_modify_variant_path  JSON\n",
    ")\n",
    "LANGUAGE plpgsql\n",
    "AS $$\n",
    "DECLARE\n",
    "    v_activating_possible_attr_id INT;\n",
    "    v_to_modify_possible_attr_id  INT;\n",
    "    v_triggering_span_id         INT;\n",
    "BEGIN\n",
    "    -- Resolve the terminal nodes for each branch.\n",
    "    v_activating_possible_attr_id := resolve_variant_path(p_variant_id, p_activating_variant_path);\n",
    "    v_to_modify_possible_attr_id  := resolve_variant_path(p_variant_id, p_to_modify_variant_path);\n",
    "    \n",
    "    -- Look up the triggering span id using the provided label.\n",
    "    SELECT s.id \n",
    "      INTO v_triggering_span_id\n",
    "      FROM span s\n",
    "      WHERE s.label = p_triggering_span_label\n",
    "        AND s.attribute_id = (\n",
    "            SELECT va.attribute_id\n",
    "              FROM variant_attr va\n",
    "              JOIN possible_attr pa ON pa.variant_attr_id = va.id\n",
    "             WHERE pa.id = v_activating_possible_attr_id\n",
    "             LIMIT 1\n",
    "        )\n",
    "      LIMIT 1;\n",
    "    IF NOT FOUND THEN\n",
    "        RAISE EXCEPTION 'Triggering span with label \"%\" not found', p_triggering_span_label;\n",
    "    END IF;\n",
    "    \n",
    "    -- Insert the new effect.\n",
    "    INSERT INTO effect(\n",
    "        name, \n",
    "        variant_id, \n",
    "        span_id, \n",
    "        to_modify_possible_attr_id, \n",
    "        activating_possible_attr_id\n",
    "    )\n",
    "    VALUES (\n",
    "        p_effect_name,\n",
    "        p_variant_id,\n",
    "        v_triggering_span_id,\n",
    "        v_to_modify_possible_attr_id,\n",
    "        v_activating_possible_attr_id\n",
    "    );\n",
    "END;\n",
    "$$;\n"
   ]
  },
  {
   "cell_type": "markdown",
   "id": "c626b942",
   "metadata": {},
   "source": [
    "## get_variant_id"
   ]
  },
  {
   "cell_type": "code",
   "execution_count": 1160,
   "id": "5d99f9ce",
   "metadata": {
    "vscode": {
     "languageId": "sql"
    }
   },
   "outputs": [
    {
     "data": {
      "text/html": [
       "<span style=\"None\">Running query in &#x27;postgresql://notebook@localhost:5432/sahuagin&#x27;</span>"
      ],
      "text/plain": [
       "Running query in 'postgresql://notebook@localhost:5432/sahuagin'"
      ]
     },
     "metadata": {},
     "output_type": "display_data"
    },
    {
     "data": {
      "text/html": [
       "<table>\n",
       "    <thead>\n",
       "        <tr>\n",
       "        </tr>\n",
       "    </thead>\n",
       "    <tbody>\n",
       "    </tbody>\n",
       "</table>"
      ],
      "text/plain": [
       "++\n",
       "||\n",
       "++\n",
       "++"
      ]
     },
     "execution_count": 1160,
     "metadata": {},
     "output_type": "execute_result"
    }
   ],
   "source": [
    "%%sql\n",
    "\n",
    "CREATE OR REPLACE FUNCTION get_variant_id(\n",
    "    p_variant_name VARCHAR\n",
    ") RETURNS INTEGER\n",
    "LANGUAGE plpgsql\n",
    "AS $$\n",
    "DECLARE\n",
    "    variant_id INTEGER;\n",
    "BEGIN\n",
    "    SELECT id\n",
    "      INTO variant_id\n",
    "      FROM variant\n",
    "     WHERE name = p_variant_name;\n",
    "     \n",
    "    IF NOT FOUND THEN\n",
    "        RAISE EXCEPTION 'Variant \"%\" not found', variant_id;\n",
    "    END IF;\n",
    "    \n",
    "    RETURN variant_id;\n",
    "END;\n",
    "$$;"
   ]
  },
  {
   "cell_type": "markdown",
   "id": "b1d26c99",
   "metadata": {},
   "source": [
    "## get_attribute_id"
   ]
  },
  {
   "cell_type": "code",
   "execution_count": 1161,
   "id": "73c4e249",
   "metadata": {
    "vscode": {
     "languageId": "sql"
    }
   },
   "outputs": [
    {
     "data": {
      "text/html": [
       "<span style=\"None\">Running query in &#x27;postgresql://notebook@localhost:5432/sahuagin&#x27;</span>"
      ],
      "text/plain": [
       "Running query in 'postgresql://notebook@localhost:5432/sahuagin'"
      ]
     },
     "metadata": {},
     "output_type": "display_data"
    },
    {
     "data": {
      "text/html": [
       "<table>\n",
       "    <thead>\n",
       "        <tr>\n",
       "        </tr>\n",
       "    </thead>\n",
       "    <tbody>\n",
       "    </tbody>\n",
       "</table>"
      ],
      "text/plain": [
       "++\n",
       "||\n",
       "++\n",
       "++"
      ]
     },
     "execution_count": 1161,
     "metadata": {},
     "output_type": "execute_result"
    }
   ],
   "source": [
    "%%sql\n",
    "\n",
    "CREATE OR REPLACE FUNCTION get_attribute_id(\n",
    "    p_attribute_name VARCHAR\n",
    ") RETURNS INTEGER\n",
    "LANGUAGE plpgsql\n",
    "AS $$\n",
    "DECLARE\n",
    "    attribute_id INTEGER;\n",
    "BEGIN\n",
    "    SELECT id\n",
    "      INTO attribute_id\n",
    "      FROM attribute\n",
    "     WHERE name = p_attribute_name;\n",
    "     \n",
    "    IF NOT FOUND THEN\n",
    "        RAISE EXCEPTION 'Attribute \"%\" not found', p_attribute_name;\n",
    "    END IF;\n",
    "    \n",
    "    RETURN attribute_id;\n",
    "END;\n",
    "$$;"
   ]
  },
  {
   "cell_type": "markdown",
   "id": "a5368893",
   "metadata": {},
   "source": [
    "## get_span_id"
   ]
  },
  {
   "cell_type": "code",
   "execution_count": 1162,
   "id": "32ffb87d",
   "metadata": {
    "vscode": {
     "languageId": "sql"
    }
   },
   "outputs": [
    {
     "data": {
      "text/html": [
       "<span style=\"None\">Running query in &#x27;postgresql://notebook@localhost:5432/sahuagin&#x27;</span>"
      ],
      "text/plain": [
       "Running query in 'postgresql://notebook@localhost:5432/sahuagin'"
      ]
     },
     "metadata": {},
     "output_type": "display_data"
    },
    {
     "data": {
      "text/html": [
       "<table>\n",
       "    <thead>\n",
       "        <tr>\n",
       "        </tr>\n",
       "    </thead>\n",
       "    <tbody>\n",
       "    </tbody>\n",
       "</table>"
      ],
      "text/plain": [
       "++\n",
       "||\n",
       "++\n",
       "++"
      ]
     },
     "execution_count": 1162,
     "metadata": {},
     "output_type": "execute_result"
    }
   ],
   "source": [
    "%%sql\n",
    "\n",
    "CREATE OR REPLACE FUNCTION get_span_id(\n",
    "    p_attribute_name VARCHAR,\n",
    "    p_span_type      attribute_type,\n",
    "    p_span_label     VARCHAR\n",
    ") RETURNS INTEGER\n",
    "LANGUAGE plpgsql\n",
    "AS $$\n",
    "DECLARE\n",
    "    span_id INTEGER;\n",
    "BEGIN\n",
    "    SELECT s.id\n",
    "      INTO span_id\n",
    "      FROM span s\n",
    "      JOIN attribute a ON a.id = s.attribute_id\n",
    "     WHERE s.label = p_span_label\n",
    "       AND a.name = p_attribute_name\n",
    "       AND s.type = p_span_type;\n",
    "\n",
    "    IF NOT FOUND THEN\n",
    "        RAISE EXCEPTION 'Span on attribute \"%\" of type \"%\" and label \"%\" not found', p_attribute_name, p_span_type, p_span_label;\n",
    "    END IF;\n",
    "\n",
    "    RETURN span_id;\n",
    "END;\n",
    "$$;"
   ]
  },
  {
   "cell_type": "markdown",
   "id": "711fc67e",
   "metadata": {},
   "source": [
    "## get_effect_id"
   ]
  },
  {
   "cell_type": "code",
   "execution_count": 1163,
   "id": "788c60d8",
   "metadata": {
    "vscode": {
     "languageId": "sql"
    }
   },
   "outputs": [
    {
     "data": {
      "text/html": [
       "<span style=\"None\">Running query in &#x27;postgresql://notebook@localhost:5432/sahuagin&#x27;</span>"
      ],
      "text/plain": [
       "Running query in 'postgresql://notebook@localhost:5432/sahuagin'"
      ]
     },
     "metadata": {},
     "output_type": "display_data"
    },
    {
     "data": {
      "text/html": [
       "<table>\n",
       "    <thead>\n",
       "        <tr>\n",
       "        </tr>\n",
       "    </thead>\n",
       "    <tbody>\n",
       "    </tbody>\n",
       "</table>"
      ],
      "text/plain": [
       "++\n",
       "||\n",
       "++\n",
       "++"
      ]
     },
     "execution_count": 1163,
     "metadata": {},
     "output_type": "execute_result"
    }
   ],
   "source": [
    "%%sql\n",
    "\n",
    "CREATE OR REPLACE FUNCTION get_effect_id(\n",
    "    p_variant_name   VARCHAR,\n",
    "    p_effect_name    VARCHAR\n",
    ") RETURNS INTEGER\n",
    "LANGUAGE plpgsql\n",
    "AS $$\n",
    "DECLARE\n",
    "    effect_id INTEGER;\n",
    "BEGIN\n",
    "    SELECT e.id\n",
    "      INTO effect_id\n",
    "      FROM effect e\n",
    "      JOIN variant vt ON vt.id = e.variant_id\n",
    "     WHERE vt.name = p_variant_name\n",
    "       AND e.name = p_effect_name;\n",
    "\n",
    "    IF NOT FOUND THEN\n",
    "        RAISE EXCEPTION 'effect \"%\" in variant \"%\" not found', p_effect_name, p_variant_name;\n",
    "    END IF;\n",
    "\n",
    "    RETURN effect_id;\n",
    "END;\n",
    "$$;"
   ]
  },
  {
   "cell_type": "markdown",
   "id": "dac0d2aa",
   "metadata": {},
   "source": [
    "## Add Parameter Delta Effect to Variation"
   ]
  },
  {
   "cell_type": "code",
   "execution_count": 1164,
   "id": "44d7fc64",
   "metadata": {
    "vscode": {
     "languageId": "sql"
    }
   },
   "outputs": [
    {
     "data": {
      "text/html": [
       "<span style=\"None\">Running query in &#x27;postgresql://notebook@localhost:5432/sahuagin&#x27;</span>"
      ],
      "text/plain": [
       "Running query in 'postgresql://notebook@localhost:5432/sahuagin'"
      ]
     },
     "metadata": {},
     "output_type": "display_data"
    },
    {
     "data": {
      "text/html": [
       "<table>\n",
       "    <thead>\n",
       "        <tr>\n",
       "        </tr>\n",
       "    </thead>\n",
       "    <tbody>\n",
       "    </tbody>\n",
       "</table>"
      ],
      "text/plain": [
       "++\n",
       "||\n",
       "++\n",
       "++"
      ]
     },
     "execution_count": 1164,
     "metadata": {},
     "output_type": "execute_result"
    }
   ],
   "source": [
    "%%sql\n",
    "\n",
    "CREATE OR REPLACE PROCEDURE add_continuous_effect_to_span(\n",
    "    p_effect_name             VARCHAR,\n",
    "    p_variant_name            VARCHAR,\n",
    "    p_triggering_span_label   VARCHAR,\n",
    "    p_activating_variant_path JSON,\n",
    "    p_to_modify_variant_path  JSON,\n",
    "    p_delta_mode              DOUBLE PRECISION,\n",
    "    p_delta_conc              DOUBLE PRECISION,\n",
    "    p_delta_skew              DOUBLE PRECISION\n",
    ")\n",
    "LANGUAGE plpgsql\n",
    "AS $$\n",
    "DECLARE\n",
    "    v_variant_id                   INT;\n",
    "    v_activating_possible_attr_id   INT;\n",
    "    v_to_modify_possible_attr_id    INT;\n",
    "    v_triggering_span_id           INT;\n",
    "    v_effect_id                    INT;\n",
    "BEGIN\n",
    "    v_variant_id := get_variant_id(p_variant_name);\n",
    "    v_activating_possible_attr_id := resolve_variant_path(v_variant_id, p_activating_variant_path);\n",
    "    v_to_modify_possible_attr_id  := resolve_variant_path(v_variant_id, p_to_modify_variant_path);\n",
    "\n",
    "    -- Resolve the triggering span id using the provided label.\n",
    "    SELECT s.id \n",
    "      INTO v_triggering_span_id\n",
    "      FROM span s\n",
    "      WHERE s.label = p_triggering_span_label\n",
    "        AND s.attribute_id = (\n",
    "              SELECT va.attribute_id\n",
    "                FROM variant_attr va\n",
    "                JOIN possible_attr pa ON pa.variant_attr_id = va.id\n",
    "               WHERE pa.id = v_activating_possible_attr_id\n",
    "              LIMIT 1\n",
    "          )\n",
    "      LIMIT 1;\n",
    "    IF NOT FOUND THEN\n",
    "       RAISE EXCEPTION 'Triggering span with label \"%\" not found for the activating branch', p_triggering_span_label;\n",
    "    END IF;\n",
    "\n",
    "    -- Insert the effect record.\n",
    "    INSERT INTO effect(\n",
    "        name, \n",
    "        variant_id, \n",
    "        span_id, \n",
    "        to_modify_possible_attr_id, \n",
    "        activating_possible_attr_id\n",
    "    )\n",
    "    VALUES (\n",
    "        p_effect_name,\n",
    "        v_variant_id,\n",
    "        v_triggering_span_id,\n",
    "        v_to_modify_possible_attr_id,\n",
    "        v_activating_possible_attr_id\n",
    "    )\n",
    "    RETURNING id INTO v_effect_id;\n",
    "\n",
    "    -- Insert the continuous effect details.\n",
    "    INSERT INTO variation_continuous_attr(effect_id, delta_mode, delta_conc, delta_skew)\n",
    "    VALUES (v_effect_id, p_delta_mode, p_delta_conc, p_delta_skew);\n",
    "END;\n",
    "$$;"
   ]
  },
  {
   "cell_type": "markdown",
   "id": "e0d152c5",
   "metadata": {},
   "source": [
    "## Add Discrete Effect to Span"
   ]
  },
  {
   "cell_type": "code",
   "execution_count": 1165,
   "id": "4a53b3f6",
   "metadata": {
    "vscode": {
     "languageId": "sql"
    }
   },
   "outputs": [
    {
     "data": {
      "text/html": [
       "<span style=\"None\">Running query in &#x27;postgresql://notebook@localhost:5432/sahuagin&#x27;</span>"
      ],
      "text/plain": [
       "Running query in 'postgresql://notebook@localhost:5432/sahuagin'"
      ]
     },
     "metadata": {},
     "output_type": "display_data"
    },
    {
     "data": {
      "text/html": [
       "<table>\n",
       "    <thead>\n",
       "        <tr>\n",
       "        </tr>\n",
       "    </thead>\n",
       "    <tbody>\n",
       "    </tbody>\n",
       "</table>"
      ],
      "text/plain": [
       "++\n",
       "||\n",
       "++\n",
       "++"
      ]
     },
     "execution_count": 1165,
     "metadata": {},
     "output_type": "execute_result"
    }
   ],
   "source": [
    "%%sql\n",
    "\n",
    "CREATE OR REPLACE PROCEDURE add_discrete_effect_to_span(\n",
    "    p_effect_name             VARCHAR,\n",
    "    p_variant_name            VARCHAR,\n",
    "    p_triggering_span_label   VARCHAR,\n",
    "    p_activating_variant_path JSON,\n",
    "    p_to_modify_variant_path  JSON,\n",
    "    p_changes                 JSON  -- Expecting an array of tuples: [[label, weight], ...]\n",
    ")\n",
    "LANGUAGE plpgsql\n",
    "AS $$\n",
    "DECLARE\n",
    "    v_variant_id                 INT;\n",
    "    v_activating_possible_attr_id INT;\n",
    "    v_to_modify_possible_attr_id  INT;\n",
    "    v_triggering_span_id         INT;\n",
    "    v_effect_id                  INT;\n",
    "    v_attribute_id               INT;\n",
    "    v_attribute_name             VARCHAR;\n",
    "    v_span_id                    INT;\n",
    "    rec                          JSON;\n",
    "    v_label                      TEXT;\n",
    "    v_weight                     DOUBLE PRECISION;\n",
    "BEGIN\n",
    "    v_variant_id := get_variant_id(p_variant_name);\n",
    "    v_activating_possible_attr_id := resolve_variant_path(v_variant_id, p_activating_variant_path);\n",
    "    v_to_modify_possible_attr_id  := resolve_variant_path(v_variant_id, p_to_modify_variant_path);\n",
    "\n",
    "    -- Resolve the triggering span id using the provided label.\n",
    "    SELECT s.id \n",
    "      INTO v_triggering_span_id\n",
    "      FROM span s\n",
    "      WHERE s.label = p_triggering_span_label\n",
    "        AND s.attribute_id = (\n",
    "              SELECT va.attribute_id\n",
    "                FROM variant_attr va\n",
    "                JOIN possible_attr pa ON pa.variant_attr_id = va.id\n",
    "               WHERE pa.id = v_activating_possible_attr_id\n",
    "              LIMIT 1\n",
    "          )\n",
    "      LIMIT 1;\n",
    "    IF NOT FOUND THEN\n",
    "       RAISE EXCEPTION 'Triggering span with label \"%\" not found for the activating branch', p_triggering_span_label;\n",
    "    END IF;\n",
    "\n",
    "    -- Insert the effect record.\n",
    "    INSERT INTO effect(\n",
    "        name, \n",
    "        variant_id, \n",
    "        span_id, \n",
    "        to_modify_possible_attr_id, \n",
    "        activating_possible_attr_id\n",
    "    )\n",
    "    VALUES (\n",
    "        p_effect_name,\n",
    "        v_variant_id,\n",
    "        v_triggering_span_id,\n",
    "        v_to_modify_possible_attr_id,\n",
    "        v_activating_possible_attr_id\n",
    "    )\n",
    "    RETURNING id INTO v_effect_id;\n",
    "\n",
    "    -- Retrieve the attribute associated with the to-modify branch.\n",
    "    SELECT a.id, a.name\n",
    "      INTO v_attribute_id, v_attribute_name\n",
    "      FROM possible_attr pa\n",
    "      JOIN variant_attr va ON va.id = pa.variant_attr_id\n",
    "      JOIN attribute a ON a.id = va.attribute_id\n",
    "     WHERE pa.id = v_to_modify_possible_attr_id\n",
    "     LIMIT 1;\n",
    "\n",
    "    --------------------------------------------------------------------\n",
    "    -- Process each change tuple in p_changes.\n",
    "    --   * If the span does not exist: create it and mark it as activated.\n",
    "    --   * If it exists and the weight is 0: mark it as inactive.\n",
    "    --   * If it exists and the weight is nonzero: add a delta weight.\n",
    "    --------------------------------------------------------------------\n",
    "    IF p_changes IS NOT NULL THEN\n",
    "       FOR rec IN SELECT * FROM json_array_elements(p_changes) LOOP\n",
    "          -- Each tuple should be [label, weight]\n",
    "          v_label  := rec->>0;\n",
    "          v_weight := (rec->>1)::double precision;\n",
    "\n",
    "          SELECT id \n",
    "            INTO v_span_id\n",
    "            FROM span\n",
    "           WHERE attribute_id = v_attribute_id\n",
    "             AND label = v_label\n",
    "             AND type = 'discrete'\n",
    "           LIMIT 1;\n",
    "\n",
    "          IF NOT FOUND THEN\n",
    "             -- Span does not exist: create it.\n",
    "             INSERT INTO span(\n",
    "                 attribute_id, \n",
    "                 label, \n",
    "                 type, \n",
    "                 is_pinned, \n",
    "                 weight, \n",
    "                 max_value, \n",
    "                 min_value\n",
    "             )\n",
    "             VALUES (v_attribute_id, v_label, 'discrete', false, v_weight, NULL, NULL)\n",
    "             RETURNING id INTO v_span_id;\n",
    "\n",
    "             -- Record that this span is activated by the effect.\n",
    "             INSERT INTO variation_activated_span(effect_id, span_id)\n",
    "             VALUES (v_effect_id, v_span_id);\n",
    "          ELSE\n",
    "             IF v_weight = 0 THEN\n",
    "                -- Mark the span as inactive for this effect.\n",
    "                INSERT INTO variation_inactive_span(effect_id, span_id)\n",
    "                VALUES (v_effect_id, v_span_id);\n",
    "             ELSE\n",
    "                -- Record a delta–weight effect.\n",
    "                INSERT INTO variation_delta_weight(effect_id, span_id, delta_weight)\n",
    "                VALUES (v_effect_id, v_span_id, v_weight);\n",
    "             END IF;\n",
    "          END IF;\n",
    "       END LOOP;\n",
    "    END IF;\n",
    "END;\n",
    "$$;\n"
   ]
  },
  {
   "cell_type": "markdown",
   "id": "58191248-9e13-40e6-8942-7914c89c99a0",
   "metadata": {
    "jp-MarkdownHeadingCollapsed": true
   },
   "source": [
    "# Inspect Schema"
   ]
  },
  {
   "cell_type": "markdown",
   "id": "f21806f2-88ed-46b4-aa46-763733989735",
   "metadata": {},
   "source": [
    "## List Tables"
   ]
  },
  {
   "cell_type": "code",
   "execution_count": 1166,
   "id": "073e64ae-9d52-4ad0-ac5b-836d98f60deb",
   "metadata": {},
   "outputs": [
    {
     "data": {
      "text/html": [
       "<span style=\"None\">Running query in &#x27;postgresql://notebook@localhost:5432/sahuagin&#x27;</span>"
      ],
      "text/plain": [
       "Running query in 'postgresql://notebook@localhost:5432/sahuagin'"
      ]
     },
     "metadata": {},
     "output_type": "display_data"
    },
    {
     "data": {
      "text/html": [
       "<span style=\"color: green\">18 rows affected.</span>"
      ],
      "text/plain": [
       "18 rows affected."
      ]
     },
     "metadata": {},
     "output_type": "display_data"
    },
    {
     "data": {
      "text/html": [
       "<table>\n",
       "    <thead>\n",
       "        <tr>\n",
       "            <th>name</th>\n",
       "        </tr>\n",
       "    </thead>\n",
       "    <tbody>\n",
       "        <tr>\n",
       "            <td>attribute</td>\n",
       "        </tr>\n",
       "        <tr>\n",
       "            <td>debug_log</td>\n",
       "        </tr>\n",
       "        <tr>\n",
       "            <td>effect</td>\n",
       "        </tr>\n",
       "        <tr>\n",
       "            <td>entity</td>\n",
       "        </tr>\n",
       "        <tr>\n",
       "            <td>entity_group</td>\n",
       "        </tr>\n",
       "        <tr>\n",
       "            <td>entity_group_link</td>\n",
       "        </tr>\n",
       "        <tr>\n",
       "            <td>entity_state</td>\n",
       "        </tr>\n",
       "        <tr>\n",
       "            <td>entity_varattr_value</td>\n",
       "        </tr>\n",
       "        <tr>\n",
       "            <td>evav_lock</td>\n",
       "        </tr>\n",
       "        <tr>\n",
       "            <td>possible_attr</td>\n",
       "        </tr>\n",
       "        <tr>\n",
       "            <td>span</td>\n",
       "        </tr>\n",
       "        <tr>\n",
       "            <td>subvariant_span</td>\n",
       "        </tr>\n",
       "        <tr>\n",
       "            <td>variant</td>\n",
       "        </tr>\n",
       "        <tr>\n",
       "            <td>variant_attr</td>\n",
       "        </tr>\n",
       "        <tr>\n",
       "            <td>variation_activated_span</td>\n",
       "        </tr>\n",
       "        <tr>\n",
       "            <td>variation_continuous_attr</td>\n",
       "        </tr>\n",
       "        <tr>\n",
       "            <td>variation_delta_weight</td>\n",
       "        </tr>\n",
       "        <tr>\n",
       "            <td>variation_inactive_span</td>\n",
       "        </tr>\n",
       "    </tbody>\n",
       "</table>"
      ],
      "text/plain": [
       "+---------------------------+\n",
       "|            name           |\n",
       "+---------------------------+\n",
       "|         attribute         |\n",
       "|         debug_log         |\n",
       "|           effect          |\n",
       "|           entity          |\n",
       "|        entity_group       |\n",
       "|     entity_group_link     |\n",
       "|        entity_state       |\n",
       "|    entity_varattr_value   |\n",
       "|         evav_lock         |\n",
       "|       possible_attr       |\n",
       "|            span           |\n",
       "|      subvariant_span      |\n",
       "|          variant          |\n",
       "|        variant_attr       |\n",
       "|  variation_activated_span |\n",
       "| variation_continuous_attr |\n",
       "|   variation_delta_weight  |\n",
       "|  variation_inactive_span  |\n",
       "+---------------------------+"
      ]
     },
     "execution_count": 1166,
     "metadata": {},
     "output_type": "execute_result"
    }
   ],
   "source": [
    "%%sql\n",
    "\n",
    "SELECT tablename AS name\n",
    "FROM pg_catalog.pg_tables\n",
    "WHERE schemaname NOT IN ('pg_catalog', 'information_schema')\n",
    "ORDER BY schemaname, tablename;"
   ]
  },
  {
   "cell_type": "markdown",
   "id": "616e5ce1",
   "metadata": {},
   "source": [
    "## List Procedures"
   ]
  },
  {
   "cell_type": "code",
   "execution_count": 1167,
   "id": "c42ce3b8",
   "metadata": {
    "vscode": {
     "languageId": "sql"
    }
   },
   "outputs": [
    {
     "data": {
      "text/html": [
       "<span style=\"None\">Running query in &#x27;postgresql://notebook@localhost:5432/sahuagin&#x27;</span>"
      ],
      "text/plain": [
       "Running query in 'postgresql://notebook@localhost:5432/sahuagin'"
      ]
     },
     "metadata": {},
     "output_type": "display_data"
    },
    {
     "data": {
      "text/html": [
       "<span style=\"color: green\">18 rows affected.</span>"
      ],
      "text/plain": [
       "18 rows affected."
      ]
     },
     "metadata": {},
     "output_type": "display_data"
    },
    {
     "data": {
      "text/html": [
       "<table>\n",
       "    <thead>\n",
       "        <tr>\n",
       "            <th>name</th>\n",
       "            <th>arguments</th>\n",
       "        </tr>\n",
       "    </thead>\n",
       "    <tbody>\n",
       "        <tr>\n",
       "            <td>add_cont_span_to_attr</td>\n",
       "            <td>IN p_attribute_id integer, IN p_label character varying, IN p_new_min double precision, IN p_new_max double precision</td>\n",
       "        </tr>\n",
       "        <tr>\n",
       "            <td>add_continuous_attribute</td>\n",
       "            <td>IN p_name character varying, IN p_min_value double precision, IN p_mode_value double precision, IN p_max_value double precision, IN p_concentration double precision, IN p_skew double precision, IN p_decimals integer, IN p_units character varying, IN p_spans json DEFAULT NULL::json</td>\n",
       "        </tr>\n",
       "        <tr>\n",
       "            <td>add_continuous_effect_to_span</td>\n",
       "            <td>IN p_effect_name character varying, IN p_variant_name character varying, IN p_triggering_span_label character varying, IN p_activating_variant_path json, IN p_to_modify_variant_path json, IN p_delta_mode double precision, IN p_delta_conc double precision, IN p_delta_skew double precision</td>\n",
       "        </tr>\n",
       "        <tr>\n",
       "            <td>add_disc_span_to_attr</td>\n",
       "            <td>IN p_attribute_id integer, IN p_label character varying</td>\n",
       "        </tr>\n",
       "        <tr>\n",
       "            <td>add_discrete_attribute</td>\n",
       "            <td>IN in_name character varying, IN in_spans json</td>\n",
       "        </tr>\n",
       "        <tr>\n",
       "            <td>add_discrete_effect_to_span</td>\n",
       "            <td>IN p_effect_name character varying, IN p_variant_name character varying, IN p_triggering_span_label character varying, IN p_activating_variant_path json, IN p_to_modify_variant_path json, IN p_changes json</td>\n",
       "        </tr>\n",
       "        <tr>\n",
       "            <td>add_effect</td>\n",
       "            <td>IN p_variant_id integer, IN p_effect_name character varying, IN p_triggering_span_label character varying, IN p_activating_variant_path json, IN p_to_modify_variant_path json</td>\n",
       "        </tr>\n",
       "        <tr>\n",
       "            <td>add_entity</td>\n",
       "            <td>IN in_name character varying, IN in_variant_id integer</td>\n",
       "        </tr>\n",
       "        <tr>\n",
       "            <td>add_variant</td>\n",
       "            <td>IN in_variant_name character varying, IN in_attr_keys json</td>\n",
       "        </tr>\n",
       "        <tr>\n",
       "            <td>delete_continuous_attribute</td>\n",
       "            <td>IN p_attribute_name character varying</td>\n",
       "        </tr>\n",
       "        <tr>\n",
       "            <td>delete_discrete_attribute</td>\n",
       "            <td>IN p_attribute_name character varying</td>\n",
       "        </tr>\n",
       "        <tr>\n",
       "            <td>delete_entity_group</td>\n",
       "            <td>IN p_group_name character varying, IN p_delete_entities boolean DEFAULT false</td>\n",
       "        </tr>\n",
       "        <tr>\n",
       "            <td>delete_variant</td>\n",
       "            <td>IN p_variant_name character varying</td>\n",
       "        </tr>\n",
       "        <tr>\n",
       "            <td>generate_entity_group</td>\n",
       "            <td>IN p_variant_name character varying, IN p_group_name character varying, IN p_entity_name_template character varying, IN p_num_entities integer</td>\n",
       "        </tr>\n",
       "        <tr>\n",
       "            <td>generate_entity_state</td>\n",
       "            <td>IN p_entity_name character varying, IN p_time double precision</td>\n",
       "        </tr>\n",
       "        <tr>\n",
       "            <td>link_attr_to_variant</td>\n",
       "            <td>IN p_variant_id integer, IN p_attribute_id integer, IN p_name character varying, IN p_position integer DEFAULT NULL::integer</td>\n",
       "        </tr>\n",
       "        <tr>\n",
       "            <td>modify_disc_span_weight</td>\n",
       "            <td>IN p_span_id integer, IN p_new_weight double precision</td>\n",
       "        </tr>\n",
       "        <tr>\n",
       "            <td>set_subvariant_span</td>\n",
       "            <td>IN p_span_id integer, IN p_variant_id integer</td>\n",
       "        </tr>\n",
       "    </tbody>\n",
       "</table>"
      ],
      "text/plain": [
       "+-------------------------------+--------------------------------------------------------------------------------------------------------------------------------------------------------------------------------------------------------------------------------------------------------------------------------------------------+\n",
       "|              name             |                                                                                                                                            arguments                                                                                                                                             |\n",
       "+-------------------------------+--------------------------------------------------------------------------------------------------------------------------------------------------------------------------------------------------------------------------------------------------------------------------------------------------+\n",
       "|     add_cont_span_to_attr     |                                                                                      IN p_attribute_id integer, IN p_label character varying, IN p_new_min double precision, IN p_new_max double precision                                                                                       |\n",
       "|    add_continuous_attribute   |    IN p_name character varying, IN p_min_value double precision, IN p_mode_value double precision, IN p_max_value double precision, IN p_concentration double precision, IN p_skew double precision, IN p_decimals integer, IN p_units character varying, IN p_spans json DEFAULT NULL::json     |\n",
       "| add_continuous_effect_to_span | IN p_effect_name character varying, IN p_variant_name character varying, IN p_triggering_span_label character varying, IN p_activating_variant_path json, IN p_to_modify_variant_path json, IN p_delta_mode double precision, IN p_delta_conc double precision, IN p_delta_skew double precision |\n",
       "|     add_disc_span_to_attr     |                                                                                                                     IN p_attribute_id integer, IN p_label character varying                                                                                                                      |\n",
       "|     add_discrete_attribute    |                                                                                                                          IN in_name character varying, IN in_spans json                                                                                                                          |\n",
       "|  add_discrete_effect_to_span  |                                          IN p_effect_name character varying, IN p_variant_name character varying, IN p_triggering_span_label character varying, IN p_activating_variant_path json, IN p_to_modify_variant_path json, IN p_changes json                                           |\n",
       "|           add_effect          |                                                          IN p_variant_id integer, IN p_effect_name character varying, IN p_triggering_span_label character varying, IN p_activating_variant_path json, IN p_to_modify_variant_path json                                                          |\n",
       "|           add_entity          |                                                                                                                      IN in_name character varying, IN in_variant_id integer                                                                                                                      |\n",
       "|          add_variant          |                                                                                                                    IN in_variant_name character varying, IN in_attr_keys json                                                                                                                    |\n",
       "|  delete_continuous_attribute  |                                                                                                                              IN p_attribute_name character varying                                                                                                                               |\n",
       "|   delete_discrete_attribute   |                                                                                                                              IN p_attribute_name character varying                                                                                                                               |\n",
       "|      delete_entity_group      |                                                                                                          IN p_group_name character varying, IN p_delete_entities boolean DEFAULT false                                                                                                           |\n",
       "|         delete_variant        |                                                                                                                               IN p_variant_name character varying                                                                                                                                |\n",
       "|     generate_entity_group     |                                                                          IN p_variant_name character varying, IN p_group_name character varying, IN p_entity_name_template character varying, IN p_num_entities integer                                                                          |\n",
       "|     generate_entity_state     |                                                                                                                  IN p_entity_name character varying, IN p_time double precision                                                                                                                  |\n",
       "|      link_attr_to_variant     |                                                                                   IN p_variant_id integer, IN p_attribute_id integer, IN p_name character varying, IN p_position integer DEFAULT NULL::integer                                                                                   |\n",
       "|    modify_disc_span_weight    |                                                                                                                      IN p_span_id integer, IN p_new_weight double precision                                                                                                                      |\n",
       "|      set_subvariant_span      |                                                                                                                          IN p_span_id integer, IN p_variant_id integer                                                                                                                           |\n",
       "+-------------------------------+--------------------------------------------------------------------------------------------------------------------------------------------------------------------------------------------------------------------------------------------------------------------------------------------------+"
      ]
     },
     "execution_count": 1167,
     "metadata": {},
     "output_type": "execute_result"
    }
   ],
   "source": [
    "%%sql\n",
    "\n",
    "SELECT proname AS name, pg_catalog.pg_get_function_arguments(p.oid) AS arguments\n",
    "FROM pg_catalog.pg_proc p\n",
    "JOIN pg_catalog.pg_namespace n ON n.oid = p.pronamespace\n",
    "WHERE p.prokind = 'p' AND n.nspname = 'public'\n",
    "ORDER BY n.nspname, proname;"
   ]
  },
  {
   "cell_type": "markdown",
   "id": "957f44b0-fe34-4820-8b89-296ee8526be0",
   "metadata": {},
   "source": [
    "## List Functions"
   ]
  },
  {
   "cell_type": "code",
   "execution_count": 1168,
   "id": "b1f77168-da9a-4198-80ea-2eaf89a5ef2b",
   "metadata": {},
   "outputs": [
    {
     "data": {
      "text/html": [
       "<span style=\"None\">Running query in &#x27;postgresql://notebook@localhost:5432/sahuagin&#x27;</span>"
      ],
      "text/plain": [
       "Running query in 'postgresql://notebook@localhost:5432/sahuagin'"
      ]
     },
     "metadata": {},
     "output_type": "display_data"
    },
    {
     "data": {
      "text/html": [
       "<span style=\"color: green\">22 rows affected.</span>"
      ],
      "text/plain": [
       "22 rows affected."
      ]
     },
     "metadata": {},
     "output_type": "display_data"
    },
    {
     "data": {
      "text/html": [
       "<table>\n",
       "    <thead>\n",
       "        <tr>\n",
       "            <th>name</th>\n",
       "            <th>arguments</th>\n",
       "            <th>return_type</th>\n",
       "        </tr>\n",
       "    </thead>\n",
       "    <tbody>\n",
       "        <tr>\n",
       "            <td>check_delete_possible_attr_from_effect</td>\n",
       "            <td></td>\n",
       "            <td>trigger</td>\n",
       "        </tr>\n",
       "        <tr>\n",
       "            <td>check_delete_possible_attr_from_evav</td>\n",
       "            <td></td>\n",
       "            <td>trigger</td>\n",
       "        </tr>\n",
       "        <tr>\n",
       "            <td>compare_possible_attr_order</td>\n",
       "            <td>p_a integer, p_b integer</td>\n",
       "            <td>integer</td>\n",
       "        </tr>\n",
       "        <tr>\n",
       "            <td>debug_log</td>\n",
       "            <td>p_procedure_name character varying, p_log_message text</td>\n",
       "            <td>void</td>\n",
       "        </tr>\n",
       "        <tr>\n",
       "            <td>delete_orphaned_span</td>\n",
       "            <td></td>\n",
       "            <td>trigger</td>\n",
       "        </tr>\n",
       "        <tr>\n",
       "            <td>fn_same_slot</td>\n",
       "            <td>p_candidate_id integer, p_reference_id integer</td>\n",
       "            <td>boolean</td>\n",
       "        </tr>\n",
       "        <tr>\n",
       "            <td>gamma_rng</td>\n",
       "            <td>shape double precision</td>\n",
       "            <td>double precision</td>\n",
       "        </tr>\n",
       "        <tr>\n",
       "            <td>get_attribute_id</td>\n",
       "            <td>p_attribute_name character varying</td>\n",
       "            <td>integer</td>\n",
       "        </tr>\n",
       "        <tr>\n",
       "            <td>get_continuous_attribute</td>\n",
       "            <td>p_attribute_name character varying</td>\n",
       "            <td>TABLE(name character varying, type attribute_type, min double precision, mode double precision, max double precision, concentration double precision, skew double precision, units character varying, decimals integer, span_label character varying, span_min double precision, span_max double precision)</td>\n",
       "        </tr>\n",
       "        <tr>\n",
       "            <td>get_discrete_attribute</td>\n",
       "            <td>p_attribute_name character varying</td>\n",
       "            <td>TABLE(attribute character varying, type attribute_type, span_label character varying, span_weight double precision, is_pinned boolean)</td>\n",
       "        </tr>\n",
       "        <tr>\n",
       "            <td>get_effect_id</td>\n",
       "            <td>p_variant_name character varying, p_effect_name character varying</td>\n",
       "            <td>integer</td>\n",
       "        </tr>\n",
       "        <tr>\n",
       "            <td>get_entity_group_at_time</td>\n",
       "            <td>p_group_name character varying, p_time double precision</td>\n",
       "            <td>text</td>\n",
       "        </tr>\n",
       "        <tr>\n",
       "            <td>get_entity_state</td>\n",
       "            <td>p_entity_name character varying, p_time double precision</td>\n",
       "            <td>TABLE(index bigint, address text, activates json, effected_by json, numeric_value double precision, span character varying, locked boolean)</td>\n",
       "        </tr>\n",
       "        <tr>\n",
       "            <td>get_possible_attr_chain</td>\n",
       "            <td>p_possible_attr_id integer</td>\n",
       "            <td>TABLE(level integer, variant_attr_id integer, causation_index integer)</td>\n",
       "        </tr>\n",
       "        <tr>\n",
       "            <td>get_span_id</td>\n",
       "            <td>p_attribute_name character varying, p_span_type attribute_type, p_span_label character varying</td>\n",
       "            <td>integer</td>\n",
       "        </tr>\n",
       "        <tr>\n",
       "            <td>get_variant_id</td>\n",
       "            <td>p_variant_name character varying</td>\n",
       "            <td>integer</td>\n",
       "        </tr>\n",
       "        <tr>\n",
       "            <td>get_variant_page</td>\n",
       "            <td>p_variant_name character varying, p_page integer, p_page_size integer</td>\n",
       "            <td>TABLE(index bigint, address text, activates json, effected_by json)</td>\n",
       "        </tr>\n",
       "        <tr>\n",
       "            <td>redistribute_unpinned_spans</td>\n",
       "            <td>p_attribute_id integer, p_modified_span_id integer, p_new_weight double precision, p_old_weight double precision</td>\n",
       "            <td>void</td>\n",
       "        </tr>\n",
       "        <tr>\n",
       "            <td>resolve_variant_path</td>\n",
       "            <td>p_variant_id integer, p_path json</td>\n",
       "            <td>integer</td>\n",
       "        </tr>\n",
       "        <tr>\n",
       "            <td>roll_continuous_varattr</td>\n",
       "            <td>p_possible_attr_id integer, p_entity_state_id integer, p_exclude_span_id integer</td>\n",
       "            <td>TABLE(chosen_span_id integer, chosen_value double precision)</td>\n",
       "        </tr>\n",
       "        <tr>\n",
       "            <td>roll_discrete_varattr</td>\n",
       "            <td>p_possible_attr_id integer, p_entity_state_id integer, p_exclude_span_id integer</td>\n",
       "            <td>integer</td>\n",
       "        </tr>\n",
       "        <tr>\n",
       "            <td>weighted_random</td>\n",
       "            <td>min_val double precision, max_val double precision, mode_val double precision, skew double precision DEFAULT 0, concentration double precision DEFAULT 4</td>\n",
       "            <td>double precision</td>\n",
       "        </tr>\n",
       "    </tbody>\n",
       "</table>"
      ],
      "text/plain": [
       "+----------------------------------------+----------------------------------------------------------------------------------------------------------------------------------------------------------+-------------------------------------------------------------------------------------------------------------------------------------------------------------------------------------------------------------------------------------------------------------------------------------------------------------+\n",
       "|                  name                  |                                                                        arguments                                                                         |                                                                                                                                                 return_type                                                                                                                                                 |\n",
       "+----------------------------------------+----------------------------------------------------------------------------------------------------------------------------------------------------------+-------------------------------------------------------------------------------------------------------------------------------------------------------------------------------------------------------------------------------------------------------------------------------------------------------------+\n",
       "| check_delete_possible_attr_from_effect |                                                                                                                                                          |                                                                                                                                                   trigger                                                                                                                                                   |\n",
       "|  check_delete_possible_attr_from_evav  |                                                                                                                                                          |                                                                                                                                                   trigger                                                                                                                                                   |\n",
       "|      compare_possible_attr_order       |                                                                 p_a integer, p_b integer                                                                 |                                                                                                                                                   integer                                                                                                                                                   |\n",
       "|               debug_log                |                                                  p_procedure_name character varying, p_log_message text                                                  |                                                                                                                                                     void                                                                                                                                                    |\n",
       "|          delete_orphaned_span          |                                                                                                                                                          |                                                                                                                                                   trigger                                                                                                                                                   |\n",
       "|              fn_same_slot              |                                                      p_candidate_id integer, p_reference_id integer                                                      |                                                                                                                                                   boolean                                                                                                                                                   |\n",
       "|               gamma_rng                |                                                                  shape double precision                                                                  |                                                                                                                                               double precision                                                                                                                                              |\n",
       "|            get_attribute_id            |                                                            p_attribute_name character varying                                                            |                                                                                                                                                   integer                                                                                                                                                   |\n",
       "|        get_continuous_attribute        |                                                            p_attribute_name character varying                                                            | TABLE(name character varying, type attribute_type, min double precision, mode double precision, max double precision, concentration double precision, skew double precision, units character varying, decimals integer, span_label character varying, span_min double precision, span_max double precision) |\n",
       "|         get_discrete_attribute         |                                                            p_attribute_name character varying                                                            |                                                                                    TABLE(attribute character varying, type attribute_type, span_label character varying, span_weight double precision, is_pinned boolean)                                                                                   |\n",
       "|             get_effect_id              |                                            p_variant_name character varying, p_effect_name character varying                                             |                                                                                                                                                   integer                                                                                                                                                   |\n",
       "|        get_entity_group_at_time        |                                                 p_group_name character varying, p_time double precision                                                  |                                                                                                                                                     text                                                                                                                                                    |\n",
       "|            get_entity_state            |                                                 p_entity_name character varying, p_time double precision                                                 |                                                                                 TABLE(index bigint, address text, activates json, effected_by json, numeric_value double precision, span character varying, locked boolean)                                                                                 |\n",
       "|        get_possible_attr_chain         |                                                                p_possible_attr_id integer                                                                |                                                                                                                    TABLE(level integer, variant_attr_id integer, causation_index integer)                                                                                                                   |\n",
       "|              get_span_id               |                              p_attribute_name character varying, p_span_type attribute_type, p_span_label character varying                              |                                                                                                                                                   integer                                                                                                                                                   |\n",
       "|             get_variant_id             |                                                             p_variant_name character varying                                                             |                                                                                                                                                   integer                                                                                                                                                   |\n",
       "|            get_variant_page            |                                          p_variant_name character varying, p_page integer, p_page_size integer                                           |                                                                                                                     TABLE(index bigint, address text, activates json, effected_by json)                                                                                                                     |\n",
       "|      redistribute_unpinned_spans       |                     p_attribute_id integer, p_modified_span_id integer, p_new_weight double precision, p_old_weight double precision                     |                                                                                                                                                     void                                                                                                                                                    |\n",
       "|          resolve_variant_path          |                                                            p_variant_id integer, p_path json                                                             |                                                                                                                                                   integer                                                                                                                                                   |\n",
       "|        roll_continuous_varattr         |                                     p_possible_attr_id integer, p_entity_state_id integer, p_exclude_span_id integer                                     |                                                                                                                         TABLE(chosen_span_id integer, chosen_value double precision)                                                                                                                        |\n",
       "|         roll_discrete_varattr          |                                     p_possible_attr_id integer, p_entity_state_id integer, p_exclude_span_id integer                                     |                                                                                                                                                   integer                                                                                                                                                   |\n",
       "|            weighted_random             | min_val double precision, max_val double precision, mode_val double precision, skew double precision DEFAULT 0, concentration double precision DEFAULT 4 |                                                                                                                                               double precision                                                                                                                                              |\n",
       "+----------------------------------------+----------------------------------------------------------------------------------------------------------------------------------------------------------+-------------------------------------------------------------------------------------------------------------------------------------------------------------------------------------------------------------------------------------------------------------------------------------------------------------+"
      ]
     },
     "execution_count": 1168,
     "metadata": {},
     "output_type": "execute_result"
    }
   ],
   "source": [
    "%%sql\n",
    "\n",
    "SELECT proname AS name,\n",
    "       pg_catalog.pg_get_function_arguments(p.oid) AS arguments,\n",
    "       pg_catalog.pg_get_function_result(p.oid) AS return_type\n",
    "FROM pg_catalog.pg_proc p\n",
    "JOIN pg_catalog.pg_namespace n ON n.oid = p.pronamespace\n",
    "WHERE p.prokind = 'f' AND n.nspname = 'public'\n",
    "ORDER BY n.nspname, proname;"
   ]
  },
  {
   "cell_type": "markdown",
   "id": "4e6a623f-dc54-4e65-92db-f4d8293e4d8e",
   "metadata": {},
   "source": [
    "## List Indices"
   ]
  },
  {
   "cell_type": "code",
   "execution_count": 1169,
   "id": "d96079b6-f4e1-40c5-849d-d258592de5f8",
   "metadata": {},
   "outputs": [
    {
     "data": {
      "text/html": [
       "<span style=\"None\">Running query in &#x27;postgresql://notebook@localhost:5432/sahuagin&#x27;</span>"
      ],
      "text/plain": [
       "Running query in 'postgresql://notebook@localhost:5432/sahuagin'"
      ]
     },
     "metadata": {},
     "output_type": "display_data"
    },
    {
     "data": {
      "text/html": [
       "<span style=\"color: green\">66 rows affected.</span>"
      ],
      "text/plain": [
       "66 rows affected."
      ]
     },
     "metadata": {},
     "output_type": "display_data"
    },
    {
     "data": {
      "text/html": [
       "<table>\n",
       "    <thead>\n",
       "        <tr>\n",
       "            <th>index_name</th>\n",
       "            <th>table_name</th>\n",
       "        </tr>\n",
       "    </thead>\n",
       "    <tbody>\n",
       "        <tr>\n",
       "            <td>attribute_name_key</td>\n",
       "            <td>attribute</td>\n",
       "        </tr>\n",
       "        <tr>\n",
       "            <td>attribute_pkey</td>\n",
       "            <td>attribute</td>\n",
       "        </tr>\n",
       "        <tr>\n",
       "            <td>idx_attribute_name</td>\n",
       "            <td>attribute</td>\n",
       "        </tr>\n",
       "        <tr>\n",
       "            <td>debug_log_pkey</td>\n",
       "            <td>debug_log</td>\n",
       "        </tr>\n",
       "        <tr>\n",
       "            <td>effect_pkey</td>\n",
       "            <td>effect</td>\n",
       "        </tr>\n",
       "        <tr>\n",
       "            <td>idx_effect_activating_psattr</td>\n",
       "            <td>effect</td>\n",
       "        </tr>\n",
       "        <tr>\n",
       "            <td>idx_effect_to_modify_psattr</td>\n",
       "            <td>effect</td>\n",
       "        </tr>\n",
       "        <tr>\n",
       "            <td>unique_effect_name_within_variant</td>\n",
       "            <td>effect</td>\n",
       "        </tr>\n",
       "        <tr>\n",
       "            <td>entity_name_key</td>\n",
       "            <td>entity</td>\n",
       "        </tr>\n",
       "        <tr>\n",
       "            <td>entity_pkey</td>\n",
       "            <td>entity</td>\n",
       "        </tr>\n",
       "        <tr>\n",
       "            <td>entity_group_name_key</td>\n",
       "            <td>entity_group</td>\n",
       "        </tr>\n",
       "        <tr>\n",
       "            <td>entity_group_pkey</td>\n",
       "            <td>entity_group</td>\n",
       "        </tr>\n",
       "        <tr>\n",
       "            <td>entity_group_link_pkey</td>\n",
       "            <td>entity_group_link</td>\n",
       "        </tr>\n",
       "        <tr>\n",
       "            <td>idx_entity_group_link_group_id_entity_id</td>\n",
       "            <td>entity_group_link</td>\n",
       "        </tr>\n",
       "        <tr>\n",
       "            <td>unique_link_entity_group</td>\n",
       "            <td>entity_group_link</td>\n",
       "        </tr>\n",
       "        <tr>\n",
       "            <td>entity_state_pkey</td>\n",
       "            <td>entity_state</td>\n",
       "        </tr>\n",
       "        <tr>\n",
       "            <td>idx_entity_state_entity_id</td>\n",
       "            <td>entity_state</td>\n",
       "        </tr>\n",
       "        <tr>\n",
       "            <td>idx_entity_state_entity_time</td>\n",
       "            <td>entity_state</td>\n",
       "        </tr>\n",
       "        <tr>\n",
       "            <td>unique_entity_time</td>\n",
       "            <td>entity_state</td>\n",
       "        </tr>\n",
       "        <tr>\n",
       "            <td>entity_varattr_value_pkey</td>\n",
       "            <td>entity_varattr_value</td>\n",
       "        </tr>\n",
       "        <tr>\n",
       "            <td>idx_entity_varattr_value_entity_state_id</td>\n",
       "            <td>entity_varattr_value</td>\n",
       "        </tr>\n",
       "        <tr>\n",
       "            <td>idx_evav_state_attr_span</td>\n",
       "            <td>entity_varattr_value</td>\n",
       "        </tr>\n",
       "        <tr>\n",
       "            <td>idx_evav_state_vaid</td>\n",
       "            <td>entity_varattr_value</td>\n",
       "        </tr>\n",
       "        <tr>\n",
       "            <td>unique_state_possible_attr</td>\n",
       "            <td>entity_varattr_value</td>\n",
       "        </tr>\n",
       "        <tr>\n",
       "            <td>evav_lock_pkey</td>\n",
       "            <td>evav_lock</td>\n",
       "        </tr>\n",
       "        <tr>\n",
       "            <td>idx_evav_lock_locked</td>\n",
       "            <td>evav_lock</td>\n",
       "        </tr>\n",
       "        <tr>\n",
       "            <td>idx_evav_lock_locked_locking</td>\n",
       "            <td>evav_lock</td>\n",
       "        </tr>\n",
       "        <tr>\n",
       "            <td>idx_evav_lock_locking</td>\n",
       "            <td>evav_lock</td>\n",
       "        </tr>\n",
       "        <tr>\n",
       "            <td>unique_evav_lock</td>\n",
       "            <td>evav_lock</td>\n",
       "        </tr>\n",
       "        <tr>\n",
       "            <td>idx_possible_attr_parent</td>\n",
       "            <td>possible_attr</td>\n",
       "        </tr>\n",
       "        <tr>\n",
       "            <td>idx_possible_attr_va_pss</td>\n",
       "            <td>possible_attr</td>\n",
       "        </tr>\n",
       "        <tr>\n",
       "            <td>idx_possible_attr_vaid</td>\n",
       "            <td>possible_attr</td>\n",
       "        </tr>\n",
       "        <tr>\n",
       "            <td>idx_possible_attr_variant_attr</td>\n",
       "            <td>possible_attr</td>\n",
       "        </tr>\n",
       "        <tr>\n",
       "            <td>possible_attr_pkey</td>\n",
       "            <td>possible_attr</td>\n",
       "        </tr>\n",
       "        <tr>\n",
       "            <td>unique_possible_attr</td>\n",
       "            <td>possible_attr</td>\n",
       "        </tr>\n",
       "        <tr>\n",
       "            <td>idx_span_attr_type</td>\n",
       "            <td>span</td>\n",
       "        </tr>\n",
       "        <tr>\n",
       "            <td>idx_span_attr_type_pinned</td>\n",
       "            <td>span</td>\n",
       "        </tr>\n",
       "        <tr>\n",
       "            <td>idx_span_attr_type_pinned_wl</td>\n",
       "            <td>span</td>\n",
       "        </tr>\n",
       "        <tr>\n",
       "            <td>idx_span_attribute_id</td>\n",
       "            <td>span</td>\n",
       "        </tr>\n",
       "        <tr>\n",
       "            <td>idx_span_attribute_type</td>\n",
       "            <td>span</td>\n",
       "        </tr>\n",
       "        <tr>\n",
       "            <td>span_pkey</td>\n",
       "            <td>span</td>\n",
       "        </tr>\n",
       "        <tr>\n",
       "            <td>uq_span_label_within_attribute</td>\n",
       "            <td>span</td>\n",
       "        </tr>\n",
       "        <tr>\n",
       "            <td>idx_subvariant_span_span_id</td>\n",
       "            <td>subvariant_span</td>\n",
       "        </tr>\n",
       "        <tr>\n",
       "            <td>subvariant_span_pkey</td>\n",
       "            <td>subvariant_span</td>\n",
       "        </tr>\n",
       "        <tr>\n",
       "            <td>unique_variant_span</td>\n",
       "            <td>subvariant_span</td>\n",
       "        </tr>\n",
       "        <tr>\n",
       "            <td>idx_variant_name</td>\n",
       "            <td>variant</td>\n",
       "        </tr>\n",
       "        <tr>\n",
       "            <td>variant_name_key</td>\n",
       "            <td>variant</td>\n",
       "        </tr>\n",
       "        <tr>\n",
       "            <td>variant_pkey</td>\n",
       "            <td>variant</td>\n",
       "        </tr>\n",
       "        <tr>\n",
       "            <td>idx_variant_attr_attribute</td>\n",
       "            <td>variant_attr</td>\n",
       "        </tr>\n",
       "        <tr>\n",
       "            <td>idx_variant_attr_variant</td>\n",
       "            <td>variant_attr</td>\n",
       "        </tr>\n",
       "        <tr>\n",
       "            <td>idx_variant_attr_variant_causation</td>\n",
       "            <td>variant_attr</td>\n",
       "        </tr>\n",
       "        <tr>\n",
       "            <td>unique_variant_index</td>\n",
       "            <td>variant_attr</td>\n",
       "        </tr>\n",
       "        <tr>\n",
       "            <td>unique_variant_name</td>\n",
       "            <td>variant_attr</td>\n",
       "        </tr>\n",
       "        <tr>\n",
       "            <td>variant_attr_pkey</td>\n",
       "            <td>variant_attr</td>\n",
       "        </tr>\n",
       "        <tr>\n",
       "            <td>idx_variation_activated_span_effect</td>\n",
       "            <td>variation_activated_span</td>\n",
       "        </tr>\n",
       "        <tr>\n",
       "            <td>idx_variation_activated_span_effid_spanid</td>\n",
       "            <td>variation_activated_span</td>\n",
       "        </tr>\n",
       "        <tr>\n",
       "            <td>variation_activated_span_pkey</td>\n",
       "            <td>variation_activated_span</td>\n",
       "        </tr>\n",
       "        <tr>\n",
       "            <td>idx_var_cont_variation</td>\n",
       "            <td>variation_continuous_attr</td>\n",
       "        </tr>\n",
       "        <tr>\n",
       "            <td>variation_continuous_attr_pkey</td>\n",
       "            <td>variation_continuous_attr</td>\n",
       "        </tr>\n",
       "        <tr>\n",
       "            <td>idx_variation_delta</td>\n",
       "            <td>variation_delta_weight</td>\n",
       "        </tr>\n",
       "        <tr>\n",
       "            <td>idx_variation_delta_weight_effect</td>\n",
       "            <td>variation_delta_weight</td>\n",
       "        </tr>\n",
       "        <tr>\n",
       "            <td>idx_variation_delta_weight_effid_spanid</td>\n",
       "            <td>variation_delta_weight</td>\n",
       "        </tr>\n",
       "        <tr>\n",
       "            <td>variation_delta_weight_pkey</td>\n",
       "            <td>variation_delta_weight</td>\n",
       "        </tr>\n",
       "        <tr>\n",
       "            <td>idx_variation_inactive</td>\n",
       "            <td>variation_inactive_span</td>\n",
       "        </tr>\n",
       "        <tr>\n",
       "            <td>idx_variation_inactive_span_effect</td>\n",
       "            <td>variation_inactive_span</td>\n",
       "        </tr>\n",
       "        <tr>\n",
       "            <td>variation_inactive_span_pkey</td>\n",
       "            <td>variation_inactive_span</td>\n",
       "        </tr>\n",
       "    </tbody>\n",
       "</table>"
      ],
      "text/plain": [
       "+-------------------------------------------+---------------------------+\n",
       "|                 index_name                |         table_name        |\n",
       "+-------------------------------------------+---------------------------+\n",
       "|             attribute_name_key            |         attribute         |\n",
       "|               attribute_pkey              |         attribute         |\n",
       "|             idx_attribute_name            |         attribute         |\n",
       "|               debug_log_pkey              |         debug_log         |\n",
       "|                effect_pkey                |           effect          |\n",
       "|        idx_effect_activating_psattr       |           effect          |\n",
       "|        idx_effect_to_modify_psattr        |           effect          |\n",
       "|     unique_effect_name_within_variant     |           effect          |\n",
       "|              entity_name_key              |           entity          |\n",
       "|                entity_pkey                |           entity          |\n",
       "|           entity_group_name_key           |        entity_group       |\n",
       "|             entity_group_pkey             |        entity_group       |\n",
       "|           entity_group_link_pkey          |     entity_group_link     |\n",
       "|  idx_entity_group_link_group_id_entity_id |     entity_group_link     |\n",
       "|          unique_link_entity_group         |     entity_group_link     |\n",
       "|             entity_state_pkey             |        entity_state       |\n",
       "|         idx_entity_state_entity_id        |        entity_state       |\n",
       "|        idx_entity_state_entity_time       |        entity_state       |\n",
       "|             unique_entity_time            |        entity_state       |\n",
       "|         entity_varattr_value_pkey         |    entity_varattr_value   |\n",
       "|  idx_entity_varattr_value_entity_state_id |    entity_varattr_value   |\n",
       "|          idx_evav_state_attr_span         |    entity_varattr_value   |\n",
       "|            idx_evav_state_vaid            |    entity_varattr_value   |\n",
       "|         unique_state_possible_attr        |    entity_varattr_value   |\n",
       "|               evav_lock_pkey              |         evav_lock         |\n",
       "|            idx_evav_lock_locked           |         evav_lock         |\n",
       "|        idx_evav_lock_locked_locking       |         evav_lock         |\n",
       "|           idx_evav_lock_locking           |         evav_lock         |\n",
       "|              unique_evav_lock             |         evav_lock         |\n",
       "|          idx_possible_attr_parent         |       possible_attr       |\n",
       "|          idx_possible_attr_va_pss         |       possible_attr       |\n",
       "|           idx_possible_attr_vaid          |       possible_attr       |\n",
       "|       idx_possible_attr_variant_attr      |       possible_attr       |\n",
       "|             possible_attr_pkey            |       possible_attr       |\n",
       "|            unique_possible_attr           |       possible_attr       |\n",
       "|             idx_span_attr_type            |            span           |\n",
       "|         idx_span_attr_type_pinned         |            span           |\n",
       "|        idx_span_attr_type_pinned_wl       |            span           |\n",
       "|           idx_span_attribute_id           |            span           |\n",
       "|          idx_span_attribute_type          |            span           |\n",
       "|                 span_pkey                 |            span           |\n",
       "|       uq_span_label_within_attribute      |            span           |\n",
       "|        idx_subvariant_span_span_id        |      subvariant_span      |\n",
       "|            subvariant_span_pkey           |      subvariant_span      |\n",
       "|            unique_variant_span            |      subvariant_span      |\n",
       "|              idx_variant_name             |          variant          |\n",
       "|              variant_name_key             |          variant          |\n",
       "|                variant_pkey               |          variant          |\n",
       "|         idx_variant_attr_attribute        |        variant_attr       |\n",
       "|          idx_variant_attr_variant         |        variant_attr       |\n",
       "|     idx_variant_attr_variant_causation    |        variant_attr       |\n",
       "|            unique_variant_index           |        variant_attr       |\n",
       "|            unique_variant_name            |        variant_attr       |\n",
       "|             variant_attr_pkey             |        variant_attr       |\n",
       "|    idx_variation_activated_span_effect    |  variation_activated_span |\n",
       "| idx_variation_activated_span_effid_spanid |  variation_activated_span |\n",
       "|       variation_activated_span_pkey       |  variation_activated_span |\n",
       "|           idx_var_cont_variation          | variation_continuous_attr |\n",
       "|       variation_continuous_attr_pkey      | variation_continuous_attr |\n",
       "|            idx_variation_delta            |   variation_delta_weight  |\n",
       "|     idx_variation_delta_weight_effect     |   variation_delta_weight  |\n",
       "|  idx_variation_delta_weight_effid_spanid  |   variation_delta_weight  |\n",
       "|        variation_delta_weight_pkey        |   variation_delta_weight  |\n",
       "|           idx_variation_inactive          |  variation_inactive_span  |\n",
       "|     idx_variation_inactive_span_effect    |  variation_inactive_span  |\n",
       "|        variation_inactive_span_pkey       |  variation_inactive_span  |\n",
       "+-------------------------------------------+---------------------------+"
      ]
     },
     "execution_count": 1169,
     "metadata": {},
     "output_type": "execute_result"
    }
   ],
   "source": [
    "%%sql\n",
    "\n",
    "SELECT i.relname AS index_name, t.relname AS table_name\n",
    "FROM pg_catalog.pg_index ix\n",
    "JOIN pg_catalog.pg_class i ON i.oid = ix.indexrelid\n",
    "JOIN pg_catalog.pg_class t ON t.oid = ix.indrelid\n",
    "JOIN pg_catalog.pg_namespace n ON n.oid = t.relnamespace\n",
    "WHERE n.nspname = 'public'\n",
    "ORDER BY n.nspname, t.relname, i.relname;"
   ]
  },
  {
   "cell_type": "markdown",
   "id": "c38e15f5",
   "metadata": {},
   "source": [
    "# Testing"
   ]
  },
  {
   "cell_type": "markdown",
   "id": "8b9887ef",
   "metadata": {},
   "source": [
    "## Gender Attribute"
   ]
  },
  {
   "cell_type": "markdown",
   "id": "2559e307",
   "metadata": {},
   "source": [
    "### Delete Gender Attribute"
   ]
  },
  {
   "cell_type": "code",
   "execution_count": 1170,
   "id": "688e5c5b",
   "metadata": {
    "vscode": {
     "languageId": "sql"
    }
   },
   "outputs": [
    {
     "data": {
      "text/html": [
       "<span style=\"None\">Running query in &#x27;postgresql://notebook@localhost:5432/sahuagin&#x27;</span>"
      ],
      "text/plain": [
       "Running query in 'postgresql://notebook@localhost:5432/sahuagin'"
      ]
     },
     "metadata": {},
     "output_type": "display_data"
    },
    {
     "data": {
      "text/html": [
       "<table>\n",
       "    <thead>\n",
       "        <tr>\n",
       "        </tr>\n",
       "    </thead>\n",
       "    <tbody>\n",
       "    </tbody>\n",
       "</table>"
      ],
      "text/plain": [
       "++\n",
       "||\n",
       "++\n",
       "++"
      ]
     },
     "execution_count": 1170,
     "metadata": {},
     "output_type": "execute_result"
    }
   ],
   "source": [
    "%%sql\n",
    "\n",
    "CALL delete_discrete_attribute('Gender');"
   ]
  },
  {
   "cell_type": "markdown",
   "id": "5882d3db",
   "metadata": {},
   "source": [
    "### Add Gender Attribute"
   ]
  },
  {
   "cell_type": "code",
   "execution_count": 1171,
   "id": "f3113cde",
   "metadata": {
    "vscode": {
     "languageId": "sql"
    }
   },
   "outputs": [
    {
     "data": {
      "text/html": [
       "<span style=\"None\">Running query in &#x27;postgresql://notebook@localhost:5432/sahuagin&#x27;</span>"
      ],
      "text/plain": [
       "Running query in 'postgresql://notebook@localhost:5432/sahuagin'"
      ]
     },
     "metadata": {},
     "output_type": "display_data"
    },
    {
     "data": {
      "text/html": [
       "<table>\n",
       "    <thead>\n",
       "        <tr>\n",
       "        </tr>\n",
       "    </thead>\n",
       "    <tbody>\n",
       "    </tbody>\n",
       "</table>"
      ],
      "text/plain": [
       "++\n",
       "||\n",
       "++\n",
       "++"
      ]
     },
     "execution_count": 1171,
     "metadata": {},
     "output_type": "execute_result"
    }
   ],
   "source": [
    "%%sql\n",
    "\n",
    "call add_discrete_attribute('Gender', '[\n",
    "    [\"Male\", 1], \n",
    "    [\"Female\", 1]\n",
    "]');"
   ]
  },
  {
   "cell_type": "markdown",
   "id": "9e927fa0",
   "metadata": {},
   "source": [
    "### View Gender Attribute"
   ]
  },
  {
   "cell_type": "code",
   "execution_count": 1172,
   "id": "a782ec68",
   "metadata": {
    "vscode": {
     "languageId": "sql"
    }
   },
   "outputs": [
    {
     "data": {
      "text/html": [
       "<span style=\"None\">Running query in &#x27;postgresql://notebook@localhost:5432/sahuagin&#x27;</span>"
      ],
      "text/plain": [
       "Running query in 'postgresql://notebook@localhost:5432/sahuagin'"
      ]
     },
     "metadata": {},
     "output_type": "display_data"
    },
    {
     "data": {
      "text/html": [
       "<span style=\"color: green\">2 rows affected.</span>"
      ],
      "text/plain": [
       "2 rows affected."
      ]
     },
     "metadata": {},
     "output_type": "display_data"
    },
    {
     "data": {
      "text/html": [
       "<table>\n",
       "    <thead>\n",
       "        <tr>\n",
       "            <th>attribute</th>\n",
       "            <th>type</th>\n",
       "            <th>span_label</th>\n",
       "            <th>span_weight</th>\n",
       "            <th>is_pinned</th>\n",
       "        </tr>\n",
       "    </thead>\n",
       "    <tbody>\n",
       "        <tr>\n",
       "            <td>Gender</td>\n",
       "            <td>discrete</td>\n",
       "            <td>Female</td>\n",
       "            <td>0.5</td>\n",
       "            <td>False</td>\n",
       "        </tr>\n",
       "        <tr>\n",
       "            <td>Gender</td>\n",
       "            <td>discrete</td>\n",
       "            <td>Male</td>\n",
       "            <td>0.5</td>\n",
       "            <td>False</td>\n",
       "        </tr>\n",
       "    </tbody>\n",
       "</table>"
      ],
      "text/plain": [
       "+-----------+----------+------------+-------------+-----------+\n",
       "| attribute |   type   | span_label | span_weight | is_pinned |\n",
       "+-----------+----------+------------+-------------+-----------+\n",
       "|   Gender  | discrete |   Female   |     0.5     |   False   |\n",
       "|   Gender  | discrete |    Male    |     0.5     |   False   |\n",
       "+-----------+----------+------------+-------------+-----------+"
      ]
     },
     "execution_count": 1172,
     "metadata": {},
     "output_type": "execute_result"
    }
   ],
   "source": [
    "%%sql\n",
    "\n",
    "SELECT * FROM get_discrete_attribute('Gender');"
   ]
  },
  {
   "cell_type": "markdown",
   "id": "2616528f",
   "metadata": {},
   "source": [
    "## Hair Color Attribute"
   ]
  },
  {
   "cell_type": "markdown",
   "id": "ac18b266",
   "metadata": {},
   "source": [
    "### Delete Hair Color Attribute"
   ]
  },
  {
   "cell_type": "code",
   "execution_count": 1173,
   "id": "95097f16",
   "metadata": {
    "vscode": {
     "languageId": "sql"
    }
   },
   "outputs": [
    {
     "data": {
      "text/html": [
       "<span style=\"None\">Running query in &#x27;postgresql://notebook@localhost:5432/sahuagin&#x27;</span>"
      ],
      "text/plain": [
       "Running query in 'postgresql://notebook@localhost:5432/sahuagin'"
      ]
     },
     "metadata": {},
     "output_type": "display_data"
    },
    {
     "data": {
      "text/html": [
       "<table>\n",
       "    <thead>\n",
       "        <tr>\n",
       "        </tr>\n",
       "    </thead>\n",
       "    <tbody>\n",
       "    </tbody>\n",
       "</table>"
      ],
      "text/plain": [
       "++\n",
       "||\n",
       "++\n",
       "++"
      ]
     },
     "execution_count": 1173,
     "metadata": {},
     "output_type": "execute_result"
    }
   ],
   "source": [
    "%%sql\n",
    "\n",
    "CALL delete_discrete_attribute('Hair Color');"
   ]
  },
  {
   "cell_type": "markdown",
   "id": "6eee412e",
   "metadata": {},
   "source": [
    "### Add Hair Color Attribute"
   ]
  },
  {
   "cell_type": "code",
   "execution_count": 1174,
   "id": "807f7ba9",
   "metadata": {
    "vscode": {
     "languageId": "sql"
    }
   },
   "outputs": [
    {
     "data": {
      "text/html": [
       "<span style=\"None\">Running query in &#x27;postgresql://notebook@localhost:5432/sahuagin&#x27;</span>"
      ],
      "text/plain": [
       "Running query in 'postgresql://notebook@localhost:5432/sahuagin'"
      ]
     },
     "metadata": {},
     "output_type": "display_data"
    },
    {
     "data": {
      "text/html": [
       "<table>\n",
       "    <thead>\n",
       "        <tr>\n",
       "        </tr>\n",
       "    </thead>\n",
       "    <tbody>\n",
       "    </tbody>\n",
       "</table>"
      ],
      "text/plain": [
       "++\n",
       "||\n",
       "++\n",
       "++"
      ]
     },
     "execution_count": 1174,
     "metadata": {},
     "output_type": "execute_result"
    }
   ],
   "source": [
    "%%sql\n",
    "\n",
    "call add_discrete_attribute('Hair Color', '[\n",
    "    [\"Blonde\", 2], \n",
    "    [\"Brown\", 3],\n",
    "    [\"Golden\", 2],\n",
    "    [\"Auburn\", 2],\n",
    "    [\"Ginger\", 1],\n",
    "    [\"Sandy\", 2],\n",
    "    [\"Black\", 3],\n",
    "    [\"Gray\", 2]\n",
    "]');"
   ]
  },
  {
   "cell_type": "markdown",
   "id": "b85287e4",
   "metadata": {},
   "source": [
    "### View Hair Color Attribute"
   ]
  },
  {
   "cell_type": "code",
   "execution_count": 1175,
   "id": "21472e0f",
   "metadata": {
    "vscode": {
     "languageId": "sql"
    }
   },
   "outputs": [
    {
     "data": {
      "text/html": [
       "<span style=\"None\">Running query in &#x27;postgresql://notebook@localhost:5432/sahuagin&#x27;</span>"
      ],
      "text/plain": [
       "Running query in 'postgresql://notebook@localhost:5432/sahuagin'"
      ]
     },
     "metadata": {},
     "output_type": "display_data"
    },
    {
     "data": {
      "text/html": [
       "<span style=\"color: green\">8 rows affected.</span>"
      ],
      "text/plain": [
       "8 rows affected."
      ]
     },
     "metadata": {},
     "output_type": "display_data"
    },
    {
     "data": {
      "text/html": [
       "<table>\n",
       "    <thead>\n",
       "        <tr>\n",
       "            <th>attribute</th>\n",
       "            <th>type</th>\n",
       "            <th>span_label</th>\n",
       "            <th>span_weight</th>\n",
       "            <th>is_pinned</th>\n",
       "        </tr>\n",
       "    </thead>\n",
       "    <tbody>\n",
       "        <tr>\n",
       "            <td>Hair Color</td>\n",
       "            <td>discrete</td>\n",
       "            <td>Ginger</td>\n",
       "            <td>0.058823529411764705</td>\n",
       "            <td>False</td>\n",
       "        </tr>\n",
       "        <tr>\n",
       "            <td>Hair Color</td>\n",
       "            <td>discrete</td>\n",
       "            <td>Auburn</td>\n",
       "            <td>0.11764705882352941</td>\n",
       "            <td>False</td>\n",
       "        </tr>\n",
       "        <tr>\n",
       "            <td>Hair Color</td>\n",
       "            <td>discrete</td>\n",
       "            <td>Blonde</td>\n",
       "            <td>0.11764705882352941</td>\n",
       "            <td>False</td>\n",
       "        </tr>\n",
       "        <tr>\n",
       "            <td>Hair Color</td>\n",
       "            <td>discrete</td>\n",
       "            <td>Golden</td>\n",
       "            <td>0.11764705882352941</td>\n",
       "            <td>False</td>\n",
       "        </tr>\n",
       "        <tr>\n",
       "            <td>Hair Color</td>\n",
       "            <td>discrete</td>\n",
       "            <td>Gray</td>\n",
       "            <td>0.11764705882352941</td>\n",
       "            <td>False</td>\n",
       "        </tr>\n",
       "        <tr>\n",
       "            <td>Hair Color</td>\n",
       "            <td>discrete</td>\n",
       "            <td>Sandy</td>\n",
       "            <td>0.11764705882352941</td>\n",
       "            <td>False</td>\n",
       "        </tr>\n",
       "        <tr>\n",
       "            <td>Hair Color</td>\n",
       "            <td>discrete</td>\n",
       "            <td>Black</td>\n",
       "            <td>0.17647058823529413</td>\n",
       "            <td>False</td>\n",
       "        </tr>\n",
       "        <tr>\n",
       "            <td>Hair Color</td>\n",
       "            <td>discrete</td>\n",
       "            <td>Brown</td>\n",
       "            <td>0.17647058823529413</td>\n",
       "            <td>False</td>\n",
       "        </tr>\n",
       "    </tbody>\n",
       "</table>"
      ],
      "text/plain": [
       "+------------+----------+------------+----------------------+-----------+\n",
       "| attribute  |   type   | span_label |     span_weight      | is_pinned |\n",
       "+------------+----------+------------+----------------------+-----------+\n",
       "| Hair Color | discrete |   Ginger   | 0.058823529411764705 |   False   |\n",
       "| Hair Color | discrete |   Auburn   | 0.11764705882352941  |   False   |\n",
       "| Hair Color | discrete |   Blonde   | 0.11764705882352941  |   False   |\n",
       "| Hair Color | discrete |   Golden   | 0.11764705882352941  |   False   |\n",
       "| Hair Color | discrete |    Gray    | 0.11764705882352941  |   False   |\n",
       "| Hair Color | discrete |   Sandy    | 0.11764705882352941  |   False   |\n",
       "| Hair Color | discrete |   Black    | 0.17647058823529413  |   False   |\n",
       "| Hair Color | discrete |   Brown    | 0.17647058823529413  |   False   |\n",
       "+------------+----------+------------+----------------------+-----------+"
      ]
     },
     "execution_count": 1175,
     "metadata": {},
     "output_type": "execute_result"
    }
   ],
   "source": [
    "%%sql\n",
    "\n",
    "SELECT * FROM get_discrete_attribute('Hair Color');"
   ]
  },
  {
   "cell_type": "markdown",
   "id": "476196ce",
   "metadata": {},
   "source": [
    "## Height Attribute"
   ]
  },
  {
   "cell_type": "markdown",
   "id": "c6367071",
   "metadata": {},
   "source": [
    "### Delete Height Attribute"
   ]
  },
  {
   "cell_type": "code",
   "execution_count": 1176,
   "id": "4af06210",
   "metadata": {
    "vscode": {
     "languageId": "sql"
    }
   },
   "outputs": [
    {
     "data": {
      "text/html": [
       "<span style=\"None\">Running query in &#x27;postgresql://notebook@localhost:5432/sahuagin&#x27;</span>"
      ],
      "text/plain": [
       "Running query in 'postgresql://notebook@localhost:5432/sahuagin'"
      ]
     },
     "metadata": {},
     "output_type": "display_data"
    },
    {
     "data": {
      "text/html": [
       "<table>\n",
       "    <thead>\n",
       "        <tr>\n",
       "        </tr>\n",
       "    </thead>\n",
       "    <tbody>\n",
       "    </tbody>\n",
       "</table>"
      ],
      "text/plain": [
       "++\n",
       "||\n",
       "++\n",
       "++"
      ]
     },
     "execution_count": 1176,
     "metadata": {},
     "output_type": "execute_result"
    }
   ],
   "source": [
    "%%sql\n",
    "\n",
    "CALL delete_continuous_attribute('Height');"
   ]
  },
  {
   "cell_type": "markdown",
   "id": "65d4a41f",
   "metadata": {},
   "source": [
    "### Add Height Attribute"
   ]
  },
  {
   "cell_type": "code",
   "execution_count": 1177,
   "id": "cde61298",
   "metadata": {
    "vscode": {
     "languageId": "sql"
    }
   },
   "outputs": [
    {
     "data": {
      "text/html": [
       "<span style=\"None\">Running query in &#x27;postgresql://notebook@localhost:5432/sahuagin&#x27;</span>"
      ],
      "text/plain": [
       "Running query in 'postgresql://notebook@localhost:5432/sahuagin'"
      ]
     },
     "metadata": {},
     "output_type": "display_data"
    },
    {
     "data": {
      "text/html": [
       "<table>\n",
       "    <thead>\n",
       "        <tr>\n",
       "        </tr>\n",
       "    </thead>\n",
       "    <tbody>\n",
       "    </tbody>\n",
       "</table>"
      ],
      "text/plain": [
       "++\n",
       "||\n",
       "++\n",
       "++"
      ]
     },
     "execution_count": 1177,
     "metadata": {},
     "output_type": "execute_result"
    }
   ],
   "source": [
    "%%sql\n",
    "\n",
    "call add_continuous_attribute('Height', 0, 68, 96, 32, 0, 4, 'in.', '[\n",
    "    [\"Short\", 60],\n",
    "    [\"Average\", 74],\n",
    "    [\"Tall\", 96]\n",
    "]');"
   ]
  },
  {
   "cell_type": "markdown",
   "id": "d18023fd",
   "metadata": {},
   "source": [
    "### View Height Attribute"
   ]
  },
  {
   "cell_type": "code",
   "execution_count": 1178,
   "id": "2430bc78",
   "metadata": {
    "vscode": {
     "languageId": "sql"
    }
   },
   "outputs": [
    {
     "data": {
      "text/html": [
       "<span style=\"None\">Running query in &#x27;postgresql://notebook@localhost:5432/sahuagin&#x27;</span>"
      ],
      "text/plain": [
       "Running query in 'postgresql://notebook@localhost:5432/sahuagin'"
      ]
     },
     "metadata": {},
     "output_type": "display_data"
    },
    {
     "data": {
      "text/html": [
       "<span style=\"color: green\">3 rows affected.</span>"
      ],
      "text/plain": [
       "3 rows affected."
      ]
     },
     "metadata": {},
     "output_type": "display_data"
    },
    {
     "data": {
      "text/html": [
       "<table>\n",
       "    <thead>\n",
       "        <tr>\n",
       "            <th>name</th>\n",
       "            <th>type</th>\n",
       "            <th>min</th>\n",
       "            <th>mode</th>\n",
       "            <th>max</th>\n",
       "            <th>concentration</th>\n",
       "            <th>skew</th>\n",
       "            <th>units</th>\n",
       "            <th>decimals</th>\n",
       "            <th>span_label</th>\n",
       "            <th>span_min</th>\n",
       "            <th>span_max</th>\n",
       "        </tr>\n",
       "    </thead>\n",
       "    <tbody>\n",
       "        <tr>\n",
       "            <td>Height</td>\n",
       "            <td>continuous</td>\n",
       "            <td>0.0</td>\n",
       "            <td>68.0</td>\n",
       "            <td>96.0</td>\n",
       "            <td>32.0</td>\n",
       "            <td>0.0</td>\n",
       "            <td>in.</td>\n",
       "            <td>4</td>\n",
       "            <td>Average</td>\n",
       "            <td>60.0</td>\n",
       "            <td>74.0</td>\n",
       "        </tr>\n",
       "        <tr>\n",
       "            <td>Height</td>\n",
       "            <td>continuous</td>\n",
       "            <td>0.0</td>\n",
       "            <td>68.0</td>\n",
       "            <td>96.0</td>\n",
       "            <td>32.0</td>\n",
       "            <td>0.0</td>\n",
       "            <td>in.</td>\n",
       "            <td>4</td>\n",
       "            <td>Short</td>\n",
       "            <td>0.0</td>\n",
       "            <td>60.0</td>\n",
       "        </tr>\n",
       "        <tr>\n",
       "            <td>Height</td>\n",
       "            <td>continuous</td>\n",
       "            <td>0.0</td>\n",
       "            <td>68.0</td>\n",
       "            <td>96.0</td>\n",
       "            <td>32.0</td>\n",
       "            <td>0.0</td>\n",
       "            <td>in.</td>\n",
       "            <td>4</td>\n",
       "            <td>Tall</td>\n",
       "            <td>74.0</td>\n",
       "            <td>96.0</td>\n",
       "        </tr>\n",
       "    </tbody>\n",
       "</table>"
      ],
      "text/plain": [
       "+--------+------------+-----+------+------+---------------+------+-------+----------+------------+----------+----------+\n",
       "|  name  |    type    | min | mode | max  | concentration | skew | units | decimals | span_label | span_min | span_max |\n",
       "+--------+------------+-----+------+------+---------------+------+-------+----------+------------+----------+----------+\n",
       "| Height | continuous | 0.0 | 68.0 | 96.0 |      32.0     | 0.0  |  in.  |    4     |  Average   |   60.0   |   74.0   |\n",
       "| Height | continuous | 0.0 | 68.0 | 96.0 |      32.0     | 0.0  |  in.  |    4     |   Short    |   0.0    |   60.0   |\n",
       "| Height | continuous | 0.0 | 68.0 | 96.0 |      32.0     | 0.0  |  in.  |    4     |    Tall    |   74.0   |   96.0   |\n",
       "+--------+------------+-----+------+------+---------------+------+-------+----------+------------+----------+----------+"
      ]
     },
     "execution_count": 1178,
     "metadata": {},
     "output_type": "execute_result"
    }
   ],
   "source": [
    "%%sql\n",
    "\n",
    "SELECT * FROM get_continuous_attribute('Height');"
   ]
  },
  {
   "cell_type": "markdown",
   "id": "78191931",
   "metadata": {},
   "source": [
    "## Human Variant"
   ]
  },
  {
   "cell_type": "markdown",
   "id": "ac4ef6c8",
   "metadata": {},
   "source": [
    "### Delete"
   ]
  },
  {
   "cell_type": "code",
   "execution_count": 1179,
   "id": "8b1380ff",
   "metadata": {
    "vscode": {
     "languageId": "sql"
    }
   },
   "outputs": [
    {
     "data": {
      "text/html": [
       "<span style=\"None\">Running query in &#x27;postgresql://notebook@localhost:5432/sahuagin&#x27;</span>"
      ],
      "text/plain": [
       "Running query in 'postgresql://notebook@localhost:5432/sahuagin'"
      ]
     },
     "metadata": {},
     "output_type": "display_data"
    },
    {
     "data": {
      "text/html": [
       "<table>\n",
       "    <thead>\n",
       "        <tr>\n",
       "        </tr>\n",
       "    </thead>\n",
       "    <tbody>\n",
       "    </tbody>\n",
       "</table>"
      ],
      "text/plain": [
       "++\n",
       "||\n",
       "++\n",
       "++"
      ]
     },
     "execution_count": 1179,
     "metadata": {},
     "output_type": "execute_result"
    }
   ],
   "source": [
    "%%sql\n",
    "\n",
    "CALL delete_variant('Human');"
   ]
  },
  {
   "cell_type": "markdown",
   "id": "43916031",
   "metadata": {},
   "source": [
    "### Add"
   ]
  },
  {
   "cell_type": "code",
   "execution_count": 1180,
   "id": "e1b00701",
   "metadata": {
    "vscode": {
     "languageId": "sql"
    }
   },
   "outputs": [
    {
     "data": {
      "text/html": [
       "<span style=\"None\">Running query in &#x27;postgresql://notebook@localhost:5432/sahuagin&#x27;</span>"
      ],
      "text/plain": [
       "Running query in 'postgresql://notebook@localhost:5432/sahuagin'"
      ]
     },
     "metadata": {},
     "output_type": "display_data"
    },
    {
     "data": {
      "text/html": [
       "<table>\n",
       "    <thead>\n",
       "        <tr>\n",
       "        </tr>\n",
       "    </thead>\n",
       "    <tbody>\n",
       "    </tbody>\n",
       "</table>"
      ],
      "text/plain": [
       "++\n",
       "||\n",
       "++\n",
       "++"
      ]
     },
     "execution_count": 1180,
     "metadata": {},
     "output_type": "execute_result"
    }
   ],
   "source": [
    "%%sql\n",
    "\n",
    "CALL add_variant('Human', '[\n",
    "    \"Gender\",\n",
    "    \"Hair Color\",\n",
    "    \"Height\"\n",
    "]');"
   ]
  },
  {
   "cell_type": "markdown",
   "id": "e6ba73cb",
   "metadata": {},
   "source": [
    "### Get"
   ]
  },
  {
   "cell_type": "code",
   "execution_count": 1181,
   "id": "a16f7288",
   "metadata": {
    "vscode": {
     "languageId": "sql"
    }
   },
   "outputs": [
    {
     "data": {
      "text/html": [
       "<span style=\"None\">Running query in &#x27;postgresql://notebook@localhost:5432/sahuagin&#x27;</span>"
      ],
      "text/plain": [
       "Running query in 'postgresql://notebook@localhost:5432/sahuagin'"
      ]
     },
     "metadata": {},
     "output_type": "display_data"
    },
    {
     "data": {
      "text/html": [
       "<span style=\"color: green\">3 rows affected.</span>"
      ],
      "text/plain": [
       "3 rows affected."
      ]
     },
     "metadata": {},
     "output_type": "display_data"
    },
    {
     "data": {
      "text/html": [
       "<table>\n",
       "    <thead>\n",
       "        <tr>\n",
       "            <th>index</th>\n",
       "            <th>address</th>\n",
       "            <th>activates</th>\n",
       "            <th>effected_by</th>\n",
       "        </tr>\n",
       "    </thead>\n",
       "    <tbody>\n",
       "        <tr>\n",
       "            <td>1</td>\n",
       "            <td>[[\"Gender\"]]</td>\n",
       "            <td>[]</td>\n",
       "            <td>[]</td>\n",
       "        </tr>\n",
       "        <tr>\n",
       "            <td>2</td>\n",
       "            <td>[[\"Hair Color\"]]</td>\n",
       "            <td>[]</td>\n",
       "            <td>[]</td>\n",
       "        </tr>\n",
       "        <tr>\n",
       "            <td>3</td>\n",
       "            <td>[[\"Height\"]]</td>\n",
       "            <td>[]</td>\n",
       "            <td>[]</td>\n",
       "        </tr>\n",
       "    </tbody>\n",
       "</table>"
      ],
      "text/plain": [
       "+-------+------------------+-----------+-------------+\n",
       "| index |     address      | activates | effected_by |\n",
       "+-------+------------------+-----------+-------------+\n",
       "|   1   |   [[\"Gender\"]]   |     []    |      []     |\n",
       "|   2   | [[\"Hair Color\"]] |     []    |      []     |\n",
       "|   3   |   [[\"Height\"]]   |     []    |      []     |\n",
       "+-------+------------------+-----------+-------------+"
      ]
     },
     "execution_count": 1181,
     "metadata": {},
     "output_type": "execute_result"
    }
   ],
   "source": [
    "%%sql\n",
    "\n",
    "SELECT * FROM get_variant_page('Human', 1, 1000);"
   ]
  },
  {
   "cell_type": "markdown",
   "id": "0413b0f5",
   "metadata": {},
   "source": [
    "## Generate a Group of Humans"
   ]
  },
  {
   "cell_type": "markdown",
   "id": "760da486",
   "metadata": {},
   "source": [
    "### Delete"
   ]
  },
  {
   "cell_type": "code",
   "execution_count": 1182,
   "id": "16b7250b",
   "metadata": {
    "vscode": {
     "languageId": "sql"
    }
   },
   "outputs": [
    {
     "data": {
      "text/html": [
       "<span style=\"None\">Running query in &#x27;postgresql://notebook@localhost:5432/sahuagin&#x27;</span>"
      ],
      "text/plain": [
       "Running query in 'postgresql://notebook@localhost:5432/sahuagin'"
      ]
     },
     "metadata": {},
     "output_type": "display_data"
    },
    {
     "data": {
      "text/html": [
       "<table>\n",
       "    <thead>\n",
       "        <tr>\n",
       "        </tr>\n",
       "    </thead>\n",
       "    <tbody>\n",
       "    </tbody>\n",
       "</table>"
      ],
      "text/plain": [
       "++\n",
       "||\n",
       "++\n",
       "++"
      ]
     },
     "execution_count": 1182,
     "metadata": {},
     "output_type": "execute_result"
    }
   ],
   "source": [
    "%%sql\n",
    "\n",
    "CALL delete_entity_group('Test Humans 1', true);"
   ]
  },
  {
   "cell_type": "markdown",
   "id": "d534ce0b",
   "metadata": {},
   "source": [
    "### Create"
   ]
  },
  {
   "cell_type": "code",
   "execution_count": 1183,
   "id": "cc9d3115",
   "metadata": {
    "vscode": {
     "languageId": "sql"
    }
   },
   "outputs": [
    {
     "data": {
      "text/html": [
       "<span style=\"None\">Running query in &#x27;postgresql://notebook@localhost:5432/sahuagin&#x27;</span>"
      ],
      "text/plain": [
       "Running query in 'postgresql://notebook@localhost:5432/sahuagin'"
      ]
     },
     "metadata": {},
     "output_type": "display_data"
    },
    {
     "data": {
      "text/html": [
       "<table>\n",
       "    <thead>\n",
       "        <tr>\n",
       "        </tr>\n",
       "    </thead>\n",
       "    <tbody>\n",
       "    </tbody>\n",
       "</table>"
      ],
      "text/plain": [
       "++\n",
       "||\n",
       "++\n",
       "++"
      ]
     },
     "execution_count": 1183,
     "metadata": {},
     "output_type": "execute_result"
    }
   ],
   "source": [
    "%%sql\n",
    "\n",
    "CALL generate_entity_group('Human', 'Test Humans 1', 'Test Human %s', 10);"
   ]
  },
  {
   "cell_type": "markdown",
   "id": "924e9781",
   "metadata": {},
   "source": [
    "### View"
   ]
  },
  {
   "cell_type": "code",
   "execution_count": 1184,
   "id": "2d557637",
   "metadata": {},
   "outputs": [
    {
     "data": {
      "text/html": [
       "<span style=\"None\">Running query in &#x27;postgresql://notebook@localhost:5432/sahuagin&#x27;</span>"
      ],
      "text/plain": [
       "Running query in 'postgresql://notebook@localhost:5432/sahuagin'"
      ]
     },
     "metadata": {},
     "output_type": "display_data"
    },
    {
     "data": {
      "text/html": [
       "<span style=\"color: green\">1 rows affected.</span>"
      ],
      "text/plain": [
       "1 rows affected."
      ]
     },
     "metadata": {},
     "output_type": "display_data"
    },
    {
     "name": "stdout",
     "output_type": "stream",
     "text": [
      "{\n",
      "    \"Test Human 1\": {\n",
      "        \"[[\\\"Gender\\\"]]\": {\n",
      "            \"span\": \"Male\",\n",
      "            \"activates\": [],\n",
      "            \"effected_by\": []\n",
      "        },\n",
      "        \"[[\\\"Height\\\"]]\": {\n",
      "            \"activates\": [],\n",
      "            \"effected_by\": [],\n",
      "            \"numeric_value\": 59.5376\n",
      "        },\n",
      "        \"[[\\\"Hair Color\\\"]]\": {\n",
      "            \"span\": \"Blonde\",\n",
      "            \"activates\": [],\n",
      "            \"effected_by\": []\n",
      "        }\n",
      "    },\n",
      "    \"Test Human 2\": {\n",
      "        \"[[\\\"Gender\\\"]]\": {\n",
      "            \"span\": \"Female\",\n",
      "            \"activates\": [],\n",
      "            \"effected_by\": []\n",
      "        },\n",
      "        \"[[\\\"Height\\\"]]\": {\n",
      "            \"activates\": [],\n",
      "            \"effected_by\": [],\n",
      "            \"numeric_value\": 57.3804\n",
      "        },\n",
      "        \"[[\\\"Hair Color\\\"]]\": {\n",
      "            \"span\": \"Auburn\",\n",
      "            \"activates\": [],\n",
      "            \"effected_by\": []\n",
      "        }\n",
      "    },\n",
      "    \"Test Human 3\": {\n",
      "        \"[[\\\"Gender\\\"]]\": {\n",
      "            \"span\": \"Male\",\n",
      "            \"activates\": [],\n",
      "            \"effected_by\": []\n",
      "        },\n",
      "        \"[[\\\"Height\\\"]]\": {\n",
      "            \"activates\": [],\n",
      "            \"effected_by\": [],\n",
      "            \"numeric_value\": 78.7738\n",
      "        },\n",
      "        \"[[\\\"Hair Color\\\"]]\": {\n",
      "            \"span\": \"Auburn\",\n",
      "            \"activates\": [],\n",
      "            \"effected_by\": []\n",
      "        }\n",
      "    },\n",
      "    \"Test Human 4\": {\n",
      "        \"[[\\\"Gender\\\"]]\": {\n",
      "            \"span\": \"Female\",\n",
      "            \"activates\": [],\n",
      "            \"effected_by\": []\n",
      "        },\n",
      "        \"[[\\\"Height\\\"]]\": {\n",
      "            \"activates\": [],\n",
      "            \"effected_by\": [],\n",
      "            \"numeric_value\": 75.1525\n",
      "        },\n",
      "        \"[[\\\"Hair Color\\\"]]\": {\n",
      "            \"span\": \"Brown\",\n",
      "            \"activates\": [],\n",
      "            \"effected_by\": []\n",
      "        }\n",
      "    },\n",
      "    \"Test Human 5\": {\n",
      "        \"[[\\\"Gender\\\"]]\": {\n",
      "            \"span\": \"Male\",\n",
      "            \"activates\": [],\n",
      "            \"effected_by\": []\n",
      "        },\n",
      "        \"[[\\\"Height\\\"]]\": {\n",
      "            \"activates\": [],\n",
      "            \"effected_by\": [],\n",
      "            \"numeric_value\": 74.2813\n",
      "        },\n",
      "        \"[[\\\"Hair Color\\\"]]\": {\n",
      "            \"span\": \"Brown\",\n",
      "            \"activates\": [],\n",
      "            \"effected_by\": []\n",
      "        }\n",
      "    },\n",
      "    \"Test Human 6\": {\n",
      "        \"[[\\\"Gender\\\"]]\": {\n",
      "            \"span\": \"Female\",\n",
      "            \"activates\": [],\n",
      "            \"effected_by\": []\n",
      "        },\n",
      "        \"[[\\\"Height\\\"]]\": {\n",
      "            \"activates\": [],\n",
      "            \"effected_by\": [],\n",
      "            \"numeric_value\": 76.0483\n",
      "        },\n",
      "        \"[[\\\"Hair Color\\\"]]\": {\n",
      "            \"span\": \"Black\",\n",
      "            \"activates\": [],\n",
      "            \"effected_by\": []\n",
      "        }\n",
      "    },\n",
      "    \"Test Human 7\": {\n",
      "        \"[[\\\"Gender\\\"]]\": {\n",
      "            \"span\": \"Female\",\n",
      "            \"activates\": [],\n",
      "            \"effected_by\": []\n",
      "        },\n",
      "        \"[[\\\"Height\\\"]]\": {\n",
      "            \"activates\": [],\n",
      "            \"effected_by\": [],\n",
      "            \"numeric_value\": 64.3709\n",
      "        },\n",
      "        \"[[\\\"Hair Color\\\"]]\": {\n",
      "            \"span\": \"Auburn\",\n",
      "            \"activates\": [],\n",
      "            \"effected_by\": []\n",
      "        }\n",
      "    },\n",
      "    \"Test Human 8\": {\n",
      "        \"[[\\\"Gender\\\"]]\": {\n",
      "            \"span\": \"Male\",\n",
      "            \"activates\": [],\n",
      "            \"effected_by\": []\n",
      "        },\n",
      "        \"[[\\\"Height\\\"]]\": {\n",
      "            \"activates\": [],\n",
      "            \"effected_by\": [],\n",
      "            \"numeric_value\": 66.8094\n",
      "        },\n",
      "        \"[[\\\"Hair Color\\\"]]\": {\n",
      "            \"span\": \"Auburn\",\n",
      "            \"activates\": [],\n",
      "            \"effected_by\": []\n",
      "        }\n",
      "    },\n",
      "    \"Test Human 9\": {\n",
      "        \"[[\\\"Gender\\\"]]\": {\n",
      "            \"span\": \"Female\",\n",
      "            \"activates\": [],\n",
      "            \"effected_by\": []\n",
      "        },\n",
      "        \"[[\\\"Height\\\"]]\": {\n",
      "            \"activates\": [],\n",
      "            \"effected_by\": [],\n",
      "            \"numeric_value\": 72.8764\n",
      "        },\n",
      "        \"[[\\\"Hair Color\\\"]]\": {\n",
      "            \"span\": \"Gray\",\n",
      "            \"activates\": [],\n",
      "            \"effected_by\": []\n",
      "        }\n",
      "    },\n",
      "    \"Test Human 10\": {\n",
      "        \"[[\\\"Gender\\\"]]\": {\n",
      "            \"span\": \"Male\",\n",
      "            \"activates\": [],\n",
      "            \"effected_by\": []\n",
      "        },\n",
      "        \"[[\\\"Height\\\"]]\": {\n",
      "            \"activates\": [],\n",
      "            \"effected_by\": [],\n",
      "            \"numeric_value\": 59.5955\n",
      "        },\n",
      "        \"[[\\\"Hair Color\\\"]]\": {\n",
      "            \"span\": \"Black\",\n",
      "            \"activates\": [],\n",
      "            \"effected_by\": []\n",
      "        }\n",
      "    }\n",
      "}\n"
     ]
    }
   ],
   "source": [
    "import json\n",
    "import pandas as pd\n",
    "from IPython.display import display, JSON\n",
    "\n",
    "result = %sql SELECT get_entity_group_at_time('Test Humans 1', 0)\n",
    "df = result.DataFrame()\n",
    "json_data = json.loads(df.iloc[0, 0])\n",
    "print(json.dumps(json_data, indent=4))"
   ]
  }
 ],
 "metadata": {
  "kernelspec": {
   "display_name": "jupyter-env",
   "language": "python",
   "name": "python3"
  },
  "language_info": {
   "codemirror_mode": {
    "name": "ipython",
    "version": 3
   },
   "file_extension": ".py",
   "mimetype": "text/x-python",
   "name": "python",
   "nbconvert_exporter": "python",
   "pygments_lexer": "ipython3",
   "version": "3.11.11"
  }
 },
 "nbformat": 4,
 "nbformat_minor": 5
}
